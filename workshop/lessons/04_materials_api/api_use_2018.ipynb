{
 "cells": [
  {
   "cell_type": "markdown",
   "metadata": {},
   "source": [
    "# The Materials API\n",
    "\n",
    "### Presented by: John Dagdelen\n",
    "### Assisted by: Rachel Woods-Robinson"
   ]
  },
  {
   "cell_type": "markdown",
   "metadata": {},
   "source": [
    "In this lesson, we will learn how to interact with the Materials Project database and go through some practical examples of combining our own code with MP data to uncover new materials insights. We will do this through the Materials API (MAPI), which is an open API for accessing Materials Project data based on [Representational state transfer (REST)](https://en.wikipedia.org/wiki/Representational_state_transfer) principles.\n",
    "\n",
    "In this module, we cover:\n",
    "\n",
    "* The Materials Project API (MAPI).\n",
    "* Getting your Materials Project API key.\n",
    "* The `MPRester.query` method for accessing the MP database.\n",
    "* A hands-on example of using the API and pymatgen to screen the database for interesting materials.\n",
    "* The [mapidoc](https://github.com/materialsproject/mapidoc) (Materials Project documentation) repository."
   ]
  },
  {
   "cell_type": "markdown",
   "metadata": {},
   "source": [
    "***\n",
    "## Section 0: Getting an API key\n",
    "\n",
    "The first step to getting started with the API is to get an API key. API keys are unique identifiers that are used to track and control how the API is being used. \n",
    "\n",
    "To get yours, go to the dashboard page on the Materials Project website (https://materialsproject.org/dashboard). Click the 'Generate API key' button and copy the string under the button; this is your API key.\n",
    "\n",
    "Paste your key in the line below, which will assign it the environment variable name MAPI_KEY."
   ]
  },
  {
   "cell_type": "code",
   "execution_count": null,
   "metadata": {
    "scrolled": false
   },
   "outputs": [],
   "source": [
    "!pmg config --add PMG_MAPI_KEY <your API key>"
   ]
  },
  {
   "cell_type": "markdown",
   "metadata": {},
   "source": [
    "***\n",
    "## Section 1: Basic Queries In the Web Browser\n",
    "\n",
    "To request data from the Materials Project, you will need to make requests to our API. To do this, you could simply make a GET request through your web browser, providing your API key as an argument. \n",
    "\n",
    "For example, \n",
    "\n",
    "``` https://www.materialsproject.org/rest/v2/materials/mp-1234/vasp?API_KEY=<your api key> ```\n",
    "\n",
    "returns the following JSON document:\n",
    "```\n",
    "{\"response\": [{\"energy\": -26.94573468, \"energy_per_atom\": -4.49095578, \"volume\": 116.92375473740876, \"formation_energy_per_atom\": -0.4835973866666663, \"nsites\": 6, \"unit_cell_formula\": {\"Al\": 4.0, \"Lu\": 2.0}, \"pretty_formula\": \"LuAl2\", \"is_hubbard\": false, \"elements\": [\"Al\", \"Lu\"], \"nelements\": 2, \"e_above_hull\": 0, \"hubbards\": {}, \"is_compatible\": true, \"spacegroup\": {\"source\": \"spglib\", \"symbol\": \"Fd-3m\", \"number\": 227, \"point_group\": \"m-3m\", \"crystal_system\": \"cubic\", \"hall\": \"F 4d 2 3 -1d\"}, \"task_ids\": [\"mp-1234\", \"mp-925833\", \"mp-940234\", \"mp-940654\"], \"band_gap\": 0.0, \"density\": 6.502482433523648, \"icsd_id\": null, \"icsd_ids\": [608375, 57958, 608376, 608372, 608371, 608370], \"cif\": \"# generated using pymatgen\\ndata_LuAl2\\n_symmetry_space_group_name_H-M   'P 1'\\n_cell_length_a   5.48873905\\n_cell_length_b   5.48873905\\n_cell_length_c   5.48873905\\n_cell_angle_alpha   60.00000005\\n_cell_angle_beta   60.00000003\\n_cell_angle_gamma   60.00000007\\n_symmetry_Int_Tables_number   1\\n_chemical_formula_structural   LuAl2\\n_chemical_formula_sum   'Lu2 Al4'\\n_cell_volume   116.92375474\\n_cell_formula_units_Z   2\\nloop_\\n _symmetry_equiv_pos_site_id\\n _symmetry_equiv_pos_as_xyz\\n  1  'x, y, z'\\nloop_\\n _atom_site_type_symbol\\n _atom_site_label\\n _atom_site_symmetry_multiplicity\\n _atom_site_fract_x\\n _atom_site_fract_y\\n _atom_site_fract_z\\n _atom_site_occupancy\\n  Al  Al1  1  0.500000  0.500000  0.500000  1\\n  Al  Al2  1  0.500000  0.500000  0.000000  1\\n  Al  Al3  1  0.000000  0.500000  0.500000  1\\n  Al  Al4  1  0.500000  0.000000  0.500000  1\\n  Lu  Lu5  1  0.875000  0.875000  0.875000  1\\n  Lu  Lu6  1  0.125000  0.125000  0.125000  1\\n\", \"total_magnetization\": 0.0012519, \"material_id\": \"mp-1234\", \"oxide_type\": \"None\", \"tags\": [\"High pressure experimental phase\", \"Aluminium lutetium (2/1)\"], \"elasticity\": null, \"full_formula\": \"Lu2Al4\"}], \"valid_response\": true, \"created_at\": \"2018-08-08T18:52:53.042666\", \"version\": {\"db\": \"3.0.0\", \"pymatgen\": \"2018.7.23\", \"rest\": \"2.0\"}, \"copyright\": \"Materials Project, 2018\"}\n",
    "```\n"
   ]
  },
  {
   "cell_type": "markdown",
   "metadata": {},
   "source": [
    "For obvious reasons, typing these kinds of urls into your web browser is not an ideal way to request MP data. Instead, we should try to access the API programatically with python. Let's do the same request that we did above using Python's *requests* library. "
   ]
  },
  {
   "cell_type": "code",
   "execution_count": 2,
   "metadata": {},
   "outputs": [
    {
     "data": {
      "text/plain": [
       "'{\"response\": [{\"energy\": -26.94573468, \"energy_per_atom\": -4.49095578, \"volume\": 116.92375473740876, \"formation_energy_per_atom\": -0.4835973866666663, \"nsites\": 6, \"unit_cell_formula\": {\"Al\": 4.0, \"Lu\": 2.0}, \"pretty_formula\": \"LuAl2\", \"is_hubbard\": false, \"elements\": [\"Al\", \"Lu\"], \"nelements\": 2, \"e_above_hull\": 0, \"hubbards\": {}, \"is_compatible\": true, \"spacegroup\": {\"source\": \"spglib\", \"symbol\": \"Fd-3m\", \"number\": 227, \"point_group\": \"m-3m\", \"crystal_system\": \"cubic\", \"hall\": \"F 4d 2 3 -1d\"}, \"task_ids\": [\"mp-1234\", \"mp-925833\", \"mp-940234\", \"mp-940654\"], \"band_gap\": 0.0, \"density\": 6.502482433523648, \"icsd_id\": null, \"icsd_ids\": [608375, 57958, 608376, 608372, 608371, 608370], \"cif\": \"# generated using pymatgen\\\\ndata_LuAl2\\\\n_symmetry_space_group_name_H-M   \\'P 1\\'\\\\n_cell_length_a   5.48873905\\\\n_cell_length_b   5.48873905\\\\n_cell_length_c   5.48873905\\\\n_cell_angle_alpha   60.00000005\\\\n_cell_angle_beta   60.00000003\\\\n_cell_angle_gamma   60.00000007\\\\n_symmetry_Int_Tables_number   1\\\\n_chemical_formula_structural   LuAl2\\\\n_chemical_formula_sum   \\'Lu2 Al4\\'\\\\n_cell_volume   116.92375474\\\\n_cell_formula_units_Z   2\\\\nloop_\\\\n _symmetry_equiv_pos_site_id\\\\n _symmetry_equiv_pos_as_xyz\\\\n  1  \\'x, y, z\\'\\\\nloop_\\\\n _atom_site_type_symbol\\\\n _atom_site_label\\\\n _atom_site_symmetry_multiplicity\\\\n _atom_site_fract_x\\\\n _atom_site_fract_y\\\\n _atom_site_fract_z\\\\n _atom_site_occupancy\\\\n  Al  Al1  1  0.500000  0.500000  0.500000  1\\\\n  Al  Al2  1  0.500000  0.500000  0.000000  1\\\\n  Al  Al3  1  0.000000  0.500000  0.500000  1\\\\n  Al  Al4  1  0.500000  0.000000  0.500000  1\\\\n  Lu  Lu5  1  0.875000  0.875000  0.875000  1\\\\n  Lu  Lu6  1  0.125000  0.125000  0.125000  1\\\\n\", \"total_magnetization\": 0.0012519, \"material_id\": \"mp-1234\", \"oxide_type\": \"None\", \"tags\": [\"High pressure experimental phase\", \"Aluminium lutetium (2/1)\"], \"elasticity\": null, \"full_formula\": \"Lu2Al4\"}], \"valid_response\": true, \"created_at\": \"2018-08-09T13:42:42.634311\", \"version\": {\"db\": \"3.0.0\", \"pymatgen\": \"2018.7.23\", \"rest\": \"2.0\"}, \"copyright\": \"Materials Project, 2018\"}'"
      ]
     },
     "execution_count": 2,
     "metadata": {},
     "output_type": "execute_result"
    }
   ],
   "source": [
    "import requests\n",
    "\n",
    "response = requests.get(\"https://www.materialsproject.org/rest/v2/materials/mp-1234/vasp\", \n",
    "                        {\"API_KEY\": \"<your API key>\"})\n",
    "\n",
    "response.text"
   ]
  },
  {
   "cell_type": "markdown",
   "metadata": {},
   "source": [
    "***\n",
    "## Section 2: The MPRester\n",
    "\n",
    "In this section we will:\n",
    "\n",
    "* Open the pymatgen.MPRester web documentation.\n",
    "* Create our first instance of an MPRester object.\n",
    "* Get our feet wet with calling a few of the MPRester's \"specialty\" methods.\n",
    "* Introduce the powerful `query` method. \n"
   ]
  },
  {
   "cell_type": "markdown",
   "metadata": {},
   "source": [
    "#### Background and Documentation\n",
    "\n",
    "REST is a widely used type of standardization that allows different computer systems to work together. In RESTful systems, information is organized into resources, each of which is uniquely identified via a uniform resource identifier (URI). Since MAPI is a RESTful system, users can interact with the MP database regardless of their computer system or programming language (as long as it supports basic http requests.)\n",
    "\n",
    "To facilitate researchers in using our API, we implemented a convenient wrapper for it in the Python Materials Genomics (pymatgen) library called the `MPRester`. You can find the relevant pymatgen documentation for it [here](http://pymatgen.org/pymatgen.ext.matproj.html?highlight=mprester#pymatgen.ext.matproj.MPRester).\n"
   ]
  },
  {
   "cell_type": "markdown",
   "metadata": {},
   "source": [
    "#### Starting up an instance of the MPRester\n",
    "\n",
    "We'll create an instance of the MPRester object using our API key as an input argument. (Note for power-users: If you add \"PMG_MAPI_KEY: [your API key]\" to your .pmgrc.yaml file, you can skip filling in this argument in the future.) \n"
   ]
  },
  {
   "cell_type": "code",
   "execution_count": 2,
   "metadata": {},
   "outputs": [],
   "source": [
    "from pymatgen import MPRester\n",
    "\n",
    "mpr = MPRester() # object for connecting to MP REST interface\n"
   ]
  },
  {
   "cell_type": "code",
   "execution_count": 3,
   "metadata": {},
   "outputs": [
    {
     "name": "stdout",
     "output_type": "stream",
     "text": [
      "('energy', 'energy_per_atom', 'volume', 'formation_energy_per_atom', 'nsites', 'unit_cell_formula', 'pretty_formula', 'is_hubbard', 'elements', 'nelements', 'e_above_hull', 'hubbards', 'is_compatible', 'spacegroup', 'task_ids', 'band_gap', 'density', 'icsd_id', 'icsd_ids', 'cif', 'total_magnetization', 'material_id', 'oxide_type', 'tags', 'elasticity')\n"
     ]
    }
   ],
   "source": [
    "print(mpr.supported_properties)"
   ]
  },
  {
   "cell_type": "markdown",
   "metadata": {},
   "source": [
    "However, we recommend that you use the “with” context manager to ensure that sessions are properly closed after usage:"
   ]
  },
  {
   "cell_type": "code",
   "execution_count": 4,
   "metadata": {
    "scrolled": true
   },
   "outputs": [
    {
     "name": "stdout",
     "output_type": "stream",
     "text": [
      "('energy', 'energy_per_atom', 'volume', 'formation_energy_per_atom', 'nsites', 'unit_cell_formula', 'pretty_formula', 'is_hubbard', 'elements', 'nelements', 'e_above_hull', 'hubbards', 'is_compatible', 'spacegroup', 'task_ids', 'band_gap', 'density', 'icsd_id', 'icsd_ids', 'cif', 'total_magnetization', 'material_id', 'oxide_type', 'tags', 'elasticity')\n"
     ]
    }
   ],
   "source": [
    "with MPRester() as mpr: # object for connecting to MP REST interface\n",
    "    print(mpr.supported_properties)"
   ]
  },
  {
   "cell_type": "markdown",
   "metadata": {},
   "source": [
    "### Excercise:\n",
    "Try out one or two methods of the MPRester such as `mpr.get_substrates` or `mpr.get_structure_by_material_id` by providing a *material id* such as 'mp-1234'."
   ]
  },
  {
   "cell_type": "code",
   "execution_count": 18,
   "metadata": {
    "scrolled": true
   },
   "outputs": [
    {
     "name": "stdout",
     "output_type": "stream",
     "text": [
      "Full Formula (Lu2 Al4)\n",
      "Reduced Formula: LuAl2\n",
      "abc   :   5.488739   5.488739   5.488739\n",
      "angles:  60.000000  60.000000  60.000000\n",
      "Sites (6)\n",
      "  #  SP        a      b      c\n",
      "---  ----  -----  -----  -----\n",
      "  0  Al    0.5    0.5    0.5\n",
      "  1  Al    0.5    0.5    0\n",
      "  2  Al    0      0.5    0.5\n",
      "  3  Al    0.5    0      0.5\n",
      "  4  Lu    0.875  0.875  0.875\n",
      "  5  Lu    0.125  0.125  0.125 \n",
      "\n",
      "{'sub_form': 'GaN', 'sub_id': 'mp-804', 'film_orient': '1 0 0', 'area': 180.75753815783392, 'film_id': 'mp-1234', 'orient': '0 0 1'}\n"
     ]
    }
   ],
   "source": [
    "with MPRester() as mpr:\n",
    "    structure = mpr.get_structure_by_material_id('mp-1234')\n",
    "    substrates = mpr.get_substrates(material_id='mp-1234')\n",
    "    \n",
    "print(structure, '\\n')\n",
    "print(substrates[0])"
   ]
  },
  {
   "cell_type": "markdown",
   "metadata": {},
   "source": [
    "***\n",
    "## Section 3: Using the MPRester.query method.\n",
    "\n",
    "The MPRester also has a very powerful method called `query`, which allows us to perform sophisticated searches on the database. The `query` method uses MongoDB's [query syntax](https://docs.mongodb.com/manual/tutorial/query-documents/). In this syntax, query submissions have two parts: a set of criteria that you want to base the search on (in the form of a python dict), and a set of properties that you want the database to return (in the form of either a list or dict). \n",
    "\n",
    "The general structure of a MPRester query is:\n",
    "                            \n",
    "                            mpr.query(criteria={}, properties=[])\n",
    "\n",
    "\n",
    "You will probabl find yourself using the MPRester's query method the most. Let's try out some queries to learn how it works. First, we'll query for SiO2 compounds by chemical formula through 'pretty_formula'."
   ]
  },
  {
   "cell_type": "code",
   "execution_count": 28,
   "metadata": {},
   "outputs": [
    {
     "name": "stdout",
     "output_type": "stream",
     "text": [
      "282\n"
     ]
    }
   ],
   "source": [
    "with MPRester() as mpr:\n",
    "    results = mpr.query({'pretty_formula':\"SiO2\"}, properties=['material_id'])\n",
    "    print(len(results))"
   ]
  },
  {
   "cell_type": "markdown",
   "metadata": {},
   "source": [
    "If we investigate the object that the query method returns, we find that it is a list of dicts. Furthermore, we find that the keys of the dictionaries are the very same keywords that we passed to the query method as the `properties` argument."
   ]
  },
  {
   "cell_type": "code",
   "execution_count": 30,
   "metadata": {},
   "outputs": [
    {
     "name": "stdout",
     "output_type": "stream",
     "text": [
      "Results are returned as a <class 'list'> of <class 'dict'>.\n",
      "\n",
      "{'material_id': 'mp-600033'}\n",
      "{'material_id': 'mp-9258'}\n",
      "{'material_id': 'mp-10064'}\n",
      "{'material_id': 'mp-972808'}\n",
      "{'material_id': 'mp-556218'}\n"
     ]
    }
   ],
   "source": [
    "print('Results are returned as a {} of {}.\\n'.format(type(results), type(results[0])))\n",
    "\n",
    "for r in results[0:5]:\n",
    "    print(r)"
   ]
  },
  {
   "cell_type": "markdown",
   "metadata": {},
   "source": [
    "Now, let's try to find the bandgaps for all Si-O compounds by searching the chemical system."
   ]
  },
  {
   "cell_type": "code",
   "execution_count": 10,
   "metadata": {},
   "outputs": [
    {
     "name": "stdout",
     "output_type": "stream",
     "text": [
      "291\n"
     ]
    }
   ],
   "source": [
    "with MPRester() as mpr:\n",
    "    criteria = {\"chemsys\": 'O-Si'}\n",
    "    properties = ['material_id', 'band_gap']\n",
    "    results = mpr.query(criteria=criteria, properties=properties)\n",
    "    print(len(results))"
   ]
  },
  {
   "cell_type": "markdown",
   "metadata": {},
   "source": [
    "### Excercise:\n",
    "How many iron-oxygen-hydrogen structures are in the MP database?"
   ]
  },
  {
   "cell_type": "code",
   "execution_count": 62,
   "metadata": {
    "scrolled": true
   },
   "outputs": [
    {
     "name": "stdout",
     "output_type": "stream",
     "text": [
      "0\n"
     ]
    }
   ],
   "source": [
    "with MPRester() as mpr:\n",
    "    criteria = {\"chemsys\": 'Fe-O-H'}\n",
    "    properties = ['material_id']\n",
    "    results = mpr.query(criteria=criteria, properties=properties)\n",
    "    print(len(results))"
   ]
  },
  {
   "cell_type": "markdown",
   "metadata": {},
   "source": [
    "Zero? That doesn't sound right... If we take a look at the [mapidoc](https://github.com/materialsproject/mapidoc), or the [mapidoc explorer (still in beta)](https://mapidoc.herokuapp.com) we find that chemsys elements must be supplied in alphabetical order. Let's try again:"
   ]
  },
  {
   "cell_type": "code",
   "execution_count": 109,
   "metadata": {
    "scrolled": false
   },
   "outputs": [
    {
     "name": "stdout",
     "output_type": "stream",
     "text": [
      "28\n"
     ]
    }
   ],
   "source": [
    "with MPRester() as mpr:\n",
    "    criteria = {\"chemsys\": 'Fe-H-O'}\n",
    "    properties = ['material_id']\n",
    "    results = mpr.query(criteria=criteria, properties=properties)\n",
    "    print(len(results))"
   ]
  },
  {
   "cell_type": "markdown",
   "metadata": {},
   "source": [
    "If you're querying on a simple property, such as the chemical formula, you can skip passing it as a dictionary. For example:"
   ]
  },
  {
   "cell_type": "code",
   "execution_count": 33,
   "metadata": {},
   "outputs": [
    {
     "name": "stdout",
     "output_type": "stream",
     "text": [
      "282\n"
     ]
    }
   ],
   "source": [
    "results = mpr.query('SiO2', [\"material_id\", \"spacegroup.crystal_system\", 'pretty_formula'])\n",
    "print(len(results))"
   ]
  },
  {
   "cell_type": "markdown",
   "metadata": {},
   "source": [
    "## Let's do an in-depth example: \n",
    "\n",
    "Say we want to find the distribution of crystal systems (cubic, tetragonal, monoclinic, etc) within all SiO$_2$ compounds. How can we do that? \n",
    "\n",
    "1. Collect all entries in the MP database with the formula SiO2\n",
    "2. Collect their crystal systems\n",
    "3. Plot a bar chart"
   ]
  },
  {
   "cell_type": "code",
   "execution_count": 8,
   "metadata": {},
   "outputs": [
    {
     "data": {
      "image/png": "[encoded data removed]",
      "text/plain": [
       "<Figure size 432x288 with 1 Axes>"
      ]
     },
     "metadata": {},
     "output_type": "display_data"
    }
   ],
   "source": [
    "import matplotlib.pyplot as plt\n",
    "\n",
    "%matplotlib inline\n",
    "\n",
    "with MPRester() as mpr:\n",
    "    # Collect all the entries for SiO2\n",
    "    results = mpr.query(criteria={\"pretty_formula\":'SiO2'}, \n",
    "                 properties=[\"material_id\", \"spacegroup.crystal_system\"])\n",
    "\n",
    "    # Collect the crystal systems into a list and count them\n",
    "    systems = [r[\"spacegroup.crystal_system\"] for r in results]\n",
    "    count_dict = {}\n",
    "    for system in systems:\n",
    "        if system in count_dict:\n",
    "            count_dict[system] += 1\n",
    "        else:\n",
    "            count_dict[system] = 1\n",
    "            \n",
    "    # Plot the distribution\n",
    "    plt.bar(range(len(count_dict)), count_dict.values(), align='center')\n",
    "    plt.xticks(range(len(count_dict)), [key[0:5] for key in list(count_dict.keys())])\n",
    "    plt.title('Distribution of crystal systems within SiO2 compounds')\n",
    "    plt.show()"
   ]
  },
  {
   "cell_type": "markdown",
   "metadata": {},
   "source": [
    "***\n",
    "## Section 4: Using the MPRester and Pymatgen to Find Materials With Exotic Mechanical Properties\n",
    "\n",
    "The tetragonal SiO$_2$ polymorph $\\alpha$-cristobalite is one of the very few crystalline materials known to have a negative average Poisson's ratio, which means that its cross-section expands under tensile strain rather than contracting. This property can be extremely useful in a variety of applications such as scratch-resistant coatings and high-toughness ceramics. \n",
    "\n",
    "Why does $\\alpha$-cristobalite exhibit this property while other materials do not? The prevailing hypothesis is that $\\alpha$-cristobalite's negative Poisson's ratio is a result of its crystal structure. If that's the case, then perhaps we can find other materials with this exotic property by looking for materials with similar structures and then calculating their Poisson's ratios."
   ]
  },
  {
   "cell_type": "markdown",
   "metadata": {},
   "source": [
    "First, we should find the structure for $\\alpha$-cristobalite that represent materials that are likely to be synthesizable (e_above_hull < 25 meV):"
   ]
  },
  {
   "cell_type": "code",
   "execution_count": 9,
   "metadata": {},
   "outputs": [
    {
     "name": "stdout",
     "output_type": "stream",
     "text": [
      "160\n"
     ]
    }
   ],
   "source": [
    "with MPRester() as mpr:\n",
    "    results = mpr.query({'pretty_formula':'SiO2', 'e_above_hull':{\"$lte\":0.025}}, \n",
    "                        ['material_id', 'structure', 'spacegroup','tags'])\n",
    "    print(len(results))"
   ]
  },
  {
   "cell_type": "markdown",
   "metadata": {},
   "source": [
    "This might be too many to go through by hand. Let's add a [regex](https://en.wikipedia.org/wiki/Regular_expression) query for 'cristobalite':"
   ]
  },
  {
   "cell_type": "code",
   "execution_count": 104,
   "metadata": {},
   "outputs": [
    {
     "name": "stdout",
     "output_type": "stream",
     "text": [
      "1\n"
     ]
    }
   ],
   "source": [
    "with MPRester() as mpr:\n",
    "    results = mpr.query({'pretty_formula':'SiO2', 'e_above_hull':{\"$lte\":0.025}, \n",
    "                         'tags':{'$regex':'cristobalite'}}, \n",
    "                        ['material_id', 'structure', 'spacegroup','tags'])\n",
    "    print(len(results))"
   ]
  },
  {
   "cell_type": "code",
   "execution_count": 106,
   "metadata": {},
   "outputs": [],
   "source": [
    "ac = results[0]"
   ]
  },
  {
   "cell_type": "markdown",
   "metadata": {},
   "source": [
    "We found [(mp-6945)](https://materialsproject.org/materials/mp-6945/), the right material!"
   ]
  },
  {
   "cell_type": "code",
   "execution_count": 6,
   "metadata": {},
   "outputs": [
    {
     "name": "stdout",
     "output_type": "stream",
     "text": [
      "Full Formula (Si4 O8)\n",
      "Reduced Formula: SiO2\n",
      "abc   :   5.082618   5.082618   7.095207\n",
      "angles:  90.000000  90.000000  90.000000\n",
      "Sites (12)\n",
      "  #  SP           a         b         c\n",
      "---  ----  --------  --------  --------\n",
      "  0  O     0.905861  0.75898   0.325631\n",
      "  1  O     0.094139  0.24102   0.825631\n",
      "  2  O     0.75898   0.905861  0.674369\n",
      "  3  O     0.258979  0.594139  0.075631\n",
      "  4  O     0.24102   0.094139  0.174369\n",
      "  5  O     0.405861  0.74102   0.424369\n",
      "  6  O     0.594139  0.258979  0.924369\n",
      "  7  O     0.74102   0.405861  0.575631\n",
      "  8  Si    0.705544  0.705544  0.5\n",
      "  9  Si    0.794456  0.205544  0.75\n",
      " 10  Si    0.205544  0.794456  0.25\n",
      " 11  Si    0.294456  0.294456  0\n"
     ]
    }
   ],
   "source": [
    "# ac_structure = [your code here]\n",
    "# print(ac_structure)\n",
    "ac_structure = mpr.get_structure_by_material_id(\"mp-6945\")\n",
    "print(ac_structure)"
   ]
  },
  {
   "cell_type": "markdown",
   "metadata": {},
   "source": [
    "***\n",
    "### Quick Aside About MongoDB Query Operators"
   ]
  },
  {
   "cell_type": "markdown",
   "metadata": {},
   "source": [
    "Above, we specified the chemical formula SiO$_2$ for our query. This is an example of, the \"specify\" operator. However, MongoDB's syntax also includes other [query operators](https://docs.mongodb.com/manual/reference/operator/query/#query-selectors), allowing us to bulid complex conditionals into our queries. \n",
    "\n",
    "A recent paper by McEnany et. al. proposes a novel ammonia synthesis process based on the electrochemical cycling of lithium ([link](http://pubs.rsc.org/en/content/articlelanding/2017/ee/c7ee01126a#!divAbstract)). As an exercise, let's use some of MongoDB's operators and ask the database for nitrides of alkali metals."
   ]
  },
  {
   "cell_type": "code",
   "execution_count": 111,
   "metadata": {
    "scrolled": false
   },
   "outputs": [
    {
     "data": {
      "text/plain": [
       "[{'material_id': 'mp-634410', 'pretty_formula': 'NaN3'},\n",
       " {'material_id': 'mp-999496', 'pretty_formula': 'Na3N'},\n",
       " {'material_id': 'mp-22003', 'pretty_formula': 'NaN3'},\n",
       " {'material_id': 'mp-2341', 'pretty_formula': 'Li3N'},\n",
       " {'material_id': 'mp-11801', 'pretty_formula': 'K3N'},\n",
       " {'material_id': 'mp-636056', 'pretty_formula': 'KN3'},\n",
       " {'material_id': 'mp-2251', 'pretty_formula': 'Li3N'},\n",
       " {'material_id': 'mp-1009221', 'pretty_formula': 'NaN'},\n",
       " {'material_id': 'mp-581833', 'pretty_formula': 'RbN3'},\n",
       " {'material_id': 'mp-1059612', 'pretty_formula': 'LiN'},\n",
       " {'material_id': 'mp-570538', 'pretty_formula': 'NaN3'},\n",
       " {'material_id': 'mp-510557', 'pretty_formula': 'CsN3'},\n",
       " {'material_id': 'mp-1064119', 'pretty_formula': 'KN'},\n",
       " {'material_id': 'mp-1066400', 'pretty_formula': 'NaN3'},\n",
       " {'material_id': 'mp-1058689', 'pretty_formula': 'KN'},\n",
       " {'material_id': 'mp-1062345', 'pretty_formula': 'Li2N'},\n",
       " {'material_id': 'mp-1064161', 'pretty_formula': 'NaN3'},\n",
       " {'material_id': 'mp-1064529', 'pretty_formula': 'RbN'},\n",
       " {'material_id': 'mp-1064647', 'pretty_formula': 'KN'},\n",
       " {'material_id': 'mp-1064952', 'pretty_formula': 'NaN3'},\n",
       " {'material_id': 'mp-999495', 'pretty_formula': 'Na3N'},\n",
       " {'material_id': 'mp-1065265', 'pretty_formula': 'NaN3'},\n",
       " {'material_id': 'mp-1066707', 'pretty_formula': 'RbN'},\n",
       " {'material_id': 'mp-1064272', 'pretty_formula': 'NaN3'},\n",
       " {'material_id': 'mp-1064715', 'pretty_formula': 'NaN3'},\n",
       " {'material_id': 'mp-1071868', 'pretty_formula': 'KN2'},\n",
       " {'material_id': 'mp-2639', 'pretty_formula': 'Na3N'},\n",
       " {'material_id': 'mp-2659', 'pretty_formula': 'LiN3'},\n",
       " {'material_id': 'mp-22777', 'pretty_formula': 'NaN3'},\n",
       " {'material_id': 'mp-1059879', 'pretty_formula': 'CsN'},\n",
       " {'material_id': 'mp-743', 'pretty_formula': 'RbN3'},\n",
       " {'material_id': 'mp-1080032', 'pretty_formula': 'NaN'},\n",
       " {'material_id': 'mp-827', 'pretty_formula': 'KN3'}]"
      ]
     },
     "execution_count": 111,
     "metadata": {},
     "output_type": "execute_result"
    }
   ],
   "source": [
    "alkali_metals = ['Li', 'Na', 'K', 'Rb', 'Cs']\n",
    "\n",
    "criteria={\"elements\":{\"$in\":alkali_metals, \"$all\": [\"N\"]}, \"nelements\":2}\n",
    "# criteria={\"$and\":[{\"elements\":{\"$in\":alkali_metals}},{\"elements\":{\"$all\": [\"N\"]}}]}\n",
    "properties=['material_id', 'pretty_formula']\n",
    "\n",
    "mpr.query(criteria, properties)"
   ]
  },
  {
   "cell_type": "markdown",
   "metadata": {},
   "source": [
    "For convenience, the MPRester also accepts a simplified syntax for queries by chemical system. For example, the query we made above can be simplified to:"
   ]
  },
  {
   "cell_type": "code",
   "execution_count": 10,
   "metadata": {},
   "outputs": [
    {
     "data": {
      "text/plain": [
       "[{'material_id': 'mp-510557', 'pretty_formula': 'CsN3'},\n",
       " {'material_id': 'mp-827', 'pretty_formula': 'KN3'},\n",
       " {'material_id': 'mp-636056', 'pretty_formula': 'KN3'},\n",
       " {'material_id': 'mp-11801', 'pretty_formula': 'K3N'},\n",
       " {'material_id': 'mp-2659', 'pretty_formula': 'LiN3'},\n",
       " {'material_id': 'mp-2341', 'pretty_formula': 'Li3N'},\n",
       " {'material_id': 'mp-2251', 'pretty_formula': 'Li3N'},\n",
       " {'material_id': 'mp-1009221', 'pretty_formula': 'NaN'},\n",
       " {'material_id': 'mp-634410', 'pretty_formula': 'NaN3'},\n",
       " {'material_id': 'mp-22003', 'pretty_formula': 'NaN3'},\n",
       " {'material_id': 'mp-999495', 'pretty_formula': 'Na3N'},\n",
       " {'material_id': 'mp-570538', 'pretty_formula': 'NaN3'},\n",
       " {'material_id': 'mp-999496', 'pretty_formula': 'Na3N'},\n",
       " {'material_id': 'mp-22777', 'pretty_formula': 'NaN3'},\n",
       " {'material_id': 'mp-2639', 'pretty_formula': 'Na3N'},\n",
       " {'material_id': 'mp-743', 'pretty_formula': 'RbN3'},\n",
       " {'material_id': 'mp-581833', 'pretty_formula': 'RbN3'}]"
      ]
     },
     "execution_count": 10,
     "metadata": {},
     "output_type": "execute_result"
    }
   ],
   "source": [
    "mpr.query('{Li,Na,K,Rb,Cs}-N', ['material_id', 'pretty_formula'])"
   ]
  },
  {
   "cell_type": "markdown",
   "metadata": {
    "collapsed": true
   },
   "source": [
    "We can also perform the same query, but ask the database to only return compounds with energies above the hull less than 10 meV/atom by using the \"less than\" operator, \"`$lt`\". (The energy above the convex hull gives us a sense of how stable a compound is relative to other compounds with the same composition.) "
   ]
  },
  {
   "cell_type": "code",
   "execution_count": 11,
   "metadata": {},
   "outputs": [
    {
     "data": {
      "text/plain": [
       "[{'material_id': 'mp-2659', 'pretty_formula': 'LiN3'},\n",
       " {'material_id': 'mp-827', 'pretty_formula': 'KN3'},\n",
       " {'material_id': 'mp-2341', 'pretty_formula': 'Li3N'},\n",
       " {'material_id': 'mp-743', 'pretty_formula': 'RbN3'},\n",
       " {'material_id': 'mp-2251', 'pretty_formula': 'Li3N'},\n",
       " {'material_id': 'mp-22003', 'pretty_formula': 'NaN3'},\n",
       " {'material_id': 'mp-570538', 'pretty_formula': 'NaN3'},\n",
       " {'material_id': 'mp-510557', 'pretty_formula': 'CsN3'}]"
      ]
     },
     "execution_count": 11,
     "metadata": {},
     "output_type": "execute_result"
    }
   ],
   "source": [
    "criteria={\"elements\":{\"$in\":alkali_metals, \"$all\":[\"N\"]}, \"nelements\":2, \n",
    "          'e_above_hull':{\"$lt\":0.010}}\n",
    "properties=['material_id', 'pretty_formula']\n",
    "mpr.query(criteria, properties)"
   ]
  },
  {
   "cell_type": "markdown",
   "metadata": {},
   "source": [
    "Now, let's get back to our example of finding materials with similar crystal structures to $\\alpha$-cristobalite. \n",
    "\n",
    "***"
   ]
  },
  {
   "cell_type": "markdown",
   "metadata": {},
   "source": [
    "For our search, we want to start with a set of structures that are:\n",
    "* Computationally tractable (not too many sites)\n",
    "* Not too unlikely to be synthesizable (small energy above hull, i.e. <100 meV)\n",
    "\n",
    "Let's construct this query:"
   ]
  },
  {
   "cell_type": "code",
   "execution_count": 13,
   "metadata": {},
   "outputs": [
    {
     "name": "stdout",
     "output_type": "stream",
     "text": [
      "['mp-1357', 'mp-23219', 'mp-11416', 'mp-21030', 'mp-22460', 'mp-749', 'mp-1751', 'mp-19962', 'mp-11412', 'mp-530', 'mp-7631', 'mp-680570', 'mp-12608', 'mp-2772', 'mp-1463', 'mp-2033', 'mp-611', 'mp-861975', 'mp-2715', 'mp-619']\n"
     ]
    }
   ],
   "source": [
    "criteria={'nsites':{'$lte':50}, 'e_above_hull':{'$lte':0.100}}\n",
    "properties=['material_id', 'spacegroup']\n",
    "\n",
    "data = mpr.query(criteria,properties)\n",
    "\n",
    "print([d['material_id'] for d in data[20000:20020]])"
   ]
  },
  {
   "cell_type": "markdown",
   "metadata": {},
   "source": [
    "The next step is to compare all of these materials to $\\alpha$-cristobalite. We'll need something that can tell us whether two structures are similar. Luckily for us, the pymatgen StructureMatcher does just that!"
   ]
  },
  {
   "cell_type": "code",
   "execution_count": 14,
   "metadata": {},
   "outputs": [
    {
     "name": "stdout",
     "output_type": "stream",
     "text": [
      "True\n"
     ]
    }
   ],
   "source": [
    "from pymatgen.analysis.structure_matcher import StructureMatcher\n",
    "\n",
    "sm = StructureMatcher()\n",
    "ac_structure = mpr.get_structure_by_material_id(\"mp-6945\")\n",
    "\n",
    "print(sm.fit(ac_structure, ac_structure))"
   ]
  },
  {
   "cell_type": "markdown",
   "metadata": {},
   "source": [
    "We know that the high-temperature phase of cristobalite, $\\beta$-cristobalite [(mp-546794)](https://materialsproject.org/materials/mp-546794/), has a very similar structure to $\\alpha$-cristobalite. Let's see if the structure matcher agrees."
   ]
  },
  {
   "cell_type": "code",
   "execution_count": 15,
   "metadata": {},
   "outputs": [
    {
     "name": "stdout",
     "output_type": "stream",
     "text": [
      "False\n"
     ]
    }
   ],
   "source": [
    "bc_structure = mpr.get_structure_by_material_id(\"mp-546794\")\n",
    "\n",
    "print(sm.fit(ac_structure, bc_structure))"
   ]
  },
  {
   "cell_type": "markdown",
   "metadata": {},
   "source": [
    "Unfortunately, the default settings of the structure matcher are too strict for our purposes. We want a comparison engine that will return True if two structures are similar to each other, not just those that are exactly the same. \n",
    "\n",
    "To solve this problem, we can instantiate our comparison engine with looser tolerances and use a species-agnostic FrameworkComparator from pymatgen, which allows us to compare structures across different chemistries."
   ]
  },
  {
   "cell_type": "code",
   "execution_count": 16,
   "metadata": {
    "collapsed": true
   },
   "outputs": [],
   "source": [
    "from pymatgen.analysis.structure_matcher import FrameworkComparator\n",
    "\n",
    "comparison_engine = StructureMatcher(ltol=.2, stol=.5, angle_tol=10, primitive_cell=True, scale=True, \n",
    "                                     attempt_supercell=True, comparator=FrameworkComparator())\n"
   ]
  },
  {
   "cell_type": "code",
   "execution_count": 17,
   "metadata": {},
   "outputs": [
    {
     "name": "stdout",
     "output_type": "stream",
     "text": [
      "True\n"
     ]
    }
   ],
   "source": [
    "bc_structure = mpr.get_structure_by_material_id(\"mp-546794\")\n",
    "\n",
    "print(comparison_engine.fit(ac_structure, bc_structure))"
   ]
  },
  {
   "cell_type": "markdown",
   "metadata": {},
   "source": [
    "Just to make sure we haven't increased the tolerances too much, let's try it against a random compound to make sure it's not matching un-similar structures. "
   ]
  },
  {
   "cell_type": "code",
   "execution_count": 18,
   "metadata": {},
   "outputs": [
    {
     "name": "stdout",
     "output_type": "stream",
     "text": [
      "False\n"
     ]
    }
   ],
   "source": [
    "random_structure = mpr.get_structure_by_material_id(\"mp-4991\")\n",
    "print(comparison_engine.fit(ac_structure, random_structure))"
   ]
  },
  {
   "cell_type": "markdown",
   "metadata": {},
   "source": [
    "Now, let's get back to our example of finding materials with similar crystal structures to $\\alpha$-cristobalite. \n",
    "***"
   ]
  },
  {
   "cell_type": "markdown",
   "metadata": {},
   "source": [
    "Imagine that we have an experimental colleague, Soren Tsarpinski, who is an expert at synthesizing vanadate compounds. We have a hunch that some of the vanadates coming out of Dr. Tsarpinski's lab might have similar structures to $\\alpha$-cristobalite and therefore might have negative Poisson's ratios. Let's see if we're right:"
   ]
  },
  {
   "cell_type": "code",
   "execution_count": 21,
   "metadata": {},
   "outputs": [
    {
     "name": "stderr",
     "output_type": "stream",
     "text": [
      "/opt/conda/lib/python3.5/site-packages/pymatgen/core/periodic_table.py:398: UserWarning: No electronegativity for He. Setting to infinity. This has no physical meaning, and is mainly done to avoid errors caused by the code expecting a float.\n",
      "  % self.symbol)\n",
      "/opt/conda/lib/python3.5/site-packages/pymatgen/core/periodic_table.py:398: UserWarning: No electronegativity for Ne. Setting to infinity. This has no physical meaning, and is mainly done to avoid errors caused by the code expecting a float.\n",
      "  % self.symbol)\n",
      "/opt/conda/lib/python3.5/site-packages/pymatgen/core/periodic_table.py:398: UserWarning: No electronegativity for Ar. Setting to infinity. This has no physical meaning, and is mainly done to avoid errors caused by the code expecting a float.\n",
      "  % self.symbol)\n"
     ]
    },
    {
     "data": {
      "text/plain": [
       "['BaV3O8',\n",
       " 'CsV3O8',\n",
       " 'KV3O8',\n",
       " 'LiV3O8',\n",
       " 'LiV3O8',\n",
       " 'LiV3O8',\n",
       " 'LiV3O8',\n",
       " 'LiV3O8',\n",
       " 'MgV3O8',\n",
       " 'MgV3O8',\n",
       " 'MnV3O8',\n",
       " 'MnV3O8',\n",
       " 'NaV3O8',\n",
       " 'NaV3O8',\n",
       " 'NbV3O8',\n",
       " 'NbV3O8',\n",
       " 'RbV3O8',\n",
       " 'TiV3O8',\n",
       " 'TlV3O8',\n",
       " 'V3CoO8',\n",
       " 'V3CoO8',\n",
       " 'V3CoO8',\n",
       " 'V3CoO8',\n",
       " 'V3CrO8',\n",
       " 'V3CuO8',\n",
       " 'V3CuO8',\n",
       " 'V3FeO8',\n",
       " 'V3FeO8',\n",
       " 'V3FeO8',\n",
       " 'V3NiO8',\n",
       " 'V3NiO8',\n",
       " 'V3SnO8',\n",
       " 'V3ZnO8']"
      ]
     },
     "execution_count": 21,
     "metadata": {},
     "output_type": "execute_result"
    }
   ],
   "source": [
    "vanadates = mpr.query('*V3O8', ['material_id', 'structure', 'pretty_formula'])\n",
    "[v['pretty_formula'] for v in vanadates]"
   ]
  },
  {
   "cell_type": "code",
   "execution_count": 22,
   "metadata": {},
   "outputs": [
    {
     "data": {
      "text/plain": [
       "[{'elasticity.homogeneous_poisson': -0.04,\n",
       "  'material_id': 'mp-766784',\n",
       "  'pretty_formula': 'V3CoO8'},\n",
       " {'elasticity.homogeneous_poisson': None,\n",
       "  'material_id': 'mp-771790',\n",
       "  'pretty_formula': 'V3NiO8'},\n",
       " {'elasticity.homogeneous_poisson': -0.06,\n",
       "  'material_id': 'mp-775001',\n",
       "  'pretty_formula': 'V3FeO8'},\n",
       " {'elasticity.homogeneous_poisson': 0.08,\n",
       "  'material_id': 'mp-776985',\n",
       "  'pretty_formula': 'MnV3O8'}]"
      ]
     },
     "execution_count": 22,
     "metadata": {},
     "output_type": "execute_result"
    }
   ],
   "source": [
    "matches = []\n",
    "for v in vanadates:\n",
    "    if comparison_engine.fit(ac_structure, v['structure']):\n",
    "        matches.append(v['material_id'])\n",
    "\n",
    "\n",
    "criteria = {\"material_id\":{\"$in\":matches}}\n",
    "properties = ['material_id', 'pretty_formula', 'elasticity.homogeneous_poisson']\n",
    "\n",
    "possible_candidates = mpr.query(criteria, properties)\n",
    "    \n",
    "possible_candidates"
   ]
  }
 ],
 "metadata": {
  "kernelspec": {
   "display_name": "Python [conda env:mp]",
   "language": "python",
   "name": "conda-env-mp-py"
  },
  "language_info": {
   "codemirror_mode": {
    "name": "ipython",
    "version": 3
   },
   "file_extension": ".py",
   "mimetype": "text/x-python",
   "name": "python",
   "nbconvert_exporter": "python",
   "pygments_lexer": "ipython3",
   "version": "3.6.6"
  }
 },
 "nbformat": 4,
 "nbformat_minor": 1
}
