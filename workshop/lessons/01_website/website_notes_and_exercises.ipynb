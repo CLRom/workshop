{
 "cells": [
  {
   "cell_type": "markdown",
   "metadata": {},
   "source": [
    "# Website notes and exercises\n",
    "\n",
    "A basic website walkthrough (40min) was pre-recorded and is\n",
    "[online](https://www.youtube.com/watch?v=Mg9AgpwoArQ) on MP's YouTube channel.\n",
    "\n",
    "The following notes and exercises are to be referenced by an instructor for walking through a few topics interactively in a workshop setting. Each of the four sections should take ~15 minutes: walkthrough (5min), exercise (5min), and walkthrough of exercise solution (5min). Thus, an interactive walkthrough of this notebook should take ~1 hour."
   ]
  },
  {
   "cell_type": "markdown",
   "metadata": {},
   "source": [
    "## 1. Analyze: thermodynamic (meta)stability"
   ]
  },
  {
   "cell_type": "markdown",
   "metadata": {},
   "source": [
    "- Interface reaction between LiCoO2 and Li3PS4\n",
    "- Open to lithium elemental reservoir ($\\mu$ = 0, -1.6 eV, -3.2 eV)\n",
    "- Li-S phase diagram\n",
    "- See unstable LiS detail. Show help guides.\n",
    "- See stable Li2S. Go back to phase diagram with \"Generate Phase Diagram\". Note that Pourbaix diagram is phase diagram with oxygen and hydrogen included, and helps evaluate, among other things, suitability for photocatalysis / artificial photosynthesis by indicating oxygen and hydrogen evolution curves.\n",
    "- Li-P-S phase diagram\n",
    "- Open to Li\n",
    "- At what lithium chemical potential is lithium phosphorus sulfide (Li<sub>3</sub>PS<sub>4</sub>) thermodynamically stable in a Li-P-S system open to a lithium reservoir?"
   ]
  },
  {
   "cell_type": "markdown",
   "metadata": {},
   "source": [
    "### Exercise: \n",
    "\n",
    "At what lithium chemical potentials is Li<sub>2</sub>O not thermodynamically stable in a Li-Co-O system open to a lithium reservoir?\n",
    "\n",
    "Extra: Go to the Battery Explorer and search for a cathode material that references stable LiCoO2 (mp-24850). How is the chemical potential formalism connected to battery safety?"
   ]
  },
  {
   "cell_type": "markdown",
   "metadata": {},
   "source": [
    "## 2. Explore: computed properties"
   ]
  },
  {
   "cell_type": "markdown",
   "metadata": {},
   "source": [
    "- Pb\n",
    "- Pb, >=1 elements. most stable 500.\n",
    "- click logo to clear all state\n",
    "- mpquery: `{'elements': {'$in': ['Se','Te'], '$all': ['Pb']}, 'nelements': {'$lte': 3}, 'has': {'$all': ['bandstructure', 'phonons', 'xas']}}`\n",
    "- Walk through PbTe (mp-2201). Note user-contributed photovoltaic metrics.\n",
    "\n",
    "### Exercise:\n",
    "\n",
    "What other computed properties are available for materials? Be sure to check out elemental matererials."
   ]
  },
  {
   "cell_type": "markdown",
   "metadata": {},
   "source": [
    "## 3. Design: (data-driven) structural substitutions\n",
    "- material with piezoelectric properties: Use disambiguation page: `mp.org/PbTiO3`.\n",
    "- Click 'Piezoelectricity' header. Click browser back button.\n",
    "- Pb-free piezoelectric material? Click 'Edit Crystal'\n",
    "- xtal toolkit. substitute Pb->Sr. Download file. MPComplete?\n",
    "- xtal toolkit. detect likely oxidation states. go to structure predictor.\n",
    "\n",
    "### Exercise:\n",
    "\n",
    "alpha cristobality (SiO2, mp-6945) has negative Poisson ratio. Edit xtal, subtitute Si with Ge. Submit to MPComplete. See also: [Computational prediction of new auxetic materials](https://doi.org/10.1038/s41467-017-00399-6)."
   ]
  },
  {
   "cell_type": "markdown",
   "metadata": {},
   "source": [
    "## 4. Characterize: Match on computed spectra\n",
    "\n",
    "\n",
    "- Explore Si-N Si K-edge spectra. Upload experimental spectrum for silicon nitride alpha. Source: [https://eelsdb.eu/](https://eelsdb.eu/), a database with 17 K-edge X-ray absorption near-edge spectra (XANES). MP has ~50k computed K-edge XANES spectra.\n",
    "- Explore Al-O Al K-edge spectra. Upload experimental spectrum for alumina alpha.\n",
    "\n",
    "### Exercise:\n",
    "\n",
    "Try to match silicon nitride beta spectrum. Where does Si3N4 beta phase appear in the rankings?"
   ]
  }
 ],
 "metadata": {
  "kernelspec": {
   "display_name": "conda-env-mp-py",
   "language": "python",
   "name": "conda-env-mp-py"
  },
  "language_info": {
   "codemirror_mode": {
    "name": "ipython",
    "version": 3
   },
   "file_extension": ".py",
   "mimetype": "text/x-python",
   "name": "python",
   "nbconvert_exporter": "python",
   "pygments_lexer": "ipython3",
   "version": "3.7.3"
  }
 },
 "nbformat": 4,
 "nbformat_minor": 2
}
