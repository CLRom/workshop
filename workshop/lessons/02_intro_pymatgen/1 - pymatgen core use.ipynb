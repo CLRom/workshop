{
 "cells": [
  {
   "cell_type": "markdown",
   "metadata": {
    "slideshow": {
     "slide_type": "skip"
    }
   },
   "source": [
    "### Materials Project Workshop – July 28th to July 30th, 2019, Berkeley, California"
   ]
  },
  {
   "cell_type": "markdown",
   "metadata": {
    "slideshow": {
     "slide_type": "slide"
    }
   },
   "source": [
    "![pymatgen logo](http://pymatgen.org/_images/pymatgen.png)\n",
    "\n",
    "# 0. What is pymatgen?\n",
    "\n",
    "Pymatgen (Python Materials Genomics) is the code that powers all of the scientific analysis behind the Materials Project.  It includes a robust and efficient libraries for the handling of crystallographic structures and molecules, in addition to various mathematical and scientific tools for the handling and generation of materials data. For more details, see the [pymatgen website](https://pymatgen.org)."
   ]
  },
  {
   "cell_type": "markdown",
   "metadata": {
    "slideshow": {
     "slide_type": "subslide"
    }
   },
   "source": [
    "## 0.1 How do I install pymatgen?\n",
    "\n",
    "For the workshop, pymatgen has been pre-installed for use in your Jupyter notebooks.\n",
    "\n",
    "Otherwise, pymatgen can be installed via pip:\n",
    "\n",
    "`pip install pymatgen`\n",
    "\n",
    "or conda:\n",
    "\n",
    "`conda install --channel matsci pymatgen`\n",
    "\n",
    "We recommend using Python 3.6 or above. Until 2018, pymatgen was developed simultaneously for Python 2.x and 3.x, but following the rest of the Python community we have phased out support for Python 2.x, and since version 2019.1.1 we are developing exclusively for Python 3.x."
   ]
  },
  {
   "cell_type": "markdown",
   "metadata": {
    "slideshow": {
     "slide_type": "subslide"
    }
   },
   "source": [
    "## 0.2 Where can I find help and how do I get involved?\n",
    "\n",
    "* **For general help:** [pymatgen discourse](https://pymatgen.discourse.group/) is a place to ask questions.\n",
    "\n",
    "* **To report bugs:** The [Github Issues](https://github.com/materialsproject/pymatgen/issues) page is a good place to report bugs.\n",
    "\n",
    "* **For Materials Project data and website discussions:** The Materials Project  has its community [Materials Project Discussion](https://discuss.materialsproject.org) forum. \n",
    "\n",
    "* **For more example notebooks:** [matgenb](http://matgenb.materialsvirtuallab.org) is a new resource of Jupyter notebooks demonstrating various pymatgen functionality.\n",
    "\n",
    "If you want specific new features, you're welcome to ask! We try to respond to community needs. If you're a developer and can add the feature yourself, we actively encourage you to do so by creating a Pull Request on Github with your additional functionality. To date, pymatgen has seen over 17,000 commits and over 120 contributors, and we try to have an inclusive and welcoming development community. All contributors are also individually acknowledged on [materialsproject.org/about](https://materialsproject.org/about).\n"
   ]
  },
  {
   "cell_type": "markdown",
   "metadata": {
    "slideshow": {
     "slide_type": "slide"
    }
   },
   "source": [
    "# 1. Verify we have pymatgen installed\n",
    "\n",
    "First, let's verify we have pymatgen installed. The following command should produce no error or warning:"
   ]
  },
  {
   "cell_type": "code",
   "execution_count": 14,
   "metadata": {
    "slideshow": {
     "slide_type": "fragment"
    }
   },
   "outputs": [],
   "source": [
    "import pymatgen"
   ]
  },
  {
   "cell_type": "markdown",
   "metadata": {},
   "source": [
    "We'll also import the data file for the workshop, and the Python os library to manipulate paths"
   ]
  },
  {
   "cell_type": "code",
   "execution_count": 15,
   "metadata": {},
   "outputs": [],
   "source": [
    "import os\n",
    "from mp_workshop.data import data_dir"
   ]
  },
  {
   "cell_type": "markdown",
   "metadata": {
    "slideshow": {
     "slide_type": "subslide"
    }
   },
   "source": [
    "We can show the specific version of pymatgen installed:"
   ]
  },
  {
   "cell_type": "code",
   "execution_count": 16,
   "metadata": {
    "slideshow": {
     "slide_type": "fragment"
    }
   },
   "outputs": [
    {
     "name": "stdout",
     "output_type": "stream",
     "text": [
      "2020.1.10\n"
     ]
    }
   ],
   "source": [
    "print(pymatgen.__version__)"
   ]
  },
  {
   "cell_type": "markdown",
   "metadata": {
    "slideshow": {
     "slide_type": "subslide"
    }
   },
   "source": [
    "For a list of new features, bug fixes and other changes, consult the [changelog on pymatgen.org](http://pymatgen.org/change_log.html).\n",
    "\n",
    "You can also see where pymatgen is installed on your computer:"
   ]
  },
  {
   "cell_type": "code",
   "execution_count": 17,
   "metadata": {
    "slideshow": {
     "slide_type": "fragment"
    }
   },
   "outputs": [
    {
     "name": "stdout",
     "output_type": "stream",
     "text": [
      "/Users/ewcss/software/pymatgen/pymatgen/__init__.py\n"
     ]
    }
   ],
   "source": [
    "print(pymatgen.__file__)"
   ]
  },
  {
   "cell_type": "markdown",
   "metadata": {
    "slideshow": {
     "slide_type": "subslide"
    }
   },
   "source": [
    "We can also see which version of the Python programming language we are using:"
   ]
  },
  {
   "cell_type": "code",
   "execution_count": 18,
   "metadata": {
    "slideshow": {
     "slide_type": "fragment"
    }
   },
   "outputs": [
    {
     "name": "stdout",
     "output_type": "stream",
     "text": [
      "3.7.4 (default, Aug 13 2019, 15:17:50) \n",
      "[Clang 4.0.1 (tags/RELEASE_401/final)]\n"
     ]
    }
   ],
   "source": [
    "import sys\n",
    "print(sys.version)"
   ]
  },
  {
   "cell_type": "markdown",
   "metadata": {
    "slideshow": {
     "slide_type": "fragment"
    }
   },
   "source": [
    "If you have problems or need to report bugs when using pymatgen after the workshop, the above information is often very useful to help us identify the problem."
   ]
  },
  {
   "cell_type": "markdown",
   "metadata": {
    "slideshow": {
     "slide_type": "slide"
    }
   },
   "source": [
    "# 2. Structures and Molecules\n",
    "\n",
    "Most of the fundamentals of pymatgen are expressed in terms of [**`Molecule`**](http://pymatgen.org/pymatgen.core.structure.html#pymatgen.core.structure.Molecule) and [**`Structure`**](http://pymatgen.org/pymatgen.core.structure.html#pymatgen.core.structure.Structure) objects.\n",
    "\n",
    "While we will mostly be using `Structure`, `Stucture` and `Molecule` are very similar conceptually. The main difference is that `Structure` supports full periodicity required to describe crystallographic structures.\n",
    "\n",
    "Creating a `Structure` can be done in one line, even for complicated crystallographic structures. However, we'll start by introducing the somewhat simpler `Molecule` object, and then use this understanding of `Molecule` to introduce `Structure`."
   ]
  },
  {
   "cell_type": "markdown",
   "metadata": {
    "slideshow": {
     "slide_type": "subslide"
    }
   },
   "source": [
    "## 2.0.0 Creating a Molecule\n",
    "\n",
    "Start by importing `Molecule`:"
   ]
  },
  {
   "cell_type": "code",
   "execution_count": 19,
   "metadata": {
    "slideshow": {
     "slide_type": "fragment"
    }
   },
   "outputs": [],
   "source": [
    "from pymatgen import Molecule"
   ]
  },
  {
   "cell_type": "markdown",
   "metadata": {
    "slideshow": {
     "slide_type": "fragment"
    }
   },
   "source": [
    "In a Jupyter notebook, you can show help for any Python object by clicking on the object and pressing **Shift+Tab**. This will give you a list of arguments and keyword arguments necessary to construct the object, as well as the documentation ('docstring') which gives more information on what each argument means."
   ]
  },
  {
   "cell_type": "code",
   "execution_count": 20,
   "metadata": {
    "slideshow": {
     "slide_type": "fragment"
    }
   },
   "outputs": [
    {
     "data": {
      "text/plain": [
       "pymatgen.core.structure.Molecule"
      ]
     },
     "execution_count": 20,
     "metadata": {},
     "output_type": "execute_result"
    }
   ],
   "source": [
    "Molecule"
   ]
  },
  {
   "cell_type": "markdown",
   "metadata": {
    "slideshow": {
     "slide_type": "subslide"
    }
   },
   "source": [
    "Molecule takes input **arguments** `species` and `coords`, and input **keyword arguments** `charge`, `spin_multiplicity`, `validate_proximity` and `site_properties`.\n",
    "\n",
    "Keyword arguments come with a default value (the value after the equals sign), and so keyword arguments are optional.\n",
    "\n",
    "Arguments (without default values) are mandatory."
   ]
  },
  {
   "cell_type": "code",
   "execution_count": 21,
   "metadata": {
    "slideshow": {
     "slide_type": "fragment"
    }
   },
   "outputs": [
    {
     "name": "stdout",
     "output_type": "stream",
     "text": [
      "Full Formula (C1 O1)\n",
      "Reduced Formula: CO\n",
      "Charge = 0.0, Spin Mult = 1\n",
      "Sites (2)\n",
      "0 C     0.000000     0.000000     0.000000\n",
      "1 O     0.000000     0.000000     1.200000\n"
     ]
    }
   ],
   "source": [
    "c_monox = Molecule([\"C\",\"O\"], [[0.0, 0.0, 0.0], [0.0, 0.0, 1.2]])\n",
    "print(c_monox)"
   ]
  },
  {
   "cell_type": "markdown",
   "metadata": {},
   "source": [
    "Alright, now let's change one of those default variables. How about we make an anion?"
   ]
  },
  {
   "cell_type": "code",
   "execution_count": 22,
   "metadata": {
    "slideshow": {
     "slide_type": "fragment"
    }
   },
   "outputs": [
    {
     "name": "stdout",
     "output_type": "stream",
     "text": [
      "Full Formula (H1 O1)\n",
      "Reduced Formula: H2O2\n",
      "Charge = -1, Spin Mult = 1\n",
      "Sites (2)\n",
      "0 O     0.000000     0.000000     0.000000\n",
      "1 H     0.000000     0.000000     1.000000\n"
     ]
    }
   ],
   "source": [
    "oh_minus = Molecule([\"O\", \"H\"], [[0.0, 0.0, 0.0], [0.0, 0.0, 1.0]], charge=-1)\n",
    "print(oh_minus)"
   ]
  },
  {
   "cell_type": "markdown",
   "metadata": {},
   "source": [
    "You can also create Molecule objects from files. Let's say you have an \\*.xyz file called \"water.xyz\". You can import that into pymatgen with `Molecule.from_file`, like:"
   ]
  },
  {
   "cell_type": "code",
   "execution_count": 23,
   "metadata": {},
   "outputs": [
    {
     "name": "stdout",
     "output_type": "stream",
     "text": [
      "Full Formula (H2 O1)\n",
      "Reduced Formula: H2O\n",
      "Charge = 0, Spin Mult = 1\n",
      "Sites (3)\n",
      "0 O    -0.070000    -0.026960    -0.095240\n",
      "1 H     0.919330    -0.015310    -0.054070\n",
      "2 H    -0.359290     0.231000     0.816010\n"
     ]
    }
   ],
   "source": [
    "water_file = os.path.join(data_dir, \"pymatgen\", \"water.xyz\")\n",
    "water = Molecule.from_file(water_file)\n",
    "print(water)"
   ]
  },
  {
   "cell_type": "markdown",
   "metadata": {
    "slideshow": {
     "slide_type": "subslide"
    }
   },
   "source": [
    "## 2.0.2 Visualizing a Molecule\n",
    "\n",
    "It can be very helpful to quickly visualize molecules or structures. We've developed the [Crystal Toolkit](https://github.com/materialsproject/crystaltoolkit) library, which will allow us to automatically view Molecules and Structures within Jupyter notebooks.\n",
    "\n",
    "To properly visualize Molecule objects, including their bonds, it is necessary to first create a [**`MoleculeGraph`**](http://pymatgen.org/pymatgen.analysis.graphs.html#pymatgen.analysis.graphs.MoleculeGraph) object. A MoleculeGraph contains a Molecule but also holds information about the connections (typically bonds) within that Molecule. Here, we use a local environment class ([**`MinimumDistanceNN`**](http://pymatgen.org/pymatgen.analysis.local_env.html#pymatgen.analysis.local_env.MinimumDistanceNN) or [**`CovalentBondNN`**](http://pymatgen.org/pymatgen.analysis.local_env.html#pymatgen.analysis.local_env.CovalentBondNN)) to automatically determine the bonding environment.\n",
    "\n",
    "As we'll see, visualizing Structures is even easier than visualizing Molecules."
   ]
  },
  {
   "cell_type": "code",
   "execution_count": 24,
   "metadata": {
    "slideshow": {
     "slide_type": "fragment"
    }
   },
   "outputs": [],
   "source": [
    "from pymatgen.analysis.graphs import MoleculeGraph\n",
    "from pymatgen.analysis.local_env import CovalentBondNN, MinimumDistanceNN\n",
    "\n",
    "import crystal_toolkit"
   ]
  },
  {
   "cell_type": "code",
   "execution_count": 25,
   "metadata": {
    "slideshow": {
     "slide_type": "fragment"
    }
   },
   "outputs": [
    {
     "name": "stdout",
     "output_type": "stream",
     "text": [
      "Molecule Graph\n",
      "Molecule: \n",
      "Molecule Summary\n",
      "Site: O (-0.0700, -0.0270, -0.0952)\n",
      "Site: H (0.9193, -0.0153, -0.0541)\n",
      "Site: H (-0.3593, 0.2310, 0.8160)\n",
      "Graph: bonds\n",
      "from    to  to_image      weight\n",
      "----  ----  ------------  ------------------\n",
      "   0     1  (0, 0, 0)     8.424e-01\n",
      "   0     2  (0, 0, 0)     8.424e-01\n",
      "\n"
     ]
    },
    {
     "data": {
      "application/vnd.mp.ctk+json": {
       "contents": [
        {
         "contents": [
          {
           "clickable": true,
           "color": "#ff0d0d",
           "id": "--atoms--0",
           "positions": [
            [
             -0.07,
             -0.02696,
             -0.09524
            ]
           ],
           "radius": 0.5,
           "tooltip": "O (-0.070, -0.027, -0.095)",
           "type": "spheres"
          },
          {
           "clickable": true,
           "color": "#ffffff",
           "id": "--atoms--1",
           "positions": [
            [
             0.91933,
             -0.01531,
             -0.05407
            ]
           ],
           "radius": 0.5,
           "tooltip": "H (0.919, -0.015, -0.054)",
           "type": "spheres"
          },
          {
           "clickable": true,
           "color": "#ffffff",
           "id": "--atoms--2",
           "positions": [
            [
             -0.35929,
             0.231,
             0.81601
            ]
           ],
           "radius": 0.5,
           "tooltip": "H (-0.359, 0.231, 0.816)",
           "type": "spheres"
          }
         ],
         "id": "--atoms",
         "name": "atoms",
         "origin": [
          0,
          0,
          0
         ],
         "visible": true
        },
        {
         "contents": [
          {
           "clickable": false,
           "color": "#ff0d0d",
           "id": "--bonds--0",
           "positionPairs": [
            [
             [
              -0.07,
              -0.02696,
              -0.09524
             ],
             [
              0.42466499999999996,
              -0.021135,
              -0.074655
             ]
            ],
            [
             [
              -0.07,
              -0.02696,
              -0.09524
             ],
             [
              -0.214645,
              0.10202,
              0.360385
             ]
            ]
           ],
           "radius": 0.1,
           "type": "cylinders"
          },
          {
           "clickable": false,
           "color": "#ffffff",
           "id": "--bonds--1",
           "positionPairs": [
            [
             [
              0.91933,
              -0.01531,
              -0.05407
             ],
             [
              0.42466499999999996,
              -0.021135,
              -0.074655
             ]
            ],
            [
             [
              -0.35929,
              0.231,
              0.81601
             ],
             [
              -0.214645,
              0.10202,
              0.360385
             ]
            ]
           ],
           "radius": 0.1,
           "type": "cylinders"
          }
         ],
         "id": "--bonds",
         "name": "bonds",
         "origin": [
          0,
          0,
          0
         ],
         "visible": true
        },
        {
         "contents": [],
         "id": "--polyhedra",
         "name": "polyhedra",
         "origin": [
          0,
          0,
          0
         ],
         "visible": true
        }
       ],
       "name": "H2O",
       "visible": true
      },
      "text/plain": [
       "Molecule Graph\n",
       "Molecule: \n",
       "Molecule Summary\n",
       "Site: O (-0.0700, -0.0270, -0.0952)\n",
       "Site: H (0.9193, -0.0153, -0.0541)\n",
       "Site: H (-0.3593, 0.2310, 0.8160)\n",
       "Graph: bonds\n",
       "from    to  to_image      weight\n",
       "----  ----  ------------  ------------------\n",
       "   0     1  (0, 0, 0)     8.424e-01\n",
       "   0     2  (0, 0, 0)     8.424e-01\n"
      ]
     },
     "metadata": {},
     "output_type": "display_data"
    }
   ],
   "source": [
    "water_mg = MoleculeGraph.with_local_env_strategy(water, CovalentBondNN())\n",
    "water_mg"
   ]
  },
  {
   "cell_type": "markdown",
   "metadata": {},
   "source": [
    "## 2.0.3 Exercise\n",
    "\n",
    "Try it yourself! Create molecules however you like!\n",
    "\n",
    "In this folder are several example molecules (`methane.xyz`, `furan.xyz`, and `benzene.xyz`). Try loading these files with `Molecule.from_file`. You can also try making a Molecule from a list of species and coordinates. Try changing the default parameters - see what you can and cannot do.\n",
    "\n",
    "Once you've made your molecule, visualize it to make sure it looks as you'd expect."
   ]
  },
  {
   "cell_type": "markdown",
   "metadata": {
    "slideshow": {
     "slide_type": "subslide"
    }
   },
   "source": [
    "## 2.1.0 What's in a Molecule? Introducing Sites, Elements and Species"
   ]
  },
  {
   "cell_type": "markdown",
   "metadata": {
    "slideshow": {
     "slide_type": "fragment"
    }
   },
   "source": [
    "You can access properties of the molecule, such as the Cartesian coordinates of its sites:"
   ]
  },
  {
   "cell_type": "code",
   "execution_count": 26,
   "metadata": {
    "slideshow": {
     "slide_type": "fragment"
    }
   },
   "outputs": [
    {
     "name": "stdout",
     "output_type": "stream",
     "text": [
      "[[0.  0.  0. ]\n",
      " [0.  0.  1.2]]\n"
     ]
    }
   ],
   "source": [
    "print(c_monox.cart_coords)"
   ]
  },
  {
   "cell_type": "markdown",
   "metadata": {
    "slideshow": {
     "slide_type": "fragment"
    }
   },
   "source": [
    "or properties that are computed on-the-fly, such as its center of mass:"
   ]
  },
  {
   "cell_type": "code",
   "execution_count": 27,
   "metadata": {
    "slideshow": {
     "slide_type": "fragment"
    }
   },
   "outputs": [
    {
     "name": "stdout",
     "output_type": "stream",
     "text": [
      "[0.         0.         0.68544132]\n"
     ]
    }
   ],
   "source": [
    "print(c_monox.center_of_mass)"
   ]
  },
  {
   "cell_type": "markdown",
   "metadata": {
    "slideshow": {
     "slide_type": "subslide"
    }
   },
   "source": [
    "To see the full list of available properties and methods, press **Tab** after typing `my_molecule.` in your Jupyter notebook. There are methods used to modify the molecule and these take additional argument(s). For example, to add a charge to the molecule:"
   ]
  },
  {
   "cell_type": "code",
   "execution_count": 28,
   "metadata": {
    "slideshow": {
     "slide_type": "fragment"
    }
   },
   "outputs": [],
   "source": [
    "c_monox.set_charge_and_spin(charge=1)"
   ]
  },
  {
   "cell_type": "code",
   "execution_count": 29,
   "metadata": {
    "slideshow": {
     "slide_type": "fragment"
    }
   },
   "outputs": [
    {
     "name": "stdout",
     "output_type": "stream",
     "text": [
      "Full Formula (C1 O1)\n",
      "Reduced Formula: CO\n",
      "Charge = 1, Spin Mult = 2\n",
      "Sites (2)\n",
      "0 C     0.000000     0.000000     0.000000\n",
      "1 O     0.000000     0.000000     1.200000\n"
     ]
    }
   ],
   "source": [
    "print(c_monox)"
   ]
  },
  {
   "cell_type": "markdown",
   "metadata": {
    "slideshow": {
     "slide_type": "subslide"
    }
   },
   "source": [
    "A molecule is essentially a list of `Site` objects. We can access these sites like we would a list in Python. For example, to obtain the total number of sites in the molecule:"
   ]
  },
  {
   "cell_type": "code",
   "execution_count": 30,
   "metadata": {
    "slideshow": {
     "slide_type": "fragment"
    }
   },
   "outputs": [
    {
     "data": {
      "text/plain": [
       "2"
      ]
     },
     "execution_count": 30,
     "metadata": {},
     "output_type": "execute_result"
    }
   ],
   "source": [
    "len(c_monox)"
   ]
  },
  {
   "cell_type": "markdown",
   "metadata": {
    "slideshow": {
     "slide_type": "fragment"
    }
   },
   "source": [
    "Or to access the first site (note that Python is a 0-indexed programming language, so the first site is site 0):"
   ]
  },
  {
   "cell_type": "code",
   "execution_count": 31,
   "metadata": {
    "slideshow": {
     "slide_type": "fragment"
    }
   },
   "outputs": [
    {
     "name": "stdout",
     "output_type": "stream",
     "text": [
      "[0. 0. 0.] C\n"
     ]
    }
   ],
   "source": [
    "print(c_monox[0])"
   ]
  },
  {
   "cell_type": "markdown",
   "metadata": {},
   "source": [
    "And just like a list, I can even change the elements of a molecule."
   ]
  },
  {
   "cell_type": "code",
   "execution_count": 32,
   "metadata": {},
   "outputs": [
    {
     "name": "stdout",
     "output_type": "stream",
     "text": [
      "Molecule Summary\n",
      "Site: O (0.0000, 0.0000, 0.0000)\n",
      "Site: C (0.0000, 0.0000, 1.2000)\n"
     ]
    },
    {
     "data": {
      "application/json": {
       "@class": "Molecule",
       "@module": "pymatgen.core.structure",
       "charge": 1,
       "sites": [
        {
         "name": "O",
         "properties": {},
         "species": [
          {
           "element": "O",
           "occu": 1
          }
         ],
         "xyz": [
          0,
          0,
          0
         ]
        },
        {
         "name": "C",
         "properties": {},
         "species": [
          {
           "element": "C",
           "occu": 1
          }
         ],
         "xyz": [
          0,
          0,
          1.2
         ]
        }
       ],
       "spin_multiplicity": 2
      },
      "text/plain": [
       "Molecule Summary\n",
       "Site: O (0.0000, 0.0000, 0.0000)\n",
       "Site: C (0.0000, 0.0000, 1.2000)"
      ]
     },
     "metadata": {},
     "output_type": "display_data"
    }
   ],
   "source": [
    "c_monox[0] = \"O\"\n",
    "c_monox[1] = \"C\"\n",
    "c_monox"
   ]
  },
  {
   "cell_type": "markdown",
   "metadata": {
    "slideshow": {
     "slide_type": "subslide"
    }
   },
   "source": [
    "A site object contains information on the site's identity and position in space."
   ]
  },
  {
   "cell_type": "code",
   "execution_count": 33,
   "metadata": {
    "slideshow": {
     "slide_type": "fragment"
    }
   },
   "outputs": [],
   "source": [
    "site0 = c_monox[0]"
   ]
  },
  {
   "cell_type": "code",
   "execution_count": 34,
   "metadata": {
    "slideshow": {
     "slide_type": "fragment"
    }
   },
   "outputs": [
    {
     "data": {
      "text/plain": [
       "array([0., 0., 0.])"
      ]
     },
     "execution_count": 34,
     "metadata": {},
     "output_type": "execute_result"
    }
   ],
   "source": [
    "site0.coords"
   ]
  },
  {
   "cell_type": "code",
   "execution_count": 35,
   "metadata": {
    "slideshow": {
     "slide_type": "fragment"
    }
   },
   "outputs": [
    {
     "data": {
      "text/plain": [
       "Element O"
      ]
     },
     "execution_count": 35,
     "metadata": {},
     "output_type": "execute_result"
    }
   ],
   "source": [
    "site0.specie"
   ]
  },
  {
   "cell_type": "markdown",
   "metadata": {
    "slideshow": {
     "slide_type": "fragment"
    }
   },
   "source": [
    "Here, because we switched the elements, the site holds the element O. In general, a site can hold an [**`Element`**](http://pymatgen.org/pymatgen.core.periodic_table.html#pymatgen.core.periodic_table.Element), a [**`Specie`**](http://pymatgen.org/pymatgen.core.periodic_table.html#pymatgen.core.periodic_table.Specie) or a [**`Composition`**](http://pymatgen.org/pymatgen.core.composition.html#pymatgen.core.composition.Composition). Let's look at each of these in turn."
   ]
  },
  {
   "cell_type": "code",
   "execution_count": 36,
   "metadata": {
    "slideshow": {
     "slide_type": "subslide"
    }
   },
   "outputs": [],
   "source": [
    "from pymatgen import Element, Specie, Composition"
   ]
  },
  {
   "cell_type": "markdown",
   "metadata": {
    "slideshow": {
     "slide_type": "fragment"
    }
   },
   "source": [
    "An `Element` is simply an element from the Periodic Table."
   ]
  },
  {
   "cell_type": "code",
   "execution_count": 37,
   "metadata": {
    "slideshow": {
     "slide_type": "fragment"
    }
   },
   "outputs": [],
   "source": [
    "carbon = Element('C')"
   ]
  },
  {
   "cell_type": "markdown",
   "metadata": {
    "slideshow": {
     "slide_type": "fragment"
    }
   },
   "source": [
    "Elements have properties such as atomic mass, average ionic radius and more:"
   ]
  },
  {
   "cell_type": "code",
   "execution_count": 38,
   "metadata": {
    "slideshow": {
     "slide_type": "fragment"
    }
   },
   "outputs": [
    {
     "data": {
      "text/plain": [
       "0.3"
      ]
     },
     "execution_count": 38,
     "metadata": {},
     "output_type": "execute_result"
    }
   ],
   "source": [
    "carbon.average_ionic_radius"
   ]
  },
  {
   "cell_type": "markdown",
   "metadata": {
    "slideshow": {
     "slide_type": "subslide"
    }
   },
   "source": [
    "A `Specie` can contain additional information, such as oxidation state:"
   ]
  },
  {
   "cell_type": "code",
   "execution_count": 39,
   "metadata": {
    "slideshow": {
     "slide_type": "fragment"
    }
   },
   "outputs": [
    {
     "name": "stdout",
     "output_type": "stream",
     "text": [
      "Specie O2-\n"
     ]
    },
    {
     "data": {
      "application/json": {
       "@class": "Specie",
       "@module": "pymatgen.core.periodic_table",
       "element": "O",
       "oxidation_state": -2
      },
      "text/plain": [
       "Specie O2-"
      ]
     },
     "metadata": {},
     "output_type": "display_data"
    }
   ],
   "source": [
    "o_ion = Specie('O', oxidation_state=-2)\n",
    "o_ion"
   ]
  },
  {
   "cell_type": "markdown",
   "metadata": {},
   "source": [
    "Again, we can access both these **`Specie`**-specific properties and more general properties of Elements."
   ]
  },
  {
   "cell_type": "code",
   "execution_count": 40,
   "metadata": {},
   "outputs": [
    {
     "data": {
      "text/plain": [
       "-2"
      ]
     },
     "execution_count": 40,
     "metadata": {},
     "output_type": "execute_result"
    }
   ],
   "source": [
    "o_ion.oxi_state"
   ]
  },
  {
   "cell_type": "code",
   "execution_count": 41,
   "metadata": {},
   "outputs": [
    {
     "data": {
      "text/plain": [
       "15.9994"
      ]
     },
     "execution_count": 41,
     "metadata": {},
     "output_type": "execute_result"
    }
   ],
   "source": [
    "o_ion.atomic_mass"
   ]
  },
  {
   "cell_type": "markdown",
   "metadata": {
    "slideshow": {
     "slide_type": "fragment"
    }
   },
   "source": [
    "Or, for convenience:"
   ]
  },
  {
   "cell_type": "code",
   "execution_count": 42,
   "metadata": {
    "slideshow": {
     "slide_type": "fragment"
    }
   },
   "outputs": [
    {
     "name": "stdout",
     "output_type": "stream",
     "text": [
      "Specie O2-\n"
     ]
    },
    {
     "data": {
      "application/json": {
       "@class": "Specie",
       "@module": "pymatgen.core.periodic_table",
       "element": "O",
       "oxidation_state": -2
      },
      "text/plain": [
       "Specie O2-"
      ]
     },
     "metadata": {},
     "output_type": "display_data"
    }
   ],
   "source": [
    "Specie.from_string('O2-')"
   ]
  },
  {
   "cell_type": "markdown",
   "metadata": {
    "slideshow": {
     "slide_type": "subslide"
    }
   },
   "source": [
    "Finally, a `Composition` is an object that can hold certain amounts of different elements or species. This is most useful in a disordered Structure, and would rarely be used in a Molecule. For example, a site that holds 50% Au and 50% Cu would be set as follows:"
   ]
  },
  {
   "cell_type": "code",
   "execution_count": 43,
   "metadata": {
    "slideshow": {
     "slide_type": "fragment"
    }
   },
   "outputs": [],
   "source": [
    "comp = Composition({'Au': 0.5, 'Cu': 0.5})"
   ]
  },
  {
   "cell_type": "markdown",
   "metadata": {},
   "source": [
    "A **`Composition`** contains more information than either an **`Element`** or a **`Specie`**. Because it can contain multiple **`Elements`**/**`Species`**, you can obtain the formula, or the chemical system."
   ]
  },
  {
   "cell_type": "code",
   "execution_count": 44,
   "metadata": {},
   "outputs": [
    {
     "name": "stdout",
     "output_type": "stream",
     "text": [
      "formula Au0.5 Cu0.5\n",
      "chemical system Au-Cu\n"
     ]
    }
   ],
   "source": [
    "print(\"formula\", comp.alphabetical_formula)\n",
    "print(\"chemical system\", comp.chemical_system)"
   ]
  },
  {
   "cell_type": "markdown",
   "metadata": {
    "slideshow": {
     "slide_type": "fragment"
    }
   },
   "source": [
    "When we construct a `Molecule`, the input argument will automatically be converted into one of `Element`, `Specie` or `Composition`. Thus, in the previous example, when we first defined carbon monoxide, the input `['C', 'O']` was converted to `[Element C, Element O]`."
   ]
  },
  {
   "cell_type": "markdown",
   "metadata": {
    "slideshow": {
     "slide_type": "slide"
    }
   },
   "source": [
    "## 2.1.1 Exercise: Hydrogen Cyanide\n",
    "\n",
    "Construct the linear HCN molecule where each bond distance is the sum of the two atomic radii. The atomic spheres should not substantially overlap."
   ]
  },
  {
   "cell_type": "code",
   "execution_count": 45,
   "metadata": {
    "slideshow": {
     "slide_type": "fragment"
    }
   },
   "outputs": [
    {
     "name": "stdout",
     "output_type": "stream",
     "text": [
      "Molecule Graph\n",
      "Molecule: \n",
      "Molecule Summary\n",
      "Site: H (0.0000, 0.0000, 0.0000)\n",
      "Site: C (0.9500, 0.0000, 0.0000)\n",
      "Site: N (2.3000, 0.0000, 0.0000)\n",
      "Graph: bonds\n",
      "from    to  to_image      weight\n",
      "----  ----  ------------  ------------------\n",
      "   0     1  (0, 0, 0)     1.000e+00\n",
      "   1     2  (0, 0, 0)     1.706e+00\n",
      "\n"
     ]
    },
    {
     "data": {
      "application/vnd.mp.ctk+json": {
       "contents": [
        {
         "contents": [
          {
           "clickable": true,
           "color": "#ffffff",
           "id": "--atoms--0",
           "positions": [
            [
             0,
             0,
             0
            ]
           ],
           "radius": 0.5,
           "tooltip": "H (0.000, 0.000, 0.000)",
           "type": "spheres"
          },
          {
           "clickable": true,
           "color": "#909090",
           "id": "--atoms--1",
           "positions": [
            [
             0.95,
             0,
             0
            ]
           ],
           "radius": 0.5,
           "tooltip": "C (0.950, 0.000, 0.000)",
           "type": "spheres"
          },
          {
           "clickable": true,
           "color": "#3050f8",
           "id": "--atoms--2",
           "positions": [
            [
             2.3,
             0,
             0
            ]
           ],
           "radius": 0.5,
           "tooltip": "N (2.300, 0.000, 0.000)",
           "type": "spheres"
          }
         ],
         "id": "--atoms",
         "name": "atoms",
         "origin": [
          0,
          0,
          0
         ],
         "visible": true
        },
        {
         "contents": [
          {
           "clickable": false,
           "color": "#ffffff",
           "id": "--bonds--0",
           "positionPairs": [
            [
             [
              0,
              0,
              0
             ],
             [
              0.475,
              0,
              0
             ]
            ]
           ],
           "radius": 0.1,
           "type": "cylinders"
          },
          {
           "clickable": false,
           "color": "#909090",
           "id": "--bonds--1",
           "positionPairs": [
            [
             [
              0.95,
              0,
              0
             ],
             [
              0.475,
              0,
              0
             ]
            ],
            [
             [
              0.95,
              0,
              0
             ],
             [
              1.625,
              0,
              0
             ]
            ]
           ],
           "radius": 0.1,
           "type": "cylinders"
          },
          {
           "clickable": false,
           "color": "#3050f8",
           "id": "--bonds--2",
           "positionPairs": [
            [
             [
              2.3,
              0,
              0
             ],
             [
              1.625,
              0,
              0
             ]
            ]
           ],
           "radius": 0.1,
           "type": "cylinders"
          }
         ],
         "id": "--bonds",
         "name": "bonds",
         "origin": [
          0,
          0,
          0
         ],
         "visible": true
        },
        {
         "contents": [],
         "id": "--polyhedra",
         "name": "polyhedra",
         "origin": [
          0,
          0,
          0
         ],
         "visible": true
        }
       ],
       "name": "HCN",
       "visible": true
      },
      "text/plain": [
       "Molecule Graph\n",
       "Molecule: \n",
       "Molecule Summary\n",
       "Site: H (0.0000, 0.0000, 0.0000)\n",
       "Site: C (0.9500, 0.0000, 0.0000)\n",
       "Site: N (2.3000, 0.0000, 0.0000)\n",
       "Graph: bonds\n",
       "from    to  to_image      weight\n",
       "----  ----  ------------  ------------------\n",
       "   0     1  (0, 0, 0)     1.000e+00\n",
       "   1     2  (0, 0, 0)     1.706e+00\n"
      ]
     },
     "metadata": {},
     "output_type": "display_data"
    }
   ],
   "source": [
    "H_rad = Element('H').atomic_radius\n",
    "C_rad = Element('C').atomic_radius\n",
    "N_rad = Element('N').atomic_radius\n",
    "HC_bond_dist = H_rad + C_rad\n",
    "CN_bond_dist = C_rad + N_rad\n",
    "H_pos = 0\n",
    "C_pos = H_pos + HC_bond_dist\n",
    "N_pos = C_pos + CN_bond_dist\n",
    "hcn = Molecule(['H','C','N'], [[H_pos, 0, 0], [C_pos, 0, 0],[N_pos, 0, 0]])\n",
    "hcn_mg = MoleculeGraph.with_local_env_strategy(hcn, CovalentBondNN())\n",
    "hcn_mg"
   ]
  },
  {
   "cell_type": "markdown",
   "metadata": {
    "slideshow": {
     "slide_type": "slide"
    }
   },
   "source": [
    "## 2.2.0 Creating a Structure and Lattice"
   ]
  },
  {
   "cell_type": "markdown",
   "metadata": {
    "slideshow": {
     "slide_type": "fragment"
    }
   },
   "source": [
    "Creating a `Structure` is very similar to creating a `Molecule`, except we now also have to specify a `Lattice`. "
   ]
  },
  {
   "cell_type": "code",
   "execution_count": 46,
   "metadata": {
    "slideshow": {
     "slide_type": "fragment"
    }
   },
   "outputs": [],
   "source": [
    "from pymatgen import Structure, Lattice"
   ]
  },
  {
   "cell_type": "markdown",
   "metadata": {
    "slideshow": {
     "slide_type": "fragment"
    }
   },
   "source": [
    "A `Lattice` can be created in one of several ways, such as by inputting a 3x3 matrix describing the individual lattice vectors. For example, a cubic lattice of length 5 Ångstrom:"
   ]
  },
  {
   "cell_type": "code",
   "execution_count": 47,
   "metadata": {
    "slideshow": {
     "slide_type": "fragment"
    }
   },
   "outputs": [],
   "source": [
    "my_lattice = Lattice([[5, 0, 0], [0, 5, 0], [0, 0, 5]])"
   ]
  },
  {
   "cell_type": "code",
   "execution_count": 48,
   "metadata": {
    "slideshow": {
     "slide_type": "fragment"
    }
   },
   "outputs": [
    {
     "name": "stdout",
     "output_type": "stream",
     "text": [
      "Lattice\n",
      "    abc : 5.0 5.0 5.0\n",
      " angles : 90.0 90.0 90.0\n",
      " volume : 125.0\n",
      "      A : 5.0 0.0 0.0\n",
      "      B : 0.0 5.0 0.0\n",
      "      C : 0.0 0.0 5.0\n"
     ]
    },
    {
     "data": {
      "application/vnd.mp.ctk+json": {
       "contents": [
        {
         "clickable": false,
         "id": "--0",
         "positions": [
          [
           0,
           0,
           0
          ],
          [
           5,
           0,
           0
          ],
          [
           0,
           0,
           0
          ],
          [
           0,
           5,
           0
          ],
          [
           0,
           0,
           0
          ],
          [
           0,
           0,
           5
          ],
          [
           5,
           0,
           0
          ],
          [
           5,
           5,
           0
          ],
          [
           5,
           0,
           0
          ],
          [
           5,
           0,
           5
          ],
          [
           0,
           5,
           0
          ],
          [
           5,
           5,
           0
          ],
          [
           0,
           5,
           0
          ],
          [
           0,
           5,
           5
          ],
          [
           0,
           0,
           5
          ],
          [
           5,
           0,
           5
          ],
          [
           0,
           0,
           5
          ],
          [
           0,
           5,
           5
          ],
          [
           5,
           5,
           0
          ],
          [
           5,
           5,
           5
          ],
          [
           5,
           0,
           5
          ],
          [
           5,
           5,
           5
          ],
          [
           0,
           5,
           5
          ],
          [
           5,
           5,
           5
          ]
         ],
         "type": "lines"
        }
       ],
       "name": "a=5.0, b=5.0, c=5.0, alpha=90.0, beta=90.0, gamma=90.0",
       "visible": true
      },
      "text/plain": [
       "Lattice\n",
       "    abc : 5.0 5.0 5.0\n",
       " angles : 90.0 90.0 90.0\n",
       " volume : 125.0\n",
       "      A : 5.0 0.0 0.0\n",
       "      B : 0.0 5.0 0.0\n",
       "      C : 0.0 0.0 5.0"
      ]
     },
     "metadata": {},
     "output_type": "display_data"
    }
   ],
   "source": [
    "my_lattice"
   ]
  },
  {
   "cell_type": "markdown",
   "metadata": {
    "slideshow": {
     "slide_type": "subslide"
    }
   },
   "source": [
    "Equivalently, we can create it from its lattice parameters:"
   ]
  },
  {
   "cell_type": "code",
   "execution_count": 49,
   "metadata": {
    "slideshow": {
     "slide_type": "fragment"
    }
   },
   "outputs": [],
   "source": [
    "my_lattice_2 = Lattice.from_parameters(5, 5, 5, 90, 90, 90)"
   ]
  },
  {
   "cell_type": "markdown",
   "metadata": {
    "slideshow": {
     "slide_type": "fragment"
    }
   },
   "source": [
    "Or, since we know in this case that we have a cubic lattice, a == b == c and alpha == beta == gamma == 90 degrees, so we can simply put:"
   ]
  },
  {
   "cell_type": "code",
   "execution_count": 50,
   "metadata": {
    "slideshow": {
     "slide_type": "fragment"
    }
   },
   "outputs": [],
   "source": [
    "my_lattice_3 = Lattice.cubic(5)"
   ]
  },
  {
   "cell_type": "markdown",
   "metadata": {
    "slideshow": {
     "slide_type": "fragment"
    }
   },
   "source": [
    "We can confirm that these lattices are the same:"
   ]
  },
  {
   "cell_type": "code",
   "execution_count": 51,
   "metadata": {
    "slideshow": {
     "slide_type": "fragment"
    }
   },
   "outputs": [
    {
     "data": {
      "text/plain": [
       "True"
      ]
     },
     "execution_count": 51,
     "metadata": {},
     "output_type": "execute_result"
    }
   ],
   "source": [
    "my_lattice == my_lattice_2 == my_lattice_3"
   ]
  },
  {
   "cell_type": "markdown",
   "metadata": {
    "slideshow": {
     "slide_type": "subslide"
    }
   },
   "source": [
    "Now, we can create a simple crystal structure. Let's start with body-centered-cubic iron:"
   ]
  },
  {
   "cell_type": "code",
   "execution_count": 52,
   "metadata": {
    "slideshow": {
     "slide_type": "fragment"
    }
   },
   "outputs": [
    {
     "name": "stdout",
     "output_type": "stream",
     "text": [
      "Structure Summary\n",
      "Lattice\n",
      "    abc : 2.8 2.8 2.8\n",
      " angles : 90.0 90.0 90.0\n",
      " volume : 21.951999999999995\n",
      "      A : 2.8 0.0 0.0\n",
      "      B : 0.0 2.8 0.0\n",
      "      C : 0.0 0.0 2.8\n",
      "PeriodicSite: Fe (0.0000, 0.0000, 0.0000) [0.0000, 0.0000, 0.0000]\n",
      "PeriodicSite: Fe (1.4000, 1.4000, 1.4000) [0.5000, 0.5000, 0.5000]\n"
     ]
    },
    {
     "data": {
      "application/vnd.mp.ctk+json": {
       "contents": [
        {
         "contents": [
          {
           "clickable": true,
           "color": "#e06633",
           "id": "--atoms--0",
           "positions": [
            [
             0,
             0,
             0
            ],
            [
             0,
             0,
             0
            ],
            [
             0,
             0,
             0
            ],
            [
             0,
             0,
             0
            ],
            [
             0,
             0,
             0
            ],
            [
             0,
             0,
             0
            ],
            [
             0,
             0,
             0
            ],
            [
             0,
             0,
             0
            ]
           ],
           "radius": 0.5,
           "tooltip": "Fe (0.000, 0.000, 0.000)",
           "type": "spheres"
          },
          {
           "clickable": true,
           "color": "#e06633",
           "id": "--atoms--1",
           "positions": [
            [
             1.4,
             1.4,
             1.4
            ]
           ],
           "radius": 0.5,
           "tooltip": "Fe (1.400, 1.400, 1.400)",
           "type": "spheres"
          }
         ],
         "id": "--atoms",
         "name": "atoms",
         "origin": [
          0,
          0,
          0
         ],
         "visible": true
        },
        {
         "contents": [],
         "id": "--bonds",
         "name": "bonds",
         "origin": [
          0,
          0,
          0
         ],
         "visible": true
        },
        {
         "contents": [],
         "id": "--polyhedra",
         "name": "polyhedra",
         "origin": [
          0,
          0,
          0
         ],
         "visible": true
        },
        {
         "contents": [
          {
           "contents": [
            {
             "clickable": false,
             "id": "--unit_cell--a=2.8, b=2.8, c=2.8, alpha=90.0, beta=90.0, gamma=90.0--0",
             "positions": [
              [
               0,
               0,
               0
              ],
              [
               2.8,
               0,
               0
              ],
              [
               0,
               0,
               0
              ],
              [
               0,
               2.8,
               0
              ],
              [
               0,
               0,
               0
              ],
              [
               0,
               0,
               2.8
              ],
              [
               2.8,
               0,
               0
              ],
              [
               2.8,
               2.8,
               0
              ],
              [
               2.8,
               0,
               0
              ],
              [
               2.8,
               0,
               2.8
              ],
              [
               0,
               2.8,
               0
              ],
              [
               2.8,
               2.8,
               0
              ],
              [
               0,
               2.8,
               0
              ],
              [
               0,
               2.8,
               2.8
              ],
              [
               0,
               0,
               2.8
              ],
              [
               2.8,
               0,
               2.8
              ],
              [
               0,
               0,
               2.8
              ],
              [
               0,
               2.8,
               2.8
              ],
              [
               2.8,
               2.8,
               0
              ],
              [
               2.8,
               2.8,
               2.8
              ],
              [
               2.8,
               0,
               2.8
              ],
              [
               2.8,
               2.8,
               2.8
              ],
              [
               0,
               2.8,
               2.8
              ],
              [
               2.8,
               2.8,
               2.8
              ]
             ],
             "type": "lines"
            }
           ],
           "id": "--unit_cell--a=2.8, b=2.8, c=2.8, alpha=90.0, beta=90.0, gamma=90.0",
           "name": "a=2.8, b=2.8, c=2.8, alpha=90.0, beta=90.0, gamma=90.0",
           "origin": [
            -1.4,
            -1.4,
            -1.4
           ],
           "visible": true
          }
         ],
         "id": "--unit_cell",
         "name": "unit_cell",
         "origin": [
          0,
          0,
          0
         ],
         "visible": true
        }
       ],
       "name": "Fe",
       "origin": [
        -1.4,
        -1.4,
        -1.4
       ],
       "visible": true
      },
      "text/plain": [
       "Structure Summary\n",
       "Lattice\n",
       "    abc : 2.8 2.8 2.8\n",
       " angles : 90.0 90.0 90.0\n",
       " volume : 21.951999999999995\n",
       "      A : 2.8 0.0 0.0\n",
       "      B : 0.0 2.8 0.0\n",
       "      C : 0.0 0.0 2.8\n",
       "PeriodicSite: Fe (0.0000, 0.0000, 0.0000) [0.0000, 0.0000, 0.0000]\n",
       "PeriodicSite: Fe (1.4000, 1.4000, 1.4000) [0.5000, 0.5000, 0.5000]"
      ]
     },
     "metadata": {},
     "output_type": "display_data"
    }
   ],
   "source": [
    "bcc_fe = Structure(Lattice.cubic(2.8), [\"Fe\", \"Fe\"], [[0, 0, 0], [0.5, 0.5, 0.5]])\n",
    "bcc_fe"
   ]
  },
  {
   "cell_type": "code",
   "execution_count": 53,
   "metadata": {
    "slideshow": {
     "slide_type": "fragment"
    }
   },
   "outputs": [
    {
     "name": "stdout",
     "output_type": "stream",
     "text": [
      "Full Formula (Fe2)\n",
      "Reduced Formula: Fe\n",
      "abc   :   2.800000   2.800000   2.800000\n",
      "angles:  90.000000  90.000000  90.000000\n",
      "Sites (2)\n",
      "  #  SP      a    b    c\n",
      "---  ----  ---  ---  ---\n",
      "  0  Fe    0    0    0\n",
      "  1  Fe    0.5  0.5  0.5\n"
     ]
    }
   ],
   "source": [
    "print(bcc_fe)"
   ]
  },
  {
   "cell_type": "markdown",
   "metadata": {
    "slideshow": {
     "slide_type": "fragment"
    }
   },
   "source": [
    "Creating this `Structure` was similar to creating a `Molecule` in that we provided a list of elements and a list of positions. However, there are two key differences: we had to include our `Lattice` object when creating the `Structure` and since we have a lattice, we can define the positions of our sites in *fractional coordinates* with respect to that lattice instead of Cartesian coordinates."
   ]
  },
  {
   "cell_type": "markdown",
   "metadata": {
    "slideshow": {
     "slide_type": "subslide"
    }
   },
   "source": [
    "It's also possible to create an equivalent `Structure` using Cartesian coordinates:"
   ]
  },
  {
   "cell_type": "code",
   "execution_count": 54,
   "metadata": {
    "slideshow": {
     "slide_type": "fragment"
    }
   },
   "outputs": [],
   "source": [
    "bcc_fe_from_cart = Structure(Lattice.cubic(2.8), [\"Fe\", \"Fe\"], [[0, 0, 0], [1.4, 1.4, 1.4]],\n",
    "                             coords_are_cartesian=True)"
   ]
  },
  {
   "cell_type": "code",
   "execution_count": 55,
   "metadata": {
    "slideshow": {
     "slide_type": "fragment"
    }
   },
   "outputs": [
    {
     "name": "stdout",
     "output_type": "stream",
     "text": [
      "Full Formula (Fe2)\n",
      "Reduced Formula: Fe\n",
      "abc   :   2.800000   2.800000   2.800000\n",
      "angles:  90.000000  90.000000  90.000000\n",
      "Sites (2)\n",
      "  #  SP      a    b    c\n",
      "---  ----  ---  ---  ---\n",
      "  0  Fe    0    0    0\n",
      "  1  Fe    0.5  0.5  0.5\n"
     ]
    }
   ],
   "source": [
    "print(bcc_fe_from_cart)"
   ]
  },
  {
   "cell_type": "markdown",
   "metadata": {
    "slideshow": {
     "slide_type": "fragment"
    }
   },
   "source": [
    "We can check that both structures are equivalent:"
   ]
  },
  {
   "cell_type": "code",
   "execution_count": 56,
   "metadata": {
    "slideshow": {
     "slide_type": "fragment"
    }
   },
   "outputs": [
    {
     "data": {
      "text/plain": [
       "True"
      ]
     },
     "execution_count": 56,
     "metadata": {},
     "output_type": "execute_result"
    }
   ],
   "source": [
    "bcc_fe == bcc_fe_from_cart"
   ]
  },
  {
   "cell_type": "markdown",
   "metadata": {
    "slideshow": {
     "slide_type": "subslide"
    }
   },
   "source": [
    "As in a `Molecule`, we can access properties of the structure, such as its volume:"
   ]
  },
  {
   "cell_type": "code",
   "execution_count": 57,
   "metadata": {
    "slideshow": {
     "slide_type": "fragment"
    }
   },
   "outputs": [
    {
     "data": {
      "text/plain": [
       "21.951999999999995"
      ]
     },
     "execution_count": 57,
     "metadata": {},
     "output_type": "execute_result"
    }
   ],
   "source": [
    "bcc_fe.volume"
   ]
  },
  {
   "cell_type": "markdown",
   "metadata": {
    "slideshow": {
     "slide_type": "slide"
    }
   },
   "source": [
    "## 2.2.1 Creating Structures from Spacegroups"
   ]
  },
  {
   "cell_type": "markdown",
   "metadata": {
    "slideshow": {
     "slide_type": "fragment"
    }
   },
   "source": [
    "Structures can also be created directly from their spacegroup:"
   ]
  },
  {
   "cell_type": "code",
   "execution_count": 58,
   "metadata": {
    "slideshow": {
     "slide_type": "fragment"
    }
   },
   "outputs": [
    {
     "name": "stdout",
     "output_type": "stream",
     "text": [
      "Full Formula (Fe2)\n",
      "Reduced Formula: Fe\n",
      "abc   :   2.800000   2.800000   2.800000\n",
      "angles:  90.000000  90.000000  90.000000\n",
      "Sites (2)\n",
      "  #  SP      a    b    c\n",
      "---  ----  ---  ---  ---\n",
      "  0  Fe    0    0    0\n",
      "  1  Fe    0.5  0.5  0.5\n"
     ]
    }
   ],
   "source": [
    "bcc_fe = Structure.from_spacegroup(\"Im-3m\", Lattice.cubic(2.8), [\"Fe\"], [[0, 0, 0]])\n",
    "print(bcc_fe)"
   ]
  },
  {
   "cell_type": "code",
   "execution_count": 59,
   "metadata": {
    "slideshow": {
     "slide_type": "subslide"
    }
   },
   "outputs": [
    {
     "name": "stdout",
     "output_type": "stream",
     "text": [
      "Structure Summary\n",
      "Lattice\n",
      "    abc : 5.692 5.692 5.692\n",
      " angles : 90.0 90.0 90.0\n",
      " volume : 184.41433388800002\n",
      "      A : 5.692 0.0 0.0\n",
      "      B : 0.0 5.692 0.0\n",
      "      C : 0.0 0.0 5.692\n",
      "PeriodicSite: Na+ (0.0000, 0.0000, 0.0000) [0.0000, 0.0000, 0.0000]\n",
      "PeriodicSite: Na+ (0.0000, 2.8460, 2.8460) [0.0000, 0.5000, 0.5000]\n",
      "PeriodicSite: Na+ (2.8460, 0.0000, 2.8460) [0.5000, 0.0000, 0.5000]\n",
      "PeriodicSite: Na+ (2.8460, 2.8460, 0.0000) [0.5000, 0.5000, 0.0000]\n",
      "PeriodicSite: Cl- (2.8460, 2.8460, 2.8460) [0.5000, 0.5000, 0.5000]\n",
      "PeriodicSite: Cl- (2.8460, 0.0000, 0.0000) [0.5000, 0.0000, 0.0000]\n",
      "PeriodicSite: Cl- (0.0000, 2.8460, 0.0000) [0.0000, 0.5000, 0.0000]\n",
      "PeriodicSite: Cl- (0.0000, 0.0000, 2.8460) [0.0000, 0.0000, 0.5000]\n"
     ]
    },
    {
     "data": {
      "application/vnd.mp.ctk+json": {
       "contents": [
        {
         "contents": [
          {
           "clickable": true,
           "color": "#ab5cf2",
           "id": "--atoms--0",
           "positions": [
            [
             0,
             0,
             0
            ],
            [
             0,
             0,
             0
            ],
            [
             0,
             0,
             0
            ],
            [
             0,
             0,
             0
            ],
            [
             0,
             0,
             0
            ],
            [
             0,
             0,
             0
            ],
            [
             0,
             0,
             0
            ],
            [
             0,
             0,
             0
            ]
           ],
           "radius": 0.5,
           "tooltip": "Na+ (0.000, 0.000, 0.000)",
           "type": "spheres"
          },
          {
           "clickable": true,
           "color": "#1ff01f",
           "id": "--atoms--1",
           "positions": [
            [
             0,
             0,
             2.846
            ],
            [
             0,
             0,
             2.846
            ],
            [
             0,
             0,
             2.846
            ],
            [
             0,
             0,
             2.846
            ]
           ],
           "radius": 0.5,
           "tooltip": "Cl- (0.000, 0.000, 2.846)",
           "type": "spheres"
          },
          {
           "clickable": true,
           "color": "#ab5cf2",
           "id": "--atoms--2",
           "positions": [
            [
             0,
             2.846,
             2.846
            ],
            [
             0,
             2.846,
             2.846
            ]
           ],
           "radius": 0.5,
           "tooltip": "Na+ (0.000, 2.846, 2.846)",
           "type": "spheres"
          },
          {
           "clickable": true,
           "color": "#ab5cf2",
           "id": "--atoms--3",
           "positions": [
            [
             2.846,
             2.846,
             0
            ],
            [
             2.846,
             2.846,
             0
            ]
           ],
           "radius": 0.5,
           "tooltip": "Na+ (2.846, 2.846, 0.000)",
           "type": "spheres"
          },
          {
           "clickable": true,
           "color": "#1ff01f",
           "id": "--atoms--4",
           "positions": [
            [
             2.846,
             0,
             0
            ],
            [
             2.846,
             0,
             0
            ],
            [
             2.846,
             0,
             0
            ],
            [
             2.846,
             0,
             0
            ]
           ],
           "radius": 0.5,
           "tooltip": "Cl- (2.846, 0.000, 0.000)",
           "type": "spheres"
          },
          {
           "clickable": true,
           "color": "#1ff01f",
           "id": "--atoms--5",
           "positions": [
            [
             0,
             2.846,
             0
            ],
            [
             0,
             2.846,
             0
            ],
            [
             0,
             2.846,
             0
            ],
            [
             0,
             2.846,
             0
            ]
           ],
           "radius": 0.5,
           "tooltip": "Cl- (0.000, 2.846, 0.000)",
           "type": "spheres"
          },
          {
           "clickable": true,
           "color": "#ab5cf2",
           "id": "--atoms--6",
           "positions": [
            [
             2.846,
             0,
             2.846
            ],
            [
             2.846,
             0,
             2.846
            ]
           ],
           "radius": 0.5,
           "tooltip": "Na+ (2.846, 0.000, 2.846)",
           "type": "spheres"
          },
          {
           "clickable": true,
           "color": "#1ff01f",
           "id": "--atoms--7",
           "positions": [
            [
             2.846,
             2.846,
             2.846
            ]
           ],
           "radius": 0.5,
           "tooltip": "Cl- (2.846, 2.846, 2.846)",
           "type": "spheres"
          }
         ],
         "id": "--atoms",
         "name": "atoms",
         "origin": [
          0,
          0,
          0
         ],
         "visible": true
        },
        {
         "contents": [],
         "id": "--bonds",
         "name": "bonds",
         "origin": [
          0,
          0,
          0
         ],
         "visible": true
        },
        {
         "contents": [],
         "id": "--polyhedra",
         "name": "polyhedra",
         "origin": [
          0,
          0,
          0
         ],
         "visible": true
        },
        {
         "contents": [
          {
           "contents": [
            {
             "clickable": false,
             "id": "--unit_cell--a=5.692, b=5.692, c=5.692, alpha=90.0, beta=90.0, gamma=90.0--0",
             "positions": [
              [
               0,
               0,
               0
              ],
              [
               5.692,
               0,
               0
              ],
              [
               0,
               0,
               0
              ],
              [
               0,
               5.692,
               0
              ],
              [
               0,
               0,
               0
              ],
              [
               0,
               0,
               5.692
              ],
              [
               5.692,
               0,
               0
              ],
              [
               5.692,
               5.692,
               0
              ],
              [
               5.692,
               0,
               0
              ],
              [
               5.692,
               0,
               5.692
              ],
              [
               0,
               5.692,
               0
              ],
              [
               5.692,
               5.692,
               0
              ],
              [
               0,
               5.692,
               0
              ],
              [
               0,
               5.692,
               5.692
              ],
              [
               0,
               0,
               5.692
              ],
              [
               5.692,
               0,
               5.692
              ],
              [
               0,
               0,
               5.692
              ],
              [
               0,
               5.692,
               5.692
              ],
              [
               5.692,
               5.692,
               0
              ],
              [
               5.692,
               5.692,
               5.692
              ],
              [
               5.692,
               0,
               5.692
              ],
              [
               5.692,
               5.692,
               5.692
              ],
              [
               0,
               5.692,
               5.692
              ],
              [
               5.692,
               5.692,
               5.692
              ]
             ],
             "type": "lines"
            }
           ],
           "id": "--unit_cell--a=5.692, b=5.692, c=5.692, alpha=90.0, beta=90.0, gamma=90.0",
           "name": "a=5.692, b=5.692, c=5.692, alpha=90.0, beta=90.0, gamma=90.0",
           "origin": [
            -2.846,
            -2.846,
            -2.846
           ],
           "visible": true
          }
         ],
         "id": "--unit_cell",
         "name": "unit_cell",
         "origin": [
          0,
          0,
          0
         ],
         "visible": true
        }
       ],
       "name": "NaCl",
       "origin": [
        -2.846,
        -2.846,
        -2.846
       ],
       "visible": true
      },
      "text/plain": [
       "Structure Summary\n",
       "Lattice\n",
       "    abc : 5.692 5.692 5.692\n",
       " angles : 90.0 90.0 90.0\n",
       " volume : 184.41433388800002\n",
       "      A : 5.692 0.0 0.0\n",
       "      B : 0.0 5.692 0.0\n",
       "      C : 0.0 0.0 5.692\n",
       "PeriodicSite: Na+ (0.0000, 0.0000, 0.0000) [0.0000, 0.0000, 0.0000]\n",
       "PeriodicSite: Na+ (0.0000, 2.8460, 2.8460) [0.0000, 0.5000, 0.5000]\n",
       "PeriodicSite: Na+ (2.8460, 0.0000, 2.8460) [0.5000, 0.0000, 0.5000]\n",
       "PeriodicSite: Na+ (2.8460, 2.8460, 0.0000) [0.5000, 0.5000, 0.0000]\n",
       "PeriodicSite: Cl- (2.8460, 2.8460, 2.8460) [0.5000, 0.5000, 0.5000]\n",
       "PeriodicSite: Cl- (2.8460, 0.0000, 0.0000) [0.5000, 0.0000, 0.0000]\n",
       "PeriodicSite: Cl- (0.0000, 2.8460, 0.0000) [0.0000, 0.5000, 0.0000]\n",
       "PeriodicSite: Cl- (0.0000, 0.0000, 2.8460) [0.0000, 0.0000, 0.5000]"
      ]
     },
     "metadata": {},
     "output_type": "display_data"
    }
   ],
   "source": [
    "nacl = Structure.from_spacegroup(\"Fm-3m\", Lattice.cubic(5.692), [\"Na+\", \"Cl-\"],\n",
    "                                 [[0, 0, 0], [0.5, 0.5, 0.5]])\n",
    "nacl"
   ]
  },
  {
   "cell_type": "markdown",
   "metadata": {
    "slideshow": {
     "slide_type": "subslide"
    }
   },
   "source": [
    "And spacegroups can be obtained from a structure:"
   ]
  },
  {
   "cell_type": "code",
   "execution_count": 60,
   "metadata": {
    "slideshow": {
     "slide_type": "fragment"
    }
   },
   "outputs": [
    {
     "data": {
      "text/plain": [
       "('Fm-3m', 225)"
      ]
     },
     "execution_count": 60,
     "metadata": {},
     "output_type": "execute_result"
    }
   ],
   "source": [
    "nacl.get_space_group_info()"
   ]
  },
  {
   "cell_type": "markdown",
   "metadata": {
    "slideshow": {
     "slide_type": "fragment"
    }
   },
   "source": [
    "Where 225 is the spacegroup number."
   ]
  },
  {
   "cell_type": "markdown",
   "metadata": {},
   "source": [
    "# 2.2.2 Supercells"
   ]
  },
  {
   "cell_type": "markdown",
   "metadata": {},
   "source": [
    "Alright, we are now well-versed in the art of creating singular structures. But in some cases, you really don't just want one unit cell; you want a supercell. Pymatgen provides a very simple interface to create superstructures. Let's start with the simplest structure that we can imagine: Polonium, a simple cubic metal."
   ]
  },
  {
   "cell_type": "code",
   "execution_count": 61,
   "metadata": {},
   "outputs": [
    {
     "name": "stdout",
     "output_type": "stream",
     "text": [
      "Structure Summary\n",
      "Lattice\n",
      "    abc : 3.4 3.4 3.4\n",
      " angles : 90.0 90.0 90.0\n",
      " volume : 39.303999999999995\n",
      "      A : 3.4 0.0 0.0\n",
      "      B : 0.0 3.4 0.0\n",
      "      C : 0.0 0.0 3.4\n",
      "PeriodicSite: Po (0.0000, 0.0000, 0.0000) [0.0000, 0.0000, 0.0000]\n"
     ]
    },
    {
     "data": {
      "application/vnd.mp.ctk+json": {
       "contents": [
        {
         "contents": [
          {
           "clickable": true,
           "color": "#ab5c00",
           "id": "--atoms--0",
           "positions": [
            [
             0,
             0,
             0
            ],
            [
             0,
             0,
             0
            ],
            [
             0,
             0,
             0
            ],
            [
             0,
             0,
             0
            ],
            [
             0,
             0,
             0
            ],
            [
             0,
             0,
             0
            ],
            [
             0,
             0,
             0
            ],
            [
             0,
             0,
             0
            ]
           ],
           "radius": 0.5,
           "tooltip": "Po (0.000, 0.000, 0.000)",
           "type": "spheres"
          }
         ],
         "id": "--atoms",
         "name": "atoms",
         "origin": [
          0,
          0,
          0
         ],
         "visible": true
        },
        {
         "contents": [],
         "id": "--bonds",
         "name": "bonds",
         "origin": [
          0,
          0,
          0
         ],
         "visible": true
        },
        {
         "contents": [],
         "id": "--polyhedra",
         "name": "polyhedra",
         "origin": [
          0,
          0,
          0
         ],
         "visible": true
        },
        {
         "contents": [
          {
           "contents": [
            {
             "clickable": false,
             "id": "--unit_cell--a=3.4, b=3.4, c=3.4, alpha=90.0, beta=90.0, gamma=90.0--0",
             "positions": [
              [
               0,
               0,
               0
              ],
              [
               3.4,
               0,
               0
              ],
              [
               0,
               0,
               0
              ],
              [
               0,
               3.4,
               0
              ],
              [
               0,
               0,
               0
              ],
              [
               0,
               0,
               3.4
              ],
              [
               3.4,
               0,
               0
              ],
              [
               3.4,
               3.4,
               0
              ],
              [
               3.4,
               0,
               0
              ],
              [
               3.4,
               0,
               3.4
              ],
              [
               0,
               3.4,
               0
              ],
              [
               3.4,
               3.4,
               0
              ],
              [
               0,
               3.4,
               0
              ],
              [
               0,
               3.4,
               3.4
              ],
              [
               0,
               0,
               3.4
              ],
              [
               3.4,
               0,
               3.4
              ],
              [
               0,
               0,
               3.4
              ],
              [
               0,
               3.4,
               3.4
              ],
              [
               3.4,
               3.4,
               0
              ],
              [
               3.4,
               3.4,
               3.4
              ],
              [
               3.4,
               0,
               3.4
              ],
              [
               3.4,
               3.4,
               3.4
              ],
              [
               0,
               3.4,
               3.4
              ],
              [
               3.4,
               3.4,
               3.4
              ]
             ],
             "type": "lines"
            }
           ],
           "id": "--unit_cell--a=3.4, b=3.4, c=3.4, alpha=90.0, beta=90.0, gamma=90.0",
           "name": "a=3.4, b=3.4, c=3.4, alpha=90.0, beta=90.0, gamma=90.0",
           "origin": [
            -1.7,
            -1.7,
            -1.7
           ],
           "visible": true
          }
         ],
         "id": "--unit_cell",
         "name": "unit_cell",
         "origin": [
          0,
          0,
          0
         ],
         "visible": true
        }
       ],
       "name": "Po",
       "origin": [
        -1.7,
        -1.7,
        -1.7
       ],
       "visible": true
      },
      "text/plain": [
       "Structure Summary\n",
       "Lattice\n",
       "    abc : 3.4 3.4 3.4\n",
       " angles : 90.0 90.0 90.0\n",
       " volume : 39.303999999999995\n",
       "      A : 3.4 0.0 0.0\n",
       "      B : 0.0 3.4 0.0\n",
       "      C : 0.0 0.0 3.4\n",
       "PeriodicSite: Po (0.0000, 0.0000, 0.0000) [0.0000, 0.0000, 0.0000]"
      ]
     },
     "metadata": {},
     "output_type": "display_data"
    }
   ],
   "source": [
    "polonium = Structure(Lattice.cubic(3.4), [\"Po\"], [[0.0, 0.0, 0.0]])\n",
    "\n",
    "polonium"
   ]
  },
  {
   "cell_type": "markdown",
   "metadata": {},
   "source": [
    "To make a supercell, we can just multiply the structure by a tuple!"
   ]
  },
  {
   "cell_type": "code",
   "execution_count": 62,
   "metadata": {},
   "outputs": [
    {
     "name": "stdout",
     "output_type": "stream",
     "text": [
      "Structure Summary\n",
      "Lattice\n",
      "    abc : 6.8 6.8 6.8\n",
      " angles : 90.0 90.0 90.0\n",
      " volume : 314.43199999999996\n",
      "      A : 6.8 0.0 0.0\n",
      "      B : 0.0 6.8 0.0\n",
      "      C : 0.0 0.0 6.8\n",
      "PeriodicSite: Po (0.0000, 0.0000, 0.0000) [0.0000, 0.0000, 0.0000]\n",
      "PeriodicSite: Po (0.0000, 0.0000, 3.4000) [0.0000, 0.0000, 0.5000]\n",
      "PeriodicSite: Po (0.0000, 3.4000, 0.0000) [0.0000, 0.5000, 0.0000]\n",
      "PeriodicSite: Po (0.0000, 3.4000, 3.4000) [0.0000, 0.5000, 0.5000]\n",
      "PeriodicSite: Po (3.4000, 0.0000, 0.0000) [0.5000, 0.0000, 0.0000]\n",
      "PeriodicSite: Po (3.4000, 0.0000, 3.4000) [0.5000, 0.0000, 0.5000]\n",
      "PeriodicSite: Po (3.4000, 3.4000, 0.0000) [0.5000, 0.5000, 0.0000]\n",
      "PeriodicSite: Po (3.4000, 3.4000, 3.4000) [0.5000, 0.5000, 0.5000]\n"
     ]
    },
    {
     "data": {
      "application/vnd.mp.ctk+json": {
       "contents": [
        {
         "contents": [
          {
           "clickable": true,
           "color": "#ab5c00",
           "id": "--atoms--0",
           "positions": [
            [
             0,
             0,
             0
            ],
            [
             0,
             0,
             0
            ],
            [
             0,
             0,
             0
            ],
            [
             0,
             0,
             0
            ],
            [
             0,
             0,
             0
            ],
            [
             0,
             0,
             0
            ],
            [
             0,
             0,
             0
            ],
            [
             0,
             0,
             0
            ]
           ],
           "radius": 0.5,
           "tooltip": "Po (0.000, 0.000, 0.000)",
           "type": "spheres"
          },
          {
           "clickable": true,
           "color": "#ab5c00",
           "id": "--atoms--1",
           "positions": [
            [
             0,
             3.4,
             0
            ],
            [
             0,
             3.4,
             0
            ],
            [
             0,
             3.4,
             0
            ],
            [
             0,
             3.4,
             0
            ]
           ],
           "radius": 0.5,
           "tooltip": "Po (0.000, 3.400, 0.000)",
           "type": "spheres"
          },
          {
           "clickable": true,
           "color": "#ab5c00",
           "id": "--atoms--2",
           "positions": [
            [
             3.4,
             0,
             0
            ],
            [
             3.4,
             0,
             0
            ],
            [
             3.4,
             0,
             0
            ],
            [
             3.4,
             0,
             0
            ]
           ],
           "radius": 0.5,
           "tooltip": "Po (3.400, 0.000, 0.000)",
           "type": "spheres"
          },
          {
           "clickable": true,
           "color": "#ab5c00",
           "id": "--atoms--3",
           "positions": [
            [
             0,
             0,
             3.4
            ],
            [
             0,
             0,
             3.4
            ],
            [
             0,
             0,
             3.4
            ],
            [
             0,
             0,
             3.4
            ]
           ],
           "radius": 0.5,
           "tooltip": "Po (0.000, 0.000, 3.400)",
           "type": "spheres"
          },
          {
           "clickable": true,
           "color": "#ab5c00",
           "id": "--atoms--4",
           "positions": [
            [
             0,
             3.4,
             3.4
            ],
            [
             0,
             3.4,
             3.4
            ]
           ],
           "radius": 0.5,
           "tooltip": "Po (0.000, 3.400, 3.400)",
           "type": "spheres"
          },
          {
           "clickable": true,
           "color": "#ab5c00",
           "id": "--atoms--5",
           "positions": [
            [
             3.4,
             3.4,
             0
            ],
            [
             3.4,
             3.4,
             0
            ]
           ],
           "radius": 0.5,
           "tooltip": "Po (3.400, 3.400, 0.000)",
           "type": "spheres"
          },
          {
           "clickable": true,
           "color": "#ab5c00",
           "id": "--atoms--6",
           "positions": [
            [
             3.4,
             0,
             3.4
            ],
            [
             3.4,
             0,
             3.4
            ]
           ],
           "radius": 0.5,
           "tooltip": "Po (3.400, 0.000, 3.400)",
           "type": "spheres"
          },
          {
           "clickable": true,
           "color": "#ab5c00",
           "id": "--atoms--7",
           "positions": [
            [
             3.4,
             3.4,
             3.4
            ]
           ],
           "radius": 0.5,
           "tooltip": "Po (3.400, 3.400, 3.400)",
           "type": "spheres"
          }
         ],
         "id": "--atoms",
         "name": "atoms",
         "origin": [
          0,
          0,
          0
         ],
         "visible": true
        },
        {
         "contents": [],
         "id": "--bonds",
         "name": "bonds",
         "origin": [
          0,
          0,
          0
         ],
         "visible": true
        },
        {
         "contents": [],
         "id": "--polyhedra",
         "name": "polyhedra",
         "origin": [
          0,
          0,
          0
         ],
         "visible": true
        },
        {
         "contents": [
          {
           "contents": [
            {
             "clickable": false,
             "id": "--unit_cell--a=6.8, b=6.8, c=6.8, alpha=90.0, beta=90.0, gamma=90.0--0",
             "positions": [
              [
               0,
               0,
               0
              ],
              [
               6.8,
               0,
               0
              ],
              [
               0,
               0,
               0
              ],
              [
               0,
               6.8,
               0
              ],
              [
               0,
               0,
               0
              ],
              [
               0,
               0,
               6.8
              ],
              [
               6.8,
               0,
               0
              ],
              [
               6.8,
               6.8,
               0
              ],
              [
               6.8,
               0,
               0
              ],
              [
               6.8,
               0,
               6.8
              ],
              [
               0,
               6.8,
               0
              ],
              [
               6.8,
               6.8,
               0
              ],
              [
               0,
               6.8,
               0
              ],
              [
               0,
               6.8,
               6.8
              ],
              [
               0,
               0,
               6.8
              ],
              [
               6.8,
               0,
               6.8
              ],
              [
               0,
               0,
               6.8
              ],
              [
               0,
               6.8,
               6.8
              ],
              [
               6.8,
               6.8,
               0
              ],
              [
               6.8,
               6.8,
               6.8
              ],
              [
               6.8,
               0,
               6.8
              ],
              [
               6.8,
               6.8,
               6.8
              ],
              [
               0,
               6.8,
               6.8
              ],
              [
               6.8,
               6.8,
               6.8
              ]
             ],
             "type": "lines"
            }
           ],
           "id": "--unit_cell--a=6.8, b=6.8, c=6.8, alpha=90.0, beta=90.0, gamma=90.0",
           "name": "a=6.8, b=6.8, c=6.8, alpha=90.0, beta=90.0, gamma=90.0",
           "origin": [
            -3.4,
            -3.4,
            -3.4
           ],
           "visible": true
          }
         ],
         "id": "--unit_cell",
         "name": "unit_cell",
         "origin": [
          0,
          0,
          0
         ],
         "visible": true
        }
       ],
       "name": "Po",
       "origin": [
        -3.4,
        -3.4,
        -3.4
       ],
       "visible": true
      },
      "text/plain": [
       "Structure Summary\n",
       "Lattice\n",
       "    abc : 6.8 6.8 6.8\n",
       " angles : 90.0 90.0 90.0\n",
       " volume : 314.43199999999996\n",
       "      A : 6.8 0.0 0.0\n",
       "      B : 0.0 6.8 0.0\n",
       "      C : 0.0 0.0 6.8\n",
       "PeriodicSite: Po (0.0000, 0.0000, 0.0000) [0.0000, 0.0000, 0.0000]\n",
       "PeriodicSite: Po (0.0000, 0.0000, 3.4000) [0.0000, 0.0000, 0.5000]\n",
       "PeriodicSite: Po (0.0000, 3.4000, 0.0000) [0.0000, 0.5000, 0.0000]\n",
       "PeriodicSite: Po (0.0000, 3.4000, 3.4000) [0.0000, 0.5000, 0.5000]\n",
       "PeriodicSite: Po (3.4000, 0.0000, 0.0000) [0.5000, 0.0000, 0.0000]\n",
       "PeriodicSite: Po (3.4000, 0.0000, 3.4000) [0.5000, 0.0000, 0.5000]\n",
       "PeriodicSite: Po (3.4000, 3.4000, 0.0000) [0.5000, 0.5000, 0.0000]\n",
       "PeriodicSite: Po (3.4000, 3.4000, 3.4000) [0.5000, 0.5000, 0.5000]"
      ]
     },
     "metadata": {},
     "output_type": "display_data"
    }
   ],
   "source": [
    "supercell = polonium * (2, 2, 2)\n",
    "supercell"
   ]
  },
  {
   "cell_type": "markdown",
   "metadata": {
    "slideshow": {
     "slide_type": "slide"
    }
   },
   "source": [
    "# 2.2.3 Exercise: Barium Titanate"
   ]
  },
  {
   "cell_type": "markdown",
   "metadata": {
    "slideshow": {
     "slide_type": "fragment"
    }
   },
   "source": [
    "Load BaTiO3 from the CIF file provided (`BaTiO3.cif`). Replace the barium with a new element with atomic number equal to the the day of the month you were born (e.g. 1st = hydrogen, 31st = gallium). Then make a supercell of N unit cells in one cartesian direction of your choice where N is the integer of your birth month (e.g. January = 1, December = 12)."
   ]
  },
  {
   "cell_type": "code",
   "execution_count": 63,
   "metadata": {
    "slideshow": {
     "slide_type": "subslide"
    }
   },
   "outputs": [
    {
     "name": "stdout",
     "output_type": "stream",
     "text": [
      "Structure Summary\n",
      "Lattice\n",
      "    abc : 4.07715918 4.07715918 16.30863668\n",
      " angles : 89.69902153 89.69902161000002 89.6990215\n",
      " volume : 271.09098694956924\n",
      "      A : 4.077102926177598 0.0 0.021417479131362785\n",
      "      B : 0.021305274015716264 4.077047259439262 0.021417484824072987\n",
      "      C : 0.0 0.0 16.30863668\n",
      "PeriodicSite: Mg (2.0375, 2.0269, 2.0483) [0.4972, 0.4972, 0.1243]\n",
      "PeriodicSite: Mg (2.0375, 2.0269, 6.1254) [0.4972, 0.4972, 0.3743]\n",
      "PeriodicSite: Mg (2.0375, 2.0269, 10.2026) [0.4972, 0.4972, 0.6243]\n",
      "PeriodicSite: Mg (2.0375, 2.0269, 14.2798) [0.4972, 0.4972, 0.8743]\n",
      "PeriodicSite: Ti (4.0255, 4.0045, 4.0467) [0.9822, 0.9822, 0.2456]\n",
      "PeriodicSite: Ti (4.0255, 4.0045, 8.1239) [0.9822, 0.9822, 0.4956]\n",
      "PeriodicSite: Ti (4.0255, 4.0045, 12.2010) [0.9822, 0.9822, 0.7456]\n",
      "PeriodicSite: Ti (4.0255, 4.0045, 16.2782) [0.9822, 0.9822, 0.9956]\n",
      "PeriodicSite: O (2.1369, 0.0519, 0.0634) [0.5241, 0.0127, 0.0032]\n",
      "PeriodicSite: O (2.1369, 0.0519, 4.1406) [0.5241, 0.0127, 0.2532]\n",
      "PeriodicSite: O (2.1369, 0.0519, 8.2177) [0.5241, 0.0127, 0.5032]\n",
      "PeriodicSite: O (2.1369, 0.0519, 12.2949) [0.5241, 0.0127, 0.7532]\n",
      "PeriodicSite: O (0.0522, 0.0519, 2.1372) [0.0127, 0.0127, 0.1310]\n",
      "PeriodicSite: O (0.0522, 0.0519, 6.2144) [0.0127, 0.0127, 0.3810]\n",
      "PeriodicSite: O (0.0522, 0.0519, 10.2916) [0.0127, 0.0127, 0.6310]\n",
      "PeriodicSite: O (0.0522, 0.0519, 14.3687) [0.0127, 0.0127, 0.8810]\n",
      "PeriodicSite: O (0.0631, 2.1366, 0.0634) [0.0127, 0.5241, 0.0032]\n",
      "PeriodicSite: O (0.0631, 2.1366, 4.1406) [0.0127, 0.5241, 0.2532]\n",
      "PeriodicSite: O (0.0631, 2.1366, 8.2177) [0.0127, 0.5241, 0.5032]\n",
      "PeriodicSite: O (0.0631, 2.1366, 12.2949) [0.0127, 0.5241, 0.7532]\n"
     ]
    },
    {
     "data": {
      "application/vnd.mp.ctk+json": {
       "contents": [
        {
         "contents": [
          {
           "clickable": true,
           "color": "#ff0d0d",
           "id": "--atoms--0",
           "positions": [
            [
             0.06309133129484423,
             2.136637772018037,
             12.294901136387665
            ],
            [
             0.06309133129484423,
             2.136637772018037,
             12.294901136387665
            ]
           ],
           "radius": 0.5,
           "tooltip": "O (0.063, 2.137, 12.295)",
           "type": "spheres"
          },
          {
           "clickable": true,
           "color": "#ff0d0d",
           "id": "--atoms--1",
           "positions": [
            [
             0.06309133129484423,
             2.136637772018037,
             4.1405827963876645
            ],
            [
             0.06309133129484423,
             2.136637772018037,
             4.1405827963876645
            ]
           ],
           "radius": 0.5,
           "tooltip": "O (0.063, 2.137, 4.141)",
           "type": "spheres"
          },
          {
           "clickable": true,
           "color": "#bfc2c7",
           "id": "--atoms--2",
           "positions": [
            [
             4.025493419903675,
             4.0045125116465785,
             16.278172828318233
            ],
            [
             4.025493419903675,
             4.0045125116465785,
             16.278172828318233
            ],
            [
             4.025493419903675,
             4.0045125116465785,
             16.278172828318233
            ],
            [
             4.025493419903675,
             4.0045125116465785,
             16.278172828318233
            ],
            [
             4.025493419903675,
             4.0045125116465785,
             16.278172828318233
            ],
            [
             4.025493419903675,
             4.0045125116465785,
             16.278172828318233
            ],
            [
             4.025493419903675,
             4.0045125116465785,
             16.278172828318233
            ],
            [
             4.025493419903675,
             4.0045125116465785,
             16.278172828318233
            ]
           ],
           "radius": 0.5,
           "tooltip": "Ti (4.025, 4.005, 16.278)",
           "type": "spheres"
          },
          {
           "clickable": true,
           "color": "#ff0d0d",
           "id": "--atoms--3",
           "positions": [
            [
             0.052197326837662046,
             0.05192527389621844,
             10.291560306526986
            ],
            [
             0.052197326837662046,
             0.05192527389621844,
             10.291560306526986
            ],
            [
             0.052197326837662046,
             0.05192527389621844,
             10.291560306526986
            ],
            [
             0.052197326837662046,
             0.05192527389621844,
             10.291560306526986
            ]
           ],
           "radius": 0.5,
           "tooltip": "O (0.052, 0.052, 10.292)",
           "type": "spheres"
          },
          {
           "clickable": true,
           "color": "#bfc2c7",
           "id": "--atoms--4",
           "positions": [
            [
             4.025493419903675,
             4.0045125116465785,
             4.046695318318235
            ],
            [
             4.025493419903675,
             4.0045125116465785,
             4.046695318318235
            ],
            [
             4.025493419903675,
             4.0045125116465785,
             4.046695318318235
            ],
            [
             4.025493419903675,
             4.0045125116465785,
             4.046695318318235
            ]
           ],
           "radius": 0.5,
           "tooltip": "Ti (4.025, 4.005, 4.047)",
           "type": "spheres"
          },
          {
           "clickable": true,
           "color": "#ff0d0d",
           "id": "--atoms--5",
           "positions": [
            [
             2.136938288977127,
             0.05192527389621844,
             8.217741963476817
            ],
            [
             2.136938288977127,
             0.05192527389621844,
             8.217741963476817
            ]
           ],
           "radius": 0.5,
           "tooltip": "O (2.137, 0.052, 8.218)",
           "type": "spheres"
          },
          {
           "clickable": true,
           "color": "#bfc2c7",
           "id": "--atoms--6",
           "positions": [
            [
             4.025493419903675,
             4.0045125116465785,
             8.123854488318234
            ],
            [
             4.025493419903675,
             4.0045125116465785,
             8.123854488318234
            ],
            [
             4.025493419903675,
             4.0045125116465785,
             8.123854488318234
            ],
            [
             4.025493419903675,
             4.0045125116465785,
             8.123854488318234
            ]
           ],
           "radius": 0.5,
           "tooltip": "Ti (4.025, 4.005, 8.124)",
           "type": "spheres"
          },
          {
           "clickable": true,
           "color": "#bfc2c7",
           "id": "--atoms--7",
           "positions": [
            [
             4.025493419903675,
             4.0045125116465785,
             12.201013658318235
            ],
            [
             4.025493419903675,
             4.0045125116465785,
             12.201013658318235
            ],
            [
             4.025493419903675,
             4.0045125116465785,
             12.201013658318235
            ],
            [
             4.025493419903675,
             4.0045125116465785,
             12.201013658318235
            ]
           ],
           "radius": 0.5,
           "tooltip": "Ti (4.025, 4.005, 12.201)",
           "type": "spheres"
          },
          {
           "clickable": true,
           "color": "#8aff00",
           "id": "--atoms--8",
           "positions": [
            [
             2.0375441287671063,
             2.0269244302665266,
             6.125434853666614
            ]
           ],
           "radius": 0.5,
           "tooltip": "Mg (2.038, 2.027, 6.125)",
           "type": "spheres"
          },
          {
           "clickable": true,
           "color": "#ff0d0d",
           "id": "--atoms--9",
           "positions": [
            [
             0.052197326837662046,
             0.05192527389621844,
             14.368719476526985
            ],
            [
             0.052197326837662046,
             0.05192527389621844,
             14.368719476526985
            ],
            [
             0.052197326837662046,
             0.05192527389621844,
             14.368719476526985
            ],
            [
             0.052197326837662046,
             0.05192527389621844,
             14.368719476526985
            ]
           ],
           "radius": 0.5,
           "tooltip": "O (0.052, 0.052, 14.369)",
           "type": "spheres"
          },
          {
           "clickable": true,
           "color": "#8aff00",
           "id": "--atoms--10",
           "positions": [
            [
             2.0375441287671063,
             2.0269244302665266,
             14.279753193666615
            ]
           ],
           "radius": 0.5,
           "tooltip": "Mg (2.038, 2.027, 14.280)",
           "type": "spheres"
          },
          {
           "clickable": true,
           "color": "#ff0d0d",
           "id": "--atoms--11",
           "positions": [
            [
             0.052197326837662046,
             0.05192527389621844,
             6.214401136526985
            ],
            [
             0.052197326837662046,
             0.05192527389621844,
             6.214401136526985
            ],
            [
             0.052197326837662046,
             0.05192527389621844,
             6.214401136526985
            ],
            [
             0.052197326837662046,
             0.05192527389621844,
             6.214401136526985
            ]
           ],
           "radius": 0.5,
           "tooltip": "O (0.052, 0.052, 6.214)",
           "type": "spheres"
          },
          {
           "clickable": true,
           "color": "#ff0d0d",
           "id": "--atoms--12",
           "positions": [
            [
             0.06309133129484423,
             2.136637772018037,
             8.217741966387665
            ],
            [
             0.06309133129484423,
             2.136637772018037,
             8.217741966387665
            ]
           ],
           "radius": 0.5,
           "tooltip": "O (0.063, 2.137, 8.218)",
           "type": "spheres"
          },
          {
           "clickable": true,
           "color": "#ff0d0d",
           "id": "--atoms--13",
           "positions": [
            [
             0.06309133129484423,
             2.136637772018037,
             0.06342362638766484
            ],
            [
             0.06309133129484423,
             2.136637772018037,
             0.06342362638766484
            ],
            [
             0.06309133129484423,
             2.136637772018037,
             0.06342362638766484
            ],
            [
             0.06309133129484423,
             2.136637772018037,
             0.06342362638766484
            ]
           ],
           "radius": 0.5,
           "tooltip": "O (0.063, 2.137, 0.063)",
           "type": "spheres"
          },
          {
           "clickable": true,
           "color": "#ff0d0d",
           "id": "--atoms--14",
           "positions": [
            [
             2.136938288977127,
             0.05192527389621844,
             0.06342362347681703
            ],
            [
             2.136938288977127,
             0.05192527389621844,
             0.06342362347681703
            ],
            [
             2.136938288977127,
             0.05192527389621844,
             0.06342362347681703
            ],
            [
             2.136938288977127,
             0.05192527389621844,
             0.06342362347681703
            ]
           ],
           "radius": 0.5,
           "tooltip": "O (2.137, 0.052, 0.063)",
           "type": "spheres"
          },
          {
           "clickable": true,
           "color": "#8aff00",
           "id": "--atoms--15",
           "positions": [
            [
             2.0375441287671063,
             2.0269244302665266,
             2.0482756836666147
            ]
           ],
           "radius": 0.5,
           "tooltip": "Mg (2.038, 2.027, 2.048)",
           "type": "spheres"
          },
          {
           "clickable": true,
           "color": "#ff0d0d",
           "id": "--atoms--16",
           "positions": [
            [
             0.052197326837662046,
             0.05192527389621844,
             2.1372419665269864
            ],
            [
             0.052197326837662046,
             0.05192527389621844,
             2.1372419665269864
            ],
            [
             0.052197326837662046,
             0.05192527389621844,
             2.1372419665269864
            ],
            [
             0.052197326837662046,
             0.05192527389621844,
             2.1372419665269864
            ]
           ],
           "radius": 0.5,
           "tooltip": "O (0.052, 0.052, 2.137)",
           "type": "spheres"
          },
          {
           "clickable": true,
           "color": "#ff0d0d",
           "id": "--atoms--17",
           "positions": [
            [
             2.136938288977127,
             0.05192527389621844,
             12.294901133476817
            ],
            [
             2.136938288977127,
             0.05192527389621844,
             12.294901133476817
            ]
           ],
           "radius": 0.5,
           "tooltip": "O (2.137, 0.052, 12.295)",
           "type": "spheres"
          },
          {
           "clickable": true,
           "color": "#ff0d0d",
           "id": "--atoms--18",
           "positions": [
            [
             2.136938288977127,
             0.05192527389621844,
             4.140582793476817
            ],
            [
             2.136938288977127,
             0.05192527389621844,
             4.140582793476817
            ]
           ],
           "radius": 0.5,
           "tooltip": "O (2.137, 0.052, 4.141)",
           "type": "spheres"
          },
          {
           "clickable": true,
           "color": "#8aff00",
           "id": "--atoms--19",
           "positions": [
            [
             2.0375441287671063,
             2.0269244302665266,
             10.202594023666615
            ]
           ],
           "radius": 0.5,
           "tooltip": "Mg (2.038, 2.027, 10.203)",
           "type": "spheres"
          }
         ],
         "id": "--atoms",
         "name": "atoms",
         "origin": [
          0,
          0,
          0
         ],
         "visible": true
        },
        {
         "contents": [],
         "id": "--bonds",
         "name": "bonds",
         "origin": [
          0,
          0,
          0
         ],
         "visible": true
        },
        {
         "contents": [],
         "id": "--polyhedra",
         "name": "polyhedra",
         "origin": [
          0,
          0,
          0
         ],
         "visible": true
        },
        {
         "contents": [
          {
           "contents": [
            {
             "clickable": false,
             "id": "--unit_cell--a=4.07715918, b=4.07715918, c=16.30863668, alpha=89.69902153, beta=89.69902161000002, gamma=89.6990215--0",
             "positions": [
              [
               0,
               0,
               0
              ],
              [
               4.077102926177598,
               0,
               0.021417479131362785
              ],
              [
               0,
               0,
               0
              ],
              [
               0.021305274015716264,
               4.077047259439262,
               0.021417484824072987
              ],
              [
               0,
               0,
               0
              ],
              [
               0,
               0,
               16.30863668
              ],
              [
               4.077102926177598,
               0,
               0.021417479131362785
              ],
              [
               4.098408200193314,
               4.077047259439262,
               0.042834963955435776
              ],
              [
               4.077102926177598,
               0,
               0.021417479131362785
              ],
              [
               4.077102926177598,
               0,
               16.33005415913136
              ],
              [
               0.021305274015716264,
               4.077047259439262,
               0.021417484824072987
              ],
              [
               4.098408200193314,
               4.077047259439262,
               0.042834963955435776
              ],
              [
               0.021305274015716264,
               4.077047259439262,
               0.021417484824072987
              ],
              [
               0.021305274015716264,
               4.077047259439262,
               16.330054164824073
              ],
              [
               0,
               0,
               16.30863668
              ],
              [
               4.077102926177598,
               0,
               16.33005415913136
              ],
              [
               0,
               0,
               16.30863668
              ],
              [
               0.021305274015716264,
               4.077047259439262,
               16.330054164824073
              ],
              [
               4.098408200193314,
               4.077047259439262,
               0.042834963955435776
              ],
              [
               4.098408200193314,
               4.077047259439262,
               16.351471643955435
              ],
              [
               4.077102926177598,
               0,
               16.33005415913136
              ],
              [
               4.098408200193314,
               4.077047259439262,
               16.351471643955435
              ],
              [
               0.021305274015716264,
               4.077047259439262,
               16.330054164824073
              ],
              [
               4.098408200193314,
               4.077047259439262,
               16.351471643955435
              ]
             ],
             "type": "lines"
            }
           ],
           "id": "--unit_cell--a=4.07715918, b=4.07715918, c=16.30863668, alpha=89.69902153, beta=89.69902161000002, gamma=89.6990215",
           "name": "a=4.07715918, b=4.07715918, c=16.30863668, alpha=89.69902153, beta=89.69902161000002, gamma=89.6990215",
           "origin": [
            -2.049204100096657,
            -2.038523629719631,
            -8.175735821977717
           ],
           "visible": true
          }
         ],
         "id": "--unit_cell",
         "name": "unit_cell",
         "origin": [
          0,
          0,
          0
         ],
         "visible": true
        }
       ],
       "name": "MgTiO3",
       "origin": [
        -2.049204100096657,
        -2.038523629719631,
        -8.175735821977717
       ],
       "visible": true
      },
      "text/plain": [
       "Structure Summary\n",
       "Lattice\n",
       "    abc : 4.07715918 4.07715918 16.30863668\n",
       " angles : 89.69902153 89.69902161000002 89.6990215\n",
       " volume : 271.09098694956924\n",
       "      A : 4.077102926177598 0.0 0.021417479131362785\n",
       "      B : 0.021305274015716264 4.077047259439262 0.021417484824072987\n",
       "      C : 0.0 0.0 16.30863668\n",
       "PeriodicSite: Mg (2.0375, 2.0269, 2.0483) [0.4972, 0.4972, 0.1243]\n",
       "PeriodicSite: Mg (2.0375, 2.0269, 6.1254) [0.4972, 0.4972, 0.3743]\n",
       "PeriodicSite: Mg (2.0375, 2.0269, 10.2026) [0.4972, 0.4972, 0.6243]\n",
       "PeriodicSite: Mg (2.0375, 2.0269, 14.2798) [0.4972, 0.4972, 0.8743]\n",
       "PeriodicSite: Ti (4.0255, 4.0045, 4.0467) [0.9822, 0.9822, 0.2456]\n",
       "PeriodicSite: Ti (4.0255, 4.0045, 8.1239) [0.9822, 0.9822, 0.4956]\n",
       "PeriodicSite: Ti (4.0255, 4.0045, 12.2010) [0.9822, 0.9822, 0.7456]\n",
       "PeriodicSite: Ti (4.0255, 4.0045, 16.2782) [0.9822, 0.9822, 0.9956]\n",
       "PeriodicSite: O (2.1369, 0.0519, 0.0634) [0.5241, 0.0127, 0.0032]\n",
       "PeriodicSite: O (2.1369, 0.0519, 4.1406) [0.5241, 0.0127, 0.2532]\n",
       "PeriodicSite: O (2.1369, 0.0519, 8.2177) [0.5241, 0.0127, 0.5032]\n",
       "PeriodicSite: O (2.1369, 0.0519, 12.2949) [0.5241, 0.0127, 0.7532]\n",
       "PeriodicSite: O (0.0522, 0.0519, 2.1372) [0.0127, 0.0127, 0.1310]\n",
       "PeriodicSite: O (0.0522, 0.0519, 6.2144) [0.0127, 0.0127, 0.3810]\n",
       "PeriodicSite: O (0.0522, 0.0519, 10.2916) [0.0127, 0.0127, 0.6310]\n",
       "PeriodicSite: O (0.0522, 0.0519, 14.3687) [0.0127, 0.0127, 0.8810]\n",
       "PeriodicSite: O (0.0631, 2.1366, 0.0634) [0.0127, 0.5241, 0.0032]\n",
       "PeriodicSite: O (0.0631, 2.1366, 4.1406) [0.0127, 0.5241, 0.2532]\n",
       "PeriodicSite: O (0.0631, 2.1366, 8.2177) [0.0127, 0.5241, 0.5032]\n",
       "PeriodicSite: O (0.0631, 2.1366, 12.2949) [0.0127, 0.5241, 0.7532]"
      ]
     },
     "metadata": {},
     "output_type": "display_data"
    }
   ],
   "source": [
    "BaTiO3=Structure.from_file(os.path.join(data_dir, \"pymatgen\", \"BaTiO3.cif\"))\n",
    "BaTiO3.replace(0,'Mg')\n",
    "BaTiO3=BaTiO3*(1,1,4)\n",
    "BaTiO3"
   ]
  },
  {
   "cell_type": "markdown",
   "metadata": {
    "slideshow": {
     "slide_type": "slide"
    }
   },
   "source": [
    "# Summary\n",
    "\n",
    "This notebook is intended to provide a short introduction to some of the functionality of pymatgen. We've examined the building blocks of pymatgen: the `Structure` and `Molecule` objects, the `Lattice`, `Element`, `Specie` and `Composition` objects that they're made up of, a way to visualize `Structure` and `Molecule` objects, simple `Structure` transformations, and some basic input/output functionality."
   ]
  }
 ],
 "metadata": {
  "celltoolbar": "Slideshow",
  "kernelspec": {
   "display_name": "Python 3",
   "language": "python",
   "name": "python3"
  },
  "language_info": {
   "codemirror_mode": {
    "name": "ipython",
    "version": 3
   },
   "file_extension": ".py",
   "mimetype": "text/x-python",
   "name": "python",
   "nbconvert_exporter": "python",
   "pygments_lexer": "ipython3",
   "version": "3.7.4"
  },
  "rise": {
   "height": "60%",
   "scroll": true
  }
 },
 "nbformat": 4,
 "nbformat_minor": 4
}
