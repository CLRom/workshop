{
 "cells": [
  {
   "cell_type": "markdown",
   "metadata": {},
   "source": [
    "### Materials Project Workshop – July 31–August 2 2019, Berkeley, California\n",
    "#### Link to notebook: [http://workshop.materialsproject.org/pymatgen/core/pymatgen_advanced.ipynb](http://workshop.materialsproject.org/pymatgen/core/pymatgen_advanced.ipynb)"
   ]
  },
  {
   "cell_type": "markdown",
   "metadata": {},
   "source": [
    "# Lesson 3, Advanced use of pymatgen\n",
    "*Remember to download your notebook if you want to keep a copy of your code.*"
   ]
  },
  {
   "cell_type": "markdown",
   "metadata": {},
   "source": [
    "# 0. Introducing Transformations"
   ]
  },
  {
   "cell_type": "markdown",
   "metadata": {},
   "source": [
    "Transformations in *pymatgen* can be used to change one structure to another such that a later calculation can be performed.\n",
    "\n",
    "A Transformation *object* exists because it is re-usable: it allows you to apply the same transformation to the multiple different structures, which is useful in a high-throughput context.\n",
    "\n",
    "Typically, in pymatgen, code might live in two places, for example:\n",
    "\n",
    "* `pymatgen.analysis.bond_valence` contains the `BVAnalyzer`, a code to help estimate likely oxidation states in your crystal\n",
    "* `pymatgen.transformations.standard_transformations` contains ` AutoOxiStateDecorationTransformation`, the corresponding transformation that applies `BVAnalyzer` to your structure\n",
    "\n",
    "Transformations often wrap this other code to give it a standardized interface.\n",
    "\n",
    "\n",
    "## 0.1 Conventional Cell Transformation\n",
    "\n",
    "To start with, let's create a primitive lattice for silicon."
   ]
  },
  {
   "cell_type": "code",
   "execution_count": null,
   "metadata": {},
   "outputs": [],
   "source": [
    "from pymatgen import Structure, Lattice"
   ]
  },
  {
   "cell_type": "code",
   "execution_count": null,
   "metadata": {},
   "outputs": [],
   "source": [
    "from crystal_toolkit.helpers.pythreejs_renderer import view"
   ]
  },
  {
   "cell_type": "code",
   "execution_count": null,
   "metadata": {},
   "outputs": [],
   "source": [
    "si_lattice = Lattice.from_parameters(3.85, 3.85, 3.85, 60, 60, 60)\n",
    "si = Structure(si_lattice, [\"Si\", \"Si\"], [[0.75, 0.75, 0.75], [0, 0, 0]])"
   ]
  },
  {
   "cell_type": "code",
   "execution_count": null,
   "metadata": {},
   "outputs": [],
   "source": [
    "view(si)"
   ]
  },
  {
   "cell_type": "markdown",
   "metadata": {},
   "source": [
    "In its primitive setting, this does not look much like the textbook picture of silicon. It can be useful to convert to its conventional setting, which can be necessary for certain tasks which require a crystal to be in a standard setting (for example, to report tensor properties).\n",
    "\n",
    "All transformations live in the `pymatgen.transformations` submodule, and wrap up operations that map one Structure to one or more transformed Structures."
   ]
  },
  {
   "cell_type": "code",
   "execution_count": null,
   "metadata": {},
   "outputs": [],
   "source": []
  },
  {
   "cell_type": "markdown",
   "metadata": {},
   "source": [
    "Each transformation has a standard format. You create the transformation along with any options for that transformation like so:"
   ]
  },
  {
   "cell_type": "code",
   "execution_count": null,
   "metadata": {},
   "outputs": [],
   "source": []
  },
  {
   "cell_type": "markdown",
   "metadata": {},
   "source": [
    "You can also inspect to see if the transformation is one-to-one or one-to-many:"
   ]
  },
  {
   "cell_type": "code",
   "execution_count": null,
   "metadata": {},
   "outputs": [],
   "source": []
  },
  {
   "cell_type": "markdown",
   "metadata": {},
   "source": [
    "If it's one-to-one the output is a single Structure, if it's one to many the output is a list of dictionaries: `[{\"structure\": first transformed structure, ...}, {\"structure\": second transformed structure, ...}`\n",
    "\n",
    "Let's test this transformation out:"
   ]
  },
  {
   "cell_type": "code",
   "execution_count": null,
   "metadata": {},
   "outputs": [],
   "source": []
  },
  {
   "cell_type": "code",
   "execution_count": null,
   "metadata": {},
   "outputs": [],
   "source": [
    "view(si_conv, draw_image_atoms=True)"
   ]
  },
  {
   "cell_type": "markdown",
   "metadata": {
    "slideshow": {
     "slide_type": "-"
    }
   },
   "source": [
    "### How Finding the Conventional Cell Works and When It Might Fail\n",
    "\n",
    "This transformation is very robust. Behind the scenes, it uses the [`spglib`](https://atztogo.github.io/spglib/) library, which is a powerful and robust code for symmetry analysis. However, note that due to limits of numerical precision sites may not be exactly on the symmetrically-equivalent positions so we introduce tolerance factors (`symprec`, a length tolerance, and `angle_tolerance`). These can be modified when constructing the transformation as appropriate:\n",
    "\n",
    "`trans = ConventionalCellTransformation(symprec=0.1, angle_tolerance=5)`\n",
    "\n",
    "Also using `spglib` is a `PrimitiveCellTransformation` to transform a crystal into its primitive setting."
   ]
  },
  {
   "cell_type": "markdown",
   "metadata": {},
   "source": [
    "# 1. Case Study for Structure Prediction"
   ]
  },
  {
   "cell_type": "code",
   "execution_count": null,
   "metadata": {},
   "outputs": [],
   "source": [
    "barium_titanate = Structure.from_spacegroup(\"Pm-3m\",\n",
    "                                            Lattice.cubic(3.9),\n",
    "                                            [\"Ba\", \"Ti\", \"O\"],\n",
    "                                            [[0, 0, 0], [0.5, 0.5, 0.5], [0.5, 0.5, 0]])"
   ]
  },
  {
   "cell_type": "code",
   "execution_count": null,
   "metadata": {},
   "outputs": [],
   "source": [
    "view(barium_titanate, draw_image_atoms=True)"
   ]
  },
  {
   "cell_type": "markdown",
   "metadata": {},
   "source": [
    "## 1.1 Transformation to Decorate Structure with Oxidation States"
   ]
  },
  {
   "cell_type": "markdown",
   "metadata": {},
   "source": [
    "Import the transformation which applies oxidation states:"
   ]
  },
  {
   "cell_type": "code",
   "execution_count": null,
   "metadata": {},
   "outputs": [],
   "source": []
  },
  {
   "cell_type": "markdown",
   "metadata": {},
   "source": [
    "Initialize the transformation:"
   ]
  },
  {
   "cell_type": "code",
   "execution_count": null,
   "metadata": {},
   "outputs": [],
   "source": []
  },
  {
   "cell_type": "markdown",
   "metadata": {},
   "source": [
    "If we apply it to our structure, we can see oxidation states are added:"
   ]
  },
  {
   "cell_type": "code",
   "execution_count": null,
   "metadata": {},
   "outputs": [],
   "source": []
  },
  {
   "cell_type": "markdown",
   "metadata": {},
   "source": [
    "### How Oxidation State Decoration Works and When It Might Fail\n",
    "\n",
    "The Bond Valence analyzer implements a maximum a posteriori (MAP) estimation method to\n",
    "determine oxidation states in a structure. The algorithm is as follows:\n",
    "\n",
    "1. The bond valence sum of all symmetrically distinct sites in a structure\n",
    "    is calculated using the element-based parameters in [O'Keefe, Michael, and N. E. Brese. \"Atom sizes and bond lengths in molecules and crystals.\" Journal of the American Chemical Society 113.9 (1991): 3226-3229](http://doi.org/10.1021/ja00009a002).\n",
    "\n",
    "2. The posterior probabilities of all oxidation states is then calculated using: P(oxi_state|BV) = K * P(BV|oxi_state) * P(oxi_state), where K is\n",
    "    a constant factor for each element. P(BV/oxi_state) is calculated as a\n",
    "    Gaussian with mean and std deviation determined from an analysis of\n",
    "    the ICSD. The posterior P(oxi_state) is determined from a frequency\n",
    "    analysis of the ICSD.\n",
    "\n",
    "3. The oxidation states are then ranked in order of decreasing probability\n",
    "and the oxidation state combination that result in a charge neutral cell\n",
    "is selected.\n",
    "\n",
    "Therefore, the bond valence analysis will fail if either parameters for that element are missing from the pre-tabulated data, or if the oxidation state is unusual and not well-represented in the ICSD.\n",
    "\n",
    "As a fallback, we have \"oxidation state guesses\" which are *composition-only* guesses."
   ]
  },
  {
   "cell_type": "code",
   "execution_count": null,
   "metadata": {},
   "outputs": [],
   "source": []
  },
  {
   "cell_type": "markdown",
   "metadata": {},
   "source": [
    "This is a composition *object* which has many useful properties including `oxi_state_guesses`:"
   ]
  },
  {
   "cell_type": "code",
   "execution_count": null,
   "metadata": {},
   "outputs": [],
   "source": []
  },
  {
   "cell_type": "markdown",
   "metadata": {},
   "source": [
    "# 1.2 Transformation to Predict Similar Structures "
   ]
  },
  {
   "cell_type": "code",
   "execution_count": null,
   "metadata": {},
   "outputs": [],
   "source": []
  },
  {
   "cell_type": "code",
   "execution_count": null,
   "metadata": {},
   "outputs": [],
   "source": []
  },
  {
   "cell_type": "markdown",
   "metadata": {},
   "source": [
    "This is out first one-to-many transformation. We indicate we're interested in multiple results by setting `return_ranked_list`. The ranking of this list varies between different transformations."
   ]
  },
  {
   "cell_type": "code",
   "execution_count": null,
   "metadata": {},
   "outputs": [],
   "source": []
  },
  {
   "cell_type": "markdown",
   "metadata": {},
   "source": [
    "Let's see the our first predicted structure:"
   ]
  },
  {
   "cell_type": "code",
   "execution_count": null,
   "metadata": {},
   "outputs": [],
   "source": []
  },
  {
   "cell_type": "code",
   "execution_count": null,
   "metadata": {},
   "outputs": [],
   "source": []
  },
  {
   "cell_type": "markdown",
   "metadata": {},
   "source": [
    "### How Structure Prediction Works and When It Might Fail\n",
    "\n",
    "This is a probabilistic model based on substitution probabilities data-mined from the ICSD. A full description of the algorithm is available in: [Hautier, Geoffroy, et al. \"Data mined ionic substitutions for the discovery of new compounds.\" Inorganic chemistry 50.2 (2010): 656-663.](https://doi.org/10.1021/ic102031h)\n",
    "\n",
    "Without subsequent calculation, we cannot say whether the predicted structures are stable or not. It can be useful to check The Materials Project to see if the predicted structure has in fact been calculated and whether it is predicted to be stable. Additionally, like the bond valence analyzer, if a given element or oxidation state is rare, predictions might be inaccurate."
   ]
  },
  {
   "cell_type": "markdown",
   "metadata": {},
   "source": [
    "# Example for Adsorbate Calculation\n",
    "\n",
    "Imagine a simple use case for studying the adsorption of CO on a catalyst surface.\n",
    "\n",
    "You might start with a disordered structure representing your catalyst. Many crystal structures obtained via experimental methods are only given in a disordered form, that is with partial occupancies on the site. *On average* a site might contain 50% Pt and 50% Au as in the following example:"
   ]
  },
  {
   "cell_type": "code",
   "execution_count": null,
   "metadata": {},
   "outputs": [],
   "source": [
    "ptau = Structure.from_spacegroup('Fm-3m', Lattice.cubic(4), [{\"Pt\": 0.5, \"Au\": 0.5}], [[0, 0, 0]])"
   ]
  },
  {
   "cell_type": "code",
   "execution_count": null,
   "metadata": {},
   "outputs": [],
   "source": [
    "view(ptau, draw_image_atoms=True)"
   ]
  },
  {
   "cell_type": "markdown",
   "metadata": {},
   "source": [
    "# 2.1 Transformation to Enumerate Ordered Approximations for Disordered Structures\n",
    "\n",
    "Most computational methods require only ordered structures (integer occupancy), and therefore the first step when starting from a disordered structure is to create a *disordered approximation.*"
   ]
  },
  {
   "cell_type": "code",
   "execution_count": null,
   "metadata": {},
   "outputs": [],
   "source": []
  },
  {
   "cell_type": "code",
   "execution_count": null,
   "metadata": {},
   "outputs": [],
   "source": []
  },
  {
   "cell_type": "code",
   "execution_count": null,
   "metadata": {},
   "outputs": [],
   "source": []
  },
  {
   "cell_type": "markdown",
   "metadata": {},
   "source": [
    "### How Creating Ordered Approximations Work and When It Might Fail\n",
    "\n",
    "There are two ways of creating ordered approximations in *pymatgen*, `EnumerateStructureTransformation` (using the [`enumlib`](https://github.com/msg-byu/enumlib) code, and `OrderDisorderTransformation` which is implemented purely in *pymatgen* but requires your structure to be decorated with oxidation states.\n",
    "\n",
    "Creating ordered approximations might fail if your cell contains a large number of species or is otherwise very complex, such that performing an enumeration creates a combinatorial explosion of different possible orderings.\n",
    "\n",
    "There are also physical concerns: a symmetric ordered approximation might not be most appropriate, and instead a \"random\" like cell might be more physical. This would require a different transformation."
   ]
  },
  {
   "cell_type": "markdown",
   "metadata": {},
   "source": [
    "# 2.2 Transformation to Create a Surface"
   ]
  },
  {
   "cell_type": "code",
   "execution_count": null,
   "metadata": {},
   "outputs": [],
   "source": []
  },
  {
   "cell_type": "markdown",
   "metadata": {},
   "source": [
    "This is an example of a transformation that requires mandatory arguments set:"
   ]
  },
  {
   "cell_type": "code",
   "execution_count": null,
   "metadata": {},
   "outputs": [],
   "source": []
  },
  {
   "cell_type": "code",
   "execution_count": null,
   "metadata": {},
   "outputs": [],
   "source": []
  },
  {
   "cell_type": "code",
   "execution_count": null,
   "metadata": {},
   "outputs": [],
   "source": []
  },
  {
   "cell_type": "markdown",
   "metadata": {},
   "source": [
    "Note that in this case the transformation returns a `Slab` and not a `Structure`. In object-orientated fashion, the `Slab` is a sub-class of `Structure` meaning that it has all the same functionality of `Structure` but with added information such as the miller indices used to generate the surface.\n",
    "\n",
    "We can show that this is a `Slab` using the `type` command:"
   ]
  },
  {
   "cell_type": "code",
   "execution_count": null,
   "metadata": {},
   "outputs": [],
   "source": []
  },
  {
   "cell_type": "markdown",
   "metadata": {},
   "source": [
    "### How Creating Surfaces Works and How It Might Fail\n",
    "\n",
    "This is a fairly robust transformation but care must be taken when performing\n",
    "actual calculations to ensure that there is sufficient vacuum present such\n",
    "that periodic images do not interact with one another, and that the surfaces \n",
    "are appropriately charge balanced."
   ]
  },
  {
   "cell_type": "markdown",
   "metadata": {},
   "source": [
    "# 2.3 Transformation to Add an Adsorbate\n",
    "\n",
    "Finally, we want to add an adsorbate to our surface."
   ]
  },
  {
   "cell_type": "code",
   "execution_count": null,
   "metadata": {},
   "outputs": [],
   "source": []
  },
  {
   "cell_type": "code",
   "execution_count": null,
   "metadata": {},
   "outputs": [],
   "source": []
  },
  {
   "cell_type": "code",
   "execution_count": null,
   "metadata": {},
   "outputs": [],
   "source": []
  },
  {
   "cell_type": "code",
   "execution_count": null,
   "metadata": {},
   "outputs": [],
   "source": []
  },
  {
   "cell_type": "code",
   "execution_count": null,
   "metadata": {},
   "outputs": [],
   "source": []
  },
  {
   "cell_type": "markdown",
   "metadata": {},
   "source": [
    "### How Adding Adsorbates Works and When It Might Fail\n",
    "\n",
    "The AdsorbateSiteFinder finds adsorbate sites on slabs and generates\n",
    "adsorbate structures according to user-defined criteria.\n",
    "\n",
    "The algorithm for finding sites proceeds as follows:\n",
    "\n",
    "1. Determine \"surface sites\" by finding those within\n",
    "   a height threshold along the miller index of the\n",
    "   highest site\n",
    "2. Create a network of surface sites using the Delaunay\n",
    "   triangulation of the surface sites\n",
    "3. Assign on-top, bridge, and hollow adsorption sites\n",
    "   at the nodes, edges, and face centers of the Del.\n",
    "   Triangulation\n",
    "4. Generate structures from a molecule positioned at\n",
    "   these sites\n",
    "   \n",
    "This algorithm is fairly robust but was developed primarily for metal surfaces, \n",
    "with less testing performed for oxide surfaces. Full details can be found in\n",
    "the associated publication:\n",
    "\n",
    "[Montoya, Joseph H., and Kristin A. Persson. \"A high-throughput framework for determining adsorption energies on solid surfaces.\" npj Computational Materials 3.1 (2017): 14.](https://doi.org/10.1038/s41524-017-0017-z)"
   ]
  },
  {
   "cell_type": "markdown",
   "metadata": {},
   "source": [
    "# Summary\n",
    "\n",
    "Transformations are powerful because they can be applied repeatedly to different materials, and chained together to create complex results. This can be useful when setting up your own calculations, or for educational use to demonstrate a particular system in a particular configuration. Using Transformations, *pymatgen* also makes it easy to glue together codes from other parts of the Materials Science software ecosystem.\n",
    "\n",
    "Transformations also form the foundations of the high-throughput workflows that power The Materials Project. Tomorrow, we will show *atomate* workflows has built upon some of these transformations to automate calculation of complex materials properties."
   ]
  }
 ],
 "metadata": {
  "kernelspec": {
   "display_name": "Python 3",
   "language": "python",
   "name": "python3"
  },
  "language_info": {
   "codemirror_mode": {
    "name": "ipython",
    "version": 3
   },
   "file_extension": ".py",
   "mimetype": "text/x-python",
   "name": "python",
   "nbconvert_exporter": "python",
   "pygments_lexer": "ipython3",
   "version": "3.6.7"
  }
 },
 "nbformat": 4,
 "nbformat_minor": 2
}
