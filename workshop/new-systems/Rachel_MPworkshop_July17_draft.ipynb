{
 "cells": [
  {
   "cell_type": "markdown",
   "metadata": {},
   "source": [
    "# Exploring New Alloy Systems with Pymatgen!"
   ]
  },
  {
   "cell_type": "markdown",
   "metadata": {},
   "source": [
    "The goal of this tutorial is to learn how to make a new alloy material with pymatgen, using an existing material as an end-point. This is one of many strategies that is enabled by pymatgen for discovery of new materials. We will then compare properties of this alloy to the end point system."
   ]
  },
  {
   "cell_type": "markdown",
   "metadata": {},
   "source": [
    "#### packages you will need"
   ]
  },
  {
   "cell_type": "code",
   "execution_count": 1,
   "metadata": {},
   "outputs": [],
   "source": [
    "from pymatgen import MPRester\n",
    "import pandas as pd\n",
    "import numpy as np"
   ]
  },
  {
   "cell_type": "markdown",
   "metadata": {},
   "source": [
    "Now we can initiate the MP Rester API by creating an object mpr:"
   ]
  },
  {
   "cell_type": "code",
   "execution_count": 3,
   "metadata": {},
   "outputs": [],
   "source": [
    "mpr = MPRester() # YOUR API KEY GOES IN THIS FUNCTION! as a string."
   ]
  },
  {
   "cell_type": "markdown",
   "metadata": {},
   "source": [
    "# 1. select a test-case system"
   ]
  },
  {
   "cell_type": "markdown",
   "metadata": {},
   "source": [
    "In this notebook we will focus on cubic zincblende ZnS, a wide band gap (transparent) semiconductor. In my PhD research I study study p-type transparent semiconductors, so I will pose the question: how can we use ZnS as a starting point to create a p-type transparent semiconductor?\n",
    "\\\n",
    "\n",
    "\\\n",
    "This is the associated Materials Project id (mpid):"
   ]
  },
  {
   "cell_type": "code",
   "execution_count": 4,
   "metadata": {},
   "outputs": [],
   "source": [
    "mpid = 'mp-8231'"
   ]
  },
  {
   "cell_type": "markdown",
   "metadata": {},
   "source": [
    "### plot some properties"
   ]
  },
  {
   "cell_type": "code",
   "execution_count": 5,
   "metadata": {},
   "outputs": [],
   "source": [
    "bs = mpr.get_bandstructure_by_material_id(mpid)"
   ]
  },
  {
   "cell_type": "markdown",
   "metadata": {},
   "source": [
    "*not sure which properties to focus on here?*"
   ]
  },
  {
   "cell_type": "markdown",
   "metadata": {},
   "source": [
    "### explore the local environment!"
   ]
  },
  {
   "cell_type": "code",
   "execution_count": null,
   "metadata": {},
   "outputs": [],
   "source": [
    "# should I add this here? I think it could be useful to discuss how to calculate coordination, \n",
    "# if it's not done elsewhere, and I can tie it into dopant selection below?"
   ]
  },
  {
   "cell_type": "markdown",
   "metadata": {},
   "source": [
    "# 2. select a possible dopant"
   ]
  },
  {
   "cell_type": "code",
   "execution_count": 6,
   "metadata": {},
   "outputs": [],
   "source": [
    "from pymatgen.analysis.structure_prediction.dopant_predictor import \\\n",
    "    get_dopants_from_shannon_radii, get_dopants_from_substitution_probabilities\n",
    "from pymatgen.analysis.local_env import CrystalNN"
   ]
  },
  {
   "cell_type": "code",
   "execution_count": null,
   "metadata": {},
   "outputs": [],
   "source": []
  },
  {
   "cell_type": "markdown",
   "metadata": {},
   "source": [
    "#### $\\textit{Scientific question: Which dopants are most likely to sit at substitutional sites in my material?}$"
   ]
  },
  {
   "cell_type": "code",
   "execution_count": 54,
   "metadata": {},
   "outputs": [],
   "source": [
    "structure = mpr.get_structure_by_material_id(\"mp-10695\")"
   ]
  },
  {
   "cell_type": "markdown",
   "metadata": {},
   "source": [
    "Pymatgen has built in tools to guess the oxidation state of each specie in stoichiometric compounds. This information is needed to compare ionic radii and assess substitutional dopact probability. You can also enter the oxidation states manually if you'd prefer."
   ]
  },
  {
   "cell_type": "code",
   "execution_count": 25,
   "metadata": {},
   "outputs": [],
   "source": [
    "structure.add_oxidation_state_by_guess()"
   ]
  },
  {
   "cell_type": "code",
   "execution_count": 26,
   "metadata": {},
   "outputs": [
    {
     "name": "stdout",
     "output_type": "stream",
     "text": [
      "Full Formula (Zn1 S1)\n",
      "Reduced Formula: ZnS\n",
      "abc   :   3.853923   3.853923   3.853923\n",
      "angles:  60.000000  60.000000  60.000000\n",
      "Sites (2)\n",
      "  #  SP       a     b     c    magmom\n",
      "---  ----  ----  ----  ----  --------\n",
      "  0  Zn2+  0     0     0            0\n",
      "  1  S2-   0.25  0.25  0.25        -0\n"
     ]
    }
   ],
   "source": [
    "print(structure)"
   ]
  },
  {
   "cell_type": "markdown",
   "metadata": {},
   "source": [
    "##### Machine learned rules from existing structures (coordination environment)"
   ]
  },
  {
   "cell_type": "markdown",
   "metadata": {},
   "source": [
    "The 'threshold' is a probability threshold for substitution/structure predictions. Its units are descibed in Hautier et al. It just gives a ranked likeliness of substitution. I usually focus on compounds with a threshold greater than 0.01, but this depends on chemical system."
   ]
  },
  {
   "cell_type": "code",
   "execution_count": 22,
   "metadata": {},
   "outputs": [],
   "source": [
    "threshold = 0.001  # p"
   ]
  },
  {
   "cell_type": "code",
   "execution_count": 32,
   "metadata": {},
   "outputs": [],
   "source": [
    "substitutional_dopants = get_dopants_from_substitution_probabilities(\n",
    "    structure, num_dopants=10, threshold=threshold)"
   ]
  },
  {
   "cell_type": "markdown",
   "metadata": {},
   "source": [
    "Here are some options to dope ZnS p-type"
   ]
  },
  {
   "cell_type": "code",
   "execution_count": 33,
   "metadata": {},
   "outputs": [
    {
     "data": {
      "text/html": [
       "<div>\n",
       "<style scoped>\n",
       "    .dataframe tbody tr th:only-of-type {\n",
       "        vertical-align: middle;\n",
       "    }\n",
       "\n",
       "    .dataframe tbody tr th {\n",
       "        vertical-align: top;\n",
       "    }\n",
       "\n",
       "    .dataframe thead th {\n",
       "        text-align: right;\n",
       "    }\n",
       "</style>\n",
       "<table border=\"1\" class=\"dataframe\">\n",
       "  <thead>\n",
       "    <tr style=\"text-align: right;\">\n",
       "      <th></th>\n",
       "      <th>probability</th>\n",
       "      <th>dopant_species</th>\n",
       "      <th>original_species</th>\n",
       "    </tr>\n",
       "  </thead>\n",
       "  <tbody>\n",
       "    <tr>\n",
       "      <th>0</th>\n",
       "      <td>0.035178</td>\n",
       "      <td>Na+</td>\n",
       "      <td>Zn2+</td>\n",
       "    </tr>\n",
       "    <tr>\n",
       "      <th>1</th>\n",
       "      <td>0.029318</td>\n",
       "      <td>Cu+</td>\n",
       "      <td>Zn2+</td>\n",
       "    </tr>\n",
       "    <tr>\n",
       "      <th>2</th>\n",
       "      <td>0.018723</td>\n",
       "      <td>N3-</td>\n",
       "      <td>S2-</td>\n",
       "    </tr>\n",
       "    <tr>\n",
       "      <th>3</th>\n",
       "      <td>0.016421</td>\n",
       "      <td>K+</td>\n",
       "      <td>Zn2+</td>\n",
       "    </tr>\n",
       "    <tr>\n",
       "      <th>4</th>\n",
       "      <td>0.015108</td>\n",
       "      <td>Li+</td>\n",
       "      <td>Zn2+</td>\n",
       "    </tr>\n",
       "    <tr>\n",
       "      <th>5</th>\n",
       "      <td>0.005241</td>\n",
       "      <td>Ag+</td>\n",
       "      <td>Zn2+</td>\n",
       "    </tr>\n",
       "    <tr>\n",
       "      <th>6</th>\n",
       "      <td>0.005069</td>\n",
       "      <td>O2-</td>\n",
       "      <td>Zn2+</td>\n",
       "    </tr>\n",
       "    <tr>\n",
       "      <th>7</th>\n",
       "      <td>0.002676</td>\n",
       "      <td>Au+</td>\n",
       "      <td>Zn2+</td>\n",
       "    </tr>\n",
       "    <tr>\n",
       "      <th>8</th>\n",
       "      <td>0.002676</td>\n",
       "      <td>Rb+</td>\n",
       "      <td>Zn2+</td>\n",
       "    </tr>\n",
       "    <tr>\n",
       "      <th>9</th>\n",
       "      <td>0.002676</td>\n",
       "      <td>Tl+</td>\n",
       "      <td>Zn2+</td>\n",
       "    </tr>\n",
       "  </tbody>\n",
       "</table>\n",
       "</div>"
      ],
      "text/plain": [
       "   probability dopant_species original_species\n",
       "0     0.035178            Na+             Zn2+\n",
       "1     0.029318            Cu+             Zn2+\n",
       "2     0.018723            N3-              S2-\n",
       "3     0.016421             K+             Zn2+\n",
       "4     0.015108            Li+             Zn2+\n",
       "5     0.005241            Ag+             Zn2+\n",
       "6     0.005069            O2-             Zn2+\n",
       "7     0.002676            Au+             Zn2+\n",
       "8     0.002676            Rb+             Zn2+\n",
       "9     0.002676            Tl+             Zn2+"
      ]
     },
     "execution_count": 33,
     "metadata": {},
     "output_type": "execute_result"
    }
   ],
   "source": [
    "pd.DataFrame(substitutional_dopants['p_type'])"
   ]
  },
  {
   "cell_type": "markdown",
   "metadata": {},
   "source": [
    "And here are the top 10 n-type options:"
   ]
  },
  {
   "cell_type": "code",
   "execution_count": 34,
   "metadata": {},
   "outputs": [
    {
     "data": {
      "text/html": [
       "<div>\n",
       "<style scoped>\n",
       "    .dataframe tbody tr th:only-of-type {\n",
       "        vertical-align: middle;\n",
       "    }\n",
       "\n",
       "    .dataframe tbody tr th {\n",
       "        vertical-align: top;\n",
       "    }\n",
       "\n",
       "    .dataframe thead th {\n",
       "        text-align: right;\n",
       "    }\n",
       "</style>\n",
       "<table border=\"1\" class=\"dataframe\">\n",
       "  <thead>\n",
       "    <tr style=\"text-align: right;\">\n",
       "      <th></th>\n",
       "      <th>probability</th>\n",
       "      <th>dopant_species</th>\n",
       "      <th>original_species</th>\n",
       "    </tr>\n",
       "  </thead>\n",
       "  <tbody>\n",
       "    <tr>\n",
       "      <th>0</th>\n",
       "      <td>0.032635</td>\n",
       "      <td>Si4+</td>\n",
       "      <td>Zn2+</td>\n",
       "    </tr>\n",
       "    <tr>\n",
       "      <th>1</th>\n",
       "      <td>0.023940</td>\n",
       "      <td>Ge4+</td>\n",
       "      <td>Zn2+</td>\n",
       "    </tr>\n",
       "    <tr>\n",
       "      <th>2</th>\n",
       "      <td>0.016877</td>\n",
       "      <td>Cl-</td>\n",
       "      <td>S2-</td>\n",
       "    </tr>\n",
       "    <tr>\n",
       "      <th>3</th>\n",
       "      <td>0.015446</td>\n",
       "      <td>W6+</td>\n",
       "      <td>Zn2+</td>\n",
       "    </tr>\n",
       "    <tr>\n",
       "      <th>4</th>\n",
       "      <td>0.014947</td>\n",
       "      <td>Mo6+</td>\n",
       "      <td>Zn2+</td>\n",
       "    </tr>\n",
       "    <tr>\n",
       "      <th>5</th>\n",
       "      <td>0.014118</td>\n",
       "      <td>Re5+</td>\n",
       "      <td>Zn2+</td>\n",
       "    </tr>\n",
       "    <tr>\n",
       "      <th>6</th>\n",
       "      <td>0.013938</td>\n",
       "      <td>Y3+</td>\n",
       "      <td>Zn2+</td>\n",
       "    </tr>\n",
       "    <tr>\n",
       "      <th>7</th>\n",
       "      <td>0.012309</td>\n",
       "      <td>Cr6+</td>\n",
       "      <td>Zn2+</td>\n",
       "    </tr>\n",
       "    <tr>\n",
       "      <th>8</th>\n",
       "      <td>0.011702</td>\n",
       "      <td>Ti4+</td>\n",
       "      <td>Zn2+</td>\n",
       "    </tr>\n",
       "    <tr>\n",
       "      <th>9</th>\n",
       "      <td>0.010340</td>\n",
       "      <td>Fe3+</td>\n",
       "      <td>Zn2+</td>\n",
       "    </tr>\n",
       "  </tbody>\n",
       "</table>\n",
       "</div>"
      ],
      "text/plain": [
       "   probability dopant_species original_species\n",
       "0     0.032635           Si4+             Zn2+\n",
       "1     0.023940           Ge4+             Zn2+\n",
       "2     0.016877            Cl-              S2-\n",
       "3     0.015446            W6+             Zn2+\n",
       "4     0.014947           Mo6+             Zn2+\n",
       "5     0.014118           Re5+             Zn2+\n",
       "6     0.013938            Y3+             Zn2+\n",
       "7     0.012309           Cr6+             Zn2+\n",
       "8     0.011702           Ti4+             Zn2+\n",
       "9     0.010340           Fe3+             Zn2+"
      ]
     },
     "execution_count": 34,
     "metadata": {},
     "output_type": "execute_result"
    }
   ],
   "source": [
    "pd.DataFrame(substitutional_dopants['n_type'])"
   ]
  },
  {
   "cell_type": "markdown",
   "metadata": {},
   "source": [
    "Let's pick Cu$^{+}$ to use as a p-type dopant (see Woods-Robinson et al. 2019)"
   ]
  },
  {
   "cell_type": "markdown",
   "metadata": {},
   "source": [
    "##### We’re not done, but this is a starting point for dopants to investigate with defect calculations !! This can be accomplished using workflows such as PyCDT (Broberg et al. 2018), which we are working on implementing via atomate."
   ]
  },
  {
   "cell_type": "markdown",
   "metadata": {},
   "source": [
    "# substitute your dopant to create a disordered structure"
   ]
  },
  {
   "cell_type": "code",
   "execution_count": 36,
   "metadata": {},
   "outputs": [
    {
     "name": "stdout",
     "output_type": "stream",
     "text": [
      "Full Formula (Zn1 S1)\n",
      "Reduced Formula: ZnS\n",
      "abc   :   3.853923   3.853923   3.853923\n",
      "angles:  60.000000  60.000000  60.000000\n",
      "Sites (2)\n",
      "  #  SP       a     b     c    magmom\n",
      "---  ----  ----  ----  ----  --------\n",
      "  0  Zn2+  0     0     0            0\n",
      "  1  S2-   0.25  0.25  0.25        -0\n"
     ]
    }
   ],
   "source": [
    "print(structure)"
   ]
  },
  {
   "cell_type": "markdown",
   "metadata": {},
   "source": [
    "#### Now, so let's substitute 1/4 of the Zn$^{2+}$ with Cu$^{+}$ (note: we will be ignoring charge compensation here, but this is important to take into account in real calculations!)"
   ]
  },
  {
   "cell_type": "code",
   "execution_count": 63,
   "metadata": {},
   "outputs": [],
   "source": [
    "structure = mpr.get_structure_by_material_id(\"mp-10695\")\n",
    "structure.add_oxidation_state_by_guess()"
   ]
  },
  {
   "cell_type": "code",
   "execution_count": 64,
   "metadata": {},
   "outputs": [],
   "source": [
    "specie_to_replace = \"Zn2+\"\n",
    "specie_to_substitute = \"Cu+\"\n",
    "substitution_fraction = 0.25"
   ]
  },
  {
   "cell_type": "code",
   "execution_count": 65,
   "metadata": {},
   "outputs": [],
   "source": [
    "disordered_structure = structure.copy()\n",
    "disordered_structure.replace_species({specie_to_replace: {specie_to_substitute: substitution_fraction, \n",
    "                                                                      specie_to_replace: 1-substitution_fraction}})"
   ]
  },
  {
   "cell_type": "code",
   "execution_count": 67,
   "metadata": {},
   "outputs": [
    {
     "name": "stdout",
     "output_type": "stream",
     "text": [
      "Full Formula (Zn0.75 Cu0.25 S1)\n",
      "Reduced Formula: Zn0.75Cu0.25S1\n",
      "abc   :   3.853923   3.853923   3.853923\n",
      "angles:  60.000000  60.000000  60.000000\n",
      "Sites (2)\n",
      "  #  SP                        a     b     c    magmom\n",
      "---  ---------------------  ----  ----  ----  --------\n",
      "  0  Zn2+:0.750, Cu+:0.250  0     0     0            0\n",
      "  1  S2-                    0.25  0.25  0.25        -0\n"
     ]
    }
   ],
   "source": [
    "print(disordered_structure)"
   ]
  },
  {
   "cell_type": "code",
   "execution_count": 68,
   "metadata": {},
   "outputs": [],
   "source": [
    "# how to plot this in-line?"
   ]
  },
  {
   "cell_type": "markdown",
   "metadata": {},
   "source": [
    "# Transform your structure to make a new alloy"
   ]
  },
  {
   "cell_type": "markdown",
   "metadata": {},
   "source": [
    "### make a supercell!"
   ]
  },
  {
   "cell_type": "markdown",
   "metadata": {},
   "source": [
    "Our structure is a \"disordered crystal structure\", where each site has partial occupancy of a Zn and Cu atom. Though disorder may indeed be more representative of a real crystal structure, we need to convert this to an ordered structure to perform DFT calculations. To do this, we create a disordered supercell and then perform a disorder-to-order transformation"
   ]
  },
  {
   "cell_type": "code",
   "execution_count": 78,
   "metadata": {},
   "outputs": [],
   "source": [
    "disordered_supercell = disordered_structure * (2, 2, 1)"
   ]
  },
  {
   "cell_type": "markdown",
   "metadata": {},
   "source": [
    "#### quick aside: intro to transformations"
   ]
  },
  {
   "cell_type": "markdown",
   "metadata": {},
   "source": [
    "Pymatgen supports a variety of structural \"transformations\" (Oxana introduced this in her talk). A list of supported transformations is available <here>. Here we will focus on two methods to take a disordered structure, and order it:\n",
    "\n",
    "1. OrderDisorderTransformation\n",
    "2. EnumerateStructureTransformation"
   ]
  },
  {
   "cell_type": "code",
   "execution_count": 35,
   "metadata": {},
   "outputs": [],
   "source": [
    "from pymatgen.transformations.advanced_transformations import OrderDisorderedStructureTransformation, EnumerateStructureTransformation"
   ]
  },
  {
   "cell_type": "markdown",
   "metadata": {},
   "source": [
    "#### EnumerateStructureTransformation"
   ]
  },
  {
   "cell_type": "code",
   "execution_count": 71,
   "metadata": {},
   "outputs": [],
   "source": [
    "est = EnumerateStructureTransformation()"
   ]
  },
  {
   "cell_type": "code",
   "execution_count": 72,
   "metadata": {},
   "outputs": [
    {
     "ename": "RuntimeError",
     "evalue": "EnumlibAdaptor requires the executables 'enum.x' or 'multienum.x' and 'makestr.x' or 'makeStr.py' to be in the path. Please download the library at http://enum.sourceforge.net/ and follow the instructions in the README to compile these two executables accordingly.",
     "output_type": "error",
     "traceback": [
      "\u001b[0;31m---------------------------------------------------------------------------\u001b[0m",
      "\u001b[0;31mRuntimeError\u001b[0m                              Traceback (most recent call last)",
      "\u001b[0;32m<ipython-input-72-02556b5200c4>\u001b[0m in \u001b[0;36m<module>\u001b[0;34m\u001b[0m\n\u001b[0;32m----> 1\u001b[0;31m \u001b[0mest\u001b[0m\u001b[0;34m.\u001b[0m\u001b[0mapply_transformation\u001b[0m\u001b[0;34m(\u001b[0m\u001b[0mdisordered_structure\u001b[0m\u001b[0;34m)\u001b[0m\u001b[0;34m\u001b[0m\u001b[0;34m\u001b[0m\u001b[0m\n\u001b[0m",
      "\u001b[0;32m/global/u2/r/rwr/src/pymatgen/pymatgen/transformations/advanced_transformations.py\u001b[0m in \u001b[0;36mapply_transformation\u001b[0;34m(self, structure, return_ranked_list)\u001b[0m\n\u001b[1;32m    454\u001b[0m                 \u001b[0menum_precision_parameter\u001b[0m\u001b[0;34m=\u001b[0m\u001b[0mself\u001b[0m\u001b[0;34m.\u001b[0m\u001b[0menum_precision_parameter\u001b[0m\u001b[0;34m,\u001b[0m\u001b[0;34m\u001b[0m\u001b[0;34m\u001b[0m\u001b[0m\n\u001b[1;32m    455\u001b[0m                 \u001b[0mcheck_ordered_symmetry\u001b[0m\u001b[0;34m=\u001b[0m\u001b[0mself\u001b[0m\u001b[0;34m.\u001b[0m\u001b[0mcheck_ordered_symmetry\u001b[0m\u001b[0;34m,\u001b[0m\u001b[0;34m\u001b[0m\u001b[0;34m\u001b[0m\u001b[0m\n\u001b[0;32m--> 456\u001b[0;31m                 \u001b[0mtimeout\u001b[0m\u001b[0;34m=\u001b[0m\u001b[0mself\u001b[0m\u001b[0;34m.\u001b[0m\u001b[0mtimeout\u001b[0m\u001b[0;34m,\u001b[0m\u001b[0;34m\u001b[0m\u001b[0;34m\u001b[0m\u001b[0m\n\u001b[0m\u001b[1;32m    457\u001b[0m             )\n\u001b[1;32m    458\u001b[0m             \u001b[0;32mtry\u001b[0m\u001b[0;34m:\u001b[0m\u001b[0;34m\u001b[0m\u001b[0;34m\u001b[0m\u001b[0m\n",
      "\u001b[0;32m~/cori-envs/pymatgen-dev/lib/python3.7/site-packages/monty/dev.py\u001b[0m in \u001b[0;36mdecorated\u001b[0;34m(*args, **kwargs)\u001b[0m\n\u001b[1;32m     88\u001b[0m         \u001b[0;32mdef\u001b[0m \u001b[0mdecorated\u001b[0m\u001b[0;34m(\u001b[0m\u001b[0;34m*\u001b[0m\u001b[0margs\u001b[0m\u001b[0;34m,\u001b[0m \u001b[0;34m**\u001b[0m\u001b[0mkwargs\u001b[0m\u001b[0;34m)\u001b[0m\u001b[0;34m:\u001b[0m\u001b[0;34m\u001b[0m\u001b[0;34m\u001b[0m\u001b[0m\n\u001b[1;32m     89\u001b[0m             \u001b[0;32mif\u001b[0m \u001b[0;32mnot\u001b[0m \u001b[0mself\u001b[0m\u001b[0;34m.\u001b[0m\u001b[0mcondition\u001b[0m\u001b[0;34m:\u001b[0m\u001b[0;34m\u001b[0m\u001b[0;34m\u001b[0m\u001b[0m\n\u001b[0;32m---> 90\u001b[0;31m                 \u001b[0;32mraise\u001b[0m \u001b[0mRuntimeError\u001b[0m\u001b[0;34m(\u001b[0m\u001b[0mself\u001b[0m\u001b[0;34m.\u001b[0m\u001b[0mmessage\u001b[0m\u001b[0;34m)\u001b[0m\u001b[0;34m\u001b[0m\u001b[0;34m\u001b[0m\u001b[0m\n\u001b[0m\u001b[1;32m     91\u001b[0m             \u001b[0;32mreturn\u001b[0m \u001b[0m_callable\u001b[0m\u001b[0;34m(\u001b[0m\u001b[0;34m*\u001b[0m\u001b[0margs\u001b[0m\u001b[0;34m,\u001b[0m \u001b[0;34m**\u001b[0m\u001b[0mkwargs\u001b[0m\u001b[0;34m)\u001b[0m\u001b[0;34m\u001b[0m\u001b[0;34m\u001b[0m\u001b[0m\n\u001b[1;32m     92\u001b[0m \u001b[0;34m\u001b[0m\u001b[0m\n",
      "\u001b[0;31mRuntimeError\u001b[0m: EnumlibAdaptor requires the executables 'enum.x' or 'multienum.x' and 'makestr.x' or 'makeStr.py' to be in the path. Please download the library at http://enum.sourceforge.net/ and follow the instructions in the README to compile these two executables accordingly."
     ]
    }
   ],
   "source": [
    "# matt suggested this, but \"enum.x\" has to be added to path\n",
    "est.apply_transformation(disordered_structure)"
   ]
  },
  {
   "cell_type": "markdown",
   "metadata": {},
   "source": [
    "#### OrderDisorderStructureTransformation"
   ]
  },
  {
   "cell_type": "code",
   "execution_count": 74,
   "metadata": {},
   "outputs": [],
   "source": [
    "odst = OrderDisorderedStructureTransformation()"
   ]
  },
  {
   "cell_type": "code",
   "execution_count": 77,
   "metadata": {},
   "outputs": [
    {
     "data": {
      "text/plain": [
       "Structure Summary\n",
       "Lattice\n",
       "    abc : 3.853922876297604 3.853922876297604 3.853922876297604\n",
       " angles : 60.00000000000001 60.00000000000001 60.00000000000001\n",
       " volume : 40.475671304233664\n",
       "      A : 0.0 2.725135 2.725135\n",
       "      B : 2.725135 0.0 2.725135\n",
       "      C : 2.725135 2.725135 0.0\n",
       "PeriodicSite: Zn2+:0.750, Cu+:0.250 (0.0000, 0.0000, 0.0000) [0.0000, 0.0000, 0.0000]\n",
       "PeriodicSite: S2- (1.3626, 1.3626, 1.3626) [0.2500, 0.2500, 0.2500]"
      ]
     },
     "execution_count": 77,
     "metadata": {},
     "output_type": "execute_result"
    }
   ],
   "source": [
    "disordered_structure"
   ]
  },
  {
   "cell_type": "code",
   "execution_count": 80,
   "metadata": {},
   "outputs": [],
   "source": [
    "ordered_structure = odst.apply_transformation(disordered_supercell)"
   ]
  },
  {
   "cell_type": "code",
   "execution_count": 81,
   "metadata": {},
   "outputs": [
    {
     "name": "stdout",
     "output_type": "stream",
     "text": [
      "Full Formula (Zn3 Cu1 S4)\n",
      "Reduced Formula: Zn3CuS4\n",
      "abc   :   7.707846   7.707846   3.853923\n",
      "angles:  60.000000  60.000000  60.000000\n",
      "Sites (8)\n",
      "  #  SP        a      b     c    magmom\n",
      "---  ----  -----  -----  ----  --------\n",
      "  0  Zn2+  0      0.5    0            0\n",
      "  1  Zn2+  0.5    0      0            0\n",
      "  2  Zn2+  0.5    0.5    0            0\n",
      "  3  Cu+   0      0      0            0\n",
      "  4  S2-   0.125  0.125  0.25        -0\n",
      "  5  S2-   0.125  0.625  0.25        -0\n",
      "  6  S2-   0.625  0.125  0.25        -0\n",
      "  7  S2-   0.625  0.625  0.25        -0\n"
     ]
    }
   ],
   "source": [
    "print(ordered_structure)"
   ]
  },
  {
   "cell_type": "markdown",
   "metadata": {},
   "source": [
    "now we have an alloy structure!!"
   ]
  },
  {
   "cell_type": "markdown",
   "metadata": {},
   "source": [
    "#### another quick aside: guessing volume before DFT calculation"
   ]
  },
  {
   "cell_type": "code",
   "execution_count": null,
   "metadata": {},
   "outputs": [],
   "source": [
    "# not sure if we want to be advertising this??"
   ]
  },
  {
   "cell_type": "markdown",
   "metadata": {},
   "source": [
    "Pymatgen has a data-mined lattice scaling (DLS) scheme that relies on data-mined bond lengths to predict the crystal volume of a given structure. We apply this here to create a starting point structure, which we can then fine-tune with DFT structure relaxation."
   ]
  },
  {
   "cell_type": "code",
   "execution_count": 85,
   "metadata": {},
   "outputs": [],
   "source": [
    "from pymatgen.analysis.structure_prediction.volume_predictor import DLSVolumePredictor"
   ]
  },
  {
   "cell_type": "code",
   "execution_count": 87,
   "metadata": {},
   "outputs": [],
   "source": [
    "v = DLSVolumePredictor()\n",
    "ordered_structure_guess = v.get_predicted_structure(ordered_structure)"
   ]
  },
  {
   "cell_type": "code",
   "execution_count": 88,
   "metadata": {},
   "outputs": [
    {
     "name": "stdout",
     "output_type": "stream",
     "text": [
      "Full Formula (Zn3 Cu1 S4)\n",
      "Reduced Formula: Zn3CuS4\n",
      "abc   :   7.597133   7.597133   3.798567\n",
      "angles:  60.000000  60.000000  60.000000\n",
      "Sites (8)\n",
      "  #  SP        a      b     c    magmom\n",
      "---  ----  -----  -----  ----  --------\n",
      "  0  Zn2+  0      0.5    0            0\n",
      "  1  Zn2+  0.5    0      0            0\n",
      "  2  Zn2+  0.5    0.5    0            0\n",
      "  3  Cu+   0      0      0            0\n",
      "  4  S2-   0.125  0.125  0.25        -0\n",
      "  5  S2-   0.125  0.625  0.25        -0\n",
      "  6  S2-   0.625  0.125  0.25        -0\n",
      "  7  S2-   0.625  0.625  0.25        -0\n"
     ]
    }
   ],
   "source": [
    "print(ordered_structure_guess)"
   ]
  },
  {
   "cell_type": "code",
   "execution_count": 82,
   "metadata": {},
   "outputs": [],
   "source": [
    "# should I run this on VASP and then give them the result as an input to the next step?"
   ]
  },
  {
   "cell_type": "markdown",
   "metadata": {},
   "source": [
    "# Calculate new properties!"
   ]
  },
  {
   "cell_type": "markdown",
   "metadata": {},
   "source": [
    "### compare XRD to original structure"
   ]
  },
  {
   "cell_type": "markdown",
   "metadata": {},
   "source": [
    "now, we can compare this structure to our original structure to, for example, see how the XRD patterns shift"
   ]
  },
  {
   "cell_type": "code",
   "execution_count": 91,
   "metadata": {},
   "outputs": [],
   "source": [
    "from pymatgen.analysis.diffraction.xrd import XRDCalculator"
   ]
  },
  {
   "cell_type": "code",
   "execution_count": 93,
   "metadata": {},
   "outputs": [],
   "source": [
    "xrd = XRDCalculator(wavelength='CuKa')"
   ]
  },
  {
   "cell_type": "code",
   "execution_count": 97,
   "metadata": {},
   "outputs": [
    {
     "data": {
      "image/png": "[encoded data removed]",
      "text/plain": [
       "<Figure size 432x288 with 2 Axes>"
      ]
     },
     "metadata": {
      "needs_background": "light"
     },
     "output_type": "display_data"
    }
   ],
   "source": [
    "xrd_plots = xrd.plot_structures([structure, ordered_structure_guess], annotate_peaks=False, two_theta_range=[20,60])"
   ]
  },
  {
   "cell_type": "markdown",
   "metadata": {},
   "source": [
    "you can see how the peaks shift slightly to the right with Cu integration!"
   ]
  },
  {
   "cell_type": "code",
   "execution_count": null,
   "metadata": {},
   "outputs": [],
   "source": [
    "# other properties?"
   ]
  },
  {
   "cell_type": "markdown",
   "metadata": {},
   "source": [
    "# Test your skills"
   ]
  },
  {
   "cell_type": "markdown",
   "metadata": {},
   "source": [
    "Now, try this exercise on a structure of interest to you!"
   ]
  },
  {
   "cell_type": "code",
   "execution_count": 84,
   "metadata": {},
   "outputs": [],
   "source": [
    "# TBD"
   ]
  },
  {
   "cell_type": "code",
   "execution_count": null,
   "metadata": {},
   "outputs": [],
   "source": []
  }
 ],
 "metadata": {
  "kernelspec": {
   "display_name": "pymatgen-dev",
   "language": "python",
   "name": "pymatgen-dev"
  },
  "language_info": {
   "codemirror_mode": {
    "name": "ipython",
    "version": 3
   },
   "file_extension": ".py",
   "mimetype": "text/x-python",
   "name": "python",
   "nbconvert_exporter": "python",
   "pygments_lexer": "ipython3",
   "version": "3.7.7"
  }
 },
 "nbformat": 4,
 "nbformat_minor": 4
}
