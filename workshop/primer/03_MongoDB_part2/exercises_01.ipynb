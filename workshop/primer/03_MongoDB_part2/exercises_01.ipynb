{
 "cells": [
  {
   "cell_type": "markdown",
   "metadata": {},
   "source": [
    "# Working with Distinct Values, $elemMatch, and Regex: Exercises"
   ]
  },
  {
   "cell_type": "code",
   "execution_count": null,
   "metadata": {},
   "outputs": [],
   "source": [
    "from bson.regex import Regex\n",
    "from pymongo import MongoClient\n",
    "\n",
    "client = MongoClient()\n",
    "db = client.nobel"
   ]
  },
  {
   "cell_type": "markdown",
   "metadata": {},
   "source": [
    "## Categorical data validation"
   ]
  },
  {
   "cell_type": "markdown",
   "metadata": {},
   "source": [
    "What expression asserts that the distinct Nobel Prize categories catalogued by the \"prizes\" collection are the same as those catalogued by the \"laureates\"?\n",
    "\n",
    "Remember to explore example documents via e.g. `db.prizes.find_one()` and `db.laureates.find_one()`."
   ]
  },
  {
   "cell_type": "markdown",
   "metadata": {},
   "source": [
    "1. `assert db.prizes.distinct(\"category\") == db.laureates.distinct(\"prizes.category\")`\n",
    "2. `assert db.prizes.distinct(\"laureates.category\") == db.laureates.distinct(\"prizes.category\")`\n",
    "3. `assert set(db.prizes.distinct(\"category\")) == set(db.laureates.distinct(\"prizes.category\"))`"
   ]
  },
  {
   "cell_type": "markdown",
   "metadata": {},
   "source": [
    "## Never from there, but sometimes there at last"
   ]
  },
  {
   "cell_type": "markdown",
   "metadata": {},
   "source": [
    "There are some recorded countries of death (`\"diedCountry\"`) that do not appear as a country of birth (`\"bornCountry\"`) for laureates. One such country is \"East Germany\".\n",
    "\n",
    "- Return a set of all such countries as `countries`."
   ]
  },
  {
   "cell_type": "code",
   "execution_count": null,
   "metadata": {},
   "outputs": [],
   "source": [
    "# Countries recorded as countries of death but not as countries of birth\n",
    "countries = set(____) - set(____)\n",
    "print(countries)"
   ]
  },
  {
   "cell_type": "markdown",
   "metadata": {},
   "source": [
    "## Countries of affiliation"
   ]
  },
  {
   "cell_type": "markdown",
   "metadata": {},
   "source": [
    "We saw in the last exercise that countries can be associated with a laureate as their country of birth and as their country of death. For each prize a laureate received, they may also have been affiliated with an institution at the time, located in a country.\n",
    "\n",
    "- Determine the number of distinct countries recorded as part of an affiliation for laureates' prizes. Save this as `count`."
   ]
  },
  {
   "cell_type": "code",
   "execution_count": null,
   "metadata": {},
   "outputs": [],
   "source": [
    "# The number of distinct countries of laureate affiliation for prizes\n",
    "count = ____(db.laureates.____(____))\n",
    "print(count)"
   ]
  },
  {
   "cell_type": "markdown",
   "metadata": {},
   "source": [
    "## Born here, went there\n",
    "\n",
    "In which countries have USA-born laureates had affiliations for their prizes?\n",
    "\n",
    "1. Australia, Denmark, United Kingdom, USA\n",
    "2. Australia, France, Sweden, United Kingdom, USA\n",
    "3. Australia, Canada, Israel, United Kingdom, USA"
   ]
  },
  {
   "cell_type": "markdown",
   "metadata": {},
   "source": [
    "## Triple plays (mostly) all around\n",
    "\n",
    "All prize categories but one – literature – have had prizes shared by three or more laureates.\n",
    "\n",
    "- Save a filter document `criteria` that, when passed to `db.prizes.distinct`, returns all prize categories shared by three or more laureates. That is, `\"laureates.2\"` must exist for such documents.\n",
    "- Save these prize categories as a Python `set` called `triple_play_categories`.\n",
    "- Confirm via an assertion that \"literature\" is the only prize category with no prizes shared by three or more laureates."
   ]
  },
  {
   "cell_type": "code",
   "execution_count": null,
   "metadata": {},
   "outputs": [],
   "source": [
    "# Save a filter for prize documents with three or more laureates\n",
    "criteria = {____: {____: ____}}\n",
    "\n",
    "# Save the set of distinct prize categories in documents satisfying the criteria\n",
    "triple_play_categories = ____(db.prizes.distinct(____, criteria))\n",
    "\n",
    "# Confirm literature as the only category not satisfying the criteria.\n",
    "assert set(db.prizes.distinct(____)) - triple_play_categories == {____}"
   ]
  },
  {
   "cell_type": "markdown",
   "metadata": {},
   "source": [
    "## Sharing in physics after World War II\n",
    "\n",
    "What is the approximate ratio of the number of laureates who won an *unshared*, i.e.\n",
    "\n",
    "    {\"share\": \"1\"}\n",
    "\n",
    ", prize in physics after World War II, i.e.\n",
    "\n",
    "    {\"year\": {\"$gte\": \"1945\"}}\n",
    "\n",
    ", to the number of laureates who won a *shared* prize in physics after World War II?\n",
    "\n",
    "1. 0.06\n",
    "1. 0.13\n",
    "1. 0.33\n",
    "1. 0.50"
   ]
  },
  {
   "cell_type": "markdown",
   "metadata": {},
   "source": [
    "## Meanwhile, in other categories..."
   ]
  },
  {
   "cell_type": "markdown",
   "metadata": {},
   "source": [
    "What is the aforemenrtioned ratio for prize categories other than physics, chemistry, and medicine?\n",
    "\n",
    "- Save an `$elemMatch` filter `unshared` to count laureates with unshared prizes in categories other than (\"not in\") `[\"physics\", \"chemistry\", \"medicine\"]` in or after 1945.\n",
    "- Save an `$elemMatch` filter `shared` to count laureates with shared (i.e., \"share\" is not \"1\") prizes in categories other than `[\"physics\", \"chemistry\", \"medicine\"]` in or after 1945.\n",
    "\n"
   ]
  },
  {
   "cell_type": "code",
   "execution_count": null,
   "metadata": {},
   "outputs": [],
   "source": [
    "# Save a filter for laureates with unshared prizes\n",
    "unshared = {\n",
    "    \"prizes\": {____: {\n",
    "        ____: {____: [\"physics\", \"chemistry\", \"medicine\"]},\n",
    "        \"share\": \"1\",\n",
    "        \"year\": {____: \"1945\"},\n",
    "    }}}\n",
    "\n",
    "# Save a filter for laureates with shared prizes\n",
    "shared = {\n",
    "    \"prizes\": {____: {\n",
    "        ____: {____: [\"physics\", \"chemistry\", \"medicine\"]},\n",
    "        \"share\": {____: \"1\"},\n",
    "        \"year\": {____: \"1945\"},\n",
    "    }}}\n",
    "\n",
    "ratio = db.laureates.____(____) / db.laureates.____(____)\n",
    "print(ratio)"
   ]
  },
  {
   "cell_type": "markdown",
   "metadata": {},
   "source": [
    "## Organizations and prizes over time"
   ]
  },
  {
   "cell_type": "markdown",
   "metadata": {},
   "source": [
    "How many organizations won prizes before 1945 versus in or after 1945?"
   ]
  },
  {
   "cell_type": "markdown",
   "metadata": {},
   "source": [
    "- Save a filter `before` to count organization laureates with prizes won before 1945. Recall that organization status is encoded with the \"gender\" field, and that dot notation is needed to access a laureate's \"year\" field within its \"prizes\" array.\n",
    "- Save a filter `in_or_after` to count organization laureates with prizes won in or after 1945."
   ]
  },
  {
   "cell_type": "code",
   "execution_count": null,
   "metadata": {},
   "outputs": [],
   "source": [
    "# Save a filter for organization laureates with prizes won before 1945\n",
    "before = {\n",
    "    ____: ____,\n",
    "    ____: {____: \"1945\"},\n",
    "    }\n",
    "\n",
    "# Save a filter for organization laureates with prizes won in or after 1945\n",
    "in_or_after = {\n",
    "    ____: ____,\n",
    "    ____: {____: \"1945\"},\n",
    "    }\n",
    "\n",
    "n_before = db.laureates.count_documents(before)\n",
    "n_in_or_after = db.laureates.count_documents(in_or_after)\n",
    "ratio = n_in_or_after / (n_in_or_after + n_before)\n",
    "print(ratio)"
   ]
  },
  {
   "cell_type": "markdown",
   "metadata": {},
   "source": [
    "## Glenn, George, and others in the G.B. crew"
   ]
  },
  {
   "cell_type": "markdown",
   "metadata": {},
   "source": [
    "There are two laureates with Berkeley, California as a prize affiliation city that have the initials G.S. - Glenn Seaborg and George Smoot.\n",
    "\n",
    "How many laureates in total have a first name beginning with \"G\" and a surname beginning with \"S\"?\n",
    "\n",
    "Evaluate the expression\n",
    "```python\n",
    "db.laureates.count_documents({\"firstname\": Regex(____), \"surname\": Regex(____)})\n",
    "```\n",
    ", filling in the blanks appropriately."
   ]
  },
  {
   "cell_type": "markdown",
   "metadata": {},
   "source": [
    "1. 9 laureates\n",
    "1. 12 laureates\n",
    "1. 50 laureates"
   ]
  },
  {
   "cell_type": "markdown",
   "metadata": {},
   "source": [
    "## Germany, then and now"
   ]
  },
  {
   "cell_type": "markdown",
   "metadata": {},
   "source": [
    "Just as we saw with Poland, there are laureates who were born somewhere that was in Germany at the time but is now not, and others born somewhere that was not in Germany at the time but now is."
   ]
  },
  {
   "cell_type": "markdown",
   "metadata": {},
   "source": [
    "- Use a regular expression object to filter for laureates with \"Germany\" in their \"bornCountry\" value."
   ]
  },
  {
   "cell_type": "code",
   "execution_count": null,
   "metadata": {},
   "outputs": [],
   "source": [
    "# Filter for laureates with \"Germany\" in their \"bornCountry\" value\n",
    "criteria = {\"bornCountry\": Regex(____)}\n",
    "print(set(db.laureates.distinct(\"bornCountry\", criteria)))"
   ]
  },
  {
   "cell_type": "markdown",
   "metadata": {},
   "source": [
    "- Use a regular expression object to filter for laureates with a \"bornCountry\" value starting with \"Germany\"."
   ]
  },
  {
   "cell_type": "code",
   "execution_count": null,
   "metadata": {},
   "outputs": [],
   "source": [
    "# Filter for laureates with a \"bornCountry\" value starting with \"Germany\"\n",
    "criteria = {\"bornCountry\": ____(____)}\n",
    "print(set(db.laureates.distinct(\"bornCountry\", criteria)))"
   ]
  },
  {
   "cell_type": "markdown",
   "metadata": {},
   "source": [
    "- Use a regular expression object to filter for laureates born in what was at the time Germany but is now another country."
   ]
  },
  {
   "cell_type": "code",
   "execution_count": null,
   "metadata": {},
   "outputs": [],
   "source": [
    "# Fill in a string value to be sandwiched between the strings \"^\" and \"now\"\n",
    "criteria = {\"bornCountry\": ____(\"^\" + ____ + \"now\")}\n",
    "print(set(db.laureates.distinct(\"bornCountry\", criteria)))"
   ]
  },
  {
   "cell_type": "markdown",
   "metadata": {},
   "source": [
    "- Use a regular expression object to filter for laureates born in what is now Germany but at the time was another country."
   ]
  },
  {
   "cell_type": "code",
   "execution_count": null,
   "metadata": {},
   "outputs": [],
   "source": [
    "# Filter for currently-Germany countries of birth.\n",
    "# Fill in a string value to be sandwiched between the strings \"now\" and \"$\"\n",
    "criteria = {\"bornCountry\": ____(\"now\" + ____ + \"$\")}\n",
    "print(set(db.laureates.distinct(\"bornCountry\", criteria)))"
   ]
  },
  {
   "cell_type": "markdown",
   "metadata": {},
   "source": [
    "## The prized transistor"
   ]
  },
  {
   "cell_type": "markdown",
   "metadata": {},
   "source": [
    "Three people shared a Nobel prize \"for their researches on semiconductors and their discovery of the transistor effect\". We can filter on \"transistor\" as a substring of a laureate's \"prizes.motivation\" field value to find these laureates.\n",
    "\n",
    "- Save a filter `criteria` that finds laureates with `prizes.motivation` values containing \"transistor\" as a substring. The substring can appear anywhere within the value, so no anchoring characters are needed.\n",
    "- Save to `first` and `last` the field names corresponding to a laureate's first name and last name (i.e. \"surname\") so that we can print out the names of these laureates.\n",
    "\n"
   ]
  },
  {
   "cell_type": "code",
   "execution_count": null,
   "metadata": {},
   "outputs": [],
   "source": [
    "# Save a filter for laureates with prize motivation values containing \"transistor\" as a substring\n",
    "criteria = {____: Regex(____)}\n",
    "\n",
    "# Save the field names corresponding to a laureate's first name and last name\n",
    "first, last = ____, ____\n",
    "print([(laureate[first], laureate[last]) for laureate in db.laureates.find(criteria)])"
   ]
  }
 ],
 "metadata": {
  "kernelspec": {
   "display_name": "Python 3",
   "language": "python",
   "name": "python3"
  },
  "language_info": {
   "codemirror_mode": {
    "name": "ipython",
    "version": 3
   },
   "file_extension": ".py",
   "mimetype": "text/x-python",
   "name": "python",
   "nbconvert_exporter": "python",
   "pygments_lexer": "ipython3",
   "version": "3.7.3"
  }
 },
 "nbformat": 4,
 "nbformat_minor": 2
}
