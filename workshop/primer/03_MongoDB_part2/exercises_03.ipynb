{
 "cells": [
  {
   "cell_type": "markdown",
   "metadata": {},
   "source": [
    "# Indexing: Exercises"
   ]
  },
  {
   "cell_type": "markdown",
   "metadata": {},
   "source": [
    "## High-share categories"
   ]
  },
  {
   "cell_type": "markdown",
   "metadata": {},
   "source": [
    "In the year 3030, everybody wants to be a Nobel laureate. Over the last thousand years, many new categories have been added.\n",
    "\n",
    "You serve a MongoDB prizes collection with the same schema as we've seen. Many people theorize that they have a better chance in \"high-share\" categories. They are hitting your server with similar, long-running queries. It's time to cover those queries with an index.\n",
    "\n",
    "Which of the following indexes is best suited to speeding up the operation\n",
    "```python\n",
    "db.prizes.distinct(\"category\", {\"laureates.share\": {\"$gt\": \"3\"}})\n",
    "```\n",
    "?"
   ]
  },
  {
   "cell_type": "markdown",
   "metadata": {},
   "source": [
    "1. `[(\"category\", 1), (\"laureates.share\", 1)]`\n",
    "1. `[(\"laureates.share\", 1)]`\n",
    "1. `[(\"laureates.share\", 1), (\"category\", 1)]`"
   ]
  },
  {
   "cell_type": "markdown",
   "metadata": {},
   "source": [
    "## Recently single?\n",
    "\n",
    "A prize might be awarded to a single laureate or to several. For each prize category, report the most recent year that a single laureate -- rather than several -- received a prize in that category.\n",
    "\n",
    "- Specify an index model `index_model` to pass to `db.prizes.create_index` that speeds up finding prizes by category and sorting results by decreasing year. That is, the model should index first on category (ascending) and second on year (descending).\n",
    "- Save a string `report` for printing the last single-laureate year for each distinct category, one category per line. To do this, for each distinct prize category, find the latest-year prize of that category with a laureate share of \"1\"."
   ]
  },
  {
   "cell_type": "code",
   "execution_count": null,
   "metadata": {},
   "outputs": [],
   "source": [
    "from pymongo import MongoClient\n",
    "\n",
    "client = MongoClient()\n",
    "db = client.nobel"
   ]
  },
  {
   "cell_type": "code",
   "execution_count": null,
   "metadata": {},
   "outputs": [],
   "source": [
    "# Specify an index model for compound sorting\n",
    "index_model = [(____, 1), (____, -1)]\n",
    "db.prizes.create_index(index_model)\n",
    "\n",
    "# Collect the last single-laureate year for each category\n",
    "report = \"\"\n",
    "for category in sorted(db.prizes.____(\"category\")):\n",
    "    doc = db.prizes.find_one(\n",
    "        {____: ____, \"laureates.share\": \"1\"},\n",
    "        sort=[(____, ____)]\n",
    "    )\n",
    "    report += \"{category}: {year}\\n\".format(**doc)\n",
    "\n",
    "print(report)"
   ]
  },
  {
   "cell_type": "markdown",
   "metadata": {},
   "source": [
    "## Born and affiliated\n",
    "\n",
    "Some countries are, for one or more laureates, both their country of birth (\"bornCountry\") and a country of affiliation for one or more of their prizes (\"prizes.affiliations.country\"). You will find the five countries of birth with the highest counts of such laureates.\n",
    "\n",
    "- Create an index on country of birth (\"bornCountry\") for `db.laureates` to ensure efficient gathering of distinct values and counting of documents\n",
    "- Complete the skeleton dictionary comprehension to construct `n_born_and_affiliated`, the count of laureates as described above for each distinct country of birth.\n"
   ]
  },
  {
   "cell_type": "code",
   "execution_count": null,
   "metadata": {},
   "outputs": [],
   "source": [
    "from collections import Counter\n",
    "\n",
    "# Ensure an index on country of birth\n",
    "db.laureates.create_index([(____, 1)])\n",
    "\n",
    "# Collect a count of laureates for each country of birth\n",
    "n_born_and_affiliated = {\n",
    "    country: db.laureates.count_documents({\n",
    "        ____: ____,\n",
    "        \"prizes.affiliations.country\": ____\n",
    "    })\n",
    "    for ____ in db.laureates.distinct(\"bornCountry\")\n",
    "}\n",
    "\n",
    "five_most_common = Counter(n_born_and_affiliated).most_common(5)\n",
    "print(five_most_common)"
   ]
  }
 ],
 "metadata": {
  "kernelspec": {
   "display_name": "Python 3",
   "language": "python",
   "name": "python3"
  },
  "language_info": {
   "codemirror_mode": {
    "name": "ipython",
    "version": 3
   },
   "file_extension": ".py",
   "mimetype": "text/x-python",
   "name": "python",
   "nbconvert_exporter": "python",
   "pygments_lexer": "ipython3",
   "version": "3.7.3"
  }
 },
 "nbformat": 4,
 "nbformat_minor": 2
}
