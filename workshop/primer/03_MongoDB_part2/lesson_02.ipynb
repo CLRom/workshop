{
 "cells": [
  {
   "cell_type": "markdown",
   "metadata": {},
   "source": [
    "# Projection and Sorting"
   ]
  },
  {
   "cell_type": "markdown",
   "metadata": {},
   "source": [
    "## What is \"projection\"?\n",
    "\n",
    "- reducing data to fewer dimensions\n",
    "- Asking certain data to \"speak up\"!"
   ]
  },
  {
   "cell_type": "markdown",
   "metadata": {},
   "source": [
    "![](assets/map-projections.jpg)"
   ]
  },
  {
   "cell_type": "markdown",
   "metadata": {},
   "source": [
    "## Projection in MongoDB"
   ]
  },
  {
   "cell_type": "code",
   "execution_count": null,
   "metadata": {},
   "outputs": [],
   "source": [
    "from pymongo import MongoClient\n",
    "\n",
    "client = MongoClient()\n",
    "db = client.nobel"
   ]
  },
  {
   "cell_type": "markdown",
   "metadata": {},
   "source": [
    "When using `db.collection.find()`, the first argument is the filter and the second is the projection."
   ]
  },
  {
   "cell_type": "code",
   "execution_count": null,
   "metadata": {},
   "outputs": [],
   "source": [
    "db.laureates.find({}, {})"
   ]
  },
  {
   "cell_type": "markdown",
   "metadata": {},
   "source": [
    "Since `db.collection.find()` returns a cursor, we either need to iterate over its contents or make it into a list:"
   ]
  },
  {
   "cell_type": "code",
   "execution_count": null,
   "metadata": {},
   "outputs": [],
   "source": [
    "for doc in db.laureates.find({}, {}):\n",
    "    print(doc)"
   ]
  },
  {
   "cell_type": "code",
   "execution_count": null,
   "metadata": {},
   "outputs": [],
   "source": [
    "list(db.laureates.find({},{}))[:3]"
   ]
  },
  {
   "cell_type": "markdown",
   "metadata": {},
   "source": [
    "An empty projection dictionary by default only displays the entry `\"_id\"` field. To project out the prizes.affiliation field without the `\"_id\"` field, we would use a projection equal to `{\"prizes.affiliations\": 1, \"_id\": 0}`."
   ]
  },
  {
   "cell_type": "code",
   "execution_count": null,
   "metadata": {},
   "outputs": [],
   "source": [
    "list(db.laureates.find({},{\"prizes.affiliations\": 1, \"_id\": 0}))[:3]"
   ]
  },
  {
   "cell_type": "markdown",
   "metadata": {},
   "source": [
    "where the `1` value turns on `\"prizes.affiliations\"` and the `0` value turns off `\"_id\"`."
   ]
  },
  {
   "cell_type": "markdown",
   "metadata": {},
   "source": [
    "## Missing fields"
   ]
  },
  {
   "cell_type": "code",
   "execution_count": null,
   "metadata": {},
   "outputs": [],
   "source": [
    "list(db.laureates.find({\"gender\": \"org\"}, {\"firstname\": 1, \"born\": 1, \"_id\": 0}))"
   ]
  },
  {
   "cell_type": "code",
   "execution_count": null,
   "metadata": {},
   "outputs": [],
   "source": [
    "list(db.laureates.find({\"gender\": \"org\"}, {\"favoriteIceCreamFlavor\": 1, \"_id\": 0}))"
   ]
  },
  {
   "cell_type": "markdown",
   "metadata": {},
   "source": [
    "## Shares of the 1963 Prize in Physics\n",
    "\n",
    "Let's examine the laureates of the 1963 prize in physics and how they split the prize. Here is a query without projection:\n",
    "\n",
    "```python\n",
    "db.laureates.find({\"prizes\": {\"$elemMatch\": {\"category\": \"physics\", \"year\": \"1963\"}}})\n",
    "```\n",
    "\n",
    "How would we fetch the laureates' full names and prize share info?"
   ]
  },
  {
   "cell_type": "code",
   "execution_count": null,
   "metadata": {},
   "outputs": [],
   "source": [
    "projection = {\"firstname\": 1, \"surname\": 1, \"prizes.share\": 1, \"_id\": 0}\n",
    "\n",
    "list(db.laureates.find({\"prizes\": {\"$elemMatch\": {\"category\": \"physics\", \"year\": \"1963\"}}}, projection))"
   ]
  },
  {
   "cell_type": "markdown",
   "metadata": {},
   "source": [
    "## Sorting post-query with Python"
   ]
  },
  {
   "cell_type": "code",
   "execution_count": null,
   "metadata": {},
   "outputs": [],
   "source": [
    "from operator import itemgetter\n",
    "\n",
    "docs = list(db.prizes.find({\"category\": \"physics\"}, [\"year\"]))\n",
    "\n",
    "docs = sorted(docs, key=itemgetter(\"year\"))\n",
    "print([doc[\"year\"] for doc in docs][:5])"
   ]
  },
  {
   "cell_type": "code",
   "execution_count": null,
   "metadata": {},
   "outputs": [],
   "source": [
    "docs = sorted(docs, key=itemgetter(\"year\"), reverse=True)\n",
    "print([doc[\"year\"] for doc in docs][:5])"
   ]
  },
  {
   "cell_type": "markdown",
   "metadata": {},
   "source": [
    "## Sorting in-query with MongoDB"
   ]
  },
  {
   "cell_type": "code",
   "execution_count": null,
   "metadata": {},
   "outputs": [],
   "source": [
    "cursor = db.prizes.find({\"category\": \"physics\"}, [\"year\"],\n",
    "                        sort=[(\"year\", 1)])\n",
    "print([doc[\"year\"] for doc in cursor][:5])"
   ]
  },
  {
   "cell_type": "code",
   "execution_count": null,
   "metadata": {},
   "outputs": [],
   "source": [
    "cursor = db.prizes.find({\"category\": \"physics\"}, [\"year\"],\n",
    "                        sort=[(\"year\", -1)])\n",
    "print([doc[\"year\"] for doc in cursor][:5])"
   ]
  },
  {
   "cell_type": "markdown",
   "metadata": {},
   "source": [
    "## Primary and secondary sorting"
   ]
  },
  {
   "cell_type": "code",
   "execution_count": null,
   "metadata": {},
   "outputs": [],
   "source": [
    "for doc in db.prizes.find(\n",
    "        {\"year\": {\"$gt\": \"1966\", \"$lt\": \"1970\"}},\n",
    "        {\"category\": 1, \"year\": 1, \"_id\": 0},\n",
    "        sort=[(\"year\", 1), (\"category\", -1)]):\n",
    "    print(\"{year} {category}\".format(**doc))"
   ]
  },
  {
   "cell_type": "markdown",
   "metadata": {},
   "source": [
    "## What the sort?\n",
    "\n",
    "This block prints out the first five projections of a sorted query. What \"sort\" argument fills the blank?\n",
    "\n",
    "```python\n",
    "docs = list(db.laureates.find(\n",
    "    {\"born\": {\"$gte\": \"1900\"}, \"prizes.year\": {\"$gte\": \"1954\"}, \"gender\":{\"$in\":[\"male\",\"female\"]}},\n",
    "    {\"born\": 1, \"prizes.year\": 1, \"_id\": 0},\n",
    "    sort=____))\n",
    "for doc in docs[:5]:\n",
    "    print(doc)\n",
    "```\n",
    "```\n",
    "{'born': '1916-08-25', 'prizes': [{'year': '1954'}]}\n",
    "{'born': '1915-06-15', 'prizes': [{'year': '1954'}]}\n",
    "{'born': '1901-02-28', 'prizes': [{'year': '1954'}, {'year': '1962'}]}\n",
    "{'born': '1913-07-12', 'prizes': [{'year': '1955'}]}\n",
    "{'born': '1911-01-26', 'prizes': [{'year': '1955'}]}\n",
    "```"
   ]
  },
  {
   "cell_type": "markdown",
   "metadata": {},
   "source": [
    "Primary sorting is ascending by `\"prizes.year\"`. Secondary sort is descending by `\"born\"`. Thus, sort=`[(\"prizes.year\",1),(\"born\",-1)]`."
   ]
  },
  {
   "cell_type": "code",
   "execution_count": null,
   "metadata": {},
   "outputs": [],
   "source": [
    "docs = list(db.laureates.find(\n",
    "    {\"born\": {\"$gte\": \"1900\"}, \"prizes.year\": {\"$gte\": \"1954\"}, \"gender\":{\"$in\":[\"male\",\"female\"]}},\n",
    "    {\"born\": 1, \"prizes.year\": 1, \"_id\": 0},\n",
    "    sort=[(\"prizes.year\",1),(\"born\",-1)]))\n",
    "for doc in docs[:5]:\n",
    "    print(doc)"
   ]
  },
  {
   "cell_type": "code",
   "execution_count": null,
   "metadata": {},
   "outputs": [],
   "source": []
  }
 ],
 "metadata": {
  "kernelspec": {
   "display_name": "Python 3",
   "language": "python",
   "name": "python3"
  },
  "language_info": {
   "codemirror_mode": {
    "name": "ipython",
    "version": 3
   },
   "file_extension": ".py",
   "mimetype": "text/x-python",
   "name": "python",
   "nbconvert_exporter": "python",
   "pygments_lexer": "ipython3",
   "version": "3.7.3"
  }
 },
 "nbformat": 4,
 "nbformat_minor": 2
}
