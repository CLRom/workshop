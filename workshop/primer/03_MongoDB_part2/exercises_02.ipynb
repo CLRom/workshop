{
 "cells": [
  {
   "cell_type": "markdown",
   "metadata": {},
   "source": [
    "# Projection and Sorting: Exercises"
   ]
  },
  {
   "cell_type": "code",
   "execution_count": null,
   "metadata": {},
   "outputs": [],
   "source": [
    "from pymongo import MongoClient\n",
    "\n",
    "client = MongoClient()\n",
    "db = client.nobel"
   ]
  },
  {
   "cell_type": "markdown",
   "metadata": {},
   "source": [
    "## Shares of the 1903 Prize in Physics\n",
    "\n",
    "You want to examine the laureates of the 1903 prize in physics and how they split the prize. Here is a query without projection:\n",
    "\n",
    "```python\n",
    "db.laureates.find({\"prizes\": {\"$elemMatch\": {\"category\": \"physics\", \"year\": \"1903\"}}})\n",
    "```\n",
    "\n",
    "Which projection(s) will fetch the laureates' full names and prize share info?\n",
    "\n",
    "I encourage you to experiment with the console and re-familiarize yourself with the structure of laureate collection documents."
   ]
  },
  {
   "cell_type": "markdown",
   "metadata": {},
   "source": [
    "1. `[\"firstname\", \"surname\", \"prizes\"]`\n",
    "2. `[\"firstname\", \"surname\", \"prizes.share\"]`\n",
    "3. `{\"firstname\": 1, \"surname\": 1, \"prizes.share\": 1, \"_id\": 0}`\n",
    "4. All of the above"
   ]
  },
  {
   "cell_type": "markdown",
   "metadata": {},
   "source": [
    "## Rounding up the G.S. crew\n",
    "\n",
    "We can use the regular expression operator `$regex` to find laureates whose initials are G.S. Let's use projection and list comprehension to collect the full names of these laureates by concatenating their first (\"firstname\") and last (\"surname\") names.\n",
    "\n",
    "- Fill in the blanks to save a list `names` of full names (\"firstname\" plus \"surname\") of laureates with initials G.S. (ignoring middles names/initials). You'll need to both filter on names as well as project out the fields required to collect the full names.\n"
   ]
  },
  {
   "cell_type": "code",
   "execution_count": null,
   "metadata": {},
   "outputs": [],
   "source": [
    "# Collect a list of full names\n",
    "names = [\" \".join([doc[____], doc[____]])\n",
    "         for doc in db.laureates.find(\n",
    "             {____: {\"$regex\": \"^G\"},\n",
    "              ____: {\"$regex\": \"^S\"}},\n",
    "             [____, ____])]\n",
    "print(names)"
   ]
  },
  {
   "cell_type": "markdown",
   "metadata": {},
   "source": [
    "## Doing our share of data validation"
   ]
  },
  {
   "cell_type": "markdown",
   "metadata": {},
   "source": [
    "In our Nobel `prizes` collection, each document has an array of laureate subdocuments, each containing information such as the prize share for a laureate.\n",
    "\n",
    "Each \"laureates.share\" value appears to be the reciprocal of a laureate's fractional share of that prize, encoded as a string. For example, a laureate \"share\" of \"4\" means that the laureate received a 1/4 share of the prize.\n",
    "\n",
    "- Save a list of projected documents `docs`, projecting out only the `laureates.share` values for each prize.\n",
    "- Complete the `check` variable that will be used in the `assert` statement to confirm that, for all prizes, the fractional laureate shares sum to 1. For each laureate in a document's \"laureates\" array, you need to construct a `Fraction` using that laureate's `int`-cast \"share\" value.\n"
   ]
  },
  {
   "cell_type": "code",
   "execution_count": null,
   "metadata": {},
   "outputs": [],
   "source": [
    "from fractions import Fraction\n",
    "\n",
    "# Save documents, projecting out laureate shares\n",
    "docs = list(db.prizes.find({}, [____]))\n",
    "\n",
    "# Confirm that fractional laureate shares sum to 1\n",
    "check = all(\n",
    "  1 == sum(Fraction(1, int(laureate[____]))\n",
    "           for laureate in doc[____])\n",
    "  for doc in docs\n",
    ")\n",
    "assert check"
   ]
  },
  {
   "cell_type": "markdown",
   "metadata": {},
   "source": [
    "## What the sort?\n",
    "\n",
    "This block prints out the first five projections of a sorted query. What \"sort\" argument fills the blank?\n",
    "\n",
    "```python\n",
    "docs = list(db.laureates.find(\n",
    "    {\"born\": {\"$gte\": \"1900\"}, \"prizes.year\": {\"$gte\": \"1954\"}},\n",
    "    {\"born\": 1, \"prizes.year\": 1, \"_id\": 0},\n",
    "    sort=____))\n",
    "for doc in docs[:5]:\n",
    "    print(doc)\n",
    "```\n",
    "```\n",
    "{'born': '1916-08-25', 'prizes': [{'year': '1954'}]}\n",
    "{'born': '1915-06-15', 'prizes': [{'year': '1954'}]}\n",
    "{'born': '1901-02-28', 'prizes': [{'year': '1954'}, {'year': '1962'}]}\n",
    "{'born': '1913-07-12', 'prizes': [{'year': '1955'}]}\n",
    "{'born': '1911-01-26', 'prizes': [{'year': '1955'}]}\n",
    "```"
   ]
  },
  {
   "cell_type": "markdown",
   "metadata": {},
   "source": [
    "1. `[(\"prizes.year\", 1), (\"born\", -1)]`\n",
    "1. `{\"prizes.year\": 1, \"born\": -1}`\n",
    "1. `None`\n",
    "1. `[(\"prizes.year\", 1)]`"
   ]
  },
  {
   "cell_type": "markdown",
   "metadata": {},
   "source": [
    "## Sorting together: MongoDB + Python\n",
    "\n",
    "You will print out the names of all physics laureates, with one line printed for each award year, in chronological order. Each line will list laureates for that year in alphabetical order by surname (\"last\" name).\n",
    "\n",
    "I encourage you to print intermediate results and understand the nested structure of prize documents."
   ]
  },
  {
   "cell_type": "markdown",
   "metadata": {},
   "source": [
    "- Construct a sort specification `sort_spec` to fetch physics prizes by ascending year."
   ]
  },
  {
   "cell_type": "code",
   "execution_count": null,
   "metadata": {},
   "outputs": [],
   "source": [
    "from operator import itemgetter\n",
    "\n",
    "# Sort by ascending year\n",
    "sort_spec = [(____, ____)]"
   ]
  },
  {
   "cell_type": "markdown",
   "metadata": {},
   "source": [
    "- Use `<collection>.find` to construct a `cursor` that fetches prizes with a \"category\" of \"physics\", sorts by ascending year, and projects the year and laureate names (`laureates.firstname` and `laureates.surname`). Understand the printed results.\n",
    "\n"
   ]
  },
  {
   "cell_type": "code",
   "execution_count": null,
   "metadata": {},
   "outputs": [],
   "source": [
    "# Construct a cursor over physics prizes\n",
    "cursor = db.prizes.____({____: ____}, [____, \"laureates.firstname\", \"laureates.surname\"], sort=sort_spec)\n",
    "docs = list(cursor)\n",
    "for doc in sorted(docs, key=itemgetter(\"year\")):\n",
    "    print(\"{year}: {first_laureate_surname}\".format(\n",
    "        year=doc[\"year\"], first_laureate_surname=doc[\"laureates\"][0][\"surname\"]))\n",
    "cursor.rewind() # Rewind cursor to reuse in the next step"
   ]
  },
  {
   "cell_type": "markdown",
   "metadata": {},
   "source": [
    "- Complete the definition of the function `names` so that, given a prize document, it returns a list of formatted names, sorted by ascending \"surname\", for each of the \"laureates\" in that prize document.\n",
    "\n"
   ]
  },
  {
   "cell_type": "code",
   "execution_count": null,
   "metadata": {},
   "outputs": [],
   "source": [
    "# Define a function names() to return a list of formatted names\n",
    "def names(doc):\n",
    "    formatted_names = [\"{firstname} {surname}\".format(**laureate)\n",
    "          for laureate in sorted(doc[____], key=itemgetter(____))]\n",
    "    return formatted_names\n",
    "\n",
    "lines = [\"{year}: {names}\".format(year=doc[\"year\"], names=\" and \".join(names(doc)))\n",
    "         for doc in cursor]\n",
    "for line in lines: print(line)"
   ]
  },
  {
   "cell_type": "markdown",
   "metadata": {},
   "source": [
    "## Gap years"
   ]
  },
  {
   "cell_type": "markdown",
   "metadata": {},
   "source": [
    "The prize in economics was not added until 1969. There have also been many years for which prizes in one or more of the original categories were not awarded.\n",
    "\n",
    "Sorting first by reverse chronological order and second by alphabetical order of category, collect and format prize documents to produce one formatted entry per year listing categories missing for that year.\n",
    "\n"
   ]
  },
  {
   "cell_type": "markdown",
   "metadata": {},
   "source": [
    "- Construct a set `original_categories` of prize categories awarded in 1901."
   ]
  },
  {
   "cell_type": "code",
   "execution_count": null,
   "metadata": {},
   "outputs": [],
   "source": [
    "import itertools\n",
    "from operator import itemgetter\n",
    "\n",
    "# Save the set of prize categories awarded in 1901\n",
    "original_categories = set(db.prizes.____(\"category\", {____: \"1901\"}))"
   ]
  },
  {
   "cell_type": "markdown",
   "metadata": {},
   "source": [
    "- Use `<collection>.find` to construct a cursor `cursor` that yields prize documents only for categories in the list of original categories, sorted first by decreasing year and second by increasing category.\n",
    "\n"
   ]
  },
  {
   "cell_type": "code",
   "execution_count": null,
   "metadata": {},
   "outputs": [],
   "source": [
    "# Construct a cursor over original-category prizes\n",
    "cursor = db.prizes.____({\"category\": {____: list(original_categories)}}, [\"category\", \"year\"],\n",
    "                        sort=[(____, ____), (____, ____)])"
   ]
  },
  {
   "cell_type": "markdown",
   "metadata": {},
   "source": [
    "- Collect a list `not_awarded` of entries to be printed, one per line, that display a year and the categories missing for that year. You will collect \"category\" values for each year and set-subtract them from the original categories.\n",
    "\n"
   ]
  },
  {
   "cell_type": "code",
   "execution_count": null,
   "metadata": {},
   "outputs": [],
   "source": [
    "# Collect entries for missing prize categories\n",
    "not_awarded = []\n",
    "for key, group in itertools.groupby(cursor, key=itemgetter(\"year\")):\n",
    "    year_categories = set(prize[____] for prize in group)\n",
    "    missing = \", \".join(sorted(____ - ____))\n",
    "    if missing: not_awarded.append(\"{}: {}\".format(key, missing))\n",
    "\n",
    "for line in not_awarded: print(line)"
   ]
  }
 ],
 "metadata": {
  "kernelspec": {
   "display_name": "Python 3",
   "language": "python",
   "name": "python3"
  },
  "language_info": {
   "codemirror_mode": {
    "name": "ipython",
    "version": 3
   },
   "file_extension": ".py",
   "mimetype": "text/x-python",
   "name": "python",
   "nbconvert_exporter": "python",
   "pygments_lexer": "ipython3",
   "version": "3.7.3"
  }
 },
 "nbformat": 4,
 "nbformat_minor": 2
}
