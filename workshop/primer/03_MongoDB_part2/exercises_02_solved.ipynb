{
 "cells": [
  {
   "cell_type": "markdown",
   "metadata": {},
   "source": [
    "# Projection and Sorting: Exercises"
   ]
  },
  {
   "cell_type": "code",
   "execution_count": null,
   "metadata": {},
   "outputs": [],
   "source": [
    "from pymongo import MongoClient\n",
    "\n",
    "client = MongoClient()\n",
    "db = client.nobel"
   ]
  },
  {
   "cell_type": "markdown",
   "metadata": {},
   "source": [
    "## Rounding up the G.S. crew\n",
    "\n",
    "We can use the regular expression operator `$regex` to find laureates whose initials are G.S. Let's use projection and list comprehension to collect the full names of these laureates by concatenating their first (\"firstname\") and last (\"surname\") names.\n",
    "\n",
    "- Fill in the blanks to save a list `names` of full names (\"firstname\" plus \"surname\") of laureates with initials G.S. (ignoring middles names/initials). You'll need to both filter on names as well as project out the fields required to collect the full names.\n"
   ]
  },
  {
   "cell_type": "code",
   "execution_count": null,
   "metadata": {},
   "outputs": [],
   "source": [
    "# Collect a list of full names\n",
    "names = [\" \".join([doc[\"firstname\"], doc[\"surname\"]])\n",
    "         for doc in db.laureates.find(\n",
    "             {\"firstname\": {\"$regex\": \"^G\"},\n",
    "              \"surname\": {\"$regex\": \"^S\"}},\n",
    "             {\"firstname\": 1, \"surname\": 1})]\n",
    "print(names)"
   ]
  },
  {
   "cell_type": "markdown",
   "metadata": {},
   "source": [
    "## Sorting together: MongoDB + Python\n",
    "\n",
    "You will print out the names of all physics laureates, with one line printed for each award year, in chronological order. Each line will list laureates for that year in alphabetical order by surname (\"last\" name).\n",
    "\n",
    "I encourage you to print intermediate results and understand the nested structure of prize documents."
   ]
  },
  {
   "cell_type": "markdown",
   "metadata": {},
   "source": [
    "- Construct a sort specification `sort_spec` to fetch physics prizes by ascending year."
   ]
  },
  {
   "cell_type": "code",
   "execution_count": null,
   "metadata": {},
   "outputs": [],
   "source": [
    "from operator import itemgetter\n",
    "\n",
    "# Sort by ascending year\n",
    "sort_spec = [(\"year\", 1)]"
   ]
  },
  {
   "cell_type": "markdown",
   "metadata": {},
   "source": [
    "- Use `<collection>.find` to construct a `cursor` that fetches prizes with a \"category\" of \"physics\", sorts by ascending year, and projects the year and first laureate full name (`laureates.firstname` and `laureates.surname`). *You should encounter an error at year 1916*."
   ]
  },
  {
   "cell_type": "code",
   "execution_count": null,
   "metadata": {},
   "outputs": [],
   "source": [
    "# Construct a cursor over physics prizes\n",
    "cursor = db.prizes.find({\"category\": \"physics\"}, \n",
    "                        {\"year\": 1, \"laureates.firstname\": 1, \"laureates.surname\": 1},\n",
    "                        sort=sort_spec)\n",
    "\n",
    "for doc in cursor:\n",
    "    print(\"{year}: {first_laureate_firstname} {first_laureate_surname}\".format(\n",
    "        year=doc[\"year\"],\n",
    "        first_laureate_firstname=doc[\"laureates\"][0][\"firstname\"],\n",
    "        first_laureate_surname=doc[\"laureates\"][0][\"surname\"]))\n",
    "cursor.rewind() # Rewind cursor to reuse in the next step"
   ]
  },
  {
   "cell_type": "markdown",
   "metadata": {},
   "source": [
    "- The error is caused by the fact that the Nobel Prize in physics was not awarded in 1916 due to World War I. Supplement the cursor's filter to avoid the error:"
   ]
  },
  {
   "cell_type": "code",
   "execution_count": null,
   "metadata": {},
   "outputs": [],
   "source": [
    "# Construct a fixed cursor over physics prizes\n",
    "cursor = db.prizes.find({\"category\": \"physics\", \"laureates\": {\"$exists\":True}}, \n",
    "                        {\"year\": 1, \"laureates.firstname\": 1, \"laureates.surname\": 1},\n",
    "                        sort=sort_spec)\n",
    "\n",
    "for doc in cursor:\n",
    "    print(\"{year}: {first_laureate_firstname} {first_laureate_surname}\".format(\n",
    "        year=doc[\"year\"],\n",
    "        first_laureate_firstname=doc[\"laureates\"][0][\"firstname\"],\n",
    "        first_laureate_surname=doc[\"laureates\"][0][\"surname\"]))\n",
    "cursor.rewind() # Rewind cursor to reuse in the next step"
   ]
  },
  {
   "cell_type": "markdown",
   "metadata": {},
   "source": [
    "- Complete the definition of the function `names` so that, given a prize document, it returns a list of formatted names, sorted by ascending \"surname\", for each of the \"laureates\" in that prize document.\n",
    "\n"
   ]
  },
  {
   "cell_type": "code",
   "execution_count": null,
   "metadata": {},
   "outputs": [],
   "source": [
    "# Define a function names() to return a list of formatted names\n",
    "def names(doc):\n",
    "    formatted_names = [\"{firstname} {surname}\".format(**laureate)\n",
    "          for laureate in sorted(doc[\"laureates\"], key=itemgetter(\"surname\"))]\n",
    "    return formatted_names\n",
    "\n",
    "lines = [\"{year}: {names}\".format(year=doc[\"year\"], names=\" and \".join(names(doc)))\n",
    "         for doc in cursor]\n",
    "for line in lines: print(line)"
   ]
  },
  {
   "cell_type": "markdown",
   "metadata": {},
   "source": [
    "## Gap years"
   ]
  },
  {
   "cell_type": "markdown",
   "metadata": {},
   "source": [
    "As we saw above, there have been years for which prizes in one or more of the original categories were not awarded.\n",
    "\n",
    "Sorting first by reverse chronological order and second by alphabetical order of category, collect and format prize documents to produce one formatted entry per year listing categories missing for that year."
   ]
  },
  {
   "cell_type": "markdown",
   "metadata": {},
   "source": [
    "- Construct a set `original_categories` of prize categories awarded in 1901."
   ]
  },
  {
   "cell_type": "code",
   "execution_count": null,
   "metadata": {},
   "outputs": [],
   "source": [
    "import itertools\n",
    "from operator import itemgetter\n",
    "\n",
    "# Save the set of prize categories awarded in 1901\n",
    "original_categories = set(db.prizes.distinct(\"category\", {\"year\": \"1901\"}))\n",
    "print(original_categories)"
   ]
  },
  {
   "cell_type": "markdown",
   "metadata": {},
   "source": [
    "- Use `<collection>.find` to construct a cursor that yields prize documents only for categories in the list of original categories which contain the `laureates` key and thus were awarded, sorted first by decreasing year and second by increasing category.\n",
    "\n"
   ]
  },
  {
   "cell_type": "code",
   "execution_count": null,
   "metadata": {},
   "outputs": [],
   "source": [
    "# Construct a cursor over original-category prizes\n",
    "cursor = db.prizes.find({\"category\": {\"$in\": list(original_categories)}, \"laureates\": {\"$exists\":True}},\n",
    "                        {\"category\": 1, \"year\": 1},\n",
    "                        sort=[(\"year\", -1), (\"category\", 1)])"
   ]
  },
  {
   "cell_type": "markdown",
   "metadata": {},
   "source": [
    "- Collect a list `not_awarded` of entries to be printed, one per line, that displays a year and the categories missing for that year. You will collect \"category\" values for each year and set-subtract them from the original categories.\n",
    "\n"
   ]
  },
  {
   "cell_type": "code",
   "execution_count": null,
   "metadata": {},
   "outputs": [],
   "source": [
    "# Collect entries for missing prize categories\n",
    "not_awarded = []\n",
    "for key, group in itertools.groupby(cursor, key=itemgetter(\"year\")):\n",
    "    year_categories = set(prize[\"category\"] for prize in group)\n",
    "    missing = \", \".join(sorted(original_categories - year_categories))\n",
    "    if missing: not_awarded.append(\"{}: {}\".format(key, missing))\n",
    "\n",
    "for line in not_awarded: print(line)"
   ]
  },
  {
   "cell_type": "code",
   "execution_count": null,
   "metadata": {},
   "outputs": [],
   "source": []
  }
 ],
 "metadata": {
  "kernelspec": {
   "display_name": "Python 3",
   "language": "python",
   "name": "python3"
  },
  "language_info": {
   "codemirror_mode": {
    "name": "ipython",
    "version": 3
   },
   "file_extension": ".py",
   "mimetype": "text/x-python",
   "name": "python",
   "nbconvert_exporter": "python",
   "pygments_lexer": "ipython3",
   "version": "3.7.3"
  }
 },
 "nbformat": 4,
 "nbformat_minor": 2
}
