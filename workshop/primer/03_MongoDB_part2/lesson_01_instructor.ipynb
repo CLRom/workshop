{
 "cells": [
  {
   "cell_type": "markdown",
   "metadata": {},
   "source": [
    "# Working with Distinct Values, $elemMatch, and Regex"
   ]
  },
  {
   "cell_type": "markdown",
   "metadata": {},
   "source": [
    "## An exceptional laureate"
   ]
  },
  {
   "cell_type": "code",
   "execution_count": null,
   "metadata": {},
   "outputs": [],
   "source": [
    "from pymongo import MongoClient\n",
    "\n",
    "client = MongoClient()\n",
    "db = client.nobel"
   ]
  },
  {
   "cell_type": "code",
   "execution_count": null,
   "metadata": {},
   "outputs": [],
   "source": []
  },
  {
   "cell_type": "markdown",
   "metadata": {},
   "source": [
    "## Using .distinct()"
   ]
  },
  {
   "cell_type": "code",
   "execution_count": null,
   "metadata": {},
   "outputs": [],
   "source": []
  },
  {
   "cell_type": "markdown",
   "metadata": {},
   "source": [
    "## All prize categories vs those with multi-winners"
   ]
  },
  {
   "cell_type": "code",
   "execution_count": null,
   "metadata": {},
   "outputs": [],
   "source": []
  },
  {
   "cell_type": "code",
   "execution_count": null,
   "metadata": {},
   "outputs": [],
   "source": []
  },
  {
   "cell_type": "markdown",
   "metadata": {
    "scrolled": false
   },
   "source": [
    "## Distinct example: Born here, went there"
   ]
  },
  {
   "cell_type": "code",
   "execution_count": null,
   "metadata": {},
   "outputs": [],
   "source": []
  },
  {
   "cell_type": "markdown",
   "metadata": {},
   "source": [
    "## Enter $elemMatch"
   ]
  },
  {
   "cell_type": "code",
   "execution_count": null,
   "metadata": {},
   "outputs": [],
   "source": [
    "db.laureates.count_documents({\n",
    "    \"prizes\": {\n",
    "        \"category\": \"physics\",\n",
    "        \"share\": \"1\"\n",
    "    }\n",
    "})"
   ]
  },
  {
   "cell_type": "code",
   "execution_count": null,
   "metadata": {},
   "outputs": [],
   "source": [
    "db.laureates.count_documents({\n",
    "    \"prizes.category\": \"physics\",\n",
    "    \"prizes.share\": \"1\"\n",
    "})"
   ]
  },
  {
   "cell_type": "code",
   "execution_count": null,
   "metadata": {},
   "outputs": [],
   "source": [
    "db.laureates.count_documents({\n",
    "    \"prizes\": {\n",
    "        \"$elemMatch\": {\n",
    "            \"category\": \"physics\",\n",
    "            \"share\": \"1\"\n",
    "        }\n",
    "    }\n",
    "})"
   ]
  },
  {
   "cell_type": "code",
   "execution_count": null,
   "metadata": {
    "scrolled": false
   },
   "outputs": [],
   "source": []
  },
  {
   "cell_type": "markdown",
   "metadata": {},
   "source": [
    "## $elemMatch example: Sharing in physics after World War II\n",
    "\n",
    "Unshared:\n",
    "\n",
    "    {\"share\": \"1\"}\n",
    "\n",
    "After World War II:\n",
    "\n",
    "    {\"year\": {\"$gte\": \"1945\"}}"
   ]
  },
  {
   "cell_type": "code",
   "execution_count": null,
   "metadata": {},
   "outputs": [],
   "source": [
    "# Save a filter for laureates with unshared prizes\n",
    "unshared = {\n",
    "    \"prizes\": {\"$elemMatch\": {\n",
    "        \"category\": \"physics\",\n",
    "        \"share\": \"1\",\n",
    "        \"year\": {\"$gte\": \"1945\"},\n",
    "    }}}\n",
    "\n",
    "# Save a filter for laureates with shared prizes\n",
    "shared = \n",
    "\n",
    "ratio = db.laureates.count_documents(unshared) / db.laureates.count_documents(shared)\n",
    "print(ratio)"
   ]
  },
  {
   "cell_type": "markdown",
   "metadata": {},
   "source": [
    "## Finding a substring with $regex"
   ]
  },
  {
   "cell_type": "code",
   "execution_count": null,
   "metadata": {},
   "outputs": [],
   "source": [
    "db.laureates.distinct(\n",
    "    \"bornCountry\",\n",
    "    {\"bornCountry\": {\"$regex\": \"Poland\"}})"
   ]
  },
  {
   "cell_type": "markdown",
   "metadata": {},
   "source": [
    "## Beginning and ending"
   ]
  },
  {
   "cell_type": "code",
   "execution_count": null,
   "metadata": {},
   "outputs": [],
   "source": [
    "db.laureates.distinct(\n",
    "    \"bornCountry\", \n",
    "     {\"bornCountry\": {\"$regex\":\"\"}})"
   ]
  },
  {
   "cell_type": "code",
   "execution_count": null,
   "metadata": {},
   "outputs": [],
   "source": [
    "db.laureates.distinct(\n",
    "    \"bornCountry\", \n",
    "     {\"bornCountry\": {\"$regex\":\"\"}})"
   ]
  },
  {
   "cell_type": "code",
   "execution_count": null,
   "metadata": {},
   "outputs": [],
   "source": [
    "db.laureates.distinct(\n",
    "    \"bornCountry\", \n",
    "     {\"bornCountry\": {\"$regex\":\"\"}})"
   ]
  },
  {
   "cell_type": "markdown",
   "metadata": {},
   "source": [
    "## Regex example: Glenn, George, and others in the G.S. crew"
   ]
  },
  {
   "cell_type": "code",
   "execution_count": null,
   "metadata": {},
   "outputs": [],
   "source": []
  }
 ],
 "metadata": {
  "kernelspec": {
   "display_name": "Python 3",
   "language": "python",
   "name": "python3"
  },
  "language_info": {
   "codemirror_mode": {
    "name": "ipython",
    "version": 3
   },
   "file_extension": ".py",
   "mimetype": "text/x-python",
   "name": "python",
   "nbconvert_exporter": "python",
   "pygments_lexer": "ipython3",
   "version": "3.7.3"
  }
 },
 "nbformat": 4,
 "nbformat_minor": 2
}
