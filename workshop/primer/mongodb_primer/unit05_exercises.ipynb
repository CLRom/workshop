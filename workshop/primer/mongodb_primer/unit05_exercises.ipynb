{
 "cells": [
  {
   "cell_type": "markdown",
   "metadata": {},
   "source": [
    "# Distinct Values Given Filters: Exercises"
   ]
  },
  {
   "cell_type": "code",
   "execution_count": null,
   "metadata": {},
   "outputs": [],
   "source": [
    "from pymongo import MongoClient\n",
    "\n",
    "client = MongoClient()\n",
    "db = client.nobel"
   ]
  },
  {
   "cell_type": "markdown",
   "metadata": {},
   "source": [
    "## Born here, went there\n",
    "\n",
    "In which countries have USA-born laureates had affiliations for their prizes?\n",
    "\n",
    "1. Australia, Denmark, United Kingdom, USA\n",
    "2. Australia, France, Sweden, United Kingdom, USA\n",
    "3. Australia, Canada, Israel, United Kingdom, USA"
   ]
  },
  {
   "cell_type": "markdown",
   "metadata": {},
   "source": [
    "## Triple plays (mostly) all around\n",
    "\n",
    "Prizes can be shared, even by more than two laureates. In fact, all prize categories but one – literature – have had prizes shared by three or more laureates.\n",
    "\n",
    "- Save a filter document `criteria` that, when passed to `db.prizes.distinct`, returns all prize categories shared by three or more laureates. That is, `\"laureates.2\"` must exist for such documents.\n",
    "- Save these prize categories as a Python `set` called `triple_play_categories`.\n",
    "- Confirm via an assertion that \"literature\" is the only prize category with no prizes shared by three or more laureates."
   ]
  },
  {
   "cell_type": "code",
   "execution_count": null,
   "metadata": {},
   "outputs": [],
   "source": [
    "# Save a filter for prize documents with three or more laureates\n",
    "criteria = {____: {____: ____}}\n",
    "\n",
    "# Save the set of distinct prize categories in documents satisfying the criteria\n",
    "triple_play_categories = ____(db.prizes.distinct(____, criteria))\n",
    "\n",
    "# Confirm literature as the only category not satisfying the criteria.\n",
    "assert set(db.prizes.distinct(____)) - triple_play_categories == {____}"
   ]
  }
 ],
 "metadata": {
  "kernelspec": {
   "display_name": "conda-env-mp-py",
   "language": "python",
   "name": "conda-env-mp-py"
  },
  "language_info": {
   "codemirror_mode": {
    "name": "ipython",
    "version": 3
   },
   "file_extension": ".py",
   "mimetype": "text/x-python",
   "name": "python",
   "nbconvert_exporter": "python",
   "pygments_lexer": "ipython3",
   "version": "3.7.3"
  }
 },
 "nbformat": 4,
 "nbformat_minor": 2
}
