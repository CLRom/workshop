{
 "cells": [
  {
   "cell_type": "markdown",
   "metadata": {},
   "source": [
    "# Working with Distinct Values and Sets: Exercises"
   ]
  },
  {
   "cell_type": "code",
   "execution_count": null,
   "metadata": {},
   "outputs": [],
   "source": [
    "from pymongo import MongoClient\n",
    "\n",
    "client = MongoClient()\n",
    "db = client.nobel"
   ]
  },
  {
   "cell_type": "markdown",
   "metadata": {},
   "source": [
    "## Categorical data validation"
   ]
  },
  {
   "cell_type": "markdown",
   "metadata": {},
   "source": [
    "What expression asserts that the distinct Nobel Prize categories catalogued by the \"prizes\" collection are the same as those catalogued by the \"laureates\"?\n",
    "\n",
    "Remember to explore example documents via e.g. `db.prizes.find_one()` and `db.laureates.find_one()`."
   ]
  },
  {
   "cell_type": "markdown",
   "metadata": {},
   "source": [
    "1. `assert db.prizes.distinct(\"category\") == db.laureates.distinct(\"prizes.category\")`\n",
    "2. `assert db.prizes.distinct(\"laureates.category\") == db.laureates.distinct(\"prizes.category\")`\n",
    "3. `assert set(db.prizes.distinct(\"category\")) == set(db.laureates.distinct(\"prizes.category\"))`"
   ]
  },
  {
   "cell_type": "markdown",
   "metadata": {},
   "source": [
    "## Never from there, but sometimes there at last"
   ]
  },
  {
   "cell_type": "markdown",
   "metadata": {},
   "source": [
    "There are some recorded countries of death (`\"diedCountry\"`) that do not appear as a country of birth (`\"bornCountry\"`) for laureates. One such country is \"East Germany\".\n",
    "\n",
    "- Return a set of all such countries as `countries`."
   ]
  },
  {
   "cell_type": "code",
   "execution_count": null,
   "metadata": {},
   "outputs": [],
   "source": [
    "# Countries recorded as countries of death but not as countries of birth\n",
    "countries = set(____) - set(____)\n",
    "print(countries)"
   ]
  },
  {
   "cell_type": "markdown",
   "metadata": {},
   "source": [
    "## Countries of affiliation"
   ]
  },
  {
   "cell_type": "markdown",
   "metadata": {},
   "source": [
    "We saw in the last exercise that countries can be associated with a laureate as their country of birth and as their country of death. For each prize a laureate received, they may also have been affiliated with an institution at the time, located in a country.\n",
    "\n",
    "- Determine the number of distinct countries recorded as part of an affiliation for laureates' prizes. Save this as `count`."
   ]
  },
  {
   "cell_type": "code",
   "execution_count": null,
   "metadata": {},
   "outputs": [],
   "source": [
    "# The number of distinct countries of laureate affiliation for prizes\n",
    "count = ____(db.laureates.____(____))\n",
    "print(count)"
   ]
  }
 ],
 "metadata": {
  "kernelspec": {
   "display_name": "conda-env-mp-py",
   "language": "python",
   "name": "conda-env-mp-py"
  },
  "language_info": {
   "codemirror_mode": {
    "name": "ipython",
    "version": 3
   },
   "file_extension": ".py",
   "mimetype": "text/x-python",
   "name": "python",
   "nbconvert_exporter": "python",
   "pygments_lexer": "ipython3",
   "version": "3.7.3"
  }
 },
 "nbformat": 4,
 "nbformat_minor": 2
}
