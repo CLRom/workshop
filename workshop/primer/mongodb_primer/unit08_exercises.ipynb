{
 "cells": [
  {
   "cell_type": "markdown",
   "metadata": {},
   "source": [
    "# Get Only What You Need, and Fast: Exercises"
   ]
  },
  {
   "cell_type": "code",
   "execution_count": null,
   "metadata": {},
   "outputs": [],
   "source": [
    "from pymongo import MongoClient\n",
    "\n",
    "client = MongoClient()\n",
    "db = client.nobel"
   ]
  },
  {
   "cell_type": "markdown",
   "metadata": {},
   "source": [
    "## Shares of the 1903 Prize in Physics\n",
    "\n",
    "You want to examine the laureates of the 1903 prize in physics and how they split the prize. Here is a query without projection:\n",
    "\n",
    "```python\n",
    "db.laureates.find({\"prizes\": {\"$elemMatch\": {\"category\": \"physics\", \"year\": \"1903\"}}})\n",
    "```\n",
    "\n",
    "Which projection(s) will fetch the laureates' full names and prize share info?\n",
    "\n",
    "I encourage you to experiment with the console and re-familiarize yourself with the structure of laureate collection documents."
   ]
  },
  {
   "cell_type": "markdown",
   "metadata": {},
   "source": [
    "1. `[\"firstname\", \"surname\", \"prizes\"]`\n",
    "2. `[\"firstname\", \"surname\", \"prizes.share\"]`\n",
    "3. `{\"firstname\": 1, \"surname\": 1, \"prizes.share\": 1, \"_id\": 0}`\n",
    "4. All of the above"
   ]
  },
  {
   "cell_type": "markdown",
   "metadata": {},
   "source": [
    "## Rounding up the G.S. crew\n",
    "\n",
    "We can use the regular expression operator `$regex` to find laureates whose initials are G.S. Let's use projection and list comprehension to collect the full names of these laureates by concatenating their first (\"firstname\") and last (\"surname\") names.\n",
    "\n",
    "- Fill in the blanks to save a list `names` of full names (\"firstname\" plus \"surname\") of laureates with initials G.S. (ignoring middles names/initials). You'll need to both filter on names as well as project out the fields required to collect the full names.\n"
   ]
  },
  {
   "cell_type": "code",
   "execution_count": null,
   "metadata": {},
   "outputs": [],
   "source": [
    "# Collect a list of full names\n",
    "names = [\" \".join([doc[____], doc[____]])\n",
    "         for doc in db.laureates.find(\n",
    "             {____: {\"$regex\": \"^G\"},\n",
    "              ____: {\"$regex\": \"^S\"}},\n",
    "             [____, ____])]\n",
    "print(names)"
   ]
  },
  {
   "cell_type": "markdown",
   "metadata": {},
   "source": [
    "## Doing our share of data validation"
   ]
  },
  {
   "cell_type": "markdown",
   "metadata": {},
   "source": [
    "In our Nobel `prizes` collection, each document has an array of laureate subdocuments, each containing information such as the prize share for a laureate.\n",
    "\n",
    "Each \"laureates.share\" value appears to be the reciprocal of a laureate's fractional share of that prize, encoded as a string. For example, a laureate \"share\" of \"4\" means that the laureate received a 1/4 share of the prize.\n",
    "\n",
    "- Save a list of projected documents `docs`, projecting out only the `laureates.share` values for each prize.\n",
    "- Complete the `check` variable that will be used in the `assert` statement to confirm that, for all prizes, the fractional laureate shares sum to 1. For each laureate in a document's \"laureates\" array, you need to construct a `Fraction` using that laureate's `int`-cast \"share\" value.\n"
   ]
  },
  {
   "cell_type": "code",
   "execution_count": null,
   "metadata": {},
   "outputs": [],
   "source": [
    "from fractions import Fraction\n",
    "\n",
    "# Save documents, projecting out laureate shares\n",
    "docs = list(db.prizes.find({}, [____]))\n",
    "\n",
    "# Confirm that fractional laureate shares sum to 1\n",
    "check = all(\n",
    "  1 == sum(Fraction(1, int(laureate[____]))\n",
    "           for laureate in doc[____])\n",
    "  for doc in docs\n",
    ")\n",
    "assert check"
   ]
  }
 ],
 "metadata": {
  "kernelspec": {
   "display_name": "conda-env-mp-py",
   "language": "python",
   "name": "conda-env-mp-py"
  },
  "language_info": {
   "codemirror_mode": {
    "name": "ipython",
    "version": 3
   },
   "file_extension": ".py",
   "mimetype": "text/x-python",
   "name": "python",
   "nbconvert_exporter": "python",
   "pygments_lexer": "ipython3",
   "version": "3.7.3"
  }
 },
 "nbformat": 4,
 "nbformat_minor": 2
}
