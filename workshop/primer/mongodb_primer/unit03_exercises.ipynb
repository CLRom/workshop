{
 "cells": [
  {
   "cell_type": "markdown",
   "metadata": {},
   "source": [
    "# Arrays, Sub-documents, and Dot Notation: Exercises"
   ]
  },
  {
   "cell_type": "markdown",
   "metadata": {},
   "source": [
    "## Choosing tools"
   ]
  },
  {
   "cell_type": "markdown",
   "metadata": {},
   "source": [
    "We saw from his laureate document that Walter Kohn's country of birth was \"Austria\" and that his prize affiliation country was \"USA\".\n",
    "\n",
    "If we want to count the number of laureates born in Austria with a prize affiliation country that is **not** also Austria, what MongoDB concepts/tools should we use?"
   ]
  },
  {
   "cell_type": "markdown",
   "metadata": {},
   "source": [
    "1. dot notation and the `$ne` operator\n",
    "1. bracket notation and the `$exists` operator\n",
    "1. dot notation and the `$exists` operator\n",
    "1. dot notation and the `$in` operator"
   ]
  },
  {
   "cell_type": "markdown",
   "metadata": {},
   "source": [
    "## Starting our ascent"
   ]
  },
  {
   "cell_type": "markdown",
   "metadata": {},
   "source": [
    "Throughout this lesson, we will gradually build up a set of tools to examine the proportion of Nobel prizes that were awarded to immigrants."
   ]
  },
  {
   "cell_type": "markdown",
   "metadata": {},
   "source": [
    "We saw from his laureate document that Walter Kohn's country of birth was \"Austria\" and that his prize affiliation country was \"USA\". Count the number of laureates born in Austria with a prize affiliation country that is **not** also Austria."
   ]
  },
  {
   "cell_type": "markdown",
   "metadata": {},
   "source": [
    "- Save a filter `criteria` for laureates born in (`bornCountry`) \"Austria\" with a non-Austria `prizes.affiliations.country`.\n",
    "- Save your count of laureates as `count`."
   ]
  },
  {
   "cell_type": "code",
   "execution_count": null,
   "metadata": {},
   "outputs": [],
   "source": [
    "from pymongo import MongoClient\n",
    "\n",
    "client = MongoClient()\n",
    "db = client.nobel"
   ]
  },
  {
   "cell_type": "code",
   "execution_count": null,
   "metadata": {},
   "outputs": [],
   "source": [
    "# Filter for laureates born in Austria with non-Austria prize affiliation\n",
    "criteria = {____: ____, ____: {\"$ne\": ____}}\n",
    "\n",
    "# Count the number of such laureates\n",
    "count = db.laureates.count_documents(criteria)\n",
    "print(count)"
   ]
  },
  {
   "cell_type": "markdown",
   "metadata": {},
   "source": [
    "## Our 'born' approximation, and a special laureate"
   ]
  },
  {
   "cell_type": "markdown",
   "metadata": {},
   "source": [
    "We saw earlier that the laureates collection encodes uncertainty about birthdate in a special way. When a birthdate is unknown, the `\"born\"` field has the value `\"0000-00-00\"`. Thus,\n",
    "```python\n",
    "db.laureates.count_documents({\"born\": \"0000-00-00\"})\n",
    "```\n",
    "counts the number of such laureates. Or does it?\n",
    "\n",
    "We also saw that the total number of laureate prizes is more than the number of laureates -- some were awarded more than one prize. There is one in particular with a whopping three prizes, and this laureate holds key information to aid our quest to determine the proportion of prizes awarded to immigrants.\n"
   ]
  },
  {
   "cell_type": "markdown",
   "metadata": {},
   "source": [
    "- Use a filter document (`criteria`) to confirm that every document in the laureates collection has a `\"born\"` field.\n"
   ]
  },
  {
   "cell_type": "code",
   "execution_count": null,
   "metadata": {},
   "outputs": [],
   "source": [
    "# Filter for documents without a \"born\" field\n",
    "criteria = {____: {____: ____}}\n",
    "assert db.laureates.count_documents(criteria) == 0"
   ]
  },
  {
   "cell_type": "markdown",
   "metadata": {},
   "source": [
    "- Use a filter document (`criteria`) to fetch a laureates document with at least three elements in its \"prizes\" array.\n"
   ]
  },
  {
   "cell_type": "code",
   "execution_count": null,
   "metadata": {},
   "outputs": [],
   "source": [
    "# Filter for laureates with at least three prizes\n",
    "criteria = {____: {____: ____}}\n",
    "print(db.laureates.find_one(criteria))"
   ]
  }
 ],
 "metadata": {
  "kernelspec": {
   "display_name": "conda-env-mp-py",
   "language": "python",
   "name": "conda-env-mp-py"
  },
  "language_info": {
   "codemirror_mode": {
    "name": "ipython",
    "version": 3
   },
   "file_extension": ".py",
   "mimetype": "text/x-python",
   "name": "python",
   "nbconvert_exporter": "python",
   "pygments_lexer": "ipython3",
   "version": "3.7.3"
  }
 },
 "nbformat": 4,
 "nbformat_minor": 2
}
