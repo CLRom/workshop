{
 "cells": [
  {
   "cell_type": "markdown",
   "metadata": {},
   "source": [
    "# Intro to MongoDB and the Nobel Prize Dataset - Exercise"
   ]
  },
  {
   "cell_type": "markdown",
   "metadata": {},
   "source": [
    "## 1. Instantiate `MongoClient` and connect to the to the nobel database."
   ]
  },
  {
   "cell_type": "code",
   "execution_count": 2,
   "metadata": {},
   "outputs": [],
   "source": [
    "from pymongo import MongoClient\n",
    "client = MongoClient()"
   ]
  },
  {
   "cell_type": "code",
   "execution_count": 3,
   "metadata": {
    "tags": []
   },
   "outputs": [
    {
     "output_type": "stream",
     "name": "stdout",
     "text": "Database(MongoClient(host=['localhost:27017'], document_class=dict, tz_aware=False, connect=True), 'nobel')\n"
    }
   ],
   "source": [
    "db = client.nobel\n",
    "print(db)"
   ]
  },
  {
   "cell_type": "markdown",
   "metadata": {},
   "source": [
    "<br>\n",
    "\n",
    "## 2. Obtain a document from the `laureates` collection and display its contents."
   ]
  },
  {
   "cell_type": "code",
   "execution_count": 4,
   "metadata": {},
   "outputs": [],
   "source": [
    "doc = db.laureates.find_one({})"
   ]
  },
  {
   "cell_type": "code",
   "execution_count": 5,
   "metadata": {},
   "outputs": [
    {
     "output_type": "execute_result",
     "data": {
      "text/plain": "{'_id': ObjectId('5f1746222466f220f494d292'),\n 'id': '1',\n 'firstname': 'Wilhelm Conrad',\n 'surname': 'Röntgen',\n 'born': '1845-03-27',\n 'died': '1923-02-10',\n 'bornCountry': 'Prussia (now Germany)',\n 'bornCountryCode': 'DE',\n 'bornCity': 'Lennep (now Remscheid)',\n 'diedCountry': 'Germany',\n 'diedCountryCode': 'DE',\n 'diedCity': 'Munich',\n 'gender': 'male',\n 'prizes': [{'year': '1901',\n   'category': 'physics',\n   'share': '1',\n   'motivation': '\"in recognition of the extraordinary services he has rendered by the discovery of the remarkable rays subsequently named after him\"',\n   'affiliations': [{'name': 'Munich University',\n     'city': 'Munich',\n     'country': 'Germany'}]}]}"
     },
     "metadata": {},
     "execution_count": 5
    }
   ],
   "source": [
    "doc"
   ]
  },
  {
   "cell_type": "markdown",
   "metadata": {},
   "source": [
    "### Obtain a list of field values for this document that have a string value."
   ]
  },
  {
   "cell_type": "code",
   "execution_count": 10,
   "metadata": {},
   "outputs": [],
   "source": [
    "fields = [field for field in doc if type(doc[field]) is str]"
   ]
  },
  {
   "cell_type": "code",
   "execution_count": 11,
   "metadata": {},
   "outputs": [
    {
     "output_type": "execute_result",
     "data": {
      "text/plain": "['id',\n 'firstname',\n 'surname',\n 'born',\n 'died',\n 'bornCountry',\n 'bornCountryCode',\n 'bornCity',\n 'diedCountry',\n 'diedCountryCode',\n 'diedCity',\n 'gender']"
     },
     "metadata": {},
     "execution_count": 11
    }
   ],
   "source": [
    "fields"
   ]
  },
  {
   "cell_type": "markdown",
   "metadata": {},
   "source": [
    "<br>\n",
    "\n",
    "## 3. Obtain a list of tuples containing the first and last name of each laureate in the database who died in USA. i.e. `(FirstName, LastName)`"
   ]
  },
  {
   "cell_type": "code",
   "execution_count": 14,
   "metadata": {},
   "outputs": [],
   "source": [
    "cursor = db.laureates.find({\"diedCountry\": \"USA\"})"
   ]
  },
  {
   "cell_type": "code",
   "execution_count": 17,
   "metadata": {},
   "outputs": [],
   "source": [
    "names = [(doc[\"firstname\"], doc[\"surname\"]) for doc in cursor]"
   ]
  },
  {
   "cell_type": "code",
   "execution_count": 18,
   "metadata": {},
   "outputs": [
    {
     "output_type": "execute_result",
     "data": {
      "text/plain": "[('Ferdinand', 'Braun'),\n ('Albert', 'Einstein'),\n ('Robert A.', 'Millikan'),\n ('Jean Baptiste', 'Perrin'),\n ('Arthur H.', 'Compton'),\n ('Paul A.M.', 'Dirac'),\n ('Victor F.', 'Hess'),\n ('Carl D.', 'Anderson'),\n ('Clinton', 'Davisson'),\n ('Enrico', 'Fermi'),\n ('Ernest', 'Lawrence'),\n ('Otto', 'Stern'),\n ('Isidor Isaac', 'Rabi'),\n ('Percy W.', 'Bridgman'),\n ('E. M.', 'Purcell'),\n ('Willis E.', 'Lamb'),\n ('Polykarp', 'Kusch'),\n ('William B.', 'Shockley'),\n ('John', 'Bardeen'),\n ('Walter H.', 'Brattain'),\n ('Emilio', 'Segrè'),\n ('Owen', 'Chamberlain'),\n ('Donald A.', 'Glaser'),\n ('Robert', 'Hofstadter'),\n ('Eugene', 'Wigner'),\n ('Maria', 'Goeppert Mayer'),\n ('Charles H.', 'Townes'),\n ('Julian', 'Schwinger'),\n ('Richard P.', 'Feynman'),\n ('Hans', 'Bethe'),\n ('Luis', 'Alvarez'),\n ('Murray', 'Gell-Mann'),\n ('Robert', 'Schrieffer'),\n ('James', 'Rainwater'),\n ('Burton', 'Richter'),\n ('Philip W.', 'Anderson'),\n ('John H.', 'van Vleck'),\n ('James', 'Cronin'),\n ('Val', 'Fitch'),\n ('Nicolaas', 'Bloembergen'),\n ('Arthur L.', 'Schawlow'),\n ('Kenneth G.', 'Wilson'),\n ('Subramanyan', 'Chandrasekhar'),\n ('William A.', 'Fowler'),\n ('Leon M.', 'Lederman'),\n ('Melvin', 'Schwartz'),\n ('Norman F.', 'Ramsey'),\n ('Hans G.', 'Dehmelt'),\n ('Henry W.', 'Kendall'),\n ('Richard E.', 'Taylor'),\n ('Clifford G.', 'Shull'),\n ('Martin L.', 'Perl'),\n ('Frederick', 'Reines'),\n ('Robert C.', 'Richardson'),\n ('Theodore W.', 'Richards'),\n ('Irving', 'Langmuir'),\n ('Harold C.', 'Urey'),\n ('Peter', 'Debye'),\n ('James B.', 'Sumner'),\n ('John H.', 'Northrop'),\n ('William F.', 'Giauque'),\n ('Edwin M.', 'McMillan'),\n ('Glenn T.', 'Seaborg'),\n ('Linus', 'Pauling'),\n ('Vincent', 'du Vigneaud'),\n ('Willard F.', 'Libby'),\n ('Melvin', 'Calvin'),\n ('Robert B.', 'Woodward'),\n ('Robert S.', 'Mulliken'),\n ('Lars', 'Onsager'),\n ('Derek', 'Barton'),\n ('Christian', 'Anfinsen'),\n ('Stanford', 'Moore'),\n ('William H.', 'Stein'),\n ('Paul J.', 'Flory'),\n ('William', 'Lipscomb'),\n ('Herbert C.', 'Brown'),\n ('Henry', 'Taube'),\n ('Bruce', 'Merrifield'),\n ('Herbert A.', 'Hauptman'),\n ('Donald J.', 'Cram'),\n ('Charles J.', 'Pedersen'),\n ('Kary B.', 'Mullis'),\n ('George A.', 'Olah'),\n ('F. Sherwood', 'Rowland'),\n ('Richard E.', 'Smalley'),\n ('Paul D.', 'Boyer'),\n ('Walter', 'Kohn'),\n ('John', 'Pople'),\n ('Ahmed', 'Zewail'),\n ('Otto', 'Meyerhof'),\n ('Karl', 'Landsteiner'),\n ('Thomas H.', 'Morgan'),\n ('George H.', 'Whipple'),\n ('George R.', 'Minot'),\n ('William P.', 'Murphy'),\n ('Otto', 'Loewi'),\n ('Albert', 'Szent-Györgyi'),\n ('Edward A.', 'Doisy'),\n ('Joseph', 'Erlanger'),\n ('Herbert S.', 'Gasser'),\n ('Hermann J.', 'Muller'),\n ('Carl', 'Cori'),\n ('Gerty', 'Cori'),\n ('Edward C.', 'Kendall'),\n ('Max', 'Theiler'),\n ('Selman A.', 'Waksman'),\n ('Fritz', 'Lipmann'),\n ('John F.', 'Enders'),\n ('Thomas H.', 'Weller'),\n ('Frederick C.', 'Robbins'),\n ('André F.', 'Cournand'),\n ('Dickinson W.', 'Richards'),\n ('George', 'Beadle'),\n ('Edward', 'Tatum'),\n ('Joshua', 'Lederberg'),\n ('Arthur', 'Kornberg'),\n ('Georg', 'von Békésy'),\n ('Francis', 'Crick'),\n ('Konrad', 'Bloch'),\n ('Peyton', 'Rous'),\n ('Charles B.', 'Huggins'),\n ('Keffer', 'Hartline'),\n ('George', 'Wald'),\n ('Robert W.', 'Holley'),\n ('H. Gobind', 'Khorana'),\n ('Marshall W.', 'Nirenberg'),\n ('Max', 'Delbrück'),\n ('Alfred D.', 'Hershey'),\n ('Salvador E.', 'Luria'),\n ('Julius', 'Axelrod'),\n ('Earl W.', 'Sutherland, Jr.'),\n ('Gerald M.', 'Edelman'),\n ('George E.', 'Palade'),\n ('Renato', 'Dulbecco'),\n ('Howard M.', 'Temin'),\n ('Baruch S.', 'Blumberg'),\n ('Rosalyn', 'Yalow'),\n ('Daniel', 'Nathans'),\n ('Allan M.', 'Cormack'),\n ('Baruj', 'Benacerraf'),\n ('George D.', 'Snell'),\n ('Roger W.', 'Sperry'),\n ('David H.', 'Hubel'),\n ('Barbara', 'McClintock'),\n ('Stanley', 'Cohen'),\n ('Gertrude B.', 'Elion'),\n ('George H.', 'Hitchings'),\n ('Joseph E.', 'Murray'),\n ('E. Donnall', 'Thomas'),\n ('Edwin G.', 'Krebs'),\n ('Alfred G.', 'Gilman'),\n ('Martin', 'Rodbell'),\n ('Edward B.', 'Lewis'),\n ('Robert F.', 'Furchgott'),\n ('Günter', 'Blobel'),\n ('Theodore', 'Roosevelt'),\n ('Elihu', 'Root'),\n ('Woodrow', 'Wilson'),\n ('Charles G.', 'Dawes'),\n ('Frank B.', 'Kellogg'),\n ('Jane', 'Addams'),\n ('Nicholas Murray', 'Butler'),\n ('Cordell', 'Hull'),\n ('Emily Greene', 'Balch'),\n ('John R.', 'Mott'),\n ('Ralph', 'Bunche'),\n ('George C.', 'Marshall'),\n ('Martin Luther', 'King Jr.'),\n ('Norman', 'Borlaug'),\n ('Elie', 'Wiesel'),\n ('Eugene', \"O'Neill\"),\n ('Pearl', 'Buck'),\n ('Gabriela', 'Mistral'),\n ('William', 'Faulkner'),\n ('Ernest', 'Hemingway'),\n ('John', 'Steinbeck'),\n ('Saul', 'Bellow'),\n ('Isaac Bashevis', 'Singer'),\n ('Joseph', 'Brodsky'),\n ('Toni', 'Morrison'),\n ('Paul A.', 'Samuelson'),\n ('Simon', 'Kuznets'),\n ('Kenneth J.', 'Arrow'),\n ('Wassily', 'Leontief'),\n ('Tjalling C.', 'Koopmans'),\n ('Milton', 'Friedman'),\n ('Herbert', 'Simon'),\n ('Theodore W.', 'Schultz'),\n ('Lawrence R.', 'Klein'),\n ('James', 'Tobin'),\n ('George J.', 'Stigler'),\n ('Franco', 'Modigliani'),\n ('James M.', 'Buchanan Jr.'),\n ('Merton H.', 'Miller'),\n ('Ronald H.', 'Coase'),\n ('Gary', 'Becker'),\n ('Robert W.', 'Fogel'),\n ('Douglass C.', 'North'),\n ('John C.', 'Harsanyi'),\n ('John F.', 'Nash Jr.'),\n ('William', 'Vickrey'),\n ('Paul', 'Greengard'),\n ('Jack', 'Kilby'),\n ('Alan', 'MacDiarmid'),\n ('William', 'Knowles'),\n ('Raymond', 'Davis Jr.'),\n ('Riccardo', 'Giacconi'),\n ('John B.', 'Fenn'),\n ('Paul C.', 'Lauterbur'),\n ('Clive W.J.', 'Granger'),\n ('Irwin', 'Rose'),\n ('Roy J.', 'Glauber'),\n ('Thomas C.', 'Schelling'),\n ('Oliver', 'Smithies'),\n ('Leonid', 'Hurwicz'),\n ('Roger Y.', 'Tsien'),\n ('Thomas A.', 'Steitz'),\n ('Elinor', 'Ostrom'),\n ('Dale T.', 'Mortensen'),\n ('Lloyd S.', 'Shapley')]"
     },
     "metadata": {},
     "execution_count": 18
    }
   ],
   "source": [
    "names"
   ]
  },
  {
   "cell_type": "markdown",
   "metadata": {},
   "source": [
    "<br>\n",
    "\n",
    "## 4. Did any of the above laureates receive more than one prize? Generate a list of tuples with their first name and the total number they were awarded. "
   ]
  },
  {
   "cell_type": "code",
   "execution_count": 46,
   "metadata": {},
   "outputs": [],
   "source": [
    "cursor = db.laureates.find({})"
   ]
  },
  {
   "cell_type": "code",
   "execution_count": 47,
   "metadata": {},
   "outputs": [],
   "source": [
    "names = [(doc[\"firstname\"], len(doc[\"prizes\"])) for doc in cursor if len(doc[\"prizes\"]) > 1]"
   ]
  },
  {
   "cell_type": "code",
   "execution_count": 48,
   "metadata": {},
   "outputs": [
    {
     "output_type": "execute_result",
     "data": {
      "text/plain": "[('Marie', 2),\n ('John', 2),\n ('Linus', 2),\n ('Frederick', 2),\n ('International Committee of the Red Cross', 3),\n ('Office of the United Nations High Commissioner for Refugees', 2)]"
     },
     "metadata": {},
     "execution_count": 48
    }
   ],
   "source": [
    "names"
   ]
  }
 ],
 "metadata": {
  "kernelspec": {
   "display_name": "Python 3",
   "language": "python",
   "name": "python3"
  },
  "language_info": {
   "codemirror_mode": {
    "name": "ipython",
    "version": 3
   },
   "file_extension": ".py",
   "mimetype": "text/x-python",
   "name": "python",
   "nbconvert_exporter": "python",
   "pygments_lexer": "ipython3",
   "version": "3.7.7-final"
  }
 },
 "nbformat": 4,
 "nbformat_minor": 4
}