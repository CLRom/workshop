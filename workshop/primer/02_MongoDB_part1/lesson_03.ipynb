{
 "cells": [
  {
   "cell_type": "markdown",
   "metadata": {},
   "source": [
    "# Finding, and Dot Notation"
   ]
  },
  {
   "cell_type": "code",
   "execution_count": 6,
   "metadata": {
    "tags": []
   },
   "outputs": [
    {
     "output_type": "stream",
     "name": "stdout",
     "text": "MongoClient(host=['localhost:27017'], document_class=dict, tz_aware=False, connect=True)\nDatabase(MongoClient(host=['localhost:27017'], document_class=dict, tz_aware=False, connect=True), 'nobel')\n"
    }
   ],
   "source": [
    "from pymongo import MongoClient\n",
    "\n",
    "client = MongoClient()\n",
    "db = client.nobel\n",
    "print(client)\n",
    "print(db)"
   ]
  },
  {
   "cell_type": "markdown",
   "metadata": {},
   "source": [
    "<br>\n",
    "\n",
    "## Query operators"
   ]
  },
  {
   "cell_type": "markdown",
   "metadata": {},
   "source": [
    "Query operators provide us more options when constructing filters. For example, we may wish to find documents where a field's value matches any of a set of options. To do this we can use the `$in` query operator."
   ]
  },
  {
   "cell_type": "markdown",
   "metadata": {},
   "source": [
    "- How many laureates were born in any of \"Canada\", \"Mexico\", or \"USA\"? "
   ]
  },
  {
   "cell_type": "code",
   "execution_count": 7,
   "metadata": {
    "tags": []
   },
   "outputs": [
    {
     "output_type": "stream",
     "name": "stdout",
     "text": "295\n"
    }
   ],
   "source": [
    "#Save a filter for laureates who were born in with Canada, Mexico, or the USA.\n",
    "criteria = {\"bornCountry\": {\"$in\": [\"Canada\", \"Mexico\", \"USA\"]}}\n",
    "\n",
    "# Count them and save the count.\n",
    "count = db.laureates.count_documents(criteria)\n",
    "print(count)"
   ]
  },
  {
   "cell_type": "markdown",
   "metadata": {},
   "source": [
    "If we wish to accept all but one option as a value for a field, we can use the `$ne` (**n**ot **e**qual) operator."
   ]
  },
  {
   "cell_type": "markdown",
   "metadata": {},
   "source": [
    "- How many laureates died in the USA but were not born in the USA?"
   ]
  },
  {
   "cell_type": "code",
   "execution_count": 9,
   "metadata": {
    "tags": []
   },
   "outputs": [
    {
     "output_type": "stream",
     "name": "stdout",
     "text": "71\n"
    }
   ],
   "source": [
    "# Save a filter for laureates who died in the USA and were not born there.\n",
    "criteria = {\"bornCountry\": {\"$ne\": \"USA\"}, \"diedCountry\": \"USA\"}\n",
    "\n",
    "# Count them and save the count.\n",
    "count = db.laureates.count_documents(criteria)\n",
    "print(count)"
   ]
  },
  {
   "cell_type": "markdown",
   "metadata": {},
   "source": [
    "Below is a list of *comparison* query operators that are available in MongoDB:"
   ]
  },
  {
   "cell_type": "markdown",
   "metadata": {},
   "source": [
    "`$eq` -- Matches values that are equal to a specified value. <br>\n",
    "`$gt` -- Matches values that are greater than a specified value. <br>\n",
    "`$gte` -- Matches values that are greater than or equal to a specified value. <br>\n",
    "`$in` -- Matches any of the values specified in an array. <br>\n",
    "`$lt` -- Matches values that are less than a specified value. <br>\n",
    "`$lte` -- Matches values that are less than or equal to a specified value. <br>\n",
    "`$ne` -- Matches all values that are not equal to a specified value. <br>\n",
    "`$nin` -- Matches none of the values specified in an array."
   ]
  },
  {
   "cell_type": "markdown",
   "metadata": {},
   "source": [
    "<br>\n",
    "\n",
    "In addition to comparison query operators, we can use *logical* query operators in our filters as well."
   ]
  },
  {
   "cell_type": "markdown",
   "metadata": {},
   "source": [
    "- How many laureates died in Canada ***OR*** were born in France?"
   ]
  },
  {
   "cell_type": "code",
   "execution_count": 10,
   "metadata": {
    "tags": []
   },
   "outputs": [
    {
     "output_type": "stream",
     "name": "stdout",
     "text": "71\n"
    }
   ],
   "source": [
    "#Save a filter for laureates who were born in Canada OR died in France.\n",
    "criteria = {\"$or\":[{\"bornCountry\": \"Canada\"}, {\"diedCountry\": \"France\"}]}\n",
    "\n",
    "# Count them and save the count.\n",
    "count = db.laureates.count_documents(criteria)\n",
    "print(count)"
   ]
  },
  {
   "cell_type": "markdown",
   "metadata": {},
   "source": [
    "Below is a list of *logical* query operators that are available in MongoDB:"
   ]
  },
  {
   "cell_type": "markdown",
   "metadata": {},
   "source": [
    "`$and` --\tJoins query clauses with a logical AND returns all documents that match the conditions of both clauses. <br>\n",
    "`$not` --\tInverts the effect of a query expression and returns documents that do not match the query expression. <br>\n",
    "`$nor` --\tJoins query clauses with a logical NOR returns all documents that fail to match both clauses. <br>\n",
    "`$or` --\tJoins query clauses with a logical OR returns all documents that match the conditions of either clause. "
   ]
  },
  {
   "cell_type": "markdown",
   "metadata": {},
   "source": [
    "See https://docs.mongodb.com/manual/reference/operator/query/ for more operators!"
   ]
  },
  {
   "cell_type": "markdown",
   "metadata": {},
   "source": [
    "<br>\n",
    "\n",
    "## Using dot notation"
   ]
  },
  {
   "cell_type": "markdown",
   "metadata": {},
   "source": [
    "You will notice that the `prizes` field of a `laureates` document consists of an array of subdocuments:\n",
    "\n",
    "An example `laureates` document:\n",
    "\n",
    "```\n",
    "{'_id': ObjectId('5b9ac94ff35b63cf5231ccb1'),\n",
    " 'born': '1845-03-27',\n",
    " 'bornCity': 'Lennep (now Remscheid)',\n",
    " 'bornCountry': 'Prussia (now Germany)',\n",
    " 'bornCountryCode': 'DE',\n",
    " 'died': '1923-02-10',\n",
    " 'diedCity': 'Munich',\n",
    " 'diedCountry': 'Germany',\n",
    " 'diedCountryCode': 'DE',\n",
    " 'firstname': 'Wilhelm Conrad',\n",
    " 'gender': 'male',\n",
    " 'id': '1',\n",
    " 'prizes': [{'affiliations': [{'city': 'Munich',\n",
    "                               'country': 'Germany',\n",
    "                               'name': 'Munich University'}],\n",
    "             'category': 'physics',\n",
    "             'motivation': '\"in recognition of the extraordinary services '\n",
    "                           'he has rendered by the discovery of the '\n",
    "                           'remarkable rays subsequently named after him\"',\n",
    "             'share': '1',\n",
    "             'year': '1901'}],\n",
    " 'surname': 'Röntgen'}\n",
    "```"
   ]
  },
  {
   "cell_type": "markdown",
   "metadata": {},
   "source": [
    "An easy way to construct filters for array entries or subdocument fields is to use dot notation."
   ]
  },
  {
   "cell_type": "markdown",
   "metadata": {},
   "source": [
    "- Use the `$exists` operator to find out how many laureates were awarded at least two prizes? "
   ]
  },
  {
   "cell_type": "code",
   "execution_count": 11,
   "metadata": {
    "tags": []
   },
   "outputs": [
    {
     "output_type": "stream",
     "name": "stdout",
     "text": "6\n"
    }
   ],
   "source": [
    "#Save a filter for laureates who were awarded at least two prizes. \n",
    "criteria = {\"prizes.1\":{\"$exists\": True}}\n",
    "\n",
    "# Count them and save the count.\n",
    "count = db.laureates.count_documents(criteria)\n",
    "print(count)"
   ]
  },
  {
   "cell_type": "markdown",
   "metadata": {},
   "source": [
    "- Estimate how many laureates were awarded at least two prizes in physics specifically? "
   ]
  },
  {
   "cell_type": "code",
   "execution_count": 12,
   "metadata": {
    "tags": []
   },
   "outputs": [
    {
     "output_type": "stream",
     "name": "stdout",
     "text": "1\n"
    }
   ],
   "source": [
    "#Save a filter to estimate the number of laureates who were awarded at least two prizes in physics. \n",
    "criteria = {\"prizes.0.category\": \"physics\", \"prizes.1.category\": \"physics\"}\n",
    "\n",
    "# Count them and save the count.\n",
    "count = db.laureates.count_documents(criteria)\n",
    "print(count)"
   ]
  },
  {
   "cell_type": "code",
   "execution_count": 13,
   "metadata": {},
   "outputs": [
    {
     "output_type": "execute_result",
     "data": {
      "text/plain": "{'_id': ObjectId('5f1746222466f220f494d2d2'),\n 'id': '66',\n 'firstname': 'John',\n 'surname': 'Bardeen',\n 'born': '1908-05-23',\n 'died': '1991-01-30',\n 'bornCountry': 'USA',\n 'bornCountryCode': 'US',\n 'bornCity': 'Madison, WI',\n 'diedCountry': 'USA',\n 'diedCountryCode': 'US',\n 'diedCity': 'Boston, MA',\n 'gender': 'male',\n 'prizes': [{'year': '1956',\n   'category': 'physics',\n   'share': '3',\n   'motivation': '\"for their researches on semiconductors and their discovery of the transistor effect\"',\n   'affiliations': [{'name': 'University of Illinois',\n     'city': 'Urbana, IL',\n     'country': 'USA'}]},\n  {'year': '1972',\n   'category': 'physics',\n   'share': '3',\n   'motivation': '\"for their jointly developed theory of superconductivity, usually called the BCS-theory\"',\n   'affiliations': [{'name': 'University of Illinois',\n     'city': 'Urbana, IL',\n     'country': 'USA'}]}]}"
     },
     "metadata": {},
     "execution_count": 13
    }
   ],
   "source": [
    "db.laureates.find_one(criteria)"
   ]
  }
 ],
 "metadata": {
  "kernelspec": {
   "display_name": "Python 3",
   "language": "python",
   "name": "python3"
  },
  "language_info": {
   "codemirror_mode": {
    "name": "ipython",
    "version": 3
   },
   "file_extension": ".py",
   "mimetype": "text/x-python",
   "name": "python",
   "nbconvert_exporter": "python",
   "pygments_lexer": "ipython3",
   "version": "3.7.7-final"
  }
 },
 "nbformat": 4,
 "nbformat_minor": 4
}