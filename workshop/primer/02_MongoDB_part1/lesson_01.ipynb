{
 "cells": [
  {
   "cell_type": "markdown",
   "metadata": {},
   "source": [
    "# Intro to MongoDB and the Nobel Prize Dataset"
   ]
  },
  {
   "cell_type": "markdown",
   "metadata": {},
   "source": [
    "## MongoDB Structure"
   ]
  },
  {
   "cell_type": "markdown",
   "metadata": {},
   "source": [
    "- Data objects represented by ***documents***\n",
    "- Documents organized into ***collections***\n",
    "- Collections make up a ***database***\n",
    "\n",
    "<br>"
   ]
  },
  {
   "cell_type": "markdown",
   "metadata": {},
   "source": [
    "## Data Structure"
   ]
  },
  {
   "cell_type": "markdown",
   "metadata": {},
   "source": [
    "object → {`field`: `value`, `field1`: `value1`, ...}\n"
   ]
  },
  {
   "cell_type": "markdown",
   "metadata": {},
   "source": [
    "fields: `string`\n",
    "<br>\n",
    "values:  `string`, `int/double`, `true`, `false`, `null`, `array`, `object`, ...\n",
    "\n",
    "<br>"
   ]
  },
  {
   "cell_type": "markdown",
   "metadata": {},
   "source": [
    "*example:*\n",
    "\n",
    "```\n",
    "{\n",
    "    name: Sue,\n",
    "    age: 28,\n",
    "    lawSpecialties: [copyright, tax],\n",
    "    canMeet:\n",
    "        { \n",
    "            mon: True,\n",
    "            tues: False,\n",
    "            wed: True,\n",
    "            thurs: True,\n",
    "            fri: False,\n",
    "        }    \n",
    "}\n",
    "```\n",
    "\n",
    "<br>"
   ]
  },
  {
   "cell_type": "markdown",
   "metadata": {},
   "source": [
    "## JavaScript Object Notation (JSON)"
   ]
  },
  {
   "cell_type": "markdown",
   "metadata": {},
   "source": [
    "object → {`string`: `value`, `string1`: `value1`, ...}\n",
    "\n",
    "\n",
    "\n",
    "values: `string`, `number`, `true`, `false`, `null`, `object`, `array`\n",
    "\n",
    "<br>"
   ]
  },
  {
   "cell_type": "markdown",
   "metadata": {},
   "source": [
    "## JSON $\\longleftrightarrow$ Python"
   ]
  },
  {
   "cell_type": "markdown",
   "metadata": {},
   "source": [
    "objects → {`string`: `value`,`string1`: `value1`, ...}\n",
    "\n",
    "---> *dictionaries* (with `str` keys)"
   ]
  },
  {
   "cell_type": "markdown",
   "metadata": {},
   "source": [
    "arrays → [`value`, `value1`, ...]\n",
    "\n",
    "---> *lists*"
   ]
  },
  {
   "cell_type": "markdown",
   "metadata": {},
   "source": [
    "values: `string`, `number`, `true`, `false`, `null`, `object`, `array`\n",
    "\n",
    "```python\n",
    "str, int, float, True, False, None, dict, list\n",
    "```\n"
   ]
  },
  {
   "cell_type": "markdown",
   "metadata": {},
   "source": [
    "<br>\n",
    "\n",
    "- Construct a dictionary that mirrors the example data structure above."
   ]
  },
  {
   "cell_type": "code",
   "execution_count": null,
   "metadata": {},
   "outputs": [],
   "source": [
    "sample_dict = {__}"
   ]
  },
  {
   "cell_type": "code",
   "execution_count": null,
   "metadata": {},
   "outputs": [],
   "source": []
  },
  {
   "cell_type": "code",
   "execution_count": null,
   "metadata": {},
   "outputs": [],
   "source": []
  },
  {
   "cell_type": "markdown",
   "metadata": {},
   "source": [
    "<br>\n",
    "\n",
    "## Accessing MongoDB"
   ]
  },
  {
   "cell_type": "markdown",
   "metadata": {},
   "source": [
    "We can access our MongoDB databases using an instance of `MongoClient` from the `pymongo` package."
   ]
  },
  {
   "cell_type": "code",
   "execution_count": null,
   "metadata": {},
   "outputs": [],
   "source": [
    "from pymongo import MongoClient\n",
    "\n",
    "client = MongoClient()\n",
    "print(client)"
   ]
  },
  {
   "cell_type": "markdown",
   "metadata": {},
   "source": [
    "<br>\n",
    "\n",
    "You can access databases and collections as attributes and/or treat them as dictionary keys."
   ]
  },
  {
   "cell_type": "code",
   "execution_count": null,
   "metadata": {},
   "outputs": [],
   "source": [
    "client.nobel == client[\"nobel\"]"
   ]
  },
  {
   "cell_type": "code",
   "execution_count": null,
   "metadata": {},
   "outputs": [],
   "source": [
    "client.nobel.prizes == client[\"nobel\"][\"prizes\"]"
   ]
  },
  {
   "cell_type": "markdown",
   "metadata": {},
   "source": [
    "We can also connect to the nobel database."
   ]
  },
  {
   "cell_type": "code",
   "execution_count": null,
   "metadata": {},
   "outputs": [],
   "source": [
    "db = client.nobel\n",
    "print(db)"
   ]
  },
  {
   "cell_type": "markdown",
   "metadata": {},
   "source": [
    "<br>\n",
    "\n",
    "## Searching for documents "
   ]
  },
  {
   "cell_type": "markdown",
   "metadata": {},
   "source": [
    "Let's see what a document looks like in the `prizes` collection using the `find_one()` method. This takes an optional `filter` argument. Passing an empty filter (`{}`) is the same as passing no filter. In Python, the returned document takes the form of a dictionary. The keys of the dictionary are the (root-level) \"fields\" of the document."
   ]
  },
  {
   "cell_type": "code",
   "execution_count": null,
   "metadata": {},
   "outputs": [],
   "source": [
    "db.__.__()"
   ]
  },
  {
   "cell_type": "markdown",
   "metadata": {},
   "source": [
    "We can now add a filter to our search to ensure that the returned `prizes` document contains data for a physics nobel prize."
   ]
  },
  {
   "cell_type": "code",
   "execution_count": null,
   "metadata": {},
   "outputs": [],
   "source": [
    "criteria = {__}\n",
    "db.__.__(__)"
   ]
  },
  {
   "cell_type": "markdown",
   "metadata": {},
   "source": [
    "<br>\n",
    "\n",
    "You may iterate over a collection, collecting from each document. However, a collection is not a list, so we can't write `for doc in <collection>` to iterate over documents. Instead, we can use the `find()` method to produce an iterable called a _cursor_, and instead write `for doc in <collection>.find()` to iterate over documents."
   ]
  },
  {
   "cell_type": "markdown",
   "metadata": {},
   "source": [
    "- Save a list of the fields present in each document to `prize_fields` and `laureate_fields`. Recall that the `keys()` method of a dictionary returns a _view_ of its keys -- You need to pass this view to Python's `list` constructor to obtain a list."
   ]
  },
  {
   "cell_type": "code",
   "execution_count": null,
   "metadata": {},
   "outputs": [],
   "source": [
    "# Get lists of the fields present in each type of document\n",
    "prize_fields = __(db.__.__({}).__())\n",
    "laureate_fields = __(db.__.__({}).__())\n",
    "\n",
    "print(prize_fields)\n",
    "print(laureate_fields)"
   ]
  },
  {
   "cell_type": "markdown",
   "metadata": {},
   "source": [
    "- Using `find()` to iterate over laureate documents, sum the total number of laureate prizes. The length of `doc[\"prizes\"]` for a laureate document `doc` is the number of prizes won by that laureate. Store the sum in the variable `count`."
   ]
  },
  {
   "cell_type": "code",
   "execution_count": null,
   "metadata": {},
   "outputs": [],
   "source": [
    "# Compute the total number of laureate prizes\n",
    "count = __(__(__) for __ in __.__.__(__))\n",
    "print(count)"
   ]
  }
 ],
 "metadata": {
  "kernelspec": {
   "display_name": "Python 3",
   "language": "python",
   "name": "python3"
  },
  "language_info": {
   "codemirror_mode": {
    "name": "ipython",
    "version": 3
   },
   "file_extension": ".py",
   "mimetype": "text/x-python",
   "name": "python",
   "nbconvert_exporter": "python",
   "pygments_lexer": "ipython3",
   "version": "3.7.7"
  }
 },
 "nbformat": 4,
 "nbformat_minor": 4
}
