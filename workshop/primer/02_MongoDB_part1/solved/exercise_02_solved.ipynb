{
 "cells": [
  {
   "cell_type": "markdown",
   "metadata": {},
   "source": [
    "# Listing and Counting - Exercise"
   ]
  },
  {
   "cell_type": "markdown",
   "metadata": {},
   "source": [
    "## 1. Instantiate `MongoClient` and connect to the to the nobel database."
   ]
  },
  {
   "cell_type": "code",
   "execution_count": 2,
   "metadata": {},
   "outputs": [],
   "source": [
    "from pymongo import MongoClient\n",
    "client = MongoClient()"
   ]
  },
  {
   "cell_type": "code",
   "execution_count": 3,
   "metadata": {
    "tags": []
   },
   "outputs": [
    {
     "output_type": "stream",
     "name": "stdout",
     "text": "Database(MongoClient(host=['localhost:27017'], document_class=dict, tz_aware=False, connect=True), 'nobel')\n"
    }
   ],
   "source": [
    "db = client.nobel\n",
    "print(db)"
   ]
  },
  {
   "cell_type": "markdown",
   "metadata": {},
   "source": [
    "<br>\n",
    "\n",
    "## 2. Obtain a document from the `prizes` collection and display its contents."
   ]
  },
  {
   "cell_type": "code",
   "execution_count": 4,
   "metadata": {},
   "outputs": [],
   "source": [
    "doc = db.prizes.find_one({})"
   ]
  },
  {
   "cell_type": "code",
   "execution_count": 5,
   "metadata": {},
   "outputs": [
    {
     "output_type": "execute_result",
     "data": {
      "text/plain": "{'_id': ObjectId('5f1746222466f220f494d00c'),\n 'year': '2019',\n 'category': 'chemistry',\n 'laureates': [{'id': '976',\n   'firstname': 'John',\n   'surname': 'Goodenough',\n   'motivation': '\"for the development of lithium-ion batteries\"',\n   'share': '3'},\n  {'id': '977',\n   'firstname': 'M. Stanley',\n   'surname': 'Whittingham',\n   'motivation': '\"for the development of lithium-ion batteries\"',\n   'share': '3'},\n  {'id': '978',\n   'firstname': 'Akira',\n   'surname': 'Yoshino',\n   'motivation': '\"for the development of lithium-ion batteries\"',\n   'share': '3'}]}"
     },
     "metadata": {},
     "execution_count": 5
    }
   ],
   "source": [
    "doc"
   ]
  },
  {
   "cell_type": "markdown",
   "metadata": {},
   "source": [
    "<br>\n",
    "\n",
    "## 3. Use `count_documents` to identify which of the following statements is true?\n",
    "\n",
    "A. the number of prizes and laureates are equal <br>\n",
    "B. prizes outnumber laureates by < 2x <br>\n",
    "C. prizes outnumber laureates by > 2x <br>\n",
    "D. laureates outnumber prizes by < 2x <br>\n",
    "E. laureates outnumber prizes by > 2x <br>"
   ]
  },
  {
   "cell_type": "code",
   "execution_count": 10,
   "metadata": {},
   "outputs": [],
   "source": [
    "num_prizes = db.prizes.count_documents({})"
   ]
  },
  {
   "cell_type": "code",
   "execution_count": 13,
   "metadata": {},
   "outputs": [],
   "source": [
    "num_laureates = db.laureates.count_documents({})"
   ]
  },
  {
   "cell_type": "code",
   "execution_count": 15,
   "metadata": {},
   "outputs": [
    {
     "output_type": "execute_result",
     "data": {
      "text/plain": "1.4597523219814241"
     },
     "metadata": {},
     "execution_count": 15
    }
   ],
   "source": [
    "num_laureates/num_prizes # D is correct."
   ]
  },
  {
   "cell_type": "markdown",
   "metadata": {},
   "source": [
    "### Is the number of peace prizes awarded in 1911 larger or smaller than the number of laureates who were born (`\"bornCountry\"`) in Finland?"
   ]
  },
  {
   "cell_type": "code",
   "execution_count": 17,
   "metadata": {},
   "outputs": [],
   "source": [
    "num_prizes = db.prizes.count_documents({\"year\": \"1911\"})"
   ]
  },
  {
   "cell_type": "code",
   "execution_count": 18,
   "metadata": {},
   "outputs": [],
   "source": [
    "num_laureates = db.laureates.count_documents({\"bornCountry\": \"Finland\"})"
   ]
  },
  {
   "cell_type": "code",
   "execution_count": 21,
   "metadata": {},
   "outputs": [
    {
     "output_type": "execute_result",
     "data": {
      "text/plain": "False"
     },
     "metadata": {},
     "execution_count": 21
    }
   ],
   "source": [
    "num_laureates > num_prizes"
   ]
  }
 ],
 "metadata": {
  "kernelspec": {
   "display_name": "Python 3",
   "language": "python",
   "name": "python3"
  },
  "language_info": {
   "codemirror_mode": {
    "name": "ipython",
    "version": 3
   },
   "file_extension": ".py",
   "mimetype": "text/x-python",
   "name": "python",
   "nbconvert_exporter": "python",
   "pygments_lexer": "ipython3",
   "version": "3.7.7-final"
  }
 },
 "nbformat": 4,
 "nbformat_minor": 4
}