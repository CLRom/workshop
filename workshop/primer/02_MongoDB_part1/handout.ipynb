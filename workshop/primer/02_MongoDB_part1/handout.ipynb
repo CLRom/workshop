{
 "cells": [
  {
   "cell_type": "markdown",
   "metadata": {},
   "source": [
    "# Intro to MongoDB Handout"
   ]
  },
  {
   "cell_type": "markdown",
   "metadata": {},
   "source": [
    "## *Our Nobel Prize API database*"
   ]
  },
  {
   "cell_type": "code",
   "execution_count": 2,
   "metadata": {},
   "outputs": [],
   "source": [
    "import requests\n",
    "from pymongo import MongoClient"
   ]
  },
  {
   "cell_type": "code",
   "execution_count": 3,
   "metadata": {},
   "outputs": [],
   "source": [
    "# Client connects to \"localhost\" by default\n",
    "client = MongoClient()\n",
    "# Create local \"nobel\" database on the fly\n",
    "db = client[\"nobel\"]"
   ]
  },
  {
   "cell_type": "code",
   "execution_count": 4,
   "metadata": {},
   "outputs": [],
   "source": [
    "# API documented at https://nobelprize.readme.io/docs/prize\n",
    "for collection_name in [\"prizes\", \"laureates\"]:\n",
    "    singular = collection_name[:-1]\n",
    "    response = requests.get(\n",
    "        \"http://api.nobelprize.org/v1/{}.json\".format(singular))\n",
    "    documents = response.json()[collection_name]\n",
    "    # Access collections on the fly!\n",
    "    db[collection_name].drop()  # Drop collection first if already exists\n",
    "    db[collection_name].insert_many(documents)"
   ]
  },
  {
   "cell_type": "code",
   "execution_count": 5,
   "metadata": {},
   "outputs": [
    {
     "name": "stdout",
     "output_type": "stream",
     "text": [
      "646 prize documents\n",
      "943 laureates documents\n"
     ]
    }
   ],
   "source": [
    "# Check to make sure everything is correct\n",
    "assert client.nobel == client[\"nobel\"]\n",
    "assert client.nobel.prizes == client[\"nobel\"][\"prizes\"]\n",
    "print(db.prizes.count_documents({}), \"prize documents\")\n",
    "print(db.laureates.count_documents({}), \"laureates documents\")"
   ]
  }
 ],
 "metadata": {
  "kernelspec": {
   "display_name": "Python 3",
   "language": "python",
   "name": "python3"
  },
  "language_info": {
   "codemirror_mode": {
    "name": "ipython",
    "version": 3
   },
   "file_extension": ".py",
   "mimetype": "text/x-python",
   "name": "python",
   "nbconvert_exporter": "python",
   "pygments_lexer": "ipython3",
   "version": "3.7.7"
  }
 },
 "nbformat": 4,
 "nbformat_minor": 4
}
