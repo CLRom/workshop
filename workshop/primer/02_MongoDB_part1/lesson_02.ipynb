{
 "cells": [
  {
   "cell_type": "markdown",
   "metadata": {},
   "source": [
    "#  Listing and Counting"
   ]
  },
  {
   "cell_type": "code",
   "execution_count": 1,
   "metadata": {
    "tags": []
   },
   "outputs": [
    {
     "name": "stdout",
     "output_type": "stream",
     "text": [
      "MongoClient(host=['localhost:27017'], document_class=dict, tz_aware=False, connect=True)\n"
     ]
    }
   ],
   "source": [
    "from pymongo import MongoClient\n",
    "\n",
    "client = MongoClient()\n",
    "print(client)"
   ]
  },
  {
   "cell_type": "markdown",
   "metadata": {},
   "source": [
    "<br>\n",
    "\n",
    "## Listing databases and collections"
   ]
  },
  {
   "cell_type": "markdown",
   "metadata": {},
   "source": [
    "Recall:\n",
    "- Data objects represented by ***documents***\n",
    "- Documents organized into ***collections***\n",
    "- Collections make up a ***database***\n",
    "\n",
    "We can list database names by calling `list_database_names()` on a client instance, and we can list collection names by calling `list_collection_names()` on a database instance."
   ]
  },
  {
   "cell_type": "markdown",
   "metadata": {},
   "source": [
    "- How many databases are managed by `client`?"
   ]
  },
  {
   "cell_type": "code",
   "execution_count": 5,
   "metadata": {
    "tags": []
   },
   "outputs": [
    {
     "name": "stdout",
     "output_type": "stream",
     "text": [
      "['admin', 'config', 'local', 'nobel']\n",
      "['prizes', 'laureates']\n"
     ]
    }
   ],
   "source": [
    "# Save a list of names of the databases managed by client\n",
    "db_names = client.list_database_names()\n",
    "print(db_names)\n",
    "\n",
    "# Save a list of names of the collections managed by the \"nobel\" database\n",
    "nobel_coll_names = client.nobel.list_collection_names()\n",
    "print(nobel_coll_names)"
   ]
  },
  {
   "cell_type": "markdown",
   "metadata": {},
   "source": [
    "<br>\n",
    "\n",
    "## Counting documents"
   ]
  },
  {
   "cell_type": "code",
   "execution_count": 6,
   "metadata": {},
   "outputs": [],
   "source": [
    "# Connect to our \"nobel\" database\n",
    "db = client.nobel"
   ]
  },
  {
   "cell_type": "markdown",
   "metadata": {},
   "source": [
    "The `count_documents()` method of a collection can be used to count the number of documents matching a particular filter. Let's use the method to count the total number of nobel laureates who died in the USA.\n",
    "\n",
    "An example `laureates` document:\n",
    "\n",
    "```\n",
    "{'_id': ObjectId('5b9ac94ff35b63cf5231ccb1'),\n",
    " 'born': '1845-03-27',\n",
    " 'bornCity': 'Lennep (now Remscheid)',\n",
    " 'bornCountry': 'Prussia (now Germany)',\n",
    " 'bornCountryCode': 'DE',\n",
    " 'died': '1923-02-10',\n",
    " 'diedCity': 'Munich',\n",
    " 'diedCountry': 'Germany',\n",
    " 'diedCountryCode': 'DE',\n",
    " 'firstname': 'Wilhelm Conrad',\n",
    " 'gender': 'male',\n",
    " 'id': '1',\n",
    " 'prizes': [{'affiliations': [{'city': 'Munich',\n",
    "                               'country': 'Germany',\n",
    "                               'name': 'Munich University'}],\n",
    "             'category': 'physics',\n",
    "             'motivation': '\"in recognition of the extraordinary services '\n",
    "                           'he has rendered by the discovery of the '\n",
    "                           'remarkable rays subsequently named after him\"',\n",
    "             'share': '1',\n",
    "             'year': '1901'}],\n",
    " 'surname': 'Röntgen'}\n",
    "```"
   ]
  },
  {
   "cell_type": "code",
   "execution_count": 7,
   "metadata": {},
   "outputs": [
    {
     "data": {
      "text/plain": [
       "222"
      ]
     },
     "execution_count": 7,
     "metadata": {},
     "output_type": "execute_result"
    }
   ],
   "source": [
    "db.laureates.count_documents({\"diedCountry\": \"USA\"})"
   ]
  },
  {
   "cell_type": "markdown",
   "metadata": {},
   "source": [
    "We can now build out our filter to reduce the total number of matching documents:\n",
    "\n",
    "\n",
    "- Create a filter `criteria` to count the number of laureates who died in the USA but were born (`\"bornCountry\"`) in Germany."
   ]
  },
  {
   "cell_type": "code",
   "execution_count": 8,
   "metadata": {
    "tags": []
   },
   "outputs": [
    {
     "name": "stdout",
     "output_type": "stream",
     "text": [
      "5\n"
     ]
    }
   ],
   "source": [
    "# Create a filter for laureates who died in the USA but were born in Germany\n",
    "criteria = {\"diedCountry\": \"USA\", \"bornCountry\": \"Germany\"}\n",
    "\n",
    "# Save a count\n",
    "count = db.laureates.count_documents(criteria)\n",
    "print(count)"
   ]
  },
  {
   "cell_type": "markdown",
   "metadata": {},
   "source": [
    "- Count laureates who died in the USA, were born in Germany, and whose first name (`\"firstname\"`) was \"Albert\"."
   ]
  },
  {
   "cell_type": "code",
   "execution_count": 10,
   "metadata": {
    "tags": []
   },
   "outputs": [
    {
     "name": "stdout",
     "output_type": "stream",
     "text": [
      "1\n"
     ]
    }
   ],
   "source": [
    "# Create a filter for laureates who died in the USA, were born in Germany, and whose first name was Albert.\n",
    "criteria = {\"diedCountry\": \"USA\", \"bornCountry\": \"Germany\", \"firstname\": \"Albert\"}\n",
    "\n",
    "# Count them and save the count.\n",
    "count = db.laureates.count_documents(criteria)\n",
    "print(count)"
   ]
  },
  {
   "cell_type": "code",
   "execution_count": 12,
   "metadata": {},
   "outputs": [
    {
     "data": {
      "text/plain": [
       "{'_id': ObjectId('5f1746222466f220f494d2aa'),\n",
       " 'id': '26',\n",
       " 'firstname': 'Albert',\n",
       " 'surname': 'Einstein',\n",
       " 'born': '1879-03-14',\n",
       " 'died': '1955-04-18',\n",
       " 'bornCountry': 'Germany',\n",
       " 'bornCountryCode': 'DE',\n",
       " 'bornCity': 'Ulm',\n",
       " 'diedCountry': 'USA',\n",
       " 'diedCountryCode': 'US',\n",
       " 'diedCity': 'Princeton, NJ',\n",
       " 'gender': 'male',\n",
       " 'prizes': [{'year': '1921',\n",
       "   'category': 'physics',\n",
       "   'share': '1',\n",
       "   'motivation': '\"for his services to Theoretical Physics, and especially for his discovery of the law of the photoelectric effect\"',\n",
       "   'affiliations': [{'name': 'Kaiser-Wilhelm-Institut (now Max-Planck-Institut) für Physik',\n",
       "     'city': 'Berlin',\n",
       "     'country': 'Germany'}]}]}"
      ]
     },
     "execution_count": 12,
     "metadata": {},
     "output_type": "execute_result"
    }
   ],
   "source": [
    "db.laureates.find_one(criteria)"
   ]
  }
 ],
 "metadata": {
  "kernelspec": {
   "display_name": "Python 3",
   "language": "python",
   "name": "python3"
  },
  "language_info": {
   "codemirror_mode": {
    "name": "ipython",
    "version": 3
   },
   "file_extension": ".py",
   "mimetype": "text/x-python",
   "name": "python",
   "nbconvert_exporter": "python",
   "pygments_lexer": "ipython3",
   "version": "3.7.7"
  }
 },
 "nbformat": 4,
 "nbformat_minor": 4
}
