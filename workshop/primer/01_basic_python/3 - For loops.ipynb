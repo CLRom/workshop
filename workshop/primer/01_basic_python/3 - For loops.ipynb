{
 "cells": [
  {
   "cell_type": "markdown",
   "metadata": {},
   "source": [
    "# Lesson 3: For loops"
   ]
  },
  {
   "cell_type": "markdown",
   "metadata": {},
   "source": [
    "A for loop can be used to repeat actions over a set of values. Let's print each letter in this list:"
   ]
  },
  {
   "cell_type": "code",
   "execution_count": 1,
   "metadata": {},
   "outputs": [
    {
     "name": "stdout",
     "output_type": "stream",
     "text": [
      "J\n",
      "i\n",
      "m\n",
      "m\n",
      "y\n"
     ]
    }
   ],
   "source": [
    "name = ['J', 'i', 'm', 'm', 'y']\n",
    "\n",
    "for letter in name:\n",
    "    print(letter)"
   ]
  },
  {
   "cell_type": "markdown",
   "metadata": {},
   "source": [
    "For loops are constructed via the syntax for LOOP_VARIABLE in ITERABLE.  The loop variable in the above example I've used is `letter` and the iterable I've used is the list `name`, which was defined as `'['J', 'i', 'm', 'm', 'y']'`.  Other iterables include strings and dictionary keys, among others. For example, we could make `name` a string and iterate through it in the same way we iterated through the list:"
   ]
  },
  {
   "cell_type": "code",
   "execution_count": 2,
   "metadata": {},
   "outputs": [
    {
     "name": "stdout",
     "output_type": "stream",
     "text": [
      "J\n",
      "i\n",
      "m\n",
      "m\n",
      "y\n"
     ]
    }
   ],
   "source": [
    "name = 'Jimmy'\n",
    "\n",
    "for letter in name:\n",
    "    print(letter)"
   ]
  },
  {
   "cell_type": "markdown",
   "metadata": {},
   "source": [
    "You can also use list indexing notation to limit iteration to a certain portion of an iterable."
   ]
  },
  {
   "cell_type": "code",
   "execution_count": 12,
   "metadata": {},
   "outputs": [
    {
     "name": "stdout",
     "output_type": "stream",
     "text": [
      "J\n",
      "i\n",
      "m\n"
     ]
    }
   ],
   "source": [
    "name = 'Jimmy'\n",
    "\n",
    "for letter in name[0:3]:\n",
    "    print(letter)"
   ]
  },
  {
   "cell_type": "markdown",
   "metadata": {},
   "source": [
    "Iterables have a length, and you can find this length using the `len` function."
   ]
  },
  {
   "cell_type": "code",
   "execution_count": 6,
   "metadata": {},
   "outputs": [
    {
     "name": "stdout",
     "output_type": "stream",
     "text": [
      "Length of Jimmy is 5\n"
     ]
    }
   ],
   "source": [
    "print(\"Length of\", name, \"is\", len(name))"
   ]
  },
  {
   "cell_type": "markdown",
   "metadata": {},
   "source": [
    "The `enumerate` function assigns an index (or counter) to each value of an iterable. It returns a tuple of (counter, value) that can be useful in for loops. For example, here we assign the index to the variable `n` and the value of the iterable to `letter`:"
   ]
  },
  {
   "cell_type": "code",
   "execution_count": 7,
   "metadata": {},
   "outputs": [
    {
     "name": "stdout",
     "output_type": "stream",
     "text": [
      "Letter 0 - J\n",
      "Letter 1 - i\n",
      "Letter 2 - m\n",
      "Letter 3 - m\n",
      "Letter 4 - y\n"
     ]
    }
   ],
   "source": [
    "for n, letter in enumerate(name):\n",
    "    print(\"Letter\", n, \"-\", letter)"
   ]
  },
  {
   "cell_type": "markdown",
   "metadata": {},
   "source": [
    "The `zip` function can be used to loop through two iterables simultaneously (like two sides of a zipper). Here, we use `zip` to iterate through two strings that have the same length"
   ]
  },
  {
   "cell_type": "code",
   "execution_count": 7,
   "metadata": {},
   "outputs": [
    {
     "name": "stdout",
     "output_type": "stream",
     "text": [
      "J H\n",
      "i e\n",
      "m a\n",
      "m t\n",
      "y h\n"
     ]
    }
   ],
   "source": [
    "for letter1, letter2 in zip(\"Jimmy\", \"Heath\"):\n",
    "    print(letter1, letter2)"
   ]
  },
  {
   "cell_type": "markdown",
   "metadata": {},
   "source": [
    "The `range` function is used to construct an iterable corresponding to a set of numbers beginning at 0 and ending at a certain number:"
   ]
  },
  {
   "cell_type": "code",
   "execution_count": 4,
   "metadata": {},
   "outputs": [
    {
     "name": "stdout",
     "output_type": "stream",
     "text": [
      "0\n",
      "1\n",
      "2\n",
      "3\n",
      "4\n",
      "5\n"
     ]
    }
   ],
   "source": [
    "for number in range(6):\n",
    "    print(number)"
   ]
  },
  {
   "cell_type": "markdown",
   "metadata": {},
   "source": [
    "`range` can take multiple arguments, where the first argument is interpreted as the beginning of the range.\n",
    "\n",
    "In the example below, we combine a `for` loop with an `if` statement to print only the even numbers. This makes use of the modulo `%` operator we covered in the Variables lesson."
   ]
  },
  {
   "cell_type": "code",
   "execution_count": 10,
   "metadata": {},
   "outputs": [
    {
     "name": "stdout",
     "output_type": "stream",
     "text": [
      "2 is even\n",
      "4 is even\n",
      "6 is even\n",
      "8 is even\n"
     ]
    }
   ],
   "source": [
    "for number in range(2, 10):\n",
    "    if number % 2 == 0:\n",
    "        print(number, \"is even\")"
   ]
  },
  {
   "cell_type": "markdown",
   "metadata": {},
   "source": [
    "The `break` statement is used to stop iterating through an iterable if some condition is met. Here, we will end our loop as soon as we encouter the number 6:"
   ]
  },
  {
   "cell_type": "code",
   "execution_count": 15,
   "metadata": {},
   "outputs": [
    {
     "name": "stdout",
     "output_type": "stream",
     "text": [
      "2\n",
      "3\n",
      "4\n",
      "5\n"
     ]
    }
   ],
   "source": [
    "for number in range(2, 10):\n",
    "    if number == 6:\n",
    "        break\n",
    "    else:\n",
    "        print(number)"
   ]
  },
  {
   "cell_type": "markdown",
   "metadata": {},
   "source": [
    "A common use of `for` loops is to keep track of a running total of numbers. In this pattern, it's important to declare the variable that you're adding to *outside* the scope of the for loop. \n",
    "\n",
    "The example below makes use of the \"in place addition\" `+=` operator, which says \"add the value on the right of the operator to the value of the variable on the left\". So `x += 5` means \"add 5 to the current value of variable `x`. Python has similar \"in place\" operators for several other operations, including `-=`, `*=`, and `/=` for subtraction, multiplication, and division, respectively."
   ]
  },
  {
   "cell_type": "code",
   "execution_count": 11,
   "metadata": {},
   "outputs": [
    {
     "name": "stdout",
     "output_type": "stream",
     "text": [
      "Sum of numbers from 0 to 5 is 15\n"
     ]
    }
   ],
   "source": [
    "my_sum = 0\n",
    "\n",
    "for number in range(6):\n",
    "    my_sum += number\n",
    "print(\"Sum of numbers from 0 to 5 is\", my_sum)"
   ]
  }
 ],
 "metadata": {
  "kernelspec": {
   "display_name": "Python 3",
   "language": "python",
   "name": "python3"
  },
  "language_info": {
   "codemirror_mode": {
    "name": "ipython",
    "version": 3
   },
   "file_extension": ".py",
   "mimetype": "text/x-python",
   "name": "python",
   "nbconvert_exporter": "python",
   "pygments_lexer": "ipython3",
   "version": "3.8.1"
  },
  "widgets": {
   "application/vnd.jupyter.widget-state+json": {
    "state": {},
    "version_major": 2,
    "version_minor": 0
   }
  }
 },
 "nbformat": 4,
 "nbformat_minor": 4
}
