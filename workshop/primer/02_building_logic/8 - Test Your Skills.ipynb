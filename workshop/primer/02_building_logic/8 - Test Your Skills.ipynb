{
 "cells": [
  {
   "cell_type": "markdown",
   "metadata": {},
   "source": [
    "# Lesson 8: Test your Skills"
   ]
  },
  {
   "cell_type": "markdown",
   "metadata": {},
   "source": [
    "## Now it's time to put your skills to the test!\n",
    "* Exercise:"
   ]
  },
  {
   "cell_type": "code",
   "execution_count": 1,
   "metadata": {},
   "outputs": [],
   "source": [
    "from pymatgen.core import Element, Composition"
   ]
  },
  {
   "cell_type": "code",
   "execution_count": 2,
   "metadata": {},
   "outputs": [],
   "source": [
    "import numpy as np"
   ]
  },
  {
   "cell_type": "code",
   "execution_count": 3,
   "metadata": {},
   "outputs": [],
   "source": [
    "import os\n",
    "from monty.serialization import loadfn\n",
    "\n",
    "data_dir = \"./data/\"\n",
    "\n",
    "crystals = loadfn(os.path.join(data_dir, \"crystals.json\"))\n",
    "atomic_numbers = loadfn(os.path.join(data_dir, \"atomic_numbers.json\"))\n",
    "atomic_weights = loadfn(os.path.join(data_dir, \"atomic_weights.json\"))\n",
    "\n",
    "element_names = loadfn(os.path.join(data_dir, \"element_names.json\"))\n",
    "mass_frac_earth_crust = loadfn(os.path.join(data_dir, \"mass_frac_earth_crust.json\"))\n",
    "discovery_dict = loadfn(os.path.join(data_dir, \"discoveries.json\"))"
   ]
  },
  {
   "cell_type": "code",
   "execution_count": 4,
   "metadata": {},
   "outputs": [
    {
     "name": "stdout",
     "output_type": "stream",
     "text": [
      "Silver\n",
      "Ag\n"
     ]
    }
   ],
   "source": [
    "print(element_names[\"Ag\"])\n",
    "\n",
    "element_symbols = {v: k for k, v in element_names.items()}\n",
    "print(element_symbols[\"Silver\"])"
   ]
  },
  {
   "cell_type": "code",
   "execution_count": 5,
   "metadata": {},
   "outputs": [],
   "source": [
    "def my_element_discoverer(elements:list=[], discoverers:list=[], prior_to:int=2020):\n",
    "    \n",
    "    #all_elements = [Element(elem) for elem in elements]\n",
    "    all_elements = []\n",
    "    \n",
    "    for elem in elements:\n",
    "        element_name = element_names[elem]\n",
    "        if discovery_dict[element_name]['year'] != '?':\n",
    "            year_discovered = int(discovery_dict[element_name]['year'])\n",
    "        else:\n",
    "            year_discovered = -2000\n",
    "        #print(year_discovered)\n",
    "            \n",
    "        if year_discovered < prior_to:\n",
    "            elem = Element(elem)\n",
    "            all_elements.append(elem)\n",
    "    \n",
    "    # loop through discoverers to find which elements they discovered\n",
    "    # and then add them to your list\n",
    "    for discoverer in discoverers:\n",
    "        for element_name in discovery_dict:\n",
    "            \n",
    "            if discovery_dict[element_name]['year'] != '?':\n",
    "                year_discovered = int(discovery_dict[element_name]['year'])\n",
    "            else:\n",
    "                year_discovered = -2000\n",
    "            #print(year_discovered)\n",
    "            \n",
    "            for name in discovery_dict[element_name]['discovered_by']:\n",
    "                if discoverer in name and year_discovered < prior_to:\n",
    "                    elem = Element(element_symbols[element_name])\n",
    "                    all_elements.append(elem)\n",
    "    \n",
    "    # use set() to convert your list into a unique set\n",
    "    # then recast as a list()\n",
    "    all_elements = list(set(all_elements))\n",
    "    \n",
    "    return all_elements\n"
   ]
  },
  {
   "cell_type": "code",
   "execution_count": 6,
   "metadata": {},
   "outputs": [
    {
     "name": "stdout",
     "output_type": "stream",
     "text": [
      "[Element Rf, Element Db, Element Bh, Element Fl, Element Po, Element Lv, Element Ra, Element Ni]\n"
     ]
    }
   ],
   "source": [
    "my_elements = my_element_discoverer(elements=[\"Ni\", \"Po\"], \n",
    "                                    discoverers=[\"Curie\", \"Russia\", \"Berkeley\"], \n",
    "                                    prior_to=2020)\n",
    "print(my_elements)"
   ]
  },
  {
   "cell_type": "code",
   "execution_count": 7,
   "metadata": {},
   "outputs": [],
   "source": [
    "def compute_molar_weight(crystal):\n",
    "    comp = Composition(crystal[\"pretty_formula\"])                                                                                          \n",
    "    atomic_fractions = [comp.get_atomic_fraction(Element(elem)) for elem in crystal['elements']]\n",
    "    #print(np.sum(atomic_fractions))\n",
    "    \n",
    "    weights = [atomic_weights[elem] for elem in crystal['elements']]\n",
    "    \n",
    "    molar_weight = 0.0\n",
    "    for elem,frac,weight in zip(crystal[\"elements\"], atomic_fractions, weights):\n",
    "        molar_weight += frac*weight\n",
    "    \n",
    "    return molar_weight\n",
    "\n",
    "def compute_abundance_metric(crystal):\n",
    "    comp = Composition(crystal[\"pretty_formula\"])                                                                                          \n",
    "    molar_weight = compute_molar_weight(crystal)\n",
    "    mass_fractions = [comp.get_atomic_fraction(Element(elem))*(atomic_weights[elem]/molar_weight) \n",
    "                      for elem in crystal['elements']]\n",
    "    #print(np.sum(mass_fractions))\n",
    "    \n",
    "    abundances = [mass_frac_earth_crust[elem] for elem in crystal['elements']]\n",
    "    \n",
    "    abundance_metric = 1.0\n",
    "    for elem,frac,abundance in zip(crystal[\"elements\"], mass_fractions, abundances):\n",
    "        abundance_metric *= (100*abundance)**frac\n",
    "    \n",
    "    return abundance_metric"
   ]
  },
  {
   "cell_type": "code",
   "execution_count": 8,
   "metadata": {},
   "outputs": [],
   "source": [
    "def get_crystals_from_elements(elements:list, crystals:list, sort_scheme:int=0, query_limit:int=None):\n",
    "    \n",
    "    crystals_matched = []\n",
    "    for i,crystal in enumerate(crystals):\n",
    "        \n",
    "        if query_limit:\n",
    "            if i >= query_limit:\n",
    "                break\n",
    "        \n",
    "        crystal_elems = [Element(elem) for elem in crystal['elements']]\n",
    "        intersection = set(elements) & set(crystal_elems)\n",
    "        if set(elements) == intersection:\n",
    "            crystals_matched.append(crystal)\n",
    "    \n",
    "    #print(crystals_matched)\n",
    "    \n",
    "    if sort_scheme == 0:\n",
    "        sort_key = \"Molar weight (g / mol / # atoms per formula unit)\"\n",
    "        sortable_values = [compute_molar_weight(crystal) for crystal in crystals_matched]\n",
    "    elif sort_scheme == 1:\n",
    "        sort_key = \"Abundance metric (kg/kg)\"\n",
    "        sortable_values = [compute_abundance_metric(crystal) for crystal in crystals_matched]\n",
    "    else:\n",
    "        sortable_values = []\n",
    "        print(\"Warning: Invalid sort scheme!\")\n",
    "        return [], [], \"\"\n",
    "    \n",
    "    if sortable_values:\n",
    "        #print(sortable_values)\n",
    "        \n",
    "        #reverse to descending order\n",
    "        value_map = [{\"value\":v, \"crystal\":c} for v,c in zip(sortable_values, crystals_matched)]\n",
    "        value_map = sorted(value_map, key=lambda x: x[\"value\"], reverse=True)\n",
    "        #print(value_map)\n",
    "        \n",
    "        #sortable_values, crystals_matched = zip(*sorted(zip(sortable_values, crystals_matched), reverse=True))\n",
    "        \n",
    "        # extract desired values after sorting\n",
    "        sortable_values = [x['value'] for x in value_map]\n",
    "        crystals_matched = [x['crystal'] for x in value_map]\n",
    "        \n",
    "        #print(sortable_values)\n",
    "        \n",
    "    return crystals_matched, sortable_values, sort_key"
   ]
  },
  {
   "cell_type": "code",
   "execution_count": 9,
   "metadata": {},
   "outputs": [],
   "source": [
    "# import json\n",
    "# with open('./data/element_names.json', 'w') as fp:\n",
    "#     json.dump(element_names, fp)"
   ]
  },
  {
   "cell_type": "code",
   "execution_count": 32,
   "metadata": {},
   "outputs": [
    {
     "name": "stdout",
     "output_type": "stream",
     "text": [
      "Number of crystals found:  445\n"
     ]
    }
   ],
   "source": [
    "crystals_truncated = crystals[0:]\n",
    "\n",
    "elements = [Element(elem) for elem in ['Ca','O']]\n",
    "#elements = [Element(elem) for elem in ['C']]\n",
    "crystals_matched, sorted_values, sort_key = get_crystals_from_elements(elements, crystals_truncated, sort_scheme=1)\n",
    "\n",
    "formulas = [crystal['pretty_formula'] for crystal in crystals_matched]\n",
    "\n",
    "print(\"Number of crystals found: \", len(crystals_matched))\n",
    "#print(formulas)"
   ]
  },
  {
   "cell_type": "code",
   "execution_count": 33,
   "metadata": {},
   "outputs": [],
   "source": [
    "# print(len(crystals))\n",
    "\n",
    "# comp = Composition(crystals[0][\"pretty_formula\"])                                                                                          \n",
    "# print(comp.get_atomic_fraction(Element(\"Ca\")))\n",
    "\n",
    "# print(compute_molar_weight(crystals[0]))\n",
    "# print(compute_abundance_metric(crystals[0]))"
   ]
  },
  {
   "cell_type": "code",
   "execution_count": 34,
   "metadata": {},
   "outputs": [
    {
     "data": {
      "image/png": "[encoded data removed]",
      "text/plain": [
       "<Figure size 432x288 with 1 Axes>"
      ]
     },
     "metadata": {
      "needs_background": "light"
     },
     "output_type": "display_data"
    }
   ],
   "source": [
    "import matplotlib.pyplot as plt\n",
    "\n",
    "number_of_bins = 20\n",
    "plt.hist(sorted_values, number_of_bins)\n",
    "plt.ylabel('Counts')\n",
    "plt.xlabel(sort_key)\n",
    "plt.show()"
   ]
  },
  {
   "cell_type": "code",
   "execution_count": null,
   "metadata": {},
   "outputs": [],
   "source": []
  }
 ],
 "metadata": {
  "kernelspec": {
   "display_name": "Python 3",
   "language": "python",
   "name": "python3"
  },
  "language_info": {
   "codemirror_mode": {
    "name": "ipython",
    "version": 3
   },
   "file_extension": ".py",
   "mimetype": "text/x-python",
   "name": "python",
   "nbconvert_exporter": "python",
   "pygments_lexer": "ipython3",
   "version": "3.7.4"
  }
 },
 "nbformat": 4,
 "nbformat_minor": 2
}
