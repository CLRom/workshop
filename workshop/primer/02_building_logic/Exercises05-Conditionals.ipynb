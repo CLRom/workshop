{
 "cells": [
  {
   "cell_type": "markdown",
   "metadata": {},
   "source": [
    "# Exercises 5: Conditionals"
   ]
  },
  {
   "cell_type": "markdown",
   "metadata": {},
   "source": [
    "### Exercise:\n",
    "\n",
    "Write a Python program to convert temperatures to and from celsius, fahrenheit.\n",
    "\n",
    "Formula : c/5 = f-32/9 (where c = temperature in celsius and f = temperature in fahrenheit )\n",
    "\n",
    "Expected Output : \n",
    "\n",
    "60°C is 140 in Fahrenheit\n",
    "\n",
    "45°F is 7 in Celsius "
   ]
  },
  {
   "cell_type": "code",
   "execution_count": 15,
   "metadata": {},
   "outputs": [
    {
     "name": "stdout",
     "output_type": "stream",
     "text": [
      "Input the  temperature you like to convert? (e.g., 45F, 102C etc.) : 100C\n",
      "The temperature in Fahrenheit is 212 degrees.\n"
     ]
    }
   ],
   "source": [
    "# gather input from the user\n",
    "temp = input(\"Input the  temperature you like to convert? (e.g., 45F, 102C etc.) : \")\n",
    "\n",
    "# parse the string of input from the user\n",
    "degree = int(temp[:-1])\n",
    "i_convention = temp[-1]\n",
    "\n",
    "if i_convention.upper() == __:\n",
    "  result = int(round((9 * degree) / 5 + 32))\n",
    "  o_convention = \"Fahrenheit\"\n",
    "elif i_convention.upper() == __:\n",
    "  result = int(round((degree - 32) * 5 / 9))\n",
    "  o_convention = \"Celsius\"\n",
    "else:\n",
    "  print(\"Input proper convention.\")\n",
    "  quit()\n",
    "print(\"The temperature in\", o_convention, \"is\", result, \"degrees.\")\n"
   ]
  },
  {
   "cell_type": "markdown",
   "metadata": {},
   "source": [
    "### Exercise:\n",
    "\n",
    "Who discovered your favorite elements?\n",
    "\n",
    "Let's write a simple test to see which elements were discovered by discoverer \"A,\" discoverer \"B,\" and both."
   ]
  },
  {
   "cell_type": "code",
   "execution_count": 39,
   "metadata": {},
   "outputs": [],
   "source": [
    "import os\n",
    "from monty.serialization import loadfn"
   ]
  },
  {
   "cell_type": "code",
   "execution_count": 40,
   "metadata": {},
   "outputs": [],
   "source": [
    "data_dir = \"./data/\"\n",
    "\n",
    "# Dictionary of elements, with those who discovered them \n",
    "# and the year they were discovered \n",
    "# (sources: https://en.wikipedia.org/wiki/Timeline_of_chemical_element_discoveries,\n",
    "#  https://education.jlab.org/qa/discover_ele.html)\n",
    "discovery_dict = loadfn(os.path.join(data_dir, \"discoveries.json\"))"
   ]
  },
  {
   "cell_type": "code",
   "execution_count": 41,
   "metadata": {},
   "outputs": [],
   "source": [
    "from pymatgen.core import Element"
   ]
  },
  {
   "cell_type": "code",
   "execution_count": 48,
   "metadata": {},
   "outputs": [
    {
     "name": "stdout",
     "output_type": "stream",
     "text": [
      "For  Bohrium , B is true!\n",
      "For  Dubnium , A and B is true!\n",
      "For  Flerovium , B is true!\n",
      "For  Livermorium , B is true!\n",
      "For  Rutherfordium , B is true!\n"
     ]
    }
   ],
   "source": [
    "# The discoverers we want to explore...\n",
    "discover0 = \"Berkeley\"\n",
    "#discover0 = \"Ghiorso\"\n",
    "\n",
    "discover1 = \"Russia\"\n",
    "\n",
    "# Loop through discoverers to find which elements they discovered\n",
    "for element_name in discovery_dict:\n",
    "    \n",
    "    names = discovery_dict[element_name]['discovered_by']\n",
    "    \n",
    "    A, B = __, __\n",
    "    for name in names:\n",
    "        if discover0 in name:\n",
    "            A = __\n",
    "        \n",
    "        if discover1 in name:\n",
    "            B = __\n",
    "\n",
    "    if __ and __:\n",
    "        print(\"For \", element_name, \", A and B is true!\")\n",
    "    elif __:\n",
    "        print(\"For \", element_name, \", A is true!\")\n",
    "    elif __:\n",
    "        print(\"For \", element_name, \", B is true!\")"
   ]
  },
  {
   "cell_type": "code",
   "execution_count": null,
   "metadata": {},
   "outputs": [],
   "source": []
  }
 ],
 "metadata": {
  "kernelspec": {
   "display_name": "Python 3",
   "language": "python",
   "name": "python3"
  },
  "language_info": {
   "codemirror_mode": {
    "name": "ipython",
    "version": 3
   },
   "file_extension": ".py",
   "mimetype": "text/x-python",
   "name": "python",
   "nbconvert_exporter": "python",
   "pygments_lexer": "ipython3",
   "version": "3.7.4"
  }
 },
 "nbformat": 4,
 "nbformat_minor": 2
}
