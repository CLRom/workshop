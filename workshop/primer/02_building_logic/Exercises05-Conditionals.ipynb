{
 "cells": [
  {
   "cell_type": "markdown",
   "metadata": {},
   "source": [
    "# Exercises 5: Conditionals"
   ]
  },
  {
   "cell_type": "markdown",
   "metadata": {},
   "source": [
    "### Exercise:\n",
    "\n",
    "Write a Python program to convert temperatures to and from celsius, fahrenheit.\n",
    "\n",
    "Formula : c/5 = f-32/9 (where c = temperature in celsius and f = temperature in fahrenheit )\n",
    "\n",
    "Expected Output : \n",
    "\n",
    "60°C is 140 in Fahrenheit\n",
    "\n",
    "45°F is 7 in Celsius "
   ]
  },
  {
   "cell_type": "code",
   "execution_count": 15,
   "metadata": {},
   "outputs": [
    {
     "name": "stdout",
     "output_type": "stream",
     "text": [
      "Input the  temperature you like to convert? (e.g., 45F, 102C etc.) : 100C\n",
      "The temperature in Fahrenheit is 212 degrees.\n"
     ]
    }
   ],
   "source": [
    "# gather input from the user\n",
    "temp = input(\"Input the  temperature you like to convert? (e.g., 45F, 102C etc.) : \")\n",
    "\n",
    "# parse the string of input from the user\n",
    "degree = int(temp[:-1])\n",
    "i_convention = temp[-1]\n",
    "\n",
    "if i_convention.upper() == __:\n",
    "  result = int(round((9 * degree) / 5 + 32))\n",
    "  o_convention = \"Fahrenheit\"\n",
    "elif i_convention.upper() == __:\n",
    "  result = int(round((degree - 32) * 5 / 9))\n",
    "  o_convention = \"Celsius\"\n",
    "else:\n",
    "  print(\"Input proper convention.\")\n",
    "  quit()\n",
    "print(\"The temperature in\", o_convention, \"is\", result, \"degrees.\")\n"
   ]
  }
 ],
 "metadata": {
  "kernelspec": {
   "display_name": "Python 3",
   "language": "python",
   "name": "python3"
  },
  "language_info": {
   "codemirror_mode": {
    "name": "ipython",
    "version": 3
   },
   "file_extension": ".py",
   "mimetype": "text/x-python",
   "name": "python",
   "nbconvert_exporter": "python",
   "pygments_lexer": "ipython3",
   "version": "3.7.4"
  }
 },
 "nbformat": 4,
 "nbformat_minor": 2
}
