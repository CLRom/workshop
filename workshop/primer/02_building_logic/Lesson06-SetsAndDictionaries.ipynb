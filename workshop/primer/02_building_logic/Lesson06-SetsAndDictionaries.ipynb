{
 "cells": [
  {
   "cell_type": "markdown",
   "metadata": {},
   "source": [
    "# Lesson 6: Sets and Dictionaries"
   ]
  },
  {
   "cell_type": "markdown",
   "metadata": {},
   "source": [
    "## Use a set to store unique values\n",
    "* Possible to initialize a `set` with `{...}`\n",
    "* But must use `set()` to create an empty set"
   ]
  },
  {
   "cell_type": "code",
   "execution_count": null,
   "metadata": {},
   "outputs": [],
   "source": [
    "primes = {2, 3, 5, 7}\n",
    "print('is 3 prime?', 3 in primes)\n",
    "print('is 9 prime?', 9 in primes)"
   ]
  },
  {
   "cell_type": "markdown",
   "metadata": {},
   "source": [
    "* Intersection, union, etc."
   ]
  },
  {
   "cell_type": "code",
   "execution_count": null,
   "metadata": {},
   "outputs": [],
   "source": [
    "odds = {3, 5, 7, 9}\n",
    "print('intersection', odds & primes)\n",
    "print('union', odds | primes)"
   ]
  },
  {
   "cell_type": "markdown",
   "metadata": {},
   "source": [
    "## Sets are mutable\n",
    "* But only store *unique* values"
   ]
  },
  {
   "cell_type": "code",
   "execution_count": null,
   "metadata": {},
   "outputs": [],
   "source": [
    "primes.add(11)\n",
    "print('primes becomes', primes)\n",
    "primes.discard(7)\n",
    "print('after removal', primes)\n",
    "primes.add(11)\n",
    "print('after adding 11 again', primes)"
   ]
  },
  {
   "cell_type": "markdown",
   "metadata": {},
   "source": [
    "## Sets are unordered\n",
    "* Values are stored by *hashing*, which is intentionally as random as possible"
   ]
  },
  {
   "cell_type": "code",
   "execution_count": null,
   "metadata": {},
   "outputs": [],
   "source": [
    "names = {'Hopper', 'Cori', 'Kohn'}\n",
    "for n in names:\n",
    "    print(n)"
   ]
  },
  {
   "cell_type": "markdown",
   "metadata": {},
   "source": [
    "## Use a dictionary to store key/value pairs\n",
    "Equivalently, store extra information with elements of a set."
   ]
  },
  {
   "cell_type": "code",
   "execution_count": null,
   "metadata": {},
   "outputs": [],
   "source": [
    "birthdays = {'Hopper': 1906, 'Cori': 1896}\n",
    "print(birthdays['Hopper'])\n",
    "birthdays['Kohn'] = 1823 # oops\n",
    "birthdays['Kohn'] = 1923 # that's better\n",
    "print(birthdays)"
   ]
  },
  {
   "cell_type": "markdown",
   "metadata": {},
   "source": [
    "* Just an accident that keys are in order of when entered.\n",
    "* Like sets, dictionaries store keys by hashing, which is as random as possible"
   ]
  },
  {
   "cell_type": "markdown",
   "metadata": {},
   "source": [
    "## Set values and dictionary keys must be immutable\n",
    "* Changing them after insertion would leave data in the wrong place\n",
    "* Use a `tuple` for multi-valued keys"
   ]
  },
  {
   "cell_type": "code",
   "execution_count": null,
   "metadata": {},
   "outputs": [],
   "source": [
    "people = {('Grace', 'Hopper'): 1906, ('Gerty', 'Cory'): 1896, ('Walter', 'Kohn'): 1923}"
   ]
  },
  {
   "cell_type": "markdown",
   "metadata": {},
   "source": [
    "You can *destructure* a tuple in the heading of a for loop:"
   ]
  },
  {
   "cell_type": "code",
   "execution_count": null,
   "metadata": {},
   "outputs": [],
   "source": [
    "for (first, last) in people:\n",
    "    print(first,'was born in', people[(first, last)])"
   ]
  }
 ],
 "metadata": {
  "kernelspec": {
   "display_name": "Python 3",
   "language": "python",
   "name": "python3"
  },
  "language_info": {
   "codemirror_mode": {
    "name": "ipython",
    "version": 3
   },
   "file_extension": ".py",
   "mimetype": "text/x-python",
   "name": "python",
   "nbconvert_exporter": "python",
   "pygments_lexer": "ipython3",
   "version": "3.7.4"
  }
 },
 "nbformat": 4,
 "nbformat_minor": 2
}
