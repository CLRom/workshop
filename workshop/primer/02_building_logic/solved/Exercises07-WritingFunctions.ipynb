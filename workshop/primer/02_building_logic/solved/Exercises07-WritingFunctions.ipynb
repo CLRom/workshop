{
 "cells": [
  {
   "cell_type": "markdown",
   "metadata": {},
   "source": [
    "# Exercises 7: Writing Functions"
   ]
  },
  {
   "cell_type": "markdown",
   "metadata": {},
   "source": [
    "## Exercise: Find the first\n",
    "Fill in the blanks to create a function that takes a list of numbers as an argument and returns the first negative value in the list. What does your function do if the list is empty?"
   ]
  },
  {
   "cell_type": "code",
   "execution_count": null,
   "metadata": {},
   "outputs": [],
   "source": [
    "def first_negative(values):\n",
    "    for v in values:\n",
    "        if v < 0:\n",
    "            return v"
   ]
  },
  {
   "cell_type": "markdown",
   "metadata": {},
   "source": [
    "## Exercise : Running sum\n",
    "Write a function that calculates the running sum of any number of input arguments, returning the result as a list. For example:\n",
    "\n",
    "* running(1, 2) => [1, 3]\n",
    "* running(-5, 2, 7) => [-5, -3, 4]\n",
    "\n",
    "What should running() return, and why?"
   ]
  },
  {
   "cell_type": "markdown",
   "metadata": {},
   "source": [
    "## Exercise: How's your phase-change memory?\n",
    "A chalcogenide is a chemical compound consisting of at least one chalcogen anion (commonly restricted to ‘S’, ‘Se’, or ‘Te’) and at least one more electropositive element. Generalize the `halide` function below as `compound_class`, a function that takes a crystal and function as parameters and returns whether or not the compound is of that class."
   ]
  },
  {
   "cell_type": "code",
   "execution_count": null,
   "metadata": {},
   "outputs": [],
   "source": [
    "# %load code/phase_change_memory.py\n",
    "import random\n",
    "\n",
    "from pymatgen import Element\n",
    "\n",
    "import os\n",
    "from monty.serialization import loadfn\n",
    "\n",
    "data_dir = \"../data/\"\n",
    "crystals = loadfn(os.path.join(data_dir, \"crystals.json\"))\n",
    "\n",
    "\n",
    "def halogen(element):\n",
    "    return element.is_halogen\n",
    "\n",
    "\n",
    "def halide(crystal):\n",
    "    elts = [Element(s) for s in crystal['elements']]\n",
    "    anion = sorted(elts)[-1] # sorts by electronegativity\n",
    "    return halogen(anion)\n",
    "\n",
    "\n",
    "def chalcogen(element):\n",
    "    return element.is_chalogen\n",
    "\n",
    "\n",
    "def compound_class(crystal, predicate):\n",
    "    elts = [Element(s) for s in crystal['elements']]\n",
    "    anion = sorted(elts)[-1] # sorts by electronegativity\n",
    "    return predicate(anion)\n",
    "\n",
    "my_crystal = random.sample(\n",
    "    [c for c in crystals if halide(c)], 1)[0]\n",
    "\n",
    "print(compound_class(my_crystal, halogen)\n",
    "      == halide(my_crystal))"
   ]
  },
  {
   "cell_type": "code",
   "execution_count": null,
   "metadata": {},
   "outputs": [],
   "source": []
  }
 ],
 "metadata": {
  "kernelspec": {
   "display_name": "Python 3",
   "language": "python",
   "name": "python3"
  },
  "language_info": {
   "codemirror_mode": {
    "name": "ipython",
    "version": 3
   },
   "file_extension": ".py",
   "mimetype": "text/x-python",
   "name": "python",
   "nbconvert_exporter": "python",
   "pygments_lexer": "ipython3",
   "version": "3.7.4"
  }
 },
 "nbformat": 4,
 "nbformat_minor": 2
}
