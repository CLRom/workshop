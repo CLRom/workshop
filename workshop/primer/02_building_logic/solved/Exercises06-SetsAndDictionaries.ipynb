{
 "cells": [
  {
   "cell_type": "markdown",
   "metadata": {},
   "source": [
    "# Exercises 6: Sets and Dictionaries"
   ]
  },
  {
   "cell_type": "markdown",
   "metadata": {},
   "source": [
    "## Exercise: create a histogram"
   ]
  },
  {
   "cell_type": "code",
   "execution_count": 1,
   "metadata": {},
   "outputs": [],
   "source": [
    "numbers = [1, 0, 1, 2, 0, 0, 1, 2, 1, 3, 1, 0, 2]\n",
    "count = {}\n",
    "for n in numbers:\n",
    "    if n not in count:\n",
    "        count[n] = 1\n",
    "    else:\n",
    "        count[n] = count[n] + 1\n",
    "print(count)"
   ]
  },
  {
   "cell_type": "markdown",
   "metadata": {},
   "source": [
    "Reminder: there are lots of useful Python libraries, especially the \"standard library\" that comes with Python:"
   ]
  },
  {
   "cell_type": "code",
   "execution_count": 2,
   "metadata": {},
   "outputs": [],
   "source": [
    "from collections import Counter\n",
    "\n",
    "print(Counter(numbers))\n",
    "print(dict(Counter(numbers)))"
   ]
  },
  {
   "cell_type": "markdown",
   "metadata": {},
   "source": [
    "## Exercise: How heavy is this molecule?\n",
    "You are given two things:\n",
    "\n",
    "1. a dictionary mapping atomic symbols to atomic weights (`mp_workshop.data.atomic_weights`), and\n",
    "2. a list of (atomic_symbol, count) pairs for a molecule.\n",
    "\n",
    "```python\n",
    "# Example molecules:\n",
    "methane = [('C', 1), ('H', 4)]\n",
    "aminothiazole = [('C', 3), ('H', 4), ('N', 2), ('S', 1)]\n",
    "```\n",
    "\n",
    "Print that molecule's molecular weight.\n"
   ]
  },
  {
   "cell_type": "code",
   "execution_count": 3,
   "metadata": {},
   "outputs": [
    {
     "name": "stdout",
     "output_type": "stream",
     "text": [
      "16.04246\n"
     ]
    }
   ],
   "source": [
    "import os\n",
    "from monty.serialization import loadfn\n",
    "\n",
    "data_dir = \"../data/\"\n",
    "atomic_weights = loadfn(os.path.join(data_dir, \"atomic_weights.json\"))\n",
    "\n",
    "# atomic weight is 16.0423\n",
    "methane = [('C', 1), ('H', 4)]\n",
    "# atomic weight is 100.1421\n",
    "aminothiazole = [('C', 3), ('H', 4), ('N', 2), ('S', 1)]\n",
    "\n",
    "# 2. Pick a molecule to test\n",
    "molecule = methane\n",
    "\n",
    "# 3. Do stuff to calculate `mol_weight`\n",
    "\n",
    "mol_weight = 0.0\n",
    "for specie, number in methane:\n",
    "    mol_weight += number * atomic_weights[specie]\n",
    "\n",
    "print(mol_weight)\n"
   ]
  },
  {
   "cell_type": "code",
   "execution_count": null,
   "metadata": {},
   "outputs": [],
   "source": []
  }
 ],
 "metadata": {
  "kernelspec": {
   "display_name": "Python 3",
   "language": "python",
   "name": "python3"
  },
  "language_info": {
   "codemirror_mode": {
    "name": "ipython",
    "version": 3
   },
   "file_extension": ".py",
   "mimetype": "text/x-python",
   "name": "python",
   "nbconvert_exporter": "python",
   "pygments_lexer": "ipython3",
   "version": "3.7.4"
  }
 },
 "nbformat": 4,
 "nbformat_minor": 2
}
