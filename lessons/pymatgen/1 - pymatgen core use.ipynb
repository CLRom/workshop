{
 "cells": [
  {
   "cell_type": "markdown",
   "metadata": {},
   "source": [
    "### Materials Project Workshop – August 8–10 2018, Berkeley, California\n",
    "#### Link to notebook: [http://workshop.materialsproject.org/pymatgen/core/pymatgen_core.ipynb](http://workshop.materialsproject.org/pymatgen/core/pymatgen_core.ipynb)"
   ]
  },
  {
   "cell_type": "markdown",
   "metadata": {},
   "source": [
    "![pymatgen logo](http://pymatgen.org/_images/pymatgen.png)\n",
    "\n",
    "# 0. What is pymatgen?\n",
    "\n",
    "Pymatgen (Python Materials Genomics) is the code that powers all of the scientific analysis behind the Materials Project.  It includes a robust and efficient libraries for the handling of crystallographic structures and molecules, in addition to various mathematical and scientific tools for the handling and generation of materials data.\n",
    "\n",
    "## 0.0 Core functionality\n",
    "\n",
    "Here are a few things you can do with pymatgen:\n",
    "\n",
    "- Create, identify, and manipulate crystal structures and molecules\n",
    "- Write input and output files for most electronic structure codes\n",
    "- Analyze density of states, bandstructures, X-ray diffraction spectra\n",
    "- Perform tensor-based analysis, including elastic and piezoelectric tensors\n",
    "- Characterize the local chemical environment of structural sites\n",
    "- Create pourbaix diagrams and phase diagrams\n",
    "- Match crystal structures to each other and perform symmetry analysis\n",
    "- Match substrates based on geometry and elastic behavior\n",
    "- Create and manipulate surfaces\n",
    "- Do unit conversions\n",
    "- Get basic information about chemical identity\n",
    "- Includes a wide variety of other analysis tools, including estimating the cost of a material based on chemical abundance, or its geographical distribution of elements\n",
    "\n",
    "\n",
    "## 0.1 How do I install pymatgen?\n",
    "\n",
    "For the workshop, pymatgen has been pre-installed for use in your Jupyter notebooks.\n",
    "\n",
    "Otherwise, pymatgen can be installed via pip:\n",
    "\n",
    "`pip install pymatgen`\n",
    "\n",
    "or conda:\n",
    "\n",
    "`conda install --channel matsci pymatgen`\n",
    "\n",
    "We recommend using Python 3.6 or above. Until 2018, pymatgen was developed simultaneously for Python 2.x and 3.x, but following the rest of the Python community we are phasing out support for Python 2.x, and will be developing exclusively for Python 3.x from version 2019.1.1.\n",
    "\n",
    "\n",
    "## 0.2 Where can I find help and how do I get involved?\n",
    "\n",
    "* **For general help:** [pymatgen Google Groups mailing list](https://groups.google.com/forum/#!forum/pymatgen) is a place to ask questions.\n",
    "\n",
    "* **To report bugs:** The [Github Issues](https://github.com/materialsproject/github) page is a good place to report bugs.\n",
    "\n",
    "* **For Materials Project data and website discussions:** The Materials Project  has its community [Materials Project Discussion](https://discuss.materialsproject.org) forum. \n",
    "\n",
    "* **For more example notebooks:** [matgenb](http://matgenb.materialsvirtuallab.org) is a new resource of Jupyter notebooks demonstrating various pymatgen functionality.\n",
    "\n",
    "If you want specific new features, you're welcome to ask! We try to respond to community needs. If you're a developer and can add the feature yourself, we actively encourage you to do so by creating a Pull Request on Github with your additional functionality. To date, pymatgen has seen over 15,000 commits and over 100 contributors, and we try to have an inclusive and welcoming development community. All contributors are also individually acknowledged on [materialsproject.org/about](https://materialsproject.org/about).\n"
   ]
  },
  {
   "cell_type": "markdown",
   "metadata": {},
   "source": [
    "# 1. Verify we have pymatgen installed"
   ]
  },
  {
   "cell_type": "markdown",
   "metadata": {},
   "source": [
    "First, let's verify we have pymatgen installed. The following command should produce no error or warning:"
   ]
  },
  {
   "cell_type": "code",
   "execution_count": null,
   "metadata": {},
   "outputs": [],
   "source": [
    "import pymatgen"
   ]
  },
  {
   "cell_type": "markdown",
   "metadata": {},
   "source": [
    "We can show the specific version of pymatgen installed:"
   ]
  },
  {
   "cell_type": "code",
   "execution_count": null,
   "metadata": {},
   "outputs": [],
   "source": [
    "print(pymatgen.__version__)"
   ]
  },
  {
   "cell_type": "markdown",
   "metadata": {},
   "source": [
    "For a list of new features, bug fixes and other changes, consult the [changelog on pymatgen.org](http://pymatgen.org/change_log.html).\n",
    "\n",
    "You can also see where pymatgen is installed on your computer:"
   ]
  },
  {
   "cell_type": "code",
   "execution_count": null,
   "metadata": {},
   "outputs": [],
   "source": [
    "print(pymatgen.__file__)"
   ]
  },
  {
   "cell_type": "markdown",
   "metadata": {},
   "source": [
    "We can also see which version of the Python programming language we are using:"
   ]
  },
  {
   "cell_type": "code",
   "execution_count": null,
   "metadata": {},
   "outputs": [],
   "source": [
    "import sys\n",
    "print(sys.version)"
   ]
  },
  {
   "cell_type": "markdown",
   "metadata": {},
   "source": [
    "If you have problems or need to report bugs when using pymatgen after the workshop, the above information is often very useful to help us identify the problem."
   ]
  },
  {
   "cell_type": "markdown",
   "metadata": {},
   "source": [
    "# 2. Structures and Molecules\n",
    "\n",
    "Most of the fundamentals of pymatgen are expressed in terms of [**`Structure`**](http://pymatgen.org/pymatgen.core.structure.html#pymatgen.core.structure.Structure) and [**`Molecule`**](http://pymatgen.org/pymatgen.core.structure.html#pymatgen.core.structure.Molecule) objects.\n",
    "\n",
    "While we will mostly be using `Structure`, `Stucture` and `Molecule` are very similar conceptually. The main difference i that `Structure` supports full periodicity required to describe crystallographic structures.\n",
    "\n",
    "Creating a `Structure` is very easy, and can be done in one line, even for complicated crystallographic structures. However, let's start by introducing the simpler `Molecule` object, and then use this understanding of `Molecule` to introduce `Structure`.\n",
    "\n",
    "\n",
    "## 2.0 Creating a Molecule\n",
    "\n",
    "Start by importing `Molecule`:"
   ]
  },
  {
   "cell_type": "code",
   "execution_count": null,
   "metadata": {},
   "outputs": [],
   "source": [
    "from pymatgen import Molecule"
   ]
  },
  {
   "cell_type": "markdown",
   "metadata": {},
   "source": [
    "In a Jupyter notebook, you can show help for any Python object by clicking on the object and pressing **Shift+Tab**. This will give you a list of arguments and keyword arguments necessary to construct the object, as well as the documentation ('docstring') which gives more information on what each argument means.\n",
    "\n",
    "Molecule takes input **arguments** `species` and `coords`, and input **keyword arguments** `charge`, `spin_multiplicity`, `validate_proximity` and `site_properties`.\n",
    "\n",
    "Keyword arguements come with a default value (the value after the equals sign), and so keyword arguments are optional.\n",
    "\n",
    "Arguments (without default values) are mandatory."
   ]
  },
  {
   "cell_type": "code",
   "execution_count": null,
   "metadata": {},
   "outputs": [],
   "source": [
    "my_molecule = Molecule(['C','O'], [[0, 0, 0], [0, 0, 1.2]])"
   ]
  },
  {
   "cell_type": "code",
   "execution_count": null,
   "metadata": {},
   "outputs": [],
   "source": [
    "print(my_molecule)"
   ]
  },
  {
   "cell_type": "markdown",
   "metadata": {},
   "source": [
    "## 2.1 What's in a Molecule? Introducing Sites, Elements and Species"
   ]
  },
  {
   "cell_type": "markdown",
   "metadata": {},
   "source": [
    "You can access properties of the molecule, such as the Cartesian co-ordinates of its sites:"
   ]
  },
  {
   "cell_type": "code",
   "execution_count": null,
   "metadata": {},
   "outputs": [],
   "source": [
    "print(my_molecule.cart_coords)"
   ]
  },
  {
   "cell_type": "markdown",
   "metadata": {},
   "source": [
    "or properties that are computed on-the-fly such as its centre of mass:"
   ]
  },
  {
   "cell_type": "code",
   "execution_count": null,
   "metadata": {},
   "outputs": [],
   "source": [
    "print(my_molecule.center_of_mass)"
   ]
  },
  {
   "cell_type": "markdown",
   "metadata": {},
   "source": [
    "To see the full list of available properties and methods, press **Tab** after typing `my_molecule.` in your Jupyter notebook. There are methods used to modify the molecule, and these take additional argument(s), for example to add a charge to the molecule:"
   ]
  },
  {
   "cell_type": "code",
   "execution_count": null,
   "metadata": {},
   "outputs": [],
   "source": [
    "my_molecule.set_charge_and_spin(1)"
   ]
  },
  {
   "cell_type": "code",
   "execution_count": null,
   "metadata": {},
   "outputs": [],
   "source": [
    "print(my_molecule)"
   ]
  },
  {
   "cell_type": "markdown",
   "metadata": {},
   "source": [
    "A molecule is essentially a list of `Site` objects. We can access these sites like we would a list in Python. For example, to obtain the total number of sites in the molecule:"
   ]
  },
  {
   "cell_type": "code",
   "execution_count": null,
   "metadata": {},
   "outputs": [],
   "source": [
    "len(my_molecule)"
   ]
  },
  {
   "cell_type": "markdown",
   "metadata": {},
   "source": [
    "Or to access the first site (note that Python is a 0-indexed programming language, so the first site is site 0):"
   ]
  },
  {
   "cell_type": "code",
   "execution_count": null,
   "metadata": {},
   "outputs": [],
   "source": [
    "my_molecule[0]"
   ]
  },
  {
   "cell_type": "markdown",
   "metadata": {},
   "source": [
    "Within this site are information on the site's position in space as well as what that site contains."
   ]
  },
  {
   "cell_type": "code",
   "execution_count": null,
   "metadata": {},
   "outputs": [],
   "source": [
    "# as shorthand, we assign the first site of our molecule to a new variable, site0\n",
    "site0 = my_molecule[0]"
   ]
  },
  {
   "cell_type": "code",
   "execution_count": null,
   "metadata": {},
   "outputs": [],
   "source": [
    "site0.coords"
   ]
  },
  {
   "cell_type": "code",
   "execution_count": null,
   "metadata": {},
   "outputs": [],
   "source": [
    "site0.specie"
   ]
  },
  {
   "cell_type": "markdown",
   "metadata": {},
   "source": [
    "Here, the site olds the element C. In general, a site can hold either an [**`Element`**](http://pymatgen.org/pymatgen.core.periodic_table.html#pymatgen.core.periodic_table.Element), a [**`Specie`**](http://pymatgen.org/pymatgen.core.periodic_table.html#pymatgen.core.periodic_table.Specie) or a [**`Composition`**](http://pymatgen.org/pymatgen.core.composition.html#pymatgen.core.composition.Composition). Let's look at each of these in turn."
   ]
  },
  {
   "cell_type": "code",
   "execution_count": null,
   "metadata": {},
   "outputs": [],
   "source": [
    "from pymatgen import Element, Specie, Composition"
   ]
  },
  {
   "cell_type": "markdown",
   "metadata": {},
   "source": [
    "An `Element` is simply an element from the Periodic Table."
   ]
  },
  {
   "cell_type": "code",
   "execution_count": null,
   "metadata": {},
   "outputs": [],
   "source": [
    "my_element = Element('C')"
   ]
  },
  {
   "cell_type": "markdown",
   "metadata": {},
   "source": [
    "Elements have properties such as atomic mass, average ionic radius and more:"
   ]
  },
  {
   "cell_type": "code",
   "execution_count": null,
   "metadata": {},
   "outputs": [],
   "source": [
    "my_element.average_ionic_radius"
   ]
  },
  {
   "cell_type": "markdown",
   "metadata": {},
   "source": [
    "A `Specie` can contain additional information, such as oxidation state:"
   ]
  },
  {
   "cell_type": "code",
   "execution_count": null,
   "metadata": {},
   "outputs": [],
   "source": [
    "Specie('O', oxidation_state=-2)"
   ]
  },
  {
   "cell_type": "markdown",
   "metadata": {},
   "source": [
    "Or, for convenience:"
   ]
  },
  {
   "cell_type": "code",
   "execution_count": null,
   "metadata": {},
   "outputs": [],
   "source": [
    "Specie.from_string('O2-')"
   ]
  },
  {
   "cell_type": "markdown",
   "metadata": {},
   "source": [
    "Finally, a `Composition` is an object that can hold certain amounts of different elements or specie. This is most useful in a disordered Structure, and would rarely be used in a Molecule. For example, this a site that holds 50% Au and 50% Cu would be set as follows:"
   ]
  },
  {
   "cell_type": "code",
   "execution_count": null,
   "metadata": {},
   "outputs": [],
   "source": [
    "Composition({'Au': 0.5, 'Cu': 0.5})"
   ]
  },
  {
   "cell_type": "markdown",
   "metadata": {},
   "source": [
    "When we construct a `Molecule`, the input argument will automatically be converted into one of `Element`, `Specie` or `Composition`. Thus, in the previous example, the input `['C', 'O']` was converted to `[Element C, Element O]`."
   ]
  },
  {
   "cell_type": "markdown",
   "metadata": {},
   "source": [
    "## 2.2 Creating a Structure and Lattice"
   ]
  },
  {
   "cell_type": "markdown",
   "metadata": {},
   "source": [
    "Creating a `Structure` is very similar to creating a `Molecule`, except we now also have to specify a `Lattice`. "
   ]
  },
  {
   "cell_type": "code",
   "execution_count": null,
   "metadata": {},
   "outputs": [],
   "source": [
    "from pymatgen import Structure, Lattice"
   ]
  },
  {
   "cell_type": "markdown",
   "metadata": {},
   "source": [
    "A `Lattice` can be created in one of several ways. Such as by inputting a 3x3 matrix describing the individual lattice vectors. For example, a cubic lattice of length 5 Ångstrom:"
   ]
  },
  {
   "cell_type": "code",
   "execution_count": null,
   "metadata": {},
   "outputs": [],
   "source": [
    "my_lattice = Lattice([[5, 0, 0], [0, 5, 0], [0, 0, 5]])"
   ]
  },
  {
   "cell_type": "code",
   "execution_count": null,
   "metadata": {},
   "outputs": [],
   "source": [
    "my_lattice"
   ]
  },
  {
   "cell_type": "markdown",
   "metadata": {},
   "source": [
    "Equivalently, we can create it from its lattice parameters:"
   ]
  },
  {
   "cell_type": "code",
   "execution_count": null,
   "metadata": {},
   "outputs": [],
   "source": [
    "my_lattice_2 = Lattice.from_parameters(5, 5, 5, 90, 90, 90)  # a, b, c, alpha, beta, gamma"
   ]
  },
  {
   "cell_type": "markdown",
   "metadata": {},
   "source": [
    "Or, since we know in this case we have a cubic lattice, so a == b == c and alpha == beta == gamma == 90 degrees, we can simply put:"
   ]
  },
  {
   "cell_type": "code",
   "execution_count": null,
   "metadata": {},
   "outputs": [],
   "source": [
    "my_lattice_3 = Lattice.cubic(5)"
   ]
  },
  {
   "cell_type": "markdown",
   "metadata": {},
   "source": [
    "In all cases, these lattices are the same:"
   ]
  },
  {
   "cell_type": "code",
   "execution_count": null,
   "metadata": {},
   "outputs": [],
   "source": [
    "my_lattice == my_lattice_2 == my_lattice_3"
   ]
  },
  {
   "cell_type": "markdown",
   "metadata": {},
   "source": [
    "Now, we can create a crystal structure very easily. Let's start with body-centered-cubic iron:"
   ]
  },
  {
   "cell_type": "code",
   "execution_count": null,
   "metadata": {},
   "outputs": [],
   "source": [
    "bcc_fe = Structure(Lattice.cubic(2.8), [\"Fe\", \"Fe\"], [[0, 0, 0], [0.5, 0.5, 0.5]])"
   ]
  },
  {
   "cell_type": "code",
   "execution_count": null,
   "metadata": {},
   "outputs": [],
   "source": [
    "print(bcc_fe)"
   ]
  },
  {
   "cell_type": "markdown",
   "metadata": {},
   "source": [
    "Creating this `Structure` was similar to `Molecule`: we provided a list of elements and a list of positions. However, there are two key differences to `Molecule`: first is that we had to include our `Lattice` object when creating structure, and secondly since we have a lattice, we can define the positions of our sites in *fractional co-ordinates* with respect to that lattice instead of Cartesian co-ordinates.\n",
    "\n",
    "It's also possible to create an equivalent `Structure` using Cartesian co-ordinates:"
   ]
  },
  {
   "cell_type": "code",
   "execution_count": null,
   "metadata": {},
   "outputs": [],
   "source": [
    "bcc_fe_from_cart = Structure(Lattice.cubic(2.8), [\"Fe\", \"Fe\"], [[0, 0, 0], [1.4, 1.4, 1.4]],\n",
    "                             coords_are_cartesian=True)"
   ]
  },
  {
   "cell_type": "code",
   "execution_count": null,
   "metadata": {},
   "outputs": [],
   "source": [
    "print(bcc_fe_from_cart)"
   ]
  },
  {
   "cell_type": "markdown",
   "metadata": {},
   "source": [
    "We see check that both structures are equivalent:"
   ]
  },
  {
   "cell_type": "code",
   "execution_count": null,
   "metadata": {},
   "outputs": [],
   "source": [
    "bcc_fe == bcc_fe_from_cart"
   ]
  },
  {
   "cell_type": "markdown",
   "metadata": {},
   "source": [
    "As in molecule, we can access properties of the structure, such as its volume:"
   ]
  },
  {
   "cell_type": "code",
   "execution_count": null,
   "metadata": {},
   "outputs": [],
   "source": [
    "bcc_fe.volume  # in Ångstroms^3"
   ]
  },
  {
   "cell_type": "markdown",
   "metadata": {},
   "source": [
    "## 2.3 Modifying a Structure"
   ]
  },
  {
   "cell_type": "markdown",
   "metadata": {},
   "source": [
    "We can create a supercell by multiplying the structure by a number of repeats:"
   ]
  },
  {
   "cell_type": "code",
   "execution_count": null,
   "metadata": {},
   "outputs": [],
   "source": [
    "bcc_fe_repeated = bcc_fe*(2,2,2)"
   ]
  },
  {
   "cell_type": "code",
   "execution_count": null,
   "metadata": {},
   "outputs": [],
   "source": [
    "bcc_fe_repeated"
   ]
  },
  {
   "cell_type": "markdown",
   "metadata": {},
   "source": [
    "There are many methods to modify the structure, such as scaling the volume or substituting one species with another species. There are also various *transformations* in pymatgen that can do more complicated structure manipulations, such as creating surfaces, grain boundaries or creating ordered approximations of disordered structure."
   ]
  },
  {
   "cell_type": "markdown",
   "metadata": {},
   "source": [
    "## 2.4 Creating Structure from Spacegroups"
   ]
  },
  {
   "cell_type": "markdown",
   "metadata": {},
   "source": [
    "Structures can also be created directly from their spacegroup:"
   ]
  },
  {
   "cell_type": "code",
   "execution_count": null,
   "metadata": {},
   "outputs": [],
   "source": [
    "bcc_fe = Structure.from_spacegroup(\"Im-3m\", Lattice.cubic(2.8), [\"Fe\"], [[0, 0, 0]])\n",
    "print(bcc_fe)"
   ]
  },
  {
   "cell_type": "code",
   "execution_count": null,
   "metadata": {},
   "outputs": [],
   "source": [
    "nacl = Structure.from_spacegroup(\"Fm-3m\", Lattice.cubic(5.692), [\"Na+\", \"Cl-\"],\n",
    "                                 [[0, 0, 0], [0.5, 0.5, 0.5]])\n",
    "print(nacl)"
   ]
  },
  {
   "cell_type": "markdown",
   "metadata": {},
   "source": [
    "## 2.5 Creating a Disordered Structure"
   ]
  },
  {
   "cell_type": "markdown",
   "metadata": {},
   "source": [
    "Disordered structures are created using the syntax for compositions shown earlier. Here, we create a CuAu solid solution:"
   ]
  },
  {
   "cell_type": "code",
   "execution_count": null,
   "metadata": {},
   "outputs": [],
   "source": [
    "composition = {\"Cu\": 0.5, \"Au\":0.5}\n",
    "cu_au = Structure.from_spacegroup(\"Fm-3m\", Lattice.cubic(3.677), [composition], [[0, 0, 0]])\n",
    "print(cu_au)"
   ]
  },
  {
   "cell_type": "markdown",
   "metadata": {},
   "source": [
    "# 3. Input and Output"
   ]
  },
  {
   "cell_type": "markdown",
   "metadata": {},
   "source": [
    "## 3.0 Input/output from other standard file formats\n",
    "\n",
    "Pymatgen supports a wide range of input/output.\n",
    "\n",
    "* **Plane-wave DFT codes** including:\n",
    "  * [VASP](https://www.vasp.at)\n",
    "  * [Quantum ESPRESSO pwscf](https://www.quantum-espresso.org)\n",
    "  * [ABINIT](https://www.abinit.org)\n",
    "  * [exciting](http://exciting-code.org)\n",
    "* **Quantum chemistry codes** including:\n",
    "  * [Q-Chem](http://www.q-chem.com)\n",
    "  * [Gaussian](http://gaussian.com)\n",
    "  * [NWChem](http://www.nwchem-sw.org/index.php/Main_Page)\n",
    "* **Visualization and standard file formats** including:\n",
    "  * [CIF](https://www.iucr.org/resources/cif)\n",
    "  * [XCrySDen](http://www.xcrysden.org)\n",
    "  * [xyz](https://en.wikipedia.org/wiki/XYZ_file_format)\n",
    "* **Many others, including ...**\n",
    "    * [AiiDA](http://www.aiida.net)\n",
    "    * [FEFF](http://feff.phys.washington.edu)\n",
    "    * [ADF](https://www.scm.com/doc/ADF/index.html)\n",
    "    * [LAMMPS](https://lammps.sandia.gov)\n",
    "    * [Zeo++](http://www.zeoplusplus.org)\n",
    "    * [Fiesta](http://perso.neel.cnrs.fr/xavier.blase/fiesta/)\n",
    "    * [Phonopy](https://atztogo.github.io/phonopy/)\n",
    "    * CSSR\n",
    "    * xr\n",
    "    * [ATAT (mcsqs)](https://www.brown.edu/Departments/Engineering/Labs/avdw/atat/)\n",
    "    * [LOBSTER](http://www.cohp.de)\n",
    "* **and also adaptors to use input/output routines from other codes** including:\n",
    "  * [Atomic Simulation Environment (ASE)](https://wiki.fysik.dtu.dk/ase/)\n",
    "  * [Open Babel](http://openbabel.org/wiki/Main_Page)"
   ]
  },
  {
   "cell_type": "markdown",
   "metadata": {},
   "source": [
    "For example, let's import from a CIF file:"
   ]
  },
  {
   "cell_type": "code",
   "execution_count": null,
   "metadata": {},
   "outputs": [],
   "source": [
    "struct = Structure.from_file('Nb2O5.cif')\n",
    "print(struct)"
   ]
  },
  {
   "cell_type": "markdown",
   "metadata": {},
   "source": [
    "There is a lot of additional functionality in pymatgen for several of these codes, including automating the generation of sensible input *sets* (configuration files for various codes, including VASP)."
   ]
  },
  {
   "cell_type": "markdown",
   "metadata": {},
   "source": [
    "# 3.1 Input/output within Materials Project codes"
   ]
  },
  {
   "cell_type": "markdown",
   "metadata": {},
   "source": [
    "Most objects like `Structure` in Materials Project codes including pymatgen and also [atomate](https://atomate.org), [custodian](https://pythonhosted.org/custodian/), [FireWorks](https://materialsproject.github.io/fireworks/), are \"MSONable\", named after \"Monty JSON\" from the [monty](http://guide.materialsvirtuallab.org/monty/) package. This means they can be easily converted to and from the JSON file format. This makes it really easy for us to pass objects between the different codes, and also to store them in a database like [MongoDB](https://www.mongodb.com) or save them to disk.\n",
    "\n",
    "Generally, objects that are MSONable will have `.as_dict()` and `.from_dict()` methods. To save or load from disk, the helpful `dumpfn` and `loadfn` functions from Monty can be used. These allow you to save not just, for example, a single `Structure` object, but a list or dictionary of many kinds of objects in Materials Project codes."
   ]
  },
  {
   "cell_type": "code",
   "execution_count": null,
   "metadata": {},
   "outputs": [],
   "source": [
    "from monty.serialization import dumpfn, loadfn"
   ]
  },
  {
   "cell_type": "code",
   "execution_count": null,
   "metadata": {},
   "outputs": [],
   "source": [
    "dumpfn(bcc_fe, \"bcc_fe.json\")\n",
    "new_struct = loadfn(\"bcc_fe.json\")\n",
    "bandstructure = loadfn(\"li2o_bs.json\")"
   ]
  },
  {
   "cell_type": "code",
   "execution_count": null,
   "metadata": {},
   "outputs": [],
   "source": [
    "bcc_fe.as_dict()"
   ]
  },
  {
   "cell_type": "markdown",
   "metadata": {},
   "source": [
    "# 3.3 A Note on Visualizing Structures"
   ]
  },
  {
   "cell_type": "markdown",
   "metadata": {},
   "source": [
    "The usual way to visualize your structure is to export to a format like CIF and open in a program like VESTA or CrystalMaker. For this workshop, we have a new tool (in beta) to make this easier. To view your structure, you can do it like so:"
   ]
  },
  {
   "cell_type": "code",
   "execution_count": null,
   "metadata": {},
   "outputs": [],
   "source": [
    "from mp_workshop import get_viewer_link"
   ]
  },
  {
   "cell_type": "code",
   "execution_count": null,
   "metadata": {},
   "outputs": [],
   "source": [
    "get_viewer_link(struct)"
   ]
  },
  {
   "cell_type": "markdown",
   "metadata": {},
   "source": [
    "# 4. Symmetry Analysis with SymmetryAnalyzer\n",
    "\n",
    "In addition to book-keeping of structures using `Structure` objects, pymatgen contains powerful tools for analyzing crystal symmetry and comparing structures.  The `SymmetryAnalyzer` object uses the powerful spglib symmetry analysis library, which is written in C for more efficient determination of invariant symmetry operations and crystal symmetry. \n",
    "The symmetry analyzer can be used to get primitive and standardized conventional cell settings of structures.\n",
    "\n",
    "These examples shows how to get the primitive structure of BCC iron using `SpacegroupAnalyzer` and how to get the point group of the CO molecule created above using `PointGroupAnalyzer`."
   ]
  },
  {
   "cell_type": "code",
   "execution_count": null,
   "metadata": {},
   "outputs": [],
   "source": [
    "from pymatgen.symmetry.analyzer import SpacegroupAnalyzer, PointGroupAnalyzer"
   ]
  },
  {
   "cell_type": "code",
   "execution_count": null,
   "metadata": {},
   "outputs": [],
   "source": [
    "sga = SpacegroupAnalyzer(bcc_fe)\n",
    "prim = sga.get_primitive_standard_structure()\n",
    "print(prim)  # note the primitive structure has only a single site"
   ]
  },
  {
   "cell_type": "code",
   "execution_count": null,
   "metadata": {},
   "outputs": [],
   "source": [
    "std = sga.get_conventional_standard_structure()  # whereas the conventional structure has two\n",
    "print(std)"
   ]
  },
  {
   "cell_type": "code",
   "execution_count": null,
   "metadata": {},
   "outputs": [],
   "source": [
    "print(\"Crystal system:\", sga.get_crystal_system())\n",
    "print(\"Spacegroup symbol:\", sga.get_space_group_symbol())"
   ]
  },
  {
   "cell_type": "markdown",
   "metadata": {},
   "source": [
    "Similarly, we can use `PointGroupAnalyzer` to get the point group of a molecule:"
   ]
  },
  {
   "cell_type": "code",
   "execution_count": null,
   "metadata": {},
   "outputs": [],
   "source": [
    "pga = PointGroupAnalyzer(my_molecule)\n",
    "print(pga.get_pointgroup())"
   ]
  },
  {
   "cell_type": "markdown",
   "metadata": {},
   "source": [
    "# 5. Example of calculating X-ray Diffraction (XRD) Pattern\n",
    "\n",
    "There are various tools in pymatgen that allow for the analysis and plotting of structural and electronic information.  The `XRDCalculator` is perhaps the most straightforward of these tools, since it only requires a `Structure` object."
   ]
  },
  {
   "cell_type": "code",
   "execution_count": null,
   "metadata": {},
   "outputs": [],
   "source": [
    "from pymatgen.analysis.diffraction.xrd import XRDCalculator\n",
    "xrdc = XRDCalculator()"
   ]
  },
  {
   "cell_type": "code",
   "execution_count": null,
   "metadata": {},
   "outputs": [],
   "source": [
    "xrdc.get_plot(nacl)  # plot the XRD pattern of NaCl"
   ]
  },
  {
   "cell_type": "markdown",
   "metadata": {},
   "source": [
    "## 6.0 Matching an unknown structure to an XRD pattern\n",
    "\n",
    "Consider an experimentalist obtains an XRD structure of a cathode material of composition Li$_x$S$_y$, but unknown crystallographic structure:\n",
    "\n",
    "![LiS XRD](https://raw.githubusercontent.com/materialsproject/workshop-2017/master/pymatgen/core/LiS_XRD.png)\n",
    "\n",
    "We can generate a series of XRD plots for different structures in the Li-S chemical system to find one that matches. Later, we will show how to obtain these structures from the Materials Project database, but for now let's load them from a file:"
   ]
  },
  {
   "cell_type": "code",
   "execution_count": null,
   "metadata": {},
   "outputs": [],
   "source": [
    "lis_structures = loadfn(\"li_s_structures.json\")"
   ]
  },
  {
   "cell_type": "code",
   "execution_count": null,
   "metadata": {},
   "outputs": [],
   "source": [
    "xrdc.get_plot(lis_structures[0])  # let's examine each in turn, starting with the first (0)"
   ]
  },
  {
   "cell_type": "code",
   "execution_count": null,
   "metadata": {},
   "outputs": [],
   "source": [
    "for structure in lis_structures:\n",
    "    xrdc.get_plot(structure)"
   ]
  },
  {
   "cell_type": "markdown",
   "metadata": {},
   "source": [
    "# 6. Example: Creating a surface\n",
    "\n",
    "Here, we show how to generate all of the low-index facets for BCC Fe."
   ]
  },
  {
   "cell_type": "code",
   "execution_count": null,
   "metadata": {},
   "outputs": [],
   "source": [
    "from pymatgen.core.surface import generate_all_slabs"
   ]
  },
  {
   "cell_type": "code",
   "execution_count": null,
   "metadata": {},
   "outputs": [],
   "source": [
    "slabs = generate_all_slabs(bcc_fe, 1, 4, 10)"
   ]
  },
  {
   "cell_type": "code",
   "execution_count": null,
   "metadata": {},
   "outputs": [],
   "source": [
    "first_slab = slabs[0]\n",
    "print(first_slab)"
   ]
  },
  {
   "cell_type": "code",
   "execution_count": null,
   "metadata": {},
   "outputs": [],
   "source": [
    "for slab in slabs:\n",
    "    print(slab.miller_index)"
   ]
  },
  {
   "cell_type": "markdown",
   "metadata": {},
   "source": [
    "# 7. Example: Manipulating Tensors\n",
    "\n",
    "Here, we show how to fit a \"noisy\" tensor to a provided crystal structure,"
   ]
  },
  {
   "cell_type": "code",
   "execution_count": null,
   "metadata": {},
   "outputs": [],
   "source": [
    "import numpy as np\n",
    "from pymatgen.analysis.elasticity.elastic import ElasticTensor"
   ]
  },
  {
   "cell_type": "code",
   "execution_count": null,
   "metadata": {},
   "outputs": [],
   "source": [
    "data = loadfn(\"sample_elastic.json\")\n",
    "print(data)"
   ]
  },
  {
   "cell_type": "code",
   "execution_count": null,
   "metadata": {},
   "outputs": [],
   "source": [
    "si_struct = data[0]\n",
    "elastic_tensor = ElasticTensor.from_voigt(data[1])"
   ]
  },
  {
   "cell_type": "code",
   "execution_count": null,
   "metadata": {},
   "outputs": [],
   "source": [
    "print(np.array(data[1]))"
   ]
  },
  {
   "cell_type": "code",
   "execution_count": null,
   "metadata": {},
   "outputs": [],
   "source": [
    "print(elastic_tensor.fit_to_structure(si_struct).voigt.round(2))"
   ]
  },
  {
   "cell_type": "markdown",
   "metadata": {},
   "source": [
    "# Summary\n",
    "\n",
    "This notebook is intended to provide a short introduction to some of the functionality of pymatgen. We've examined the building blocks of pymatgen: the `Structure` and `Molecule` objects, and the `Lattice`, `Element`, `Specie` and `Composition` objects used to make them. We have also seen some simple examples of pymatgen's analysis capabilities."
   ]
  }
 ],
 "metadata": {
  "kernelspec": {
   "display_name": "Python 3",
   "language": "python",
   "name": "python3"
  },
  "language_info": {
   "codemirror_mode": {
    "name": "ipython",
    "version": 3
   },
   "file_extension": ".py",
   "mimetype": "text/x-python",
   "name": "python",
   "nbconvert_exporter": "python",
   "pygments_lexer": "ipython3",
   "version": "3.6.5"
  }
 },
 "nbformat": 4,
 "nbformat_minor": 2
}
