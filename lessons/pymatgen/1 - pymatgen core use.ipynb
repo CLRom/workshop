{
 "cells": [
  {
   "cell_type": "markdown",
   "metadata": {
    "slideshow": {
     "slide_type": "skip"
    }
   },
   "source": [
    "### Materials Project Workshop – July 31st to August 2nd, 2019, Berkeley, California"
   ]
  },
  {
   "cell_type": "markdown",
   "metadata": {
    "slideshow": {
     "slide_type": "slide"
    }
   },
   "source": [
    "![pymatgen logo](http://pymatgen.org/_images/pymatgen.png)\n",
    "\n",
    "# 0. What is pymatgen?\n",
    "\n",
    "Pymatgen (Python Materials Genomics) is the code that powers all of the scientific analysis behind the Materials Project.  It includes a robust and efficient libraries for the handling of crystallographic structures and molecules, in addition to various mathematical and scientific tools for the handling and generation of materials data. For more details, see the [pymatgen website](https://pymatgen.org)."
   ]
  },
  {
   "cell_type": "markdown",
   "metadata": {
    "slideshow": {
     "slide_type": "subslide"
    }
   },
   "source": [
    "## 0.1 How do I install pymatgen?\n",
    "\n",
    "For the workshop, pymatgen has been pre-installed for use in your Jupyter notebooks.\n",
    "\n",
    "Otherwise, pymatgen can be installed via pip:\n",
    "\n",
    "`pip install pymatgen`\n",
    "\n",
    "or conda:\n",
    "\n",
    "`conda install --channel matsci pymatgen`\n",
    "\n",
    "We recommend using Python 3.6 or above. Until 2018, pymatgen was developed simultaneously for Python 2.x and 3.x, but following the rest of the Python community we have phased out support for Python 2.x, and since version 2019.1.1 we are developing exclusively for Python 3.x."
   ]
  },
  {
   "cell_type": "markdown",
   "metadata": {
    "slideshow": {
     "slide_type": "subslide"
    }
   },
   "source": [
    "## 0.2 Where can I find help and how do I get involved?\n",
    "\n",
    "* **For general help:** [pymatgen discourse](https://pymatgen.discourse.group/) is a place to ask questions.\n",
    "\n",
    "* **To report bugs:** The [Github Issues](https://github.com/materialsproject/pymatgen/issues) page is a good place to report bugs.\n",
    "\n",
    "* **For Materials Project data and website discussions:** The Materials Project  has its community [Materials Project Discussion](https://discuss.materialsproject.org) forum. \n",
    "\n",
    "* **For more example notebooks:** [matgenb](http://matgenb.materialsvirtuallab.org) is a new resource of Jupyter notebooks demonstrating various pymatgen functionality.\n",
    "\n",
    "If you want specific new features, you're welcome to ask! We try to respond to community needs. If you're a developer and can add the feature yourself, we actively encourage you to do so by creating a Pull Request on Github with your additional functionality. To date, pymatgen has seen over 17,000 commits and over 120 contributors, and we try to have an inclusive and welcoming development community. All contributors are also individually acknowledged on [materialsproject.org/about](https://materialsproject.org/about).\n"
   ]
  },
  {
   "cell_type": "markdown",
   "metadata": {
    "slideshow": {
     "slide_type": "slide"
    }
   },
   "source": [
    "# 1. Verify we have pymatgen installed\n",
    "\n",
    "First, let's verify we have pymatgen installed. The following command should produce no error or warning:"
   ]
  },
  {
   "cell_type": "code",
   "execution_count": 1,
   "metadata": {
    "slideshow": {
     "slide_type": "fragment"
    }
   },
   "outputs": [],
   "source": [
    "import pymatgen"
   ]
  },
  {
   "cell_type": "markdown",
   "metadata": {
    "slideshow": {
     "slide_type": "subslide"
    }
   },
   "source": [
    "We can show the specific version of pymatgen installed:"
   ]
  },
  {
   "cell_type": "code",
   "execution_count": 2,
   "metadata": {
    "slideshow": {
     "slide_type": "fragment"
    }
   },
   "outputs": [
    {
     "name": "stdout",
     "output_type": "stream",
     "text": [
      "2019.7.21\n"
     ]
    }
   ],
   "source": [
    "print(pymatgen.__version__)"
   ]
  },
  {
   "cell_type": "markdown",
   "metadata": {
    "slideshow": {
     "slide_type": "subslide"
    }
   },
   "source": [
    "For a list of new features, bug fixes and other changes, consult the [changelog on pymatgen.org](http://pymatgen.org/change_log.html).\n",
    "\n",
    "You can also see where pymatgen is installed on your computer:"
   ]
  },
  {
   "cell_type": "code",
   "execution_count": 3,
   "metadata": {
    "slideshow": {
     "slide_type": "fragment"
    }
   },
   "outputs": [
    {
     "name": "stdout",
     "output_type": "stream",
     "text": [
      "/Users/samuelblau/pymatgen/pymatgen/__init__.py\n"
     ]
    }
   ],
   "source": [
    "print(pymatgen.__file__)"
   ]
  },
  {
   "cell_type": "markdown",
   "metadata": {
    "slideshow": {
     "slide_type": "subslide"
    }
   },
   "source": [
    "We can also see which version of the Python programming language we are using:"
   ]
  },
  {
   "cell_type": "code",
   "execution_count": 4,
   "metadata": {
    "slideshow": {
     "slide_type": "fragment"
    }
   },
   "outputs": [
    {
     "name": "stdout",
     "output_type": "stream",
     "text": [
      "3.7.3 (default, Mar 27 2019, 16:54:48) \n",
      "[Clang 4.0.1 (tags/RELEASE_401/final)]\n"
     ]
    }
   ],
   "source": [
    "import sys\n",
    "print(sys.version)"
   ]
  },
  {
   "cell_type": "markdown",
   "metadata": {
    "slideshow": {
     "slide_type": "fragment"
    }
   },
   "source": [
    "If you have problems or need to report bugs when using pymatgen after the workshop, the above information is often very useful to help us identify the problem."
   ]
  },
  {
   "cell_type": "markdown",
   "metadata": {
    "slideshow": {
     "slide_type": "slide"
    }
   },
   "source": [
    "# 2. Structures and Molecules\n",
    "\n",
    "Most of the fundamentals of pymatgen are expressed in terms of [**`Structure`**](http://pymatgen.org/pymatgen.core.structure.html#pymatgen.core.structure.Structure) and [**`Molecule`**](http://pymatgen.org/pymatgen.core.structure.html#pymatgen.core.structure.Molecule) objects.\n",
    "\n",
    "While we will mostly be using `Structure`, `Stucture` and `Molecule` are very similar conceptually. The main difference is that `Structure` supports full periodicity required to describe crystallographic structures.\n",
    "\n",
    "Creating a `Structure` can be done in one line, even for complicated crystallographic structures. However, let's start by introducing the simpler `Molecule` object, and then use this understanding of `Molecule` to introduce `Structure`."
   ]
  },
  {
   "cell_type": "markdown",
   "metadata": {
    "slideshow": {
     "slide_type": "subslide"
    }
   },
   "source": [
    "## 2.0 Creating a Molecule\n",
    "\n",
    "Start by importing `Molecule`:"
   ]
  },
  {
   "cell_type": "code",
   "execution_count": 5,
   "metadata": {
    "slideshow": {
     "slide_type": "fragment"
    }
   },
   "outputs": [],
   "source": [
    "from pymatgen import Molecule"
   ]
  },
  {
   "cell_type": "markdown",
   "metadata": {
    "slideshow": {
     "slide_type": "fragment"
    }
   },
   "source": [
    "In a Jupyter notebook, you can show help for any Python object by clicking on the object and pressing **Shift+Tab**. This will give you a list of arguments and keyword arguments necessary to construct the object, as well as the documentation ('docstring') which gives more information on what each argument means."
   ]
  },
  {
   "cell_type": "code",
   "execution_count": null,
   "metadata": {
    "slideshow": {
     "slide_type": "fragment"
    }
   },
   "outputs": [],
   "source": [
    "Molecule"
   ]
  },
  {
   "cell_type": "markdown",
   "metadata": {
    "slideshow": {
     "slide_type": "subslide"
    }
   },
   "source": [
    "Molecule takes input **arguments** `species` and `coords`, and input **keyword arguments** `charge`, `spin_multiplicity`, `validate_proximity` and `site_properties`.\n",
    "\n",
    "Keyword arguments come with a default value (the value after the equals sign), and so keyword arguments are optional.\n",
    "\n",
    "Arguments (without default values) are mandatory."
   ]
  },
  {
   "cell_type": "code",
   "execution_count": 7,
   "metadata": {
    "slideshow": {
     "slide_type": "fragment"
    }
   },
   "outputs": [],
   "source": [
    "my_molecule = Molecule(['C','O'], [[0, 0, 0], [0, 0, 1.2]])"
   ]
  },
  {
   "cell_type": "code",
   "execution_count": 8,
   "metadata": {
    "slideshow": {
     "slide_type": "fragment"
    }
   },
   "outputs": [
    {
     "name": "stdout",
     "output_type": "stream",
     "text": [
      "Full Formula (C1 O1)\n",
      "Reduced Formula: CO\n",
      "Charge = 0, Spin Mult = 1\n",
      "Sites (2)\n",
      "0 C     0.000000     0.000000     0.000000\n",
      "1 O     0.000000     0.000000     1.200000\n"
     ]
    }
   ],
   "source": [
    "print(my_molecule)"
   ]
  },
  {
   "cell_type": "markdown",
   "metadata": {
    "slideshow": {
     "slide_type": "subslide"
    }
   },
   "source": [
    "## 2.1 Visualizing a Molecule\n",
    "\n",
    "It can be very helpful to quickly visualize molecules or structures. While this capability is still under development and not yet fully released, we will be using Crystal Toolkit's latest viewer during today's lesson."
   ]
  },
  {
   "cell_type": "code",
   "execution_count": 9,
   "metadata": {
    "slideshow": {
     "slide_type": "fragment"
    }
   },
   "outputs": [],
   "source": [
    "from crystal_toolkit import view"
   ]
  },
  {
   "cell_type": "code",
   "execution_count": 10,
   "metadata": {
    "slideshow": {
     "slide_type": "fragment"
    }
   },
   "outputs": [
    {
     "data": {
      "application/vnd.jupyter.widget-view+json": {
       "model_id": "c2b7553257eb449b9181b28d54e62af4",
       "version_major": 2,
       "version_minor": 0
      },
      "text/plain": [
       "Renderer(background='white', camera=OrthographicCamera(bottom=-1.44, left=-1.44, near=-2000.0, position=(0.0, …"
      ]
     },
     "metadata": {},
     "output_type": "display_data"
    }
   ],
   "source": [
    "view(my_molecule)"
   ]
  },
  {
   "cell_type": "markdown",
   "metadata": {
    "slideshow": {
     "slide_type": "subslide"
    }
   },
   "source": [
    "## 2.2 What's in a Molecule? Introducing Sites, Elements and Species"
   ]
  },
  {
   "cell_type": "markdown",
   "metadata": {
    "slideshow": {
     "slide_type": "fragment"
    }
   },
   "source": [
    "You can access properties of the molecule, such as the Cartesian coordinates of its sites:"
   ]
  },
  {
   "cell_type": "code",
   "execution_count": 20,
   "metadata": {
    "slideshow": {
     "slide_type": "fragment"
    }
   },
   "outputs": [
    {
     "name": "stdout",
     "output_type": "stream",
     "text": [
      "[[0.  0.  0. ]\n",
      " [0.  0.  1.2]]\n"
     ]
    }
   ],
   "source": [
    "print(my_molecule.cart_coords)"
   ]
  },
  {
   "cell_type": "markdown",
   "metadata": {
    "slideshow": {
     "slide_type": "fragment"
    }
   },
   "source": [
    "or properties that are computed on-the-fly, such as its center of mass:"
   ]
  },
  {
   "cell_type": "code",
   "execution_count": 21,
   "metadata": {
    "slideshow": {
     "slide_type": "fragment"
    }
   },
   "outputs": [
    {
     "name": "stdout",
     "output_type": "stream",
     "text": [
      "[0.         0.         0.68544132]\n"
     ]
    }
   ],
   "source": [
    "print(my_molecule.center_of_mass)"
   ]
  },
  {
   "cell_type": "markdown",
   "metadata": {
    "slideshow": {
     "slide_type": "subslide"
    }
   },
   "source": [
    "To see the full list of available properties and methods, press **Tab** after typing `my_molecule.` in your Jupyter notebook. There are methods used to modify the molecule and these take additional argument(s). For example, to add a charge to the molecule:"
   ]
  },
  {
   "cell_type": "code",
   "execution_count": 22,
   "metadata": {
    "slideshow": {
     "slide_type": "fragment"
    }
   },
   "outputs": [],
   "source": [
    "my_molecule.set_charge_and_spin(1)"
   ]
  },
  {
   "cell_type": "code",
   "execution_count": 23,
   "metadata": {
    "slideshow": {
     "slide_type": "fragment"
    }
   },
   "outputs": [
    {
     "name": "stdout",
     "output_type": "stream",
     "text": [
      "Full Formula (C1 O1)\n",
      "Reduced Formula: CO\n",
      "Charge = 1, Spin Mult = 2\n",
      "Sites (2)\n",
      "0 C     0.000000     0.000000     0.000000\n",
      "1 O     0.000000     0.000000     1.200000\n"
     ]
    }
   ],
   "source": [
    "print(my_molecule)"
   ]
  },
  {
   "cell_type": "markdown",
   "metadata": {
    "slideshow": {
     "slide_type": "subslide"
    }
   },
   "source": [
    "A molecule is essentially a list of `Site` objects. We can access these sites like we would a list in Python. For example, to obtain the total number of sites in the molecule:"
   ]
  },
  {
   "cell_type": "code",
   "execution_count": 24,
   "metadata": {
    "slideshow": {
     "slide_type": "fragment"
    }
   },
   "outputs": [
    {
     "data": {
      "text/plain": [
       "2"
      ]
     },
     "execution_count": 24,
     "metadata": {},
     "output_type": "execute_result"
    }
   ],
   "source": [
    "len(my_molecule)"
   ]
  },
  {
   "cell_type": "markdown",
   "metadata": {
    "slideshow": {
     "slide_type": "fragment"
    }
   },
   "source": [
    "Or to access the first site (note that Python is a 0-indexed programming language, so the first site is site 0):"
   ]
  },
  {
   "cell_type": "code",
   "execution_count": 25,
   "metadata": {
    "slideshow": {
     "slide_type": "fragment"
    }
   },
   "outputs": [
    {
     "data": {
      "text/plain": [
       "Site: C (0.0000, 0.0000, 0.0000)"
      ]
     },
     "execution_count": 25,
     "metadata": {},
     "output_type": "execute_result"
    }
   ],
   "source": [
    "my_molecule[0]"
   ]
  },
  {
   "cell_type": "markdown",
   "metadata": {
    "slideshow": {
     "slide_type": "subslide"
    }
   },
   "source": [
    "A site object contains information on the site's identity and position in space."
   ]
  },
  {
   "cell_type": "code",
   "execution_count": 26,
   "metadata": {
    "slideshow": {
     "slide_type": "fragment"
    }
   },
   "outputs": [],
   "source": [
    "site0 = my_molecule[0]"
   ]
  },
  {
   "cell_type": "code",
   "execution_count": 27,
   "metadata": {
    "slideshow": {
     "slide_type": "fragment"
    }
   },
   "outputs": [
    {
     "data": {
      "text/plain": [
       "array([0, 0, 0])"
      ]
     },
     "execution_count": 27,
     "metadata": {},
     "output_type": "execute_result"
    }
   ],
   "source": [
    "site0.coords"
   ]
  },
  {
   "cell_type": "code",
   "execution_count": 28,
   "metadata": {
    "slideshow": {
     "slide_type": "fragment"
    }
   },
   "outputs": [
    {
     "data": {
      "text/plain": [
       "Element C"
      ]
     },
     "execution_count": 28,
     "metadata": {},
     "output_type": "execute_result"
    }
   ],
   "source": [
    "site0.specie"
   ]
  },
  {
   "cell_type": "markdown",
   "metadata": {
    "slideshow": {
     "slide_type": "fragment"
    }
   },
   "source": [
    "Here, the site holds the element C. In general, a site can hold either an [**`Element`**](http://pymatgen.org/pymatgen.core.periodic_table.html#pymatgen.core.periodic_table.Element), a [**`Specie`**](http://pymatgen.org/pymatgen.core.periodic_table.html#pymatgen.core.periodic_table.Specie) or a [**`Composition`**](http://pymatgen.org/pymatgen.core.composition.html#pymatgen.core.composition.Composition). Let's look at each of these in turn."
   ]
  },
  {
   "cell_type": "code",
   "execution_count": 12,
   "metadata": {
    "slideshow": {
     "slide_type": "subslide"
    }
   },
   "outputs": [],
   "source": [
    "from pymatgen import Element, Specie, Composition"
   ]
  },
  {
   "cell_type": "markdown",
   "metadata": {
    "slideshow": {
     "slide_type": "fragment"
    }
   },
   "source": [
    "An `Element` is simply an element from the Periodic Table."
   ]
  },
  {
   "cell_type": "code",
   "execution_count": 30,
   "metadata": {
    "slideshow": {
     "slide_type": "fragment"
    }
   },
   "outputs": [],
   "source": [
    "my_element = Element('C')"
   ]
  },
  {
   "cell_type": "markdown",
   "metadata": {
    "slideshow": {
     "slide_type": "fragment"
    }
   },
   "source": [
    "Elements have properties such as atomic mass, average ionic radius and more:"
   ]
  },
  {
   "cell_type": "code",
   "execution_count": 32,
   "metadata": {
    "slideshow": {
     "slide_type": "fragment"
    }
   },
   "outputs": [
    {
     "data": {
      "text/plain": [
       "0.3"
      ]
     },
     "execution_count": 32,
     "metadata": {},
     "output_type": "execute_result"
    }
   ],
   "source": [
    "my_element.average_ionic_radius"
   ]
  },
  {
   "cell_type": "markdown",
   "metadata": {
    "slideshow": {
     "slide_type": "subslide"
    }
   },
   "source": [
    "A `Specie` can contain additional information, such as oxidation state:"
   ]
  },
  {
   "cell_type": "code",
   "execution_count": 33,
   "metadata": {
    "slideshow": {
     "slide_type": "fragment"
    }
   },
   "outputs": [
    {
     "data": {
      "text/plain": [
       "Specie O2-"
      ]
     },
     "execution_count": 33,
     "metadata": {},
     "output_type": "execute_result"
    }
   ],
   "source": [
    "Specie('O', oxidation_state=-2)"
   ]
  },
  {
   "cell_type": "markdown",
   "metadata": {
    "slideshow": {
     "slide_type": "fragment"
    }
   },
   "source": [
    "Or, for convenience:"
   ]
  },
  {
   "cell_type": "code",
   "execution_count": 34,
   "metadata": {
    "slideshow": {
     "slide_type": "fragment"
    }
   },
   "outputs": [
    {
     "data": {
      "text/plain": [
       "Specie O2-"
      ]
     },
     "execution_count": 34,
     "metadata": {},
     "output_type": "execute_result"
    }
   ],
   "source": [
    "Specie.from_string('O2-')"
   ]
  },
  {
   "cell_type": "markdown",
   "metadata": {
    "slideshow": {
     "slide_type": "subslide"
    }
   },
   "source": [
    "Finally, a `Composition` is an object that can hold certain amounts of different elements or species. This is most useful in a disordered Structure, and would rarely be used in a Molecule. For example, a site that holds 50% Au and 50% Cu would be set as follows:"
   ]
  },
  {
   "cell_type": "code",
   "execution_count": 35,
   "metadata": {
    "slideshow": {
     "slide_type": "fragment"
    }
   },
   "outputs": [
    {
     "data": {
      "text/plain": [
       "Comp: Cu0.5 Au0.5"
      ]
     },
     "execution_count": 35,
     "metadata": {},
     "output_type": "execute_result"
    }
   ],
   "source": [
    "Composition({'Au': 0.5, 'Cu': 0.5})"
   ]
  },
  {
   "cell_type": "markdown",
   "metadata": {
    "slideshow": {
     "slide_type": "fragment"
    }
   },
   "source": [
    "When we construct a `Molecule`, the input argument will automatically be converted into one of `Element`, `Specie` or `Composition`. Thus, in the previous example, the input `['C', 'O']` was converted to `[Element C, Element O]`."
   ]
  },
  {
   "cell_type": "markdown",
   "metadata": {
    "slideshow": {
     "slide_type": "slide"
    }
   },
   "source": [
    "## 2.3 Exercise: Hydrogen Cyanide\n",
    "\n",
    "Construct the linear HCN molecule where each bond distance is the sum of the two atomic radii. The atomic spheres should not substantially overlap."
   ]
  },
  {
   "cell_type": "code",
   "execution_count": 13,
   "metadata": {
    "slideshow": {
     "slide_type": "fragment"
    }
   },
   "outputs": [
    {
     "data": {
      "application/vnd.jupyter.widget-view+json": {
       "model_id": "f69eb0786aad4498b024a40bd5b7d3f3",
       "version_major": 2,
       "version_minor": 0
      },
      "text/plain": [
       "Renderer(background='white', camera=OrthographicCamera(bottom=-2.76, left=-2.76, near=-2000.0, position=(0.0, …"
      ]
     },
     "metadata": {},
     "output_type": "display_data"
    }
   ],
   "source": [
    "H_rad = Element('H').atomic_radius\n",
    "C_rad = Element('C').atomic_radius\n",
    "N_rad = Element('N').atomic_radius\n",
    "HC_bond_dist = H_rad + C_rad\n",
    "CN_bond_dist = C_rad + N_rad\n",
    "H_pos = 0\n",
    "C_pos = H_pos + HC_bond_dist\n",
    "N_pos = C_pos + CN_bond_dist\n",
    "hcn = Molecule(['H','C','N'], [[0, 0, H_pos], [0, 0, C_pos],[0, 0, N_pos]])\n",
    "view(hcn)"
   ]
  },
  {
   "cell_type": "markdown",
   "metadata": {
    "slideshow": {
     "slide_type": "slide"
    }
   },
   "source": [
    "## 2.4 Creating a Structure and Lattice"
   ]
  },
  {
   "cell_type": "markdown",
   "metadata": {
    "slideshow": {
     "slide_type": "fragment"
    }
   },
   "source": [
    "Creating a `Structure` is very similar to creating a `Molecule`, except we now also have to specify a `Lattice`. "
   ]
  },
  {
   "cell_type": "code",
   "execution_count": 14,
   "metadata": {
    "slideshow": {
     "slide_type": "fragment"
    }
   },
   "outputs": [],
   "source": [
    "from pymatgen import Structure, Lattice"
   ]
  },
  {
   "cell_type": "markdown",
   "metadata": {
    "slideshow": {
     "slide_type": "fragment"
    }
   },
   "source": [
    "A `Lattice` can be created in one of several ways, such as by inputting a 3x3 matrix describing the individual lattice vectors. For example, a cubic lattice of length 5 Ångstrom:"
   ]
  },
  {
   "cell_type": "code",
   "execution_count": 39,
   "metadata": {
    "slideshow": {
     "slide_type": "fragment"
    }
   },
   "outputs": [],
   "source": [
    "my_lattice = Lattice([[5, 0, 0], [0, 5, 0], [0, 0, 5]])"
   ]
  },
  {
   "cell_type": "code",
   "execution_count": 40,
   "metadata": {
    "slideshow": {
     "slide_type": "fragment"
    }
   },
   "outputs": [
    {
     "data": {
      "text/plain": [
       "Lattice\n",
       "    abc : 5.0 5.0 5.0\n",
       " angles : 90.0 90.0 90.0\n",
       " volume : 125.0\n",
       "      A : 5.0 0.0 0.0\n",
       "      B : 0.0 5.0 0.0\n",
       "      C : 0.0 0.0 5.0"
      ]
     },
     "execution_count": 40,
     "metadata": {},
     "output_type": "execute_result"
    }
   ],
   "source": [
    "my_lattice"
   ]
  },
  {
   "cell_type": "markdown",
   "metadata": {
    "slideshow": {
     "slide_type": "subslide"
    }
   },
   "source": [
    "Equivalently, we can create it from its lattice parameters:"
   ]
  },
  {
   "cell_type": "code",
   "execution_count": 41,
   "metadata": {
    "slideshow": {
     "slide_type": "fragment"
    }
   },
   "outputs": [],
   "source": [
    "my_lattice_2 = Lattice.from_parameters(5, 5, 5, 90, 90, 90)"
   ]
  },
  {
   "cell_type": "markdown",
   "metadata": {
    "slideshow": {
     "slide_type": "fragment"
    }
   },
   "source": [
    "Or, since we know in this case that we have a cubic lattice, a == b == c and alpha == beta == gamma == 90 degrees, so we can simply put:"
   ]
  },
  {
   "cell_type": "code",
   "execution_count": 42,
   "metadata": {
    "slideshow": {
     "slide_type": "fragment"
    }
   },
   "outputs": [],
   "source": [
    "my_lattice_3 = Lattice.cubic(5)"
   ]
  },
  {
   "cell_type": "markdown",
   "metadata": {
    "slideshow": {
     "slide_type": "fragment"
    }
   },
   "source": [
    "We can confirm that these lattices are the same:"
   ]
  },
  {
   "cell_type": "code",
   "execution_count": 43,
   "metadata": {
    "slideshow": {
     "slide_type": "fragment"
    }
   },
   "outputs": [
    {
     "data": {
      "text/plain": [
       "True"
      ]
     },
     "execution_count": 43,
     "metadata": {},
     "output_type": "execute_result"
    }
   ],
   "source": [
    "my_lattice == my_lattice_2 == my_lattice_3"
   ]
  },
  {
   "cell_type": "markdown",
   "metadata": {
    "slideshow": {
     "slide_type": "subslide"
    }
   },
   "source": [
    "Now, we can create a simple crystal structure. Let's start with body-centered-cubic iron:"
   ]
  },
  {
   "cell_type": "code",
   "execution_count": 15,
   "metadata": {
    "slideshow": {
     "slide_type": "fragment"
    }
   },
   "outputs": [],
   "source": [
    "bcc_fe = Structure(Lattice.cubic(2.8), [\"Fe\", \"Fe\"], [[0, 0, 0], [0.5, 0.5, 0.5]])"
   ]
  },
  {
   "cell_type": "code",
   "execution_count": 45,
   "metadata": {
    "slideshow": {
     "slide_type": "fragment"
    }
   },
   "outputs": [
    {
     "name": "stdout",
     "output_type": "stream",
     "text": [
      "Full Formula (Fe2)\n",
      "Reduced Formula: Fe\n",
      "abc   :   2.800000   2.800000   2.800000\n",
      "angles:  90.000000  90.000000  90.000000\n",
      "Sites (2)\n",
      "  #  SP      a    b    c\n",
      "---  ----  ---  ---  ---\n",
      "  0  Fe    0    0    0\n",
      "  1  Fe    0.5  0.5  0.5\n"
     ]
    }
   ],
   "source": [
    "print(bcc_fe)"
   ]
  },
  {
   "cell_type": "markdown",
   "metadata": {
    "slideshow": {
     "slide_type": "fragment"
    }
   },
   "source": [
    "Creating this `Structure` was similar to creating a `Molecule` in that we provided a list of elements and a list of positions. However, there are two key differences: we had to include our `Lattice` object when creating the `Structure` and since we have a lattice, we can define the positions of our sites in *fractional coordinates* with respect to that lattice instead of Cartesian coordinates."
   ]
  },
  {
   "cell_type": "markdown",
   "metadata": {
    "slideshow": {
     "slide_type": "subslide"
    }
   },
   "source": [
    "It's also possible to create an equivalent `Structure` using Cartesian coordinates:"
   ]
  },
  {
   "cell_type": "code",
   "execution_count": 46,
   "metadata": {
    "slideshow": {
     "slide_type": "fragment"
    }
   },
   "outputs": [],
   "source": [
    "bcc_fe_from_cart = Structure(Lattice.cubic(2.8), [\"Fe\", \"Fe\"], [[0, 0, 0], [1.4, 1.4, 1.4]],\n",
    "                             coords_are_cartesian=True)"
   ]
  },
  {
   "cell_type": "code",
   "execution_count": 47,
   "metadata": {
    "slideshow": {
     "slide_type": "fragment"
    }
   },
   "outputs": [
    {
     "name": "stdout",
     "output_type": "stream",
     "text": [
      "Full Formula (Fe2)\n",
      "Reduced Formula: Fe\n",
      "abc   :   2.800000   2.800000   2.800000\n",
      "angles:  90.000000  90.000000  90.000000\n",
      "Sites (2)\n",
      "  #  SP      a    b    c\n",
      "---  ----  ---  ---  ---\n",
      "  0  Fe    0    0    0\n",
      "  1  Fe    0.5  0.5  0.5\n"
     ]
    }
   ],
   "source": [
    "print(bcc_fe_from_cart)"
   ]
  },
  {
   "cell_type": "markdown",
   "metadata": {
    "slideshow": {
     "slide_type": "fragment"
    }
   },
   "source": [
    "We can check that both structures are equivalent:"
   ]
  },
  {
   "cell_type": "code",
   "execution_count": 48,
   "metadata": {
    "slideshow": {
     "slide_type": "fragment"
    }
   },
   "outputs": [
    {
     "data": {
      "text/plain": [
       "True"
      ]
     },
     "execution_count": 48,
     "metadata": {},
     "output_type": "execute_result"
    }
   ],
   "source": [
    "bcc_fe == bcc_fe_from_cart"
   ]
  },
  {
   "cell_type": "markdown",
   "metadata": {
    "slideshow": {
     "slide_type": "subslide"
    }
   },
   "source": [
    "As in a `Molecule`, we can access properties of the structure, such as its volume:"
   ]
  },
  {
   "cell_type": "code",
   "execution_count": 49,
   "metadata": {
    "slideshow": {
     "slide_type": "fragment"
    }
   },
   "outputs": [
    {
     "data": {
      "text/plain": [
       "21.951999999999995"
      ]
     },
     "execution_count": 49,
     "metadata": {},
     "output_type": "execute_result"
    }
   ],
   "source": [
    "bcc_fe.volume"
   ]
  },
  {
   "cell_type": "markdown",
   "metadata": {
    "slideshow": {
     "slide_type": "fragment"
    }
   },
   "source": [
    "And we can visualize the structure:"
   ]
  },
  {
   "cell_type": "code",
   "execution_count": 16,
   "metadata": {
    "slideshow": {
     "slide_type": "fragment"
    }
   },
   "outputs": [
    {
     "data": {
      "application/vnd.jupyter.widget-view+json": {
       "model_id": "eba94922539a419ba55c9dd9e78fd999",
       "version_major": 2,
       "version_minor": 0
      },
      "text/plain": [
       "Renderer(background='white', camera=OrthographicCamera(bottom=-3.36, left=-3.36, near=-2000.0, position=(0.0, …"
      ]
     },
     "metadata": {},
     "output_type": "display_data"
    }
   ],
   "source": [
    "view(bcc_fe)"
   ]
  },
  {
   "cell_type": "markdown",
   "metadata": {
    "slideshow": {
     "slide_type": "subslide"
    }
   },
   "source": [
    "By default, the viewer only displays the lattice and the atoms explicitly defined in the structure. However, if we also want the periodic images of the atoms like you might be more used to, we can set *draw_image_atoms=True*:"
   ]
  },
  {
   "cell_type": "code",
   "execution_count": 17,
   "metadata": {
    "slideshow": {
     "slide_type": "fragment"
    }
   },
   "outputs": [
    {
     "data": {
      "application/vnd.jupyter.widget-view+json": {
       "model_id": "ab8814b53a474ddaa83ab71096a99989",
       "version_major": 2,
       "version_minor": 0
      },
      "text/plain": [
       "Renderer(background='white', camera=OrthographicCamera(bottom=-3.36, left=-3.36, near=-2000.0, position=(0.0, …"
      ]
     },
     "metadata": {},
     "output_type": "display_data"
    }
   ],
   "source": [
    "view(bcc_fe,draw_image_atoms=True)"
   ]
  },
  {
   "cell_type": "markdown",
   "metadata": {
    "slideshow": {
     "slide_type": "fragment"
    }
   },
   "source": [
    "Note that the displayed bonds are inferred based on distance cutoffs."
   ]
  },
  {
   "cell_type": "markdown",
   "metadata": {
    "slideshow": {
     "slide_type": "slide"
    }
   },
   "source": [
    "## 2.5 Creating Structures from Spacegroups"
   ]
  },
  {
   "cell_type": "markdown",
   "metadata": {
    "slideshow": {
     "slide_type": "fragment"
    }
   },
   "source": [
    "Structures can also be created directly from their spacegroup:"
   ]
  },
  {
   "cell_type": "code",
   "execution_count": 44,
   "metadata": {
    "slideshow": {
     "slide_type": "fragment"
    }
   },
   "outputs": [
    {
     "name": "stdout",
     "output_type": "stream",
     "text": [
      "Full Formula (Fe2)\n",
      "Reduced Formula: Fe\n",
      "abc   :   2.800000   2.800000   2.800000\n",
      "angles:  90.000000  90.000000  90.000000\n",
      "Sites (2)\n",
      "  #  SP      a    b    c\n",
      "---  ----  ---  ---  ---\n",
      "  0  Fe    0    0    0\n",
      "  1  Fe    0.5  0.5  0.5\n"
     ]
    }
   ],
   "source": [
    "bcc_fe = Structure.from_spacegroup(\"Im-3m\", Lattice.cubic(2.8), [\"Fe\"], [[0, 0, 0]])\n",
    "print(bcc_fe)"
   ]
  },
  {
   "cell_type": "code",
   "execution_count": 18,
   "metadata": {
    "slideshow": {
     "slide_type": "subslide"
    }
   },
   "outputs": [
    {
     "name": "stdout",
     "output_type": "stream",
     "text": [
      "Full Formula (Na4 Cl4)\n",
      "Reduced Formula: NaCl\n",
      "abc   :   5.692000   5.692000   5.692000\n",
      "angles:  90.000000  90.000000  90.000000\n",
      "Sites (8)\n",
      "  #  SP      a    b    c\n",
      "---  ----  ---  ---  ---\n",
      "  0  Na+   0    0    0\n",
      "  1  Na+   0    0.5  0.5\n",
      "  2  Na+   0.5  0    0.5\n",
      "  3  Na+   0.5  0.5  0\n",
      "  4  Cl-   0.5  0.5  0.5\n",
      "  5  Cl-   0.5  0    0\n",
      "  6  Cl-   0    0.5  0\n",
      "  7  Cl-   0    0    0.5\n"
     ]
    },
    {
     "data": {
      "application/vnd.jupyter.widget-view+json": {
       "model_id": "e452536b968d4c5e8d611b29b7ce9de7",
       "version_major": 2,
       "version_minor": 0
      },
      "text/plain": [
       "Renderer(background='white', camera=OrthographicCamera(bottom=-6.8304, left=-6.8304, near=-2000.0, position=(0…"
      ]
     },
     "metadata": {},
     "output_type": "display_data"
    }
   ],
   "source": [
    "nacl = Structure.from_spacegroup(\"Fm-3m\", Lattice.cubic(5.692), [\"Na+\", \"Cl-\"],\n",
    "                                 [[0, 0, 0], [0.5, 0.5, 0.5]])\n",
    "print(nacl)\n",
    "view(nacl)"
   ]
  },
  {
   "cell_type": "markdown",
   "metadata": {
    "slideshow": {
     "slide_type": "subslide"
    }
   },
   "source": [
    "And spacegroups can be obtained from a structure:"
   ]
  },
  {
   "cell_type": "code",
   "execution_count": 44,
   "metadata": {
    "slideshow": {
     "slide_type": "fragment"
    }
   },
   "outputs": [
    {
     "data": {
      "text/plain": [
       "('Fm-3m', 225)"
      ]
     },
     "execution_count": 44,
     "metadata": {},
     "output_type": "execute_result"
    }
   ],
   "source": [
    "nacl.get_space_group_info()"
   ]
  },
  {
   "cell_type": "markdown",
   "metadata": {
    "slideshow": {
     "slide_type": "fragment"
    }
   },
   "source": [
    "Where 225 is the spacegroup number."
   ]
  },
  {
   "cell_type": "markdown",
   "metadata": {
    "slideshow": {
     "slide_type": "subslide"
    }
   },
   "source": [
    "## 2.6 Creating a Disordered Structure"
   ]
  },
  {
   "cell_type": "markdown",
   "metadata": {
    "slideshow": {
     "slide_type": "fragment"
    }
   },
   "source": [
    "Disordered structures are created using the syntax for compositions shown earlier. Here, we create a CuAu solid solution:"
   ]
  },
  {
   "cell_type": "code",
   "execution_count": 19,
   "metadata": {
    "slideshow": {
     "slide_type": "subslide"
    }
   },
   "outputs": [
    {
     "name": "stdout",
     "output_type": "stream",
     "text": [
      "Full Formula (Cu2 Au2)\n",
      "Reduced Formula: CuAu\n",
      "abc   :   3.677000   3.677000   3.677000\n",
      "angles:  90.000000  90.000000  90.000000\n",
      "Sites (4)\n",
      "  #  SP                    a    b    c\n",
      "---  ------------------  ---  ---  ---\n",
      "  0  Cu:0.500, Au:0.500  0    0    0\n",
      "  1  Cu:0.500, Au:0.500  0    0.5  0.5\n",
      "  2  Cu:0.500, Au:0.500  0.5  0    0.5\n",
      "  3  Cu:0.500, Au:0.500  0.5  0.5  0\n"
     ]
    },
    {
     "data": {
      "application/vnd.jupyter.widget-view+json": {
       "model_id": "bd24115b44654450b5b0bbe1c8c28f9a",
       "version_major": 2,
       "version_minor": 0
      },
      "text/plain": [
       "Renderer(background='white', camera=OrthographicCamera(bottom=-4.4124, left=-4.4124, near=-2000.0, position=(0…"
      ]
     },
     "metadata": {},
     "output_type": "display_data"
    }
   ],
   "source": [
    "composition = {\"Cu\": 0.5, \"Au\":0.5}\n",
    "cu_au = Structure.from_spacegroup(\"Fm-3m\", Lattice.cubic(3.677), [composition], [[0, 0, 0]])\n",
    "print(cu_au)\n",
    "view(cu_au)"
   ]
  },
  {
   "cell_type": "markdown",
   "metadata": {
    "slideshow": {
     "slide_type": "slide"
    }
   },
   "source": [
    "## 2.7 Modifying a Structure"
   ]
  },
  {
   "cell_type": "markdown",
   "metadata": {
    "slideshow": {
     "slide_type": "fragment"
    }
   },
   "source": [
    "We can create a supercell by multiplying the structure by a number of repeats:"
   ]
  },
  {
   "cell_type": "code",
   "execution_count": 20,
   "metadata": {
    "slideshow": {
     "slide_type": "fragment"
    }
   },
   "outputs": [],
   "source": [
    "bcc_fe_repeated = bcc_fe*(2,2,2)"
   ]
  },
  {
   "cell_type": "code",
   "execution_count": 23,
   "metadata": {
    "slideshow": {
     "slide_type": "fragment"
    }
   },
   "outputs": [
    {
     "data": {
      "application/vnd.jupyter.widget-view+json": {
       "model_id": "d1ac1e3797c24aaabea0f2459524f3bb",
       "version_major": 2,
       "version_minor": 0
      },
      "text/plain": [
       "Renderer(background='white', camera=OrthographicCamera(bottom=-6.72, left=-6.72, near=-2000.0, position=(0.0, …"
      ]
     },
     "metadata": {},
     "output_type": "display_data"
    }
   ],
   "source": [
    "view(bcc_fe_repeated,draw_image_atoms=True)"
   ]
  },
  {
   "cell_type": "markdown",
   "metadata": {
    "slideshow": {
     "slide_type": "subslide"
    }
   },
   "source": [
    "We can remove a site:"
   ]
  },
  {
   "cell_type": "code",
   "execution_count": 24,
   "metadata": {
    "slideshow": {
     "slide_type": "fragment"
    }
   },
   "outputs": [
    {
     "data": {
      "application/vnd.jupyter.widget-view+json": {
       "model_id": "e387fd7d787440aca2960445687ed02f",
       "version_major": 2,
       "version_minor": 0
      },
      "text/plain": [
       "Renderer(background='white', camera=OrthographicCamera(bottom=-6.8304, left=-6.8304, near=-2000.0, position=(0…"
      ]
     },
     "metadata": {},
     "output_type": "display_data"
    }
   ],
   "source": [
    "nacl.remove_sites([0])\n",
    "view(nacl)"
   ]
  },
  {
   "cell_type": "markdown",
   "metadata": {
    "slideshow": {
     "slide_type": "subslide"
    }
   },
   "source": [
    "We can replace a site:"
   ]
  },
  {
   "cell_type": "code",
   "execution_count": 25,
   "metadata": {
    "slideshow": {
     "slide_type": "fragment"
    }
   },
   "outputs": [
    {
     "data": {
      "application/vnd.jupyter.widget-view+json": {
       "model_id": "ac9c8cf4299f4be490a0af16842266a2",
       "version_major": 2,
       "version_minor": 0
      },
      "text/plain": [
       "Renderer(background='white', camera=OrthographicCamera(bottom=-6.8304, left=-6.8304, near=-2000.0, position=(0…"
      ]
     },
     "metadata": {},
     "output_type": "display_data"
    }
   ],
   "source": [
    "nacl.replace(0,'K')\n",
    "view(nacl)"
   ]
  },
  {
   "cell_type": "markdown",
   "metadata": {
    "slideshow": {
     "slide_type": "subslide"
    }
   },
   "source": [
    "We can translate a site:"
   ]
  },
  {
   "cell_type": "code",
   "execution_count": 26,
   "metadata": {
    "slideshow": {
     "slide_type": "fragment"
    }
   },
   "outputs": [
    {
     "data": {
      "application/vnd.jupyter.widget-view+json": {
       "model_id": "6d6de27734c54d6896f325a6b37a5915",
       "version_major": 2,
       "version_minor": 0
      },
      "text/plain": [
       "Renderer(background='white', camera=OrthographicCamera(bottom=-6.8304, left=-6.8304, near=-2000.0, position=(0…"
      ]
     },
     "metadata": {},
     "output_type": "display_data"
    }
   ],
   "source": [
    "nacl.translate_sites([0],[0,0.1,0])\n",
    "view(nacl)"
   ]
  },
  {
   "cell_type": "markdown",
   "metadata": {
    "slideshow": {
     "slide_type": "subslide"
    }
   },
   "source": [
    "We can also scale the lattice volume:"
   ]
  },
  {
   "cell_type": "code",
   "execution_count": 73,
   "metadata": {
    "slideshow": {
     "slide_type": "fragment"
    }
   },
   "outputs": [
    {
     "data": {
      "text/plain": [
       "184.41433388800002"
      ]
     },
     "execution_count": 73,
     "metadata": {},
     "output_type": "execute_result"
    }
   ],
   "source": [
    "nacl.volume"
   ]
  },
  {
   "cell_type": "code",
   "execution_count": 64,
   "metadata": {
    "slideshow": {
     "slide_type": "fragment"
    }
   },
   "outputs": [
    {
     "data": {
      "text/plain": [
       "199.99999999999991"
      ]
     },
     "execution_count": 64,
     "metadata": {},
     "output_type": "execute_result"
    }
   ],
   "source": [
    "nacl.scale_lattice(200)\n",
    "nacl.volume"
   ]
  },
  {
   "cell_type": "markdown",
   "metadata": {
    "slideshow": {
     "slide_type": "fragment"
    }
   },
   "source": [
    "There are further *transformations* in pymatgen that can do more complicated structure manipulations, such as creating surfaces, grain boundaries or creating ordered approximations of disordered structures. Some of these will be discussed in the next lesson."
   ]
  },
  {
   "cell_type": "markdown",
   "metadata": {
    "slideshow": {
     "slide_type": "slide"
    }
   },
   "source": [
    "## 2.8 Exercise: N-V Center in Diamond"
   ]
  },
  {
   "cell_type": "markdown",
   "metadata": {
    "slideshow": {
     "slide_type": "fragment"
    }
   },
   "source": [
    "Build a diamond structure, which has a Fd-3m spacegroup, a cubic lattice of length 3.5 Angstrom, and a single carbon atom in its primitive cell. Then remove the carbon at the corner of the unit cell and replace its neighboring carbon with a nitrogen. Identify the new spacegroup."
   ]
  },
  {
   "cell_type": "code",
   "execution_count": 27,
   "metadata": {
    "slideshow": {
     "slide_type": "subslide"
    }
   },
   "outputs": [
    {
     "name": "stdout",
     "output_type": "stream",
     "text": [
      "('R3m', 160)\n"
     ]
    },
    {
     "data": {
      "application/vnd.jupyter.widget-view+json": {
       "model_id": "daac91f91e654279858354f1d3b51fd2",
       "version_major": 2,
       "version_minor": 0
      },
      "text/plain": [
       "Renderer(background='white', camera=OrthographicCamera(bottom=-4.2, left=-4.2, near=-2000.0, position=(0.0, 0.…"
      ]
     },
     "metadata": {},
     "output_type": "display_data"
    }
   ],
   "source": [
    "diamond = Structure.from_spacegroup(\"Fd-3m\", Lattice.cubic(3.5), [\"C\"],[[0, 0, 0]])\n",
    "diamond.remove_sites([0])\n",
    "diamond.replace(0,'N')\n",
    "print(diamond.get_space_group_info())\n",
    "view(diamond,draw_image_atoms=True)"
   ]
  },
  {
   "cell_type": "markdown",
   "metadata": {
    "slideshow": {
     "slide_type": "fragment"
    }
   },
   "source": [
    "The resulting nitrogen-vacancy center (N-V center) is a well-studied point defect in diamond which has photoluminescence that can be manipulated with magnetic, electric, or electromagnetic fields, yielding potential applications in spintronics and quantum computing."
   ]
  },
  {
   "cell_type": "markdown",
   "metadata": {
    "slideshow": {
     "slide_type": "slide"
    }
   },
   "source": [
    "# 3. Input and Output"
   ]
  },
  {
   "cell_type": "markdown",
   "metadata": {
    "slideshow": {
     "slide_type": "subslide"
    }
   },
   "source": [
    "## 3.0 Input/output for structures\n",
    "\n",
    "Pymatgen can also read and write standard structure and molecule file formats such as:\n",
    "\n",
    "  * [CIF](https://www.iucr.org/resources/cif)\n",
    "  * [XCrySDen](http://www.xcrysden.org)\n",
    "  * [xyz](https://en.wikipedia.org/wiki/XYZ_file_format)\n",
    "  \n",
    "while substantially more file formats are available using built-in interfaces with [Atomic Simulation Environment (ASE)](https://wiki.fysik.dtu.dk/ase/) and [Open Babel](http://openbabel.org/wiki/Main_Page)."
   ]
  },
  {
   "cell_type": "markdown",
   "metadata": {
    "slideshow": {
     "slide_type": "fragment"
    }
   },
   "source": [
    "For example, let's import from a CIF file:"
   ]
  },
  {
   "cell_type": "code",
   "execution_count": 28,
   "metadata": {
    "slideshow": {
     "slide_type": "fragment"
    }
   },
   "outputs": [],
   "source": [
    "struct = Structure.from_file('Nb2O5.cif')"
   ]
  },
  {
   "cell_type": "code",
   "execution_count": 29,
   "metadata": {
    "slideshow": {
     "slide_type": "subslide"
    }
   },
   "outputs": [
    {
     "name": "stdout",
     "output_type": "stream",
     "text": [
      "Full Formula (Nb16 O40)\n",
      "Reduced Formula: Nb2O5\n",
      "abc   :   3.861885  14.714739  15.436378\n",
      "angles: 104.895922  97.185452  97.526606\n",
      "Sites (56)\n",
      "  #  SP           a         b         c\n",
      "---  ----  --------  --------  --------\n",
      "  0  Nb    0.169637  0.247074  0.096428\n",
      "  1  Nb    0.305803  0.511873  0.097557\n",
      "  2  Nb    0.961103  0.023003  0.898803\n",
      "  3  Nb    0.329079  0.328964  0.371122\n",
      "  4  Nb    0.636261  0.67209   0.628918\n",
      "  5  Nb    0.828076  0.753513  0.903124\n",
      "  6  Nb    0.532266  0.408998  0.631902\n",
      "  7  Nb    0.78282   0.939912  0.628586\n",
      "  8  Nb    0.693758  0.488348  0.901824\n",
      "  9  Nb    0.038548  0.978004  0.100936\n",
      " 10  Nb    0.219435  0.060975  0.370982\n",
      " 11  Nb    0.557784  0.216612  0.899574\n",
      " 12  Nb    0.61544   0.862139  0.365606\n",
      " 13  Nb    0.387379  0.138624  0.633853\n",
      " 14  Nb    0.465408  0.592161  0.368071\n",
      " 15  Nb    0.440698  0.783598  0.099606\n",
      " 16  O     0.642207  0.232525  0.055067\n",
      " 17  O     0.628144  0.344071  0.910055\n",
      " 18  O     0.297975  0.092069  0.501416\n",
      " 19  O     0.128816  0.897444  0.358028\n",
      " 20  O     0.486574  0.06051   0.912768\n",
      " 21  O     0.387749  0.548909  0.220383\n",
      " 22  O     0.527073  0.834281  0.222325\n",
      " 23  O     0.05556   0.186216  0.925807\n",
      " 24  O     0.120423  0.017962  0.223546\n",
      " 25  O     0.755004  0.729365  0.782596\n",
      " 26  O     0.241734  0.271783  0.21724\n",
      " 27  O     0.772539  0.626362  0.917962\n",
      " 28  O     0.943183  0.814412  0.073704\n",
      " 29  O     0.453545  0.265272  0.645422\n",
      " 30  O     0.074552  0.090667  0.06131\n",
      " 31  O     0.587026  0.541516  0.637315\n",
      " 32  O     0.015181  0.395702  0.641484\n",
      " 33  O     0.308533  0.979167  0.638936\n",
      " 34  O     0.471861  0.16525   0.776841\n",
      " 35  O     0.611265  0.45126   0.778975\n",
      " 36  O     0.278913  0.183151  0.36335\n",
      " 37  O     0.413576  0.459575  0.362739\n",
      " 38  O     0.831814  0.314441  0.351078\n",
      " 39  O     0.371281  0.655958  0.088298\n",
      " 40  O     0.983113  0.604917  0.35754\n",
      " 41  O     0.880583  0.984157  0.77613\n",
      " 42  O     0.21121   0.486018  0.936928\n",
      " 43  O     0.724738  0.818122  0.637085\n",
      " 44  O     0.424413  0.358476  0.500163\n",
      " 45  O     0.787951  0.513865  0.06199\n",
      " 46  O     0.569844  0.642933  0.499744\n",
      " 47  O     0.703142  0.908146  0.497997\n",
      " 48  O     0.692789  0.021358  0.360189\n",
      " 49  O     0.872718  0.103146  0.640863\n",
      " 50  O     0.512989  0.940479  0.087223\n",
      " 51  O     0.356121  0.768374  0.944401\n",
      " 52  O     0.226495  0.374028  0.081118\n",
      " 53  O     0.547645  0.735439  0.354362\n",
      " 54  O     0.16531   0.685797  0.648687\n",
      " 55  O     0.924237  0.910325  0.938448\n"
     ]
    }
   ],
   "source": [
    "print(struct)"
   ]
  },
  {
   "cell_type": "code",
   "execution_count": 30,
   "metadata": {
    "slideshow": {
     "slide_type": "subslide"
    }
   },
   "outputs": [
    {
     "data": {
      "application/vnd.jupyter.widget-view+json": {
       "model_id": "20c759bb2e724389977afe0b35938f6d",
       "version_major": 2,
       "version_minor": 0
      },
      "text/plain": [
       "Renderer(background='white', camera=OrthographicCamera(bottom=-23.64246932739567, left=-23.64246932739567, nea…"
      ]
     },
     "metadata": {},
     "output_type": "display_data"
    }
   ],
   "source": [
    "view(struct)"
   ]
  },
  {
   "cell_type": "markdown",
   "metadata": {
    "slideshow": {
     "slide_type": "subslide"
    }
   },
   "source": [
    "Pymatgen also supports input writing and output parsing for a wide range of software packages:\n",
    "\n",
    "* **Plane-wave DFT codes** including:\n",
    "  * [VASP](https://www.vasp.at)\n",
    "  * [Quantum ESPRESSO pwscf](https://www.quantum-espresso.org)\n",
    "  * [ABINIT](https://www.abinit.org)\n",
    "  * [exciting](http://exciting-code.org)\n",
    "* **Quantum chemistry codes** including:\n",
    "  * [Q-Chem](http://www.q-chem.com)\n",
    "  * [Gaussian](http://gaussian.com)\n",
    "  * [NWChem](http://www.nwchem-sw.org/index.php/Main_Page)\n"
   ]
  },
  {
   "cell_type": "markdown",
   "metadata": {
    "slideshow": {
     "slide_type": "subslide"
    }
   },
   "source": [
    "* **Many others, including ...**\n",
    "    * [AiiDA](http://www.aiida.net)\n",
    "    * [FEFF](http://feff.phys.washington.edu)\n",
    "    * [ADF](https://www.scm.com/doc/ADF/index.html)\n",
    "    * [LAMMPS](https://lammps.sandia.gov)\n",
    "    * [Zeo++](http://www.zeoplusplus.org)\n",
    "    * [Fiesta](http://perso.neel.cnrs.fr/xavier.blase/fiesta/)\n",
    "    * [Phonopy](https://atztogo.github.io/phonopy/)\n",
    "    * [ATAT (mcsqs)](https://www.brown.edu/Departments/Engineering/Labs/avdw/atat/)\n",
    "    * [LOBSTER](http://www.cohp.de)\n",
    "\n",
    "Further documentation can be found at [pymatgen.io](https://pymatgen.org/pymatgen.io.html).\n",
    "\n",
    "There is also a lot of additional functionality in pymatgen for several of these software packages, including automating the generation of sensible input *sets* (configuration files) e.g. for VASP and Q-Chem."
   ]
  },
  {
   "cell_type": "markdown",
   "metadata": {
    "slideshow": {
     "slide_type": "subslide"
    }
   },
   "source": [
    "# 3.1 Input/output within Materials Project codes"
   ]
  },
  {
   "cell_type": "markdown",
   "metadata": {
    "slideshow": {
     "slide_type": "fragment"
    }
   },
   "source": [
    "Most objects like `Structure` in Materials Project codes, including pymatgen, [atomate](https://atomate.org), [custodian](https://pythonhosted.org/custodian/), and [FireWorks](https://materialsproject.github.io/fireworks/), are \"MSONable\", named after \"Monty JSON\" from the [monty](http://guide.materialsvirtuallab.org/monty/) package. This means they can be easily converted to and from the JSON file format. This makes it really easy for us to pass objects between the different codes and also to store them in a database like [MongoDB](https://www.mongodb.com) or save them to disk.\n",
    "\n",
    "Generally, objects that are MSONable will have `.as_dict()` and `.from_dict()` methods. To save or load from disk, the helpful `dumpfn` and `loadfn` functions from Monty can be used. These allow you to save both single Materials Project objects, e.g. a `Structure` object, as well as a list or dictionary of many kinds of objects in Materials Project codes."
   ]
  },
  {
   "cell_type": "code",
   "execution_count": 31,
   "metadata": {
    "slideshow": {
     "slide_type": "fragment"
    }
   },
   "outputs": [],
   "source": [
    "from monty.serialization import dumpfn, loadfn"
   ]
  },
  {
   "cell_type": "code",
   "execution_count": 32,
   "metadata": {
    "slideshow": {
     "slide_type": "fragment"
    }
   },
   "outputs": [],
   "source": [
    "dumpfn(bcc_fe, \"bcc_fe.json\")\n",
    "new_struct = loadfn(\"bcc_fe.json\")\n",
    "bandstructure = loadfn(\"li2o_bs.json\")"
   ]
  },
  {
   "cell_type": "code",
   "execution_count": 33,
   "metadata": {
    "slideshow": {
     "slide_type": "subslide"
    }
   },
   "outputs": [
    {
     "data": {
      "text/plain": [
       "{'@module': 'pymatgen.core.structure',\n",
       " '@class': 'Structure',\n",
       " 'charge': None,\n",
       " 'lattice': {'matrix': [[2.8, 0.0, 0.0], [0.0, 2.8, 0.0], [0.0, 0.0, 2.8]],\n",
       "  'a': 2.8,\n",
       "  'b': 2.8,\n",
       "  'c': 2.8,\n",
       "  'alpha': 90.0,\n",
       "  'beta': 90.0,\n",
       "  'gamma': 90.0,\n",
       "  'volume': 21.951999999999995},\n",
       " 'sites': [{'species': [{'element': 'Fe', 'occu': 1}],\n",
       "   'abc': [0.0, 0.0, 0.0],\n",
       "   'xyz': [0.0, 0.0, 0.0],\n",
       "   'label': 'Fe',\n",
       "   'properties': {}},\n",
       "  {'species': [{'element': 'Fe', 'occu': 1}],\n",
       "   'abc': [0.5, 0.5, 0.5],\n",
       "   'xyz': [1.4, 1.4, 1.4],\n",
       "   'label': 'Fe',\n",
       "   'properties': {}}]}"
      ]
     },
     "execution_count": 33,
     "metadata": {},
     "output_type": "execute_result"
    }
   ],
   "source": [
    "bcc_fe.as_dict()"
   ]
  },
  {
   "cell_type": "code",
   "execution_count": 34,
   "metadata": {
    "slideshow": {
     "slide_type": "subslide"
    }
   },
   "outputs": [
    {
     "data": {
      "text/plain": [
       "{'@module': 'pymatgen.electronic_structure.bandstructure',\n",
       " '@class': 'BandStructureSymmLine',\n",
       " 'lattice_rec': {'@module': 'pymatgen.core.lattice',\n",
       "  '@class': 'Lattice',\n",
       "  'matrix': [[-1.350145435796662, 1.350145435796662, 1.350145435796662],\n",
       "   [1.350145435796662, -1.350145435796662, 1.350145435796662],\n",
       "   [1.350145435796662, 1.350145435796662, -1.350145435796662]]},\n",
       " 'efermi': -0.0005,\n",
       " 'kpoints': [[0.0, 0.0, 0.0],\n",
       "  [0.01785714, 0.0, 0.01785714],\n",
       "  [0.03571429, 0.0, 0.03571429],\n",
       "  [0.05357143, 0.0, 0.05357143],\n",
       "  [0.07142857, 0.0, 0.07142857],\n",
       "  [0.08928571, 0.0, 0.08928571],\n",
       "  [0.10714286, 0.0, 0.10714286],\n",
       "  [0.125, 0.0, 0.125],\n",
       "  [0.14285714, 0.0, 0.14285714],\n",
       "  [0.16071429, 0.0, 0.16071429],\n",
       "  [0.17857143, 0.0, 0.17857143],\n",
       "  [0.19642857, 0.0, 0.19642857],\n",
       "  [0.21428571, 0.0, 0.21428571],\n",
       "  [0.23214286, 0.0, 0.23214286],\n",
       "  [0.25, 0.0, 0.25],\n",
       "  [0.26785714, 0.0, 0.26785714],\n",
       "  [0.28571429, 0.0, 0.28571429],\n",
       "  [0.30357143, 0.0, 0.30357143],\n",
       "  [0.32142857, 0.0, 0.32142857],\n",
       "  [0.33928571, 0.0, 0.33928571],\n",
       "  [0.35714286, 0.0, 0.35714286],\n",
       "  [0.375, 0.0, 0.375],\n",
       "  [0.39285714, 0.0, 0.39285714],\n",
       "  [0.41071429, 0.0, 0.41071429],\n",
       "  [0.42857143, 0.0, 0.42857143],\n",
       "  [0.44642857, 0.0, 0.44642857],\n",
       "  [0.46428571, 0.0, 0.46428571],\n",
       "  [0.48214286, 0.0, 0.48214286],\n",
       "  [0.5, 0.0, 0.5],\n",
       "  [0.5, 0.0, 0.5],\n",
       "  [0.5, 0.01785714, 0.51785714],\n",
       "  [0.5, 0.03571429, 0.53571429],\n",
       "  [0.5, 0.05357143, 0.55357143],\n",
       "  [0.5, 0.07142857, 0.57142857],\n",
       "  [0.5, 0.08928571, 0.58928571],\n",
       "  [0.5, 0.10714286, 0.60714286],\n",
       "  [0.5, 0.125, 0.625],\n",
       "  [0.5, 0.14285714, 0.64285714],\n",
       "  [0.5, 0.16071429, 0.66071429],\n",
       "  [0.5, 0.17857143, 0.67857143],\n",
       "  [0.5, 0.19642857, 0.69642857],\n",
       "  [0.5, 0.21428571, 0.71428571],\n",
       "  [0.5, 0.23214286, 0.73214286],\n",
       "  [0.5, 0.25, 0.75],\n",
       "  [0.5, 0.25, 0.75],\n",
       "  [0.4875, 0.2625, 0.75],\n",
       "  [0.475, 0.275, 0.75],\n",
       "  [0.4625, 0.2875, 0.75],\n",
       "  [0.45, 0.3, 0.75],\n",
       "  [0.4375, 0.3125, 0.75],\n",
       "  [0.425, 0.325, 0.75],\n",
       "  [0.4125, 0.3375, 0.75],\n",
       "  [0.4, 0.35, 0.75],\n",
       "  [0.3875, 0.3625, 0.75],\n",
       "  [0.375, 0.375, 0.75],\n",
       "  [0.375, 0.375, 0.75],\n",
       "  [0.36206897, 0.36206897, 0.72413793],\n",
       "  [0.34913793, 0.34913793, 0.69827586],\n",
       "  [0.3362069, 0.3362069, 0.67241379],\n",
       "  [0.32327586, 0.32327586, 0.64655172],\n",
       "  [0.31034483, 0.31034483, 0.62068966],\n",
       "  [0.29741379, 0.29741379, 0.59482759],\n",
       "  [0.28448276, 0.28448276, 0.56896552],\n",
       "  [0.27155172, 0.27155172, 0.54310345],\n",
       "  [0.25862069, 0.25862069, 0.51724138],\n",
       "  [0.24568966, 0.24568966, 0.49137931],\n",
       "  [0.23275862, 0.23275862, 0.46551724],\n",
       "  [0.21982759, 0.21982759, 0.43965517],\n",
       "  [0.20689655, 0.20689655, 0.4137931],\n",
       "  [0.19396552, 0.19396552, 0.38793103],\n",
       "  [0.18103448, 0.18103448, 0.36206897],\n",
       "  [0.16810345, 0.16810345, 0.3362069],\n",
       "  [0.15517241, 0.15517241, 0.31034483],\n",
       "  [0.14224138, 0.14224138, 0.28448276],\n",
       "  [0.12931034, 0.12931034, 0.25862069],\n",
       "  [0.11637931, 0.11637931, 0.23275862],\n",
       "  [0.10344828, 0.10344828, 0.20689655],\n",
       "  [0.09051724, 0.09051724, 0.18103448],\n",
       "  [0.07758621, 0.07758621, 0.15517241],\n",
       "  [0.06465517, 0.06465517, 0.12931034],\n",
       "  [0.05172414, 0.05172414, 0.10344828],\n",
       "  [0.0387931, 0.0387931, 0.07758621],\n",
       "  [0.02586207, 0.02586207, 0.05172414],\n",
       "  [0.01293103, 0.01293103, 0.02586207],\n",
       "  [0.0, 0.0, 0.0],\n",
       "  [0.0, 0.0, 0.0],\n",
       "  [0.02083333, 0.02083333, 0.02083333],\n",
       "  [0.04166667, 0.04166667, 0.04166667],\n",
       "  [0.0625, 0.0625, 0.0625],\n",
       "  [0.08333333, 0.08333333, 0.08333333],\n",
       "  [0.10416667, 0.10416667, 0.10416667],\n",
       "  [0.125, 0.125, 0.125],\n",
       "  [0.14583333, 0.14583333, 0.14583333],\n",
       "  [0.16666667, 0.16666667, 0.16666667],\n",
       "  [0.1875, 0.1875, 0.1875],\n",
       "  [0.20833333, 0.20833333, 0.20833333],\n",
       "  [0.22916667, 0.22916667, 0.22916667],\n",
       "  [0.25, 0.25, 0.25],\n",
       "  [0.27083333, 0.27083333, 0.27083333],\n",
       "  [0.29166667, 0.29166667, 0.29166667],\n",
       "  [0.3125, 0.3125, 0.3125],\n",
       "  [0.33333333, 0.33333333, 0.33333333],\n",
       "  [0.35416667, 0.35416667, 0.35416667],\n",
       "  [0.375, 0.375, 0.375],\n",
       "  [0.39583333, 0.39583333, 0.39583333],\n",
       "  [0.41666667, 0.41666667, 0.41666667],\n",
       "  [0.4375, 0.4375, 0.4375],\n",
       "  [0.45833333, 0.45833333, 0.45833333],\n",
       "  [0.47916667, 0.47916667, 0.47916667],\n",
       "  [0.5, 0.5, 0.5],\n",
       "  [0.5, 0.5, 0.5],\n",
       "  [0.50735294, 0.48529412, 0.50735294],\n",
       "  [0.51470588, 0.47058824, 0.51470588],\n",
       "  [0.52205882, 0.45588235, 0.52205882],\n",
       "  [0.52941176, 0.44117647, 0.52941176],\n",
       "  [0.53676471, 0.42647059, 0.53676471],\n",
       "  [0.54411765, 0.41176471, 0.54411765],\n",
       "  [0.55147059, 0.39705882, 0.55147059],\n",
       "  [0.55882353, 0.38235294, 0.55882353],\n",
       "  [0.56617647, 0.36764706, 0.56617647],\n",
       "  [0.57352941, 0.35294118, 0.57352941],\n",
       "  [0.58088235, 0.33823529, 0.58088235],\n",
       "  [0.58823529, 0.32352941, 0.58823529],\n",
       "  [0.59558824, 0.30882353, 0.59558824],\n",
       "  [0.60294118, 0.29411765, 0.60294118],\n",
       "  [0.61029412, 0.27941176, 0.61029412],\n",
       "  [0.61764706, 0.26470588, 0.61764706],\n",
       "  [0.625, 0.25, 0.625],\n",
       "  [0.625, 0.25, 0.625],\n",
       "  [0.6125, 0.25, 0.6375],\n",
       "  [0.6, 0.25, 0.65],\n",
       "  [0.5875, 0.25, 0.6625],\n",
       "  [0.575, 0.25, 0.675],\n",
       "  [0.5625, 0.25, 0.6875],\n",
       "  [0.55, 0.25, 0.7],\n",
       "  [0.5375, 0.25, 0.7125],\n",
       "  [0.525, 0.25, 0.725],\n",
       "  [0.5125, 0.25, 0.7375],\n",
       "  [0.5, 0.25, 0.75],\n",
       "  [0.5, 0.25, 0.75],\n",
       "  [0.5, 0.2625, 0.7375],\n",
       "  [0.5, 0.275, 0.725],\n",
       "  [0.5, 0.2875, 0.7125],\n",
       "  [0.5, 0.3, 0.7],\n",
       "  [0.5, 0.3125, 0.6875],\n",
       "  [0.5, 0.325, 0.675],\n",
       "  [0.5, 0.3375, 0.6625],\n",
       "  [0.5, 0.35, 0.65],\n",
       "  [0.5, 0.3625, 0.6375],\n",
       "  [0.5, 0.375, 0.625],\n",
       "  [0.5, 0.3875, 0.6125],\n",
       "  [0.5, 0.4, 0.6],\n",
       "  [0.5, 0.4125, 0.5875],\n",
       "  [0.5, 0.425, 0.575],\n",
       "  [0.5, 0.4375, 0.5625],\n",
       "  [0.5, 0.45, 0.55],\n",
       "  [0.5, 0.4625, 0.5375],\n",
       "  [0.5, 0.475, 0.525],\n",
       "  [0.5, 0.4875, 0.5125],\n",
       "  [0.5, 0.5, 0.5],\n",
       "  [0.5, 0.5, 0.5],\n",
       "  [0.49264706, 0.49264706, 0.51470588],\n",
       "  [0.48529412, 0.48529412, 0.52941176],\n",
       "  [0.47794118, 0.47794118, 0.54411765],\n",
       "  [0.47058824, 0.47058824, 0.55882353],\n",
       "  [0.46323529, 0.46323529, 0.57352941],\n",
       "  [0.45588235, 0.45588235, 0.58823529],\n",
       "  [0.44852941, 0.44852941, 0.60294118],\n",
       "  [0.44117647, 0.44117647, 0.61764706],\n",
       "  [0.43382353, 0.43382353, 0.63235294],\n",
       "  [0.42647059, 0.42647059, 0.64705882],\n",
       "  [0.41911765, 0.41911765, 0.66176471],\n",
       "  [0.41176471, 0.41176471, 0.67647059],\n",
       "  [0.40441176, 0.40441176, 0.69117647],\n",
       "  [0.39705882, 0.39705882, 0.70588235],\n",
       "  [0.38970588, 0.38970588, 0.72058824],\n",
       "  [0.38235294, 0.38235294, 0.73529412],\n",
       "  [0.375, 0.375, 0.75],\n",
       "  [0.625, 0.25, 0.625],\n",
       "  [0.6125, 0.225, 0.6125],\n",
       "  [0.6, 0.2, 0.6],\n",
       "  [0.5875, 0.175, 0.5875],\n",
       "  [0.575, 0.15, 0.575],\n",
       "  [0.5625, 0.125, 0.5625],\n",
       "  [0.55, 0.1, 0.55],\n",
       "  [0.5375, 0.075, 0.5375],\n",
       "  [0.525, 0.05, 0.525],\n",
       "  [0.5125, 0.025, 0.5125],\n",
       "  [0.5, 0.0, 0.5]],\n",
       " 'branches': [{'start_index': 0, 'end_index': 28, 'name': '\\\\Gamma-X'},\n",
       "  {'start_index': 29, 'end_index': 43, 'name': 'X-W'},\n",
       "  {'start_index': 44, 'end_index': 54, 'name': 'W-K'},\n",
       "  {'start_index': 55, 'end_index': 84, 'name': 'K-\\\\Gamma'},\n",
       "  {'start_index': 85, 'end_index': 109, 'name': '\\\\Gamma-L'},\n",
       "  {'start_index': 110, 'end_index': 127, 'name': 'L-U'},\n",
       "  {'start_index': 128, 'end_index': 138, 'name': 'U-W'},\n",
       "  {'start_index': 139, 'end_index': 159, 'name': 'W-L'},\n",
       "  {'start_index': 160, 'end_index': 177, 'name': 'L-K'},\n",
       "  {'start_index': 178, 'end_index': 188, 'name': 'U-X'}],\n",
       " 'bands': {'1': [[-43.1719,\n",
       "    -43.1715,\n",
       "    -43.1704,\n",
       "    -43.1687,\n",
       "    -43.1662,\n",
       "    -43.1629,\n",
       "    -43.159,\n",
       "    -43.1545,\n",
       "    -43.1496,\n",
       "    -43.1442,\n",
       "    -43.1384,\n",
       "    -43.1323,\n",
       "    -43.1258,\n",
       "    -43.1192,\n",
       "    -43.1125,\n",
       "    -43.1058,\n",
       "    -43.0991,\n",
       "    -43.0928,\n",
       "    -43.0865,\n",
       "    -43.0806,\n",
       "    -43.0752,\n",
       "    -43.0702,\n",
       "    -43.0656,\n",
       "    -43.0617,\n",
       "    -43.0584,\n",
       "    -43.0558,\n",
       "    -43.054,\n",
       "    -43.0529,\n",
       "    -43.0525,\n",
       "    -43.0525,\n",
       "    -43.0522,\n",
       "    -43.0512,\n",
       "    -43.0497,\n",
       "    -43.0476,\n",
       "    -43.0448,\n",
       "    -43.0417,\n",
       "    -43.038,\n",
       "    -43.0339,\n",
       "    -43.0293,\n",
       "    -43.0244,\n",
       "    -43.0193,\n",
       "    -43.0139,\n",
       "    -43.0084,\n",
       "    -43.0028,\n",
       "    -43.0028,\n",
       "    -43.0066,\n",
       "    -43.0101,\n",
       "    -43.0132,\n",
       "    -43.0159,\n",
       "    -43.0182,\n",
       "    -43.0202,\n",
       "    -43.0217,\n",
       "    -43.0229,\n",
       "    -43.0235,\n",
       "    -43.0238,\n",
       "    -43.0238,\n",
       "    -43.018,\n",
       "    -43.0118,\n",
       "    -43.0052,\n",
       "    -43.0099,\n",
       "    -43.0178,\n",
       "    -43.026,\n",
       "    -43.0344,\n",
       "    -43.043,\n",
       "    -43.0519,\n",
       "    -43.0608,\n",
       "    -43.0696,\n",
       "    -43.0785,\n",
       "    -43.0874,\n",
       "    -43.0961,\n",
       "    -43.1046,\n",
       "    -43.1128,\n",
       "    -43.1207,\n",
       "    -43.1283,\n",
       "    -43.1353,\n",
       "    -43.1419,\n",
       "    -43.148,\n",
       "    -43.1534,\n",
       "    -43.1582,\n",
       "    -43.1624,\n",
       "    -43.1658,\n",
       "    -43.1685,\n",
       "    -43.1704,\n",
       "    -43.1715,\n",
       "    -43.1719,\n",
       "    -43.1719,\n",
       "    -43.1715,\n",
       "    -43.1704,\n",
       "    -43.1686,\n",
       "    -43.166,\n",
       "    -43.1626,\n",
       "    -43.1585,\n",
       "    -43.1537,\n",
       "    -43.1483,\n",
       "    -43.1423,\n",
       "    -43.1357,\n",
       "    -43.1286,\n",
       "    -43.121,\n",
       "    -43.1129,\n",
       "    -43.1044,\n",
       "    -43.0955,\n",
       "    -43.0862,\n",
       "    -43.0768,\n",
       "    -43.0672,\n",
       "    -43.0573,\n",
       "    -43.0474,\n",
       "    -43.0374,\n",
       "    -43.0273,\n",
       "    -43.0173,\n",
       "    -43.0078,\n",
       "    -43.0078,\n",
       "    -43.0076,\n",
       "    -43.0075,\n",
       "    -43.0074,\n",
       "    -43.0073,\n",
       "    -43.0072,\n",
       "    -43.0073,\n",
       "    -43.0076,\n",
       "    -43.0081,\n",
       "    -43.0087,\n",
       "    -43.0096,\n",
       "    -43.0107,\n",
       "    -43.0121,\n",
       "    -43.0138,\n",
       "    -43.0158,\n",
       "    -43.0182,\n",
       "    -43.0208,\n",
       "    -43.0238,\n",
       "    -43.0238,\n",
       "    -43.0235,\n",
       "    -43.0229,\n",
       "    -43.0217,\n",
       "    -43.0202,\n",
       "    -43.0182,\n",
       "    -43.0159,\n",
       "    -43.0132,\n",
       "    -43.0101,\n",
       "    -43.0066,\n",
       "    -43.0028,\n",
       "    -43.0028,\n",
       "    -43.0029,\n",
       "    -43.003,\n",
       "    -43.0031,\n",
       "    -43.0033,\n",
       "    -43.0036,\n",
       "    -43.0039,\n",
       "    -43.0041,\n",
       "    -43.0045,\n",
       "    -43.0049,\n",
       "    -43.0052,\n",
       "    -43.0056,\n",
       "    -43.006,\n",
       "    -43.0063,\n",
       "    -43.0066,\n",
       "    -43.0069,\n",
       "    -43.0072,\n",
       "    -43.0074,\n",
       "    -43.0075,\n",
       "    -43.0076,\n",
       "    -43.0078,\n",
       "    -43.0078,\n",
       "    -43.0076,\n",
       "    -43.0075,\n",
       "    -43.0074,\n",
       "    -43.0073,\n",
       "    -43.0072,\n",
       "    -43.0073,\n",
       "    -43.0076,\n",
       "    -43.0081,\n",
       "    -43.0087,\n",
       "    -43.0096,\n",
       "    -43.0107,\n",
       "    -43.0121,\n",
       "    -43.0138,\n",
       "    -43.0158,\n",
       "    -43.0182,\n",
       "    -43.0208,\n",
       "    -43.0238,\n",
       "    -43.0238,\n",
       "    -43.029,\n",
       "    -43.0337,\n",
       "    -43.038,\n",
       "    -43.0417,\n",
       "    -43.045,\n",
       "    -43.0476,\n",
       "    -43.0497,\n",
       "    -43.0513,\n",
       "    -43.0522,\n",
       "    -43.0525],\n",
       "   [-42.8651,\n",
       "    -42.8656,\n",
       "    -42.8666,\n",
       "    -42.868,\n",
       "    -42.8699,\n",
       "    -42.8722,\n",
       "    -42.8751,\n",
       "    -42.8784,\n",
       "    -42.882,\n",
       "    -42.886,\n",
       "    -42.8903,\n",
       "    -42.8948,\n",
       "    -42.8995,\n",
       "    -42.9044,\n",
       "    -42.9093,\n",
       "    -42.9141,\n",
       "    -42.9189,\n",
       "    -42.9237,\n",
       "    -42.9282,\n",
       "    -42.9324,\n",
       "    -42.9364,\n",
       "    -42.94,\n",
       "    -42.9432,\n",
       "    -42.9461,\n",
       "    -42.9484,\n",
       "    -42.9504,\n",
       "    -42.9517,\n",
       "    -42.9526,\n",
       "    -42.9529,\n",
       "    -42.9529,\n",
       "    -42.9532,\n",
       "    -42.9541,\n",
       "    -42.9556,\n",
       "    -42.9577,\n",
       "    -42.9604,\n",
       "    -42.9636,\n",
       "    -42.9675,\n",
       "    -42.9717,\n",
       "    -42.9762,\n",
       "    -42.9812,\n",
       "    -42.9863,\n",
       "    -42.9918,\n",
       "    -42.9973,\n",
       "    -43.0028,\n",
       "    -43.0028,\n",
       "    -42.9991,\n",
       "    -42.9957,\n",
       "    -42.9927,\n",
       "    -42.99,\n",
       "    -42.9878,\n",
       "    -42.9859,\n",
       "    -42.9845,\n",
       "    -42.9834,\n",
       "    -42.9828,\n",
       "    -42.9825,\n",
       "    -42.9825,\n",
       "    -42.9887,\n",
       "    -42.9953,\n",
       "    -43.0024,\n",
       "    -42.9984,\n",
       "    -42.9913,\n",
       "    -42.984,\n",
       "    -42.9765,\n",
       "    -42.9688,\n",
       "    -42.9612,\n",
       "    -42.9537,\n",
       "    -42.9461,\n",
       "    -42.9387,\n",
       "    -42.9313,\n",
       "    -42.9242,\n",
       "    -42.9174,\n",
       "    -42.9107,\n",
       "    -42.9045,\n",
       "    -42.8986,\n",
       "    -42.8932,\n",
       "    -42.8881,\n",
       "    -42.8835,\n",
       "    -42.8794,\n",
       "    -42.8758,\n",
       "    -42.8727,\n",
       "    -42.8701,\n",
       "    -42.8681,\n",
       "    -42.8666,\n",
       "    -42.8657,\n",
       "    -42.8651,\n",
       "    -42.8651,\n",
       "    -42.8656,\n",
       "    -42.8665,\n",
       "    -42.868,\n",
       "    -42.87,\n",
       "    -42.8725,\n",
       "    -42.8756,\n",
       "    -42.8792,\n",
       "    -42.8833,\n",
       "    -42.8879,\n",
       "    -42.8931,\n",
       "    -42.8987,\n",
       "    -42.9048,\n",
       "    -42.9114,\n",
       "    -42.9185,\n",
       "    -42.9259,\n",
       "    -42.9337,\n",
       "    -42.9419,\n",
       "    -42.9504,\n",
       "    -42.9593,\n",
       "    -42.9685,\n",
       "    -42.9778,\n",
       "    -42.9874,\n",
       "    -42.9972,\n",
       "    -43.0068,\n",
       "    -43.0068,\n",
       "    -43.0067,\n",
       "    -43.0065,\n",
       "    -43.0064,\n",
       "    -43.0061,\n",
       "    -43.0057,\n",
       "    -43.0051,\n",
       "    -43.0042,\n",
       "    -43.0032,\n",
       "    -43.0018,\n",
       "    -43.0003,\n",
       "    -42.9985,\n",
       "    -42.9965,\n",
       "    -42.9942,\n",
       "    -42.9916,\n",
       "    -42.9888,\n",
       "    -42.9858,\n",
       "    -42.9825,\n",
       "    -42.9825,\n",
       "    -42.9828,\n",
       "    -42.9834,\n",
       "    -42.9845,\n",
       "    -42.9859,\n",
       "    -42.9878,\n",
       "    -42.99,\n",
       "    -42.9927,\n",
       "    -42.9957,\n",
       "    -42.9991,\n",
       "    -43.0028,\n",
       "    -43.0028,\n",
       "    -43.0029,\n",
       "    -43.003,\n",
       "    -43.0031,\n",
       "    -43.0032,\n",
       "    -43.0034,\n",
       "    -43.0037,\n",
       "    -43.0039,\n",
       "    -43.0041,\n",
       "    -43.0044,\n",
       "    -43.0047,\n",
       "    -43.005,\n",
       "    -43.0053,\n",
       "    -43.0056,\n",
       "    -43.0059,\n",
       "    -43.0061,\n",
       "    -43.0063,\n",
       "    -43.0064,\n",
       "    -43.0066,\n",
       "    -43.0067,\n",
       "    -43.0068,\n",
       "    -43.0068,\n",
       "    -43.0067,\n",
       "    -43.0065,\n",
       "    -43.0064,\n",
       "    -43.0061,\n",
       "    -43.0057,\n",
       "    -43.0051,\n",
       "    -43.0042,\n",
       "    -43.0032,\n",
       "    -43.0018,\n",
       "    -43.0003,\n",
       "    -42.9985,\n",
       "    -42.9965,\n",
       "    -42.9942,\n",
       "    -42.9916,\n",
       "    -42.9888,\n",
       "    -42.9858,\n",
       "    -42.9825,\n",
       "    -42.9825,\n",
       "    -42.9771,\n",
       "    -42.9721,\n",
       "    -42.9677,\n",
       "    -42.9638,\n",
       "    -42.9604,\n",
       "    -42.9578,\n",
       "    -42.9556,\n",
       "    -42.9541,\n",
       "    -42.9532,\n",
       "    -42.9529],\n",
       "   [-15.5669,\n",
       "    -15.5664,\n",
       "    -15.564,\n",
       "    -15.5601,\n",
       "    -15.5546,\n",
       "    -15.5475,\n",
       "    -15.5391,\n",
       "    -15.5293,\n",
       "    -15.5185,\n",
       "    -15.5067,\n",
       "    -15.494,\n",
       "    -15.4806,\n",
       "    -15.4665,\n",
       "    -15.4522,\n",
       "    -15.4377,\n",
       "    -15.4231,\n",
       "    -15.4086,\n",
       "    -15.3948,\n",
       "    -15.3812,\n",
       "    -15.3684,\n",
       "    -15.3566,\n",
       "    -15.3458,\n",
       "    -15.3359,\n",
       "    -15.3275,\n",
       "    -15.3204,\n",
       "    -15.3149,\n",
       "    -15.3109,\n",
       "    -15.3086,\n",
       "    -15.3077,\n",
       "    -15.3077,\n",
       "    -15.3076,\n",
       "    -15.3071,\n",
       "    -15.3063,\n",
       "    -15.3053,\n",
       "    -15.3041,\n",
       "    -15.303,\n",
       "    -15.3017,\n",
       "    -15.3005,\n",
       "    -15.2993,\n",
       "    -15.2982,\n",
       "    -15.2972,\n",
       "    -15.2965,\n",
       "    -15.2961,\n",
       "    -15.2959,\n",
       "    -15.2959,\n",
       "    -15.2961,\n",
       "    -15.2968,\n",
       "    -15.2976,\n",
       "    -15.2986,\n",
       "    -15.2997,\n",
       "    -15.3008,\n",
       "    -15.3016,\n",
       "    -15.3023,\n",
       "    -15.3027,\n",
       "    -15.3029,\n",
       "    -15.3029,\n",
       "    -15.3042,\n",
       "    -15.3061,\n",
       "    -15.3092,\n",
       "    -15.3134,\n",
       "    -15.3188,\n",
       "    -15.3255,\n",
       "    -15.3333,\n",
       "    -15.3423,\n",
       "    -15.3526,\n",
       "    -15.364,\n",
       "    -15.3763,\n",
       "    -15.3895,\n",
       "    -15.4033,\n",
       "    -15.4179,\n",
       "    -15.4326,\n",
       "    -15.4474,\n",
       "    -15.4622,\n",
       "    -15.4766,\n",
       "    -15.4906,\n",
       "    -15.5038,\n",
       "    -15.5162,\n",
       "    -15.5276,\n",
       "    -15.5377,\n",
       "    -15.5465,\n",
       "    -15.5539,\n",
       "    -15.5597,\n",
       "    -15.5639,\n",
       "    -15.5663,\n",
       "    -15.5669,\n",
       "    -15.5669,\n",
       "    -15.5663,\n",
       "    -15.5639,\n",
       "    -15.5599,\n",
       "    -15.5543,\n",
       "    -15.5471,\n",
       "    -15.5384,\n",
       "    -15.5286,\n",
       "    -15.5175,\n",
       "    -15.5054,\n",
       "    -15.4925,\n",
       "    -15.4792,\n",
       "    -15.4652,\n",
       "    -15.4511,\n",
       "    -15.4372,\n",
       "    -15.4234,\n",
       "    -15.41,\n",
       "    -15.3977,\n",
       "    -15.3864,\n",
       "    -15.3765,\n",
       "    -15.368,\n",
       "    -15.3613,\n",
       "    -15.3563,\n",
       "    -15.3532,\n",
       "    -15.3525,\n",
       "    -15.3525,\n",
       "    -15.3518,\n",
       "    -15.3507,\n",
       "    -15.349,\n",
       "    -15.3466,\n",
       "    -15.3437,\n",
       "    -15.3403,\n",
       "    -15.3365,\n",
       "    -15.3324,\n",
       "    -15.3281,\n",
       "    -15.3237,\n",
       "    -15.3194,\n",
       "    -15.3153,\n",
       "    -15.3116,\n",
       "    -15.3083,\n",
       "    -15.3057,\n",
       "    -15.3039,\n",
       "    -15.3029,\n",
       "    -15.3029,\n",
       "    -15.3027,\n",
       "    -15.3023,\n",
       "    -15.3016,\n",
       "    -15.3008,\n",
       "    -15.2997,\n",
       "    -15.2986,\n",
       "    -15.2976,\n",
       "    -15.2968,\n",
       "    -15.2961,\n",
       "    -15.2959,\n",
       "    -15.2959,\n",
       "    -15.2963,\n",
       "    -15.2973,\n",
       "    -15.299,\n",
       "    -15.3013,\n",
       "    -15.3043,\n",
       "    -15.3077,\n",
       "    -15.3115,\n",
       "    -15.3155,\n",
       "    -15.3198,\n",
       "    -15.3242,\n",
       "    -15.3286,\n",
       "    -15.3329,\n",
       "    -15.337,\n",
       "    -15.3407,\n",
       "    -15.3441,\n",
       "    -15.3469,\n",
       "    -15.3491,\n",
       "    -15.3508,\n",
       "    -15.3519,\n",
       "    -15.3525,\n",
       "    -15.3525,\n",
       "    -15.3518,\n",
       "    -15.3507,\n",
       "    -15.349,\n",
       "    -15.3466,\n",
       "    -15.3437,\n",
       "    -15.3403,\n",
       "    -15.3365,\n",
       "    -15.3324,\n",
       "    -15.3281,\n",
       "    -15.3237,\n",
       "    -15.3194,\n",
       "    -15.3153,\n",
       "    -15.3116,\n",
       "    -15.3083,\n",
       "    -15.3057,\n",
       "    -15.3039,\n",
       "    -15.3029,\n",
       "    -15.3029,\n",
       "    -15.3024,\n",
       "    -15.3025,\n",
       "    -15.303,\n",
       "    -15.3038,\n",
       "    -15.3046,\n",
       "    -15.3056,\n",
       "    -15.3064,\n",
       "    -15.3071,\n",
       "    -15.3076,\n",
       "    -15.3077],\n",
       "   [-0.1504,\n",
       "    -0.1602,\n",
       "    -0.1891,\n",
       "    -0.2357,\n",
       "    -0.2977,\n",
       "    -0.3726,\n",
       "    -0.4576,\n",
       "    -0.5497,\n",
       "    -0.6465,\n",
       "    -0.7454,\n",
       "    -0.8445,\n",
       "    -0.942,\n",
       "    -1.0363,\n",
       "    -1.1263,\n",
       "    -1.2111,\n",
       "    -1.29,\n",
       "    -1.3624,\n",
       "    -1.4281,\n",
       "    -1.4869,\n",
       "    -1.5388,\n",
       "    -1.584,\n",
       "    -1.6227,\n",
       "    -1.6551,\n",
       "    -1.6817,\n",
       "    -1.7028,\n",
       "    -1.7187,\n",
       "    -1.7299,\n",
       "    -1.7365,\n",
       "    -1.7386,\n",
       "    -1.7386,\n",
       "    -1.7379,\n",
       "    -1.7356,\n",
       "    -1.7319,\n",
       "    -1.7268,\n",
       "    -1.7204,\n",
       "    -1.7127,\n",
       "    -1.7369,\n",
       "    -1.7838,\n",
       "    -1.8272,\n",
       "    -1.8652,\n",
       "    -1.8964,\n",
       "    -1.9195,\n",
       "    -1.9337,\n",
       "    -1.9385,\n",
       "    -1.9385,\n",
       "    -1.9478,\n",
       "    -1.971,\n",
       "    -2.0008,\n",
       "    -2.0317,\n",
       "    -2.0605,\n",
       "    -2.0857,\n",
       "    -2.1061,\n",
       "    -2.121,\n",
       "    -2.1301,\n",
       "    -2.1331,\n",
       "    -2.1331,\n",
       "    -2.2055,\n",
       "    -2.268,\n",
       "    -2.3189,\n",
       "    -2.3567,\n",
       "    -2.3804,\n",
       "    -2.3892,\n",
       "    -2.3825,\n",
       "    -2.36,\n",
       "    -2.3218,\n",
       "    -2.268,\n",
       "    -2.199,\n",
       "    -2.1153,\n",
       "    -2.0177,\n",
       "    -1.9073,\n",
       "    -1.7852,\n",
       "    -1.6528,\n",
       "    -1.512,\n",
       "    -1.3644,\n",
       "    -1.2124,\n",
       "    -1.0585,\n",
       "    -0.9056,\n",
       "    -0.7569,\n",
       "    -0.6159,\n",
       "    -0.4865,\n",
       "    -0.3729,\n",
       "    -0.279,\n",
       "    -0.2088,\n",
       "    -0.1652,\n",
       "    -0.1504,\n",
       "    -0.1504,\n",
       "    -0.1663,\n",
       "    -0.2131,\n",
       "    -0.2889,\n",
       "    -0.3907,\n",
       "    -0.5149,\n",
       "    -0.6576,\n",
       "    -0.8145,\n",
       "    -0.9818,\n",
       "    -1.1559,\n",
       "    -1.3332,\n",
       "    -1.5107,\n",
       "    -1.6855,\n",
       "    -1.8551,\n",
       "    -2.0172,\n",
       "    -2.1698,\n",
       "    -2.3111,\n",
       "    -2.4394,\n",
       "    -2.5534,\n",
       "    -2.652,\n",
       "    -2.7339,\n",
       "    -2.7986,\n",
       "    -2.8452,\n",
       "    -2.8733,\n",
       "    -2.8828,\n",
       "    -2.8828,\n",
       "    -2.8794,\n",
       "    -2.8693,\n",
       "    -2.8525,\n",
       "    -2.8292,\n",
       "    -2.7994,\n",
       "    -2.7635,\n",
       "    -2.7216,\n",
       "    -2.6741,\n",
       "    -2.6214,\n",
       "    -2.5641,\n",
       "    -2.5028,\n",
       "    -2.4385,\n",
       "    -2.3723,\n",
       "    -2.3059,\n",
       "    -2.2416,\n",
       "    -2.1827,\n",
       "    -2.1331,\n",
       "    -2.1331,\n",
       "    -2.1301,\n",
       "    -2.121,\n",
       "    -2.1061,\n",
       "    -2.0857,\n",
       "    -2.0605,\n",
       "    -2.0317,\n",
       "    -2.0008,\n",
       "    -1.971,\n",
       "    -1.9478,\n",
       "    -1.9385,\n",
       "    -1.9385,\n",
       "    -1.9611,\n",
       "    -2.0157,\n",
       "    -2.0844,\n",
       "    -2.1581,\n",
       "    -2.2329,\n",
       "    -2.3068,\n",
       "    -2.3785,\n",
       "    -2.4472,\n",
       "    -2.5123,\n",
       "    -2.5732,\n",
       "    -2.6296,\n",
       "    -2.681,\n",
       "    -2.7272,\n",
       "    -2.7677,\n",
       "    -2.8024,\n",
       "    -2.8311,\n",
       "    -2.8536,\n",
       "    -2.8698,\n",
       "    -2.8795,\n",
       "    -2.8828,\n",
       "    -2.8828,\n",
       "    -2.8794,\n",
       "    -2.8693,\n",
       "    -2.8525,\n",
       "    -2.8292,\n",
       "    -2.7994,\n",
       "    -2.7635,\n",
       "    -2.7216,\n",
       "    -2.6741,\n",
       "    -2.6214,\n",
       "    -2.5641,\n",
       "    -2.5028,\n",
       "    -2.4385,\n",
       "    -2.3723,\n",
       "    -2.3059,\n",
       "    -2.2416,\n",
       "    -2.1827,\n",
       "    -2.1331,\n",
       "    -2.1331,\n",
       "    -2.0558,\n",
       "    -1.9736,\n",
       "    -1.8891,\n",
       "    -1.8055,\n",
       "    -1.726,\n",
       "    -1.7264,\n",
       "    -1.7319,\n",
       "    -1.7357,\n",
       "    -1.7379,\n",
       "    -1.7386],\n",
       "   [-0.1504,\n",
       "    -0.1554,\n",
       "    -0.17,\n",
       "    -0.1942,\n",
       "    -0.2273,\n",
       "    -0.2689,\n",
       "    -0.3182,\n",
       "    -0.3744,\n",
       "    -0.4365,\n",
       "    -0.5034,\n",
       "    -0.5743,\n",
       "    -0.648,\n",
       "    -0.7236,\n",
       "    -0.7999,\n",
       "    -0.8759,\n",
       "    -0.9509,\n",
       "    -1.0238,\n",
       "    -1.0939,\n",
       "    -1.1604,\n",
       "    -1.2225,\n",
       "    -1.2798,\n",
       "    -1.3316,\n",
       "    -1.3774,\n",
       "    -1.4169,\n",
       "    -1.4497,\n",
       "    -1.4755,\n",
       "    -1.494,\n",
       "    -1.5053,\n",
       "    -1.509,\n",
       "    -1.509,\n",
       "    -1.5151,\n",
       "    -1.533,\n",
       "    -1.5614,\n",
       "    -1.5985,\n",
       "    -1.6418,\n",
       "    -1.6888,\n",
       "    -1.7038,\n",
       "    -1.694,\n",
       "    -1.6832,\n",
       "    -1.6717,\n",
       "    -1.6596,\n",
       "    -1.647,\n",
       "    -1.6342,\n",
       "    -1.6213,\n",
       "    -1.6213,\n",
       "    -1.6293,\n",
       "    -1.6355,\n",
       "    -1.6401,\n",
       "    -1.6435,\n",
       "    -1.6458,\n",
       "    -1.6474,\n",
       "    -1.6484,\n",
       "    -1.6489,\n",
       "    -1.6492,\n",
       "    -1.6493,\n",
       "    -1.6493,\n",
       "    -1.6262,\n",
       "    -1.5996,\n",
       "    -1.5692,\n",
       "    -1.5348,\n",
       "    -1.4963,\n",
       "    -1.4535,\n",
       "    -1.4064,\n",
       "    -1.3549,\n",
       "    -1.2992,\n",
       "    -1.2394,\n",
       "    -1.1757,\n",
       "    -1.1085,\n",
       "    -1.0381,\n",
       "    -0.9652,\n",
       "    -0.8904,\n",
       "    -0.8143,\n",
       "    -0.7377,\n",
       "    -0.6617,\n",
       "    -0.5872,\n",
       "    -0.5152,\n",
       "    -0.4467,\n",
       "    -0.383,\n",
       "    -0.3251,\n",
       "    -0.2741,\n",
       "    -0.2308,\n",
       "    -0.1962,\n",
       "    -0.171,\n",
       "    -0.1556,\n",
       "    -0.1504,\n",
       "    -0.1504,\n",
       "    -0.1525,\n",
       "    -0.1588,\n",
       "    -0.1691,\n",
       "    -0.1831,\n",
       "    -0.2006,\n",
       "    -0.2212,\n",
       "    -0.2443,\n",
       "    -0.2697,\n",
       "    -0.2966,\n",
       "    -0.3246,\n",
       "    -0.3532,\n",
       "    -0.3819,\n",
       "    -0.4101,\n",
       "    -0.4375,\n",
       "    -0.4636,\n",
       "    -0.4879,\n",
       "    -0.5102,\n",
       "    -0.5301,\n",
       "    -0.5475,\n",
       "    -0.5619,\n",
       "    -0.5734,\n",
       "    -0.5817,\n",
       "    -0.5867,\n",
       "    -0.5883,\n",
       "    -0.5883,\n",
       "    -0.596,\n",
       "    -0.6189,\n",
       "    -0.6562,\n",
       "    -0.7069,\n",
       "    -0.7695,\n",
       "    -0.8422,\n",
       "    -0.9229,\n",
       "    -1.0096,\n",
       "    -1.0998,\n",
       "    -1.1914,\n",
       "    -1.2818,\n",
       "    -1.3687,\n",
       "    -1.4496,\n",
       "    -1.5216,\n",
       "    -1.5816,\n",
       "    -1.6256,\n",
       "    -1.6493,\n",
       "    -1.6493,\n",
       "    -1.6492,\n",
       "    -1.6489,\n",
       "    -1.6483,\n",
       "    -1.6474,\n",
       "    -1.6458,\n",
       "    -1.6435,\n",
       "    -1.6401,\n",
       "    -1.6355,\n",
       "    -1.6293,\n",
       "    -1.6213,\n",
       "    -1.6213,\n",
       "    -1.6158,\n",
       "    -1.5992,\n",
       "    -1.572,\n",
       "    -1.5345,\n",
       "    -1.4873,\n",
       "    -1.4313,\n",
       "    -1.3675,\n",
       "    -1.2971,\n",
       "    -1.2216,\n",
       "    -1.1424,\n",
       "    -1.0614,\n",
       "    -0.9806,\n",
       "    -0.902,\n",
       "    -0.8279,\n",
       "    -0.7603,\n",
       "    -0.7015,\n",
       "    -0.6534,\n",
       "    -0.6177,\n",
       "    -0.5957,\n",
       "    -0.5883,\n",
       "    -0.5883,\n",
       "    -0.596,\n",
       "    -0.6189,\n",
       "    -0.6562,\n",
       "    -0.7069,\n",
       "    -0.7695,\n",
       "    -0.8422,\n",
       "    -0.9229,\n",
       "    -1.0096,\n",
       "    -1.0998,\n",
       "    -1.1914,\n",
       "    -1.2818,\n",
       "    -1.3687,\n",
       "    -1.4496,\n",
       "    -1.5216,\n",
       "    -1.5816,\n",
       "    -1.6256,\n",
       "    -1.6493,\n",
       "    -1.6493,\n",
       "    -1.6685,\n",
       "    -1.6848,\n",
       "    -1.6986,\n",
       "    -1.71,\n",
       "    -1.7192,\n",
       "    -1.6542,\n",
       "    -1.5936,\n",
       "    -1.5476,\n",
       "    -1.5188,\n",
       "    -1.509],\n",
       "   [-0.1504,\n",
       "    -0.1554,\n",
       "    -0.17,\n",
       "    -0.1942,\n",
       "    -0.2273,\n",
       "    -0.2689,\n",
       "    -0.3182,\n",
       "    -0.3744,\n",
       "    -0.4365,\n",
       "    -0.5034,\n",
       "    -0.5743,\n",
       "    -0.648,\n",
       "    -0.7236,\n",
       "    -0.7999,\n",
       "    -0.8759,\n",
       "    -0.9509,\n",
       "    -1.0238,\n",
       "    -1.0939,\n",
       "    -1.1604,\n",
       "    -1.2225,\n",
       "    -1.2798,\n",
       "    -1.3316,\n",
       "    -1.3774,\n",
       "    -1.4169,\n",
       "    -1.4497,\n",
       "    -1.4755,\n",
       "    -1.494,\n",
       "    -1.5052,\n",
       "    -1.509,\n",
       "    -1.509,\n",
       "    -1.5097,\n",
       "    -1.5117,\n",
       "    -1.5151,\n",
       "    -1.5198,\n",
       "    -1.5258,\n",
       "    -1.533,\n",
       "    -1.5413,\n",
       "    -1.5506,\n",
       "    -1.5608,\n",
       "    -1.5719,\n",
       "    -1.5836,\n",
       "    -1.5958,\n",
       "    -1.6084,\n",
       "    -1.6213,\n",
       "    -1.6213,\n",
       "    -1.5989,\n",
       "    -1.5554,\n",
       "    -1.5001,\n",
       "    -1.4402,\n",
       "    -1.3812,\n",
       "    -1.3272,\n",
       "    -1.2814,\n",
       "    -1.2465,\n",
       "    -1.2248,\n",
       "    -1.2174,\n",
       "    -1.2174,\n",
       "    -1.1605,\n",
       "    -1.1005,\n",
       "    -1.0383,\n",
       "    -0.9745,\n",
       "    -0.9098,\n",
       "    -0.8449,\n",
       "    -0.7807,\n",
       "    -0.7177,\n",
       "    -0.6566,\n",
       "    -0.5981,\n",
       "    -0.5426,\n",
       "    -0.4906,\n",
       "    -0.4424,\n",
       "    -0.3983,\n",
       "    -0.3583,\n",
       "    -0.3226,\n",
       "    -0.291,\n",
       "    -0.2635,\n",
       "    -0.2398,\n",
       "    -0.2196,\n",
       "    -0.2028,\n",
       "    -0.1888,\n",
       "    -0.1776,\n",
       "    -0.1686,\n",
       "    -0.1617,\n",
       "    -0.1566,\n",
       "    -0.1531,\n",
       "    -0.1511,\n",
       "    -0.1504,\n",
       "    -0.1504,\n",
       "    -0.1525,\n",
       "    -0.1588,\n",
       "    -0.1691,\n",
       "    -0.1831,\n",
       "    -0.2006,\n",
       "    -0.2212,\n",
       "    -0.2443,\n",
       "    -0.2697,\n",
       "    -0.2966,\n",
       "    -0.3246,\n",
       "    -0.3532,\n",
       "    -0.3819,\n",
       "    -0.4101,\n",
       "    -0.4375,\n",
       "    -0.4636,\n",
       "    -0.4879,\n",
       "    -0.5102,\n",
       "    -0.5301,\n",
       "    -0.5475,\n",
       "    -0.5619,\n",
       "    -0.5734,\n",
       "    -0.5817,\n",
       "    -0.5867,\n",
       "    -0.5883,\n",
       "    -0.5883,\n",
       "    -0.5923,\n",
       "    -0.6041,\n",
       "    -0.6235,\n",
       "    -0.6498,\n",
       "    -0.6825,\n",
       "    -0.7206,\n",
       "    -0.7633,\n",
       "    -0.8095,\n",
       "    -0.8582,\n",
       "    -0.9082,\n",
       "    -0.9587,\n",
       "    -1.0085,\n",
       "    -1.0567,\n",
       "    -1.1025,\n",
       "    -1.145,\n",
       "    -1.1835,\n",
       "    -1.2174,\n",
       "    -1.2174,\n",
       "    -1.2248,\n",
       "    -1.2465,\n",
       "    -1.2814,\n",
       "    -1.3272,\n",
       "    -1.3812,\n",
       "    -1.4402,\n",
       "    -1.5001,\n",
       "    -1.5554,\n",
       "    -1.5989,\n",
       "    -1.6213,\n",
       "    -1.6213,\n",
       "    -1.5982,\n",
       "    -1.5421,\n",
       "    -1.471,\n",
       "    -1.3938,\n",
       "    -1.3148,\n",
       "    -1.2359,\n",
       "    -1.1585,\n",
       "    -1.0836,\n",
       "    -1.0118,\n",
       "    -0.944,\n",
       "    -0.8806,\n",
       "    -0.8223,\n",
       "    -0.7695,\n",
       "    -0.7228,\n",
       "    -0.6825,\n",
       "    -0.649,\n",
       "    -0.6227,\n",
       "    -0.6036,\n",
       "    -0.5922,\n",
       "    -0.5883,\n",
       "    -0.5883,\n",
       "    -0.5923,\n",
       "    -0.6041,\n",
       "    -0.6235,\n",
       "    -0.6498,\n",
       "    -0.6825,\n",
       "    -0.7206,\n",
       "    -0.7633,\n",
       "    -0.8095,\n",
       "    -0.8582,\n",
       "    -0.9082,\n",
       "    -0.9587,\n",
       "    -1.0085,\n",
       "    -1.0567,\n",
       "    -1.1025,\n",
       "    -1.145,\n",
       "    -1.1835,\n",
       "    -1.2174,\n",
       "    -1.2174,\n",
       "    -1.269,\n",
       "    -1.3167,\n",
       "    -1.3599,\n",
       "    -1.3983,\n",
       "    -1.4314,\n",
       "    -1.459,\n",
       "    -1.4807,\n",
       "    -1.4964,\n",
       "    -1.5058,\n",
       "    -1.509],\n",
       "   [4.9077,\n",
       "    4.9202,\n",
       "    4.9571,\n",
       "    5.0162,\n",
       "    5.0942,\n",
       "    5.1868,\n",
       "    5.2889,\n",
       "    5.3952,\n",
       "    5.4997,\n",
       "    5.5966,\n",
       "    5.6804,\n",
       "    5.7458,\n",
       "    5.7886,\n",
       "    5.8055,\n",
       "    5.7953,\n",
       "    5.7585,\n",
       "    5.6975,\n",
       "    5.6162,\n",
       "    5.5194,\n",
       "    5.4126,\n",
       "    5.3012,\n",
       "    5.1905,\n",
       "    5.0852,\n",
       "    4.9892,\n",
       "    4.9061,\n",
       "    4.8386,\n",
       "    4.7889,\n",
       "    4.7585,\n",
       "    4.7482,\n",
       "    4.7482,\n",
       "    4.7685,\n",
       "    4.8289,\n",
       "    4.9275,\n",
       "    5.0616,\n",
       "    5.2276,\n",
       "    5.421,\n",
       "    5.6364,\n",
       "    5.8675,\n",
       "    6.1063,\n",
       "    6.3426,\n",
       "    6.5623,\n",
       "    6.7464,\n",
       "    6.8717,\n",
       "    6.9167,\n",
       "    6.9167,\n",
       "    6.8987,\n",
       "    6.8477,\n",
       "    6.7717,\n",
       "    6.6804,\n",
       "    6.5843,\n",
       "    6.4926,\n",
       "    6.4131,\n",
       "    6.352,\n",
       "    6.3135,\n",
       "    6.3004,\n",
       "    6.3004,\n",
       "    6.5514,\n",
       "    6.7986,\n",
       "    7.0351,\n",
       "    7.2523,\n",
       "    7.4386,\n",
       "    7.5795,\n",
       "    7.6597,\n",
       "    7.67,\n",
       "    7.6136,\n",
       "    7.5049,\n",
       "    7.3607,\n",
       "    7.1949,\n",
       "    7.0171,\n",
       "    6.8335,\n",
       "    6.6483,\n",
       "    6.4642,\n",
       "    6.2829,\n",
       "    6.1061,\n",
       "    5.935,\n",
       "    5.7706,\n",
       "    5.6144,\n",
       "    5.468,\n",
       "    5.3333,\n",
       "    5.2124,\n",
       "    5.1081,\n",
       "    5.023,\n",
       "    4.9598,\n",
       "    4.9208,\n",
       "    4.9077,\n",
       "    4.9077,\n",
       "    4.9205,\n",
       "    4.9585,\n",
       "    5.0205,\n",
       "    5.1045,\n",
       "    5.2085,\n",
       "    5.3301,\n",
       "    5.4672,\n",
       "    5.618,\n",
       "    5.7812,\n",
       "    5.9553,\n",
       "    6.1393,\n",
       "    6.3326,\n",
       "    6.5342,\n",
       "    6.7435,\n",
       "    6.96,\n",
       "    7.183,\n",
       "    7.4114,\n",
       "    7.6444,\n",
       "    7.8807,\n",
       "    8.1186,\n",
       "    8.355,\n",
       "    8.5838,\n",
       "    8.786,\n",
       "    8.8864,\n",
       "    8.8864,\n",
       "    8.8637,\n",
       "    8.7979,\n",
       "    8.6957,\n",
       "    8.5651,\n",
       "    8.4133,\n",
       "    8.2463,\n",
       "    8.0689,\n",
       "    7.8849,\n",
       "    7.697,\n",
       "    7.5078,\n",
       "    7.3193,\n",
       "    7.1333,\n",
       "    6.9517,\n",
       "    6.776,\n",
       "    6.6078,\n",
       "    6.4488,\n",
       "    6.3004,\n",
       "    6.3004,\n",
       "    6.3135,\n",
       "    6.352,\n",
       "    6.4131,\n",
       "    6.4926,\n",
       "    6.5843,\n",
       "    6.6804,\n",
       "    6.7717,\n",
       "    6.8477,\n",
       "    6.8987,\n",
       "    6.9167,\n",
       "    6.9167,\n",
       "    6.9248,\n",
       "    6.9493,\n",
       "    6.9898,\n",
       "    7.0462,\n",
       "    7.1179,\n",
       "    7.2043,\n",
       "    7.3047,\n",
       "    7.4182,\n",
       "    7.5437,\n",
       "    7.6797,\n",
       "    7.8244,\n",
       "    7.9758,\n",
       "    8.1311,\n",
       "    8.2867,\n",
       "    8.438,\n",
       "    8.5793,\n",
       "    8.7031,\n",
       "    8.8011,\n",
       "    8.8645,\n",
       "    8.8864,\n",
       "    8.8864,\n",
       "    8.8637,\n",
       "    8.7979,\n",
       "    8.6957,\n",
       "    8.5651,\n",
       "    8.4133,\n",
       "    8.2463,\n",
       "    8.0689,\n",
       "    7.8849,\n",
       "    7.697,\n",
       "    7.5078,\n",
       "    7.3193,\n",
       "    7.1333,\n",
       "    6.9517,\n",
       "    6.776,\n",
       "    6.6078,\n",
       "    6.4488,\n",
       "    6.3004,\n",
       "    6.3004,\n",
       "    6.0598,\n",
       "    5.826,\n",
       "    5.6037,\n",
       "    5.3977,\n",
       "    5.2125,\n",
       "    5.0528,\n",
       "    4.923,\n",
       "    4.8271,\n",
       "    4.7681,\n",
       "    4.7482],\n",
       "   [11.6267,\n",
       "    11.6293,\n",
       "    11.6371,\n",
       "    11.6502,\n",
       "    11.6691,\n",
       "    11.694,\n",
       "    11.7252,\n",
       "    11.7631,\n",
       "    11.8077,\n",
       "    11.8593,\n",
       "    11.9177,\n",
       "    11.9827,\n",
       "    12.054,\n",
       "    12.131,\n",
       "    12.2129,\n",
       "    12.2989,\n",
       "    12.3878,\n",
       "    12.4784,\n",
       "    12.5695,\n",
       "    12.6593,\n",
       "    12.7463,\n",
       "    12.8288,\n",
       "    12.905,\n",
       "    12.9731,\n",
       "    13.0316,\n",
       "    13.0787,\n",
       "    13.1134,\n",
       "    13.1346,\n",
       "    13.1418,\n",
       "    13.1418,\n",
       "    13.1049,\n",
       "    12.9972,\n",
       "    12.8259,\n",
       "    12.6012,\n",
       "    12.3351,\n",
       "    12.0387,\n",
       "    11.7232,\n",
       "    11.3991,\n",
       "    11.0776,\n",
       "    10.7713,\n",
       "    10.4958,\n",
       "    10.2711,\n",
       "    10.1211,\n",
       "    10.0679,\n",
       "    10.0679,\n",
       "    10.0934,\n",
       "    10.1675,\n",
       "    10.283,\n",
       "    10.4297,\n",
       "    10.5958,\n",
       "    10.7685,\n",
       "    10.9335,\n",
       "    11.0739,\n",
       "    11.1705,\n",
       "    11.2052,\n",
       "    11.2052,\n",
       "    10.9345,\n",
       "    10.6743,\n",
       "    10.4307,\n",
       "    10.2113,\n",
       "    10.0268,\n",
       "    9.891,\n",
       "    9.8182,\n",
       "    9.8171,\n",
       "    9.8834,\n",
       "    10.0021,\n",
       "    10.1553,\n",
       "    10.328,\n",
       "    10.5092,\n",
       "    10.691,\n",
       "    10.8672,\n",
       "    11.0331,\n",
       "    11.1843,\n",
       "    11.3172,\n",
       "    11.429,\n",
       "    11.5177,\n",
       "    11.5829,\n",
       "    11.6258,\n",
       "    11.6491,\n",
       "    11.6569,\n",
       "    11.6543,\n",
       "    11.646,\n",
       "    11.6365,\n",
       "    11.6293,\n",
       "    11.6267,\n",
       "    11.6267,\n",
       "    11.6275,\n",
       "    11.6296,\n",
       "    11.6321,\n",
       "    11.6337,\n",
       "    11.6325,\n",
       "    11.6265,\n",
       "    11.6134,\n",
       "    11.5908,\n",
       "    11.5565,\n",
       "    11.5084,\n",
       "    11.4448,\n",
       "    11.3643,\n",
       "    11.266,\n",
       "    11.1494,\n",
       "    11.0148,\n",
       "    10.8628,\n",
       "    10.6943,\n",
       "    10.511,\n",
       "    10.3148,\n",
       "    10.1083,\n",
       "    9.8953,\n",
       "    9.6827,\n",
       "    9.4901,\n",
       "    9.3926,\n",
       "    9.3926,\n",
       "    9.4012,\n",
       "    9.4261,\n",
       "    9.4666,\n",
       "    9.5218,\n",
       "    9.5912,\n",
       "    9.6744,\n",
       "    9.7706,\n",
       "    9.8792,\n",
       "    9.9992,\n",
       "    10.1295,\n",
       "    10.269,\n",
       "    10.4162,\n",
       "    10.5696,\n",
       "    10.7273,\n",
       "    10.8872,\n",
       "    11.0473,\n",
       "    11.2052,\n",
       "    11.2052,\n",
       "    11.1705,\n",
       "    11.0739,\n",
       "    10.9335,\n",
       "    10.7685,\n",
       "    10.5958,\n",
       "    10.4297,\n",
       "    10.283,\n",
       "    10.1675,\n",
       "    10.0934,\n",
       "    10.0679,\n",
       "    10.0679,\n",
       "    10.0663,\n",
       "    10.0612,\n",
       "    10.0525,\n",
       "    10.04,\n",
       "    10.0233,\n",
       "    10.0019,\n",
       "    9.9752,\n",
       "    9.9429,\n",
       "    9.9045,\n",
       "    9.8599,\n",
       "    9.809,\n",
       "    9.7528,\n",
       "    9.6924,\n",
       "    9.6301,\n",
       "    9.5688,\n",
       "    9.5117,\n",
       "    9.4626,\n",
       "    9.4248,\n",
       "    9.4008,\n",
       "    9.3926,\n",
       "    9.3926,\n",
       "    9.4012,\n",
       "    9.4261,\n",
       "    9.4666,\n",
       "    9.5218,\n",
       "    9.5912,\n",
       "    9.6744,\n",
       "    9.7706,\n",
       "    9.8792,\n",
       "    9.9992,\n",
       "    10.1295,\n",
       "    10.269,\n",
       "    10.4162,\n",
       "    10.5696,\n",
       "    10.7273,\n",
       "    10.8872,\n",
       "    11.0473,\n",
       "    11.2052,\n",
       "    11.2052,\n",
       "    11.4719,\n",
       "    11.7389,\n",
       "    12.0016,\n",
       "    12.2544,\n",
       "    12.4912,\n",
       "    12.7044,\n",
       "    12.885,\n",
       "    13.0238,\n",
       "    13.1116,\n",
       "    13.1418],\n",
       "   [11.6267,\n",
       "    11.6293,\n",
       "    11.6371,\n",
       "    11.6503,\n",
       "    11.6691,\n",
       "    11.694,\n",
       "    11.7252,\n",
       "    11.7631,\n",
       "    11.8077,\n",
       "    11.8593,\n",
       "    11.9177,\n",
       "    11.9828,\n",
       "    12.0541,\n",
       "    12.131,\n",
       "    12.213,\n",
       "    12.2989,\n",
       "    12.3879,\n",
       "    12.4785,\n",
       "    12.5696,\n",
       "    12.6594,\n",
       "    12.7463,\n",
       "    12.8288,\n",
       "    12.905,\n",
       "    12.9732,\n",
       "    13.0316,\n",
       "    13.0787,\n",
       "    13.1135,\n",
       "    13.1347,\n",
       "    13.1418,\n",
       "    13.1418,\n",
       "    13.1449,\n",
       "    13.1541,\n",
       "    13.1694,\n",
       "    13.1906,\n",
       "    13.2175,\n",
       "    13.2499,\n",
       "    13.2875,\n",
       "    13.3299,\n",
       "    13.3768,\n",
       "    13.4276,\n",
       "    13.482,\n",
       "    13.5392,\n",
       "    13.5987,\n",
       "    13.6596,\n",
       "    13.6596,\n",
       "    13.6116,\n",
       "    13.553,\n",
       "    13.4832,\n",
       "    13.4017,\n",
       "    13.3097,\n",
       "    13.2105,\n",
       "    13.1104,\n",
       "    13.0202,\n",
       "    12.9553,\n",
       "    12.9314,\n",
       "    12.9314,\n",
       "    12.9067,\n",
       "    12.8876,\n",
       "    12.876,\n",
       "    12.8741,\n",
       "    12.8835,\n",
       "    12.9064,\n",
       "    12.9446,\n",
       "    12.9999,\n",
       "    12.9516,\n",
       "    12.8369,\n",
       "    12.7231,\n",
       "    12.6113,\n",
       "    12.5026,\n",
       "    12.3976,\n",
       "    12.2976,\n",
       "    12.2031,\n",
       "    12.1148,\n",
       "    12.0334,\n",
       "    11.9593,\n",
       "    11.8928,\n",
       "    11.8341,\n",
       "    11.7832,\n",
       "    11.74,\n",
       "    11.7042,\n",
       "    11.6757,\n",
       "    11.6539,\n",
       "    11.6387,\n",
       "    11.6297,\n",
       "    11.6267,\n",
       "    11.6267,\n",
       "    11.6335,\n",
       "    11.6534,\n",
       "    11.6857,\n",
       "    11.7287,\n",
       "    11.7803,\n",
       "    11.8376,\n",
       "    11.8974,\n",
       "    11.9556,\n",
       "    12.0082,\n",
       "    12.0512,\n",
       "    12.0811,\n",
       "    12.0959,\n",
       "    12.0948,\n",
       "    12.079,\n",
       "    12.0507,\n",
       "    12.0134,\n",
       "    11.9707,\n",
       "    11.9262,\n",
       "    11.8832,\n",
       "    11.8444,\n",
       "    11.8121,\n",
       "    11.7879,\n",
       "    11.7729,\n",
       "    11.7679,\n",
       "    11.7679,\n",
       "    11.7778,\n",
       "    11.8074,\n",
       "    11.8557,\n",
       "    11.9209,\n",
       "    12.0008,\n",
       "    12.0925,\n",
       "    12.1928,\n",
       "    12.2978,\n",
       "    12.4039,\n",
       "    12.507,\n",
       "    12.6036,\n",
       "    12.6906,\n",
       "    12.7657,\n",
       "    12.8276,\n",
       "    12.8756,\n",
       "    12.9099,\n",
       "    12.9314,\n",
       "    12.9314,\n",
       "    12.9553,\n",
       "    13.0202,\n",
       "    13.1104,\n",
       "    13.2105,\n",
       "    13.3097,\n",
       "    13.4017,\n",
       "    13.4832,\n",
       "    13.553,\n",
       "    13.6116,\n",
       "    13.6596,\n",
       "    13.6596,\n",
       "    13.6498,\n",
       "    13.6207,\n",
       "    13.5715,\n",
       "    13.5015,\n",
       "    13.4103,\n",
       "    13.2985,\n",
       "    13.168,\n",
       "    13.0221,\n",
       "    12.8654,\n",
       "    12.7038,\n",
       "    12.5433,\n",
       "    12.3896,\n",
       "    12.2476,\n",
       "    12.1212,\n",
       "    12.0129,\n",
       "    11.9241,\n",
       "    11.8553,\n",
       "    11.8066,\n",
       "    11.7775,\n",
       "    11.7679,\n",
       "    11.7679,\n",
       "    11.7778,\n",
       "    11.8074,\n",
       "    11.8557,\n",
       "    11.9209,\n",
       "    12.0008,\n",
       "    12.0925,\n",
       "    12.1928,\n",
       "    12.2978,\n",
       "    12.4039,\n",
       "    12.507,\n",
       "    12.6036,\n",
       "    12.6906,\n",
       "    12.7657,\n",
       "    12.8276,\n",
       "    12.8756,\n",
       "    12.9099,\n",
       "    12.9314,\n",
       "    12.9314,\n",
       "    12.9589,\n",
       "    12.9884,\n",
       "    13.0182,\n",
       "    13.0471,\n",
       "    13.0737,\n",
       "    13.097,\n",
       "    13.116,\n",
       "    13.1302,\n",
       "    13.1389,\n",
       "    13.1418],\n",
       "   [11.6268,\n",
       "    11.6356,\n",
       "    11.6624,\n",
       "    11.7069,\n",
       "    11.7688,\n",
       "    11.8478,\n",
       "    11.9434,\n",
       "    12.0551,\n",
       "    12.1822,\n",
       "    12.3239,\n",
       "    12.4792,\n",
       "    12.6469,\n",
       "    12.826,\n",
       "    13.0148,\n",
       "    13.2117,\n",
       "    13.4148,\n",
       "    13.413,\n",
       "    13.4199,\n",
       "    13.4625,\n",
       "    13.5332,\n",
       "    13.624,\n",
       "    13.7273,\n",
       "    13.8358,\n",
       "    13.9422,\n",
       "    14.04,\n",
       "    14.1231,\n",
       "    14.1866,\n",
       "    14.226,\n",
       "    14.2396,\n",
       "    14.2396,\n",
       "    14.2357,\n",
       "    14.2242,\n",
       "    14.2052,\n",
       "    14.1793,\n",
       "    14.1464,\n",
       "    14.1073,\n",
       "    14.0626,\n",
       "    14.0132,\n",
       "    13.9597,\n",
       "    13.9028,\n",
       "    13.8438,\n",
       "    13.7829,\n",
       "    13.7212,\n",
       "    13.6596,\n",
       "    13.6596,\n",
       "    13.7001,\n",
       "    13.7355,\n",
       "    13.7664,\n",
       "    13.7926,\n",
       "    13.8144,\n",
       "    13.832,\n",
       "    13.8455,\n",
       "    13.8551,\n",
       "    13.8609,\n",
       "    13.8628,\n",
       "    13.8628,\n",
       "    13.7823,\n",
       "    13.6952,\n",
       "    13.6018,\n",
       "    13.5027,\n",
       "    13.3987,\n",
       "    13.2907,\n",
       "    13.1795,\n",
       "    13.0661,\n",
       "    13.0738,\n",
       "    13.168,\n",
       "    13.2838,\n",
       "    13.4223,\n",
       "    13.5846,\n",
       "    13.6669,\n",
       "    13.405,\n",
       "    13.1608,\n",
       "    12.9345,\n",
       "    12.726,\n",
       "    12.5356,\n",
       "    12.3631,\n",
       "    12.2087,\n",
       "    12.0724,\n",
       "    11.9542,\n",
       "    11.8542,\n",
       "    11.7723,\n",
       "    11.7086,\n",
       "    11.6631,\n",
       "    11.6358,\n",
       "    11.6268,\n",
       "    11.6268,\n",
       "    11.6335,\n",
       "    11.6534,\n",
       "    11.6857,\n",
       "    11.7287,\n",
       "    11.7803,\n",
       "    11.8376,\n",
       "    11.8974,\n",
       "    11.9556,\n",
       "    12.0082,\n",
       "    12.0512,\n",
       "    12.0811,\n",
       "    12.0959,\n",
       "    12.0948,\n",
       "    12.079,\n",
       "    12.0507,\n",
       "    12.0134,\n",
       "    11.9707,\n",
       "    11.9262,\n",
       "    11.8832,\n",
       "    11.8444,\n",
       "    11.8121,\n",
       "    11.7879,\n",
       "    11.7729,\n",
       "    11.7679,\n",
       "    11.7679,\n",
       "    11.7923,\n",
       "    11.8631,\n",
       "    11.9733,\n",
       "    12.1141,\n",
       "    12.2764,\n",
       "    12.4516,\n",
       "    12.6325,\n",
       "    12.813,\n",
       "    12.9877,\n",
       "    13.1526,\n",
       "    13.3043,\n",
       "    13.4404,\n",
       "    13.5594,\n",
       "    13.6608,\n",
       "    13.7446,\n",
       "    13.8115,\n",
       "    13.8628,\n",
       "    13.8628,\n",
       "    13.8609,\n",
       "    13.8551,\n",
       "    13.8455,\n",
       "    13.832,\n",
       "    13.8144,\n",
       "    13.7926,\n",
       "    13.7664,\n",
       "    13.7355,\n",
       "    13.7001,\n",
       "    13.6596,\n",
       "    13.6596,\n",
       "    13.6539,\n",
       "    13.6366,\n",
       "    13.6076,\n",
       "    13.5661,\n",
       "    13.5114,\n",
       "    13.4428,\n",
       "    13.3595,\n",
       "    13.2611,\n",
       "    13.1477,\n",
       "    13.0199,\n",
       "    12.8791,\n",
       "    12.7274,\n",
       "    12.5683,\n",
       "    12.406,\n",
       "    12.2462,\n",
       "    12.0961,\n",
       "    11.9639,\n",
       "    11.8592,\n",
       "    11.7914,\n",
       "    11.7679,\n",
       "    11.7679,\n",
       "    11.7923,\n",
       "    11.8631,\n",
       "    11.9733,\n",
       "    12.1141,\n",
       "    12.2764,\n",
       "    12.4516,\n",
       "    12.6325,\n",
       "    12.813,\n",
       "    12.9877,\n",
       "    13.1526,\n",
       "    13.3043,\n",
       "    13.4404,\n",
       "    13.5594,\n",
       "    13.6608,\n",
       "    13.7446,\n",
       "    13.8115,\n",
       "    13.8628,\n",
       "    13.8628,\n",
       "    13.9336,\n",
       "    13.9975,\n",
       "    14.0539,\n",
       "    14.1032,\n",
       "    14.1449,\n",
       "    14.1789,\n",
       "    14.2055,\n",
       "    14.2244,\n",
       "    14.2358,\n",
       "    14.2396],\n",
       "   [18.5937,\n",
       "    18.4343,\n",
       "    18.0475,\n",
       "    17.5625,\n",
       "    17.0474,\n",
       "    16.5339,\n",
       "    16.038,\n",
       "    15.5699,\n",
       "    15.1366,\n",
       "    14.7442,\n",
       "    14.3975,\n",
       "    14.1006,\n",
       "    13.8565,\n",
       "    13.6669,\n",
       "    13.5314,\n",
       "    13.4481,\n",
       "    13.6221,\n",
       "    13.831,\n",
       "    14.039,\n",
       "    14.243,\n",
       "    14.4399,\n",
       "    14.6262,\n",
       "    14.7982,\n",
       "    14.9522,\n",
       "    15.0845,\n",
       "    15.1916,\n",
       "    15.2706,\n",
       "    15.3189,\n",
       "    15.3352,\n",
       "    15.3352,\n",
       "    15.3479,\n",
       "    15.3858,\n",
       "    15.4489,\n",
       "    15.5372,\n",
       "    15.6505,\n",
       "    15.7889,\n",
       "    15.9521,\n",
       "    16.14,\n",
       "    16.3525,\n",
       "    16.5892,\n",
       "    16.85,\n",
       "    17.1344,\n",
       "    17.442,\n",
       "    17.7723,\n",
       "    17.7723,\n",
       "    17.5393,\n",
       "    17.3197,\n",
       "    17.116,\n",
       "    16.9308,\n",
       "    16.7673,\n",
       "    16.6285,\n",
       "    16.5174,\n",
       "    16.4362,\n",
       "    16.3868,\n",
       "    16.3703,\n",
       "    16.3703,\n",
       "    16.576,\n",
       "    16.7964,\n",
       "    17.0293,\n",
       "    17.2319,\n",
       "    16.8016,\n",
       "    16.3867,\n",
       "    15.9878,\n",
       "    15.6053,\n",
       "    15.2393,\n",
       "    14.8902,\n",
       "    14.5583,\n",
       "    14.2437,\n",
       "    13.9465,\n",
       "    13.7713,\n",
       "    13.983,\n",
       "    14.2201,\n",
       "    14.4826,\n",
       "    14.7703,\n",
       "    15.0828,\n",
       "    15.4194,\n",
       "    15.7786,\n",
       "    16.159,\n",
       "    16.5578,\n",
       "    16.9706,\n",
       "    17.3904,\n",
       "    17.8037,\n",
       "    18.1841,\n",
       "    18.4772,\n",
       "    18.5937,\n",
       "    18.5937,\n",
       "    18.524,\n",
       "    18.3412,\n",
       "    18.0952,\n",
       "    17.825,\n",
       "    17.5544,\n",
       "    17.2979,\n",
       "    17.0649,\n",
       "    16.8625,\n",
       "    16.6961,\n",
       "    16.5698,\n",
       "    16.4863,\n",
       "    16.4464,\n",
       "    16.4488,\n",
       "    16.4899,\n",
       "    16.5642,\n",
       "    16.6648,\n",
       "    16.7835,\n",
       "    16.9116,\n",
       "    17.0404,\n",
       "    17.1612,\n",
       "    17.2657,\n",
       "    17.3464,\n",
       "    17.3975,\n",
       "    17.4148,\n",
       "    17.4148,\n",
       "    17.4078,\n",
       "    17.3866,\n",
       "    17.3529,\n",
       "    17.3086,\n",
       "    17.256,\n",
       "    17.1977,\n",
       "    17.1357,\n",
       "    17.0717,\n",
       "    17.0069,\n",
       "    16.9415,\n",
       "    16.8751,\n",
       "    16.8066,\n",
       "    16.7345,\n",
       "    16.6568,\n",
       "    16.5715,\n",
       "    16.4766,\n",
       "    16.3703,\n",
       "    16.3703,\n",
       "    16.3868,\n",
       "    16.4362,\n",
       "    16.5174,\n",
       "    16.6285,\n",
       "    16.7673,\n",
       "    16.9308,\n",
       "    17.116,\n",
       "    17.3197,\n",
       "    17.5393,\n",
       "    17.7723,\n",
       "    17.7723,\n",
       "    17.7536,\n",
       "    17.7006,\n",
       "    17.6207,\n",
       "    17.5249,\n",
       "    17.4246,\n",
       "    17.3303,\n",
       "    17.2501,\n",
       "    17.1893,\n",
       "    17.1501,\n",
       "    17.1328,\n",
       "    17.1353,\n",
       "    17.1545,\n",
       "    17.1867,\n",
       "    17.2274,\n",
       "    17.2722,\n",
       "    17.3166,\n",
       "    17.3565,\n",
       "    17.3879,\n",
       "    17.4081,\n",
       "    17.4148,\n",
       "    17.4148,\n",
       "    17.4078,\n",
       "    17.3866,\n",
       "    17.3529,\n",
       "    17.3086,\n",
       "    17.256,\n",
       "    17.1977,\n",
       "    17.1357,\n",
       "    17.0717,\n",
       "    17.0069,\n",
       "    16.9415,\n",
       "    16.8751,\n",
       "    16.8066,\n",
       "    16.7345,\n",
       "    16.6568,\n",
       "    16.5715,\n",
       "    16.4766,\n",
       "    16.3703,\n",
       "    16.3703,\n",
       "    16.1867,\n",
       "    16.0192,\n",
       "    15.8685,\n",
       "    15.7349,\n",
       "    15.619,\n",
       "    15.5211,\n",
       "    15.4423,\n",
       "    15.3838,\n",
       "    15.3476,\n",
       "    15.3352],\n",
       "   [18.5937,\n",
       "    18.6152,\n",
       "    18.6796,\n",
       "    18.786,\n",
       "    18.9332,\n",
       "    19.1196,\n",
       "    19.343,\n",
       "    19.6009,\n",
       "    19.8902,\n",
       "    20.2073,\n",
       "    20.5478,\n",
       "    20.9063,\n",
       "    21.2757,\n",
       "    21.6469,\n",
       "    21.7758,\n",
       "    21.524,\n",
       "    21.2771,\n",
       "    21.0368,\n",
       "    20.8064,\n",
       "    20.5873,\n",
       "    20.3812,\n",
       "    20.1906,\n",
       "    20.0175,\n",
       "    19.8643,\n",
       "    19.7337,\n",
       "    19.6283,\n",
       "    19.5509,\n",
       "    19.5034,\n",
       "    19.4874,\n",
       "    19.4874,\n",
       "    19.5211,\n",
       "    19.6198,\n",
       "    19.7766,\n",
       "    19.9824,\n",
       "    20.2273,\n",
       "    20.502,\n",
       "    20.6204,\n",
       "    20.1703,\n",
       "    19.7296,\n",
       "    19.3021,\n",
       "    18.8909,\n",
       "    18.4978,\n",
       "    18.1245,\n",
       "    17.7723,\n",
       "    17.7723,\n",
       "    18.0043,\n",
       "    18.2202,\n",
       "    18.417,\n",
       "    18.592,\n",
       "    18.7426,\n",
       "    18.8674,\n",
       "    18.9651,\n",
       "    19.035,\n",
       "    19.077,\n",
       "    19.091,\n",
       "    19.091,\n",
       "    18.6078,\n",
       "    18.136,\n",
       "    17.6769,\n",
       "    17.2717,\n",
       "    17.5198,\n",
       "    17.7688,\n",
       "    18.0124,\n",
       "    18.2423,\n",
       "    18.4479,\n",
       "    18.6166,\n",
       "    18.735,\n",
       "    18.7916,\n",
       "    18.7825,\n",
       "    18.7141,\n",
       "    18.6015,\n",
       "    18.4646,\n",
       "    18.3223,\n",
       "    18.191,\n",
       "    18.0838,\n",
       "    18.0103,\n",
       "    17.9764,\n",
       "    17.9848,\n",
       "    18.034,\n",
       "    18.119,\n",
       "    18.2308,\n",
       "    18.3554,\n",
       "    18.4737,\n",
       "    18.5611,\n",
       "    18.5937,\n",
       "    18.5937,\n",
       "    18.524,\n",
       "    18.3412,\n",
       "    18.0952,\n",
       "    17.825,\n",
       "    17.5544,\n",
       "    17.2979,\n",
       "    17.0649,\n",
       "    16.8625,\n",
       "    16.6961,\n",
       "    16.5698,\n",
       "    16.4863,\n",
       "    16.4464,\n",
       "    16.4488,\n",
       "    16.4899,\n",
       "    16.5642,\n",
       "    16.6648,\n",
       "    16.7835,\n",
       "    16.9116,\n",
       "    17.0404,\n",
       "    17.1612,\n",
       "    17.2657,\n",
       "    17.3464,\n",
       "    17.3975,\n",
       "    17.4148,\n",
       "    17.4148,\n",
       "    17.415,\n",
       "    17.4159,\n",
       "    17.4185,\n",
       "    17.4247,\n",
       "    17.437,\n",
       "    17.4585,\n",
       "    17.4923,\n",
       "    17.5423,\n",
       "    17.612,\n",
       "    17.7046,\n",
       "    17.8228,\n",
       "    17.9684,\n",
       "    18.1421,\n",
       "    18.3436,\n",
       "    18.571,\n",
       "    18.8214,\n",
       "    19.091,\n",
       "    19.091,\n",
       "    19.077,\n",
       "    19.035,\n",
       "    18.9651,\n",
       "    18.8674,\n",
       "    18.7426,\n",
       "    18.592,\n",
       "    18.417,\n",
       "    18.2202,\n",
       "    18.0043,\n",
       "    17.7723,\n",
       "    17.7723,\n",
       "    17.7681,\n",
       "    17.7557,\n",
       "    17.7359,\n",
       "    17.7096,\n",
       "    17.6783,\n",
       "    17.6438,\n",
       "    17.6078,\n",
       "    17.5721,\n",
       "    17.5384,\n",
       "    17.5081,\n",
       "    17.482,\n",
       "    17.4607,\n",
       "    17.4443,\n",
       "    17.4323,\n",
       "    17.4243,\n",
       "    17.4194,\n",
       "    17.4168,\n",
       "    17.4156,\n",
       "    17.4151,\n",
       "    17.4148,\n",
       "    17.4148,\n",
       "    17.415,\n",
       "    17.4159,\n",
       "    17.4185,\n",
       "    17.4247,\n",
       "    17.437,\n",
       "    17.4585,\n",
       "    17.4923,\n",
       "    17.5423,\n",
       "    17.612,\n",
       "    17.7046,\n",
       "    17.8228,\n",
       "    17.9684,\n",
       "    18.1421,\n",
       "    18.3436,\n",
       "    18.571,\n",
       "    18.8214,\n",
       "    19.091,\n",
       "    19.091,\n",
       "    19.567,\n",
       "    20.049,\n",
       "    20.5335,\n",
       "    20.4981,\n",
       "    20.2234,\n",
       "    19.9781,\n",
       "    19.773,\n",
       "    19.6176,\n",
       "    19.5204,\n",
       "    19.4874],\n",
       "   [18.5938,\n",
       "    18.6152,\n",
       "    18.6796,\n",
       "    18.786,\n",
       "    18.9332,\n",
       "    19.1197,\n",
       "    19.3431,\n",
       "    19.601,\n",
       "    19.8902,\n",
       "    20.2073,\n",
       "    20.5478,\n",
       "    20.9063,\n",
       "    21.2757,\n",
       "    21.647,\n",
       "    22.008,\n",
       "    22.3439,\n",
       "    22.6371,\n",
       "    22.8717,\n",
       "    23.0382,\n",
       "    23.1377,\n",
       "    23.1806,\n",
       "    23.182,\n",
       "    23.1565,\n",
       "    23.1168,\n",
       "    23.0726,\n",
       "    23.0313,\n",
       "    22.9983,\n",
       "    22.9771,\n",
       "    22.9698,\n",
       "    22.9698,\n",
       "    22.8908,\n",
       "    22.6701,\n",
       "    22.3447,\n",
       "    21.9525,\n",
       "    21.5223,\n",
       "    21.0739,\n",
       "    20.7985,\n",
       "    21.1097,\n",
       "    21.429,\n",
       "    21.7489,\n",
       "    22.0587,\n",
       "    22.3389,\n",
       "    22.5517,\n",
       "    22.6358,\n",
       "    22.6358,\n",
       "    22.5942,\n",
       "    22.4865,\n",
       "    22.3443,\n",
       "    22.1932,\n",
       "    22.05,\n",
       "    21.9246,\n",
       "    21.8227,\n",
       "    21.748,\n",
       "    21.7025,\n",
       "    21.6872,\n",
       "    21.6872,\n",
       "    21.9614,\n",
       "    22.1974,\n",
       "    22.382,\n",
       "    22.5057,\n",
       "    22.564,\n",
       "    22.5594,\n",
       "    22.5015,\n",
       "    22.4053,\n",
       "    22.2896,\n",
       "    22.1757,\n",
       "    22.0851,\n",
       "    22.036,\n",
       "    22.0385,\n",
       "    22.0911,\n",
       "    22.0698,\n",
       "    21.7001,\n",
       "    21.3271,\n",
       "    20.9578,\n",
       "    20.5985,\n",
       "    20.2554,\n",
       "    19.9337,\n",
       "    19.6381,\n",
       "    19.373,\n",
       "    19.1421,\n",
       "    18.9485,\n",
       "    18.7949,\n",
       "    18.6837,\n",
       "    18.6163,\n",
       "    18.5938,\n",
       "    18.5938,\n",
       "    18.6082,\n",
       "    18.6515,\n",
       "    18.723,\n",
       "    18.8216,\n",
       "    18.9459,\n",
       "    19.094,\n",
       "    19.2639,\n",
       "    19.4529,\n",
       "    19.6582,\n",
       "    19.8769,\n",
       "    20.1057,\n",
       "    20.3413,\n",
       "    20.5802,\n",
       "    20.8188,\n",
       "    21.0536,\n",
       "    21.2807,\n",
       "    21.4958,\n",
       "    21.695,\n",
       "    21.8739,\n",
       "    22.0281,\n",
       "    22.1532,\n",
       "    22.2458,\n",
       "    22.3026,\n",
       "    22.3216,\n",
       "    22.3216,\n",
       "    22.3253,\n",
       "    22.3355,\n",
       "    22.3519,\n",
       "    22.3733,\n",
       "    22.3977,\n",
       "    22.4223,\n",
       "    22.4429,\n",
       "    22.4546,\n",
       "    22.4525,\n",
       "    22.4317,\n",
       "    22.3891,\n",
       "    22.3234,\n",
       "    22.2345,\n",
       "    22.1241,\n",
       "    21.9937,\n",
       "    21.8467,\n",
       "    21.6872,\n",
       "    21.6872,\n",
       "    21.7025,\n",
       "    21.748,\n",
       "    21.8227,\n",
       "    21.9246,\n",
       "    22.05,\n",
       "    22.1932,\n",
       "    22.3443,\n",
       "    22.4865,\n",
       "    22.5942,\n",
       "    22.6358,\n",
       "    22.6358,\n",
       "    22.6354,\n",
       "    22.6345,\n",
       "    22.6326,\n",
       "    22.6292,\n",
       "    22.6237,\n",
       "    22.6152,\n",
       "    22.6035,\n",
       "    22.5878,\n",
       "    22.568,\n",
       "    22.5443,\n",
       "    22.5173,\n",
       "    22.4877,\n",
       "    22.457,\n",
       "    22.4266,\n",
       "    22.3978,\n",
       "    22.3722,\n",
       "    22.351,\n",
       "    22.335,\n",
       "    22.3252,\n",
       "    22.3216,\n",
       "    22.3216,\n",
       "    22.3253,\n",
       "    22.3355,\n",
       "    22.3519,\n",
       "    22.3733,\n",
       "    22.3977,\n",
       "    22.4223,\n",
       "    22.4429,\n",
       "    22.4546,\n",
       "    22.4525,\n",
       "    22.4317,\n",
       "    22.3891,\n",
       "    22.3234,\n",
       "    22.2345,\n",
       "    22.1241,\n",
       "    21.9937,\n",
       "    21.8467,\n",
       "    21.6872,\n",
       "    21.6872,\n",
       "    21.3975,\n",
       "    21.0956,\n",
       "    20.7923,\n",
       "    21.0148,\n",
       "    21.4848,\n",
       "    21.9309,\n",
       "    22.3341,\n",
       "    22.666,\n",
       "    22.8899,\n",
       "    22.9698],\n",
       "   [21.0414,\n",
       "    21.0502,\n",
       "    21.0767,\n",
       "    21.1207,\n",
       "    21.1824,\n",
       "    21.2617,\n",
       "    21.3586,\n",
       "    21.4732,\n",
       "    21.6054,\n",
       "    21.7551,\n",
       "    21.9225,\n",
       "    22.1075,\n",
       "    22.281,\n",
       "    22.0293,\n",
       "    22.0081,\n",
       "    22.3439,\n",
       "    22.6372,\n",
       "    22.8717,\n",
       "    23.0383,\n",
       "    23.1378,\n",
       "    23.1806,\n",
       "    23.182,\n",
       "    23.1566,\n",
       "    23.1169,\n",
       "    23.0727,\n",
       "    23.0313,\n",
       "    22.9983,\n",
       "    22.9771,\n",
       "    22.9698,\n",
       "    22.9698,\n",
       "    22.9769,\n",
       "    22.9983,\n",
       "    23.0338,\n",
       "    23.0831,\n",
       "    23.1456,\n",
       "    23.2208,\n",
       "    23.3076,\n",
       "    23.4044,\n",
       "    23.5089,\n",
       "    23.6173,\n",
       "    23.7235,\n",
       "    23.8177,\n",
       "    23.8853,\n",
       "    23.9104,\n",
       "    23.9104,\n",
       "    23.9044,\n",
       "    23.8897,\n",
       "    23.8718,\n",
       "    23.8553,\n",
       "    23.8431,\n",
       "    23.836,\n",
       "    23.8333,\n",
       "    23.8333,\n",
       "    23.8343,\n",
       "    23.8348,\n",
       "    23.8348,\n",
       "    24.0,\n",
       "    24.1699,\n",
       "    24.337,\n",
       "    24.4805,\n",
       "    24.5353,\n",
       "    24.4487,\n",
       "    24.2901,\n",
       "    24.1007,\n",
       "    23.8873,\n",
       "    23.649,\n",
       "    23.3837,\n",
       "    23.0906,\n",
       "    22.7712,\n",
       "    22.429,\n",
       "    22.1825,\n",
       "    22.2956,\n",
       "    22.4111,\n",
       "    22.5095,\n",
       "    22.5709,\n",
       "    22.5765,\n",
       "    22.5128,\n",
       "    22.3775,\n",
       "    22.1813,\n",
       "    21.9441,\n",
       "    21.6902,\n",
       "    21.4452,\n",
       "    21.2363,\n",
       "    21.093,\n",
       "    21.0414,\n",
       "    21.0414,\n",
       "    21.1321,\n",
       "    21.3776,\n",
       "    21.7278,\n",
       "    22.1429,\n",
       "    22.5978,\n",
       "    23.0752,\n",
       "    23.5605,\n",
       "    24.0382,\n",
       "    24.4886,\n",
       "    24.8859,\n",
       "    24.9576,\n",
       "    24.8364,\n",
       "    24.7338,\n",
       "    24.6493,\n",
       "    24.5831,\n",
       "    24.5334,\n",
       "    24.4984,\n",
       "    24.4763,\n",
       "    24.4644,\n",
       "    24.46,\n",
       "    24.4603,\n",
       "    24.4629,\n",
       "    24.4655,\n",
       "    24.4664,\n",
       "    24.4664,\n",
       "    24.4696,\n",
       "    24.4762,\n",
       "    24.4798,\n",
       "    24.4724,\n",
       "    24.4507,\n",
       "    24.4175,\n",
       "    24.3795,\n",
       "    24.3429,\n",
       "    24.3111,\n",
       "    24.2833,\n",
       "    24.2544,\n",
       "    24.2174,\n",
       "    24.1661,\n",
       "    24.0986,\n",
       "    24.0172,\n",
       "    23.9272,\n",
       "    23.8348,\n",
       "    23.8348,\n",
       "    23.8343,\n",
       "    23.8333,\n",
       "    23.8333,\n",
       "    23.836,\n",
       "    23.8431,\n",
       "    23.8554,\n",
       "    23.8718,\n",
       "    23.8897,\n",
       "    23.9044,\n",
       "    23.9104,\n",
       "    23.9104,\n",
       "    23.9219,\n",
       "    23.9522,\n",
       "    23.9922,\n",
       "    24.0354,\n",
       "    24.0795,\n",
       "    24.1244,\n",
       "    24.1703,\n",
       "    24.2166,\n",
       "    24.2627,\n",
       "    24.3078,\n",
       "    24.3505,\n",
       "    24.3895,\n",
       "    24.4234,\n",
       "    24.4508,\n",
       "    24.4701,\n",
       "    24.4803,\n",
       "    24.4814,\n",
       "    24.4762,\n",
       "    24.4695,\n",
       "    24.4664,\n",
       "    24.4664,\n",
       "    24.4696,\n",
       "    24.4762,\n",
       "    24.4798,\n",
       "    24.4724,\n",
       "    24.4507,\n",
       "    24.4175,\n",
       "    24.3795,\n",
       "    24.3429,\n",
       "    24.3111,\n",
       "    24.2833,\n",
       "    24.2545,\n",
       "    24.2174,\n",
       "    24.1661,\n",
       "    24.0986,\n",
       "    24.0172,\n",
       "    23.9272,\n",
       "    23.8348,\n",
       "    23.8348,\n",
       "    23.6835,\n",
       "    23.5428,\n",
       "    23.4145,\n",
       "    23.3004,\n",
       "    23.2017,\n",
       "    23.1193,\n",
       "    23.0544,\n",
       "    23.0076,\n",
       "    22.9793,\n",
       "    22.9698],\n",
       "   [21.0414,\n",
       "    21.2038,\n",
       "    21.5944,\n",
       "    22.0676,\n",
       "    22.5238,\n",
       "    22.8875,\n",
       "    23.104,\n",
       "    23.1638,\n",
       "    23.0985,\n",
       "    22.9505,\n",
       "    22.752,\n",
       "    22.5245,\n",
       "    22.3101,\n",
       "    22.5303,\n",
       "    22.7681,\n",
       "    23.0235,\n",
       "    23.2965,\n",
       "    23.587,\n",
       "    23.8953,\n",
       "    24.2209,\n",
       "    24.5638,\n",
       "    24.9243,\n",
       "    25.3022,\n",
       "    25.6972,\n",
       "    26.1091,\n",
       "    26.5373,\n",
       "    26.9797,\n",
       "    27.3486,\n",
       "    27.3304,\n",
       "    27.3304,\n",
       "    27.3035,\n",
       "    27.2254,\n",
       "    27.1019,\n",
       "    26.942,\n",
       "    26.755,\n",
       "    26.5499,\n",
       "    26.3349,\n",
       "    26.0607,\n",
       "    25.6918,\n",
       "    25.3263,\n",
       "    24.9786,\n",
       "    24.6697,\n",
       "    24.4392,\n",
       "    24.3494,\n",
       "    24.3494,\n",
       "    24.4055,\n",
       "    24.5598,\n",
       "    24.7834,\n",
       "    25.0517,\n",
       "    25.3474,\n",
       "    25.5854,\n",
       "    25.6495,\n",
       "    25.6991,\n",
       "    25.7305,\n",
       "    25.7412,\n",
       "    25.7412,\n",
       "    25.5383,\n",
       "    25.3467,\n",
       "    25.1711,\n",
       "    25.0286,\n",
       "    24.9794,\n",
       "    25.0698,\n",
       "    25.2231,\n",
       "    25.3905,\n",
       "    25.5568,\n",
       "    25.7162,\n",
       "    25.866,\n",
       "    25.88,\n",
       "    25.8587,\n",
       "    25.8292,\n",
       "    25.7858,\n",
       "    25.7202,\n",
       "    25.6207,\n",
       "    25.4709,\n",
       "    25.2521,\n",
       "    24.9483,\n",
       "    24.5555,\n",
       "    24.0889,\n",
       "    23.5722,\n",
       "    23.0313,\n",
       "    22.4904,\n",
       "    21.9738,\n",
       "    21.5155,\n",
       "    21.1742,\n",
       "    21.0414,\n",
       "    21.0414,\n",
       "    21.1321,\n",
       "    21.3776,\n",
       "    21.7278,\n",
       "    22.1429,\n",
       "    22.5978,\n",
       "    23.0752,\n",
       "    23.5605,\n",
       "    24.0382,\n",
       "    24.4886,\n",
       "    24.8859,\n",
       "    25.2036,\n",
       "    25.4253,\n",
       "    25.5534,\n",
       "    25.6043,\n",
       "    25.5979,\n",
       "    25.551,\n",
       "    25.4761,\n",
       "    25.3847,\n",
       "    25.2862,\n",
       "    25.1895,\n",
       "    25.1035,\n",
       "    25.0356,\n",
       "    24.9921,\n",
       "    24.9769,\n",
       "    24.9769,\n",
       "    24.9742,\n",
       "    24.9677,\n",
       "    24.9641,\n",
       "    24.9706,\n",
       "    24.9903,\n",
       "    25.0204,\n",
       "    25.055,\n",
       "    25.0897,\n",
       "    25.1236,\n",
       "    25.1592,\n",
       "    25.202,\n",
       "    25.2578,\n",
       "    25.3298,\n",
       "    25.4175,\n",
       "    25.5176,\n",
       "    25.6262,\n",
       "    25.7412,\n",
       "    25.7412,\n",
       "    25.7305,\n",
       "    25.6991,\n",
       "    25.6495,\n",
       "    25.5854,\n",
       "    25.3473,\n",
       "    25.0517,\n",
       "    24.7834,\n",
       "    24.5598,\n",
       "    24.4055,\n",
       "    24.3494,\n",
       "    24.3494,\n",
       "    24.3719,\n",
       "    24.4406,\n",
       "    24.5552,\n",
       "    24.7084,\n",
       "    24.8858,\n",
       "    25.0698,\n",
       "    25.1144,\n",
       "    25.0779,\n",
       "    25.0407,\n",
       "    25.0057,\n",
       "    24.9756,\n",
       "    24.9527,\n",
       "    24.9384,\n",
       "    24.9329,\n",
       "    24.9353,\n",
       "    24.9436,\n",
       "    24.9549,\n",
       "    24.966,\n",
       "    24.9742,\n",
       "    24.9769,\n",
       "    24.9769,\n",
       "    24.9742,\n",
       "    24.9677,\n",
       "    24.9641,\n",
       "    24.9706,\n",
       "    24.9903,\n",
       "    25.0204,\n",
       "    25.055,\n",
       "    25.0897,\n",
       "    25.1236,\n",
       "    25.1592,\n",
       "    25.202,\n",
       "    25.2578,\n",
       "    25.3297,\n",
       "    25.4175,\n",
       "    25.5176,\n",
       "    25.6262,\n",
       "    25.7412,\n",
       "    25.7412,\n",
       "    25.9453,\n",
       "    26.1544,\n",
       "    26.3649,\n",
       "    26.5723,\n",
       "    26.7704,\n",
       "    26.9516,\n",
       "    27.1072,\n",
       "    27.2276,\n",
       "    27.3041,\n",
       "    27.3304],\n",
       "   [27.1211,\n",
       "    26.9468,\n",
       "    26.749,\n",
       "    26.6045,\n",
       "    26.5521,\n",
       "    26.6403,\n",
       "    26.9099,\n",
       "    26.9988,\n",
       "    26.9239,\n",
       "    26.8443,\n",
       "    26.764,\n",
       "    26.6874,\n",
       "    26.6211,\n",
       "    26.574,\n",
       "    26.5582,\n",
       "    26.5895,\n",
       "    26.6858,\n",
       "    26.8637,\n",
       "    27.135,\n",
       "    27.4988,\n",
       "    27.946,\n",
       "    28.1254,\n",
       "    27.9326,\n",
       "    27.76,\n",
       "    27.6116,\n",
       "    27.4914,\n",
       "    27.4029,\n",
       "    27.427,\n",
       "    27.7486,\n",
       "    27.7486,\n",
       "    27.7233,\n",
       "    27.6455,\n",
       "    27.5104,\n",
       "    27.3151,\n",
       "    27.0617,\n",
       "    26.7592,\n",
       "    26.4208,\n",
       "    26.1174,\n",
       "    25.9044,\n",
       "    25.7031,\n",
       "    25.5222,\n",
       "    25.3735,\n",
       "    25.2727,\n",
       "    25.2365,\n",
       "    25.2365,\n",
       "    25.2526,\n",
       "    25.2964,\n",
       "    25.3598,\n",
       "    25.4341,\n",
       "    25.5117,\n",
       "    25.6568,\n",
       "    25.965,\n",
       "    26.2482,\n",
       "    26.4641,\n",
       "    26.5489,\n",
       "    26.5489,\n",
       "    26.4301,\n",
       "    26.3254,\n",
       "    26.2344,\n",
       "    26.1569,\n",
       "    26.0922,\n",
       "    26.0393,\n",
       "    25.9969,\n",
       "    25.9639,\n",
       "    25.9374,\n",
       "    25.9162,\n",
       "    25.8982,\n",
       "    26.0049,\n",
       "    26.1332,\n",
       "    26.2517,\n",
       "    26.3622,\n",
       "    26.4664,\n",
       "    26.5655,\n",
       "    26.4769,\n",
       "    26.2656,\n",
       "    26.1024,\n",
       "    26.0058,\n",
       "    25.9842,\n",
       "    26.0344,\n",
       "    26.1447,\n",
       "    26.3013,\n",
       "    26.4918,\n",
       "    26.7066,\n",
       "    26.9361,\n",
       "    27.1211,\n",
       "    27.1211,\n",
       "    26.9375,\n",
       "    26.702,\n",
       "    26.4694,\n",
       "    26.2428,\n",
       "    26.0236,\n",
       "    25.8135,\n",
       "    25.614,\n",
       "    25.4269,\n",
       "    25.2543,\n",
       "    25.0975,\n",
       "    25.2036,\n",
       "    25.4253,\n",
       "    25.5534,\n",
       "    25.6043,\n",
       "    25.5979,\n",
       "    25.551,\n",
       "    25.4761,\n",
       "    25.3847,\n",
       "    25.2862,\n",
       "    25.1895,\n",
       "    25.1035,\n",
       "    25.0356,\n",
       "    24.9921,\n",
       "    24.9769,\n",
       "    24.9769,\n",
       "    24.9879,\n",
       "    25.0201,\n",
       "    25.0724,\n",
       "    25.1432,\n",
       "    25.2301,\n",
       "    25.3307,\n",
       "    25.4419,\n",
       "    25.5607,\n",
       "    25.684,\n",
       "    25.8091,\n",
       "    25.9333,\n",
       "    26.0544,\n",
       "    26.1703,\n",
       "    26.2796,\n",
       "    26.38,\n",
       "    26.4705,\n",
       "    26.549,\n",
       "    26.5489,\n",
       "    26.4641,\n",
       "    26.2482,\n",
       "    25.965,\n",
       "    25.6568,\n",
       "    25.5117,\n",
       "    25.4342,\n",
       "    25.3598,\n",
       "    25.2965,\n",
       "    25.2526,\n",
       "    25.2365,\n",
       "    25.2365,\n",
       "    25.2343,\n",
       "    25.2276,\n",
       "    25.216,\n",
       "    25.199,\n",
       "    25.1762,\n",
       "    25.1477,\n",
       "    25.243,\n",
       "    25.3889,\n",
       "    25.494,\n",
       "    25.5507,\n",
       "    25.557,\n",
       "    25.5181,\n",
       "    25.4448,\n",
       "    25.3504,\n",
       "    25.2492,\n",
       "    25.1544,\n",
       "    25.0762,\n",
       "    25.0202,\n",
       "    24.9876,\n",
       "    24.9769,\n",
       "    24.9769,\n",
       "    24.9879,\n",
       "    25.0201,\n",
       "    25.0724,\n",
       "    25.1432,\n",
       "    25.2301,\n",
       "    25.3307,\n",
       "    25.4419,\n",
       "    25.5607,\n",
       "    25.684,\n",
       "    25.8091,\n",
       "    25.9333,\n",
       "    26.0544,\n",
       "    26.1703,\n",
       "    26.2795,\n",
       "    26.38,\n",
       "    26.4705,\n",
       "    26.5489,\n",
       "    26.5489,\n",
       "    26.6764,\n",
       "    26.815,\n",
       "    26.9624,\n",
       "    27.1154,\n",
       "    27.269,\n",
       "    27.4161,\n",
       "    27.5482,\n",
       "    27.6546,\n",
       "    27.7243,\n",
       "    27.7486],\n",
       "   [27.2703,\n",
       "    27.2633,\n",
       "    27.2452,\n",
       "    27.216,\n",
       "    27.1764,\n",
       "    27.1264,\n",
       "    27.0667,\n",
       "    26.9988,\n",
       "    26.9239,\n",
       "    26.8444,\n",
       "    26.764,\n",
       "    26.6874,\n",
       "    26.6211,\n",
       "    26.574,\n",
       "    26.5583,\n",
       "    26.5895,\n",
       "    26.6859,\n",
       "    26.8638,\n",
       "    27.135,\n",
       "    27.4989,\n",
       "    27.946,\n",
       "    28.4625,\n",
       "    29.0341,\n",
       "    29.6475,\n",
       "    30.0742,\n",
       "    29.5232,\n",
       "    28.9931,\n",
       "    28.4931,\n",
       "    28.154,\n",
       "    28.154,\n",
       "    28.2513,\n",
       "    28.5269,\n",
       "    28.9432,\n",
       "    29.4615,\n",
       "    30.0518,\n",
       "    30.6922,\n",
       "    30.7937,\n",
       "    30.8155,\n",
       "    30.8673,\n",
       "    30.9341,\n",
       "    31.0027,\n",
       "    31.0611,\n",
       "    31.1003,\n",
       "    31.1142,\n",
       "    31.1142,\n",
       "    31.0613,\n",
       "    30.8996,\n",
       "    30.6422,\n",
       "    30.3163,\n",
       "    29.9507,\n",
       "    29.5709,\n",
       "    29.2007,\n",
       "    28.8695,\n",
       "    28.6234,\n",
       "    28.5284,\n",
       "    28.5284,\n",
       "    28.2949,\n",
       "    28.1131,\n",
       "    27.9871,\n",
       "    27.9178,\n",
       "    27.8997,\n",
       "    27.9198,\n",
       "    27.9581,\n",
       "    27.9916,\n",
       "    27.9993,\n",
       "    27.9674,\n",
       "    27.8904,\n",
       "    27.7696,\n",
       "    27.6099,\n",
       "    27.4173,\n",
       "    27.1981,\n",
       "    26.9604,\n",
       "    26.7149,\n",
       "    26.6602,\n",
       "    26.7509,\n",
       "    26.8373,\n",
       "    26.9183,\n",
       "    26.9937,\n",
       "    27.062,\n",
       "    27.1225,\n",
       "    27.1734,\n",
       "    27.2141,\n",
       "    27.2443,\n",
       "    27.2624,\n",
       "    27.2703,\n",
       "    27.2703,\n",
       "    27.2706,\n",
       "    27.2736,\n",
       "    27.2802,\n",
       "    27.2906,\n",
       "    27.308,\n",
       "    27.3352,\n",
       "    27.3778,\n",
       "    27.4455,\n",
       "    27.5534,\n",
       "    27.722,\n",
       "    27.9734,\n",
       "    28.3205,\n",
       "    28.7553,\n",
       "    29.2552,\n",
       "    29.2808,\n",
       "    29.1216,\n",
       "    28.964,\n",
       "    28.8132,\n",
       "    28.6741,\n",
       "    28.5513,\n",
       "    28.4494,\n",
       "    28.373,\n",
       "    28.3255,\n",
       "    28.3093,\n",
       "    28.3093,\n",
       "    28.324,\n",
       "    28.366,\n",
       "    28.4297,\n",
       "    28.5056,\n",
       "    28.5806,\n",
       "    28.6393,\n",
       "    28.6665,\n",
       "    28.6529,\n",
       "    28.5997,\n",
       "    28.5182,\n",
       "    28.4269,\n",
       "    28.3454,\n",
       "    28.2913,\n",
       "    28.2785,\n",
       "    28.3144,\n",
       "    28.3998,\n",
       "    28.5284,\n",
       "    28.5284,\n",
       "    28.6234,\n",
       "    28.8695,\n",
       "    29.2007,\n",
       "    29.5709,\n",
       "    29.9507,\n",
       "    30.3163,\n",
       "    30.6422,\n",
       "    30.8996,\n",
       "    31.0613,\n",
       "    31.1142,\n",
       "    31.1142,\n",
       "    31.0314,\n",
       "    30.8182,\n",
       "    30.5402,\n",
       "    30.2468,\n",
       "    29.9665,\n",
       "    29.7141,\n",
       "    29.4968,\n",
       "    29.315,\n",
       "    29.166,\n",
       "    29.044,\n",
       "    28.9413,\n",
       "    28.85,\n",
       "    28.7632,\n",
       "    28.6765,\n",
       "    28.5891,\n",
       "    28.5039,\n",
       "    28.4265,\n",
       "    28.3641,\n",
       "    28.3235,\n",
       "    28.3093,\n",
       "    28.3093,\n",
       "    28.324,\n",
       "    28.366,\n",
       "    28.4297,\n",
       "    28.5056,\n",
       "    28.5806,\n",
       "    28.6393,\n",
       "    28.6665,\n",
       "    28.6529,\n",
       "    28.5997,\n",
       "    28.5182,\n",
       "    28.4269,\n",
       "    28.3454,\n",
       "    28.2913,\n",
       "    28.2785,\n",
       "    28.3144,\n",
       "    28.3998,\n",
       "    28.5284,\n",
       "    28.5284,\n",
       "    28.798,\n",
       "    29.106,\n",
       "    29.4483,\n",
       "    29.8217,\n",
       "    30.0213,\n",
       "    29.4391,\n",
       "    28.9288,\n",
       "    28.5197,\n",
       "    28.2494,\n",
       "    28.154],\n",
       "   [27.2703,\n",
       "    27.2632,\n",
       "    27.2452,\n",
       "    27.216,\n",
       "    27.1764,\n",
       "    27.1264,\n",
       "    27.0666,\n",
       "    27.3626,\n",
       "    27.9574,\n",
       "    28.6346,\n",
       "    29.3062,\n",
       "    29.8283,\n",
       "    30.124,\n",
       "    29.9167,\n",
       "    29.6999,\n",
       "    29.4755,\n",
       "    29.2459,\n",
       "    29.0136,\n",
       "    28.7819,\n",
       "    28.5541,\n",
       "    28.3339,\n",
       "    28.4626,\n",
       "    29.0341,\n",
       "    29.6475,\n",
       "    30.2909,\n",
       "    30.9512,\n",
       "    31.6081,\n",
       "    32.2061,\n",
       "    32.5148,\n",
       "    32.5146,\n",
       "    32.0985,\n",
       "    31.6736,\n",
       "    31.3287,\n",
       "    31.0734,\n",
       "    30.9065,\n",
       "    30.8184,\n",
       "    31.3674,\n",
       "    32.0655,\n",
       "    32.7762,\n",
       "    33.4209,\n",
       "    33.5759,\n",
       "    33.7299,\n",
       "    33.8772,\n",
       "    34.0099,\n",
       "    34.0099,\n",
       "    33.958,\n",
       "    33.9942,\n",
       "    34.12,\n",
       "    34.2717,\n",
       "    34.162,\n",
       "    33.9131,\n",
       "    33.6912,\n",
       "    33.5244,\n",
       "    33.4236,\n",
       "    33.3869,\n",
       "    33.3868,\n",
       "    34.0163,\n",
       "    34.5475,\n",
       "    34.5353,\n",
       "    34.0811,\n",
       "    33.6969,\n",
       "    33.1589,\n",
       "    32.6132,\n",
       "    32.1152,\n",
       "    31.675,\n",
       "    31.3009,\n",
       "    30.9981,\n",
       "    30.7677,\n",
       "    30.6081,\n",
       "    30.5128,\n",
       "    30.4735,\n",
       "    30.4805,\n",
       "    29.879,\n",
       "    29.2479,\n",
       "    28.7038,\n",
       "    28.2638,\n",
       "    27.9326,\n",
       "    27.6982,\n",
       "    27.5387,\n",
       "    27.4325,\n",
       "    27.3624,\n",
       "    27.3169,\n",
       "    27.2888,\n",
       "    27.2743,\n",
       "    27.2703,\n",
       "    27.2703,\n",
       "    27.2706,\n",
       "    27.2736,\n",
       "    27.2802,\n",
       "    27.2906,\n",
       "    27.308,\n",
       "    27.3352,\n",
       "    27.3778,\n",
       "    27.4455,\n",
       "    27.5534,\n",
       "    27.722,\n",
       "    27.9734,\n",
       "    28.3205,\n",
       "    28.7553,\n",
       "    29.2552,\n",
       "    29.7924,\n",
       "    30.3394,\n",
       "    30.8678,\n",
       "    31.3473,\n",
       "    31.7484,\n",
       "    32.0508,\n",
       "    32.2544,\n",
       "    32.3761,\n",
       "    32.4382,\n",
       "    32.4557,\n",
       "    32.4557,\n",
       "    32.4366,\n",
       "    32.3782,\n",
       "    32.2942,\n",
       "    32.2022,\n",
       "    32.1248,\n",
       "    32.0872,\n",
       "    32.1131,\n",
       "    32.221,\n",
       "    32.4185,\n",
       "    32.702,\n",
       "    33.0609,\n",
       "    33.4842,\n",
       "    33.9474,\n",
       "    34.1213,\n",
       "    34.0681,\n",
       "    33.7626,\n",
       "    33.3867,\n",
       "    33.3866,\n",
       "    33.4215,\n",
       "    33.5328,\n",
       "    33.6939,\n",
       "    33.9153,\n",
       "    34.1625,\n",
       "    34.2765,\n",
       "    34.1196,\n",
       "    33.9935,\n",
       "    33.9589,\n",
       "    34.0099,\n",
       "    34.0099,\n",
       "    33.9459,\n",
       "    33.7657,\n",
       "    33.501,\n",
       "    33.1862,\n",
       "    32.8576,\n",
       "    32.5417,\n",
       "    32.2595,\n",
       "    32.0273,\n",
       "    31.8567,\n",
       "    31.7539,\n",
       "    31.7185,\n",
       "    31.7433,\n",
       "    31.8165,\n",
       "    31.9233,\n",
       "    32.0469,\n",
       "    32.1729,\n",
       "    32.2875,\n",
       "    32.3786,\n",
       "    32.4372,\n",
       "    32.4557,\n",
       "    32.4557,\n",
       "    32.4366,\n",
       "    32.3782,\n",
       "    32.2942,\n",
       "    32.2022,\n",
       "    32.1248,\n",
       "    32.0872,\n",
       "    32.1131,\n",
       "    32.221,\n",
       "    32.4184,\n",
       "    32.7018,\n",
       "    33.0609,\n",
       "    33.4839,\n",
       "    33.947,\n",
       "    34.1214,\n",
       "    34.0701,\n",
       "    33.7623,\n",
       "    33.3872,\n",
       "    33.3891,\n",
       "    32.7114,\n",
       "    32.0152,\n",
       "    31.3241,\n",
       "    30.6549,\n",
       "    30.2236,\n",
       "    30.6522,\n",
       "    31.105,\n",
       "    31.5813,\n",
       "    32.0783,\n",
       "    32.5149],\n",
       "   [27.2703,\n",
       "    27.463,\n",
       "    27.7271,\n",
       "    28.0005,\n",
       "    28.2787,\n",
       "    28.5591,\n",
       "    28.8397,\n",
       "    29.1225,\n",
       "    29.4112,\n",
       "    29.721,\n",
       "    30.1048,\n",
       "    30.3198,\n",
       "    30.1809,\n",
       "    30.4608,\n",
       "    30.7121,\n",
       "    30.9465,\n",
       "    31.1689,\n",
       "    31.3781,\n",
       "    31.5784,\n",
       "    31.7671,\n",
       "    31.9434,\n",
       "    31.838,\n",
       "    31.2321,\n",
       "    30.6442,\n",
       "    30.291,\n",
       "    30.9512,\n",
       "    31.6081,\n",
       "    32.2083,\n",
       "    32.5235,\n",
       "    32.5156,\n",
       "    32.5306,\n",
       "    32.5625,\n",
       "    32.6079,\n",
       "    32.6772,\n",
       "    32.7648,\n",
       "    32.8695,\n",
       "    32.9901,\n",
       "    33.1242,\n",
       "    33.2686,\n",
       "    33.4916,\n",
       "    34.1697,\n",
       "    34.2071,\n",
       "    34.1224,\n",
       "    34.0138,\n",
       "    34.0116,\n",
       "    34.0875,\n",
       "    34.1559,\n",
       "    34.2221,\n",
       "    34.3205,\n",
       "    34.5064,\n",
       "    34.5973,\n",
       "    34.7295,\n",
       "    34.8816,\n",
       "    35.0258,\n",
       "    35.0867,\n",
       "    35.0772,\n",
       "    35.5143,\n",
       "    35.0898,\n",
       "    34.9367,\n",
       "    34.3407,\n",
       "    33.7397,\n",
       "    33.3898,\n",
       "    33.1737,\n",
       "    33.0601,\n",
       "    33.0528,\n",
       "    33.1418,\n",
       "    33.2838,\n",
       "    33.2597,\n",
       "    32.9095,\n",
       "    32.1073,\n",
       "    31.3243,\n",
       "    30.5767,\n",
       "    30.524,\n",
       "    30.5522,\n",
       "    30.1675,\n",
       "    29.8101,\n",
       "    29.4747,\n",
       "    29.1571,\n",
       "    28.8531,\n",
       "    28.5589,\n",
       "    28.2732,\n",
       "    27.9948,\n",
       "    27.724,\n",
       "    27.4634,\n",
       "    27.2703,\n",
       "    27.2703,\n",
       "    27.4582,\n",
       "    27.7121,\n",
       "    27.9772,\n",
       "    28.2515,\n",
       "    28.5339,\n",
       "    28.8228,\n",
       "    29.1107,\n",
       "    29.3832,\n",
       "    29.6092,\n",
       "    29.742,\n",
       "    29.7611,\n",
       "    29.6942,\n",
       "    29.5779,\n",
       "    29.4356,\n",
       "    29.7924,\n",
       "    30.3394,\n",
       "    30.8681,\n",
       "    31.3473,\n",
       "    31.7486,\n",
       "    32.0508,\n",
       "    32.2544,\n",
       "    32.3761,\n",
       "    32.4382,\n",
       "    32.4557,\n",
       "    32.4557,\n",
       "    32.464,\n",
       "    32.486,\n",
       "    32.5225,\n",
       "    32.5751,\n",
       "    32.6449,\n",
       "    32.7335,\n",
       "    32.8422,\n",
       "    32.9729,\n",
       "    33.1268,\n",
       "    33.3044,\n",
       "    33.5042,\n",
       "    33.7226,\n",
       "    33.959,\n",
       "    34.4753,\n",
       "    34.8648,\n",
       "    35.0247,\n",
       "    35.0865,\n",
       "    35.0625,\n",
       "    35.017,\n",
       "    34.9104,\n",
       "    34.73,\n",
       "    34.6133,\n",
       "    34.5063,\n",
       "    34.3201,\n",
       "    34.2241,\n",
       "    34.1557,\n",
       "    34.0881,\n",
       "    34.012,\n",
       "    34.0103,\n",
       "    34.1238,\n",
       "    34.4273,\n",
       "    34.844,\n",
       "    35.3087,\n",
       "    35.7244,\n",
       "    35.5968,\n",
       "    35.2507,\n",
       "    34.8412,\n",
       "    34.4303,\n",
       "    34.0351,\n",
       "    33.673,\n",
       "    33.3559,\n",
       "    33.0901,\n",
       "    32.8778,\n",
       "    32.7182,\n",
       "    32.6057,\n",
       "    32.5317,\n",
       "    32.4873,\n",
       "    32.4637,\n",
       "    32.4557,\n",
       "    32.4557,\n",
       "    32.464,\n",
       "    32.4859,\n",
       "    32.5225,\n",
       "    32.5751,\n",
       "    32.6448,\n",
       "    32.7335,\n",
       "    32.8428,\n",
       "    32.9729,\n",
       "    33.1268,\n",
       "    33.3041,\n",
       "    33.5041,\n",
       "    33.726,\n",
       "    33.9593,\n",
       "    34.4725,\n",
       "    34.888,\n",
       "    35.0531,\n",
       "    35.0734,\n",
       "    35.1348,\n",
       "    34.7902,\n",
       "    34.5798,\n",
       "    34.408,\n",
       "    34.0429,\n",
       "    33.6209,\n",
       "    33.2516,\n",
       "    32.9442,\n",
       "    32.7103,\n",
       "    32.5654,\n",
       "    32.5216],\n",
       "   [31.4239,\n",
       "    31.4138,\n",
       "    31.3848,\n",
       "    31.3371,\n",
       "    31.2706,\n",
       "    31.1857,\n",
       "    31.0828,\n",
       "    30.9623,\n",
       "    30.825,\n",
       "    30.6714,\n",
       "    30.5027,\n",
       "    30.6848,\n",
       "    31.4655,\n",
       "    32.3381,\n",
       "    33.254,\n",
       "    34.1889,\n",
       "    35.124,\n",
       "    34.4379,\n",
       "    33.7619,\n",
       "    33.1028,\n",
       "    32.462,\n",
       "    32.1059,\n",
       "    32.2529,\n",
       "    32.3825,\n",
       "    32.4967,\n",
       "    32.5814,\n",
       "    32.6453,\n",
       "    32.6877,\n",
       "    32.7026,\n",
       "    32.7007,\n",
       "    33.1872,\n",
       "    33.8087,\n",
       "    34.0435,\n",
       "    34.0334,\n",
       "    34.1129,\n",
       "    34.1814,\n",
       "    34.2179,\n",
       "    34.2594,\n",
       "    34.2901,\n",
       "    34.3029,\n",
       "    34.3045,\n",
       "    34.8977,\n",
       "    35.5731,\n",
       "    36.1945,\n",
       "    36.1854,\n",
       "    35.7791,\n",
       "    35.3462,\n",
       "    34.9652,\n",
       "    34.6238,\n",
       "    34.5838,\n",
       "    34.8653,\n",
       "    35.1864,\n",
       "    35.5611,\n",
       "    35.9106,\n",
       "    36.0689,\n",
       "    36.1153,\n",
       "    35.5759,\n",
       "    35.6025,\n",
       "    34.9448,\n",
       "    35.26,\n",
       "    35.5747,\n",
       "    35.891,\n",
       "    36.5064,\n",
       "    36.5904,\n",
       "    35.9719,\n",
       "    35.3505,\n",
       "    34.5824,\n",
       "    33.7445,\n",
       "    32.9155,\n",
       "    32.4111,\n",
       "    31.9034,\n",
       "    31.4196,\n",
       "    30.9687,\n",
       "    30.5944,\n",
       "    30.6836,\n",
       "    30.7842,\n",
       "    30.89,\n",
       "    30.9957,\n",
       "    31.0967,\n",
       "    31.1891,\n",
       "    31.2694,\n",
       "    31.3349,\n",
       "    31.3834,\n",
       "    31.4132,\n",
       "    31.4239,\n",
       "    31.4239,\n",
       "    31.4137,\n",
       "    31.3847,\n",
       "    31.3381,\n",
       "    31.2758,\n",
       "    31.2019,\n",
       "    31.1219,\n",
       "    31.0461,\n",
       "    30.9932,\n",
       "    30.9984,\n",
       "    31.111,\n",
       "    31.3544,\n",
       "    31.7038,\n",
       "    32.1233,\n",
       "    32.5887,\n",
       "    33.0881,\n",
       "    33.6074,\n",
       "    34.1427,\n",
       "    34.6638,\n",
       "    35.1839,\n",
       "    35.6189,\n",
       "    35.9791,\n",
       "    36.2477,\n",
       "    36.419,\n",
       "    36.4877,\n",
       "    36.4875,\n",
       "    36.4655,\n",
       "    36.458,\n",
       "    36.4269,\n",
       "    36.3645,\n",
       "    36.3061,\n",
       "    36.2399,\n",
       "    36.2156,\n",
       "    36.2414,\n",
       "    36.2606,\n",
       "    36.2817,\n",
       "    35.9613,\n",
       "    35.6178,\n",
       "    35.329,\n",
       "    34.9368,\n",
       "    35.0251,\n",
       "    35.6031,\n",
       "    36.08,\n",
       "    36.1073,\n",
       "    35.8564,\n",
       "    35.5387,\n",
       "    35.1862,\n",
       "    34.876,\n",
       "    34.5744,\n",
       "    34.6246,\n",
       "    34.9588,\n",
       "    35.3463,\n",
       "    35.7628,\n",
       "    36.187,\n",
       "    36.1897,\n",
       "    36.1733,\n",
       "    36.0302,\n",
       "    35.9795,\n",
       "    35.8578,\n",
       "    35.7752,\n",
       "    35.7502,\n",
       "    35.698,\n",
       "    35.7118,\n",
       "    35.736,\n",
       "    35.7965,\n",
       "    35.8705,\n",
       "    35.9757,\n",
       "    36.0736,\n",
       "    36.1759,\n",
       "    36.2828,\n",
       "    36.3671,\n",
       "    36.4157,\n",
       "    36.4458,\n",
       "    36.4739,\n",
       "    36.4698,\n",
       "    36.4744,\n",
       "    36.4864,\n",
       "    36.4471,\n",
       "    36.4446,\n",
       "    36.3682,\n",
       "    36.3382,\n",
       "    36.2448,\n",
       "    36.2024,\n",
       "    36.1882,\n",
       "    36.2158,\n",
       "    36.2237,\n",
       "    35.9957,\n",
       "    35.6239,\n",
       "    35.2472,\n",
       "    34.9369,\n",
       "    35.0267,\n",
       "    35.6108,\n",
       "    36.0758,\n",
       "    36.0574,\n",
       "    35.5275,\n",
       "    35.0025,\n",
       "    34.5071,\n",
       "    34.2686,\n",
       "    34.1731,\n",
       "    34.0721,\n",
       "    34.2016,\n",
       "    33.7361,\n",
       "    33.1574,\n",
       "    32.7048]]},\n",
       " 'is_metal': False,\n",
       " 'vbm': {'energy': -0.1504,\n",
       "  'kpoint_index': [0, 84, 85],\n",
       "  'band_index': {'1': [3, 4, 5]},\n",
       "  'projections': {}},\n",
       " 'cbm': {'energy': 4.7482,\n",
       "  'kpoint_index': [28, 29, 188],\n",
       "  'band_index': {'1': [6]},\n",
       "  'projections': {}},\n",
       " 'band_gap': {'direct': False, 'energy': 4.8986, 'transition': '\\\\Gamma-X'},\n",
       " 'labels_dict': {'\\\\Gamma': [0.0, 0.0, 0.0],\n",
       "  'X': [0.5, 0.0, 0.5],\n",
       "  'W': [0.5, 0.25, 0.75],\n",
       "  'K': [0.375, 0.375, 0.75],\n",
       "  'L': [0.5, 0.5, 0.5],\n",
       "  'U': [0.625, 0.25, 0.625]},\n",
       " 'is_spin_polarized': False}"
      ]
     },
     "execution_count": 34,
     "metadata": {},
     "output_type": "execute_result"
    }
   ],
   "source": [
    "bandstructure.as_dict()"
   ]
  },
  {
   "cell_type": "markdown",
   "metadata": {
    "slideshow": {
     "slide_type": "slide"
    }
   },
   "source": [
    "# 3.2 Exercise: Barium Titanate"
   ]
  },
  {
   "cell_type": "markdown",
   "metadata": {
    "slideshow": {
     "slide_type": "fragment"
    }
   },
   "source": [
    "Load BaTiO3 from its CIF. Replace the barium with a new element with atomic number equal to the the day of the month you were born (e.g. 1st = hydrogen, 31st = gallium). Then make a supercell of N unit cells in one cartesian direction of your choice where N is the integer of your birth month (e.g. January = 1, December = 12). Dump the resulting structure to a file, swap structures with the person next to you using e-mail or Zulip. Load your partner's structure, visualize it to determine their birth month and examine the `Structure` object to determine their birth day. Using *draw_image_atoms=True* is recommended for visualization."
   ]
  },
  {
   "cell_type": "code",
   "execution_count": 35,
   "metadata": {
    "slideshow": {
     "slide_type": "subslide"
    }
   },
   "outputs": [
    {
     "data": {
      "application/vnd.jupyter.widget-view+json": {
       "model_id": "32895ec27e5345269f6bd50b005e26c7",
       "version_major": 2,
       "version_minor": 0
      },
      "text/plain": [
       "Renderer(background='white', camera=OrthographicCamera(bottom=-24.652722928725705, left=-24.652722928725705, n…"
      ]
     },
     "metadata": {},
     "output_type": "display_data"
    }
   ],
   "source": [
    "BaTiO3=Structure.from_file('BaTiO3.cif')\n",
    "BaTiO3.replace(0,'H')\n",
    "BaTiO3=BaTiO3*(1,1,5)\n",
    "dumpfn(BaTiO3,\"BaTiO3_sam.json\")\n",
    "struct=loadfn(\"BaTiO3_sam.json\")\n",
    "view(struct,draw_image_atoms=True)"
   ]
  },
  {
   "cell_type": "code",
   "execution_count": 36,
   "metadata": {
    "slideshow": {
     "slide_type": "subslide"
    }
   },
   "outputs": [
    {
     "name": "stdout",
     "output_type": "stream",
     "text": [
      "Full Formula (Ti5 H5 O15)\n",
      "Reduced Formula: TiHO3\n",
      "abc   :   4.077159   4.077159  20.385796\n",
      "angles:  89.699022  89.699022  89.699022\n",
      "Sites (25)\n",
      "  #  SP           a         b         c\n",
      "---  ----  --------  --------  --------\n",
      "  0  H     0.497155  0.497155  0.099431\n",
      "  1  H     0.497155  0.497155  0.299431\n",
      "  2  H     0.497155  0.497155  0.499431\n",
      "  3  H     0.497155  0.497155  0.699431\n",
      "  4  H     0.497155  0.497155  0.899431\n",
      "  5  Ti    0.982209  0.982209  0.196442\n",
      "  6  Ti    0.982209  0.982209  0.396442\n",
      "  7  Ti    0.982209  0.982209  0.596442\n",
      "  8  Ti    0.982209  0.982209  0.796442\n",
      "  9  Ti    0.982209  0.982209  0.996442\n",
      " 10  O     0.524065  0.012736  0.002547\n",
      " 11  O     0.524065  0.012736  0.202547\n",
      " 12  O     0.524065  0.012736  0.402547\n",
      " 13  O     0.524065  0.012736  0.602547\n",
      " 14  O     0.524065  0.012736  0.802547\n",
      " 15  O     0.012736  0.012736  0.104813\n",
      " 16  O     0.012736  0.012736  0.304813\n",
      " 17  O     0.012736  0.012736  0.504813\n",
      " 18  O     0.012736  0.012736  0.704813\n",
      " 19  O     0.012736  0.012736  0.904813\n",
      " 20  O     0.012736  0.524065  0.002547\n",
      " 21  O     0.012736  0.524065  0.202547\n",
      " 22  O     0.012736  0.524065  0.402547\n",
      " 23  O     0.012736  0.524065  0.602547\n",
      " 24  O     0.012736  0.524065  0.802547\n"
     ]
    }
   ],
   "source": [
    "print(struct)"
   ]
  },
  {
   "cell_type": "markdown",
   "metadata": {
    "slideshow": {
     "slide_type": "slide"
    }
   },
   "source": [
    "# Summary\n",
    "\n",
    "This notebook is intended to provide a short introduction to some of the functionality of pymatgen. We've examined the building blocks of pymatgen: the `Structure` and `Molecule` objects, the `Lattice`, `Element`, `Specie` and `Composition` objects that they're made up of, a way to visualize `Structure` and `Molecule` objects, simple `Structure` transformations, and some basic input/output functionality."
   ]
  }
 ],
 "metadata": {
  "celltoolbar": "Slideshow",
  "kernelspec": {
   "display_name": "Python 3",
   "language": "python",
   "name": "python3"
  },
  "language_info": {
   "codemirror_mode": {
    "name": "ipython",
    "version": 3
   },
   "file_extension": ".py",
   "mimetype": "text/x-python",
   "name": "python",
   "nbconvert_exporter": "python",
   "pygments_lexer": "ipython3",
   "version": "3.7.3"
  },
  "rise": {
   "height": "60%",
   "scroll": true
  }
 },
 "nbformat": 4,
 "nbformat_minor": 2
}
