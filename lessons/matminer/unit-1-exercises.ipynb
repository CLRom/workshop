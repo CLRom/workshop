{
 "cells": [
  {
   "cell_type": "markdown",
   "metadata": {},
   "source": [
    "# Materials data science: data retrieval and filtering – Exercises\n",
    "\n",
    "## Load and examine the `elastic_tensor` dataset\n",
    "\n",
    "Matminer includes a dataset called \"elastic_tensor\". It contains a set of computed elastic properties of materials sourced from the paper:\n",
    "\n",
    "> \"Charting the complete elastic properties of inorganic crystalline compounds\", M. de Jong et al., Sci. Data. 2 (2015) 150009.\"\n",
    "\n",
    "Load this dataset using the `load_dataset()` function and determine:\n",
    "- the number of entries it contains\n",
    "- the largest value of bulk modulus in the dataset (bulk modulus is given in the `K_VRH` column)\n",
    "\n",
    "Remember, there are two ways to load most matminer datasets. How else can you access the `elastic_tensor` dataset?"
   ]
  },
  {
   "cell_type": "code",
   "execution_count": 9,
   "metadata": {},
   "outputs": [],
   "source": [
    "from matminer.datasets import load_dataset\n",
    "\n",
    "df = load_dataset(______)"
   ]
  },
  {
   "cell_type": "markdown",
   "metadata": {},
   "source": [
    "## Check the dataset for unphysical values\n",
    "\n"
   ]
  },
  {
   "cell_type": "code",
   "execution_count": 11,
   "metadata": {},
   "outputs": [],
   "source": [
    "from matminer.datasets.convenience_loaders import load_elastic_tensor\n",
    "\n",
    "df = load_elastic_tensor()"
   ]
  },
  {
   "cell_type": "markdown",
   "metadata": {},
   "source": [
    "## Remove columns unneccessary for machine learning"
   ]
  },
  {
   "cell_type": "code",
   "execution_count": null,
   "metadata": {},
   "outputs": [],
   "source": []
  },
  {
   "cell_type": "markdown",
   "metadata": {},
   "source": [
    "## Calculate the Young modulus"
   ]
  },
  {
   "cell_type": "markdown",
   "metadata": {},
   "source": [
    "Young modulus, $E$, is given by:\n",
    "\n",
    "$$\n",
    "E = \\frac{9KG}{G+3K},\n",
    "$$\n",
    "\n",
    "where $K$ is the bulk modulus (column `K_VRH`), and $G$ is the shear modulus (column `G_VRH`)."
   ]
  }
 ],
 "metadata": {
  "kernelspec": {
   "display_name": "Python 3",
   "language": "python",
   "name": "python3"
  },
  "language_info": {
   "codemirror_mode": {
    "name": "ipython",
    "version": 3
   },
   "file_extension": ".py",
   "mimetype": "text/x-python",
   "name": "python",
   "nbconvert_exporter": "python",
   "pygments_lexer": "ipython3",
   "version": "3.6.7"
  }
 },
 "nbformat": 4,
 "nbformat_minor": 2
}
