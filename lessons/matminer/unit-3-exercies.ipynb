{
 "cells": [
  {
   "cell_type": "code",
   "execution_count": null,
   "metadata": {},
   "outputs": [],
   "source": [
    "import os\n",
    "\n",
    "from matminer.utils.io import load_dataframe_from_json, store_dataframe_as_json\n",
    "from matminer.featurizers.conversions import StrToComposition\n",
    "from matminer.featurizers.composition import ElementProperty\n",
    "from matminer.featurizers.structure import DensityFeatures\n",
    "\n",
    "df = load_dataframe_from_json(os.path.join(\"resources\", \"elastic_tensor_2015_cleaned.json\"))\n",
    "stc = StrToComposition()\n",
    "ep = ElementProperty.from_preset(\"magpie\")\n",
    "denf = DensityFeatures()\n",
    "df = stc.featurize_dataframe(df, \"formula\")\n",
    "df = ep.featurize_dataframe(df, \"composition\")\n",
    "df = denf.featurize_dataframe(df, \"structure\")\n",
    "\n",
    "store_dataframe_as_json(df, os.path.join(\"resources\", \"elastic_tensor_2015_featurized.json\"))"
   ]
  },
  {
   "cell_type": "code",
   "execution_count": null,
   "metadata": {},
   "outputs": [],
   "source": [
    "from matminer.datasets import get_available_datasets, load_dataset\n",
    "\n",
    "df = load_dataset(\"dielectric_constant\")\n",
    "\n",
    "from matminer.featurizers.conversions import StrToComposition, StructureToComposition\n",
    "from matminer.featurizers.composition import ElementProperty\n",
    "from matminer.featurizers.structure import DensityFeatures\n",
    "\n",
    "stc = StructureToComposition()\n",
    "ep = ElementProperty.from_preset(\"magpie\")\n",
    "denf = DensityFeatures()\n",
    "df = stc.featurize_dataframe(df, \"structure\")\n",
    "df = ep.featurize_dataframe(df, \"composition\")\n",
    "df = denf.featurize_dataframe(df, \"structure\")\n",
    "\n",
    "df = df.drop([\"material_id\", \"formula\", \"nsites\", \"space_group\", \"volume\", \"band_gap\", \"e_electronic\", \n",
    "              \"e_total\", \"n\", \"poly_electronic\", \"pot_ferroelectric\", \"cif\", \"meta\", \"poscar\"], axis=1)\n",
    "df.rename(columns={\"poly_total\": \"total_dielectric\"})\n",
    "\n",
    "store_dataframe_as_json(df, os.path.join(\"resources\", \"dielectric_constant_featurized.json\"))\n",
    "\n"
   ]
  }
 ],
 "metadata": {
  "kernelspec": {
   "display_name": "Python 3",
   "language": "python",
   "name": "python3"
  },
  "language_info": {
   "codemirror_mode": {
    "name": "ipython",
    "version": 3
   },
   "file_extension": ".py",
   "mimetype": "text/x-python",
   "name": "python",
   "nbconvert_exporter": "python",
   "pygments_lexer": "ipython3",
   "version": "3.6.7"
  }
 },
 "nbformat": 4,
 "nbformat_minor": 2
}
