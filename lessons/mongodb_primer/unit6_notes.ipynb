{
 "cells": [
  {
   "cell_type": "markdown",
   "metadata": {},
   "source": [
    "# Filter Arrays using Distinct Values: Notes"
   ]
  },
  {
   "cell_type": "code",
   "execution_count": null,
   "metadata": {},
   "outputs": [],
   "source": [
    "from pymongo import MongoClient\n",
    "\n",
    "client = MongoClient()\n",
    "db = client.nobel"
   ]
  },
  {
   "cell_type": "markdown",
   "metadata": {},
   "source": [
    "## Array fields and equality\n",
    "\n",
    "Part of the laureates collection document for John Bardeen:\n",
    "```\n",
    "{'firstname': 'John',\n",
    " 'surname': 'Bardeen',\n",
    " 'prizes': [{\n",
    "   'category': 'physics', 'year': '1956', 'share': '3',\n",
    "   'motivation': ('\"for their researches on semiconductors and their'\n",
    "                  'discovery of the transistor effect\"'),\n",
    "   ...\n",
    "  }, {\n",
    "   'category': 'physics', 'year': '1972', 'share': '3',\n",
    "   'motivation': ('\"for their jointly developed theory of'\n",
    "                  'superconductivity, usually called the BCS-theory\"'),\n",
    "   ...\n",
    "  }],\n",
    " ...\n",
    "}\n",
    "```"
   ]
  },
  {
   "cell_type": "code",
   "execution_count": null,
   "metadata": {},
   "outputs": [],
   "source": [
    "db.laureates.count_documents({\"prizes.category\": \"physics\"})"
   ]
  },
  {
   "cell_type": "markdown",
   "metadata": {},
   "source": [
    "## Array fields and equality, simplified"
   ]
  },
  {
   "cell_type": "markdown",
   "metadata": {},
   "source": [
    "```\n",
    "# Imaginary extra field in John Bardeen's document:\n",
    "{\"nicknames\": [\"Johnny\", \"JSwitch\", \"JB\". \"Tc Johnny\", \"Bardy\"]}\n",
    "```"
   ]
  },
  {
   "cell_type": "code",
   "execution_count": null,
   "metadata": {},
   "outputs": [],
   "source": [
    "db.laureates.find({\"nicknames\": \"JB\"})\n",
    "# different than {\"nicknames\": [\"JB\"]}"
   ]
  },
  {
   "cell_type": "markdown",
   "metadata": {},
   "source": [
    "<img src=\"assets/JBs.jpg\" width=\"75%\"/>"
   ]
  },
  {
   "cell_type": "markdown",
   "metadata": {},
   "source": [
    "## Array fields and operators"
   ]
  },
  {
   "cell_type": "code",
   "execution_count": null,
   "metadata": {},
   "outputs": [],
   "source": [
    "db.laureates.count_documents(\n",
    "  {\"prizes.category\": \"physics\"})"
   ]
  },
  {
   "cell_type": "code",
   "execution_count": null,
   "metadata": {},
   "outputs": [],
   "source": [
    "db.laureates.count_documents(\n",
    "  {\"prizes.category\": {\"$ne\": \"physics\"}})"
   ]
  },
  {
   "cell_type": "code",
   "execution_count": null,
   "metadata": {},
   "outputs": [],
   "source": [
    "db.laureates.count_documents({\n",
    "    \"prizes.category\": {\n",
    "        \"$in\": [\"physics\", \"chemistry\", \"medicine\"]}})"
   ]
  },
  {
   "cell_type": "code",
   "execution_count": null,
   "metadata": {},
   "outputs": [],
   "source": [
    "db.laureates.count_documents({\n",
    "    \"prizes.category\": {\n",
    "        \"$nin\": [\"physics\", \"chemistry\", \"medicine\"]}})"
   ]
  },
  {
   "cell_type": "markdown",
   "metadata": {},
   "source": [
    "## Enter $elemMatch"
   ]
  },
  {
   "cell_type": "code",
   "execution_count": null,
   "metadata": {},
   "outputs": [],
   "source": [
    "db.laureates.count_documents({\n",
    "    \"prizes\": {\n",
    "        \"category\": \"physics\",\n",
    "        \"share\": \"1\"\n",
    "    }\n",
    "})"
   ]
  },
  {
   "cell_type": "code",
   "execution_count": null,
   "metadata": {},
   "outputs": [],
   "source": [
    "db.laureates.count_documents({\n",
    "    \"prizes.category\": \"physics\",\n",
    "    \"prizes.share\": \"1\"\n",
    "})"
   ]
  },
  {
   "cell_type": "code",
   "execution_count": null,
   "metadata": {},
   "outputs": [],
   "source": [
    "db.laureates.count_documents({\n",
    "    \"prizes\": {\n",
    "        \"$elemMatch\": {\n",
    "            \"category\": \"physics\",\n",
    "            \"share\": \"1\"\n",
    "        }\n",
    "    }\n",
    "})"
   ]
  },
  {
   "cell_type": "code",
   "execution_count": null,
   "metadata": {},
   "outputs": [],
   "source": [
    "db.laureates.count_documents({\n",
    "    \"prizes\": {\n",
    "        \"$elemMatch\": {\n",
    "            \"category\": \"physics\",\n",
    "            \"share\": \"1\",\n",
    "            \"year\": {\"$lt\": \"1945\"},\n",
    "        }\n",
    "    }\n",
    "})"
   ]
  }
 ],
 "metadata": {
  "kernelspec": {
   "display_name": "conda-env-mp-py",
   "language": "python",
   "name": "conda-env-mp-py"
  },
  "language_info": {
   "codemirror_mode": {
    "name": "ipython",
    "version": 3
   },
   "file_extension": ".py",
   "mimetype": "text/x-python",
   "name": "python",
   "nbconvert_exporter": "python",
   "pygments_lexer": "ipython3",
   "version": "3.7.3"
  }
 },
 "nbformat": 4,
 "nbformat_minor": 2
}
