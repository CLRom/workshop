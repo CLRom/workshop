{
 "cells": [
  {
   "cell_type": "markdown",
   "metadata": {},
   "source": [
    "# Intro to MongoDB and the Nobel Prize Dataseta: Exercises"
   ]
  },
  {
   "cell_type": "markdown",
   "metadata": {},
   "source": [
    "## Count of prizes versus laureates"
   ]
  },
  {
   "cell_type": "markdown",
   "metadata": {},
   "source": [
    "Which one of the following statements is true?"
   ]
  },
  {
   "cell_type": "markdown",
   "metadata": {},
   "source": [
    "1. the number of prizes and laureates are equal\n",
    "1. prizes outnumber laureates by < 2x\n",
    "1. prizes outnumber laureates by > 2x\n",
    "1. laureates outnumber prizes by < 2x\n",
    "1. laureates outnumber prizes by > 2x"
   ]
  },
  {
   "cell_type": "markdown",
   "metadata": {},
   "source": [
    "## Listing databases and collections"
   ]
  },
  {
   "cell_type": "markdown",
   "metadata": {},
   "source": [
    "Our `MongoClient` object is not actually a dictionary, so we can't call `keys()` to list the names of accessible databases. The same is true for listing collections of a database.\n",
    "\n",
    "We can list database names by calling `list_database_names()` on a client instance, and we can list collection names by calling `list_collection_names()` on a database instance."
   ]
  },
  {
   "cell_type": "markdown",
   "metadata": {},
   "source": [
    "- Save a list, called `db_names`, of the names of the databases managed by our connected `client`.\n",
    "- Similarly, save a list, called `nobel_coll_names`, of the names of the collections managed by the \"nobel\" database.\n",
    "- How many databases are managed by `client`?"
   ]
  },
  {
   "cell_type": "code",
   "execution_count": null,
   "metadata": {},
   "outputs": [],
   "source": [
    "from pymongo import MongoClient\n",
    "\n",
    "client = MongoClient()"
   ]
  },
  {
   "cell_type": "code",
   "execution_count": null,
   "metadata": {},
   "outputs": [],
   "source": [
    "# Save a list of names of the databases managed by client\n",
    "db_names = client.____()\n",
    "print(db_names)\n",
    "\n",
    "# Save a list of names of the collections managed by the \"nobel\" database\n",
    "nobel_coll_names = client.____.____()\n",
    "print(nobel_coll_names)"
   ]
  },
  {
   "cell_type": "markdown",
   "metadata": {},
   "source": [
    "How many databases are managed by `client`?\n",
    "\n",
    "1. one\n",
    "2. two\n",
    "3. three\n",
    "4. more than three"
   ]
  },
  {
   "cell_type": "markdown",
   "metadata": {},
   "source": [
    "## List fields and count laureates' prizes"
   ]
  },
  {
   "cell_type": "markdown",
   "metadata": {},
   "source": [
    "Use a collection’s `find_one` method to return a document. This method takes an optional `filter` argument. Passing an empty filter (`{}`) is the same as passing no filter. In Python, the returned document takes the form of a dictionary. The keys of the dictionary are the (root-level) \"fields\" of the document."
   ]
  },
  {
   "cell_type": "code",
   "execution_count": null,
   "metadata": {},
   "outputs": [],
   "source": [
    "from pymongo import MongoClient\n",
    "\n",
    "client = MongoClient()"
   ]
  },
  {
   "cell_type": "code",
   "execution_count": null,
   "metadata": {},
   "outputs": [],
   "source": [
    "# Connect to the \"nobel\" database\n",
    "db = client.nobel\n",
    "\n",
    "# Retrieve sample prize and laureate documents.\n",
    "prize = db.prizes.find_one()\n",
    "laureate = db.laureates.find_one()"
   ]
  },
  {
   "cell_type": "markdown",
   "metadata": {},
   "source": [
    "Each laureate document has a `\"prizes\"` field. This field, an array, stores info about each of the laureate’s (possibly shared) prizes.\n",
    "\n",
    "##### Selection of a laureate document (not all fields shown):\n",
    "```python\n",
    "{\n",
    "'firstname': 'Marie',\n",
    " 'surname': 'Curie, née Sklodowska',\n",
    " 'died': '1934-07-04',\n",
    " 'bornCountry': 'Russian Empire (now Poland)',\n",
    " 'diedCountry': 'France',\n",
    " 'prizes': [\n",
    "     {'year': '1903', 'category': 'physics'},\n",
    "     {'year': '1911', 'category': 'chemistry'},\n",
    " ]\n",
    "}\n",
    "```"
   ]
  },
  {
   "cell_type": "markdown",
   "metadata": {},
   "source": [
    "You may iterate over a collection, collecting from each document. However, a collection is not a list, so we can't write `for doc in <collection>` to iterate over documents. Instead, call `find()` to produce an iterable called a _cursor_, and write `for doc in <collection>.find()` to iterate over documents."
   ]
  },
  {
   "cell_type": "markdown",
   "metadata": {},
   "source": [
    "- Save a list of the fields present in each document to `prize_fields` and `laureate_fields`. Recall that the `keys()` method of a dictionary returns a _view_ of its keys -- You need to pass this view to Python's `list` constructor to obtain a list.\n",
    "- Using `find()` to iterate over laureate documents, sum the total number of laureate prizes. The length of `doc[\"prizes\"]` for a laureate document `doc` is the number of prizes won by that laureate. Store the sum in the variable `count`."
   ]
  },
  {
   "cell_type": "code",
   "execution_count": null,
   "metadata": {},
   "outputs": [],
   "source": [
    "# Get lists of the fields present in each type of document\n",
    "prize_fields = ____(____.keys())\n",
    "laureate_fields = ____(____.keys())\n",
    "\n",
    "# Compute the total number of laureate prizes\n",
    "count = sum(____(doc[____]) for doc in db.____.____())\n",
    "print(count)"
   ]
  },
  {
   "cell_type": "markdown",
   "metadata": {},
   "source": [
    "How many laureate prizes have been awarded?\n",
    "\n",
    "1. 590\n",
    "2. 934\n",
    "3. 935\n",
    "4. 941"
   ]
  }
 ],
 "metadata": {
  "kernelspec": {
   "display_name": "conda-env-mp-py",
   "language": "python",
   "name": "conda-env-mp-py"
  },
  "language_info": {
   "codemirror_mode": {
    "name": "ipython",
    "version": 3
   },
   "file_extension": ".py",
   "mimetype": "text/x-python",
   "name": "python",
   "nbconvert_exporter": "python",
   "pygments_lexer": "ipython3",
   "version": "3.7.3"
  }
 },
 "nbformat": 4,
 "nbformat_minor": 2
}
