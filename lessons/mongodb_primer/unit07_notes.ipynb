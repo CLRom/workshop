{
 "cells": [
  {
   "cell_type": "markdown",
   "metadata": {},
   "source": [
    "# Distinct As You Like It: Notes"
   ]
  },
  {
   "cell_type": "code",
   "execution_count": null,
   "metadata": {},
   "outputs": [],
   "source": [
    "from pymongo import MongoClient\n",
    "\n",
    "client = MongoClient()\n",
    "db = client.nobel"
   ]
  },
  {
   "cell_type": "markdown",
   "metadata": {},
   "source": [
    "## Finding a substring with $regex"
   ]
  },
  {
   "cell_type": "code",
   "execution_count": null,
   "metadata": {},
   "outputs": [],
   "source": [
    "db.laureates.find_one({\"firstname\": \"Marie\"})"
   ]
  },
  {
   "cell_type": "markdown",
   "metadata": {},
   "source": [
    "## Flag options for regular expressions"
   ]
  },
  {
   "cell_type": "code",
   "execution_count": null,
   "metadata": {},
   "outputs": [],
   "source": [
    "case_sensitive = db.laureates.distinct(\n",
    "    \"bornCountry\",\n",
    "    {\"bornCountry\": {\"$regex\": \"Poland\"}})"
   ]
  },
  {
   "cell_type": "code",
   "execution_count": null,
   "metadata": {},
   "outputs": [],
   "source": [
    "case_insensitive = db.laureates.distinct(\n",
    "    \"bornCountry\",\n",
    "    {\"bornCountry\": {\"$regex\": \"poland\", \"$options\": \"i\"}})\n",
    "\n",
    "assert set(case_sensitive) == set(case_insensitive)"
   ]
  },
  {
   "cell_type": "code",
   "execution_count": null,
   "metadata": {},
   "outputs": [],
   "source": [
    "from bson.regex import Regex\n",
    "\n",
    "db.laureates.distinct(\"bornCountry\", \n",
    "                      {\"bornCountry\": Regex(\"poland\", \"i\")})"
   ]
  },
  {
   "cell_type": "code",
   "execution_count": null,
   "metadata": {},
   "outputs": [],
   "source": [
    "import re\n",
    "\n",
    "db.laureates.distinct(\"bornCountry\",\n",
    "                      {\"bornCountry\": re.compile(\"poland\", re.I)})"
   ]
  },
  {
   "cell_type": "markdown",
   "metadata": {},
   "source": [
    "## Beginning and ending (and escaping)"
   ]
  },
  {
   "cell_type": "code",
   "execution_count": null,
   "metadata": {},
   "outputs": [],
   "source": [
    "from bson.regex import Regex\n",
    "\n",
    "db.laureates.distinct(\"bornCountry\", \n",
    "                      {\"bornCountry\": Regex(\"^Poland\")})"
   ]
  },
  {
   "cell_type": "code",
   "execution_count": null,
   "metadata": {},
   "outputs": [],
   "source": [
    "db.laureates.distinct(\n",
    "    \"bornCountry\", \n",
    "     {\"bornCountry\": Regex(\"^Poland \\(now\")})"
   ]
  },
  {
   "cell_type": "code",
   "execution_count": null,
   "metadata": {},
   "outputs": [],
   "source": [
    "db.laureates.distinct(\n",
    "    \"bornCountry\", \n",
    "     {\"bornCountry\": Regex(\"now Poland\\)$\")})"
   ]
  }
 ],
 "metadata": {
  "kernelspec": {
   "display_name": "conda-env-mp-py",
   "language": "python",
   "name": "conda-env-mp-py"
  },
  "language_info": {
   "codemirror_mode": {
    "name": "ipython",
    "version": 3
   },
   "file_extension": ".py",
   "mimetype": "text/x-python",
   "name": "python",
   "nbconvert_exporter": "python",
   "pygments_lexer": "ipython3",
   "version": "3.7.3"
  }
 },
 "nbformat": 4,
 "nbformat_minor": 2
}
