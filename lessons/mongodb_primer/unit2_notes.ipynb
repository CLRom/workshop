{
 "cells": [
  {
   "cell_type": "markdown",
   "metadata": {},
   "source": [
    "# Finding Documents: Notes"
   ]
  },
  {
   "cell_type": "markdown",
   "metadata": {},
   "source": [
    "An example `laureates` document:\n",
    "\n",
    "```\n",
    "{'_id': ObjectId('5b9ac94ff35b63cf5231ccb1'),\n",
    " 'born': '1845-03-27',\n",
    " 'bornCity': 'Lennep (now Remscheid)',\n",
    " 'bornCountry': 'Prussia (now Germany)',\n",
    " 'bornCountryCode': 'DE',\n",
    " 'died': '1923-02-10',\n",
    " 'diedCity': 'Munich',\n",
    " 'diedCountry': 'Germany',\n",
    " 'diedCountryCode': 'DE',\n",
    " 'firstname': 'Wilhelm Conrad',\n",
    " 'gender': 'male',\n",
    " 'id': '1',\n",
    " 'prizes': [{'affiliations': [{'city': 'Munich',\n",
    "                               'country': 'Germany',\n",
    "                               'name': 'Munich University'}],\n",
    "             'category': 'physics',\n",
    "             'motivation': '\"in recognition of the extraordinary services '\n",
    "                           'he has rendered by the discovery of the '\n",
    "                           'remarkable rays subsequently named after him\"',\n",
    "             'share': '1',\n",
    "             'year': '1901'}],\n",
    " 'surname': 'Röntgen'}\n",
    "```"
   ]
  },
  {
   "cell_type": "markdown",
   "metadata": {},
   "source": [
    "## Filters as (sub)documents"
   ]
  },
  {
   "cell_type": "markdown",
   "metadata": {},
   "source": [
    "![](assets/roentgen-hand-of-koelliker.jpg)"
   ]
  },
  {
   "cell_type": "code",
   "execution_count": null,
   "metadata": {},
   "outputs": [],
   "source": [
    "from pymongo import MongoClient\n",
    "\n",
    "client = MongoClient()\n",
    "db = client.nobel"
   ]
  },
  {
   "cell_type": "code",
   "execution_count": null,
   "metadata": {},
   "outputs": [],
   "source": [
    "# Count documents by providing a filter document to match.\n",
    "db.laureates.count_documents({\n",
    " 'born': '1845-03-27',\n",
    " 'diedCountry': 'Germany',\n",
    " 'gender': 'male',\n",
    " 'surname': 'Röntgen'\n",
    "})"
   ]
  }
 ],
 "metadata": {
  "kernelspec": {
   "display_name": "conda-env-mp-py",
   "language": "python",
   "name": "conda-env-mp-py"
  },
  "language_info": {
   "codemirror_mode": {
    "name": "ipython",
    "version": 3
   },
   "file_extension": ".py",
   "mimetype": "text/x-python",
   "name": "python",
   "nbconvert_exporter": "python",
   "pygments_lexer": "ipython3",
   "version": "3.7.3"
  }
 },
 "nbformat": 4,
 "nbformat_minor": 2
}
