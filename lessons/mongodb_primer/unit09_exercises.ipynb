{
 "cells": [
  {
   "cell_type": "markdown",
   "metadata": {},
   "source": [
    "# Sorting: Exercises"
   ]
  },
  {
   "cell_type": "code",
   "execution_count": null,
   "metadata": {},
   "outputs": [],
   "source": [
    "from pymongo import MongoClient\n",
    "\n",
    "client = MongoClient()\n",
    "db = client.nobel"
   ]
  },
  {
   "cell_type": "markdown",
   "metadata": {},
   "source": [
    "## What the sort?\n",
    "\n",
    "This block prints out the first five projections of a sorted query. What \"sort\" argument fills the blank?\n",
    "\n",
    "```python\n",
    "docs = list(db.laureates.find(\n",
    "    {\"born\": {\"$gte\": \"1900\"}, \"prizes.year\": {\"$gte\": \"1954\"}},\n",
    "    {\"born\": 1, \"prizes.year\": 1, \"_id\": 0},\n",
    "    sort=____))\n",
    "for doc in docs[:5]:\n",
    "    print(doc)\n",
    "```\n",
    "```\n",
    "{'born': '1916-08-25', 'prizes': [{'year': '1954'}]}\n",
    "{'born': '1915-06-15', 'prizes': [{'year': '1954'}]}\n",
    "{'born': '1901-02-28', 'prizes': [{'year': '1954'}, {'year': '1962'}]}\n",
    "{'born': '1913-07-12', 'prizes': [{'year': '1955'}]}\n",
    "{'born': '1911-01-26', 'prizes': [{'year': '1955'}]}\n",
    "```"
   ]
  },
  {
   "cell_type": "markdown",
   "metadata": {},
   "source": [
    "1. `[(\"prizes.year\", 1), (\"born\", -1)]`\n",
    "1. `{\"prizes.year\": 1, \"born\": -1}`\n",
    "1. `None`\n",
    "1. `[(\"prizes.year\", 1)]`"
   ]
  },
  {
   "cell_type": "markdown",
   "metadata": {},
   "source": [
    "## Sorting together: MongoDB + Python\n",
    "\n",
    "You will print out the names of all physics laureates, with one line printed for each award year, in chronological order. Each line will list laureates for that year in alphabetical order by surname (\"last\" name).\n",
    "\n",
    "I encourage you to print intermediate results and understand the nested structure of prize documents."
   ]
  },
  {
   "cell_type": "markdown",
   "metadata": {},
   "source": [
    "- Construct a sort specification `sort_spec` to fetch physics prizes by ascending year."
   ]
  },
  {
   "cell_type": "code",
   "execution_count": null,
   "metadata": {},
   "outputs": [],
   "source": [
    "from operator import itemgetter\n",
    "\n",
    "# Sort by ascending year\n",
    "sort_spec = [(____, ____)]"
   ]
  },
  {
   "cell_type": "markdown",
   "metadata": {},
   "source": [
    "- Use `<collection>.find` to construct a `cursor` that fetches prizes with a \"category\" of \"physics\", sorts by ascending year, and projects the year and laureate names (`laureates.firstname` and `laureates.surname`). Understand the printed results.\n"
   ]
  },
  {
   "cell_type": "code",
   "execution_count": null,
   "metadata": {},
   "outputs": [],
   "source": [
    "# Construct a cursor over physics prizes\n",
    "cursor = db.prizes.____({____: ____}, [____, \"laureates.firstname\", \"laureates.surname\"], sort=sort_spec)\n",
    "docs = list(cursor)\n",
    "for doc in sorted(docs, key=itemgetter(\"year\")):\n",
    "    print(\"{year}: {first_laureate_surname}\".format(\n",
    "        year=doc[\"year\"], first_laureate_surname=doc[\"laureates\"][0][\"surname\"]))\n",
    "cursor.rewind() # Rewind cursor to reuse in the next step"
   ]
  },
  {
   "cell_type": "markdown",
   "metadata": {},
   "source": [
    "- Complete the definition of the function `names` so that, given a prize document, it returns a list of formatted names, sorted by ascending \"surname\", for each of the \"laureates\" in that prize document.\n"
   ]
  },
  {
   "cell_type": "code",
   "execution_count": null,
   "metadata": {},
   "outputs": [],
   "source": [
    "# Define a function names() to return a list of formatted names\n",
    "def names(doc):\n",
    "    formatted_names = [\"{firstname} {surname}\".format(**laureate)\n",
    "          for laureate in sorted(doc[____], key=itemgetter(____))]\n",
    "    return formatted_names\n",
    "\n",
    "lines = [\"{year}: {names}\".format(year=doc[\"year\"], names=\" and \".join(names(doc)))\n",
    "         for doc in cursor]\n",
    "for line in lines: print(line)"
   ]
  },
  {
   "cell_type": "markdown",
   "metadata": {},
   "source": [
    "## Gap years"
   ]
  },
  {
   "cell_type": "markdown",
   "metadata": {},
   "source": [
    "The prize in economics was not added until 1969. There have also been many years for which prizes in one or more of the original categories were not awarded.\n",
    "\n",
    "Sorting first by reverse chronological order and second by alphabetical order of category, collect and format prize documents to produce one formatted entry per year listing categories missing for that year.\n"
   ]
  },
  {
   "cell_type": "markdown",
   "metadata": {},
   "source": [
    "- Construct a set `original_categories` of prize categories awarded in 1901."
   ]
  },
  {
   "cell_type": "code",
   "execution_count": null,
   "metadata": {},
   "outputs": [],
   "source": [
    "import itertools\n",
    "from operator import itemgetter\n",
    "\n",
    "# Save the set of prize categories awarded in 1901\n",
    "original_categories = set(db.prizes.____(\"category\", {____: \"1901\"}))"
   ]
  },
  {
   "cell_type": "markdown",
   "metadata": {},
   "source": [
    "- Use `<collection>.find` to construct a cursor `cursor` that yields prize documents only for categories in the list of original categories, sorted first by decreasing year and second by increasing category.\n"
   ]
  },
  {
   "cell_type": "code",
   "execution_count": null,
   "metadata": {},
   "outputs": [],
   "source": [
    "# Construct a cursor over original-category prizes\n",
    "cursor = db.prizes.____({\"category\": {____: list(original_categories)}}, [\"category\", \"year\"],\n",
    "                        sort=[(____, ____), (____, ____)])"
   ]
  },
  {
   "cell_type": "markdown",
   "metadata": {},
   "source": [
    "- Collect a list `not_awarded` of entries to be printed, one per line, that display a year and the categories missing for that year. You will collect \"category\" values for each year and set-subtract them from the original categories.\n"
   ]
  },
  {
   "cell_type": "code",
   "execution_count": null,
   "metadata": {},
   "outputs": [],
   "source": [
    "# Collect entries for missing prize categories\n",
    "not_awarded = []\n",
    "for key, group in itertools.groupby(cursor, key=itemgetter(\"year\")):\n",
    "    year_categories = set(prize[____] for prize in group)\n",
    "    missing = \", \".join(sorted(____ - ____))\n",
    "    if missing: not_awarded.append(\"{}: {}\".format(key, missing))\n",
    "\n",
    "for line in not_awarded: print(line)"
   ]
  }
 ],
 "metadata": {
  "kernelspec": {
   "display_name": "conda-env-mp-py",
   "language": "python",
   "name": "conda-env-mp-py"
  },
  "language_info": {
   "codemirror_mode": {
    "name": "ipython",
    "version": 3
   },
   "file_extension": ".py",
   "mimetype": "text/x-python",
   "name": "python",
   "nbconvert_exporter": "python",
   "pygments_lexer": "ipython3",
   "version": "3.7.3"
  }
 },
 "nbformat": 4,
 "nbformat_minor": 2
}
