{
 "cells": [
  {
   "cell_type": "markdown",
   "metadata": {},
   "source": [
    "# Finding Documents: Exercises"
   ]
  },
  {
   "cell_type": "code",
   "execution_count": null,
   "metadata": {},
   "outputs": [],
   "source": [
    "from pymongo import MongoClient\n",
    "\n",
    "client = MongoClient()\n",
    "db = client.nobel"
   ]
  },
  {
   "cell_type": "markdown",
   "metadata": {},
   "source": [
    "## \"born\" approximation"
   ]
  },
  {
   "cell_type": "markdown",
   "metadata": {},
   "source": [
    "The `born` field in a laureate collection document records the date of birth of that laureate. `born` values are of the form \"YYYY-MM-DD\", also known as ISO 8601 format. An example value is \"1937-02-01\", for February 1st, 1937. This format is convenient for lexicographic sort order and thus comparison. For example, the query\n",
    "```python\n",
    "db.laureates.count_documents({\"born\": {\"$lt\": \"1900\"}})\n",
    "```\n",
    "returns the number of laureates with recorded dates of birth earlier than the year 1900. Using the query format above, what is the number of laureates born prior to 1800? What about prior to 1700?\n"
   ]
  },
  {
   "cell_type": "markdown",
   "metadata": {},
   "source": [
    "1. 38 prior to 1800, and 0 prior to 1700\n",
    "2. 321 prior to 1800, and 35 prior to 1700\n",
    "3. 38 prior to 1800, and 38 prior to 1700"
   ]
  },
  {
   "cell_type": "markdown",
   "metadata": {},
   "source": [
    "## Composing filters"
   ]
  },
  {
   "cell_type": "markdown",
   "metadata": {},
   "source": [
    "It is often useful to incrementally build up a filter document in order to see the effect of adding constraints one at a time. In this exercise, we will count the number of laureate documents matching some criteria, and we will gradually add criteria.\n"
   ]
  },
  {
   "cell_type": "markdown",
   "metadata": {},
   "source": [
    "- Create a filter `criteria` to count (save as `count`) laureates who died (`\"diedCountry\"`) in the USA (`\"USA\"`)."
   ]
  },
  {
   "cell_type": "code",
   "execution_count": null,
   "metadata": {},
   "outputs": [],
   "source": [
    "# Create a filter for laureates who died in the USA\n",
    "criteria = {____: ____}\n",
    "\n",
    "# Save a count of these laureates\n",
    "count = db.laureates.count_documents(____)\n",
    "print(count)"
   ]
  },
  {
   "cell_type": "markdown",
   "metadata": {},
   "source": [
    "- Create a filter `criteria` to count laureates who died in the United States but were born (`\"bornCountry\"`) in Germany."
   ]
  },
  {
   "cell_type": "code",
   "execution_count": null,
   "metadata": {},
   "outputs": [],
   "source": [
    "# Create a filter for laureates who died in the USA but were born in Germany\n",
    "criteria = {____: ____, ____: ____}\n",
    "\n",
    "# Save a count\n",
    "count = db.laureates.____(____)\n",
    "print(count)"
   ]
  },
  {
   "cell_type": "markdown",
   "metadata": {},
   "source": [
    "- Count laureates who died in the USA, were born in Germany, and whose first name (`\"firstname\"`) was \"Albert\".\n"
   ]
  },
  {
   "cell_type": "code",
   "execution_count": null,
   "metadata": {},
   "outputs": [],
   "source": [
    "# Create a filter for Germany-born laureates who died in the USA and with the first name \"Albert\"\n",
    "criteria = {____: ____, ____: ____, ____: ____}\n",
    "\n",
    "# Save the count\n",
    "count = db.laureates.____(____)\n",
    "print(count)"
   ]
  },
  {
   "cell_type": "markdown",
   "metadata": {},
   "source": [
    "## We've got options"
   ]
  },
  {
   "cell_type": "markdown",
   "metadata": {},
   "source": [
    "Sometimes, we wish to find documents where a field's value matches any of a set of options. We saw that the `$in` query operator can be used for this purpose. For example, how many laureates were born in any of \"Canada\", \"Mexico\", or \"USA\"? "
   ]
  },
  {
   "cell_type": "markdown",
   "metadata": {},
   "source": [
    "- How many laureates were born in \"USA\", \"Canada\", or \"Mexico\"? Save a filter as `criteria` and your count as `count`."
   ]
  },
  {
   "cell_type": "code",
   "execution_count": null,
   "metadata": {},
   "outputs": [],
   "source": [
    "criteria = {____: {\"$in\": ____}}\n",
    "\n",
    "# Count them and save the count\n",
    "count = db.____.____(____)\n",
    "print(count)"
   ]
  },
  {
   "cell_type": "markdown",
   "metadata": {},
   "source": [
    "If we wish to accept all but one option as a value for a field, we can use the `$ne` (**n**ot **e**qual) operator. For example, how many laureates died in the USA but were not born in the USA?"
   ]
  },
  {
   "cell_type": "markdown",
   "metadata": {},
   "source": [
    "- How many laureates died in the USA but were not born there? Save your filter as `criteria` and your count as `count`.\n"
   ]
  },
  {
   "cell_type": "code",
   "execution_count": null,
   "metadata": {},
   "outputs": [],
   "source": [
    "# Save a filter for laureates who died in the USA and were not born there\n",
    "criteria = {____: {\"$ne\": ____}, ____: ____}\n",
    "\n",
    "# Count them\n",
    "count = ____.____.____(____)\n",
    "print(count)"
   ]
  }
 ],
 "metadata": {
  "kernelspec": {
   "display_name": "conda-env-mp-py",
   "language": "python",
   "name": "conda-env-mp-py"
  },
  "language_info": {
   "codemirror_mode": {
    "name": "ipython",
    "version": 3
   },
   "file_extension": ".py",
   "mimetype": "text/x-python",
   "name": "python",
   "nbconvert_exporter": "python",
   "pygments_lexer": "ipython3",
   "version": "3.7.3"
  }
 },
 "nbformat": 4,
 "nbformat_minor": 2
}
