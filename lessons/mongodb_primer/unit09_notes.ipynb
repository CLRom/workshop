{
 "cells": [
  {
   "cell_type": "markdown",
   "metadata": {},
   "source": [
    "# Sorting: Notes"
   ]
  },
  {
   "cell_type": "code",
   "execution_count": null,
   "metadata": {},
   "outputs": [],
   "source": [
    "from pymongo import MongoClient\n",
    "\n",
    "client = MongoClient()\n",
    "db = client.nobel"
   ]
  },
  {
   "cell_type": "markdown",
   "metadata": {},
   "source": [
    "## Sorting post-query with Python"
   ]
  },
  {
   "cell_type": "code",
   "execution_count": null,
   "metadata": {},
   "outputs": [],
   "source": [
    "docs = list(db.prizes.find({\"category\": \"physics\"}, [\"year\"]))\n",
    "\n",
    "print([doc[\"year\"] for doc in docs][:5])"
   ]
  },
  {
   "cell_type": "code",
   "execution_count": null,
   "metadata": {},
   "outputs": [],
   "source": [
    "from operator import itemgetter\n",
    "\n",
    "docs = sorted(docs, key=itemgetter(\"year\"))\n",
    "print([doc[\"year\"] for doc in docs][:5])"
   ]
  },
  {
   "cell_type": "code",
   "execution_count": null,
   "metadata": {},
   "outputs": [],
   "source": [
    "docs = sorted(docs, key=itemgetter(\"year\"), reverse=True)\n",
    "print([doc[\"year\"] for doc in docs][:5])"
   ]
  },
  {
   "cell_type": "markdown",
   "metadata": {},
   "source": [
    "## Sorting in-query with MongoDB"
   ]
  },
  {
   "cell_type": "code",
   "execution_count": null,
   "metadata": {},
   "outputs": [],
   "source": [
    "cursor = db.prizes.find({\"category\": \"physics\"}, [\"year\"],\n",
    "                        sort=[(\"year\", 1)])\n",
    "print([doc[\"year\"] for doc in cursor][:5])"
   ]
  },
  {
   "cell_type": "code",
   "execution_count": null,
   "metadata": {},
   "outputs": [],
   "source": [
    "cursor = db.prizes.find({\"category\": \"physics\"}, [\"year\"],\n",
    "                        sort=[(\"year\", -1)])\n",
    "print([doc[\"year\"] for doc in cursor][:5])"
   ]
  },
  {
   "cell_type": "markdown",
   "metadata": {},
   "source": [
    "## Primary and secondary sorting"
   ]
  },
  {
   "cell_type": "code",
   "execution_count": null,
   "metadata": {},
   "outputs": [],
   "source": [
    "for doc in db.prizes.find(\n",
    "        {\"year\": {\"$gt\": \"1966\", \"$lt\": \"1970\"}},\n",
    "        [\"category\", \"year\"],\n",
    "        sort=[(\"year\", 1), (\"category\", -1)]):\n",
    "    print(\"{year} {category}\".format(**doc))"
   ]
  },
  {
   "cell_type": "markdown",
   "metadata": {},
   "source": [
    "## Sorting with pymongo versus MongoDB shell"
   ]
  },
  {
   "cell_type": "markdown",
   "metadata": {},
   "source": [
    "In MongoDB shell:\n",
    "- Example `sort`argument: `{\"year\": 1, \"category\": -1}`\n",
    "- JavaScript objects retain key order as entered\n",
    "\n",
    "In Python < 3.7 :\n",
    "```python\n",
    ">> {\"year\": 1, \"category\": 1}\n",
    "```\n",
    "\n",
    "```out\n",
    "{'category': 1, 'year': 1}\n",
    "```\n",
    "\n",
    "```python\n",
    ">> [(\"year\", 1), (\"category\", 1)]\n",
    "```\n",
    "\n",
    "```out\n",
    "[('year', 1), ('category', 1)]\n",
    "```"
   ]
  }
 ],
 "metadata": {
  "kernelspec": {
   "display_name": "conda-env-mp-py",
   "language": "python",
   "name": "conda-env-mp-py"
  },
  "language_info": {
   "codemirror_mode": {
    "name": "ipython",
    "version": 3
   },
   "file_extension": ".py",
   "mimetype": "text/x-python",
   "name": "python",
   "nbconvert_exporter": "python",
   "pygments_lexer": "ipython3",
   "version": "3.7.3"
  }
 },
 "nbformat": 4,
 "nbformat_minor": 2
}
