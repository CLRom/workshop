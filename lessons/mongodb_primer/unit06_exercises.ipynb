{
 "cells": [
  {
   "cell_type": "markdown",
   "metadata": {},
   "source": [
    "# Filter Arrays using Distinct Values: Exercises"
   ]
  },
  {
   "cell_type": "code",
   "execution_count": null,
   "metadata": {},
   "outputs": [],
   "source": [
    "from pymongo import MongoClient\n",
    "\n",
    "client = MongoClient()\n",
    "db = client.nobel"
   ]
  },
  {
   "cell_type": "markdown",
   "metadata": {},
   "source": [
    "## Sharing in physics after World War II\n",
    "\n",
    "What is the approximate ratio of the number of laureates who won an *unshared*, i.e.\n",
    "\n",
    "    {\"share\": \"1\"}\n",
    "\n",
    ", prize in physics after World War II, i.e.\n",
    "\n",
    "    {\"year\": {\"$gte\": \"1945\"}}\n",
    "\n",
    ", to the number of laureates who won a *shared* prize in physics after World War II?\n",
    "\n",
    "1. 0.06\n",
    "1. 0.13\n",
    "1. 0.33\n",
    "1. 0.50"
   ]
  },
  {
   "cell_type": "markdown",
   "metadata": {},
   "source": [
    "## Meanwhile, in other categories..."
   ]
  },
  {
   "cell_type": "markdown",
   "metadata": {},
   "source": [
    "What is the aforemenrtioned ratio for prize categories other than physics, chemistry, and medicine?\n",
    "\n",
    "- Save an `$elemMatch` filter `unshared` to count laureates with unshared prizes in categories other than (\"not in\") `[\"physics\", \"chemistry\", \"medicine\"]` in or after 1945.\n",
    "- Save an `$elemMatch` filter `shared` to count laureates with shared (i.e., \"share\" is not \"1\") prizes in categories other than `[\"physics\", \"chemistry\", \"medicine\"]` in or after 1945.\n"
   ]
  },
  {
   "cell_type": "code",
   "execution_count": null,
   "metadata": {},
   "outputs": [],
   "source": [
    "# Save a filter for laureates with unshared prizes\n",
    "unshared = {\n",
    "    \"prizes\": {____: {\n",
    "        ____: {____: [\"physics\", \"chemistry\", \"medicine\"]},\n",
    "        \"share\": \"1\",\n",
    "        \"year\": {____: \"1945\"},\n",
    "    }}}\n",
    "\n",
    "# Save a filter for laureates with shared prizes\n",
    "shared = {\n",
    "    \"prizes\": {____: {\n",
    "        ____: {____: [\"physics\", \"chemistry\", \"medicine\"]},\n",
    "        \"share\": {____: \"1\"},\n",
    "        \"year\": {____: \"1945\"},\n",
    "    }}}\n",
    "\n",
    "ratio = db.laureates.____(____) / db.laureates.____(____)\n",
    "print(ratio)"
   ]
  },
  {
   "cell_type": "markdown",
   "metadata": {},
   "source": [
    "## Organizations and prizes over time"
   ]
  },
  {
   "cell_type": "markdown",
   "metadata": {},
   "source": [
    "How many organizations won prizes before 1945 versus in or after 1945?"
   ]
  },
  {
   "cell_type": "markdown",
   "metadata": {},
   "source": [
    "- Save a filter `before` to count organization laureates with prizes won before 1945. Recall that organization status is encoded with the \"gender\" field, and that dot notation is needed to access a laureate's \"year\" field within its \"prizes\" array.\n",
    "- Save a filter `in_or_after` to count organization laureates with prizes won in or after 1945."
   ]
  },
  {
   "cell_type": "code",
   "execution_count": null,
   "metadata": {},
   "outputs": [],
   "source": [
    "# Save a filter for organization laureates with prizes won before 1945\n",
    "before = {\n",
    "    ____: ____,\n",
    "    ____: {____: \"1945\"},\n",
    "    }\n",
    "\n",
    "# Save a filter for organization laureates with prizes won in or after 1945\n",
    "in_or_after = {\n",
    "    ____: ____,\n",
    "    ____: {____: \"1945\"},\n",
    "    }\n",
    "\n",
    "n_before = db.laureates.count_documents(before)\n",
    "n_in_or_after = db.laureates.count_documents(in_or_after)\n",
    "ratio = n_in_or_after / (n_in_or_after + n_before)\n",
    "print(ratio)"
   ]
  }
 ],
 "metadata": {
  "kernelspec": {
   "display_name": "conda-env-mp-py",
   "language": "python",
   "name": "conda-env-mp-py"
  },
  "language_info": {
   "codemirror_mode": {
    "name": "ipython",
    "version": 3
   },
   "file_extension": ".py",
   "mimetype": "text/x-python",
   "name": "python",
   "nbconvert_exporter": "python",
   "pygments_lexer": "ipython3",
   "version": "3.7.3"
  }
 },
 "nbformat": 4,
 "nbformat_minor": 2
}
