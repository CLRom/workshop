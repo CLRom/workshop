{
 "cells": [
  {
   "cell_type": "markdown",
   "metadata": {},
   "source": [
    "# Intro to MongoDB and the Nobel Prize Dataseta: Notes"
   ]
  },
  {
   "cell_type": "markdown",
   "metadata": {},
   "source": [
    "## JavaScript Object Notation (JSON)"
   ]
  },
  {
   "cell_type": "markdown",
   "metadata": {},
   "source": [
    "objects: {}, {`string`: `value`}, {`string1`: `value1`, ...}\n",
    "\n",
    "\n",
    "arrays: [], [`value`], [`value1`, ...]\n",
    "\n",
    "\n",
    "values:  `string`, `number`, `true`, `false`, `null`, `object`, `array`"
   ]
  },
  {
   "cell_type": "markdown",
   "metadata": {},
   "source": [
    "## JSON $\\longleftrightarrow$ Python"
   ]
  },
  {
   "cell_type": "markdown",
   "metadata": {},
   "source": [
    "objects: {}, {`string`: `value`}, {`string1`: `value1`, ...}\n",
    "\n",
    "---> *dictionaries* (with `str` keys)"
   ]
  },
  {
   "cell_type": "markdown",
   "metadata": {},
   "source": [
    "arrays: [], [`value`], [`value1`, ...]\n",
    "\n",
    "---> *lists*"
   ]
  },
  {
   "cell_type": "markdown",
   "metadata": {},
   "source": [
    "values:  `string`, `number`, `true`, `false`, `null`, `object`, `array`\n",
    "\n",
    "```python\n",
    "str, int, float, True, False, None, dict, list\n",
    "```"
   ]
  },
  {
   "cell_type": "markdown",
   "metadata": {},
   "source": [
    "## JSON $\\longleftrightarrow$ Python $\\longleftrightarrow$ MongoDB"
   ]
  },
  {
   "cell_type": "markdown",
   "metadata": {},
   "source": [
    "objects: {}, {`string`: `value`}, {`string1`: `value1`, ...}\n",
    "\n",
    "---> *dictionaries* (with `str`keys)\n",
    "\n",
    "***databases***, ***documents***, ***subdocuments***\n",
    "\n",
    "<br>"
   ]
  },
  {
   "cell_type": "markdown",
   "metadata": {},
   "source": [
    "arrays: [], [`value`], [`value1`, ...]\n",
    "\n",
    "--->   *lists*\n",
    "\n",
    "--->  ***collections*** (of documents),  ***arrays*** (within documents)\n",
    "\n",
    "<br>"
   ]
  },
  {
   "cell_type": "markdown",
   "metadata": {},
   "source": [
    "values:  `string`, `number`, `true`, `false`, `null`, `object`, `array`\n",
    "\n",
    "```python\n",
    "values: str, int/float, True, False, None, dict, list, datetime, re.Pattern, ...\n",
    "```\n",
    "```\n",
    "string, int/long/double, true, false, null, object, array, <date>, <regex>, ...\n",
    "```"
   ]
  },
  {
   "cell_type": "markdown",
   "metadata": {},
   "source": [
    "## Our Nobel Prize API database"
   ]
  },
  {
   "cell_type": "code",
   "execution_count": null,
   "metadata": {},
   "outputs": [],
   "source": [
    "import requests\n",
    "from pymongo import MongoClient"
   ]
  },
  {
   "cell_type": "code",
   "execution_count": null,
   "metadata": {},
   "outputs": [],
   "source": [
    "# Client connects to \"localhost\" by default\n",
    "client = MongoClient()\n",
    "# Create local \"nobel\" database on the fly\n",
    "db = client[\"nobel\"]"
   ]
  },
  {
   "cell_type": "code",
   "execution_count": null,
   "metadata": {},
   "outputs": [],
   "source": [
    "# API documented at https://nobelprize.readme.io/docs/prize\n",
    "for collection_name in [\"prizes\", \"laureates\"]:\n",
    "    singular = collection_name[:-1]\n",
    "    response = requests.get(\n",
    "        \"http://api.nobelprize.org/v1/{}.json\".format(singular))\n",
    "    documents = response.json()[collection_name]\n",
    "    # Access collections on the fly!\n",
    "    db[collection_name].drop()  # Drop collection first if already exists\n",
    "    db[collection_name].insert_many(documents)"
   ]
  },
  {
   "cell_type": "code",
   "execution_count": null,
   "metadata": {},
   "outputs": [],
   "source": [
    "# You can access dbs and collections as attributes (in addition to treating as dictionary)\n",
    "assert client.nobel == client[\"nobel\"]\n",
    "assert client.nobel.prizes == client[\"nobel\"][\"prizes\"]"
   ]
  },
  {
   "cell_type": "code",
   "execution_count": null,
   "metadata": {},
   "outputs": [],
   "source": [
    "# A collection method to count documents\n",
    "try:\n",
    "    db.prizes.count_documents()\n",
    "except TypeError as e:\n",
    "    print(e)\n",
    "\n",
    "# Use an empty dictionary as an all-accepting filter\n",
    "print(db.prizes.count_documents({}), \"prize documents\")"
   ]
  }
 ],
 "metadata": {
  "kernelspec": {
   "display_name": "conda-env-mp-py",
   "language": "python",
   "name": "conda-env-mp-py"
  },
  "language_info": {
   "codemirror_mode": {
    "name": "ipython",
    "version": 3
   },
   "file_extension": ".py",
   "mimetype": "text/x-python",
   "name": "python",
   "nbconvert_exporter": "python",
   "pygments_lexer": "ipython3",
   "version": "3.7.3"
  }
 },
 "nbformat": 4,
 "nbformat_minor": 2
}
