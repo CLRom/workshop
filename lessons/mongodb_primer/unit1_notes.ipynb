{
 "cells": [
  {
   "cell_type": "markdown",
   "metadata": {},
   "source": [
    "# Intro to MongoDB and the Nobel Prize Dataseta: Notes"
   ]
  },
  {
   "cell_type": "markdown",
   "metadata": {},
   "source": [
    "Welcome to my intro to MongoDB with Python. MongoDB is a tool that helps you explore data without requiring it to have a strict, known structure. Because of this, you can handle diverse data together and unify analytics. You can also keep improving and fix issues as your requirements evolve. Most application programming interfaces - or APIs - on the web today expose a certain data format. If you can express your data in this format, then you can get started with MongoDB. Here's what I mean:\n"
   ]
  },
  {
   "cell_type": "markdown",
   "metadata": {},
   "source": [
    "## JavaScript Object Notation (JSON)"
   ]
  },
  {
   "cell_type": "markdown",
   "metadata": {},
   "source": [
    "Javascript is the language of web browsers. JavaScript Object Notation, or JSON, is a common way that web services and client code pass data. JSON is also the basis of MongoDB's data format. So, what is JSON? JSON has two collection structures.\n",
    "\n",
    "Objects map string keys to values, and arrays order values. Values, in turn, are one of a few things. Values are strings, numbers, the value \"true\", the value \"false\", the value \"null\", or another object or array. That's it."
   ]
  },
  {
   "cell_type": "markdown",
   "metadata": {},
   "source": [
    "- objects: {}, {`string`: `value`}, {`string1`: `value1`, ...} {{0}}\n",
    "\n",
    "- arrays: [], [`value`], [`value1`, ...] {{1}}\n",
    "\n",
    "- values:  `string`, `number`, `true`, `false`, `null`, `object`, `array`{{2}}"
   ]
  },
  {
   "cell_type": "markdown",
   "metadata": {},
   "source": [
    "## JSON $\\longleftrightarrow$ Python"
   ]
  },
  {
   "cell_type": "markdown",
   "metadata": {},
   "source": [
    "These JSON data types have equivalents in Python."
   ]
  },
  {
   "cell_type": "markdown",
   "metadata": {},
   "source": [
    "JSON objects are like Python dictionaries with string-type keys.\n",
    "\n",
    "- objects: {}, {`string`: `value`}, {`string1`: `value1`, ...}\n",
    "      ---> *dictionaries* (with `str`keys) {{0}}"
   ]
  },
  {
   "cell_type": "markdown",
   "metadata": {},
   "source": [
    "Arrays are like Python lists.\n",
    "\n",
    "- arrays: [], [`value`], [`value1`, ...]\n",
    "      --->   *lists* {{1}}\n"
   ]
  },
  {
   "cell_type": "markdown",
   "metadata": {},
   "source": [
    "And the values I mentioned also map to Python. For example, null in JSON maps to None in Python.\n",
    "\n",
    "\n",
    "- values:  `string`, `number`, `true`, `false`, `null`, `object`, `array`\n",
    "      ---> str, int/float, True, False, None, dict, list {{2}}"
   ]
  },
  {
   "cell_type": "markdown",
   "metadata": {},
   "source": [
    "## JSON $\\longleftrightarrow$ Python $\\longleftrightarrow$ MongoDB"
   ]
  },
  {
   "cell_type": "markdown",
   "metadata": {},
   "source": [
    "Now, how are these JSON/Python types expressed in MongoDB?\n",
    "\n"
   ]
  },
  {
   "cell_type": "markdown",
   "metadata": {},
   "source": [
    "A database maps names to collections. You can access collections by name the same way you would access values in a Python dictionary.\n",
    "\n",
    "- objects: {}, {`string`: `value`}, {`string1`: `value1`, ...}\n",
    "      ---> *dictionaries* (with `str`keys)\n",
    "      ---> ***databases***, ***documents***, ***subdocuments*** {{0}}"
   ]
  },
  {
   "cell_type": "markdown",
   "metadata": {},
   "source": [
    "\n",
    "A collection, in turn, is like a list of dictionaries, called \"documents\" by MongoDB. When a dictionary is a value within a document, that's a subdocument.\n",
    "\n",
    "- arrays: [], [`value`], [`value1`, ...]\n",
    "      --->   *lists*\n",
    "      --->  ***collections*** (of documents),  ***arrays*** (within documents) {{1}}"
   ]
  },
  {
   "cell_type": "markdown",
   "metadata": {},
   "source": [
    "Values in a document can be any of the types I mentioned. MongoDB also supports some types native to Python but not to JSON. Two examples are dates and regular expressions.\n",
    "\n",
    "- values:  `string`, `number`, `true`, `false`, `null`, `object`, `array`\n",
    "      ---> str, int/float, True, False, None, dict, list, <datetime>, <re pattern>, ...\n",
    "      ---> string, int/long/double, true, false, null, object, array, <date>, <regex>, ... {{2}}"
   ]
  },
  {
   "cell_type": "markdown",
   "metadata": {},
   "source": [
    "## The Nobel Prize API data(base)"
   ]
  },
  {
   "cell_type": "markdown",
   "metadata": {},
   "source": [
    "Let's make concrete how JSON maps to Python and in turn to MongoDB. Here is how I accessed the Nobel Prize API and collected its data into a Mongo database for you.\n",
    "\n",
    "First, I import the requests library, which will get the data from the API. I also import the MongoClient class from pymongo. Pymongo is the official Python driver for MongoDB."
   ]
  },
  {
   "cell_type": "code",
   "execution_count": null,
   "metadata": {},
   "outputs": [],
   "source": [
    "import requests\n",
    "from pymongo import MongoClient"
   ]
  },
  {
   "cell_type": "markdown",
   "metadata": {},
   "source": [
    "Then, I connect to my local database server. I say that I want a database with the name \"nobel\", and MongoDB creates it."
   ]
  },
  {
   "cell_type": "code",
   "execution_count": null,
   "metadata": {},
   "outputs": [],
   "source": [
    "# Client connects to \"localhost\" by default\n",
    "client = MongoClient()\n",
    "# Create local \"nobel\" database on the fly\n",
    "db = client[\"nobel\"]"
   ]
  },
  {
   "cell_type": "markdown",
   "metadata": {},
   "source": [
    "Finally, I gather JSON responses for the \"prize\" and \"laureate\" endpoints. I insert them into the \"prizes\" and \"laureates\" collections, which Mongo also creates for me."
   ]
  },
  {
   "cell_type": "code",
   "execution_count": null,
   "metadata": {},
   "outputs": [],
   "source": [
    "# API documented at https://nobelprize.readme.io/docs/prize\n",
    "for collection_name in [\"prizes\", \"laureates\"]:\n",
    "    singular = collection_name[:-1]\n",
    "    response = requests.get(\n",
    "        \"http://api.nobelprize.org/v1/{}.json\".format(singular))\n",
    "    documents = response.json()[collection_name]\n",
    "    # Create collections on the fly\n",
    "    db[collection_name].insert_many(documents)"
   ]
  },
  {
   "cell_type": "markdown",
   "metadata": {},
   "source": [
    "## Counting Documents, and Finding One to Inspect"
   ]
  },
  {
   "cell_type": "markdown",
   "metadata": {},
   "source": [
    "Now, let's go over how to count documents in a collection, and how to find one to inspect."
   ]
  },
  {
   "cell_type": "markdown",
   "metadata": {},
   "source": [
    "First, a note on accessing databases and collections from a client object. One way is square bracket notation, as if a client is a dictionary of databases, with database names as keys. A database in turn is like a dictionary of collections, with collection names as keys. Another way to access things is dot notation. Databases are attributes of a client, and collections are attributes of a database."
   ]
  },
  {
   "cell_type": "code",
   "execution_count": null,
   "metadata": {},
   "outputs": [],
   "source": [
    "# You can also access dbs and collections as attributes\n",
    "assert client.nobel == db\n",
    "assert db.prizes == db[\"prizes\"]"
   ]
  },
  {
   "cell_type": "markdown",
   "metadata": {},
   "source": [
    "To count documents, use the \"count_documents \" collection method. Pass a filter document to limit what you count. In this case, I want an unfiltered total count, so I pass an empty document as the filter."
   ]
  },
  {
   "cell_type": "code",
   "execution_count": null,
   "metadata": {},
   "outputs": [],
   "source": [
    "# Count documents\n",
    "n_prizes = db.prizes.count_documents({})\n",
    "n_laureates = db.laureates.count_documents({})"
   ]
  },
  {
   "cell_type": "markdown",
   "metadata": {},
   "source": [
    "Finally, you can fetch a document and infer the schema of the raw JSON data given by the Nobel Prize API. Use the find_one method, again with no filter, to grab a document from the collection."
   ]
  },
  {
   "cell_type": "code",
   "execution_count": null,
   "metadata": {},
   "outputs": [],
   "source": [
    "# Find one document to inspect\n",
    "doc = db.prizes.find_one({})"
   ]
  },
  {
   "cell_type": "markdown",
   "metadata": {},
   "source": [
    "## Let's practice!"
   ]
  },
  {
   "cell_type": "markdown",
   "metadata": {},
   "source": [
    "Now, let's practice. You'll access databases and collections from a connected client. You'll count documents, and you'll inspect them.\n"
   ]
  }
 ],
 "metadata": {
  "kernelspec": {
   "display_name": "conda-env-mp-py",
   "language": "python",
   "name": "conda-env-mp-py"
  },
  "language_info": {
   "codemirror_mode": {
    "name": "ipython",
    "version": 3
   },
   "file_extension": ".py",
   "mimetype": "text/x-python",
   "name": "python",
   "nbconvert_exporter": "python",
   "pygments_lexer": "ipython3",
   "version": "3.7.3"
  }
 },
 "nbformat": 4,
 "nbformat_minor": 2
}
