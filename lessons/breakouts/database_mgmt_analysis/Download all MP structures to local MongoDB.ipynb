{
 "cells": [
  {
   "cell_type": "code",
   "execution_count": null,
   "metadata": {},
   "outputs": [],
   "source": [
    "from pymatgen import MPRester\n",
    "\n",
    "mpr = MPRester()\n",
    "\n",
    "mpids = [d[\"material_id\"] for d in mpr.query({}, [\"material_id\"])]"
   ]
  },
  {
   "cell_type": "code",
   "execution_count": null,
   "metadata": {},
   "outputs": [],
   "source": [
    "from pymongo import MongoClient\n",
    "\n",
    "client = MongoClient()\n",
    "db = client.structure_tagging\n",
    "db.mp_structures.drop()"
   ]
  },
  {
   "cell_type": "code",
   "execution_count": null,
   "metadata": {},
   "outputs": [],
   "source": [
    "from pydash import py_\n",
    "from tqdm import tqdm_notebook as tqdm\n",
    "\n",
    "chunks = py_.chunk(mpids, size=100)\n",
    "pbar = tqdm(total=len(mpids))\n",
    "for chunk in chunks:\n",
    "    db.mp_structures.insert_many(\n",
    "        mpr.query(\n",
    "            {\"material_id\": {\"$in\": chunk}},\n",
    "            [\"material_id\", \"structure\"],\n",
    "            mp_decode=False,\n",
    "        )\n",
    "    )\n",
    "    pbar.update(len(chunk))"
   ]
  }
 ],
 "metadata": {
  "kernelspec": {
   "display_name": "Python 3",
   "language": "python",
   "name": "python3"
  },
  "language_info": {
   "codemirror_mode": {
    "name": "ipython",
    "version": 3
   },
   "file_extension": ".py",
   "mimetype": "text/x-python",
   "name": "python",
   "nbconvert_exporter": "python",
   "pygments_lexer": "ipython3",
   "version": "3.6.6"
  }
 },
 "nbformat": 4,
 "nbformat_minor": 2
}
