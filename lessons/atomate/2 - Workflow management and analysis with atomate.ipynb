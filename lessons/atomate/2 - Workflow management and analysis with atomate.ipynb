{
 "cells": [
  {
   "cell_type": "markdown",
   "metadata": {},
   "source": [
    "# 2 - Workflow management with atomate"
   ]
  },
  {
   "cell_type": "markdown",
   "metadata": {},
   "source": [
    "In this lesson we cover a few more advanced features of the atomate software package.  More specifically we'll go over an example that includes parents and children, talk more about where you can find preset workflows, and cover a basic example of analyzing workflow-generated materials data."
   ]
  },
  {
   "cell_type": "markdown",
   "metadata": {},
   "source": [
    "## Why use atomate?"
   ]
  },
  {
   "cell_type": "markdown",
   "metadata": {},
   "source": [
    "Just to motivate this lesson a bit more, I'd like to share an example that illustrates the value of atomate.  Let's say you wanted to calculate the bandstructure of every polymorph of SiO$_2$.  Normally, you'd need to get all of the cifs from MP or the ICSD, construct the POSCARs by hand, or use some of your own infrastructure to convert them, run the calculations and manage the directory structure, and aggregate the results in a way that allowed you to analyze them together.  In atomate, this is achieved in a simple, five line snippet:"
   ]
  },
  {
   "cell_type": "code",
   "execution_count": 1,
   "metadata": {},
   "outputs": [],
   "source": [
    "from atomate.vasp.workflows.presets.core import get_wf\n",
    "from fireworks import LaunchPad\n",
    "lpad = LaunchPad(strm_lvl=\"CRITICAL\")\n",
    "\n",
    "from pymatgen import MPRester\n",
    "mpr = MPRester()\n",
    "\n",
    "structures = mpr.get_structures(\"SiO2\")\n",
    "for structure in structures:\n",
    "    wf = get_wf(structure, \"bandstructure.yaml\")\n",
    "    lpad.add_wf(wf)"
   ]
  },
  {
   "cell_type": "markdown",
   "metadata": {},
   "source": [
    "This snippet attests to the so-called \"high-throughput\" approach, which has value both because it enables you to aggregate a lot of data quickly in a way that is only possible in computational materials science and because it enables you to examine trends in a large dataset much more quickly, which is typically the most valuable way to use DFT-based simulation."
   ]
  },
  {
   "cell_type": "markdown",
   "metadata": {},
   "source": [
    "Before we move on, let's reset the workflow database."
   ]
  },
  {
   "cell_type": "code",
   "execution_count": 2,
   "metadata": {},
   "outputs": [],
   "source": [
    "lpad.reset(password=\"\", require_password=False, max_reset_wo_password=10000)"
   ]
  },
  {
   "cell_type": "markdown",
   "metadata": {},
   "source": [
    "## The elastic tensor: A multi-step preset workflow"
   ]
  },
  {
   "cell_type": "markdown",
   "metadata": {},
   "source": [
    "In addition to enabling \"high-throughput\" functionality, atomate allows you to execute a relatively complex set of instructions using very simple constructions.  Our canonical example of this functionality is contained in the elastic workflow."
   ]
  },
  {
   "cell_type": "code",
   "execution_count": 3,
   "metadata": {},
   "outputs": [
    {
     "data": {
      "text/plain": [
       "Structure Summary\n",
       "Lattice\n",
       "    abc : 5.468727957193058 5.468727957193058 5.468727957193058\n",
       " angles : 90.0 90.0 90.0\n",
       " volume : 163.55316755397953\n",
       "      A : 5.468727957193058 0.0 3.348630094092061e-16\n",
       "      B : -3.348630094092061e-16 5.468727957193058 3.348630094092061e-16\n",
       "      C : 0.0 0.0 5.468727957193058\n",
       "PeriodicSite: Si (4.1015, 4.1015, 4.1015) [0.7500, 0.7500, 0.7500]\n",
       "PeriodicSite: Si (2.7344, 0.0000, 0.0000) [0.5000, 0.0000, 0.0000]\n",
       "PeriodicSite: Si (4.1015, 1.3672, 1.3672) [0.7500, 0.2500, 0.2500]\n",
       "PeriodicSite: Si (2.7344, 2.7344, 2.7344) [0.5000, 0.5000, 0.5000]\n",
       "PeriodicSite: Si (1.3672, 4.1015, 1.3672) [0.2500, 0.7500, 0.2500]\n",
       "PeriodicSite: Si (0.0000, 0.0000, 2.7344) [0.0000, 0.0000, 0.5000]\n",
       "PeriodicSite: Si (1.3672, 1.3672, 4.1015) [0.2500, 0.2500, 0.7500]\n",
       "PeriodicSite: Si (-0.0000, 2.7344, 0.0000) [0.0000, 0.5000, 0.0000]"
      ]
     },
     "execution_count": 3,
     "metadata": {},
     "output_type": "execute_result"
    }
   ],
   "source": [
    "structure = mpr.get_structure_by_material_id(\"mp-149\", conventional_unit_cell=True)\n",
    "structure"
   ]
  },
  {
   "cell_type": "code",
   "execution_count": 4,
   "metadata": {},
   "outputs": [],
   "source": [
    "from mp_workshop import get_viewer_link"
   ]
  },
  {
   "cell_type": "code",
   "execution_count": 5,
   "metadata": {},
   "outputs": [
    {
     "data": {
      "text/html": [
       "<a href='https://viewer.materialsproject.org?structure=eNq1U8lugzAQ_RXkM7G8Lz3lH3pEHMC1EiQTIpYqaZR_r01ISgWJUEUvI88be-bN88wFbMvqo3MWvEXgeC6zdmcP0FS1hU1bd6btagviCGyNy5omXHofw2af1bvw9tA5532XtW1hAnABPlddnPwxSThkQkkiNZdYU8RVHCGI4ohCypSgCGmGNEEC2w0WaRwlm9lIHM0kepqjr9CbyavUx0Hmqc3kA_kT3DzBM3fch1y6rwVy2468XVaWI_ezcl0Z5MGCQs4pFtJb7fPRqw83RWuDyMkFNEdrirtjnS3toe3lL4LulTFdyHLtG8kDNd-v5KHhuw2h0_krhBjECHPGtZBKM6lpHC2B0v5Hc-uGwp7i34jx4SO8GbEiUFJGhW9f-Zqc6OEWhkIyijliEjGBKGLDl65D5qYPGexrlTCkQmKFtdJEKyIYm8HUujrdzGudlkBkNVpkNFe_FJtIQWYH6x8VQ4_JGvP6wSeqrCwKmS7boplh_7lu6DFG43XbzO_V7DAtXMH0-g3Pj4sa' target='_blank'>Click to view structure.</a>"
      ],
      "text/plain": [
       "<IPython.core.display.HTML object>"
      ]
     },
     "metadata": {},
     "output_type": "display_data"
    }
   ],
   "source": [
    "get_viewer_link(structure)"
   ]
  },
  {
   "cell_type": "code",
   "execution_count": 6,
   "metadata": {},
   "outputs": [],
   "source": [
    "from atomate.vasp.workflows.presets.core import wf_elastic_constant, wf_elastic_constant_minimal"
   ]
  },
  {
   "cell_type": "code",
   "execution_count": 7,
   "metadata": {},
   "outputs": [],
   "source": [
    "wf = wf_elastic_constant(structure)"
   ]
  },
  {
   "cell_type": "markdown",
   "metadata": {},
   "source": [
    "Here's a rendering of the control flow associated with the firework, which you can see both here and in the fireworks dashboard."
   ]
  },
  {
   "cell_type": "code",
   "execution_count": 8,
   "metadata": {},
   "outputs": [
    {
     "data": {
      "image/svg+xml": [
       "<?xml version=\"1.0\" encoding=\"UTF-8\" standalone=\"no\"?>\n",
       "<!DOCTYPE svg PUBLIC \"-//W3C//DTD SVG 1.1//EN\"\n",
       " \"http://www.w3.org/Graphics/SVG/1.1/DTD/svg11.dtd\">\n",
       "<!-- Generated by graphviz version 2.40.1 (20161225.0304)\n",
       " -->\n",
       "<!-- Title: %3 Pages: 1 -->\n",
       "<svg width=\"567pt\" height=\"1286pt\"\n",
       " viewBox=\"0.00 0.00 566.53 1286.00\" xmlns=\"http://www.w3.org/2000/svg\" xmlns:xlink=\"http://www.w3.org/1999/xlink\">\n",
       "<g id=\"graph0\" class=\"graph\" transform=\"scale(1 1) rotate(0) translate(4 1282)\">\n",
       "<title>%3</title>\n",
       "<polygon fill=\"#ffffff\" stroke=\"transparent\" points=\"-4,4 -4,-1282 562.5254,-1282 562.5254,4 -4,4\"/>\n",
       "<!-- &#45;1129 -->\n",
       "<g id=\"node1\" class=\"node\">\n",
       "<title>&#45;1129</title>\n",
       "<polygon fill=\"none\" stroke=\"#1f62a2\" points=\"194.7628,-657 .079,-657 .079,-621 194.7628,-621 194.7628,-657\"/>\n",
       "<text text-anchor=\"middle\" x=\"97.4209\" y=\"-634.8\" font-family=\"Times,serif\" font-size=\"14.00\" fill=\"#000000\">Si&#45;elastic structure optimization</text>\n",
       "</g>\n",
       "<!-- &#45;1130 -->\n",
       "<g id=\"node2\" class=\"node\">\n",
       "<title>&#45;1130</title>\n",
       "<polygon fill=\"none\" stroke=\"#1f62a2\" points=\"384.6189,-1278 234.5822,-1278 234.5822,-1242 384.6189,-1242 384.6189,-1278\"/>\n",
       "<text text-anchor=\"middle\" x=\"309.6006\" y=\"-1255.8\" font-family=\"Times,serif\" font-size=\"14.00\" fill=\"#000000\">Si&#45;elastic deformation 0</text>\n",
       "</g>\n",
       "<!-- &#45;1129&#45;&gt;&#45;1130 -->\n",
       "<g id=\"edge23\" class=\"edge\">\n",
       "<title>&#45;1129&#45;&gt;&#45;1130</title>\n",
       "<path fill=\"none\" stroke=\"#000000\" d=\"M99.1451,-657.2943C107.9865,-747.4673 150.9522,-1143.8626 230.8418,-1233 231.5895,-1233.8342 232.364,-1234.6427 233.1632,-1235.4261\"/>\n",
       "<polygon fill=\"#000000\" stroke=\"#000000\" points=\"231.0075,-1238.1848 240.9574,-1241.8248 235.4491,-1232.7744 231.0075,-1238.1848\"/>\n",
       "</g>\n",
       "<!-- &#45;1131 -->\n",
       "<g id=\"node3\" class=\"node\">\n",
       "<title>&#45;1131</title>\n",
       "<polygon fill=\"none\" stroke=\"#1f62a2\" points=\"384.6189,-1224 234.5822,-1224 234.5822,-1188 384.6189,-1188 384.6189,-1224\"/>\n",
       "<text text-anchor=\"middle\" x=\"309.6006\" y=\"-1201.8\" font-family=\"Times,serif\" font-size=\"14.00\" fill=\"#000000\">Si&#45;elastic deformation 1</text>\n",
       "</g>\n",
       "<!-- &#45;1129&#45;&gt;&#45;1131 -->\n",
       "<g id=\"edge22\" class=\"edge\">\n",
       "<title>&#45;1129&#45;&gt;&#45;1131</title>\n",
       "<path fill=\"none\" stroke=\"#000000\" d=\"M99.5544,-657.0298C109.9037,-741.6649 157.3949,-1098.7846 230.8418,-1179 231.6227,-1179.8529 232.4317,-1180.6788 233.2663,-1181.4786\"/>\n",
       "<polygon fill=\"#000000\" stroke=\"#000000\" points=\"231.4079,-1184.4745 241.4005,-1187.9958 235.7849,-1179.0117 231.4079,-1184.4745\"/>\n",
       "</g>\n",
       "<!-- &#45;1132 -->\n",
       "<g id=\"node4\" class=\"node\">\n",
       "<title>&#45;1132</title>\n",
       "<polygon fill=\"none\" stroke=\"#1f62a2\" points=\"384.6189,-1170 234.5822,-1170 234.5822,-1134 384.6189,-1134 384.6189,-1170\"/>\n",
       "<text text-anchor=\"middle\" x=\"309.6006\" y=\"-1147.8\" font-family=\"Times,serif\" font-size=\"14.00\" fill=\"#000000\">Si&#45;elastic deformation 2</text>\n",
       "</g>\n",
       "<!-- &#45;1129&#45;&gt;&#45;1132 -->\n",
       "<g id=\"edge21\" class=\"edge\">\n",
       "<title>&#45;1129&#45;&gt;&#45;1132</title>\n",
       "<path fill=\"none\" stroke=\"#000000\" d=\"M100.0888,-657.0644C112.1476,-736.4721 163.8907,-1053.7398 230.8418,-1125 231.7326,-1125.9481 232.658,-1126.8629 233.6147,-1127.7456\"/>\n",
       "<polygon fill=\"#000000\" stroke=\"#000000\" points=\"231.4646,-1130.5073 241.5006,-1133.903 235.7727,-1124.99 231.4646,-1130.5073\"/>\n",
       "</g>\n",
       "<!-- &#45;1133 -->\n",
       "<g id=\"node5\" class=\"node\">\n",
       "<title>&#45;1133</title>\n",
       "<polygon fill=\"none\" stroke=\"#1f62a2\" points=\"384.6189,-1116 234.5822,-1116 234.5822,-1080 384.6189,-1080 384.6189,-1116\"/>\n",
       "<text text-anchor=\"middle\" x=\"309.6006\" y=\"-1093.8\" font-family=\"Times,serif\" font-size=\"14.00\" fill=\"#000000\">Si&#45;elastic deformation 3</text>\n",
       "</g>\n",
       "<!-- &#45;1129&#45;&gt;&#45;1133 -->\n",
       "<g id=\"edge20\" class=\"edge\">\n",
       "<title>&#45;1129&#45;&gt;&#45;1133</title>\n",
       "<path fill=\"none\" stroke=\"#000000\" d=\"M100.7398,-657.0226C114.6467,-730.7707 170.3215,-1008.5919 230.8418,-1071 231.7474,-1071.9339 232.6868,-1072.8355 233.6563,-1073.7059\"/>\n",
       "<polygon fill=\"#000000\" stroke=\"#000000\" points=\"231.5497,-1076.5011 241.6221,-1079.787 235.7973,-1070.937 231.5497,-1076.5011\"/>\n",
       "</g>\n",
       "<!-- &#45;1134 -->\n",
       "<g id=\"node6\" class=\"node\">\n",
       "<title>&#45;1134</title>\n",
       "<polygon fill=\"none\" stroke=\"#1f62a2\" points=\"384.6189,-1062 234.5822,-1062 234.5822,-1026 384.6189,-1026 384.6189,-1062\"/>\n",
       "<text text-anchor=\"middle\" x=\"309.6006\" y=\"-1039.8\" font-family=\"Times,serif\" font-size=\"14.00\" fill=\"#000000\">Si&#45;elastic deformation 4</text>\n",
       "</g>\n",
       "<!-- &#45;1129&#45;&gt;&#45;1134 -->\n",
       "<g id=\"edge19\" class=\"edge\">\n",
       "<title>&#45;1129&#45;&gt;&#45;1134</title>\n",
       "<path fill=\"none\" stroke=\"#000000\" d=\"M98.4435,-657.2962C102.7949,-717.5535 124.8105,-911.924 230.8418,-1017 231.7947,-1017.9443 232.782,-1018.8557 233.8001,-1019.7352\"/>\n",
       "<polygon fill=\"#000000\" stroke=\"#000000\" points=\"232.0143,-1022.7666 242.1433,-1025.8736 236.1627,-1017.1282 232.0143,-1022.7666\"/>\n",
       "</g>\n",
       "<!-- &#45;1135 -->\n",
       "<g id=\"node7\" class=\"node\">\n",
       "<title>&#45;1135</title>\n",
       "<polygon fill=\"none\" stroke=\"#1f62a2\" points=\"384.6189,-1008 234.5822,-1008 234.5822,-972 384.6189,-972 384.6189,-1008\"/>\n",
       "<text text-anchor=\"middle\" x=\"309.6006\" y=\"-985.8\" font-family=\"Times,serif\" font-size=\"14.00\" fill=\"#000000\">Si&#45;elastic deformation 5</text>\n",
       "</g>\n",
       "<!-- &#45;1129&#45;&gt;&#45;1135 -->\n",
       "<g id=\"edge18\" class=\"edge\">\n",
       "<title>&#45;1129&#45;&gt;&#45;1135</title>\n",
       "<path fill=\"none\" stroke=\"#000000\" d=\"M99.6758,-657.3587C107.3472,-711.964 137.3821,-875.0186 230.8418,-963 231.96,-964.0527 233.1211,-965.0645 234.3196,-966.0371\"/>\n",
       "<polygon fill=\"#000000\" stroke=\"#000000\" points=\"232.5116,-969.0435 242.7135,-971.9021 236.5209,-963.3054 232.5116,-969.0435\"/>\n",
       "</g>\n",
       "<!-- &#45;1136 -->\n",
       "<g id=\"node8\" class=\"node\">\n",
       "<title>&#45;1136</title>\n",
       "<polygon fill=\"none\" stroke=\"#1f62a2\" points=\"384.6189,-954 234.5822,-954 234.5822,-918 384.6189,-918 384.6189,-954\"/>\n",
       "<text text-anchor=\"middle\" x=\"309.6006\" y=\"-931.8\" font-family=\"Times,serif\" font-size=\"14.00\" fill=\"#000000\">Si&#45;elastic deformation 6</text>\n",
       "</g>\n",
       "<!-- &#45;1129&#45;&gt;&#45;1136 -->\n",
       "<g id=\"edge17\" class=\"edge\">\n",
       "<title>&#45;1129&#45;&gt;&#45;1136</title>\n",
       "<path fill=\"none\" stroke=\"#000000\" d=\"M101.2789,-657.0355C112.4876,-705.1149 149.5477,-837.5483 230.8418,-909 232.148,-910.1481 233.5054,-911.2479 234.9063,-912.3014\"/>\n",
       "<polygon fill=\"#000000\" stroke=\"#000000\" points=\"233.0707,-915.2831 243.3515,-917.8433 236.9111,-909.4306 233.0707,-915.2831\"/>\n",
       "</g>\n",
       "<!-- &#45;1137 -->\n",
       "<g id=\"node9\" class=\"node\">\n",
       "<title>&#45;1137</title>\n",
       "<polygon fill=\"none\" stroke=\"#1f62a2\" points=\"384.6189,-900 234.5822,-900 234.5822,-864 384.6189,-864 384.6189,-900\"/>\n",
       "<text text-anchor=\"middle\" x=\"309.6006\" y=\"-877.8\" font-family=\"Times,serif\" font-size=\"14.00\" fill=\"#000000\">Si&#45;elastic deformation 7</text>\n",
       "</g>\n",
       "<!-- &#45;1129&#45;&gt;&#45;1137 -->\n",
       "<g id=\"edge16\" class=\"edge\">\n",
       "<title>&#45;1129&#45;&gt;&#45;1137</title>\n",
       "<path fill=\"none\" stroke=\"#000000\" d=\"M103.7773,-657.2788C119.0577,-698.5927 161.7846,-799.8531 230.8418,-855 232.409,-856.2515 234.0376,-857.4467 235.7165,-858.5879\"/>\n",
       "<polygon fill=\"#000000\" stroke=\"#000000\" points=\"234.1035,-861.702 244.4771,-863.8561 237.711,-855.7031 234.1035,-861.702\"/>\n",
       "</g>\n",
       "<!-- &#45;1138 -->\n",
       "<g id=\"node10\" class=\"node\">\n",
       "<title>&#45;1138</title>\n",
       "<polygon fill=\"none\" stroke=\"#1f62a2\" points=\"384.6189,-846 234.5822,-846 234.5822,-810 384.6189,-810 384.6189,-846\"/>\n",
       "<text text-anchor=\"middle\" x=\"309.6006\" y=\"-823.8\" font-family=\"Times,serif\" font-size=\"14.00\" fill=\"#000000\">Si&#45;elastic deformation 8</text>\n",
       "</g>\n",
       "<!-- &#45;1129&#45;&gt;&#45;1138 -->\n",
       "<g id=\"edge15\" class=\"edge\">\n",
       "<title>&#45;1129&#45;&gt;&#45;1138</title>\n",
       "<path fill=\"none\" stroke=\"#000000\" d=\"M107.6405,-657.1003C127.285,-690.3211 173.494,-761.2548 230.8418,-801 232.9728,-802.4769 235.1919,-803.8794 237.4762,-805.2107\"/>\n",
       "<polygon fill=\"#000000\" stroke=\"#000000\" points=\"236.0836,-808.4331 246.5621,-809.9991 239.3473,-802.2404 236.0836,-808.4331\"/>\n",
       "</g>\n",
       "<!-- &#45;1139 -->\n",
       "<g id=\"node11\" class=\"node\">\n",
       "<title>&#45;1139</title>\n",
       "<polygon fill=\"none\" stroke=\"#1f62a2\" points=\"384.6189,-792 234.5822,-792 234.5822,-756 384.6189,-756 384.6189,-792\"/>\n",
       "<text text-anchor=\"middle\" x=\"309.6006\" y=\"-769.8\" font-family=\"Times,serif\" font-size=\"14.00\" fill=\"#000000\">Si&#45;elastic deformation 9</text>\n",
       "</g>\n",
       "<!-- &#45;1129&#45;&gt;&#45;1139 -->\n",
       "<g id=\"edge14\" class=\"edge\">\n",
       "<title>&#45;1129&#45;&gt;&#45;1139</title>\n",
       "<path fill=\"none\" stroke=\"#000000\" d=\"M115.3346,-657.0114C139.6173,-680.5539 185.2093,-721.7514 230.8418,-747 233.9069,-748.6959 237.0974,-750.3127 240.3623,-751.8501\"/>\n",
       "<polygon fill=\"#000000\" stroke=\"#000000\" points=\"239.155,-755.1429 249.7173,-755.9727 241.9778,-748.7373 239.155,-755.1429\"/>\n",
       "</g>\n",
       "<!-- &#45;1140 -->\n",
       "<g id=\"node12\" class=\"node\">\n",
       "<title>&#45;1140</title>\n",
       "<polygon fill=\"none\" stroke=\"#1f62a2\" points=\"388.1189,-738 231.0823,-738 231.0823,-702 388.1189,-702 388.1189,-738\"/>\n",
       "<text text-anchor=\"middle\" x=\"309.6006\" y=\"-715.8\" font-family=\"Times,serif\" font-size=\"14.00\" fill=\"#000000\">Si&#45;elastic deformation 10</text>\n",
       "</g>\n",
       "<!-- &#45;1129&#45;&gt;&#45;1140 -->\n",
       "<g id=\"edge13\" class=\"edge\">\n",
       "<title>&#45;1129&#45;&gt;&#45;1140</title>\n",
       "<path fill=\"none\" stroke=\"#000000\" d=\"M140.4515,-657.1076C166.4794,-667.8871 200.4096,-681.6347 230.8418,-693 235.7102,-694.8182 240.7646,-696.6582 245.8567,-698.4781\"/>\n",
       "<polygon fill=\"#000000\" stroke=\"#000000\" points=\"245.0619,-701.9093 255.6567,-701.9419 247.3947,-695.3094 245.0619,-701.9093\"/>\n",
       "</g>\n",
       "<!-- &#45;1141 -->\n",
       "<g id=\"node13\" class=\"node\">\n",
       "<title>&#45;1141</title>\n",
       "<polygon fill=\"none\" stroke=\"#1f62a2\" points=\"388.1055,-684 231.0957,-684 231.0957,-648 388.1055,-648 388.1055,-684\"/>\n",
       "<text text-anchor=\"middle\" x=\"309.6006\" y=\"-661.8\" font-family=\"Times,serif\" font-size=\"14.00\" fill=\"#000000\">Si&#45;elastic deformation 11</text>\n",
       "</g>\n",
       "<!-- &#45;1129&#45;&gt;&#45;1141 -->\n",
       "<g id=\"edge12\" class=\"edge\">\n",
       "<title>&#45;1129&#45;&gt;&#45;1141</title>\n",
       "<path fill=\"none\" stroke=\"#000000\" d=\"M194.8167,-651.3937C203.5083,-652.4997 212.2782,-653.6157 220.891,-654.7116\"/>\n",
       "<polygon fill=\"#000000\" stroke=\"#000000\" points=\"220.5536,-658.1969 230.9154,-655.9873 221.4373,-651.2528 220.5536,-658.1969\"/>\n",
       "</g>\n",
       "<!-- &#45;1142 -->\n",
       "<g id=\"node14\" class=\"node\">\n",
       "<title>&#45;1142</title>\n",
       "<polygon fill=\"none\" stroke=\"#1f62a2\" points=\"388.1189,-630 231.0823,-630 231.0823,-594 388.1189,-594 388.1189,-630\"/>\n",
       "<text text-anchor=\"middle\" x=\"309.6006\" y=\"-607.8\" font-family=\"Times,serif\" font-size=\"14.00\" fill=\"#000000\">Si&#45;elastic deformation 12</text>\n",
       "</g>\n",
       "<!-- &#45;1129&#45;&gt;&#45;1142 -->\n",
       "<g id=\"edge11\" class=\"edge\">\n",
       "<title>&#45;1129&#45;&gt;&#45;1142</title>\n",
       "<path fill=\"none\" stroke=\"#000000\" d=\"M194.8167,-626.6063C203.5083,-625.5003 212.2782,-624.3843 220.891,-623.2884\"/>\n",
       "<polygon fill=\"#000000\" stroke=\"#000000\" points=\"221.4373,-626.7472 230.9154,-622.0127 220.5536,-619.8031 221.4373,-626.7472\"/>\n",
       "</g>\n",
       "<!-- &#45;1143 -->\n",
       "<g id=\"node15\" class=\"node\">\n",
       "<title>&#45;1143</title>\n",
       "<polygon fill=\"none\" stroke=\"#1f62a2\" points=\"388.1189,-576 231.0823,-576 231.0823,-540 388.1189,-540 388.1189,-576\"/>\n",
       "<text text-anchor=\"middle\" x=\"309.6006\" y=\"-553.8\" font-family=\"Times,serif\" font-size=\"14.00\" fill=\"#000000\">Si&#45;elastic deformation 13</text>\n",
       "</g>\n",
       "<!-- &#45;1129&#45;&gt;&#45;1143 -->\n",
       "<g id=\"edge10\" class=\"edge\">\n",
       "<title>&#45;1129&#45;&gt;&#45;1143</title>\n",
       "<path fill=\"none\" stroke=\"#000000\" d=\"M140.4515,-620.8924C166.4794,-610.1129 200.4096,-596.3653 230.8418,-585 235.7102,-583.1818 240.7646,-581.3418 245.8567,-579.5219\"/>\n",
       "<polygon fill=\"#000000\" stroke=\"#000000\" points=\"247.3947,-582.6906 255.6567,-576.0581 245.0619,-576.0907 247.3947,-582.6906\"/>\n",
       "</g>\n",
       "<!-- &#45;1144 -->\n",
       "<g id=\"node16\" class=\"node\">\n",
       "<title>&#45;1144</title>\n",
       "<polygon fill=\"none\" stroke=\"#1f62a2\" points=\"388.1189,-522 231.0823,-522 231.0823,-486 388.1189,-486 388.1189,-522\"/>\n",
       "<text text-anchor=\"middle\" x=\"309.6006\" y=\"-499.8\" font-family=\"Times,serif\" font-size=\"14.00\" fill=\"#000000\">Si&#45;elastic deformation 14</text>\n",
       "</g>\n",
       "<!-- &#45;1129&#45;&gt;&#45;1144 -->\n",
       "<g id=\"edge9\" class=\"edge\">\n",
       "<title>&#45;1129&#45;&gt;&#45;1144</title>\n",
       "<path fill=\"none\" stroke=\"#000000\" d=\"M115.3346,-620.9886C139.6173,-597.4461 185.2093,-556.2486 230.8418,-531 233.9069,-529.3041 237.0974,-527.6873 240.3623,-526.1499\"/>\n",
       "<polygon fill=\"#000000\" stroke=\"#000000\" points=\"241.9778,-529.2627 249.7173,-522.0273 239.155,-522.8571 241.9778,-529.2627\"/>\n",
       "</g>\n",
       "<!-- &#45;1145 -->\n",
       "<g id=\"node17\" class=\"node\">\n",
       "<title>&#45;1145</title>\n",
       "<polygon fill=\"none\" stroke=\"#1f62a2\" points=\"388.1189,-468 231.0823,-468 231.0823,-432 388.1189,-432 388.1189,-468\"/>\n",
       "<text text-anchor=\"middle\" x=\"309.6006\" y=\"-445.8\" font-family=\"Times,serif\" font-size=\"14.00\" fill=\"#000000\">Si&#45;elastic deformation 15</text>\n",
       "</g>\n",
       "<!-- &#45;1129&#45;&gt;&#45;1145 -->\n",
       "<g id=\"edge8\" class=\"edge\">\n",
       "<title>&#45;1129&#45;&gt;&#45;1145</title>\n",
       "<path fill=\"none\" stroke=\"#000000\" d=\"M107.6405,-620.8997C127.285,-587.6789 173.494,-516.7452 230.8418,-477 232.9728,-475.5231 235.1919,-474.1206 237.4762,-472.7893\"/>\n",
       "<polygon fill=\"#000000\" stroke=\"#000000\" points=\"239.3473,-475.7596 246.5621,-468.0009 236.0836,-469.5669 239.3473,-475.7596\"/>\n",
       "</g>\n",
       "<!-- &#45;1146 -->\n",
       "<g id=\"node18\" class=\"node\">\n",
       "<title>&#45;1146</title>\n",
       "<polygon fill=\"none\" stroke=\"#1f62a2\" points=\"388.1189,-414 231.0823,-414 231.0823,-378 388.1189,-378 388.1189,-414\"/>\n",
       "<text text-anchor=\"middle\" x=\"309.6006\" y=\"-391.8\" font-family=\"Times,serif\" font-size=\"14.00\" fill=\"#000000\">Si&#45;elastic deformation 16</text>\n",
       "</g>\n",
       "<!-- &#45;1129&#45;&gt;&#45;1146 -->\n",
       "<g id=\"edge7\" class=\"edge\">\n",
       "<title>&#45;1129&#45;&gt;&#45;1146</title>\n",
       "<path fill=\"none\" stroke=\"#000000\" d=\"M103.7773,-620.7212C119.0577,-579.4073 161.7846,-478.1469 230.8418,-423 232.409,-421.7485 234.0376,-420.5533 235.7165,-419.4121\"/>\n",
       "<polygon fill=\"#000000\" stroke=\"#000000\" points=\"237.711,-422.2969 244.4771,-414.1439 234.1035,-416.298 237.711,-422.2969\"/>\n",
       "</g>\n",
       "<!-- &#45;1147 -->\n",
       "<g id=\"node19\" class=\"node\">\n",
       "<title>&#45;1147</title>\n",
       "<polygon fill=\"none\" stroke=\"#1f62a2\" points=\"388.1189,-360 231.0823,-360 231.0823,-324 388.1189,-324 388.1189,-360\"/>\n",
       "<text text-anchor=\"middle\" x=\"309.6006\" y=\"-337.8\" font-family=\"Times,serif\" font-size=\"14.00\" fill=\"#000000\">Si&#45;elastic deformation 17</text>\n",
       "</g>\n",
       "<!-- &#45;1129&#45;&gt;&#45;1147 -->\n",
       "<g id=\"edge6\" class=\"edge\">\n",
       "<title>&#45;1129&#45;&gt;&#45;1147</title>\n",
       "<path fill=\"none\" stroke=\"#000000\" d=\"M101.2789,-620.9645C112.4876,-572.8851 149.5477,-440.4517 230.8418,-369 232.148,-367.8519 233.5054,-366.7521 234.9063,-365.6986\"/>\n",
       "<polygon fill=\"#000000\" stroke=\"#000000\" points=\"236.9111,-368.5694 243.3515,-360.1567 233.0707,-362.7169 236.9111,-368.5694\"/>\n",
       "</g>\n",
       "<!-- &#45;1148 -->\n",
       "<g id=\"node20\" class=\"node\">\n",
       "<title>&#45;1148</title>\n",
       "<polygon fill=\"none\" stroke=\"#1f62a2\" points=\"388.1189,-306 231.0823,-306 231.0823,-270 388.1189,-270 388.1189,-306\"/>\n",
       "<text text-anchor=\"middle\" x=\"309.6006\" y=\"-283.8\" font-family=\"Times,serif\" font-size=\"14.00\" fill=\"#000000\">Si&#45;elastic deformation 18</text>\n",
       "</g>\n",
       "<!-- &#45;1129&#45;&gt;&#45;1148 -->\n",
       "<g id=\"edge5\" class=\"edge\">\n",
       "<title>&#45;1129&#45;&gt;&#45;1148</title>\n",
       "<path fill=\"none\" stroke=\"#000000\" d=\"M99.6758,-620.6413C107.3472,-566.036 137.3821,-402.9814 230.8418,-315 231.96,-313.9473 233.1211,-312.9355 234.3196,-311.9629\"/>\n",
       "<polygon fill=\"#000000\" stroke=\"#000000\" points=\"236.5209,-314.6946 242.7135,-306.0979 232.5116,-308.9565 236.5209,-314.6946\"/>\n",
       "</g>\n",
       "<!-- &#45;1149 -->\n",
       "<g id=\"node21\" class=\"node\">\n",
       "<title>&#45;1149</title>\n",
       "<polygon fill=\"none\" stroke=\"#1f62a2\" points=\"388.1189,-252 231.0823,-252 231.0823,-216 388.1189,-216 388.1189,-252\"/>\n",
       "<text text-anchor=\"middle\" x=\"309.6006\" y=\"-229.8\" font-family=\"Times,serif\" font-size=\"14.00\" fill=\"#000000\">Si&#45;elastic deformation 19</text>\n",
       "</g>\n",
       "<!-- &#45;1129&#45;&gt;&#45;1149 -->\n",
       "<g id=\"edge4\" class=\"edge\">\n",
       "<title>&#45;1129&#45;&gt;&#45;1149</title>\n",
       "<path fill=\"none\" stroke=\"#000000\" d=\"M98.4435,-620.7038C102.7949,-560.4465 124.8105,-366.076 230.8418,-261 231.7947,-260.0557 232.782,-259.1443 233.8001,-258.2648\"/>\n",
       "<polygon fill=\"#000000\" stroke=\"#000000\" points=\"236.1627,-260.8718 242.1433,-252.1264 232.0143,-255.2334 236.1627,-260.8718\"/>\n",
       "</g>\n",
       "<!-- &#45;1150 -->\n",
       "<g id=\"node22\" class=\"node\">\n",
       "<title>&#45;1150</title>\n",
       "<polygon fill=\"none\" stroke=\"#1f62a2\" points=\"388.1189,-198 231.0823,-198 231.0823,-162 388.1189,-162 388.1189,-198\"/>\n",
       "<text text-anchor=\"middle\" x=\"309.6006\" y=\"-175.8\" font-family=\"Times,serif\" font-size=\"14.00\" fill=\"#000000\">Si&#45;elastic deformation 20</text>\n",
       "</g>\n",
       "<!-- &#45;1129&#45;&gt;&#45;1150 -->\n",
       "<g id=\"edge3\" class=\"edge\">\n",
       "<title>&#45;1129&#45;&gt;&#45;1150</title>\n",
       "<path fill=\"none\" stroke=\"#000000\" d=\"M100.7398,-620.9774C114.6467,-547.2293 170.3215,-269.4081 230.8418,-207 231.7474,-206.0661 232.6868,-205.1645 233.6563,-204.2941\"/>\n",
       "<polygon fill=\"#000000\" stroke=\"#000000\" points=\"235.7973,-207.063 241.6221,-198.213 231.5497,-201.4989 235.7973,-207.063\"/>\n",
       "</g>\n",
       "<!-- &#45;1151 -->\n",
       "<g id=\"node23\" class=\"node\">\n",
       "<title>&#45;1151</title>\n",
       "<polygon fill=\"none\" stroke=\"#1f62a2\" points=\"388.1189,-144 231.0823,-144 231.0823,-108 388.1189,-108 388.1189,-144\"/>\n",
       "<text text-anchor=\"middle\" x=\"309.6006\" y=\"-121.8\" font-family=\"Times,serif\" font-size=\"14.00\" fill=\"#000000\">Si&#45;elastic deformation 21</text>\n",
       "</g>\n",
       "<!-- &#45;1129&#45;&gt;&#45;1151 -->\n",
       "<g id=\"edge2\" class=\"edge\">\n",
       "<title>&#45;1129&#45;&gt;&#45;1151</title>\n",
       "<path fill=\"none\" stroke=\"#000000\" d=\"M100.0888,-620.9356C112.1476,-541.5279 163.8907,-224.2602 230.8418,-153 231.7326,-152.0519 232.658,-151.1371 233.6147,-150.2544\"/>\n",
       "<polygon fill=\"#000000\" stroke=\"#000000\" points=\"235.7727,-153.01 241.5006,-144.097 231.4646,-147.4927 235.7727,-153.01\"/>\n",
       "</g>\n",
       "<!-- &#45;1152 -->\n",
       "<g id=\"node24\" class=\"node\">\n",
       "<title>&#45;1152</title>\n",
       "<polygon fill=\"none\" stroke=\"#1f62a2\" points=\"388.1189,-90 231.0823,-90 231.0823,-54 388.1189,-54 388.1189,-90\"/>\n",
       "<text text-anchor=\"middle\" x=\"309.6006\" y=\"-67.8\" font-family=\"Times,serif\" font-size=\"14.00\" fill=\"#000000\">Si&#45;elastic deformation 22</text>\n",
       "</g>\n",
       "<!-- &#45;1129&#45;&gt;&#45;1152 -->\n",
       "<g id=\"edge1\" class=\"edge\">\n",
       "<title>&#45;1129&#45;&gt;&#45;1152</title>\n",
       "<path fill=\"none\" stroke=\"#000000\" d=\"M99.5544,-620.9702C109.9037,-536.3351 157.3949,-179.2154 230.8418,-99 231.6227,-98.1471 232.4317,-97.3212 233.2663,-96.5214\"/>\n",
       "<polygon fill=\"#000000\" stroke=\"#000000\" points=\"235.7849,-98.9883 241.4005,-90.0042 231.4079,-93.5255 235.7849,-98.9883\"/>\n",
       "</g>\n",
       "<!-- &#45;1153 -->\n",
       "<g id=\"node25\" class=\"node\">\n",
       "<title>&#45;1153</title>\n",
       "<polygon fill=\"none\" stroke=\"#1f62a2\" points=\"388.1189,-36 231.0823,-36 231.0823,0 388.1189,0 388.1189,-36\"/>\n",
       "<text text-anchor=\"middle\" x=\"309.6006\" y=\"-13.8\" font-family=\"Times,serif\" font-size=\"14.00\" fill=\"#000000\">Si&#45;elastic deformation 23</text>\n",
       "</g>\n",
       "<!-- &#45;1129&#45;&gt;&#45;1153 -->\n",
       "<g id=\"edge24\" class=\"edge\">\n",
       "<title>&#45;1129&#45;&gt;&#45;1153</title>\n",
       "<path fill=\"none\" stroke=\"#000000\" d=\"M99.1451,-620.7057C107.9865,-530.5327 150.9522,-134.1374 230.8418,-45 231.5895,-44.1658 232.364,-43.3573 233.1632,-42.5739\"/>\n",
       "<polygon fill=\"#000000\" stroke=\"#000000\" points=\"235.4491,-45.2256 240.9574,-36.1752 231.0075,-39.8152 235.4491,-45.2256\"/>\n",
       "</g>\n",
       "<!-- &#45;1154 -->\n",
       "<g id=\"node26\" class=\"node\">\n",
       "<title>&#45;1154</title>\n",
       "<polygon fill=\"none\" stroke=\"#1f62a2\" points=\"558.6085,-657 424.2763,-657 424.2763,-621 558.6085,-621 558.6085,-657\"/>\n",
       "<text text-anchor=\"middle\" x=\"491.4424\" y=\"-634.8\" font-family=\"Times,serif\" font-size=\"14.00\" fill=\"#000000\">Analyze Elastic Data</text>\n",
       "</g>\n",
       "<!-- &#45;1130&#45;&gt;&#45;1154 -->\n",
       "<g id=\"edge25\" class=\"edge\">\n",
       "<title>&#45;1130&#45;&gt;&#45;1154</title>\n",
       "<path fill=\"none\" stroke=\"#000000\" d=\"M378.4357,-1241.9926C382.0931,-1239.3888 385.4516,-1236.4093 388.3594,-1233 462.6513,-1145.896 485.2471,-773.9109 490.2492,-667.5249\"/>\n",
       "<polygon fill=\"#000000\" stroke=\"#000000\" points=\"493.7583,-667.401 490.7156,-657.2525 486.7655,-667.0834 493.7583,-667.401\"/>\n",
       "</g>\n",
       "<!-- &#45;1131&#45;&gt;&#45;1154 -->\n",
       "<g id=\"edge26\" class=\"edge\">\n",
       "<title>&#45;1131&#45;&gt;&#45;1154</title>\n",
       "<path fill=\"none\" stroke=\"#000000\" d=\"M378.3696,-1187.9358C382.0429,-1185.3457 385.423,-1182.3847 388.3594,-1179 456.1786,-1100.8242 483.0706,-767.5644 489.707,-667.5126\"/>\n",
       "<polygon fill=\"#000000\" stroke=\"#000000\" points=\"493.2167,-667.4744 490.369,-657.2695 486.2312,-667.0229 493.2167,-667.4744\"/>\n",
       "</g>\n",
       "<!-- &#45;1132&#45;&gt;&#45;1154 -->\n",
       "<g id=\"edge27\" class=\"edge\">\n",
       "<title>&#45;1132&#45;&gt;&#45;1154</title>\n",
       "<path fill=\"none\" stroke=\"#000000\" d=\"M378.29,-1133.866C381.9826,-1131.2928 385.3887,-1128.3546 388.3594,-1125 449.8265,-1055.5882 480.754,-760.0048 489.0858,-667.079\"/>\n",
       "<polygon fill=\"#000000\" stroke=\"#000000\" points=\"492.5808,-667.2889 489.9697,-657.0209 485.6077,-666.6761 492.5808,-667.2889\"/>\n",
       "</g>\n",
       "<!-- &#45;1133&#45;&gt;&#45;1154 -->\n",
       "<g id=\"edge28\" class=\"edge\">\n",
       "<title>&#45;1133&#45;&gt;&#45;1154</title>\n",
       "<path fill=\"none\" stroke=\"#000000\" d=\"M378.1925,-1079.7786C381.9086,-1077.2264 385.3466,-1074.3169 388.3594,-1071 443.3577,-1010.4496 478.0001,-753.5169 488.2492,-667.3226\"/>\n",
       "<polygon fill=\"#000000\" stroke=\"#000000\" points=\"491.7443,-667.5677 489.4301,-657.2288 484.7917,-666.7543 491.7443,-667.5677\"/>\n",
       "</g>\n",
       "<!-- &#45;1134&#45;&gt;&#45;1154 -->\n",
       "<g id=\"edge29\" class=\"edge\">\n",
       "<title>&#45;1134&#45;&gt;&#45;1154</title>\n",
       "<path fill=\"none\" stroke=\"#000000\" d=\"M377.7071,-1025.9092C381.5912,-1023.3259 385.195,-1020.3737 388.3594,-1017 437.0253,-965.1138 474.9807,-745.6785 487.2403,-667.1194\"/>\n",
       "<polygon fill=\"#000000\" stroke=\"#000000\" points=\"490.7355,-667.4176 488.7981,-657.0014 483.8171,-666.3524 490.7355,-667.4176\"/>\n",
       "</g>\n",
       "<!-- &#45;1135&#45;&gt;&#45;1154 -->\n",
       "<g id=\"edge30\" class=\"edge\">\n",
       "<title>&#45;1135&#45;&gt;&#45;1154</title>\n",
       "<path fill=\"none\" stroke=\"#000000\" d=\"M377.1783,-971.9933C381.2401,-969.3898 385.0242,-966.4102 388.3594,-963 430.6593,-919.749 471.3082,-738.0399 485.8311,-667.3264\"/>\n",
       "<polygon fill=\"#000000\" stroke=\"#000000\" points=\"489.2974,-667.844 487.8579,-657.3475 482.4374,-666.4507 489.2974,-667.844\"/>\n",
       "</g>\n",
       "<!-- &#45;1136&#45;&gt;&#45;1154 -->\n",
       "<g id=\"edge31\" class=\"edge\">\n",
       "<title>&#45;1136&#45;&gt;&#45;1154</title>\n",
       "<path fill=\"none\" stroke=\"#000000\" d=\"M376.9614,-917.775C381.0741,-915.2228 384.9289,-912.3143 388.3594,-909 458.2176,-841.5076 481.3695,-721.6873 488.5058,-667.2799\"/>\n",
       "<polygon fill=\"#000000\" stroke=\"#000000\" points=\"491.9856,-667.6571 489.7286,-657.3055 485.0377,-666.8052 491.9856,-667.6571\"/>\n",
       "</g>\n",
       "<!-- &#45;1137&#45;&gt;&#45;1154 -->\n",
       "<g id=\"edge32\" class=\"edge\">\n",
       "<title>&#45;1137&#45;&gt;&#45;1154</title>\n",
       "<path fill=\"none\" stroke=\"#000000\" d=\"M375.9009,-863.9012C380.366,-861.316 384.5824,-858.3658 388.3594,-855 446.0625,-803.5788 474.334,-712.8453 485.4796,-667.0765\"/>\n",
       "<polygon fill=\"#000000\" stroke=\"#000000\" points=\"488.911,-667.7735 487.7782,-657.2394 482.0946,-666.1806 488.911,-667.7735\"/>\n",
       "</g>\n",
       "<!-- &#45;1138&#45;&gt;&#45;1154 -->\n",
       "<g id=\"edge33\" class=\"edge\">\n",
       "<title>&#45;1138&#45;&gt;&#45;1154</title>\n",
       "<path fill=\"none\" stroke=\"#000000\" d=\"M374.6753,-809.7946C379.5259,-807.2261 384.158,-804.3093 388.3594,-801 434.1992,-764.8929 465.5464,-702.4233 480.7885,-666.5236\"/>\n",
       "<polygon fill=\"#000000\" stroke=\"#000000\" points=\"484.0788,-667.7256 484.6591,-657.1466 477.6083,-665.0546 484.0788,-667.7256\"/>\n",
       "</g>\n",
       "<!-- &#45;1139&#45;&gt;&#45;1154 -->\n",
       "<g id=\"edge34\" class=\"edge\">\n",
       "<title>&#45;1139&#45;&gt;&#45;1154</title>\n",
       "<path fill=\"none\" stroke=\"#000000\" d=\"M371.5684,-755.9895C377.4267,-753.3386 383.1248,-750.3513 388.3594,-747 422.5317,-725.1219 453.4571,-689.6164 472.3286,-665.3305\"/>\n",
       "<polygon fill=\"#000000\" stroke=\"#000000\" points=\"475.2096,-667.3243 478.4865,-657.2489 469.6418,-663.0817 475.2096,-667.3243\"/>\n",
       "</g>\n",
       "<!-- &#45;1140&#45;&gt;&#45;1154 -->\n",
       "<g id=\"edge35\" class=\"edge\">\n",
       "<title>&#45;1140&#45;&gt;&#45;1154</title>\n",
       "<path fill=\"none\" stroke=\"#000000\" d=\"M365.9328,-701.8607C373.5404,-699.0708 381.1897,-696.0856 388.3594,-693 409.5702,-683.8717 432.3892,-672.1302 451.1523,-661.9286\"/>\n",
       "<polygon fill=\"#000000\" stroke=\"#000000\" points=\"452.9324,-664.9441 460.0126,-657.0625 449.5627,-658.8086 452.9324,-664.9441\"/>\n",
       "</g>\n",
       "<!-- &#45;1141&#45;&gt;&#45;1154 -->\n",
       "<g id=\"edge36\" class=\"edge\">\n",
       "<title>&#45;1141&#45;&gt;&#45;1154</title>\n",
       "<path fill=\"none\" stroke=\"#000000\" d=\"M388.3014,-654.3144C396.9252,-653.034 405.6983,-651.7313 414.3029,-650.4537\"/>\n",
       "<polygon fill=\"#000000\" stroke=\"#000000\" points=\"414.9299,-653.8991 424.3073,-648.9683 413.9017,-646.975 414.9299,-653.8991\"/>\n",
       "</g>\n",
       "<!-- &#45;1142&#45;&gt;&#45;1154 -->\n",
       "<g id=\"edge37\" class=\"edge\">\n",
       "<title>&#45;1142&#45;&gt;&#45;1154</title>\n",
       "<path fill=\"none\" stroke=\"#000000\" d=\"M388.3014,-623.6856C396.9252,-624.966 405.6983,-626.2687 414.3029,-627.5463\"/>\n",
       "<polygon fill=\"#000000\" stroke=\"#000000\" points=\"413.9017,-631.025 424.3073,-629.0317 414.9299,-624.1009 413.9017,-631.025\"/>\n",
       "</g>\n",
       "<!-- &#45;1143&#45;&gt;&#45;1154 -->\n",
       "<g id=\"edge38\" class=\"edge\">\n",
       "<title>&#45;1143&#45;&gt;&#45;1154</title>\n",
       "<path fill=\"none\" stroke=\"#000000\" d=\"M365.9328,-576.1393C373.5404,-578.9292 381.1897,-581.9144 388.3594,-585 409.5702,-594.1283 432.3892,-605.8698 451.1523,-616.0714\"/>\n",
       "<polygon fill=\"#000000\" stroke=\"#000000\" points=\"449.5627,-619.1914 460.0126,-620.9375 452.9324,-613.0559 449.5627,-619.1914\"/>\n",
       "</g>\n",
       "<!-- &#45;1144&#45;&gt;&#45;1154 -->\n",
       "<g id=\"edge39\" class=\"edge\">\n",
       "<title>&#45;1144&#45;&gt;&#45;1154</title>\n",
       "<path fill=\"none\" stroke=\"#000000\" d=\"M371.5684,-522.0105C377.4267,-524.6614 383.1248,-527.6487 388.3594,-531 422.5317,-552.8781 453.4571,-588.3836 472.3286,-612.6695\"/>\n",
       "<polygon fill=\"#000000\" stroke=\"#000000\" points=\"469.6418,-614.9183 478.4865,-620.7511 475.2096,-610.6757 469.6418,-614.9183\"/>\n",
       "</g>\n",
       "<!-- &#45;1145&#45;&gt;&#45;1154 -->\n",
       "<g id=\"edge40\" class=\"edge\">\n",
       "<title>&#45;1145&#45;&gt;&#45;1154</title>\n",
       "<path fill=\"none\" stroke=\"#000000\" d=\"M374.6753,-468.2054C379.5259,-470.7739 384.158,-473.6907 388.3594,-477 434.1992,-513.1071 465.5464,-575.5767 480.7885,-611.4764\"/>\n",
       "<polygon fill=\"#000000\" stroke=\"#000000\" points=\"477.6083,-612.9454 484.6591,-620.8534 484.0788,-610.2744 477.6083,-612.9454\"/>\n",
       "</g>\n",
       "<!-- &#45;1146&#45;&gt;&#45;1154 -->\n",
       "<g id=\"edge41\" class=\"edge\">\n",
       "<title>&#45;1146&#45;&gt;&#45;1154</title>\n",
       "<path fill=\"none\" stroke=\"#000000\" d=\"M375.9009,-414.0988C380.366,-416.684 384.5824,-419.6342 388.3594,-423 446.0625,-474.4212 474.334,-565.1547 485.4796,-610.9235\"/>\n",
       "<polygon fill=\"#000000\" stroke=\"#000000\" points=\"482.0946,-611.8194 487.7782,-620.7606 488.911,-610.2265 482.0946,-611.8194\"/>\n",
       "</g>\n",
       "<!-- &#45;1147&#45;&gt;&#45;1154 -->\n",
       "<g id=\"edge42\" class=\"edge\">\n",
       "<title>&#45;1147&#45;&gt;&#45;1154</title>\n",
       "<path fill=\"none\" stroke=\"#000000\" d=\"M376.9614,-360.225C381.0741,-362.7772 384.9289,-365.6857 388.3594,-369 458.2176,-436.4924 481.3695,-556.3127 488.5058,-610.7201\"/>\n",
       "<polygon fill=\"#000000\" stroke=\"#000000\" points=\"485.0377,-611.1948 489.7286,-620.6945 491.9856,-610.3429 485.0377,-611.1948\"/>\n",
       "</g>\n",
       "<!-- &#45;1148&#45;&gt;&#45;1154 -->\n",
       "<g id=\"edge43\" class=\"edge\">\n",
       "<title>&#45;1148&#45;&gt;&#45;1154</title>\n",
       "<path fill=\"none\" stroke=\"#000000\" d=\"M377.1783,-306.0067C381.2401,-308.6102 385.0242,-311.5898 388.3594,-315 430.6593,-358.251 471.3082,-539.9601 485.8311,-610.6736\"/>\n",
       "<polygon fill=\"#000000\" stroke=\"#000000\" points=\"482.4374,-611.5493 487.8579,-620.6525 489.2974,-610.156 482.4374,-611.5493\"/>\n",
       "</g>\n",
       "<!-- &#45;1149&#45;&gt;&#45;1154 -->\n",
       "<g id=\"edge44\" class=\"edge\">\n",
       "<title>&#45;1149&#45;&gt;&#45;1154</title>\n",
       "<path fill=\"none\" stroke=\"#000000\" d=\"M377.7071,-252.0908C381.5912,-254.6741 385.195,-257.6263 388.3594,-261 437.0253,-312.8862 474.9807,-532.3215 487.2403,-610.8806\"/>\n",
       "<polygon fill=\"#000000\" stroke=\"#000000\" points=\"483.8171,-611.6476 488.7981,-620.9986 490.7355,-610.5824 483.8171,-611.6476\"/>\n",
       "</g>\n",
       "<!-- &#45;1150&#45;&gt;&#45;1154 -->\n",
       "<g id=\"edge45\" class=\"edge\">\n",
       "<title>&#45;1150&#45;&gt;&#45;1154</title>\n",
       "<path fill=\"none\" stroke=\"#000000\" d=\"M378.1925,-198.2214C381.9086,-200.7736 385.3466,-203.6831 388.3594,-207 443.3577,-267.5504 478.0001,-524.4831 488.2492,-610.6774\"/>\n",
       "<polygon fill=\"#000000\" stroke=\"#000000\" points=\"484.7917,-611.2457 489.4301,-620.7712 491.7443,-610.4323 484.7917,-611.2457\"/>\n",
       "</g>\n",
       "<!-- &#45;1151&#45;&gt;&#45;1154 -->\n",
       "<g id=\"edge46\" class=\"edge\">\n",
       "<title>&#45;1151&#45;&gt;&#45;1154</title>\n",
       "<path fill=\"none\" stroke=\"#000000\" d=\"M378.29,-144.134C381.9826,-146.7072 385.3887,-149.6454 388.3594,-153 449.8265,-222.4118 480.754,-517.9952 489.0858,-610.921\"/>\n",
       "<polygon fill=\"#000000\" stroke=\"#000000\" points=\"485.6077,-611.3239 489.9697,-620.9791 492.5808,-610.7111 485.6077,-611.3239\"/>\n",
       "</g>\n",
       "<!-- &#45;1152&#45;&gt;&#45;1154 -->\n",
       "<g id=\"edge47\" class=\"edge\">\n",
       "<title>&#45;1152&#45;&gt;&#45;1154</title>\n",
       "<path fill=\"none\" stroke=\"#000000\" d=\"M378.3696,-90.0642C382.0429,-92.6543 385.423,-95.6153 388.3594,-99 456.1786,-177.1758 483.0706,-510.4356 489.707,-610.4874\"/>\n",
       "<polygon fill=\"#000000\" stroke=\"#000000\" points=\"486.2312,-610.9771 490.369,-620.7305 493.2167,-610.5256 486.2312,-610.9771\"/>\n",
       "</g>\n",
       "<!-- &#45;1153&#45;&gt;&#45;1154 -->\n",
       "<g id=\"edge48\" class=\"edge\">\n",
       "<title>&#45;1153&#45;&gt;&#45;1154</title>\n",
       "<path fill=\"none\" stroke=\"#000000\" d=\"M378.4357,-36.0074C382.0931,-38.6112 385.4516,-41.5907 388.3594,-45 462.6513,-132.104 485.2471,-504.0891 490.2492,-610.4751\"/>\n",
       "<polygon fill=\"#000000\" stroke=\"#000000\" points=\"486.7655,-610.9166 490.7156,-620.7475 493.7583,-610.599 486.7655,-610.9166\"/>\n",
       "</g>\n",
       "</g>\n",
       "</svg>\n"
      ],
      "text/plain": [
       "<graphviz.dot.Digraph at 0x10bdd99e8>"
      ]
     },
     "execution_count": 8,
     "metadata": {},
     "output_type": "execute_result"
    }
   ],
   "source": [
    "from mp_workshop.atomate import wf_to_graph\n",
    "wf_to_graph(wf)"
   ]
  },
  {
   "cell_type": "markdown",
   "metadata": {},
   "source": [
    "From our exploration of the workflow, we can see that the workflow has a \"root\" firework, which is the structure optimization firework, and a single \"leaf\" firework, which is the analysis task.  In between, we have several fireworks which have \"elastic deformation\" in their titles, each of which represents a calculation which will transform the output of the optimization firework by applying a unique strain.\n",
    "\n",
    "In the analysis step, the stresses from those deformations and the strains are aggregated and used to fit an elastic tensor.  Let's examine the different types of fireworks using the graph tool."
   ]
  },
  {
   "cell_type": "code",
   "execution_count": 9,
   "metadata": {},
   "outputs": [
    {
     "name": "stdout",
     "output_type": "stream",
     "text": [
      "Si-elastic structure optimization\n"
     ]
    },
    {
     "data": {
      "image/svg+xml": [
       "<?xml version=\"1.0\" encoding=\"UTF-8\" standalone=\"no\"?>\n",
       "<!DOCTYPE svg PUBLIC \"-//W3C//DTD SVG 1.1//EN\"\n",
       " \"http://www.w3.org/Graphics/SVG/1.1/DTD/svg11.dtd\">\n",
       "<!-- Generated by graphviz version 2.40.1 (20161225.0304)\n",
       " -->\n",
       "<!-- Title: %3 Pages: 1 -->\n",
       "<svg width=\"677pt\" height=\"44pt\"\n",
       " viewBox=\"0.00 0.00 676.88 44.00\" xmlns=\"http://www.w3.org/2000/svg\" xmlns:xlink=\"http://www.w3.org/1999/xlink\">\n",
       "<g id=\"graph0\" class=\"graph\" transform=\"scale(1 1) rotate(0) translate(4 40)\">\n",
       "<title>%3</title>\n",
       "<polygon fill=\"#ffffff\" stroke=\"transparent\" points=\"-4,4 -4,-40 672.876,-40 672.876,4 -4,4\"/>\n",
       "<!-- 0 -->\n",
       "<g id=\"node1\" class=\"node\">\n",
       "<title>0</title>\n",
       "<polygon fill=\"none\" stroke=\"#000000\" points=\"95.4972,-36 -.1661,-36 -.1661,0 95.4972,0 95.4972,-36\"/>\n",
       "<text text-anchor=\"middle\" x=\"47.6655\" y=\"-13.8\" font-family=\"Times,serif\" font-size=\"14.00\" fill=\"#000000\">FileWriteTask</text>\n",
       "</g>\n",
       "<!-- 1 -->\n",
       "<g id=\"node2\" class=\"node\">\n",
       "<title>1</title>\n",
       "<polygon fill=\"none\" stroke=\"#000000\" points=\"268.636,-36 131.5622,-36 131.5622,0 268.636,0 268.636,-36\"/>\n",
       "<text text-anchor=\"middle\" x=\"200.0991\" y=\"-13.8\" font-family=\"Times,serif\" font-size=\"14.00\" fill=\"#000000\">WriteVaspFromIOSet</text>\n",
       "</g>\n",
       "<!-- 0&#45;&gt;1 -->\n",
       "<g id=\"edge1\" class=\"edge\">\n",
       "<title>0&#45;&gt;1</title>\n",
       "<path fill=\"none\" stroke=\"#000000\" d=\"M95.4782,-18C103.7886,-18 112.6246,-18 121.5038,-18\"/>\n",
       "<polygon fill=\"#000000\" stroke=\"#000000\" points=\"121.5213,-21.5001 131.5213,-18 121.5212,-14.5001 121.5213,-21.5001\"/>\n",
       "</g>\n",
       "<!-- 2 -->\n",
       "<g id=\"node3\" class=\"node\">\n",
       "<title>2</title>\n",
       "<polygon fill=\"none\" stroke=\"#000000\" points=\"428.3745,-36 304.6978,-36 304.6978,0 428.3745,0 428.3745,-36\"/>\n",
       "<text text-anchor=\"middle\" x=\"366.5361\" y=\"-13.8\" font-family=\"Times,serif\" font-size=\"14.00\" fill=\"#000000\">RunVaspCustodian</text>\n",
       "</g>\n",
       "<!-- 1&#45;&gt;2 -->\n",
       "<g id=\"edge2\" class=\"edge\">\n",
       "<title>1&#45;&gt;2</title>\n",
       "<path fill=\"none\" stroke=\"#000000\" d=\"M268.7563,-18C277.3163,-18 286.0883,-18 294.695,-18\"/>\n",
       "<polygon fill=\"#000000\" stroke=\"#000000\" points=\"294.6998,-21.5001 304.6997,-18 294.6997,-14.5001 294.6998,-21.5001\"/>\n",
       "</g>\n",
       "<!-- 3 -->\n",
       "<g id=\"node4\" class=\"node\">\n",
       "<title>3</title>\n",
       "<polygon fill=\"none\" stroke=\"#000000\" points=\"557.8538,-36 464.322,-36 464.322,0 557.8538,0 557.8538,-36\"/>\n",
       "<text text-anchor=\"middle\" x=\"511.0879\" y=\"-13.8\" font-family=\"Times,serif\" font-size=\"14.00\" fill=\"#000000\">PassCalcLocs</text>\n",
       "</g>\n",
       "<!-- 2&#45;&gt;3 -->\n",
       "<g id=\"edge3\" class=\"edge\">\n",
       "<title>2&#45;&gt;3</title>\n",
       "<path fill=\"none\" stroke=\"#000000\" d=\"M428.2584,-18C436.7689,-18 445.4789,-18 453.9026,-18\"/>\n",
       "<polygon fill=\"#000000\" stroke=\"#000000\" points=\"454.0031,-21.5001 464.0031,-18 454.0031,-14.5001 454.0031,-21.5001\"/>\n",
       "</g>\n",
       "<!-- 4 -->\n",
       "<g id=\"node5\" class=\"node\">\n",
       "<title>4</title>\n",
       "<polygon fill=\"none\" stroke=\"#000000\" points=\"668.8287,-36 594.018,-36 594.018,0 668.8287,0 668.8287,-36\"/>\n",
       "<text text-anchor=\"middle\" x=\"631.4233\" y=\"-13.8\" font-family=\"Times,serif\" font-size=\"14.00\" fill=\"#000000\">VaspToDb</text>\n",
       "</g>\n",
       "<!-- 3&#45;&gt;4 -->\n",
       "<g id=\"edge4\" class=\"edge\">\n",
       "<title>3&#45;&gt;4</title>\n",
       "<path fill=\"none\" stroke=\"#000000\" d=\"M557.9573,-18C566.4023,-18 575.2152,-18 583.6845,-18\"/>\n",
       "<polygon fill=\"#000000\" stroke=\"#000000\" points=\"583.7971,-21.5001 593.7971,-18 583.7971,-14.5001 583.7971,-21.5001\"/>\n",
       "</g>\n",
       "</g>\n",
       "</svg>\n"
      ],
      "text/plain": [
       "<graphviz.dot.Digraph at 0x10c374d68>"
      ]
     },
     "execution_count": 9,
     "metadata": {},
     "output_type": "execute_result"
    }
   ],
   "source": [
    "print(wf.fws[0].name)\n",
    "wf_to_graph(wf.fws[0])"
   ]
  },
  {
   "cell_type": "code",
   "execution_count": 10,
   "metadata": {},
   "outputs": [
    {
     "name": "stdout",
     "output_type": "stream",
     "text": [
      "Si-elastic deformation 0\n"
     ]
    },
    {
     "data": {
      "image/svg+xml": [
       "<?xml version=\"1.0\" encoding=\"UTF-8\" standalone=\"no\"?>\n",
       "<!DOCTYPE svg PUBLIC \"-//W3C//DTD SVG 1.1//EN\"\n",
       " \"http://www.w3.org/Graphics/SVG/1.1/DTD/svg11.dtd\">\n",
       "<!-- Generated by graphviz version 2.40.1 (20161225.0304)\n",
       " -->\n",
       "<!-- Title: %3 Pages: 1 -->\n",
       "<svg width=\"1004pt\" height=\"44pt\"\n",
       " viewBox=\"0.00 0.00 1003.59 44.00\" xmlns=\"http://www.w3.org/2000/svg\" xmlns:xlink=\"http://www.w3.org/1999/xlink\">\n",
       "<g id=\"graph0\" class=\"graph\" transform=\"scale(1 1) rotate(0) translate(4 40)\">\n",
       "<title>%3</title>\n",
       "<polygon fill=\"#ffffff\" stroke=\"transparent\" points=\"-4,4 -4,-40 999.5908,-40 999.5908,4 -4,4\"/>\n",
       "<!-- 0 -->\n",
       "<g id=\"node1\" class=\"node\">\n",
       "<title>0</title>\n",
       "<polygon fill=\"none\" stroke=\"#000000\" points=\"95.4972,-36 -.1661,-36 -.1661,0 95.4972,0 95.4972,-36\"/>\n",
       "<text text-anchor=\"middle\" x=\"47.6655\" y=\"-13.8\" font-family=\"Times,serif\" font-size=\"14.00\" fill=\"#000000\">FileWriteTask</text>\n",
       "</g>\n",
       "<!-- 1 -->\n",
       "<g id=\"node2\" class=\"node\">\n",
       "<title>1</title>\n",
       "<polygon fill=\"none\" stroke=\"#000000\" points=\"249.1758,-36 131.3828,-36 131.3828,0 249.1758,0 249.1758,-36\"/>\n",
       "<text text-anchor=\"middle\" x=\"190.2793\" y=\"-13.8\" font-family=\"Times,serif\" font-size=\"14.00\" fill=\"#000000\">CopyVaspOutputs</text>\n",
       "</g>\n",
       "<!-- 0&#45;&gt;1 -->\n",
       "<g id=\"edge1\" class=\"edge\">\n",
       "<title>0&#45;&gt;1</title>\n",
       "<path fill=\"none\" stroke=\"#000000\" d=\"M95.5506,-18C103.8094,-18 112.5398,-18 121.2256,-18\"/>\n",
       "<polygon fill=\"#000000\" stroke=\"#000000\" points=\"121.3706,-21.5001 131.3706,-18 121.3705,-14.5001 121.3706,-21.5001\"/>\n",
       "</g>\n",
       "<!-- 2 -->\n",
       "<g id=\"node3\" class=\"node\">\n",
       "<title>2</title>\n",
       "<polygon fill=\"none\" stroke=\"#000000\" points=\"482.7459,-36 285.3879,-36 285.3879,0 482.7459,0 482.7459,-36\"/>\n",
       "<text text-anchor=\"middle\" x=\"384.0669\" y=\"-13.8\" font-family=\"Times,serif\" font-size=\"14.00\" fill=\"#000000\">WriteTransmutedStructureIOSet</text>\n",
       "</g>\n",
       "<!-- 1&#45;&gt;2 -->\n",
       "<g id=\"edge2\" class=\"edge\">\n",
       "<title>1&#45;&gt;2</title>\n",
       "<path fill=\"none\" stroke=\"#000000\" d=\"M249.2113,-18C257.5446,-18 266.3228,-18 275.238,-18\"/>\n",
       "<polygon fill=\"#000000\" stroke=\"#000000\" points=\"275.3453,-21.5001 285.3452,-18 275.3452,-14.5001 275.3453,-21.5001\"/>\n",
       "</g>\n",
       "<!-- 3 -->\n",
       "<g id=\"node4\" class=\"node\">\n",
       "<title>3</title>\n",
       "<polygon fill=\"none\" stroke=\"#000000\" points=\"642.4136,-36 518.7368,-36 518.7368,0 642.4136,0 642.4136,-36\"/>\n",
       "<text text-anchor=\"middle\" x=\"580.5752\" y=\"-13.8\" font-family=\"Times,serif\" font-size=\"14.00\" fill=\"#000000\">RunVaspCustodian</text>\n",
       "</g>\n",
       "<!-- 2&#45;&gt;3 -->\n",
       "<g id=\"edge3\" class=\"edge\">\n",
       "<title>2&#45;&gt;3</title>\n",
       "<path fill=\"none\" stroke=\"#000000\" d=\"M482.8967,-18C491.5941,-18 500.2854,-18 508.6981,-18\"/>\n",
       "<polygon fill=\"#000000\" stroke=\"#000000\" points=\"508.8033,-21.5001 518.8032,-18 508.8032,-14.5001 508.8033,-21.5001\"/>\n",
       "</g>\n",
       "<!-- 4 -->\n",
       "<g id=\"node5\" class=\"node\">\n",
       "<title>4</title>\n",
       "<polygon fill=\"none\" stroke=\"#000000\" points=\"771.8929,-36 678.361,-36 678.361,0 771.8929,0 771.8929,-36\"/>\n",
       "<text text-anchor=\"middle\" x=\"725.127\" y=\"-13.8\" font-family=\"Times,serif\" font-size=\"14.00\" fill=\"#000000\">PassCalcLocs</text>\n",
       "</g>\n",
       "<!-- 3&#45;&gt;4 -->\n",
       "<g id=\"edge4\" class=\"edge\">\n",
       "<title>3&#45;&gt;4</title>\n",
       "<path fill=\"none\" stroke=\"#000000\" d=\"M642.2974,-18C650.8079,-18 659.5179,-18 667.9417,-18\"/>\n",
       "<polygon fill=\"#000000\" stroke=\"#000000\" points=\"668.0422,-21.5001 678.0422,-18 668.0421,-14.5001 668.0422,-21.5001\"/>\n",
       "</g>\n",
       "<!-- 5 -->\n",
       "<g id=\"node6\" class=\"node\">\n",
       "<title>5</title>\n",
       "<polygon fill=\"none\" stroke=\"#000000\" points=\"882.8677,-36 808.0571,-36 808.0571,0 882.8677,0 882.8677,-36\"/>\n",
       "<text text-anchor=\"middle\" x=\"845.4624\" y=\"-13.8\" font-family=\"Times,serif\" font-size=\"14.00\" fill=\"#000000\">VaspToDb</text>\n",
       "</g>\n",
       "<!-- 4&#45;&gt;5 -->\n",
       "<g id=\"edge5\" class=\"edge\">\n",
       "<title>4&#45;&gt;5</title>\n",
       "<path fill=\"none\" stroke=\"#000000\" d=\"M771.9964,-18C780.4413,-18 789.2542,-18 797.7236,-18\"/>\n",
       "<polygon fill=\"#000000\" stroke=\"#000000\" points=\"797.8362,-21.5001 807.8362,-18 797.8361,-14.5001 797.8362,-21.5001\"/>\n",
       "</g>\n",
       "<!-- 6 -->\n",
       "<g id=\"node7\" class=\"node\">\n",
       "<title>6</title>\n",
       "<polygon fill=\"none\" stroke=\"#000000\" points=\"995.4294,-36 919.0765,-36 919.0765,0 995.4294,0 995.4294,-36\"/>\n",
       "<text text-anchor=\"middle\" x=\"957.2529\" y=\"-13.8\" font-family=\"Times,serif\" font-size=\"14.00\" fill=\"#000000\">PassResult</text>\n",
       "</g>\n",
       "<!-- 5&#45;&gt;6 -->\n",
       "<g id=\"edge6\" class=\"edge\">\n",
       "<title>5&#45;&gt;6</title>\n",
       "<path fill=\"none\" stroke=\"#000000\" d=\"M882.998,-18C891.2955,-18 900.2002,-18 908.8602,-18\"/>\n",
       "<polygon fill=\"#000000\" stroke=\"#000000\" points=\"908.8629,-21.5001 918.8629,-18 908.8628,-14.5001 908.8629,-21.5001\"/>\n",
       "</g>\n",
       "</g>\n",
       "</svg>\n"
      ],
      "text/plain": [
       "<graphviz.dot.Digraph at 0x10b6a9710>"
      ]
     },
     "execution_count": 10,
     "metadata": {},
     "output_type": "execute_result"
    }
   ],
   "source": [
    "print(wf.fws[1].name)\n",
    "wf_to_graph(wf.fws[1])"
   ]
  },
  {
   "cell_type": "code",
   "execution_count": 11,
   "metadata": {},
   "outputs": [
    {
     "name": "stdout",
     "output_type": "stream",
     "text": [
      "Analyze Elastic Data\n"
     ]
    },
    {
     "data": {
      "image/svg+xml": [
       "<?xml version=\"1.0\" encoding=\"UTF-8\" standalone=\"no\"?>\n",
       "<!DOCTYPE svg PUBLIC \"-//W3C//DTD SVG 1.1//EN\"\n",
       " \"http://www.w3.org/Graphics/SVG/1.1/DTD/svg11.dtd\">\n",
       "<!-- Generated by graphviz version 2.40.1 (20161225.0304)\n",
       " -->\n",
       "<!-- Title: %3 Pages: 1 -->\n",
       "<svg width=\"263pt\" height=\"44pt\"\n",
       " viewBox=\"0.00 0.00 263.01 44.00\" xmlns=\"http://www.w3.org/2000/svg\" xmlns:xlink=\"http://www.w3.org/1999/xlink\">\n",
       "<g id=\"graph0\" class=\"graph\" transform=\"scale(1 1) rotate(0) translate(4 40)\">\n",
       "<title>%3</title>\n",
       "<polygon fill=\"#ffffff\" stroke=\"transparent\" points=\"-4,4 -4,-40 259.0107,-40 259.0107,4 -4,4\"/>\n",
       "<!-- 0 -->\n",
       "<g id=\"node1\" class=\"node\">\n",
       "<title>0</title>\n",
       "<polygon fill=\"none\" stroke=\"#000000\" points=\"95.4972,-36 -.1661,-36 -.1661,0 95.4972,0 95.4972,-36\"/>\n",
       "<text text-anchor=\"middle\" x=\"47.6655\" y=\"-13.8\" font-family=\"Times,serif\" font-size=\"14.00\" fill=\"#000000\">FileWriteTask</text>\n",
       "</g>\n",
       "<!-- 1 -->\n",
       "<g id=\"node2\" class=\"node\">\n",
       "<title>1</title>\n",
       "<polygon fill=\"none\" stroke=\"#000000\" points=\"254.851,-36 131.4908,-36 131.4908,0 254.851,0 254.851,-36\"/>\n",
       "<text text-anchor=\"middle\" x=\"193.1709\" y=\"-13.8\" font-family=\"Times,serif\" font-size=\"14.00\" fill=\"#000000\">ElasticTensorToDb</text>\n",
       "</g>\n",
       "<!-- 0&#45;&gt;1 -->\n",
       "<g id=\"edge1\" class=\"edge\">\n",
       "<title>0&#45;&gt;1</title>\n",
       "<path fill=\"none\" stroke=\"#000000\" d=\"M95.7127,-18C103.9233,-18 112.6102,-18 121.2808,-18\"/>\n",
       "<polygon fill=\"#000000\" stroke=\"#000000\" points=\"121.4224,-21.5001 131.4223,-18 121.4223,-14.5001 121.4224,-21.5001\"/>\n",
       "</g>\n",
       "</g>\n",
       "</svg>\n"
      ],
      "text/plain": [
       "<graphviz.dot.Digraph at 0x10b6a98d0>"
      ]
     },
     "execution_count": 11,
     "metadata": {},
     "output_type": "execute_result"
    }
   ],
   "source": [
    "print(wf.fws[-1].name)\n",
    "wf_to_graph(wf.fws[-1])"
   ]
  },
  {
   "cell_type": "markdown",
   "metadata": {},
   "source": [
    "Note that the standard preset workflow for the elastic tensor uses many calculations in excess of what is required to determine the elastic tensor, which yields a higher-quality tensor in which some of the numerical noise is washed out over the duplicity of calculations.  Note that you can also generate a \"minimal\" elastic workflow which uses neither the more expensive DFT parameters nor the extended calculations.  Tensors generated using this workflow are typically not as accurate, but often work for simple semiconductors with a lot of symmetry.  Let's try it with bulk silicon."
   ]
  },
  {
   "cell_type": "code",
   "execution_count": 12,
   "metadata": {},
   "outputs": [],
   "source": [
    "wf = wf_elastic_constant_minimal(structure)"
   ]
  },
  {
   "cell_type": "code",
   "execution_count": 13,
   "metadata": {},
   "outputs": [
    {
     "data": {
      "image/svg+xml": [
       "<?xml version=\"1.0\" encoding=\"UTF-8\" standalone=\"no\"?>\n",
       "<!DOCTYPE svg PUBLIC \"-//W3C//DTD SVG 1.1//EN\"\n",
       " \"http://www.w3.org/Graphics/SVG/1.1/DTD/svg11.dtd\">\n",
       "<!-- Generated by graphviz version 2.40.1 (20161225.0304)\n",
       " -->\n",
       "<!-- Title: %3 Pages: 1 -->\n",
       "<svg width=\"329pt\" height=\"98pt\"\n",
       " viewBox=\"0.00 0.00 328.68 98.00\" xmlns=\"http://www.w3.org/2000/svg\" xmlns:xlink=\"http://www.w3.org/1999/xlink\">\n",
       "<g id=\"graph0\" class=\"graph\" transform=\"scale(1 1) rotate(0) translate(4 94)\">\n",
       "<title>%3</title>\n",
       "<polygon fill=\"#ffffff\" stroke=\"transparent\" points=\"-4,4 -4,-94 324.6836,-94 324.6836,4 -4,4\"/>\n",
       "<!-- &#45;1155 -->\n",
       "<g id=\"node1\" class=\"node\">\n",
       "<title>&#45;1155</title>\n",
       "<polygon fill=\"none\" stroke=\"#1f62a2\" points=\"150.2771,-90 .2404,-90 .2404,-54 150.2771,-54 150.2771,-90\"/>\n",
       "<text text-anchor=\"middle\" x=\"75.2588\" y=\"-67.8\" font-family=\"Times,serif\" font-size=\"14.00\" fill=\"#000000\">Si&#45;elastic deformation 0</text>\n",
       "</g>\n",
       "<!-- &#45;1157 -->\n",
       "<g id=\"node3\" class=\"node\">\n",
       "<title>&#45;1157</title>\n",
       "<polygon fill=\"none\" stroke=\"#1f62a2\" points=\"320.7667,-63 186.4345,-63 186.4345,-27 320.7667,-27 320.7667,-63\"/>\n",
       "<text text-anchor=\"middle\" x=\"253.6006\" y=\"-40.8\" font-family=\"Times,serif\" font-size=\"14.00\" fill=\"#000000\">Analyze Elastic Data</text>\n",
       "</g>\n",
       "<!-- &#45;1155&#45;&gt;&#45;1157 -->\n",
       "<g id=\"edge1\" class=\"edge\">\n",
       "<title>&#45;1155&#45;&gt;&#45;1157</title>\n",
       "<path fill=\"none\" stroke=\"#000000\" d=\"M150.3749,-60.6278C158.9959,-59.3226 167.7968,-57.9902 176.4441,-56.6811\"/>\n",
       "<polygon fill=\"#000000\" stroke=\"#000000\" points=\"177.1414,-60.1155 186.5048,-55.158 176.0935,-53.1944 177.1414,-60.1155\"/>\n",
       "</g>\n",
       "<!-- &#45;1156 -->\n",
       "<g id=\"node2\" class=\"node\">\n",
       "<title>&#45;1156</title>\n",
       "<polygon fill=\"none\" stroke=\"#1f62a2\" points=\"150.2771,-36 .2404,-36 .2404,0 150.2771,0 150.2771,-36\"/>\n",
       "<text text-anchor=\"middle\" x=\"75.2588\" y=\"-13.8\" font-family=\"Times,serif\" font-size=\"14.00\" fill=\"#000000\">Si&#45;elastic deformation 1</text>\n",
       "</g>\n",
       "<!-- &#45;1156&#45;&gt;&#45;1157 -->\n",
       "<g id=\"edge2\" class=\"edge\">\n",
       "<title>&#45;1156&#45;&gt;&#45;1157</title>\n",
       "<path fill=\"none\" stroke=\"#000000\" d=\"M150.3749,-29.3722C158.9959,-30.6774 167.7968,-32.0098 176.4441,-33.3189\"/>\n",
       "<polygon fill=\"#000000\" stroke=\"#000000\" points=\"176.0935,-36.8056 186.5048,-34.842 177.1414,-29.8845 176.0935,-36.8056\"/>\n",
       "</g>\n",
       "</g>\n",
       "</svg>\n"
      ],
      "text/plain": [
       "<graphviz.dot.Digraph at 0x10c3743c8>"
      ]
     },
     "execution_count": 13,
     "metadata": {},
     "output_type": "execute_result"
    }
   ],
   "source": [
    "wf_to_graph(wf)"
   ]
  },
  {
   "cell_type": "markdown",
   "metadata": {},
   "source": [
    "Note that for silicon, the two deformation tasks are a single normal deformation along the x axis (which are equivalent to those along the y- and z-axis), and a single shear deformation (equivalent to the two others normally included).  Since this is considerably simpler, we'll run this as our example."
   ]
  },
  {
   "cell_type": "markdown",
   "metadata": {},
   "source": [
    "To run the workflow, we import our launchpad and rocket launcher tools.  Since we can't use VASP in the workflow, we're also going to \"fake\" vasp by copying files rather than running the binary."
   ]
  },
  {
   "cell_type": "code",
   "execution_count": 14,
   "metadata": {},
   "outputs": [],
   "source": [
    "from fireworks import LaunchPad\n",
    "from mp_workshop.atomate import use_fake_vasp_workshop"
   ]
  },
  {
   "cell_type": "code",
   "execution_count": 15,
   "metadata": {},
   "outputs": [
    {
     "data": {
      "text/plain": [
       "{-1157: 1, -1156: 2, -1155: 3}"
      ]
     },
     "execution_count": 15,
     "metadata": {},
     "output_type": "execute_result"
    }
   ],
   "source": [
    "wf = use_fake_vasp_workshop(wf)\n",
    "lpad.add_wf(wf)"
   ]
  },
  {
   "cell_type": "markdown",
   "metadata": {},
   "source": [
    "Now we can run the workflow either in the notebook using the pythonic fireworks rocket launcher or using `qlaunch` from the linux command line."
   ]
  },
  {
   "cell_type": "code",
   "execution_count": 16,
   "metadata": {},
   "outputs": [],
   "source": [
    "from fireworks.core.rocket_launcher import rapidfire"
   ]
  },
  {
   "cell_type": "code",
   "execution_count": 39,
   "metadata": {},
   "outputs": [],
   "source": [
    "rapidfire(lpad)"
   ]
  },
  {
   "cell_type": "markdown",
   "metadata": {},
   "source": [
    "## Powerups"
   ]
  },
  {
   "cell_type": "markdown",
   "metadata": {},
   "source": [
    "Atomate contains a number of tools for modifying workflows, known as \"powerups\" which are functions which will modify the workflows in commonly desired ways.  For example, if you want to modify the parameters of a VASP calculation, you can use the add_modify_incar powerup to change these for every firework in the workflow."
   ]
  },
  {
   "cell_type": "markdown",
   "metadata": {},
   "source": [
    "### add_modify_incar"
   ]
  },
  {
   "cell_type": "code",
   "execution_count": 18,
   "metadata": {},
   "outputs": [],
   "source": [
    "from atomate.vasp.powerups import add_modify_incar"
   ]
  },
  {
   "cell_type": "code",
   "execution_count": 19,
   "metadata": {},
   "outputs": [],
   "source": [
    "wf = get_wf(structure, \"bandstructure.yaml\")"
   ]
  },
  {
   "cell_type": "code",
   "execution_count": 20,
   "metadata": {},
   "outputs": [
    {
     "data": {
      "image/svg+xml": [
       "<?xml version=\"1.0\" encoding=\"UTF-8\" standalone=\"no\"?>\n",
       "<!DOCTYPE svg PUBLIC \"-//W3C//DTD SVG 1.1//EN\"\n",
       " \"http://www.w3.org/Graphics/SVG/1.1/DTD/svg11.dtd\">\n",
       "<!-- Generated by graphviz version 2.40.1 (20161225.0304)\n",
       " -->\n",
       "<!-- Title: %3 Pages: 1 -->\n",
       "<svg width=\"546pt\" height=\"44pt\"\n",
       " viewBox=\"0.00 0.00 545.54 44.00\" xmlns=\"http://www.w3.org/2000/svg\" xmlns:xlink=\"http://www.w3.org/1999/xlink\">\n",
       "<g id=\"graph0\" class=\"graph\" transform=\"scale(1 1) rotate(0) translate(4 40)\">\n",
       "<title>%3</title>\n",
       "<polygon fill=\"#ffffff\" stroke=\"transparent\" points=\"-4,4 -4,-40 541.5449,-40 541.5449,4 -4,4\"/>\n",
       "<!-- 0 -->\n",
       "<g id=\"node1\" class=\"node\">\n",
       "<title>0</title>\n",
       "<polygon fill=\"none\" stroke=\"#000000\" points=\"137.305,-36 .2312,-36 .2312,0 137.305,0 137.305,-36\"/>\n",
       "<text text-anchor=\"middle\" x=\"68.7681\" y=\"-13.8\" font-family=\"Times,serif\" font-size=\"14.00\" fill=\"#000000\">WriteVaspFromIOSet</text>\n",
       "</g>\n",
       "<!-- 1 -->\n",
       "<g id=\"node2\" class=\"node\">\n",
       "<title>1</title>\n",
       "<polygon fill=\"none\" stroke=\"#000000\" points=\"297.0434,-36 173.3667,-36 173.3667,0 297.0434,0 297.0434,-36\"/>\n",
       "<text text-anchor=\"middle\" x=\"235.2051\" y=\"-13.8\" font-family=\"Times,serif\" font-size=\"14.00\" fill=\"#000000\">RunVaspCustodian</text>\n",
       "</g>\n",
       "<!-- 0&#45;&gt;1 -->\n",
       "<g id=\"edge1\" class=\"edge\">\n",
       "<title>0&#45;&gt;1</title>\n",
       "<path fill=\"none\" stroke=\"#000000\" d=\"M137.4253,-18C145.9852,-18 154.7573,-18 163.3639,-18\"/>\n",
       "<polygon fill=\"#000000\" stroke=\"#000000\" points=\"163.3687,-21.5001 173.3687,-18 163.3686,-14.5001 163.3687,-21.5001\"/>\n",
       "</g>\n",
       "<!-- 2 -->\n",
       "<g id=\"node3\" class=\"node\">\n",
       "<title>2</title>\n",
       "<polygon fill=\"none\" stroke=\"#000000\" points=\"426.5228,-36 332.9909,-36 332.9909,0 426.5228,0 426.5228,-36\"/>\n",
       "<text text-anchor=\"middle\" x=\"379.7568\" y=\"-13.8\" font-family=\"Times,serif\" font-size=\"14.00\" fill=\"#000000\">PassCalcLocs</text>\n",
       "</g>\n",
       "<!-- 1&#45;&gt;2 -->\n",
       "<g id=\"edge2\" class=\"edge\">\n",
       "<title>1&#45;&gt;2</title>\n",
       "<path fill=\"none\" stroke=\"#000000\" d=\"M296.9273,-18C305.4378,-18 314.1478,-18 322.5715,-18\"/>\n",
       "<polygon fill=\"#000000\" stroke=\"#000000\" points=\"322.6721,-21.5001 332.6721,-18 322.672,-14.5001 322.6721,-21.5001\"/>\n",
       "</g>\n",
       "<!-- 3 -->\n",
       "<g id=\"node4\" class=\"node\">\n",
       "<title>3</title>\n",
       "<polygon fill=\"none\" stroke=\"#000000\" points=\"537.4976,-36 462.687,-36 462.687,0 537.4976,0 537.4976,-36\"/>\n",
       "<text text-anchor=\"middle\" x=\"500.0923\" y=\"-13.8\" font-family=\"Times,serif\" font-size=\"14.00\" fill=\"#000000\">VaspToDb</text>\n",
       "</g>\n",
       "<!-- 2&#45;&gt;3 -->\n",
       "<g id=\"edge3\" class=\"edge\">\n",
       "<title>2&#45;&gt;3</title>\n",
       "<path fill=\"none\" stroke=\"#000000\" d=\"M426.6262,-18C435.0712,-18 443.8841,-18 452.3535,-18\"/>\n",
       "<polygon fill=\"#000000\" stroke=\"#000000\" points=\"452.4661,-21.5001 462.466,-18 452.466,-14.5001 452.4661,-21.5001\"/>\n",
       "</g>\n",
       "</g>\n",
       "</svg>\n"
      ],
      "text/plain": [
       "<graphviz.dot.Digraph at 0x10bdd9b00>"
      ]
     },
     "execution_count": 20,
     "metadata": {},
     "output_type": "execute_result"
    }
   ],
   "source": [
    "wf_to_graph(wf.fws[0])"
   ]
  },
  {
   "cell_type": "code",
   "execution_count": 21,
   "metadata": {},
   "outputs": [],
   "source": [
    "modified = add_modify_incar(wf, {\"incar_update\": {\"ENCUT\": 700}})"
   ]
  },
  {
   "cell_type": "code",
   "execution_count": 22,
   "metadata": {},
   "outputs": [
    {
     "data": {
      "image/svg+xml": [
       "<?xml version=\"1.0\" encoding=\"UTF-8\" standalone=\"no\"?>\n",
       "<!DOCTYPE svg PUBLIC \"-//W3C//DTD SVG 1.1//EN\"\n",
       " \"http://www.w3.org/Graphics/SVG/1.1/DTD/svg11.dtd\">\n",
       "<!-- Generated by graphviz version 2.40.1 (20161225.0304)\n",
       " -->\n",
       "<!-- Title: %3 Pages: 1 -->\n",
       "<svg width=\"668pt\" height=\"44pt\"\n",
       " viewBox=\"0.00 0.00 668.30 44.00\" xmlns=\"http://www.w3.org/2000/svg\" xmlns:xlink=\"http://www.w3.org/1999/xlink\">\n",
       "<g id=\"graph0\" class=\"graph\" transform=\"scale(1 1) rotate(0) translate(4 40)\">\n",
       "<title>%3</title>\n",
       "<polygon fill=\"#ffffff\" stroke=\"transparent\" points=\"-4,4 -4,-40 664.2969,-40 664.2969,4 -4,4\"/>\n",
       "<!-- 0 -->\n",
       "<g id=\"node1\" class=\"node\">\n",
       "<title>0</title>\n",
       "<polygon fill=\"none\" stroke=\"#000000\" points=\"137.305,-36 .2312,-36 .2312,0 137.305,0 137.305,-36\"/>\n",
       "<text text-anchor=\"middle\" x=\"68.7681\" y=\"-13.8\" font-family=\"Times,serif\" font-size=\"14.00\" fill=\"#000000\">WriteVaspFromIOSet</text>\n",
       "</g>\n",
       "<!-- 1 -->\n",
       "<g id=\"node2\" class=\"node\">\n",
       "<title>1</title>\n",
       "<polygon fill=\"none\" stroke=\"#000000\" points=\"260.1644,-36 173.6598,-36 173.6598,0 260.1644,0 260.1644,-36\"/>\n",
       "<text text-anchor=\"middle\" x=\"216.9121\" y=\"-13.8\" font-family=\"Times,serif\" font-size=\"14.00\" fill=\"#000000\">ModifyIncar</text>\n",
       "</g>\n",
       "<!-- 0&#45;&gt;1 -->\n",
       "<g id=\"edge1\" class=\"edge\">\n",
       "<title>0&#45;&gt;1</title>\n",
       "<path fill=\"none\" stroke=\"#000000\" d=\"M137.6357,-18C146.3381,-18 155.1368,-18 163.5481,-18\"/>\n",
       "<polygon fill=\"#000000\" stroke=\"#000000\" points=\"163.5835,-21.5001 173.5835,-18 163.5834,-14.5001 163.5835,-21.5001\"/>\n",
       "</g>\n",
       "<!-- 2 -->\n",
       "<g id=\"node3\" class=\"node\">\n",
       "<title>2</title>\n",
       "<polygon fill=\"none\" stroke=\"#000000\" points=\"419.7954,-36 296.1187,-36 296.1187,0 419.7954,0 419.7954,-36\"/>\n",
       "<text text-anchor=\"middle\" x=\"357.957\" y=\"-13.8\" font-family=\"Times,serif\" font-size=\"14.00\" fill=\"#000000\">RunVaspCustodian</text>\n",
       "</g>\n",
       "<!-- 1&#45;&gt;2 -->\n",
       "<g id=\"edge2\" class=\"edge\">\n",
       "<title>1&#45;&gt;2</title>\n",
       "<path fill=\"none\" stroke=\"#000000\" d=\"M260.3811,-18C268.5259,-18 277.2382,-18 285.9802,-18\"/>\n",
       "<polygon fill=\"#000000\" stroke=\"#000000\" points=\"286.2242,-21.5001 296.2241,-18 286.2241,-14.5001 286.2242,-21.5001\"/>\n",
       "</g>\n",
       "<!-- 3 -->\n",
       "<g id=\"node4\" class=\"node\">\n",
       "<title>3</title>\n",
       "<polygon fill=\"none\" stroke=\"#000000\" points=\"549.2747,-36 455.7429,-36 455.7429,0 549.2747,0 549.2747,-36\"/>\n",
       "<text text-anchor=\"middle\" x=\"502.5088\" y=\"-13.8\" font-family=\"Times,serif\" font-size=\"14.00\" fill=\"#000000\">PassCalcLocs</text>\n",
       "</g>\n",
       "<!-- 2&#45;&gt;3 -->\n",
       "<g id=\"edge3\" class=\"edge\">\n",
       "<title>2&#45;&gt;3</title>\n",
       "<path fill=\"none\" stroke=\"#000000\" d=\"M419.6793,-18C428.1898,-18 436.8998,-18 445.3235,-18\"/>\n",
       "<polygon fill=\"#000000\" stroke=\"#000000\" points=\"445.424,-21.5001 455.424,-18 445.424,-14.5001 445.424,-21.5001\"/>\n",
       "</g>\n",
       "<!-- 4 -->\n",
       "<g id=\"node5\" class=\"node\">\n",
       "<title>4</title>\n",
       "<polygon fill=\"none\" stroke=\"#000000\" points=\"660.2496,-36 585.4389,-36 585.4389,0 660.2496,0 660.2496,-36\"/>\n",
       "<text text-anchor=\"middle\" x=\"622.8442\" y=\"-13.8\" font-family=\"Times,serif\" font-size=\"14.00\" fill=\"#000000\">VaspToDb</text>\n",
       "</g>\n",
       "<!-- 3&#45;&gt;4 -->\n",
       "<g id=\"edge4\" class=\"edge\">\n",
       "<title>3&#45;&gt;4</title>\n",
       "<path fill=\"none\" stroke=\"#000000\" d=\"M549.3782,-18C557.8232,-18 566.6361,-18 575.1054,-18\"/>\n",
       "<polygon fill=\"#000000\" stroke=\"#000000\" points=\"575.218,-21.5001 585.218,-18 575.218,-14.5001 575.218,-21.5001\"/>\n",
       "</g>\n",
       "</g>\n",
       "</svg>\n"
      ],
      "text/plain": [
       "<graphviz.dot.Digraph at 0x10c374588>"
      ]
     },
     "execution_count": 22,
     "metadata": {},
     "output_type": "execute_result"
    }
   ],
   "source": [
    "wf_to_graph(modified.fws[0])"
   ]
  },
  {
   "cell_type": "markdown",
   "metadata": {},
   "source": [
    "Prior to the execution of the VASP calculation, a ModifyIncar firetask is inserted which will read the incar and modify the ENCUT parameter such that it matches our powerup specification."
   ]
  },
  {
   "cell_type": "markdown",
   "metadata": {},
   "source": [
    "### add_tags, add_structure_metadata"
   ]
  },
  {
   "cell_type": "code",
   "execution_count": 23,
   "metadata": {},
   "outputs": [],
   "source": [
    "from atomate.vasp.powerups import add_tags"
   ]
  },
  {
   "cell_type": "code",
   "execution_count": 24,
   "metadata": {},
   "outputs": [
    {
     "name": "stdout",
     "output_type": "stream",
     "text": [
      "WF metadata:  {}\n",
      "Last task:  <{{atomate.vasp.firetasks.parse_outputs.VaspToDb}}>:{'db_file': None, 'additional_fields': {'task_label': 'structure optimization'}}\n"
     ]
    }
   ],
   "source": [
    "print(\"WF metadata: \", wf.metadata)\n",
    "print(\"Last task: \", wf.fws[0].tasks[-1])"
   ]
  },
  {
   "cell_type": "code",
   "execution_count": 25,
   "metadata": {},
   "outputs": [],
   "source": [
    "wf = add_tags(wf, [\"photocathodes\"])"
   ]
  },
  {
   "cell_type": "code",
   "execution_count": 26,
   "metadata": {},
   "outputs": [
    {
     "name": "stdout",
     "output_type": "stream",
     "text": [
      "WF metadata:  {'tags': ['photocathodes']}\n",
      "Last task:  <{{atomate.vasp.firetasks.parse_outputs.VaspToDb}}>:{'db_file': None, 'additional_fields': {'task_label': 'structure optimization', 'tags': ['photocathodes']}}\n"
     ]
    }
   ],
   "source": [
    "print(\"WF metadata: \", wf.metadata)\n",
    "print(\"Last task: \", wf.fws[0].tasks[-1])"
   ]
  },
  {
   "cell_type": "markdown",
   "metadata": {},
   "source": [
    "## A few other \"complex\" workflows."
   ]
  },
  {
   "cell_type": "markdown",
   "metadata": {},
   "source": [
    "Atomate contains a few workflows that will do more complicating things like calculations on surfaces.  Let's say I want to calculate the determine the hydrogen adsorption energy on every low-index facet of Pt."
   ]
  },
  {
   "cell_type": "code",
   "execution_count": 27,
   "metadata": {},
   "outputs": [],
   "source": [
    "from atomate.vasp.workflows.base.adsorption import get_wf_surface_all_slabs\n",
    "from pymatgen import MPRester, Molecule"
   ]
  },
  {
   "cell_type": "code",
   "execution_count": 28,
   "metadata": {
    "scrolled": true
   },
   "outputs": [],
   "source": [
    "pt = mpr.get_structure_by_material_id(\"Pt\", conventional_unit_cell=True)\n",
    "adsorbate = Molecule(\"H\", [[0, 0, 0]])"
   ]
  },
  {
   "cell_type": "code",
   "execution_count": 29,
   "metadata": {},
   "outputs": [],
   "source": [
    "wf = get_wf_surface_all_slabs(pt, [adsorbate])"
   ]
  },
  {
   "cell_type": "code",
   "execution_count": 30,
   "metadata": {},
   "outputs": [
    {
     "data": {
      "image/svg+xml": [
       "<?xml version=\"1.0\" encoding=\"UTF-8\" standalone=\"no\"?>\n",
       "<!DOCTYPE svg PUBLIC \"-//W3C//DTD SVG 1.1//EN\"\n",
       " \"http://www.w3.org/Graphics/SVG/1.1/DTD/svg11.dtd\">\n",
       "<!-- Generated by graphviz version 2.40.1 (20161225.0304)\n",
       " -->\n",
       "<!-- Title: %3 Pages: 1 -->\n",
       "<svg width=\"459pt\" height=\"746pt\"\n",
       " viewBox=\"0.00 0.00 458.60 746.00\" xmlns=\"http://www.w3.org/2000/svg\" xmlns:xlink=\"http://www.w3.org/1999/xlink\">\n",
       "<g id=\"graph0\" class=\"graph\" transform=\"scale(1 1) rotate(0) translate(4 742)\">\n",
       "<title>%3</title>\n",
       "<polygon fill=\"#ffffff\" stroke=\"transparent\" points=\"-4,4 -4,-742 454.6006,-742 454.6006,4 -4,4\"/>\n",
       "<!-- &#45;1162 -->\n",
       "<g id=\"node1\" class=\"node\">\n",
       "<title>&#45;1162</title>\n",
       "<polygon fill=\"none\" stroke=\"#1f62a2\" points=\"155.3751,-387 .2079,-387 .2079,-351 155.3751,-351 155.3751,-387\"/>\n",
       "<text text-anchor=\"middle\" x=\"77.7915\" y=\"-364.8\" font-family=\"Times,serif\" font-size=\"14.00\" fill=\"#000000\">Pt&#45;structure optimization</text>\n",
       "</g>\n",
       "<!-- &#45;1163 -->\n",
       "<g id=\"node2\" class=\"node\">\n",
       "<title>&#45;1163</title>\n",
       "<polygon fill=\"none\" stroke=\"#1f62a2\" points=\"418.7474,-738 223.4362,-738 223.4362,-702 418.7474,-702 418.7474,-738\"/>\n",
       "<text text-anchor=\"middle\" x=\"321.0918\" y=\"-715.8\" font-family=\"Times,serif\" font-size=\"14.00\" fill=\"#000000\">Pt&#45;Pt_(1, 1, 1) slab optimization</text>\n",
       "</g>\n",
       "<!-- &#45;1162&#45;&gt;&#45;1163 -->\n",
       "<g id=\"edge1\" class=\"edge\">\n",
       "<title>&#45;1162&#45;&gt;&#45;1163</title>\n",
       "<path fill=\"none\" stroke=\"#000000\" d=\"M81.71,-387.1515C95.4366,-449.083 143.1458,-650.578 191.583,-693 198.2364,-698.8271 205.8184,-703.5121 213.8993,-707.2667\"/>\n",
       "<polygon fill=\"#000000\" stroke=\"#000000\" points=\"212.6335,-710.5307 223.2118,-711.1217 215.3109,-704.0629 212.6335,-710.5307\"/>\n",
       "</g>\n",
       "<!-- &#45;1164 -->\n",
       "<g id=\"node3\" class=\"node\">\n",
       "<title>&#45;1164</title>\n",
       "<polygon fill=\"none\" stroke=\"#1f62a2\" points=\"450.6094,-684 191.5742,-684 191.5742,-648 450.6094,-648 450.6094,-684\"/>\n",
       "<text text-anchor=\"middle\" x=\"321.0918\" y=\"-661.8\" font-family=\"Times,serif\" font-size=\"14.00\" fill=\"#000000\">Pt&#45;H1&#45;Pt_(1, 1, 1) adsorbate optimization 0</text>\n",
       "</g>\n",
       "<!-- &#45;1162&#45;&gt;&#45;1164 -->\n",
       "<g id=\"edge2\" class=\"edge\">\n",
       "<title>&#45;1162&#45;&gt;&#45;1164</title>\n",
       "<path fill=\"none\" stroke=\"#000000\" d=\"M79.722,-387.1775C85.9463,-436.1951 110.0924,-571.9159 191.583,-639 192.985,-640.1541 194.4238,-641.2627 195.896,-642.3274\"/>\n",
       "<polygon fill=\"#000000\" stroke=\"#000000\" points=\"194.3608,-645.501 204.6667,-647.9583 198.1426,-639.6105 194.3608,-645.501\"/>\n",
       "</g>\n",
       "<!-- &#45;1165 -->\n",
       "<g id=\"node4\" class=\"node\">\n",
       "<title>&#45;1165</title>\n",
       "<polygon fill=\"none\" stroke=\"#1f62a2\" points=\"450.6094,-630 191.5742,-630 191.5742,-594 450.6094,-594 450.6094,-630\"/>\n",
       "<text text-anchor=\"middle\" x=\"321.0918\" y=\"-607.8\" font-family=\"Times,serif\" font-size=\"14.00\" fill=\"#000000\">Pt&#45;H1&#45;Pt_(1, 1, 1) adsorbate optimization 1</text>\n",
       "</g>\n",
       "<!-- &#45;1162&#45;&gt;&#45;1165 -->\n",
       "<g id=\"edge3\" class=\"edge\">\n",
       "<title>&#45;1162&#45;&gt;&#45;1165</title>\n",
       "<path fill=\"none\" stroke=\"#000000\" d=\"M81.7931,-387.2125C92.0416,-429.2955 123.3721,-533.6036 191.583,-585 193.2339,-586.2439 194.9288,-587.4338 196.6625,-588.5718\"/>\n",
       "<polygon fill=\"#000000\" stroke=\"#000000\" points=\"195.2361,-591.7931 205.6313,-593.8405 198.7818,-585.7575 195.2361,-591.7931\"/>\n",
       "</g>\n",
       "<!-- &#45;1166 -->\n",
       "<g id=\"node5\" class=\"node\">\n",
       "<title>&#45;1166</title>\n",
       "<polygon fill=\"none\" stroke=\"#1f62a2\" points=\"450.6094,-576 191.5742,-576 191.5742,-540 450.6094,-540 450.6094,-576\"/>\n",
       "<text text-anchor=\"middle\" x=\"321.0918\" y=\"-553.8\" font-family=\"Times,serif\" font-size=\"14.00\" fill=\"#000000\">Pt&#45;H1&#45;Pt_(1, 1, 1) adsorbate optimization 2</text>\n",
       "</g>\n",
       "<!-- &#45;1162&#45;&gt;&#45;1166 -->\n",
       "<g id=\"edge4\" class=\"edge\">\n",
       "<title>&#45;1162&#45;&gt;&#45;1166</title>\n",
       "<path fill=\"none\" stroke=\"#000000\" d=\"M85.1203,-387.2445C99.8225,-421.3575 136.3132,-494.6313 191.583,-531 193.8869,-532.516 196.2596,-533.9492 198.6895,-535.304\"/>\n",
       "<polygon fill=\"#000000\" stroke=\"#000000\" points=\"197.215,-538.4804 207.7177,-539.8746 200.3767,-532.2351 197.215,-538.4804\"/>\n",
       "</g>\n",
       "<!-- &#45;1167 -->\n",
       "<g id=\"node6\" class=\"node\">\n",
       "<title>&#45;1167</title>\n",
       "<polygon fill=\"none\" stroke=\"#1f62a2\" points=\"450.6094,-522 191.5742,-522 191.5742,-486 450.6094,-486 450.6094,-522\"/>\n",
       "<text text-anchor=\"middle\" x=\"321.0918\" y=\"-499.8\" font-family=\"Times,serif\" font-size=\"14.00\" fill=\"#000000\">Pt&#45;H1&#45;Pt_(1, 1, 1) adsorbate optimization 3</text>\n",
       "</g>\n",
       "<!-- &#45;1162&#45;&gt;&#45;1167 -->\n",
       "<g id=\"edge5\" class=\"edge\">\n",
       "<title>&#45;1162&#45;&gt;&#45;1167</title>\n",
       "<path fill=\"none\" stroke=\"#000000\" d=\"M91.4115,-387.1174C110.8274,-411.5679 148.8757,-454.6349 191.583,-477 195.1436,-478.8646 198.8227,-480.6005 202.5873,-482.2165\"/>\n",
       "<polygon fill=\"#000000\" stroke=\"#000000\" points=\"201.5166,-485.5571 212.1025,-485.9917 204.0981,-479.0505 201.5166,-485.5571\"/>\n",
       "</g>\n",
       "<!-- &#45;1168 -->\n",
       "<g id=\"node7\" class=\"node\">\n",
       "<title>&#45;1168</title>\n",
       "<polygon fill=\"none\" stroke=\"#1f62a2\" points=\"418.7474,-468 223.4362,-468 223.4362,-432 418.7474,-432 418.7474,-468\"/>\n",
       "<text text-anchor=\"middle\" x=\"321.0918\" y=\"-445.8\" font-family=\"Times,serif\" font-size=\"14.00\" fill=\"#000000\">Pt&#45;Pt_(1, 1, 0) slab optimization</text>\n",
       "</g>\n",
       "<!-- &#45;1162&#45;&gt;&#45;1168 -->\n",
       "<g id=\"edge6\" class=\"edge\">\n",
       "<title>&#45;1162&#45;&gt;&#45;1168</title>\n",
       "<path fill=\"none\" stroke=\"#000000\" d=\"M110.7786,-387.2253C133.0409,-398.8755 163.3941,-413.5235 191.583,-423 198.6218,-425.3663 205.9484,-427.5655 213.3779,-429.6022\"/>\n",
       "<polygon fill=\"#000000\" stroke=\"#000000\" points=\"212.6267,-433.0237 223.1884,-432.1863 214.4098,-426.2546 212.6267,-433.0237\"/>\n",
       "</g>\n",
       "<!-- &#45;1169 -->\n",
       "<g id=\"node8\" class=\"node\">\n",
       "<title>&#45;1169</title>\n",
       "<polygon fill=\"none\" stroke=\"#1f62a2\" points=\"450.6094,-414 191.5742,-414 191.5742,-378 450.6094,-378 450.6094,-414\"/>\n",
       "<text text-anchor=\"middle\" x=\"321.0918\" y=\"-391.8\" font-family=\"Times,serif\" font-size=\"14.00\" fill=\"#000000\">Pt&#45;H1&#45;Pt_(1, 1, 0) adsorbate optimization 0</text>\n",
       "</g>\n",
       "<!-- &#45;1162&#45;&gt;&#45;1169 -->\n",
       "<g id=\"edge7\" class=\"edge\">\n",
       "<title>&#45;1162&#45;&gt;&#45;1169</title>\n",
       "<path fill=\"none\" stroke=\"#000000\" d=\"M155.4422,-377.6172C163.8287,-378.5479 172.5377,-379.5144 181.3768,-380.4953\"/>\n",
       "<polygon fill=\"#000000\" stroke=\"#000000\" points=\"181.0764,-383.9833 191.4015,-381.6078 181.8486,-377.026 181.0764,-383.9833\"/>\n",
       "</g>\n",
       "<!-- &#45;1170 -->\n",
       "<g id=\"node9\" class=\"node\">\n",
       "<title>&#45;1170</title>\n",
       "<polygon fill=\"none\" stroke=\"#1f62a2\" points=\"450.6094,-360 191.5742,-360 191.5742,-324 450.6094,-324 450.6094,-360\"/>\n",
       "<text text-anchor=\"middle\" x=\"321.0918\" y=\"-337.8\" font-family=\"Times,serif\" font-size=\"14.00\" fill=\"#000000\">Pt&#45;H1&#45;Pt_(1, 1, 0) adsorbate optimization 1</text>\n",
       "</g>\n",
       "<!-- &#45;1162&#45;&gt;&#45;1170 -->\n",
       "<g id=\"edge8\" class=\"edge\">\n",
       "<title>&#45;1162&#45;&gt;&#45;1170</title>\n",
       "<path fill=\"none\" stroke=\"#000000\" d=\"M155.4422,-360.3828C163.8287,-359.4521 172.5377,-358.4856 181.3768,-357.5047\"/>\n",
       "<polygon fill=\"#000000\" stroke=\"#000000\" points=\"181.8486,-360.974 191.4015,-356.3922 181.0764,-354.0167 181.8486,-360.974\"/>\n",
       "</g>\n",
       "<!-- &#45;1171 -->\n",
       "<g id=\"node10\" class=\"node\">\n",
       "<title>&#45;1171</title>\n",
       "<polygon fill=\"none\" stroke=\"#1f62a2\" points=\"450.6094,-306 191.5742,-306 191.5742,-270 450.6094,-270 450.6094,-306\"/>\n",
       "<text text-anchor=\"middle\" x=\"321.0918\" y=\"-283.8\" font-family=\"Times,serif\" font-size=\"14.00\" fill=\"#000000\">Pt&#45;H1&#45;Pt_(1, 1, 0) adsorbate optimization 2</text>\n",
       "</g>\n",
       "<!-- &#45;1162&#45;&gt;&#45;1171 -->\n",
       "<g id=\"edge9\" class=\"edge\">\n",
       "<title>&#45;1162&#45;&gt;&#45;1171</title>\n",
       "<path fill=\"none\" stroke=\"#000000\" d=\"M110.7786,-350.7747C133.0409,-339.1245 163.3941,-324.4765 191.583,-315 198.3182,-312.7358 205.3169,-310.6245 212.4171,-308.6622\"/>\n",
       "<polygon fill=\"#000000\" stroke=\"#000000\" points=\"213.3802,-312.0279 222.1469,-306.0784 211.5836,-305.2623 213.3802,-312.0279\"/>\n",
       "</g>\n",
       "<!-- &#45;1172 -->\n",
       "<g id=\"node11\" class=\"node\">\n",
       "<title>&#45;1172</title>\n",
       "<polygon fill=\"none\" stroke=\"#1f62a2\" points=\"450.6094,-252 191.5742,-252 191.5742,-216 450.6094,-216 450.6094,-252\"/>\n",
       "<text text-anchor=\"middle\" x=\"321.0918\" y=\"-229.8\" font-family=\"Times,serif\" font-size=\"14.00\" fill=\"#000000\">Pt&#45;H1&#45;Pt_(1, 1, 0) adsorbate optimization 3</text>\n",
       "</g>\n",
       "<!-- &#45;1162&#45;&gt;&#45;1172 -->\n",
       "<g id=\"edge10\" class=\"edge\">\n",
       "<title>&#45;1162&#45;&gt;&#45;1172</title>\n",
       "<path fill=\"none\" stroke=\"#000000\" d=\"M91.4115,-350.8826C110.8274,-326.4321 148.8757,-283.3651 191.583,-261 195.1436,-259.1354 198.8227,-257.3995 202.5873,-255.7835\"/>\n",
       "<polygon fill=\"#000000\" stroke=\"#000000\" points=\"204.0981,-258.9495 212.1025,-252.0083 201.5166,-252.4429 204.0981,-258.9495\"/>\n",
       "</g>\n",
       "<!-- &#45;1173 -->\n",
       "<g id=\"node12\" class=\"node\">\n",
       "<title>&#45;1173</title>\n",
       "<polygon fill=\"none\" stroke=\"#1f62a2\" points=\"418.7474,-198 223.4362,-198 223.4362,-162 418.7474,-162 418.7474,-198\"/>\n",
       "<text text-anchor=\"middle\" x=\"321.0918\" y=\"-175.8\" font-family=\"Times,serif\" font-size=\"14.00\" fill=\"#000000\">Pt&#45;Pt_(1, 0, 0) slab optimization</text>\n",
       "</g>\n",
       "<!-- &#45;1162&#45;&gt;&#45;1173 -->\n",
       "<g id=\"edge11\" class=\"edge\">\n",
       "<title>&#45;1162&#45;&gt;&#45;1173</title>\n",
       "<path fill=\"none\" stroke=\"#000000\" d=\"M85.1203,-350.7555C99.8225,-316.6425 136.3132,-243.3687 191.583,-207 198.4032,-202.5122 205.8263,-198.7501 213.5535,-195.5987\"/>\n",
       "<polygon fill=\"#000000\" stroke=\"#000000\" points=\"214.9537,-198.8124 223.1097,-192.0499 212.5168,-192.2503 214.9537,-198.8124\"/>\n",
       "</g>\n",
       "<!-- &#45;1174 -->\n",
       "<g id=\"node13\" class=\"node\">\n",
       "<title>&#45;1174</title>\n",
       "<polygon fill=\"none\" stroke=\"#1f62a2\" points=\"450.6094,-144 191.5742,-144 191.5742,-108 450.6094,-108 450.6094,-144\"/>\n",
       "<text text-anchor=\"middle\" x=\"321.0918\" y=\"-121.8\" font-family=\"Times,serif\" font-size=\"14.00\" fill=\"#000000\">Pt&#45;H1&#45;Pt_(1, 0, 0) adsorbate optimization 0</text>\n",
       "</g>\n",
       "<!-- &#45;1162&#45;&gt;&#45;1174 -->\n",
       "<g id=\"edge12\" class=\"edge\">\n",
       "<title>&#45;1162&#45;&gt;&#45;1174</title>\n",
       "<path fill=\"none\" stroke=\"#000000\" d=\"M81.7931,-350.7875C92.0416,-308.7045 123.3721,-204.3964 191.583,-153 193.2339,-151.7561 194.9288,-150.5662 196.6625,-149.4282\"/>\n",
       "<polygon fill=\"#000000\" stroke=\"#000000\" points=\"198.7818,-152.2425 205.6313,-144.1595 195.2361,-146.2069 198.7818,-152.2425\"/>\n",
       "</g>\n",
       "<!-- &#45;1175 -->\n",
       "<g id=\"node14\" class=\"node\">\n",
       "<title>&#45;1175</title>\n",
       "<polygon fill=\"none\" stroke=\"#1f62a2\" points=\"450.6094,-90 191.5742,-90 191.5742,-54 450.6094,-54 450.6094,-90\"/>\n",
       "<text text-anchor=\"middle\" x=\"321.0918\" y=\"-67.8\" font-family=\"Times,serif\" font-size=\"14.00\" fill=\"#000000\">Pt&#45;H1&#45;Pt_(1, 0, 0) adsorbate optimization 1</text>\n",
       "</g>\n",
       "<!-- &#45;1162&#45;&gt;&#45;1175 -->\n",
       "<g id=\"edge13\" class=\"edge\">\n",
       "<title>&#45;1162&#45;&gt;&#45;1175</title>\n",
       "<path fill=\"none\" stroke=\"#000000\" d=\"M79.722,-350.8225C85.9463,-301.8049 110.0924,-166.0841 191.583,-99 192.985,-97.8459 194.4238,-96.7373 195.896,-95.6726\"/>\n",
       "<polygon fill=\"#000000\" stroke=\"#000000\" points=\"198.1426,-98.3895 204.6667,-90.0417 194.3608,-92.499 198.1426,-98.3895\"/>\n",
       "</g>\n",
       "<!-- &#45;1176 -->\n",
       "<g id=\"node15\" class=\"node\">\n",
       "<title>&#45;1176</title>\n",
       "<polygon fill=\"none\" stroke=\"#1f62a2\" points=\"450.6094,-36 191.5742,-36 191.5742,0 450.6094,0 450.6094,-36\"/>\n",
       "<text text-anchor=\"middle\" x=\"321.0918\" y=\"-13.8\" font-family=\"Times,serif\" font-size=\"14.00\" fill=\"#000000\">Pt&#45;H1&#45;Pt_(1, 0, 0) adsorbate optimization 2</text>\n",
       "</g>\n",
       "<!-- &#45;1162&#45;&gt;&#45;1176 -->\n",
       "<g id=\"edge14\" class=\"edge\">\n",
       "<title>&#45;1162&#45;&gt;&#45;1176</title>\n",
       "<path fill=\"none\" stroke=\"#000000\" d=\"M81.71,-350.8485C95.4366,-288.917 143.1458,-87.422 191.583,-45 192.7709,-43.9597 193.9883,-42.9557 195.2329,-41.987\"/>\n",
       "<polygon fill=\"#000000\" stroke=\"#000000\" points=\"197.5545,-44.6385 203.8157,-36.0916 193.5912,-38.8685 197.5545,-44.6385\"/>\n",
       "</g>\n",
       "</g>\n",
       "</svg>\n"
      ],
      "text/plain": [
       "<graphviz.dot.Digraph at 0x10d212748>"
      ]
     },
     "execution_count": 30,
     "metadata": {},
     "output_type": "execute_result"
    }
   ],
   "source": [
    "wf_to_graph(wf)"
   ]
  },
  {
   "cell_type": "markdown",
   "metadata": {},
   "source": [
    "This is how you can do the requisite calculation to find the band-gap from an HSE calculation after the PBE bandstructure."
   ]
  },
  {
   "cell_type": "code",
   "execution_count": 31,
   "metadata": {},
   "outputs": [],
   "source": [
    "from atomate.vasp.workflows.presets.core import wf_bandstructure_plus_hse"
   ]
  },
  {
   "cell_type": "code",
   "execution_count": 32,
   "metadata": {},
   "outputs": [],
   "source": [
    "wf = wf_bandstructure_plus_hse(structure)"
   ]
  },
  {
   "cell_type": "code",
   "execution_count": 33,
   "metadata": {},
   "outputs": [
    {
     "data": {
      "image/svg+xml": [
       "<?xml version=\"1.0\" encoding=\"UTF-8\" standalone=\"no\"?>\n",
       "<!DOCTYPE svg PUBLIC \"-//W3C//DTD SVG 1.1//EN\"\n",
       " \"http://www.w3.org/Graphics/SVG/1.1/DTD/svg11.dtd\">\n",
       "<!-- Generated by graphviz version 2.40.1 (20161225.0304)\n",
       " -->\n",
       "<!-- Title: %3 Pages: 1 -->\n",
       "<svg width=\"512pt\" height=\"98pt\"\n",
       " viewBox=\"0.00 0.00 512.45 98.00\" xmlns=\"http://www.w3.org/2000/svg\" xmlns:xlink=\"http://www.w3.org/1999/xlink\">\n",
       "<g id=\"graph0\" class=\"graph\" transform=\"scale(1 1) rotate(0) translate(4 94)\">\n",
       "<title>%3</title>\n",
       "<polygon fill=\"#ffffff\" stroke=\"transparent\" points=\"-4,4 -4,-94 508.4453,-94 508.4453,4 -4,4\"/>\n",
       "<!-- &#45;1177 -->\n",
       "<g id=\"node1\" class=\"node\">\n",
       "<title>&#45;1177</title>\n",
       "<polygon fill=\"none\" stroke=\"#1f62a2\" points=\"155.3751,-63 .2079,-63 .2079,-27 155.3751,-27 155.3751,-63\"/>\n",
       "<text text-anchor=\"middle\" x=\"77.7915\" y=\"-40.8\" font-family=\"Times,serif\" font-size=\"14.00\" fill=\"#000000\">Si&#45;structure optimization</text>\n",
       "</g>\n",
       "<!-- &#45;1178 -->\n",
       "<g id=\"node2\" class=\"node\">\n",
       "<title>&#45;1178</title>\n",
       "<polygon fill=\"none\" stroke=\"#1f62a2\" points=\"253.4073,-63 191.6415,-63 191.6415,-27 253.4073,-27 253.4073,-63\"/>\n",
       "<text text-anchor=\"middle\" x=\"222.5244\" y=\"-40.8\" font-family=\"Times,serif\" font-size=\"14.00\" fill=\"#000000\">Si&#45;static</text>\n",
       "</g>\n",
       "<!-- &#45;1177&#45;&gt;&#45;1178 -->\n",
       "<g id=\"edge1\" class=\"edge\">\n",
       "<title>&#45;1177&#45;&gt;&#45;1178</title>\n",
       "<path fill=\"none\" stroke=\"#000000\" d=\"M155.6655,-45C164.5048,-45 173.2338,-45 181.321,-45\"/>\n",
       "<polygon fill=\"#000000\" stroke=\"#000000\" points=\"181.5381,-48.5001 191.538,-45 181.538,-41.5001 181.5381,-48.5001\"/>\n",
       "</g>\n",
       "<!-- &#45;1179 -->\n",
       "<g id=\"node3\" class=\"node\">\n",
       "<title>&#45;1179</title>\n",
       "<polygon fill=\"none\" stroke=\"#1f62a2\" points=\"393.8646,-90 289.3327,-90 289.3327,-54 393.8646,-54 393.8646,-90\"/>\n",
       "<text text-anchor=\"middle\" x=\"341.5986\" y=\"-67.8\" font-family=\"Times,serif\" font-size=\"14.00\" fill=\"#000000\">Si&#45;nscf uniform</text>\n",
       "</g>\n",
       "<!-- &#45;1178&#45;&gt;&#45;1179 -->\n",
       "<g id=\"edge2\" class=\"edge\">\n",
       "<title>&#45;1178&#45;&gt;&#45;1179</title>\n",
       "<path fill=\"none\" stroke=\"#000000\" d=\"M253.4989,-52.0234C261.4094,-53.8171 270.2015,-55.8107 279.0822,-57.8244\"/>\n",
       "<polygon fill=\"#000000\" stroke=\"#000000\" points=\"278.5778,-61.2988 289.1042,-60.0969 280.1258,-54.4721 278.5778,-61.2988\"/>\n",
       "</g>\n",
       "<!-- &#45;1180 -->\n",
       "<g id=\"node4\" class=\"node\">\n",
       "<title>&#45;1180</title>\n",
       "<polygon fill=\"none\" stroke=\"#1f62a2\" points=\"381.7541,-36 301.4432,-36 301.4432,0 381.7541,0 381.7541,-36\"/>\n",
       "<text text-anchor=\"middle\" x=\"341.5986\" y=\"-13.8\" font-family=\"Times,serif\" font-size=\"14.00\" fill=\"#000000\">Si&#45;nscf line</text>\n",
       "</g>\n",
       "<!-- &#45;1178&#45;&gt;&#45;1180 -->\n",
       "<g id=\"edge3\" class=\"edge\">\n",
       "<title>&#45;1178&#45;&gt;&#45;1180</title>\n",
       "<path fill=\"none\" stroke=\"#000000\" d=\"M253.4989,-37.9766C265.026,-35.3628 278.4252,-32.3245 291.2426,-29.4182\"/>\n",
       "<polygon fill=\"#000000\" stroke=\"#000000\" points=\"292.372,-32.751 301.3504,-27.1263 290.824,-25.9243 292.372,-32.751\"/>\n",
       "</g>\n",
       "<!-- &#45;1181 -->\n",
       "<g id=\"node5\" class=\"node\">\n",
       "<title>&#45;1181</title>\n",
       "<polygon fill=\"none\" stroke=\"#1f62a2\" points=\"504.3028,-36 429.874,-36 429.874,0 504.3028,0 504.3028,-36\"/>\n",
       "<text text-anchor=\"middle\" x=\"467.0884\" y=\"-13.8\" font-family=\"Times,serif\" font-size=\"14.00\" fill=\"#000000\">Si&#45;hse gap</text>\n",
       "</g>\n",
       "<!-- &#45;1180&#45;&gt;&#45;1181 -->\n",
       "<g id=\"edge4\" class=\"edge\">\n",
       "<title>&#45;1180&#45;&gt;&#45;1181</title>\n",
       "<path fill=\"none\" stroke=\"#000000\" d=\"M381.9951,-18C393.9741,-18 407.2031,-18 419.5885,-18\"/>\n",
       "<polygon fill=\"#000000\" stroke=\"#000000\" points=\"419.7479,-21.5001 429.7479,-18 419.7479,-14.5001 419.7479,-21.5001\"/>\n",
       "</g>\n",
       "</g>\n",
       "</svg>\n"
      ],
      "text/plain": [
       "<graphviz.dot.Digraph at 0x1105e5d30>"
      ]
     },
     "execution_count": 33,
     "metadata": {},
     "output_type": "execute_result"
    }
   ],
   "source": [
    "wf_to_graph(wf)"
   ]
  },
  {
   "cell_type": "markdown",
   "metadata": {},
   "source": [
    "There's also support for workflows in FEFF and QChem."
   ]
  },
  {
   "cell_type": "code",
   "execution_count": 34,
   "metadata": {},
   "outputs": [],
   "source": [
    "from atomate.feff.workflows.core import get_wf_xas"
   ]
  },
  {
   "cell_type": "code",
   "execution_count": 35,
   "metadata": {},
   "outputs": [
    {
     "data": {
      "image/svg+xml": [
       "<?xml version=\"1.0\" encoding=\"UTF-8\" standalone=\"no\"?>\n",
       "<!DOCTYPE svg PUBLIC \"-//W3C//DTD SVG 1.1//EN\"\n",
       " \"http://www.w3.org/Graphics/SVG/1.1/DTD/svg11.dtd\">\n",
       "<!-- Generated by graphviz version 2.40.1 (20161225.0304)\n",
       " -->\n",
       "<!-- Title: %3 Pages: 1 -->\n",
       "<svg width=\"113pt\" height=\"44pt\"\n",
       " viewBox=\"0.00 0.00 113.44 44.00\" xmlns=\"http://www.w3.org/2000/svg\" xmlns:xlink=\"http://www.w3.org/1999/xlink\">\n",
       "<g id=\"graph0\" class=\"graph\" transform=\"scale(1 1) rotate(0) translate(4 40)\">\n",
       "<title>%3</title>\n",
       "<polygon fill=\"#ffffff\" stroke=\"transparent\" points=\"-4,4 -4,-40 109.4414,-40 109.4414,4 -4,4\"/>\n",
       "<!-- &#45;1182 -->\n",
       "<g id=\"node1\" class=\"node\">\n",
       "<title>&#45;1182</title>\n",
       "<polygon fill=\"none\" stroke=\"#1f62a2\" points=\"105.663,-36 -.2216,-36 -.2216,0 105.663,0 105.663,-36\"/>\n",
       "<text text-anchor=\"middle\" x=\"52.7207\" y=\"-13.8\" font-family=\"Times,serif\" font-size=\"14.00\" fill=\"#000000\">Si&#45;XANES&#45;K&#45;0</text>\n",
       "</g>\n",
       "</g>\n",
       "</svg>\n"
      ],
      "text/plain": [
       "<graphviz.dot.Digraph at 0x108cc1898>"
      ]
     },
     "execution_count": 35,
     "metadata": {},
     "output_type": "execute_result"
    }
   ],
   "source": [
    "wf = get_wf_xas(\"Si\", structure)\n",
    "wf_to_graph(wf)"
   ]
  },
  {
   "cell_type": "code",
   "execution_count": 36,
   "metadata": {},
   "outputs": [
    {
     "data": {
      "image/svg+xml": [
       "<?xml version=\"1.0\" encoding=\"UTF-8\" standalone=\"no\"?>\n",
       "<!DOCTYPE svg PUBLIC \"-//W3C//DTD SVG 1.1//EN\"\n",
       " \"http://www.w3.org/Graphics/SVG/1.1/DTD/svg11.dtd\">\n",
       "<!-- Generated by graphviz version 2.40.1 (20161225.0304)\n",
       " -->\n",
       "<!-- Title: %3 Pages: 1 -->\n",
       "<svg width=\"568pt\" height=\"44pt\"\n",
       " viewBox=\"0.00 0.00 568.13 44.00\" xmlns=\"http://www.w3.org/2000/svg\" xmlns:xlink=\"http://www.w3.org/1999/xlink\">\n",
       "<g id=\"graph0\" class=\"graph\" transform=\"scale(1 1) rotate(0) translate(4 40)\">\n",
       "<title>%3</title>\n",
       "<polygon fill=\"#ffffff\" stroke=\"transparent\" points=\"-4,4 -4,-40 564.1309,-40 564.1309,4 -4,4\"/>\n",
       "<!-- 0 -->\n",
       "<g id=\"node1\" class=\"node\">\n",
       "<title>0</title>\n",
       "<polygon fill=\"none\" stroke=\"#000000\" points=\"133.5909,-36 -.1974,-36 -.1974,0 133.5909,0 133.5909,-36\"/>\n",
       "<text text-anchor=\"middle\" x=\"66.6968\" y=\"-13.8\" font-family=\"Times,serif\" font-size=\"14.00\" fill=\"#000000\">WriteFeffFromIOSet</text>\n",
       "</g>\n",
       "<!-- 1 -->\n",
       "<g id=\"node2\" class=\"node\">\n",
       "<title>1</title>\n",
       "<polygon fill=\"none\" stroke=\"#000000\" points=\"266.9876,-36 169.195,-36 169.195,0 266.9876,0 266.9876,-36\"/>\n",
       "<text text-anchor=\"middle\" x=\"218.0913\" y=\"-13.8\" font-family=\"Times,serif\" font-size=\"14.00\" fill=\"#000000\">RunFeffDirect</text>\n",
       "</g>\n",
       "<!-- 0&#45;&gt;1 -->\n",
       "<g id=\"edge1\" class=\"edge\">\n",
       "<title>0&#45;&gt;1</title>\n",
       "<path fill=\"none\" stroke=\"#000000\" d=\"M133.5413,-18C142.1012,-18 150.8141,-18 159.2342,-18\"/>\n",
       "<polygon fill=\"#000000\" stroke=\"#000000\" points=\"159.3297,-21.5001 169.3297,-18 159.3297,-14.5001 159.3297,-21.5001\"/>\n",
       "</g>\n",
       "<!-- 2 -->\n",
       "<g id=\"node3\" class=\"node\">\n",
       "<title>2</title>\n",
       "<polygon fill=\"none\" stroke=\"#000000\" points=\"396.4378,-36 302.906,-36 302.906,0 396.4378,0 396.4378,-36\"/>\n",
       "<text text-anchor=\"middle\" x=\"349.6719\" y=\"-13.8\" font-family=\"Times,serif\" font-size=\"14.00\" fill=\"#000000\">PassCalcLocs</text>\n",
       "</g>\n",
       "<!-- 1&#45;&gt;2 -->\n",
       "<g id=\"edge2\" class=\"edge\">\n",
       "<title>1&#45;&gt;2</title>\n",
       "<path fill=\"none\" stroke=\"#000000\" d=\"M267.0871,-18C275.3984,-18 284.093,-18 292.5903,-18\"/>\n",
       "<polygon fill=\"#000000\" stroke=\"#000000\" points=\"292.8183,-21.5001 302.8183,-18 292.8183,-14.5001 292.8183,-21.5001\"/>\n",
       "</g>\n",
       "<!-- 3 -->\n",
       "<g id=\"node4\" class=\"node\">\n",
       "<title>3</title>\n",
       "<polygon fill=\"none\" stroke=\"#000000\" points=\"559.9196,-36 432.7659,-36 432.7659,0 559.9196,0 559.9196,-36\"/>\n",
       "<text text-anchor=\"middle\" x=\"496.3428\" y=\"-13.8\" font-family=\"Times,serif\" font-size=\"14.00\" fill=\"#000000\">SpectrumToDbTask</text>\n",
       "</g>\n",
       "<!-- 2&#45;&gt;3 -->\n",
       "<g id=\"edge3\" class=\"edge\">\n",
       "<title>2&#45;&gt;3</title>\n",
       "<path fill=\"none\" stroke=\"#000000\" d=\"M396.4827,-18C404.8277,-18 413.7023,-18 422.5851,-18\"/>\n",
       "<polygon fill=\"#000000\" stroke=\"#000000\" points=\"422.5899,-21.5001 432.5899,-18 422.5898,-14.5001 422.5899,-21.5001\"/>\n",
       "</g>\n",
       "</g>\n",
       "</svg>\n"
      ],
      "text/plain": [
       "<graphviz.dot.Digraph at 0x11065d0f0>"
      ]
     },
     "execution_count": 36,
     "metadata": {},
     "output_type": "execute_result"
    }
   ],
   "source": [
    "wf_to_graph(wf.fws[0])"
   ]
  },
  {
   "cell_type": "code",
   "execution_count": 37,
   "metadata": {},
   "outputs": [
    {
     "ename": "ImportError",
     "evalue": "cannot import name 'QcOutput'",
     "output_type": "error",
     "traceback": [
      "\u001b[0;31m---------------------------------------------------------------------------\u001b[0m",
      "\u001b[0;31mImportError\u001b[0m                               Traceback (most recent call last)",
      "\u001b[0;32m<ipython-input-37-36aff0161bc0>\u001b[0m in \u001b[0;36m<module>\u001b[0;34m()\u001b[0m\n\u001b[1;32m      1\u001b[0m \u001b[0;31m# TODO: double check that this will actually work\u001b[0m\u001b[0;34m\u001b[0m\u001b[0;34m\u001b[0m\u001b[0m\n\u001b[0;32m----> 2\u001b[0;31m \u001b[0;32mfrom\u001b[0m \u001b[0matomate\u001b[0m\u001b[0;34m.\u001b[0m\u001b[0mqchem\u001b[0m\u001b[0;34m.\u001b[0m\u001b[0mworkflows\u001b[0m\u001b[0;34m.\u001b[0m\u001b[0mbase\u001b[0m \u001b[0;32mimport\u001b[0m \u001b[0mdouble_FF_opt\u001b[0m\u001b[0;34m\u001b[0m\u001b[0m\n\u001b[0m",
      "\u001b[0;32m~/PycharmProjects/atomate/atomate/qchem/workflows/base/double_FF_opt.py\u001b[0m in \u001b[0;36m<module>\u001b[0;34m()\u001b[0m\n\u001b[1;32m      8\u001b[0m \u001b[0;34m\u001b[0m\u001b[0m\n\u001b[1;32m      9\u001b[0m \u001b[0;32mfrom\u001b[0m \u001b[0mfireworks\u001b[0m \u001b[0;32mimport\u001b[0m \u001b[0mWorkflow\u001b[0m\u001b[0;34m\u001b[0m\u001b[0m\n\u001b[0;32m---> 10\u001b[0;31m \u001b[0;32mfrom\u001b[0m \u001b[0matomate\u001b[0m\u001b[0;34m.\u001b[0m\u001b[0mqchem\u001b[0m\u001b[0;34m.\u001b[0m\u001b[0mfireworks\u001b[0m\u001b[0;34m.\u001b[0m\u001b[0mcore\u001b[0m \u001b[0;32mimport\u001b[0m \u001b[0mFrequencyFlatteningOptimizeFW\u001b[0m\u001b[0;34m\u001b[0m\u001b[0m\n\u001b[0m\u001b[1;32m     11\u001b[0m \u001b[0;32mfrom\u001b[0m \u001b[0matomate\u001b[0m\u001b[0;34m.\u001b[0m\u001b[0mutils\u001b[0m\u001b[0;34m.\u001b[0m\u001b[0mutils\u001b[0m \u001b[0;32mimport\u001b[0m \u001b[0mget_logger\u001b[0m\u001b[0;34m\u001b[0m\u001b[0m\n\u001b[1;32m     12\u001b[0m \u001b[0;34m\u001b[0m\u001b[0m\n",
      "\u001b[0;32m~/PycharmProjects/atomate/atomate/qchem/fireworks/core.py\u001b[0m in \u001b[0;36m<module>\u001b[0;34m()\u001b[0m\n\u001b[1;32m     12\u001b[0m \u001b[0;34m\u001b[0m\u001b[0m\n\u001b[1;32m     13\u001b[0m \u001b[0;32mfrom\u001b[0m \u001b[0matomate\u001b[0m\u001b[0;34m.\u001b[0m\u001b[0mqchem\u001b[0m\u001b[0;34m.\u001b[0m\u001b[0mfiretasks\u001b[0m\u001b[0;34m.\u001b[0m\u001b[0mparse_outputs\u001b[0m \u001b[0;32mimport\u001b[0m \u001b[0;34m*\u001b[0m\u001b[0;34m\u001b[0m\u001b[0m\n\u001b[0;32m---> 14\u001b[0;31m \u001b[0;32mfrom\u001b[0m \u001b[0matomate\u001b[0m\u001b[0;34m.\u001b[0m\u001b[0mqchem\u001b[0m\u001b[0;34m.\u001b[0m\u001b[0mfiretasks\u001b[0m\u001b[0;34m.\u001b[0m\u001b[0mrun_calc\u001b[0m \u001b[0;32mimport\u001b[0m \u001b[0;34m*\u001b[0m\u001b[0;34m\u001b[0m\u001b[0m\n\u001b[0m\u001b[1;32m     15\u001b[0m \u001b[0;32mfrom\u001b[0m \u001b[0matomate\u001b[0m\u001b[0;34m.\u001b[0m\u001b[0mqchem\u001b[0m\u001b[0;34m.\u001b[0m\u001b[0mfiretasks\u001b[0m\u001b[0;34m.\u001b[0m\u001b[0mwrite_inputs\u001b[0m \u001b[0;32mimport\u001b[0m \u001b[0;34m*\u001b[0m\u001b[0;34m\u001b[0m\u001b[0m\n\u001b[1;32m     16\u001b[0m \u001b[0;34m\u001b[0m\u001b[0m\n",
      "\u001b[0;32m~/PycharmProjects/atomate/atomate/qchem/firetasks/run_calc.py\u001b[0m in \u001b[0;36m<module>\u001b[0;34m()\u001b[0m\n\u001b[1;32m     13\u001b[0m \u001b[0;34m\u001b[0m\u001b[0m\n\u001b[1;32m     14\u001b[0m \u001b[0;32mfrom\u001b[0m \u001b[0mcustodian\u001b[0m \u001b[0;32mimport\u001b[0m \u001b[0mCustodian\u001b[0m\u001b[0;34m\u001b[0m\u001b[0m\n\u001b[0;32m---> 15\u001b[0;31m \u001b[0;32mfrom\u001b[0m \u001b[0mcustodian\u001b[0m\u001b[0;34m.\u001b[0m\u001b[0mqchem\u001b[0m\u001b[0;34m.\u001b[0m\u001b[0mhandlers\u001b[0m \u001b[0;32mimport\u001b[0m \u001b[0mQChemErrorHandler\u001b[0m\u001b[0;34m\u001b[0m\u001b[0m\n\u001b[0m\u001b[1;32m     16\u001b[0m \u001b[0;32mfrom\u001b[0m \u001b[0mcustodian\u001b[0m\u001b[0;34m.\u001b[0m\u001b[0mqchem\u001b[0m\u001b[0;34m.\u001b[0m\u001b[0mjobs\u001b[0m \u001b[0;32mimport\u001b[0m \u001b[0mQCJob\u001b[0m\u001b[0;34m\u001b[0m\u001b[0m\n\u001b[1;32m     17\u001b[0m \u001b[0;34m\u001b[0m\u001b[0m\n",
      "\u001b[0;32m~/anaconda/envs/untitled1/lib/python3.6/site-packages/custodian/qchem/handlers.py\u001b[0m in \u001b[0;36m<module>\u001b[0;34m()\u001b[0m\n\u001b[1;32m     19\u001b[0m \u001b[0;32mimport\u001b[0m \u001b[0mtarfile\u001b[0m\u001b[0;34m\u001b[0m\u001b[0m\n\u001b[1;32m     20\u001b[0m \u001b[0;32mfrom\u001b[0m \u001b[0mpymatgen\u001b[0m\u001b[0;34m.\u001b[0m\u001b[0mcore\u001b[0m\u001b[0;34m.\u001b[0m\u001b[0mstructure\u001b[0m \u001b[0;32mimport\u001b[0m \u001b[0mMolecule\u001b[0m\u001b[0;34m\u001b[0m\u001b[0m\n\u001b[0;32m---> 21\u001b[0;31m \u001b[0;32mfrom\u001b[0m \u001b[0mpymatgen\u001b[0m\u001b[0;34m.\u001b[0m\u001b[0mio\u001b[0m\u001b[0;34m.\u001b[0m\u001b[0mqchem\u001b[0m \u001b[0;32mimport\u001b[0m \u001b[0mQcOutput\u001b[0m\u001b[0;34m,\u001b[0m \u001b[0mQcInput\u001b[0m\u001b[0;34m,\u001b[0m \u001b[0mQcTask\u001b[0m\u001b[0;34m\u001b[0m\u001b[0m\n\u001b[0m\u001b[1;32m     22\u001b[0m \u001b[0;32mfrom\u001b[0m \u001b[0mcustodian\u001b[0m\u001b[0;34m.\u001b[0m\u001b[0mcustodian\u001b[0m \u001b[0;32mimport\u001b[0m \u001b[0mErrorHandler\u001b[0m\u001b[0;34m\u001b[0m\u001b[0m\n\u001b[1;32m     23\u001b[0m \u001b[0;34m\u001b[0m\u001b[0m\n",
      "\u001b[0;31mImportError\u001b[0m: cannot import name 'QcOutput'"
     ]
    }
   ],
   "source": [
    "# TODO: double check that this will actually work\n",
    "from atomate.qchem.workflows.base import double_FF_opt"
   ]
  },
  {
   "cell_type": "markdown",
   "metadata": {},
   "source": [
    "## Analyzing workflow results"
   ]
  },
  {
   "cell_type": "markdown",
   "metadata": {},
   "source": [
    "Our final example for atomate will take a set of tasks from our database and construct a phase diagram."
   ]
  },
  {
   "cell_type": "code",
   "execution_count": null,
   "metadata": {},
   "outputs": [],
   "source": [
    "structures = mpr.get_structures(\"Al-Cr\")\n",
    "structures += mpr.get_structures(\"Al\")\n",
    "structures += mpr.get_structures(\"Cr\")\n",
    "for structure in structures:\n",
    "    wf = get_wf(structure, \"bandstructure.yaml\")\n",
    "    lpad.add_wf(wf)"
   ]
  },
  {
   "cell_type": "code",
   "execution_count": null,
   "metadata": {},
   "outputs": [],
   "source": [
    "from maggma.stores import MongoStore"
   ]
  },
  {
   "cell_type": "code",
   "execution_count": null,
   "metadata": {},
   "outputs": [],
   "source": [
    "tasks = MongoStore(database=\"vasp_db\", collection_name=\"tasks\")"
   ]
  },
  {
   "cell_type": "code",
   "execution_count": null,
   "metadata": {},
   "outputs": [],
   "source": [
    "tasks.connect()"
   ]
  },
  {
   "cell_type": "code",
   "execution_count": null,
   "metadata": {},
   "outputs": [],
   "source": [
    "doc = tasks.query_one(criteria={\"chemsys\": \"Al\"})"
   ]
  },
  {
   "cell_type": "code",
   "execution_count": null,
   "metadata": {},
   "outputs": [],
   "source": [
    "doc.keys()"
   ]
  },
  {
   "cell_type": "code",
   "execution_count": null,
   "metadata": {},
   "outputs": [],
   "source": [
    "doc['chemsys']"
   ]
  },
  {
   "cell_type": "code",
   "execution_count": null,
   "metadata": {},
   "outputs": [],
   "source": [
    "doc = tasks.query_one(criteria={\"chemsys\": \"Al\"}, properties=['output'])"
   ]
  },
  {
   "cell_type": "code",
   "execution_count": null,
   "metadata": {},
   "outputs": [],
   "source": [
    "docs = tasks.query(criteria={\"chemsys\": \"Al-Cr\", \n",
    "                             \"task_label\": \"structure optimization\"},\n",
    "                   properties=['output', 'formula_pretty'])\n",
    "docs"
   ]
  },
  {
   "cell_type": "code",
   "execution_count": null,
   "metadata": {},
   "outputs": [],
   "source": [
    "docs = list(docs)"
   ]
  },
  {
   "cell_type": "code",
   "execution_count": null,
   "metadata": {},
   "outputs": [],
   "source": [
    "[d['formula_pretty'] for d in docs]"
   ]
  },
  {
   "cell_type": "code",
   "execution_count": null,
   "metadata": {},
   "outputs": [],
   "source": [
    "fe_cr_tasks = []\n",
    "for chemsys in ['Al', 'Cr', 'Al-Cr']:\n",
    "    task_list = tasks.query(criteria={\"chemsys\": chemsys,\n",
    "                                      \"task_label\": \"structure optimization\"},\n",
    "                            properties=[\"output\", \"composition_unit_cell\"])\n",
    "    fe_cr_tasks.extend(list(task_list))"
   ]
  },
  {
   "cell_type": "code",
   "execution_count": null,
   "metadata": {},
   "outputs": [],
   "source": [
    "len(fe_cr_tasks)"
   ]
  },
  {
   "cell_type": "code",
   "execution_count": null,
   "metadata": {},
   "outputs": [],
   "source": [
    "from pymatgen.entries.computed_entries import ComputedEntry\n",
    "from pymatgen import Composition"
   ]
  },
  {
   "cell_type": "code",
   "execution_count": null,
   "metadata": {},
   "outputs": [],
   "source": [
    "entries = []\n",
    "for task in fe_cr_tasks:\n",
    "    energy = task['output']['energy']\n",
    "    composition = Composition.from_dict(task['composition_unit_cell'])\n",
    "    entry = ComputedEntry(composition, energy)\n",
    "    entries.append(entry)"
   ]
  },
  {
   "cell_type": "code",
   "execution_count": null,
   "metadata": {},
   "outputs": [],
   "source": [
    "from pymatgen.analysis.phase_diagram import PhaseDiagram, PDPlotter"
   ]
  },
  {
   "cell_type": "code",
   "execution_count": null,
   "metadata": {},
   "outputs": [],
   "source": [
    "pd = PhaseDiagram(entries)"
   ]
  },
  {
   "cell_type": "code",
   "execution_count": null,
   "metadata": {},
   "outputs": [],
   "source": [
    "plotter = PDPlotter(pd)"
   ]
  },
  {
   "cell_type": "code",
   "execution_count": null,
   "metadata": {},
   "outputs": [],
   "source": [
    "plotter.show()"
   ]
  },
  {
   "cell_type": "code",
   "execution_count": null,
   "metadata": {},
   "outputs": [],
   "source": [
    "plotter.show_unstable = True\n",
    "plotter.show()"
   ]
  },
  {
   "cell_type": "code",
   "execution_count": null,
   "metadata": {},
   "outputs": [],
   "source": []
  }
 ],
 "metadata": {
  "kernelspec": {
   "display_name": "Python [conda env:untitled1]",
   "language": "python",
   "name": "conda-env-untitled1-py"
  },
  "language_info": {
   "codemirror_mode": {
    "name": "ipython",
    "version": 3
   },
   "file_extension": ".py",
   "mimetype": "text/x-python",
   "name": "python",
   "nbconvert_exporter": "python",
   "pygments_lexer": "ipython3",
   "version": "3.6.3"
  }
 },
 "nbformat": 4,
 "nbformat_minor": 2
}
