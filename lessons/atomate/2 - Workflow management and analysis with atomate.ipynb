{
 "cells": [
  {
   "cell_type": "markdown",
   "metadata": {},
   "source": [
    "# 2 - Workflow management with atomate"
   ]
  },
  {
   "cell_type": "markdown",
   "metadata": {},
   "source": [
    "In this lesson we cover a few more advanced features of the atomate software package.  More specifically we'll go over an example that includes parents and children, talk more about where you can find preset workflows, and cover a basic example of analyzing workflow-generated materials data."
   ]
  },
  {
   "cell_type": "code",
   "execution_count": 1,
   "metadata": {},
   "outputs": [
    {
     "name": "stdout",
     "output_type": "stream",
     "text": [
      "Echo Test: MP Workshop\n"
     ]
    }
   ],
   "source": [
    "from mp_workshop.atomate import wf_to_graph, use_fake_vasp_workshop\n",
    "from tqdm import tqdm_notebook\n",
    "from pymatgen import MPRester\n",
    "mpr = MPRester()\n"
   ]
  },
  {
   "cell_type": "markdown",
   "metadata": {},
   "source": [
    "## Why use atomate?"
   ]
  },
  {
   "cell_type": "markdown",
   "metadata": {},
   "source": [
    "Just to motivate this lesson a bit more, I'd like to share an example that illustrates the value of atomate.  Let's say you wanted to calculate the bandstructure of every polymorph of SiO$_2$.  Normally, you'd need to get all of the cifs from MP or the ICSD, construct the POSCARs by hand, or use some of your own infrastructure to convert them, run the calculations and manage the directory structure, and aggregate the results in a way that allowed you to analyze them together.  In atomate, this is achieved in a simple, five line snippet:"
   ]
  },
  {
   "cell_type": "code",
   "execution_count": 2,
   "metadata": {},
   "outputs": [
    {
     "ename": "ImportError",
     "evalue": "No module named atomate.vasp.workflows.presets.core",
     "output_type": "error",
     "traceback": [
      "\u001b[0;31m---------------------------------------------------------------------------\u001b[0m",
      "\u001b[0;31mImportError\u001b[0m                               Traceback (most recent call last)",
      "\u001b[0;32m<ipython-input-2-ec5583895f22>\u001b[0m in \u001b[0;36m<module>\u001b[0;34m()\u001b[0m\n\u001b[0;32m----> 1\u001b[0;31m \u001b[0;32mfrom\u001b[0m \u001b[0matomate\u001b[0m\u001b[0;34m.\u001b[0m\u001b[0mvasp\u001b[0m\u001b[0;34m.\u001b[0m\u001b[0mworkflows\u001b[0m\u001b[0;34m.\u001b[0m\u001b[0mpresets\u001b[0m\u001b[0;34m.\u001b[0m\u001b[0mcore\u001b[0m \u001b[0;32mimport\u001b[0m \u001b[0mget_wf\u001b[0m\u001b[0;34m\u001b[0m\u001b[0m\n\u001b[0m\u001b[1;32m      2\u001b[0m \u001b[0;32mfrom\u001b[0m \u001b[0mfireworks\u001b[0m \u001b[0;32mimport\u001b[0m \u001b[0mLaunchPad\u001b[0m\u001b[0;34m\u001b[0m\u001b[0m\n\u001b[1;32m      3\u001b[0m \u001b[0;34m\u001b[0m\u001b[0m\n\u001b[1;32m      4\u001b[0m \u001b[0mlpad\u001b[0m \u001b[0;34m=\u001b[0m \u001b[0mLaunchPad\u001b[0m\u001b[0;34m.\u001b[0m\u001b[0mauto_load\u001b[0m\u001b[0;34m(\u001b[0m\u001b[0;34m)\u001b[0m\u001b[0;34m\u001b[0m\u001b[0m\n\u001b[1;32m      5\u001b[0m \u001b[0mlpad\u001b[0m\u001b[0;34m.\u001b[0m\u001b[0mreset\u001b[0m\u001b[0;34m(\u001b[0m\u001b[0;34m\"\"\u001b[0m\u001b[0;34m,\u001b[0m \u001b[0mrequire_password\u001b[0m\u001b[0;34m=\u001b[0m\u001b[0mFalse\u001b[0m\u001b[0;34m)\u001b[0m\u001b[0;34m\u001b[0m\u001b[0m\n",
      "\u001b[0;31mImportError\u001b[0m: No module named atomate.vasp.workflows.presets.core"
     ]
    }
   ],
   "source": [
    "from atomate.vasp.workflows.presets.core import get_wf\n",
    "from fireworks import LaunchPad\n",
    "\n",
    "lpad = LaunchPad.auto_load()\n",
    "#lpad.reset(\"\", require_password=False)\n",
    "\n",
    "from pymatgen import MPRester\n",
    "mpr = MPRester()\n",
    "\n",
    "structures = mpr.get_structures(\"SiO2\")\n",
    "for structure in tqdm_notebook(structures):\n",
    "    wf = get_wf(structure, \"bandstructure.yaml\")\n",
    "    #lpad.add_wf(wf)"
   ]
  },
  {
   "cell_type": "markdown",
   "metadata": {},
   "source": [
    "This snippet attests to the so-called \"high-throughput\" approach, which has value both because it enables you to aggregate a lot of data quickly in a way that is only possible in computational materials science and because it enables you to examine trends in a large dataset much more quickly, which is typically the most valuable way to use DFT-based simulation."
   ]
  },
  {
   "cell_type": "markdown",
   "metadata": {},
   "source": [
    "Before we move on, let's reset the workflow database."
   ]
  },
  {
   "cell_type": "code",
   "execution_count": 3,
   "metadata": {},
   "outputs": [
    {
     "name": "stdout",
     "output_type": "stream",
     "text": [
      "2018-08-10 05:47:26,087 INFO Performing db tune-up\n",
      "2018-08-10 05:47:26,095 INFO LaunchPad was RESET.\n"
     ]
    }
   ],
   "source": [
    "lpad.reset(password=\"\", require_password=False, max_reset_wo_password=10000)"
   ]
  },
  {
   "cell_type": "markdown",
   "metadata": {},
   "source": [
    "## The elastic tensor: A multi-step preset workflow"
   ]
  },
  {
   "cell_type": "markdown",
   "metadata": {},
   "source": [
    "In addition to enabling \"high-throughput\" functionality, atomate allows you to execute a relatively complex set of instructions using very simple constructions.  Our canonical example of this functionality is contained in the elastic workflow."
   ]
  },
  {
   "cell_type": "code",
   "execution_count": 2,
   "metadata": {},
   "outputs": [
    {
     "data": {
      "text/plain": [
       "Structure Summary\n",
       "Lattice\n",
       "    abc : 5.468727957193058 5.468727957193058 5.468727957193058\n",
       " angles : 90.0 90.0 90.0\n",
       " volume : 163.55316755397953\n",
       "      A : 5.468727957193058 0.0 3.348630094092061e-16\n",
       "      B : -3.348630094092061e-16 5.468727957193058 3.348630094092061e-16\n",
       "      C : 0.0 0.0 5.468727957193058\n",
       "PeriodicSite: Si (1.3672, 1.3672, 1.3672) [0.2500, 0.2500, 0.2500]\n",
       "PeriodicSite: Si (2.7344, 2.7344, 0.0000) [0.5000, 0.5000, 0.0000]\n",
       "PeriodicSite: Si (1.3672, 4.1015, 4.1015) [0.2500, 0.7500, 0.7500]\n",
       "PeriodicSite: Si (2.7344, 0.0000, 2.7344) [0.5000, 0.0000, 0.5000]\n",
       "PeriodicSite: Si (4.1015, 1.3672, 4.1015) [0.7500, 0.2500, 0.7500]\n",
       "PeriodicSite: Si (-0.0000, 2.7344, 2.7344) [0.0000, 0.5000, 0.5000]\n",
       "PeriodicSite: Si (4.1015, 4.1015, 1.3672) [0.7500, 0.7500, 0.2500]\n",
       "PeriodicSite: Si (0.0000, 0.0000, 0.0000) [0.0000, 0.0000, 0.0000]"
      ]
     },
     "execution_count": 2,
     "metadata": {},
     "output_type": "execute_result"
    }
   ],
   "source": [
    "structure = mpr.get_structure_by_material_id(\n",
    "    \"mp-149\", conventional_unit_cell=True)\n",
    "structure"
   ]
  },
  {
   "cell_type": "code",
   "execution_count": 3,
   "metadata": {},
   "outputs": [],
   "source": [
    "from mp_workshop import display_struct"
   ]
  },
  {
   "cell_type": "code",
   "execution_count": 4,
   "metadata": {},
   "outputs": [
    {
     "name": "stderr",
     "output_type": "stream",
     "text": [
      "/Users/lik/repos/workshop/src/crystaltoolkit/crystal_toolkit/core/mpcomponent.py:65: UserWarning:\n",
      "\n",
      "No app defined for component StructureMoleculeComponent, callbacks cannot be created. Please register app using MPComponent.register_app(app).\n",
      "\n",
      "/Users/lik/repos/workshop/src/crystaltoolkit/crystal_toolkit/core/mpcomponent.py:72: UserWarning:\n",
      "\n",
      "No cache is defined for component StructureMoleculeComponent, performance of app may be degraded. Please register cache using MPComponent.register_cache(cache).\n",
      "\n",
      "/Users/lik/miniconda3/envs/mp_workshop/lib/python3.7/site-packages/pymatgen/analysis/local_env.py:3547: UserWarning:\n",
      "\n",
      "CrystalNN: distance cutoffs set but no oxidation states specified on sites! For better results, set the site oxidation states in the structure.\n",
      "\n",
      "/Users/lik/miniconda3/envs/mp_workshop/lib/python3.7/site-packages/pymatgen/analysis/local_env.py:3362: UserWarning:\n",
      "\n",
      "CrystalNN: cannot locate an appropriate radius, covalent or atomic radii will be used, this can lead to non-optimal results.\n",
      "\n"
     ]
    },
    {
     "data": {
      "application/vnd.jupyter.widget-view+json": {
       "model_id": "b57c69772dc043fe8b6b50521b7685ac",
       "version_major": 2,
       "version_minor": 0
      },
      "text/plain": [
       "Renderer(camera=OrthographicCamera(bottom=-9.472114674630733, far=4000.0, left=-9.472114674630733, near=-4000.…"
      ]
     },
     "metadata": {},
     "output_type": "display_data"
    }
   ],
   "source": [
    "display_struct(structure)"
   ]
  },
  {
   "cell_type": "code",
   "execution_count": 5,
   "metadata": {},
   "outputs": [],
   "source": [
    "from atomate.vasp.workflows.presets.core import wf_elastic_constant, wf_elastic_constant_minimal"
   ]
  },
  {
   "cell_type": "code",
   "execution_count": 6,
   "metadata": {},
   "outputs": [],
   "source": [
    "wf = wf_elastic_constant(structure)"
   ]
  },
  {
   "cell_type": "markdown",
   "metadata": {},
   "source": [
    "Here's a rendering of the control flow associated with the firework, which you can see both here and in the fireworks dashboard."
   ]
  },
  {
   "cell_type": "code",
   "execution_count": 7,
   "metadata": {},
   "outputs": [
    {
     "data": {
      "image/svg+xml": [
       "<?xml version=\"1.0\" encoding=\"UTF-8\" standalone=\"no\"?>\n",
       "<!DOCTYPE svg PUBLIC \"-//W3C//DTD SVG 1.1//EN\"\n",
       " \"http://www.w3.org/Graphics/SVG/1.1/DTD/svg11.dtd\">\n",
       "<!-- Generated by graphviz version 2.40.1 (20161225.0304)\n",
       " -->\n",
       "<!-- Title: %3 Pages: 1 -->\n",
       "<svg width=\"567pt\" height=\"1286pt\"\n",
       " viewBox=\"0.00 0.00 566.53 1286.00\" xmlns=\"http://www.w3.org/2000/svg\" xmlns:xlink=\"http://www.w3.org/1999/xlink\">\n",
       "<g id=\"graph0\" class=\"graph\" transform=\"scale(1 1) rotate(0) translate(4 1282)\">\n",
       "<title>%3</title>\n",
       "<polygon fill=\"#ffffff\" stroke=\"transparent\" points=\"-4,4 -4,-1282 562.5254,-1282 562.5254,4 -4,4\"/>\n",
       "<!-- &#45;1 -->\n",
       "<g id=\"node1\" class=\"node\">\n",
       "<title>&#45;1</title>\n",
       "<polygon fill=\"none\" stroke=\"#1f62a2\" points=\"194.7628,-657 .079,-657 .079,-621 194.7628,-621 194.7628,-657\"/>\n",
       "<text text-anchor=\"middle\" x=\"97.4209\" y=\"-634.8\" font-family=\"Times,serif\" font-size=\"14.00\" fill=\"#000000\">Si&#45;elastic structure optimization</text>\n",
       "</g>\n",
       "<!-- &#45;2 -->\n",
       "<g id=\"node2\" class=\"node\">\n",
       "<title>&#45;2</title>\n",
       "<polygon fill=\"none\" stroke=\"#1f62a2\" points=\"384.6189,-1278 234.5822,-1278 234.5822,-1242 384.6189,-1242 384.6189,-1278\"/>\n",
       "<text text-anchor=\"middle\" x=\"309.6006\" y=\"-1255.8\" font-family=\"Times,serif\" font-size=\"14.00\" fill=\"#000000\">Si&#45;elastic deformation 0</text>\n",
       "</g>\n",
       "<!-- &#45;1&#45;&gt;&#45;2 -->\n",
       "<g id=\"edge24\" class=\"edge\">\n",
       "<title>&#45;1&#45;&gt;&#45;2</title>\n",
       "<path fill=\"none\" stroke=\"#000000\" d=\"M99.1451,-657.2943C107.9865,-747.4673 150.9522,-1143.8626 230.8418,-1233 231.5895,-1233.8342 232.364,-1234.6427 233.1632,-1235.4261\"/>\n",
       "<polygon fill=\"#000000\" stroke=\"#000000\" points=\"231.0075,-1238.1848 240.9574,-1241.8248 235.4491,-1232.7744 231.0075,-1238.1848\"/>\n",
       "</g>\n",
       "<!-- &#45;3 -->\n",
       "<g id=\"node3\" class=\"node\">\n",
       "<title>&#45;3</title>\n",
       "<polygon fill=\"none\" stroke=\"#1f62a2\" points=\"384.6189,-1224 234.5822,-1224 234.5822,-1188 384.6189,-1188 384.6189,-1224\"/>\n",
       "<text text-anchor=\"middle\" x=\"309.6006\" y=\"-1201.8\" font-family=\"Times,serif\" font-size=\"14.00\" fill=\"#000000\">Si&#45;elastic deformation 1</text>\n",
       "</g>\n",
       "<!-- &#45;1&#45;&gt;&#45;3 -->\n",
       "<g id=\"edge23\" class=\"edge\">\n",
       "<title>&#45;1&#45;&gt;&#45;3</title>\n",
       "<path fill=\"none\" stroke=\"#000000\" d=\"M99.5544,-657.0298C109.9037,-741.6649 157.3949,-1098.7846 230.8418,-1179 231.6227,-1179.8529 232.4317,-1180.6788 233.2663,-1181.4786\"/>\n",
       "<polygon fill=\"#000000\" stroke=\"#000000\" points=\"231.4079,-1184.4745 241.4005,-1187.9958 235.7849,-1179.0117 231.4079,-1184.4745\"/>\n",
       "</g>\n",
       "<!-- &#45;4 -->\n",
       "<g id=\"node4\" class=\"node\">\n",
       "<title>&#45;4</title>\n",
       "<polygon fill=\"none\" stroke=\"#1f62a2\" points=\"384.6189,-1170 234.5822,-1170 234.5822,-1134 384.6189,-1134 384.6189,-1170\"/>\n",
       "<text text-anchor=\"middle\" x=\"309.6006\" y=\"-1147.8\" font-family=\"Times,serif\" font-size=\"14.00\" fill=\"#000000\">Si&#45;elastic deformation 2</text>\n",
       "</g>\n",
       "<!-- &#45;1&#45;&gt;&#45;4 -->\n",
       "<g id=\"edge22\" class=\"edge\">\n",
       "<title>&#45;1&#45;&gt;&#45;4</title>\n",
       "<path fill=\"none\" stroke=\"#000000\" d=\"M100.0888,-657.0644C112.1476,-736.4721 163.8907,-1053.7398 230.8418,-1125 231.7326,-1125.9481 232.658,-1126.8629 233.6147,-1127.7456\"/>\n",
       "<polygon fill=\"#000000\" stroke=\"#000000\" points=\"231.4646,-1130.5073 241.5006,-1133.903 235.7727,-1124.99 231.4646,-1130.5073\"/>\n",
       "</g>\n",
       "<!-- &#45;5 -->\n",
       "<g id=\"node5\" class=\"node\">\n",
       "<title>&#45;5</title>\n",
       "<polygon fill=\"none\" stroke=\"#1f62a2\" points=\"384.6189,-1116 234.5822,-1116 234.5822,-1080 384.6189,-1080 384.6189,-1116\"/>\n",
       "<text text-anchor=\"middle\" x=\"309.6006\" y=\"-1093.8\" font-family=\"Times,serif\" font-size=\"14.00\" fill=\"#000000\">Si&#45;elastic deformation 3</text>\n",
       "</g>\n",
       "<!-- &#45;1&#45;&gt;&#45;5 -->\n",
       "<g id=\"edge21\" class=\"edge\">\n",
       "<title>&#45;1&#45;&gt;&#45;5</title>\n",
       "<path fill=\"none\" stroke=\"#000000\" d=\"M100.7398,-657.0226C114.6467,-730.7707 170.3215,-1008.5919 230.8418,-1071 231.7474,-1071.9339 232.6868,-1072.8355 233.6563,-1073.7059\"/>\n",
       "<polygon fill=\"#000000\" stroke=\"#000000\" points=\"231.5497,-1076.5011 241.6221,-1079.787 235.7973,-1070.937 231.5497,-1076.5011\"/>\n",
       "</g>\n",
       "<!-- &#45;6 -->\n",
       "<g id=\"node6\" class=\"node\">\n",
       "<title>&#45;6</title>\n",
       "<polygon fill=\"none\" stroke=\"#1f62a2\" points=\"384.6189,-1062 234.5822,-1062 234.5822,-1026 384.6189,-1026 384.6189,-1062\"/>\n",
       "<text text-anchor=\"middle\" x=\"309.6006\" y=\"-1039.8\" font-family=\"Times,serif\" font-size=\"14.00\" fill=\"#000000\">Si&#45;elastic deformation 4</text>\n",
       "</g>\n",
       "<!-- &#45;1&#45;&gt;&#45;6 -->\n",
       "<g id=\"edge20\" class=\"edge\">\n",
       "<title>&#45;1&#45;&gt;&#45;6</title>\n",
       "<path fill=\"none\" stroke=\"#000000\" d=\"M98.4435,-657.2962C102.7949,-717.5535 124.8105,-911.924 230.8418,-1017 231.7947,-1017.9443 232.782,-1018.8557 233.8001,-1019.7352\"/>\n",
       "<polygon fill=\"#000000\" stroke=\"#000000\" points=\"232.0143,-1022.7666 242.1433,-1025.8736 236.1627,-1017.1282 232.0143,-1022.7666\"/>\n",
       "</g>\n",
       "<!-- &#45;7 -->\n",
       "<g id=\"node7\" class=\"node\">\n",
       "<title>&#45;7</title>\n",
       "<polygon fill=\"none\" stroke=\"#1f62a2\" points=\"384.6189,-1008 234.5822,-1008 234.5822,-972 384.6189,-972 384.6189,-1008\"/>\n",
       "<text text-anchor=\"middle\" x=\"309.6006\" y=\"-985.8\" font-family=\"Times,serif\" font-size=\"14.00\" fill=\"#000000\">Si&#45;elastic deformation 5</text>\n",
       "</g>\n",
       "<!-- &#45;1&#45;&gt;&#45;7 -->\n",
       "<g id=\"edge19\" class=\"edge\">\n",
       "<title>&#45;1&#45;&gt;&#45;7</title>\n",
       "<path fill=\"none\" stroke=\"#000000\" d=\"M99.6758,-657.3587C107.3472,-711.964 137.3821,-875.0186 230.8418,-963 231.96,-964.0527 233.1211,-965.0645 234.3196,-966.0371\"/>\n",
       "<polygon fill=\"#000000\" stroke=\"#000000\" points=\"232.5116,-969.0435 242.7135,-971.9021 236.5209,-963.3054 232.5116,-969.0435\"/>\n",
       "</g>\n",
       "<!-- &#45;8 -->\n",
       "<g id=\"node8\" class=\"node\">\n",
       "<title>&#45;8</title>\n",
       "<polygon fill=\"none\" stroke=\"#1f62a2\" points=\"384.6189,-954 234.5822,-954 234.5822,-918 384.6189,-918 384.6189,-954\"/>\n",
       "<text text-anchor=\"middle\" x=\"309.6006\" y=\"-931.8\" font-family=\"Times,serif\" font-size=\"14.00\" fill=\"#000000\">Si&#45;elastic deformation 6</text>\n",
       "</g>\n",
       "<!-- &#45;1&#45;&gt;&#45;8 -->\n",
       "<g id=\"edge18\" class=\"edge\">\n",
       "<title>&#45;1&#45;&gt;&#45;8</title>\n",
       "<path fill=\"none\" stroke=\"#000000\" d=\"M101.2789,-657.0355C112.4876,-705.1149 149.5477,-837.5483 230.8418,-909 232.148,-910.1481 233.5054,-911.2479 234.9063,-912.3014\"/>\n",
       "<polygon fill=\"#000000\" stroke=\"#000000\" points=\"233.0707,-915.2831 243.3515,-917.8433 236.9111,-909.4306 233.0707,-915.2831\"/>\n",
       "</g>\n",
       "<!-- &#45;9 -->\n",
       "<g id=\"node9\" class=\"node\">\n",
       "<title>&#45;9</title>\n",
       "<polygon fill=\"none\" stroke=\"#1f62a2\" points=\"384.6189,-900 234.5822,-900 234.5822,-864 384.6189,-864 384.6189,-900\"/>\n",
       "<text text-anchor=\"middle\" x=\"309.6006\" y=\"-877.8\" font-family=\"Times,serif\" font-size=\"14.00\" fill=\"#000000\">Si&#45;elastic deformation 7</text>\n",
       "</g>\n",
       "<!-- &#45;1&#45;&gt;&#45;9 -->\n",
       "<g id=\"edge17\" class=\"edge\">\n",
       "<title>&#45;1&#45;&gt;&#45;9</title>\n",
       "<path fill=\"none\" stroke=\"#000000\" d=\"M103.7773,-657.2788C119.0577,-698.5927 161.7846,-799.8531 230.8418,-855 232.409,-856.2515 234.0376,-857.4467 235.7165,-858.5879\"/>\n",
       "<polygon fill=\"#000000\" stroke=\"#000000\" points=\"234.1035,-861.702 244.4771,-863.8561 237.711,-855.7031 234.1035,-861.702\"/>\n",
       "</g>\n",
       "<!-- &#45;10 -->\n",
       "<g id=\"node10\" class=\"node\">\n",
       "<title>&#45;10</title>\n",
       "<polygon fill=\"none\" stroke=\"#1f62a2\" points=\"384.6189,-846 234.5822,-846 234.5822,-810 384.6189,-810 384.6189,-846\"/>\n",
       "<text text-anchor=\"middle\" x=\"309.6006\" y=\"-823.8\" font-family=\"Times,serif\" font-size=\"14.00\" fill=\"#000000\">Si&#45;elastic deformation 8</text>\n",
       "</g>\n",
       "<!-- &#45;1&#45;&gt;&#45;10 -->\n",
       "<g id=\"edge16\" class=\"edge\">\n",
       "<title>&#45;1&#45;&gt;&#45;10</title>\n",
       "<path fill=\"none\" stroke=\"#000000\" d=\"M107.6405,-657.1003C127.285,-690.3211 173.494,-761.2548 230.8418,-801 232.9728,-802.4769 235.1919,-803.8794 237.4762,-805.2107\"/>\n",
       "<polygon fill=\"#000000\" stroke=\"#000000\" points=\"236.0836,-808.4331 246.5621,-809.9991 239.3473,-802.2404 236.0836,-808.4331\"/>\n",
       "</g>\n",
       "<!-- &#45;11 -->\n",
       "<g id=\"node11\" class=\"node\">\n",
       "<title>&#45;11</title>\n",
       "<polygon fill=\"none\" stroke=\"#1f62a2\" points=\"384.6189,-792 234.5822,-792 234.5822,-756 384.6189,-756 384.6189,-792\"/>\n",
       "<text text-anchor=\"middle\" x=\"309.6006\" y=\"-769.8\" font-family=\"Times,serif\" font-size=\"14.00\" fill=\"#000000\">Si&#45;elastic deformation 9</text>\n",
       "</g>\n",
       "<!-- &#45;1&#45;&gt;&#45;11 -->\n",
       "<g id=\"edge15\" class=\"edge\">\n",
       "<title>&#45;1&#45;&gt;&#45;11</title>\n",
       "<path fill=\"none\" stroke=\"#000000\" d=\"M115.3346,-657.0114C139.6173,-680.5539 185.2093,-721.7514 230.8418,-747 233.9069,-748.6959 237.0974,-750.3127 240.3623,-751.8501\"/>\n",
       "<polygon fill=\"#000000\" stroke=\"#000000\" points=\"239.155,-755.1429 249.7173,-755.9727 241.9778,-748.7373 239.155,-755.1429\"/>\n",
       "</g>\n",
       "<!-- &#45;12 -->\n",
       "<g id=\"node12\" class=\"node\">\n",
       "<title>&#45;12</title>\n",
       "<polygon fill=\"none\" stroke=\"#1f62a2\" points=\"388.1189,-738 231.0823,-738 231.0823,-702 388.1189,-702 388.1189,-738\"/>\n",
       "<text text-anchor=\"middle\" x=\"309.6006\" y=\"-715.8\" font-family=\"Times,serif\" font-size=\"14.00\" fill=\"#000000\">Si&#45;elastic deformation 10</text>\n",
       "</g>\n",
       "<!-- &#45;1&#45;&gt;&#45;12 -->\n",
       "<g id=\"edge14\" class=\"edge\">\n",
       "<title>&#45;1&#45;&gt;&#45;12</title>\n",
       "<path fill=\"none\" stroke=\"#000000\" d=\"M140.4515,-657.1076C166.4794,-667.8871 200.4096,-681.6347 230.8418,-693 235.7102,-694.8182 240.7646,-696.6582 245.8567,-698.4781\"/>\n",
       "<polygon fill=\"#000000\" stroke=\"#000000\" points=\"245.0619,-701.9093 255.6567,-701.9419 247.3947,-695.3094 245.0619,-701.9093\"/>\n",
       "</g>\n",
       "<!-- &#45;13 -->\n",
       "<g id=\"node13\" class=\"node\">\n",
       "<title>&#45;13</title>\n",
       "<polygon fill=\"none\" stroke=\"#1f62a2\" points=\"388.1055,-684 231.0957,-684 231.0957,-648 388.1055,-648 388.1055,-684\"/>\n",
       "<text text-anchor=\"middle\" x=\"309.6006\" y=\"-661.8\" font-family=\"Times,serif\" font-size=\"14.00\" fill=\"#000000\">Si&#45;elastic deformation 11</text>\n",
       "</g>\n",
       "<!-- &#45;1&#45;&gt;&#45;13 -->\n",
       "<g id=\"edge13\" class=\"edge\">\n",
       "<title>&#45;1&#45;&gt;&#45;13</title>\n",
       "<path fill=\"none\" stroke=\"#000000\" d=\"M194.8167,-651.3937C203.5083,-652.4997 212.2782,-653.6157 220.891,-654.7116\"/>\n",
       "<polygon fill=\"#000000\" stroke=\"#000000\" points=\"220.5536,-658.1969 230.9154,-655.9873 221.4373,-651.2528 220.5536,-658.1969\"/>\n",
       "</g>\n",
       "<!-- &#45;14 -->\n",
       "<g id=\"node14\" class=\"node\">\n",
       "<title>&#45;14</title>\n",
       "<polygon fill=\"none\" stroke=\"#1f62a2\" points=\"388.1189,-630 231.0823,-630 231.0823,-594 388.1189,-594 388.1189,-630\"/>\n",
       "<text text-anchor=\"middle\" x=\"309.6006\" y=\"-607.8\" font-family=\"Times,serif\" font-size=\"14.00\" fill=\"#000000\">Si&#45;elastic deformation 12</text>\n",
       "</g>\n",
       "<!-- &#45;1&#45;&gt;&#45;14 -->\n",
       "<g id=\"edge12\" class=\"edge\">\n",
       "<title>&#45;1&#45;&gt;&#45;14</title>\n",
       "<path fill=\"none\" stroke=\"#000000\" d=\"M194.8167,-626.6063C203.5083,-625.5003 212.2782,-624.3843 220.891,-623.2884\"/>\n",
       "<polygon fill=\"#000000\" stroke=\"#000000\" points=\"221.4373,-626.7472 230.9154,-622.0127 220.5536,-619.8031 221.4373,-626.7472\"/>\n",
       "</g>\n",
       "<!-- &#45;15 -->\n",
       "<g id=\"node15\" class=\"node\">\n",
       "<title>&#45;15</title>\n",
       "<polygon fill=\"none\" stroke=\"#1f62a2\" points=\"388.1189,-576 231.0823,-576 231.0823,-540 388.1189,-540 388.1189,-576\"/>\n",
       "<text text-anchor=\"middle\" x=\"309.6006\" y=\"-553.8\" font-family=\"Times,serif\" font-size=\"14.00\" fill=\"#000000\">Si&#45;elastic deformation 13</text>\n",
       "</g>\n",
       "<!-- &#45;1&#45;&gt;&#45;15 -->\n",
       "<g id=\"edge11\" class=\"edge\">\n",
       "<title>&#45;1&#45;&gt;&#45;15</title>\n",
       "<path fill=\"none\" stroke=\"#000000\" d=\"M140.4515,-620.8924C166.4794,-610.1129 200.4096,-596.3653 230.8418,-585 235.7102,-583.1818 240.7646,-581.3418 245.8567,-579.5219\"/>\n",
       "<polygon fill=\"#000000\" stroke=\"#000000\" points=\"247.3947,-582.6906 255.6567,-576.0581 245.0619,-576.0907 247.3947,-582.6906\"/>\n",
       "</g>\n",
       "<!-- &#45;16 -->\n",
       "<g id=\"node16\" class=\"node\">\n",
       "<title>&#45;16</title>\n",
       "<polygon fill=\"none\" stroke=\"#1f62a2\" points=\"388.1189,-522 231.0823,-522 231.0823,-486 388.1189,-486 388.1189,-522\"/>\n",
       "<text text-anchor=\"middle\" x=\"309.6006\" y=\"-499.8\" font-family=\"Times,serif\" font-size=\"14.00\" fill=\"#000000\">Si&#45;elastic deformation 14</text>\n",
       "</g>\n",
       "<!-- &#45;1&#45;&gt;&#45;16 -->\n",
       "<g id=\"edge10\" class=\"edge\">\n",
       "<title>&#45;1&#45;&gt;&#45;16</title>\n",
       "<path fill=\"none\" stroke=\"#000000\" d=\"M115.3346,-620.9886C139.6173,-597.4461 185.2093,-556.2486 230.8418,-531 233.9069,-529.3041 237.0974,-527.6873 240.3623,-526.1499\"/>\n",
       "<polygon fill=\"#000000\" stroke=\"#000000\" points=\"241.9778,-529.2627 249.7173,-522.0273 239.155,-522.8571 241.9778,-529.2627\"/>\n",
       "</g>\n",
       "<!-- &#45;17 -->\n",
       "<g id=\"node17\" class=\"node\">\n",
       "<title>&#45;17</title>\n",
       "<polygon fill=\"none\" stroke=\"#1f62a2\" points=\"388.1189,-468 231.0823,-468 231.0823,-432 388.1189,-432 388.1189,-468\"/>\n",
       "<text text-anchor=\"middle\" x=\"309.6006\" y=\"-445.8\" font-family=\"Times,serif\" font-size=\"14.00\" fill=\"#000000\">Si&#45;elastic deformation 15</text>\n",
       "</g>\n",
       "<!-- &#45;1&#45;&gt;&#45;17 -->\n",
       "<g id=\"edge9\" class=\"edge\">\n",
       "<title>&#45;1&#45;&gt;&#45;17</title>\n",
       "<path fill=\"none\" stroke=\"#000000\" d=\"M107.6405,-620.8997C127.285,-587.6789 173.494,-516.7452 230.8418,-477 232.9728,-475.5231 235.1919,-474.1206 237.4762,-472.7893\"/>\n",
       "<polygon fill=\"#000000\" stroke=\"#000000\" points=\"239.3473,-475.7596 246.5621,-468.0009 236.0836,-469.5669 239.3473,-475.7596\"/>\n",
       "</g>\n",
       "<!-- &#45;18 -->\n",
       "<g id=\"node18\" class=\"node\">\n",
       "<title>&#45;18</title>\n",
       "<polygon fill=\"none\" stroke=\"#1f62a2\" points=\"388.1189,-414 231.0823,-414 231.0823,-378 388.1189,-378 388.1189,-414\"/>\n",
       "<text text-anchor=\"middle\" x=\"309.6006\" y=\"-391.8\" font-family=\"Times,serif\" font-size=\"14.00\" fill=\"#000000\">Si&#45;elastic deformation 16</text>\n",
       "</g>\n",
       "<!-- &#45;1&#45;&gt;&#45;18 -->\n",
       "<g id=\"edge8\" class=\"edge\">\n",
       "<title>&#45;1&#45;&gt;&#45;18</title>\n",
       "<path fill=\"none\" stroke=\"#000000\" d=\"M103.7773,-620.7212C119.0577,-579.4073 161.7846,-478.1469 230.8418,-423 232.409,-421.7485 234.0376,-420.5533 235.7165,-419.4121\"/>\n",
       "<polygon fill=\"#000000\" stroke=\"#000000\" points=\"237.711,-422.2969 244.4771,-414.1439 234.1035,-416.298 237.711,-422.2969\"/>\n",
       "</g>\n",
       "<!-- &#45;19 -->\n",
       "<g id=\"node19\" class=\"node\">\n",
       "<title>&#45;19</title>\n",
       "<polygon fill=\"none\" stroke=\"#1f62a2\" points=\"388.1189,-360 231.0823,-360 231.0823,-324 388.1189,-324 388.1189,-360\"/>\n",
       "<text text-anchor=\"middle\" x=\"309.6006\" y=\"-337.8\" font-family=\"Times,serif\" font-size=\"14.00\" fill=\"#000000\">Si&#45;elastic deformation 17</text>\n",
       "</g>\n",
       "<!-- &#45;1&#45;&gt;&#45;19 -->\n",
       "<g id=\"edge7\" class=\"edge\">\n",
       "<title>&#45;1&#45;&gt;&#45;19</title>\n",
       "<path fill=\"none\" stroke=\"#000000\" d=\"M101.2789,-620.9645C112.4876,-572.8851 149.5477,-440.4517 230.8418,-369 232.148,-367.8519 233.5054,-366.7521 234.9063,-365.6986\"/>\n",
       "<polygon fill=\"#000000\" stroke=\"#000000\" points=\"236.9111,-368.5694 243.3515,-360.1567 233.0707,-362.7169 236.9111,-368.5694\"/>\n",
       "</g>\n",
       "<!-- &#45;20 -->\n",
       "<g id=\"node20\" class=\"node\">\n",
       "<title>&#45;20</title>\n",
       "<polygon fill=\"none\" stroke=\"#1f62a2\" points=\"388.1189,-306 231.0823,-306 231.0823,-270 388.1189,-270 388.1189,-306\"/>\n",
       "<text text-anchor=\"middle\" x=\"309.6006\" y=\"-283.8\" font-family=\"Times,serif\" font-size=\"14.00\" fill=\"#000000\">Si&#45;elastic deformation 18</text>\n",
       "</g>\n",
       "<!-- &#45;1&#45;&gt;&#45;20 -->\n",
       "<g id=\"edge6\" class=\"edge\">\n",
       "<title>&#45;1&#45;&gt;&#45;20</title>\n",
       "<path fill=\"none\" stroke=\"#000000\" d=\"M99.6758,-620.6413C107.3472,-566.036 137.3821,-402.9814 230.8418,-315 231.96,-313.9473 233.1211,-312.9355 234.3196,-311.9629\"/>\n",
       "<polygon fill=\"#000000\" stroke=\"#000000\" points=\"236.5209,-314.6946 242.7135,-306.0979 232.5116,-308.9565 236.5209,-314.6946\"/>\n",
       "</g>\n",
       "<!-- &#45;21 -->\n",
       "<g id=\"node21\" class=\"node\">\n",
       "<title>&#45;21</title>\n",
       "<polygon fill=\"none\" stroke=\"#1f62a2\" points=\"388.1189,-252 231.0823,-252 231.0823,-216 388.1189,-216 388.1189,-252\"/>\n",
       "<text text-anchor=\"middle\" x=\"309.6006\" y=\"-229.8\" font-family=\"Times,serif\" font-size=\"14.00\" fill=\"#000000\">Si&#45;elastic deformation 19</text>\n",
       "</g>\n",
       "<!-- &#45;1&#45;&gt;&#45;21 -->\n",
       "<g id=\"edge5\" class=\"edge\">\n",
       "<title>&#45;1&#45;&gt;&#45;21</title>\n",
       "<path fill=\"none\" stroke=\"#000000\" d=\"M98.4435,-620.7038C102.7949,-560.4465 124.8105,-366.076 230.8418,-261 231.7947,-260.0557 232.782,-259.1443 233.8001,-258.2648\"/>\n",
       "<polygon fill=\"#000000\" stroke=\"#000000\" points=\"236.1627,-260.8718 242.1433,-252.1264 232.0143,-255.2334 236.1627,-260.8718\"/>\n",
       "</g>\n",
       "<!-- &#45;22 -->\n",
       "<g id=\"node22\" class=\"node\">\n",
       "<title>&#45;22</title>\n",
       "<polygon fill=\"none\" stroke=\"#1f62a2\" points=\"388.1189,-198 231.0823,-198 231.0823,-162 388.1189,-162 388.1189,-198\"/>\n",
       "<text text-anchor=\"middle\" x=\"309.6006\" y=\"-175.8\" font-family=\"Times,serif\" font-size=\"14.00\" fill=\"#000000\">Si&#45;elastic deformation 20</text>\n",
       "</g>\n",
       "<!-- &#45;1&#45;&gt;&#45;22 -->\n",
       "<g id=\"edge4\" class=\"edge\">\n",
       "<title>&#45;1&#45;&gt;&#45;22</title>\n",
       "<path fill=\"none\" stroke=\"#000000\" d=\"M100.7398,-620.9774C114.6467,-547.2293 170.3215,-269.4081 230.8418,-207 231.7474,-206.0661 232.6868,-205.1645 233.6563,-204.2941\"/>\n",
       "<polygon fill=\"#000000\" stroke=\"#000000\" points=\"235.7973,-207.063 241.6221,-198.213 231.5497,-201.4989 235.7973,-207.063\"/>\n",
       "</g>\n",
       "<!-- &#45;23 -->\n",
       "<g id=\"node23\" class=\"node\">\n",
       "<title>&#45;23</title>\n",
       "<polygon fill=\"none\" stroke=\"#1f62a2\" points=\"388.1189,-144 231.0823,-144 231.0823,-108 388.1189,-108 388.1189,-144\"/>\n",
       "<text text-anchor=\"middle\" x=\"309.6006\" y=\"-121.8\" font-family=\"Times,serif\" font-size=\"14.00\" fill=\"#000000\">Si&#45;elastic deformation 21</text>\n",
       "</g>\n",
       "<!-- &#45;1&#45;&gt;&#45;23 -->\n",
       "<g id=\"edge3\" class=\"edge\">\n",
       "<title>&#45;1&#45;&gt;&#45;23</title>\n",
       "<path fill=\"none\" stroke=\"#000000\" d=\"M100.0888,-620.9356C112.1476,-541.5279 163.8907,-224.2602 230.8418,-153 231.7326,-152.0519 232.658,-151.1371 233.6147,-150.2544\"/>\n",
       "<polygon fill=\"#000000\" stroke=\"#000000\" points=\"235.7727,-153.01 241.5006,-144.097 231.4646,-147.4927 235.7727,-153.01\"/>\n",
       "</g>\n",
       "<!-- &#45;24 -->\n",
       "<g id=\"node24\" class=\"node\">\n",
       "<title>&#45;24</title>\n",
       "<polygon fill=\"none\" stroke=\"#1f62a2\" points=\"388.1189,-90 231.0823,-90 231.0823,-54 388.1189,-54 388.1189,-90\"/>\n",
       "<text text-anchor=\"middle\" x=\"309.6006\" y=\"-67.8\" font-family=\"Times,serif\" font-size=\"14.00\" fill=\"#000000\">Si&#45;elastic deformation 22</text>\n",
       "</g>\n",
       "<!-- &#45;1&#45;&gt;&#45;24 -->\n",
       "<g id=\"edge2\" class=\"edge\">\n",
       "<title>&#45;1&#45;&gt;&#45;24</title>\n",
       "<path fill=\"none\" stroke=\"#000000\" d=\"M99.5544,-620.9702C109.9037,-536.3351 157.3949,-179.2154 230.8418,-99 231.6227,-98.1471 232.4317,-97.3212 233.2663,-96.5214\"/>\n",
       "<polygon fill=\"#000000\" stroke=\"#000000\" points=\"235.7849,-98.9883 241.4005,-90.0042 231.4079,-93.5255 235.7849,-98.9883\"/>\n",
       "</g>\n",
       "<!-- &#45;25 -->\n",
       "<g id=\"node25\" class=\"node\">\n",
       "<title>&#45;25</title>\n",
       "<polygon fill=\"none\" stroke=\"#1f62a2\" points=\"388.1189,-36 231.0823,-36 231.0823,0 388.1189,0 388.1189,-36\"/>\n",
       "<text text-anchor=\"middle\" x=\"309.6006\" y=\"-13.8\" font-family=\"Times,serif\" font-size=\"14.00\" fill=\"#000000\">Si&#45;elastic deformation 23</text>\n",
       "</g>\n",
       "<!-- &#45;1&#45;&gt;&#45;25 -->\n",
       "<g id=\"edge1\" class=\"edge\">\n",
       "<title>&#45;1&#45;&gt;&#45;25</title>\n",
       "<path fill=\"none\" stroke=\"#000000\" d=\"M99.1451,-620.7057C107.9865,-530.5327 150.9522,-134.1374 230.8418,-45 231.5895,-44.1658 232.364,-43.3573 233.1632,-42.5739\"/>\n",
       "<polygon fill=\"#000000\" stroke=\"#000000\" points=\"235.4491,-45.2256 240.9574,-36.1752 231.0075,-39.8152 235.4491,-45.2256\"/>\n",
       "</g>\n",
       "<!-- &#45;26 -->\n",
       "<g id=\"node26\" class=\"node\">\n",
       "<title>&#45;26</title>\n",
       "<polygon fill=\"none\" stroke=\"#1f62a2\" points=\"558.6085,-657 424.2763,-657 424.2763,-621 558.6085,-621 558.6085,-657\"/>\n",
       "<text text-anchor=\"middle\" x=\"491.4424\" y=\"-634.8\" font-family=\"Times,serif\" font-size=\"14.00\" fill=\"#000000\">Analyze Elastic Data</text>\n",
       "</g>\n",
       "<!-- &#45;2&#45;&gt;&#45;26 -->\n",
       "<g id=\"edge25\" class=\"edge\">\n",
       "<title>&#45;2&#45;&gt;&#45;26</title>\n",
       "<path fill=\"none\" stroke=\"#000000\" d=\"M378.4357,-1241.9926C382.0931,-1239.3888 385.4516,-1236.4093 388.3594,-1233 462.6513,-1145.896 485.2471,-773.9109 490.2492,-667.5249\"/>\n",
       "<polygon fill=\"#000000\" stroke=\"#000000\" points=\"493.7583,-667.401 490.7156,-657.2525 486.7655,-667.0834 493.7583,-667.401\"/>\n",
       "</g>\n",
       "<!-- &#45;3&#45;&gt;&#45;26 -->\n",
       "<g id=\"edge26\" class=\"edge\">\n",
       "<title>&#45;3&#45;&gt;&#45;26</title>\n",
       "<path fill=\"none\" stroke=\"#000000\" d=\"M378.3696,-1187.9358C382.0429,-1185.3457 385.423,-1182.3847 388.3594,-1179 456.1786,-1100.8242 483.0706,-767.5644 489.707,-667.5126\"/>\n",
       "<polygon fill=\"#000000\" stroke=\"#000000\" points=\"493.2167,-667.4744 490.369,-657.2695 486.2312,-667.0229 493.2167,-667.4744\"/>\n",
       "</g>\n",
       "<!-- &#45;4&#45;&gt;&#45;26 -->\n",
       "<g id=\"edge27\" class=\"edge\">\n",
       "<title>&#45;4&#45;&gt;&#45;26</title>\n",
       "<path fill=\"none\" stroke=\"#000000\" d=\"M378.29,-1133.866C381.9826,-1131.2928 385.3887,-1128.3546 388.3594,-1125 449.8265,-1055.5882 480.754,-760.0048 489.0858,-667.079\"/>\n",
       "<polygon fill=\"#000000\" stroke=\"#000000\" points=\"492.5808,-667.2889 489.9697,-657.0209 485.6077,-666.6761 492.5808,-667.2889\"/>\n",
       "</g>\n",
       "<!-- &#45;5&#45;&gt;&#45;26 -->\n",
       "<g id=\"edge28\" class=\"edge\">\n",
       "<title>&#45;5&#45;&gt;&#45;26</title>\n",
       "<path fill=\"none\" stroke=\"#000000\" d=\"M378.1925,-1079.7786C381.9086,-1077.2264 385.3466,-1074.3169 388.3594,-1071 443.3577,-1010.4496 478.0001,-753.5169 488.2492,-667.3226\"/>\n",
       "<polygon fill=\"#000000\" stroke=\"#000000\" points=\"491.7443,-667.5677 489.4301,-657.2288 484.7917,-666.7543 491.7443,-667.5677\"/>\n",
       "</g>\n",
       "<!-- &#45;6&#45;&gt;&#45;26 -->\n",
       "<g id=\"edge29\" class=\"edge\">\n",
       "<title>&#45;6&#45;&gt;&#45;26</title>\n",
       "<path fill=\"none\" stroke=\"#000000\" d=\"M377.7071,-1025.9092C381.5912,-1023.3259 385.195,-1020.3737 388.3594,-1017 437.0253,-965.1138 474.9807,-745.6785 487.2403,-667.1194\"/>\n",
       "<polygon fill=\"#000000\" stroke=\"#000000\" points=\"490.7355,-667.4176 488.7981,-657.0014 483.8171,-666.3524 490.7355,-667.4176\"/>\n",
       "</g>\n",
       "<!-- &#45;7&#45;&gt;&#45;26 -->\n",
       "<g id=\"edge30\" class=\"edge\">\n",
       "<title>&#45;7&#45;&gt;&#45;26</title>\n",
       "<path fill=\"none\" stroke=\"#000000\" d=\"M377.1783,-971.9933C381.2401,-969.3898 385.0242,-966.4102 388.3594,-963 430.6593,-919.749 471.3082,-738.0399 485.8311,-667.3264\"/>\n",
       "<polygon fill=\"#000000\" stroke=\"#000000\" points=\"489.2974,-667.844 487.8579,-657.3475 482.4374,-666.4507 489.2974,-667.844\"/>\n",
       "</g>\n",
       "<!-- &#45;8&#45;&gt;&#45;26 -->\n",
       "<g id=\"edge31\" class=\"edge\">\n",
       "<title>&#45;8&#45;&gt;&#45;26</title>\n",
       "<path fill=\"none\" stroke=\"#000000\" d=\"M376.9614,-917.775C381.0741,-915.2228 384.9289,-912.3143 388.3594,-909 458.2176,-841.5076 481.3695,-721.6873 488.5058,-667.2799\"/>\n",
       "<polygon fill=\"#000000\" stroke=\"#000000\" points=\"491.9856,-667.6571 489.7286,-657.3055 485.0377,-666.8052 491.9856,-667.6571\"/>\n",
       "</g>\n",
       "<!-- &#45;9&#45;&gt;&#45;26 -->\n",
       "<g id=\"edge32\" class=\"edge\">\n",
       "<title>&#45;9&#45;&gt;&#45;26</title>\n",
       "<path fill=\"none\" stroke=\"#000000\" d=\"M375.9009,-863.9012C380.366,-861.316 384.5824,-858.3658 388.3594,-855 446.0625,-803.5788 474.334,-712.8453 485.4796,-667.0765\"/>\n",
       "<polygon fill=\"#000000\" stroke=\"#000000\" points=\"488.911,-667.7735 487.7782,-657.2394 482.0946,-666.1806 488.911,-667.7735\"/>\n",
       "</g>\n",
       "<!-- &#45;10&#45;&gt;&#45;26 -->\n",
       "<g id=\"edge33\" class=\"edge\">\n",
       "<title>&#45;10&#45;&gt;&#45;26</title>\n",
       "<path fill=\"none\" stroke=\"#000000\" d=\"M374.6753,-809.7946C379.5259,-807.2261 384.158,-804.3093 388.3594,-801 434.1992,-764.8929 465.5464,-702.4233 480.7885,-666.5236\"/>\n",
       "<polygon fill=\"#000000\" stroke=\"#000000\" points=\"484.0788,-667.7256 484.6591,-657.1466 477.6083,-665.0546 484.0788,-667.7256\"/>\n",
       "</g>\n",
       "<!-- &#45;11&#45;&gt;&#45;26 -->\n",
       "<g id=\"edge34\" class=\"edge\">\n",
       "<title>&#45;11&#45;&gt;&#45;26</title>\n",
       "<path fill=\"none\" stroke=\"#000000\" d=\"M371.5684,-755.9895C377.4267,-753.3386 383.1248,-750.3513 388.3594,-747 422.5317,-725.1219 453.4571,-689.6164 472.3286,-665.3305\"/>\n",
       "<polygon fill=\"#000000\" stroke=\"#000000\" points=\"475.2096,-667.3243 478.4865,-657.2489 469.6418,-663.0817 475.2096,-667.3243\"/>\n",
       "</g>\n",
       "<!-- &#45;12&#45;&gt;&#45;26 -->\n",
       "<g id=\"edge35\" class=\"edge\">\n",
       "<title>&#45;12&#45;&gt;&#45;26</title>\n",
       "<path fill=\"none\" stroke=\"#000000\" d=\"M365.9328,-701.8607C373.5404,-699.0708 381.1897,-696.0856 388.3594,-693 409.5702,-683.8717 432.3892,-672.1302 451.1523,-661.9286\"/>\n",
       "<polygon fill=\"#000000\" stroke=\"#000000\" points=\"452.9324,-664.9441 460.0126,-657.0625 449.5627,-658.8086 452.9324,-664.9441\"/>\n",
       "</g>\n",
       "<!-- &#45;13&#45;&gt;&#45;26 -->\n",
       "<g id=\"edge36\" class=\"edge\">\n",
       "<title>&#45;13&#45;&gt;&#45;26</title>\n",
       "<path fill=\"none\" stroke=\"#000000\" d=\"M388.3014,-654.3144C396.9252,-653.034 405.6983,-651.7313 414.3029,-650.4537\"/>\n",
       "<polygon fill=\"#000000\" stroke=\"#000000\" points=\"414.9299,-653.8991 424.3073,-648.9683 413.9017,-646.975 414.9299,-653.8991\"/>\n",
       "</g>\n",
       "<!-- &#45;14&#45;&gt;&#45;26 -->\n",
       "<g id=\"edge37\" class=\"edge\">\n",
       "<title>&#45;14&#45;&gt;&#45;26</title>\n",
       "<path fill=\"none\" stroke=\"#000000\" d=\"M388.3014,-623.6856C396.9252,-624.966 405.6983,-626.2687 414.3029,-627.5463\"/>\n",
       "<polygon fill=\"#000000\" stroke=\"#000000\" points=\"413.9017,-631.025 424.3073,-629.0317 414.9299,-624.1009 413.9017,-631.025\"/>\n",
       "</g>\n",
       "<!-- &#45;15&#45;&gt;&#45;26 -->\n",
       "<g id=\"edge38\" class=\"edge\">\n",
       "<title>&#45;15&#45;&gt;&#45;26</title>\n",
       "<path fill=\"none\" stroke=\"#000000\" d=\"M365.9328,-576.1393C373.5404,-578.9292 381.1897,-581.9144 388.3594,-585 409.5702,-594.1283 432.3892,-605.8698 451.1523,-616.0714\"/>\n",
       "<polygon fill=\"#000000\" stroke=\"#000000\" points=\"449.5627,-619.1914 460.0126,-620.9375 452.9324,-613.0559 449.5627,-619.1914\"/>\n",
       "</g>\n",
       "<!-- &#45;16&#45;&gt;&#45;26 -->\n",
       "<g id=\"edge39\" class=\"edge\">\n",
       "<title>&#45;16&#45;&gt;&#45;26</title>\n",
       "<path fill=\"none\" stroke=\"#000000\" d=\"M371.5684,-522.0105C377.4267,-524.6614 383.1248,-527.6487 388.3594,-531 422.5317,-552.8781 453.4571,-588.3836 472.3286,-612.6695\"/>\n",
       "<polygon fill=\"#000000\" stroke=\"#000000\" points=\"469.6418,-614.9183 478.4865,-620.7511 475.2096,-610.6757 469.6418,-614.9183\"/>\n",
       "</g>\n",
       "<!-- &#45;17&#45;&gt;&#45;26 -->\n",
       "<g id=\"edge40\" class=\"edge\">\n",
       "<title>&#45;17&#45;&gt;&#45;26</title>\n",
       "<path fill=\"none\" stroke=\"#000000\" d=\"M374.6753,-468.2054C379.5259,-470.7739 384.158,-473.6907 388.3594,-477 434.1992,-513.1071 465.5464,-575.5767 480.7885,-611.4764\"/>\n",
       "<polygon fill=\"#000000\" stroke=\"#000000\" points=\"477.6083,-612.9454 484.6591,-620.8534 484.0788,-610.2744 477.6083,-612.9454\"/>\n",
       "</g>\n",
       "<!-- &#45;18&#45;&gt;&#45;26 -->\n",
       "<g id=\"edge41\" class=\"edge\">\n",
       "<title>&#45;18&#45;&gt;&#45;26</title>\n",
       "<path fill=\"none\" stroke=\"#000000\" d=\"M375.9009,-414.0988C380.366,-416.684 384.5824,-419.6342 388.3594,-423 446.0625,-474.4212 474.334,-565.1547 485.4796,-610.9235\"/>\n",
       "<polygon fill=\"#000000\" stroke=\"#000000\" points=\"482.0946,-611.8194 487.7782,-620.7606 488.911,-610.2265 482.0946,-611.8194\"/>\n",
       "</g>\n",
       "<!-- &#45;19&#45;&gt;&#45;26 -->\n",
       "<g id=\"edge42\" class=\"edge\">\n",
       "<title>&#45;19&#45;&gt;&#45;26</title>\n",
       "<path fill=\"none\" stroke=\"#000000\" d=\"M376.9614,-360.225C381.0741,-362.7772 384.9289,-365.6857 388.3594,-369 458.2176,-436.4924 481.3695,-556.3127 488.5058,-610.7201\"/>\n",
       "<polygon fill=\"#000000\" stroke=\"#000000\" points=\"485.0377,-611.1948 489.7286,-620.6945 491.9856,-610.3429 485.0377,-611.1948\"/>\n",
       "</g>\n",
       "<!-- &#45;20&#45;&gt;&#45;26 -->\n",
       "<g id=\"edge43\" class=\"edge\">\n",
       "<title>&#45;20&#45;&gt;&#45;26</title>\n",
       "<path fill=\"none\" stroke=\"#000000\" d=\"M377.1783,-306.0067C381.2401,-308.6102 385.0242,-311.5898 388.3594,-315 430.6593,-358.251 471.3082,-539.9601 485.8311,-610.6736\"/>\n",
       "<polygon fill=\"#000000\" stroke=\"#000000\" points=\"482.4374,-611.5493 487.8579,-620.6525 489.2974,-610.156 482.4374,-611.5493\"/>\n",
       "</g>\n",
       "<!-- &#45;21&#45;&gt;&#45;26 -->\n",
       "<g id=\"edge44\" class=\"edge\">\n",
       "<title>&#45;21&#45;&gt;&#45;26</title>\n",
       "<path fill=\"none\" stroke=\"#000000\" d=\"M377.7071,-252.0908C381.5912,-254.6741 385.195,-257.6263 388.3594,-261 437.0253,-312.8862 474.9807,-532.3215 487.2403,-610.8806\"/>\n",
       "<polygon fill=\"#000000\" stroke=\"#000000\" points=\"483.8171,-611.6476 488.7981,-620.9986 490.7355,-610.5824 483.8171,-611.6476\"/>\n",
       "</g>\n",
       "<!-- &#45;22&#45;&gt;&#45;26 -->\n",
       "<g id=\"edge45\" class=\"edge\">\n",
       "<title>&#45;22&#45;&gt;&#45;26</title>\n",
       "<path fill=\"none\" stroke=\"#000000\" d=\"M378.1925,-198.2214C381.9086,-200.7736 385.3466,-203.6831 388.3594,-207 443.3577,-267.5504 478.0001,-524.4831 488.2492,-610.6774\"/>\n",
       "<polygon fill=\"#000000\" stroke=\"#000000\" points=\"484.7917,-611.2457 489.4301,-620.7712 491.7443,-610.4323 484.7917,-611.2457\"/>\n",
       "</g>\n",
       "<!-- &#45;23&#45;&gt;&#45;26 -->\n",
       "<g id=\"edge46\" class=\"edge\">\n",
       "<title>&#45;23&#45;&gt;&#45;26</title>\n",
       "<path fill=\"none\" stroke=\"#000000\" d=\"M378.29,-144.134C381.9826,-146.7072 385.3887,-149.6454 388.3594,-153 449.8265,-222.4118 480.754,-517.9952 489.0858,-610.921\"/>\n",
       "<polygon fill=\"#000000\" stroke=\"#000000\" points=\"485.6077,-611.3239 489.9697,-620.9791 492.5808,-610.7111 485.6077,-611.3239\"/>\n",
       "</g>\n",
       "<!-- &#45;24&#45;&gt;&#45;26 -->\n",
       "<g id=\"edge47\" class=\"edge\">\n",
       "<title>&#45;24&#45;&gt;&#45;26</title>\n",
       "<path fill=\"none\" stroke=\"#000000\" d=\"M378.3696,-90.0642C382.0429,-92.6543 385.423,-95.6153 388.3594,-99 456.1786,-177.1758 483.0706,-510.4356 489.707,-610.4874\"/>\n",
       "<polygon fill=\"#000000\" stroke=\"#000000\" points=\"486.2312,-610.9771 490.369,-620.7305 493.2167,-610.5256 486.2312,-610.9771\"/>\n",
       "</g>\n",
       "<!-- &#45;25&#45;&gt;&#45;26 -->\n",
       "<g id=\"edge48\" class=\"edge\">\n",
       "<title>&#45;25&#45;&gt;&#45;26</title>\n",
       "<path fill=\"none\" stroke=\"#000000\" d=\"M378.4357,-36.0074C382.0931,-38.6112 385.4516,-41.5907 388.3594,-45 462.6513,-132.104 485.2471,-504.0891 490.2492,-610.4751\"/>\n",
       "<polygon fill=\"#000000\" stroke=\"#000000\" points=\"486.7655,-610.9166 490.7156,-620.7475 493.7583,-610.599 486.7655,-610.9166\"/>\n",
       "</g>\n",
       "</g>\n",
       "</svg>\n"
      ],
      "text/plain": [
       "<graphviz.dot.Digraph at 0x1283908d0>"
      ]
     },
     "execution_count": 7,
     "metadata": {},
     "output_type": "execute_result"
    }
   ],
   "source": [
    "from mp_workshop.atomate import wf_to_graph\n",
    "wf_to_graph(wf)"
   ]
  },
  {
   "cell_type": "markdown",
   "metadata": {},
   "source": [
    "From our exploration of the workflow, we can see that the workflow has a \"root\" firework, which is the structure optimization firework, and a single \"leaf\" firework, which is the analysis task.  In between, we have several fireworks which have \"elastic deformation\" in their titles, each of which represents a calculation which will transform the output of the optimization firework by applying a unique strain.\n",
    "\n",
    "In the analysis step, the stresses from those deformations and the strains are aggregated and used to fit an elastic tensor.  Let's examine the different types of fireworks using the graph tool."
   ]
  },
  {
   "cell_type": "code",
   "execution_count": 10,
   "metadata": {},
   "outputs": [
    {
     "name": "stdout",
     "output_type": "stream",
     "text": [
      "Si-elastic deformation 22\n"
     ]
    },
    {
     "data": {
      "image/svg+xml": [
       "<?xml version=\"1.0\" encoding=\"UTF-8\" standalone=\"no\"?>\n",
       "<!DOCTYPE svg PUBLIC \"-//W3C//DTD SVG 1.1//EN\"\n",
       " \"http://www.w3.org/Graphics/SVG/1.1/DTD/svg11.dtd\">\n",
       "<!-- Generated by graphviz version 2.38.0 (20140413.2041)\n",
       " -->\n",
       "<!-- Title: %3 Pages: 1 -->\n",
       "<svg width=\"994pt\" height=\"44pt\"\n",
       " viewBox=\"0.00 0.00 994.00 44.00\" xmlns=\"http://www.w3.org/2000/svg\" xmlns:xlink=\"http://www.w3.org/1999/xlink\">\n",
       "<g id=\"graph0\" class=\"graph\" transform=\"scale(1 1) rotate(0) translate(4 40)\">\n",
       "<title>%3</title>\n",
       "<polygon fill=\"white\" stroke=\"none\" points=\"-4,4 -4,-40 990,-40 990,4 -4,4\"/>\n",
       "<!-- 0 -->\n",
       "<g id=\"node1\" class=\"node\"><title>0</title>\n",
       "<polygon fill=\"none\" stroke=\"black\" points=\"95,-36 0,-36 0,-0 95,-0 95,-36\"/>\n",
       "<text text-anchor=\"middle\" x=\"47.5\" y=\"-14.3\" font-family=\"Times,serif\" font-size=\"14.00\">FileWriteTask</text>\n",
       "</g>\n",
       "<!-- 1 -->\n",
       "<g id=\"node2\" class=\"node\"><title>1</title>\n",
       "<polygon fill=\"none\" stroke=\"black\" points=\"247,-36 131,-36 131,-0 247,-0 247,-36\"/>\n",
       "<text text-anchor=\"middle\" x=\"189\" y=\"-14.3\" font-family=\"Times,serif\" font-size=\"14.00\">CopyVaspOutputs</text>\n",
       "</g>\n",
       "<!-- 0&#45;&gt;1 -->\n",
       "<g id=\"edge1\" class=\"edge\"><title>0&#45;&gt;1</title>\n",
       "<path fill=\"none\" stroke=\"black\" d=\"M95.3396,-18C103.532,-18 112.199,-18 120.813,-18\"/>\n",
       "<polygon fill=\"black\" stroke=\"black\" points=\"120.87,-21.5001 130.87,-18 120.87,-14.5001 120.87,-21.5001\"/>\n",
       "</g>\n",
       "<!-- 2 -->\n",
       "<g id=\"node3\" class=\"node\"><title>2</title>\n",
       "<polygon fill=\"none\" stroke=\"black\" points=\"477,-36 283,-36 283,-0 477,-0 477,-36\"/>\n",
       "<text text-anchor=\"middle\" x=\"380\" y=\"-14.3\" font-family=\"Times,serif\" font-size=\"14.00\">WriteTransmutedStructureIOSet</text>\n",
       "</g>\n",
       "<!-- 1&#45;&gt;2 -->\n",
       "<g id=\"edge2\" class=\"edge\"><title>1&#45;&gt;2</title>\n",
       "<path fill=\"none\" stroke=\"black\" d=\"M247.219,-18C255.341,-18 263.899,-18 272.595,-18\"/>\n",
       "<polygon fill=\"black\" stroke=\"black\" points=\"272.848,-21.5001 282.848,-18 272.848,-14.5001 272.848,-21.5001\"/>\n",
       "</g>\n",
       "<!-- 3 -->\n",
       "<g id=\"node4\" class=\"node\"><title>3</title>\n",
       "<polygon fill=\"none\" stroke=\"black\" points=\"635,-36 513,-36 513,-0 635,-0 635,-36\"/>\n",
       "<text text-anchor=\"middle\" x=\"574\" y=\"-14.3\" font-family=\"Times,serif\" font-size=\"14.00\">RunVaspCustodian</text>\n",
       "</g>\n",
       "<!-- 2&#45;&gt;3 -->\n",
       "<g id=\"edge3\" class=\"edge\"><title>2&#45;&gt;3</title>\n",
       "<path fill=\"none\" stroke=\"black\" d=\"M477,-18C485.665,-18 494.329,-18 502.711,-18\"/>\n",
       "<polygon fill=\"black\" stroke=\"black\" points=\"502.777,-21.5001 512.777,-18 502.777,-14.5001 502.777,-21.5001\"/>\n",
       "</g>\n",
       "<!-- 4 -->\n",
       "<g id=\"node5\" class=\"node\"><title>4</title>\n",
       "<polygon fill=\"none\" stroke=\"black\" points=\"763,-36 671,-36 671,-0 763,-0 763,-36\"/>\n",
       "<text text-anchor=\"middle\" x=\"717\" y=\"-14.3\" font-family=\"Times,serif\" font-size=\"14.00\">PassCalcLocs</text>\n",
       "</g>\n",
       "<!-- 3&#45;&gt;4 -->\n",
       "<g id=\"edge4\" class=\"edge\"><title>3&#45;&gt;4</title>\n",
       "<path fill=\"none\" stroke=\"black\" d=\"M635.206,-18C643.72,-18 652.439,-18 660.851,-18\"/>\n",
       "<polygon fill=\"black\" stroke=\"black\" points=\"660.926,-21.5001 670.926,-18 660.926,-14.5001 660.926,-21.5001\"/>\n",
       "</g>\n",
       "<!-- 5 -->\n",
       "<g id=\"node6\" class=\"node\"><title>5</title>\n",
       "<polygon fill=\"none\" stroke=\"black\" points=\"875,-36 799,-36 799,-0 875,-0 875,-36\"/>\n",
       "<text text-anchor=\"middle\" x=\"837\" y=\"-14.3\" font-family=\"Times,serif\" font-size=\"14.00\">VaspToDb</text>\n",
       "</g>\n",
       "<!-- 4&#45;&gt;5 -->\n",
       "<g id=\"edge5\" class=\"edge\"><title>4&#45;&gt;5</title>\n",
       "<path fill=\"none\" stroke=\"black\" d=\"M763.284,-18C771.602,-18 780.304,-18 788.679,-18\"/>\n",
       "<polygon fill=\"black\" stroke=\"black\" points=\"788.684,-21.5001 798.684,-18 788.684,-14.5001 788.684,-21.5001\"/>\n",
       "</g>\n",
       "<!-- 6 -->\n",
       "<g id=\"node7\" class=\"node\"><title>6</title>\n",
       "<polygon fill=\"none\" stroke=\"black\" points=\"986,-36 911,-36 911,-0 986,-0 986,-36\"/>\n",
       "<text text-anchor=\"middle\" x=\"948.5\" y=\"-14.3\" font-family=\"Times,serif\" font-size=\"14.00\">PassResult</text>\n",
       "</g>\n",
       "<!-- 5&#45;&gt;6 -->\n",
       "<g id=\"edge6\" class=\"edge\"><title>5&#45;&gt;6</title>\n",
       "<path fill=\"none\" stroke=\"black\" d=\"M875.072,-18C883.276,-18 892.074,-18 900.611,-18\"/>\n",
       "<polygon fill=\"black\" stroke=\"black\" points=\"900.838,-21.5001 910.838,-18 900.838,-14.5001 900.838,-21.5001\"/>\n",
       "</g>\n",
       "</g>\n",
       "</svg>\n"
      ],
      "text/plain": [
       "<graphviz.dot.Digraph at 0x7f561c1bf828>"
      ]
     },
     "execution_count": 10,
     "metadata": {},
     "output_type": "execute_result"
    }
   ],
   "source": [
    "print(wf.fws[0].name)\n",
    "wf_to_graph(wf.fws[0])"
   ]
  },
  {
   "cell_type": "code",
   "execution_count": 11,
   "metadata": {},
   "outputs": [
    {
     "name": "stdout",
     "output_type": "stream",
     "text": [
      "Si-elastic deformation 21\n"
     ]
    },
    {
     "data": {
      "image/svg+xml": [
       "<?xml version=\"1.0\" encoding=\"UTF-8\" standalone=\"no\"?>\n",
       "<!DOCTYPE svg PUBLIC \"-//W3C//DTD SVG 1.1//EN\"\n",
       " \"http://www.w3.org/Graphics/SVG/1.1/DTD/svg11.dtd\">\n",
       "<!-- Generated by graphviz version 2.38.0 (20140413.2041)\n",
       " -->\n",
       "<!-- Title: %3 Pages: 1 -->\n",
       "<svg width=\"994pt\" height=\"44pt\"\n",
       " viewBox=\"0.00 0.00 994.00 44.00\" xmlns=\"http://www.w3.org/2000/svg\" xmlns:xlink=\"http://www.w3.org/1999/xlink\">\n",
       "<g id=\"graph0\" class=\"graph\" transform=\"scale(1 1) rotate(0) translate(4 40)\">\n",
       "<title>%3</title>\n",
       "<polygon fill=\"white\" stroke=\"none\" points=\"-4,4 -4,-40 990,-40 990,4 -4,4\"/>\n",
       "<!-- 0 -->\n",
       "<g id=\"node1\" class=\"node\"><title>0</title>\n",
       "<polygon fill=\"none\" stroke=\"black\" points=\"95,-36 0,-36 0,-0 95,-0 95,-36\"/>\n",
       "<text text-anchor=\"middle\" x=\"47.5\" y=\"-14.3\" font-family=\"Times,serif\" font-size=\"14.00\">FileWriteTask</text>\n",
       "</g>\n",
       "<!-- 1 -->\n",
       "<g id=\"node2\" class=\"node\"><title>1</title>\n",
       "<polygon fill=\"none\" stroke=\"black\" points=\"247,-36 131,-36 131,-0 247,-0 247,-36\"/>\n",
       "<text text-anchor=\"middle\" x=\"189\" y=\"-14.3\" font-family=\"Times,serif\" font-size=\"14.00\">CopyVaspOutputs</text>\n",
       "</g>\n",
       "<!-- 0&#45;&gt;1 -->\n",
       "<g id=\"edge1\" class=\"edge\"><title>0&#45;&gt;1</title>\n",
       "<path fill=\"none\" stroke=\"black\" d=\"M95.3396,-18C103.532,-18 112.199,-18 120.813,-18\"/>\n",
       "<polygon fill=\"black\" stroke=\"black\" points=\"120.87,-21.5001 130.87,-18 120.87,-14.5001 120.87,-21.5001\"/>\n",
       "</g>\n",
       "<!-- 2 -->\n",
       "<g id=\"node3\" class=\"node\"><title>2</title>\n",
       "<polygon fill=\"none\" stroke=\"black\" points=\"477,-36 283,-36 283,-0 477,-0 477,-36\"/>\n",
       "<text text-anchor=\"middle\" x=\"380\" y=\"-14.3\" font-family=\"Times,serif\" font-size=\"14.00\">WriteTransmutedStructureIOSet</text>\n",
       "</g>\n",
       "<!-- 1&#45;&gt;2 -->\n",
       "<g id=\"edge2\" class=\"edge\"><title>1&#45;&gt;2</title>\n",
       "<path fill=\"none\" stroke=\"black\" d=\"M247.219,-18C255.341,-18 263.899,-18 272.595,-18\"/>\n",
       "<polygon fill=\"black\" stroke=\"black\" points=\"272.848,-21.5001 282.848,-18 272.848,-14.5001 272.848,-21.5001\"/>\n",
       "</g>\n",
       "<!-- 3 -->\n",
       "<g id=\"node4\" class=\"node\"><title>3</title>\n",
       "<polygon fill=\"none\" stroke=\"black\" points=\"635,-36 513,-36 513,-0 635,-0 635,-36\"/>\n",
       "<text text-anchor=\"middle\" x=\"574\" y=\"-14.3\" font-family=\"Times,serif\" font-size=\"14.00\">RunVaspCustodian</text>\n",
       "</g>\n",
       "<!-- 2&#45;&gt;3 -->\n",
       "<g id=\"edge3\" class=\"edge\"><title>2&#45;&gt;3</title>\n",
       "<path fill=\"none\" stroke=\"black\" d=\"M477,-18C485.665,-18 494.329,-18 502.711,-18\"/>\n",
       "<polygon fill=\"black\" stroke=\"black\" points=\"502.777,-21.5001 512.777,-18 502.777,-14.5001 502.777,-21.5001\"/>\n",
       "</g>\n",
       "<!-- 4 -->\n",
       "<g id=\"node5\" class=\"node\"><title>4</title>\n",
       "<polygon fill=\"none\" stroke=\"black\" points=\"763,-36 671,-36 671,-0 763,-0 763,-36\"/>\n",
       "<text text-anchor=\"middle\" x=\"717\" y=\"-14.3\" font-family=\"Times,serif\" font-size=\"14.00\">PassCalcLocs</text>\n",
       "</g>\n",
       "<!-- 3&#45;&gt;4 -->\n",
       "<g id=\"edge4\" class=\"edge\"><title>3&#45;&gt;4</title>\n",
       "<path fill=\"none\" stroke=\"black\" d=\"M635.206,-18C643.72,-18 652.439,-18 660.851,-18\"/>\n",
       "<polygon fill=\"black\" stroke=\"black\" points=\"660.926,-21.5001 670.926,-18 660.926,-14.5001 660.926,-21.5001\"/>\n",
       "</g>\n",
       "<!-- 5 -->\n",
       "<g id=\"node6\" class=\"node\"><title>5</title>\n",
       "<polygon fill=\"none\" stroke=\"black\" points=\"875,-36 799,-36 799,-0 875,-0 875,-36\"/>\n",
       "<text text-anchor=\"middle\" x=\"837\" y=\"-14.3\" font-family=\"Times,serif\" font-size=\"14.00\">VaspToDb</text>\n",
       "</g>\n",
       "<!-- 4&#45;&gt;5 -->\n",
       "<g id=\"edge5\" class=\"edge\"><title>4&#45;&gt;5</title>\n",
       "<path fill=\"none\" stroke=\"black\" d=\"M763.284,-18C771.602,-18 780.304,-18 788.679,-18\"/>\n",
       "<polygon fill=\"black\" stroke=\"black\" points=\"788.684,-21.5001 798.684,-18 788.684,-14.5001 788.684,-21.5001\"/>\n",
       "</g>\n",
       "<!-- 6 -->\n",
       "<g id=\"node7\" class=\"node\"><title>6</title>\n",
       "<polygon fill=\"none\" stroke=\"black\" points=\"986,-36 911,-36 911,-0 986,-0 986,-36\"/>\n",
       "<text text-anchor=\"middle\" x=\"948.5\" y=\"-14.3\" font-family=\"Times,serif\" font-size=\"14.00\">PassResult</text>\n",
       "</g>\n",
       "<!-- 5&#45;&gt;6 -->\n",
       "<g id=\"edge6\" class=\"edge\"><title>5&#45;&gt;6</title>\n",
       "<path fill=\"none\" stroke=\"black\" d=\"M875.072,-18C883.276,-18 892.074,-18 900.611,-18\"/>\n",
       "<polygon fill=\"black\" stroke=\"black\" points=\"900.838,-21.5001 910.838,-18 900.838,-14.5001 900.838,-21.5001\"/>\n",
       "</g>\n",
       "</g>\n",
       "</svg>\n"
      ],
      "text/plain": [
       "<graphviz.dot.Digraph at 0x7f5673fa9f28>"
      ]
     },
     "execution_count": 11,
     "metadata": {},
     "output_type": "execute_result"
    }
   ],
   "source": [
    "print(wf.fws[1].name)\n",
    "wf_to_graph(wf.fws[1])"
   ]
  },
  {
   "cell_type": "code",
   "execution_count": 12,
   "metadata": {},
   "outputs": [
    {
     "name": "stdout",
     "output_type": "stream",
     "text": [
      "Si-elastic deformation 23\n"
     ]
    },
    {
     "data": {
      "image/svg+xml": [
       "<?xml version=\"1.0\" encoding=\"UTF-8\" standalone=\"no\"?>\n",
       "<!DOCTYPE svg PUBLIC \"-//W3C//DTD SVG 1.1//EN\"\n",
       " \"http://www.w3.org/Graphics/SVG/1.1/DTD/svg11.dtd\">\n",
       "<!-- Generated by graphviz version 2.38.0 (20140413.2041)\n",
       " -->\n",
       "<!-- Title: %3 Pages: 1 -->\n",
       "<svg width=\"994pt\" height=\"44pt\"\n",
       " viewBox=\"0.00 0.00 994.00 44.00\" xmlns=\"http://www.w3.org/2000/svg\" xmlns:xlink=\"http://www.w3.org/1999/xlink\">\n",
       "<g id=\"graph0\" class=\"graph\" transform=\"scale(1 1) rotate(0) translate(4 40)\">\n",
       "<title>%3</title>\n",
       "<polygon fill=\"white\" stroke=\"none\" points=\"-4,4 -4,-40 990,-40 990,4 -4,4\"/>\n",
       "<!-- 0 -->\n",
       "<g id=\"node1\" class=\"node\"><title>0</title>\n",
       "<polygon fill=\"none\" stroke=\"black\" points=\"95,-36 0,-36 0,-0 95,-0 95,-36\"/>\n",
       "<text text-anchor=\"middle\" x=\"47.5\" y=\"-14.3\" font-family=\"Times,serif\" font-size=\"14.00\">FileWriteTask</text>\n",
       "</g>\n",
       "<!-- 1 -->\n",
       "<g id=\"node2\" class=\"node\"><title>1</title>\n",
       "<polygon fill=\"none\" stroke=\"black\" points=\"247,-36 131,-36 131,-0 247,-0 247,-36\"/>\n",
       "<text text-anchor=\"middle\" x=\"189\" y=\"-14.3\" font-family=\"Times,serif\" font-size=\"14.00\">CopyVaspOutputs</text>\n",
       "</g>\n",
       "<!-- 0&#45;&gt;1 -->\n",
       "<g id=\"edge1\" class=\"edge\"><title>0&#45;&gt;1</title>\n",
       "<path fill=\"none\" stroke=\"black\" d=\"M95.3396,-18C103.532,-18 112.199,-18 120.813,-18\"/>\n",
       "<polygon fill=\"black\" stroke=\"black\" points=\"120.87,-21.5001 130.87,-18 120.87,-14.5001 120.87,-21.5001\"/>\n",
       "</g>\n",
       "<!-- 2 -->\n",
       "<g id=\"node3\" class=\"node\"><title>2</title>\n",
       "<polygon fill=\"none\" stroke=\"black\" points=\"477,-36 283,-36 283,-0 477,-0 477,-36\"/>\n",
       "<text text-anchor=\"middle\" x=\"380\" y=\"-14.3\" font-family=\"Times,serif\" font-size=\"14.00\">WriteTransmutedStructureIOSet</text>\n",
       "</g>\n",
       "<!-- 1&#45;&gt;2 -->\n",
       "<g id=\"edge2\" class=\"edge\"><title>1&#45;&gt;2</title>\n",
       "<path fill=\"none\" stroke=\"black\" d=\"M247.219,-18C255.341,-18 263.899,-18 272.595,-18\"/>\n",
       "<polygon fill=\"black\" stroke=\"black\" points=\"272.848,-21.5001 282.848,-18 272.848,-14.5001 272.848,-21.5001\"/>\n",
       "</g>\n",
       "<!-- 3 -->\n",
       "<g id=\"node4\" class=\"node\"><title>3</title>\n",
       "<polygon fill=\"none\" stroke=\"black\" points=\"635,-36 513,-36 513,-0 635,-0 635,-36\"/>\n",
       "<text text-anchor=\"middle\" x=\"574\" y=\"-14.3\" font-family=\"Times,serif\" font-size=\"14.00\">RunVaspCustodian</text>\n",
       "</g>\n",
       "<!-- 2&#45;&gt;3 -->\n",
       "<g id=\"edge3\" class=\"edge\"><title>2&#45;&gt;3</title>\n",
       "<path fill=\"none\" stroke=\"black\" d=\"M477,-18C485.665,-18 494.329,-18 502.711,-18\"/>\n",
       "<polygon fill=\"black\" stroke=\"black\" points=\"502.777,-21.5001 512.777,-18 502.777,-14.5001 502.777,-21.5001\"/>\n",
       "</g>\n",
       "<!-- 4 -->\n",
       "<g id=\"node5\" class=\"node\"><title>4</title>\n",
       "<polygon fill=\"none\" stroke=\"black\" points=\"763,-36 671,-36 671,-0 763,-0 763,-36\"/>\n",
       "<text text-anchor=\"middle\" x=\"717\" y=\"-14.3\" font-family=\"Times,serif\" font-size=\"14.00\">PassCalcLocs</text>\n",
       "</g>\n",
       "<!-- 3&#45;&gt;4 -->\n",
       "<g id=\"edge4\" class=\"edge\"><title>3&#45;&gt;4</title>\n",
       "<path fill=\"none\" stroke=\"black\" d=\"M635.206,-18C643.72,-18 652.439,-18 660.851,-18\"/>\n",
       "<polygon fill=\"black\" stroke=\"black\" points=\"660.926,-21.5001 670.926,-18 660.926,-14.5001 660.926,-21.5001\"/>\n",
       "</g>\n",
       "<!-- 5 -->\n",
       "<g id=\"node6\" class=\"node\"><title>5</title>\n",
       "<polygon fill=\"none\" stroke=\"black\" points=\"875,-36 799,-36 799,-0 875,-0 875,-36\"/>\n",
       "<text text-anchor=\"middle\" x=\"837\" y=\"-14.3\" font-family=\"Times,serif\" font-size=\"14.00\">VaspToDb</text>\n",
       "</g>\n",
       "<!-- 4&#45;&gt;5 -->\n",
       "<g id=\"edge5\" class=\"edge\"><title>4&#45;&gt;5</title>\n",
       "<path fill=\"none\" stroke=\"black\" d=\"M763.284,-18C771.602,-18 780.304,-18 788.679,-18\"/>\n",
       "<polygon fill=\"black\" stroke=\"black\" points=\"788.684,-21.5001 798.684,-18 788.684,-14.5001 788.684,-21.5001\"/>\n",
       "</g>\n",
       "<!-- 6 -->\n",
       "<g id=\"node7\" class=\"node\"><title>6</title>\n",
       "<polygon fill=\"none\" stroke=\"black\" points=\"986,-36 911,-36 911,-0 986,-0 986,-36\"/>\n",
       "<text text-anchor=\"middle\" x=\"948.5\" y=\"-14.3\" font-family=\"Times,serif\" font-size=\"14.00\">PassResult</text>\n",
       "</g>\n",
       "<!-- 5&#45;&gt;6 -->\n",
       "<g id=\"edge6\" class=\"edge\"><title>5&#45;&gt;6</title>\n",
       "<path fill=\"none\" stroke=\"black\" d=\"M875.072,-18C883.276,-18 892.074,-18 900.611,-18\"/>\n",
       "<polygon fill=\"black\" stroke=\"black\" points=\"900.838,-21.5001 910.838,-18 900.838,-14.5001 900.838,-21.5001\"/>\n",
       "</g>\n",
       "</g>\n",
       "</svg>\n"
      ],
      "text/plain": [
       "<graphviz.dot.Digraph at 0x7f5617dd1630>"
      ]
     },
     "execution_count": 12,
     "metadata": {},
     "output_type": "execute_result"
    }
   ],
   "source": [
    "print(wf.fws[-1].name)\n",
    "wf_to_graph(wf.fws[-1])"
   ]
  },
  {
   "cell_type": "markdown",
   "metadata": {},
   "source": [
    "Note that the standard preset workflow for the elastic tensor uses many calculations in excess of what is required to determine the elastic tensor, which yields a higher-quality tensor in which some of the numerical noise is washed out over the duplicity of calculations.  Note that you can also generate a \"minimal\" elastic workflow which uses neither the more expensive DFT parameters nor the extended calculations.  Tensors generated using this workflow are typically not as accurate, but often work for simple semiconductors with a lot of symmetry.  Let's try it with bulk silicon."
   ]
  },
  {
   "cell_type": "code",
   "execution_count": 8,
   "metadata": {},
   "outputs": [],
   "source": [
    "wf = wf_elastic_constant_minimal(structure)"
   ]
  },
  {
   "cell_type": "code",
   "execution_count": 9,
   "metadata": {},
   "outputs": [
    {
     "data": {
      "image/svg+xml": [
       "<?xml version=\"1.0\" encoding=\"UTF-8\" standalone=\"no\"?>\n",
       "<!DOCTYPE svg PUBLIC \"-//W3C//DTD SVG 1.1//EN\"\n",
       " \"http://www.w3.org/Graphics/SVG/1.1/DTD/svg11.dtd\">\n",
       "<!-- Generated by graphviz version 2.40.1 (20161225.0304)\n",
       " -->\n",
       "<!-- Title: %3 Pages: 1 -->\n",
       "<svg width=\"329pt\" height=\"98pt\"\n",
       " viewBox=\"0.00 0.00 328.68 98.00\" xmlns=\"http://www.w3.org/2000/svg\" xmlns:xlink=\"http://www.w3.org/1999/xlink\">\n",
       "<g id=\"graph0\" class=\"graph\" transform=\"scale(1 1) rotate(0) translate(4 94)\">\n",
       "<title>%3</title>\n",
       "<polygon fill=\"#ffffff\" stroke=\"transparent\" points=\"-4,4 -4,-94 324.6836,-94 324.6836,4 -4,4\"/>\n",
       "<!-- &#45;27 -->\n",
       "<g id=\"node1\" class=\"node\">\n",
       "<title>&#45;27</title>\n",
       "<polygon fill=\"none\" stroke=\"#1f62a2\" points=\"150.2771,-90 .2404,-90 .2404,-54 150.2771,-54 150.2771,-90\"/>\n",
       "<text text-anchor=\"middle\" x=\"75.2588\" y=\"-67.8\" font-family=\"Times,serif\" font-size=\"14.00\" fill=\"#000000\">Si&#45;elastic deformation 0</text>\n",
       "</g>\n",
       "<!-- &#45;29 -->\n",
       "<g id=\"node3\" class=\"node\">\n",
       "<title>&#45;29</title>\n",
       "<polygon fill=\"none\" stroke=\"#1f62a2\" points=\"320.7667,-63 186.4345,-63 186.4345,-27 320.7667,-27 320.7667,-63\"/>\n",
       "<text text-anchor=\"middle\" x=\"253.6006\" y=\"-40.8\" font-family=\"Times,serif\" font-size=\"14.00\" fill=\"#000000\">Analyze Elastic Data</text>\n",
       "</g>\n",
       "<!-- &#45;27&#45;&gt;&#45;29 -->\n",
       "<g id=\"edge1\" class=\"edge\">\n",
       "<title>&#45;27&#45;&gt;&#45;29</title>\n",
       "<path fill=\"none\" stroke=\"#000000\" d=\"M150.3749,-60.6278C158.9959,-59.3226 167.7968,-57.9902 176.4441,-56.6811\"/>\n",
       "<polygon fill=\"#000000\" stroke=\"#000000\" points=\"177.1414,-60.1155 186.5048,-55.158 176.0935,-53.1944 177.1414,-60.1155\"/>\n",
       "</g>\n",
       "<!-- &#45;28 -->\n",
       "<g id=\"node2\" class=\"node\">\n",
       "<title>&#45;28</title>\n",
       "<polygon fill=\"none\" stroke=\"#1f62a2\" points=\"150.2771,-36 .2404,-36 .2404,0 150.2771,0 150.2771,-36\"/>\n",
       "<text text-anchor=\"middle\" x=\"75.2588\" y=\"-13.8\" font-family=\"Times,serif\" font-size=\"14.00\" fill=\"#000000\">Si&#45;elastic deformation 1</text>\n",
       "</g>\n",
       "<!-- &#45;28&#45;&gt;&#45;29 -->\n",
       "<g id=\"edge2\" class=\"edge\">\n",
       "<title>&#45;28&#45;&gt;&#45;29</title>\n",
       "<path fill=\"none\" stroke=\"#000000\" d=\"M150.3749,-29.3722C158.9959,-30.6774 167.7968,-32.0098 176.4441,-33.3189\"/>\n",
       "<polygon fill=\"#000000\" stroke=\"#000000\" points=\"176.0935,-36.8056 186.5048,-34.842 177.1414,-29.8845 176.0935,-36.8056\"/>\n",
       "</g>\n",
       "</g>\n",
       "</svg>\n"
      ],
      "text/plain": [
       "<graphviz.dot.Digraph at 0x12840cdd8>"
      ]
     },
     "execution_count": 9,
     "metadata": {},
     "output_type": "execute_result"
    }
   ],
   "source": [
    "wf_to_graph(wf)"
   ]
  },
  {
   "cell_type": "markdown",
   "metadata": {},
   "source": [
    "Note that for silicon, the two deformation tasks are a single normal deformation along the x axis (which are equivalent to those along the y- and z-axis), and a single shear deformation (equivalent to the two others normally included).  Since this is considerably simpler, we'll run this as our example."
   ]
  },
  {
   "cell_type": "markdown",
   "metadata": {},
   "source": [
    "To run the workflow, we import our launchpad and rocket launcher tools.  Since we can't use VASP in the workflow, we're also going to \"fake\" vasp by copying files rather than running the binary."
   ]
  },
  {
   "cell_type": "code",
   "execution_count": 13,
   "metadata": {},
   "outputs": [],
   "source": [
    "from fireworks import LaunchPad\n",
    "from mp_workshop.atomate import use_fake_vasp_workshop"
   ]
  },
  {
   "cell_type": "code",
   "execution_count": 11,
   "metadata": {},
   "outputs": [
    {
     "data": {
      "text/plain": [
       "'Si:elastic constants'"
      ]
     },
     "execution_count": 11,
     "metadata": {},
     "output_type": "execute_result"
    }
   ],
   "source": [
    "wf.name"
   ]
  },
  {
   "cell_type": "code",
   "execution_count": 12,
   "metadata": {},
   "outputs": [
    {
     "ename": "ValueError",
     "evalue": "Could not get next FW id! If you have not yet initialized the database, please do so by performing a database reset (e.g., lpad reset)",
     "output_type": "error",
     "traceback": [
      "\u001b[0;31m---------------------------------------------------------------------------\u001b[0m",
      "\u001b[0;31mTypeError\u001b[0m                                 Traceback (most recent call last)",
      "\u001b[0;32m~/repos/workshop/src/fireworks/fireworks/core/launchpad.py\u001b[0m in \u001b[0;36mget_new_fw_id\u001b[0;34m(self, quantity)\u001b[0m\n\u001b[1;32m   1376\u001b[0m         \u001b[0;32mtry\u001b[0m\u001b[0;34m:\u001b[0m\u001b[0;34m\u001b[0m\u001b[0;34m\u001b[0m\u001b[0m\n\u001b[0;32m-> 1377\u001b[0;31m             \u001b[0;32mreturn\u001b[0m \u001b[0mself\u001b[0m\u001b[0;34m.\u001b[0m\u001b[0mfw_id_assigner\u001b[0m\u001b[0;34m.\u001b[0m\u001b[0mfind_one_and_update\u001b[0m\u001b[0;34m(\u001b[0m\u001b[0;34m{\u001b[0m\u001b[0;34m}\u001b[0m\u001b[0;34m,\u001b[0m \u001b[0;34m{\u001b[0m\u001b[0;34m'$inc'\u001b[0m\u001b[0;34m:\u001b[0m \u001b[0;34m{\u001b[0m\u001b[0;34m'next_fw_id'\u001b[0m\u001b[0;34m:\u001b[0m \u001b[0mquantity\u001b[0m\u001b[0;34m}\u001b[0m\u001b[0;34m}\u001b[0m\u001b[0;34m)\u001b[0m\u001b[0;34m[\u001b[0m\u001b[0;34m'next_fw_id'\u001b[0m\u001b[0;34m]\u001b[0m\u001b[0;34m\u001b[0m\u001b[0;34m\u001b[0m\u001b[0m\n\u001b[0m\u001b[1;32m   1378\u001b[0m         \u001b[0;32mexcept\u001b[0m\u001b[0;34m:\u001b[0m\u001b[0;34m\u001b[0m\u001b[0;34m\u001b[0m\u001b[0m\n",
      "\u001b[0;31mTypeError\u001b[0m: 'NoneType' object is not subscriptable",
      "\nDuring handling of the above exception, another exception occurred:\n",
      "\u001b[0;31mValueError\u001b[0m                                Traceback (most recent call last)",
      "\u001b[0;32m<ipython-input-12-5bdbe0f70646>\u001b[0m in \u001b[0;36m<module>\u001b[0;34m\u001b[0m\n\u001b[1;32m      1\u001b[0m \u001b[0;32mfrom\u001b[0m \u001b[0mfireworks\u001b[0m \u001b[0;32mimport\u001b[0m \u001b[0mLaunchPad\u001b[0m\u001b[0;34m\u001b[0m\u001b[0;34m\u001b[0m\u001b[0m\n\u001b[1;32m      2\u001b[0m \u001b[0mlpad\u001b[0m \u001b[0;34m=\u001b[0m \u001b[0mLaunchPad\u001b[0m\u001b[0;34m.\u001b[0m\u001b[0mauto_load\u001b[0m\u001b[0;34m(\u001b[0m\u001b[0;34m)\u001b[0m\u001b[0;34m\u001b[0m\u001b[0;34m\u001b[0m\u001b[0m\n\u001b[0;32m----> 3\u001b[0;31m \u001b[0mlpad\u001b[0m\u001b[0;34m.\u001b[0m\u001b[0madd_wf\u001b[0m\u001b[0;34m(\u001b[0m\u001b[0mwf\u001b[0m\u001b[0;34m)\u001b[0m\u001b[0;34m\u001b[0m\u001b[0;34m\u001b[0m\u001b[0m\n\u001b[0m",
      "\u001b[0;32m~/repos/workshop/src/fireworks/fireworks/core/launchpad.py\u001b[0m in \u001b[0;36madd_wf\u001b[0;34m(self, wf, reassign_all)\u001b[0m\n\u001b[1;32m    347\u001b[0m             \u001b[0mwf\u001b[0m\u001b[0;34m.\u001b[0m\u001b[0mfw_states\u001b[0m\u001b[0;34m[\u001b[0m\u001b[0mfw_id\u001b[0m\u001b[0;34m]\u001b[0m \u001b[0;34m=\u001b[0m \u001b[0;34m'READY'\u001b[0m\u001b[0;34m\u001b[0m\u001b[0;34m\u001b[0m\u001b[0m\n\u001b[1;32m    348\u001b[0m         \u001b[0;31m# insert the FireWorks and get back mapping of old to new ids\u001b[0m\u001b[0;34m\u001b[0m\u001b[0;34m\u001b[0m\u001b[0;34m\u001b[0m\u001b[0m\n\u001b[0;32m--> 349\u001b[0;31m         \u001b[0mold_new\u001b[0m \u001b[0;34m=\u001b[0m \u001b[0mself\u001b[0m\u001b[0;34m.\u001b[0m\u001b[0m_upsert_fws\u001b[0m\u001b[0;34m(\u001b[0m\u001b[0mlist\u001b[0m\u001b[0;34m(\u001b[0m\u001b[0mwf\u001b[0m\u001b[0;34m.\u001b[0m\u001b[0mid_fw\u001b[0m\u001b[0;34m.\u001b[0m\u001b[0mvalues\u001b[0m\u001b[0;34m(\u001b[0m\u001b[0;34m)\u001b[0m\u001b[0;34m)\u001b[0m\u001b[0;34m,\u001b[0m \u001b[0mreassign_all\u001b[0m\u001b[0;34m=\u001b[0m\u001b[0mreassign_all\u001b[0m\u001b[0;34m)\u001b[0m\u001b[0;34m\u001b[0m\u001b[0;34m\u001b[0m\u001b[0m\n\u001b[0m\u001b[1;32m    350\u001b[0m         \u001b[0;31m# update the Workflow with the new ids\u001b[0m\u001b[0;34m\u001b[0m\u001b[0;34m\u001b[0m\u001b[0;34m\u001b[0m\u001b[0m\n\u001b[1;32m    351\u001b[0m         \u001b[0mwf\u001b[0m\u001b[0;34m.\u001b[0m\u001b[0m_reassign_ids\u001b[0m\u001b[0;34m(\u001b[0m\u001b[0mold_new\u001b[0m\u001b[0;34m)\u001b[0m\u001b[0;34m\u001b[0m\u001b[0;34m\u001b[0m\u001b[0m\n",
      "\u001b[0;32m~/repos/workshop/src/fireworks/fireworks/core/launchpad.py\u001b[0m in \u001b[0;36m_upsert_fws\u001b[0;34m(self, fws, reassign_all)\u001b[0m\n\u001b[1;32m   1410\u001b[0m             \u001b[0;31m# we can request multiple fw_ids up front\u001b[0m\u001b[0;34m\u001b[0m\u001b[0;34m\u001b[0m\u001b[0;34m\u001b[0m\u001b[0m\n\u001b[1;32m   1411\u001b[0m             \u001b[0;31m# this is the FIRST fw_id we should use\u001b[0m\u001b[0;34m\u001b[0m\u001b[0;34m\u001b[0m\u001b[0;34m\u001b[0m\u001b[0m\n\u001b[0;32m-> 1412\u001b[0;31m             \u001b[0mfirst_new_id\u001b[0m \u001b[0;34m=\u001b[0m \u001b[0mself\u001b[0m\u001b[0;34m.\u001b[0m\u001b[0mget_new_fw_id\u001b[0m\u001b[0;34m(\u001b[0m\u001b[0mquantity\u001b[0m\u001b[0;34m=\u001b[0m\u001b[0mlen\u001b[0m\u001b[0;34m(\u001b[0m\u001b[0mfws\u001b[0m\u001b[0;34m)\u001b[0m\u001b[0;34m)\u001b[0m\u001b[0;34m\u001b[0m\u001b[0;34m\u001b[0m\u001b[0m\n\u001b[0m\u001b[1;32m   1413\u001b[0m \u001b[0;34m\u001b[0m\u001b[0m\n\u001b[1;32m   1414\u001b[0m             \u001b[0;32mfor\u001b[0m \u001b[0mnew_id\u001b[0m\u001b[0;34m,\u001b[0m \u001b[0mfw\u001b[0m  \u001b[0;32min\u001b[0m \u001b[0menumerate\u001b[0m\u001b[0;34m(\u001b[0m\u001b[0mfws\u001b[0m\u001b[0;34m,\u001b[0m \u001b[0mstart\u001b[0m\u001b[0;34m=\u001b[0m\u001b[0mfirst_new_id\u001b[0m\u001b[0;34m)\u001b[0m\u001b[0;34m:\u001b[0m\u001b[0;34m\u001b[0m\u001b[0;34m\u001b[0m\u001b[0m\n",
      "\u001b[0;32m~/repos/workshop/src/fireworks/fireworks/core/launchpad.py\u001b[0m in \u001b[0;36mget_new_fw_id\u001b[0;34m(self, quantity)\u001b[0m\n\u001b[1;32m   1377\u001b[0m             \u001b[0;32mreturn\u001b[0m \u001b[0mself\u001b[0m\u001b[0;34m.\u001b[0m\u001b[0mfw_id_assigner\u001b[0m\u001b[0;34m.\u001b[0m\u001b[0mfind_one_and_update\u001b[0m\u001b[0;34m(\u001b[0m\u001b[0;34m{\u001b[0m\u001b[0;34m}\u001b[0m\u001b[0;34m,\u001b[0m \u001b[0;34m{\u001b[0m\u001b[0;34m'$inc'\u001b[0m\u001b[0;34m:\u001b[0m \u001b[0;34m{\u001b[0m\u001b[0;34m'next_fw_id'\u001b[0m\u001b[0;34m:\u001b[0m \u001b[0mquantity\u001b[0m\u001b[0;34m}\u001b[0m\u001b[0;34m}\u001b[0m\u001b[0;34m)\u001b[0m\u001b[0;34m[\u001b[0m\u001b[0;34m'next_fw_id'\u001b[0m\u001b[0;34m]\u001b[0m\u001b[0;34m\u001b[0m\u001b[0;34m\u001b[0m\u001b[0m\n\u001b[1;32m   1378\u001b[0m         \u001b[0;32mexcept\u001b[0m\u001b[0;34m:\u001b[0m\u001b[0;34m\u001b[0m\u001b[0;34m\u001b[0m\u001b[0m\n\u001b[0;32m-> 1379\u001b[0;31m             raise ValueError(\"Could not get next FW id! If you have not yet initialized the database,\"\n\u001b[0m\u001b[1;32m   1380\u001b[0m                              \" please do so by performing a database reset (e.g., lpad reset)\")\n\u001b[1;32m   1381\u001b[0m \u001b[0;34m\u001b[0m\u001b[0m\n",
      "\u001b[0;31mValueError\u001b[0m: Could not get next FW id! If you have not yet initialized the database, please do so by performing a database reset (e.g., lpad reset)"
     ]
    }
   ],
   "source": [
    "from fireworks import LaunchPad\n",
    "lpad = LaunchPad.auto_load()\n",
    "lpad.add_wf(wf)"
   ]
  },
  {
   "cell_type": "code",
   "execution_count": 17,
   "metadata": {},
   "outputs": [
    {
     "name": "stdout",
     "output_type": "stream",
     "text": [
      "2018-08-10 05:47:27,561 INFO Added a workflow. id_map: {-1157: 1, -1156: 2, -1155: 3}\n"
     ]
    },
    {
     "data": {
      "text/plain": [
       "{-1157: 1, -1156: 2, -1155: 3}"
      ]
     },
     "execution_count": 17,
     "metadata": {},
     "output_type": "execute_result"
    }
   ],
   "source": [
    "wf = use_fake_vasp_workshop(wf)\n",
    "lpad.add_wf(wf)"
   ]
  },
  {
   "cell_type": "markdown",
   "metadata": {},
   "source": [
    "Now we can run the workflow either in the notebook using the pythonic fireworks rocket launcher or using `qlaunch` from the linux command line."
   ]
  },
  {
   "cell_type": "code",
   "execution_count": 18,
   "metadata": {
    "collapsed": true
   },
   "outputs": [],
   "source": [
    "from fireworks.core.rocket_launcher import rapidfire"
   ]
  },
  {
   "cell_type": "code",
   "execution_count": 19,
   "metadata": {
    "collapsed": true
   },
   "outputs": [],
   "source": [
    "import os"
   ]
  },
  {
   "cell_type": "code",
   "execution_count": 20,
   "metadata": {},
   "outputs": [
    {
     "name": "stdout",
     "output_type": "stream",
     "text": [
      "2018-08-10 05:47:27,784 INFO Created new dir /home/jovyan/work/workshop-2018/lessons/atomate/temp/launcher_2018-08-10-05-47-27-784616\n",
      "2018-08-10 05:47:27,785 INFO Launching Rocket\n",
      "2018-08-10 05:47:27,847 INFO RUNNING fw_id: 3 in directory: /home/jovyan/work/workshop-2018/lessons/atomate/temp/launcher_2018-08-10-05-47-27-784616\n",
      "2018-08-10 05:47:27,878 INFO Task started: FileWriteTask.\n",
      "2018-08-10 05:47:27,879 INFO Task completed: FileWriteTask \n",
      "2018-08-10 05:47:27,884 INFO Task started: {{atomate.vasp.firetasks.write_inputs.WriteTransmutedStructureIOSet}}.\n",
      "2018-08-10 05:47:27,933 INFO Task completed: {{atomate.vasp.firetasks.write_inputs.WriteTransmutedStructureIOSet}} \n",
      "2018-08-10 05:47:27,939 INFO Task started: {{atomate.vasp.firetasks.run_calc.RunVaspFake}}.\n",
      "2018-08-10 05:47:27,975 INFO atomate.vasp.firetasks.run_calc RunVaspFake: verified inputs successfully\n",
      "2018-08-10 05:47:28,011 INFO atomate.vasp.firetasks.run_calc RunVaspFake: ran fake VASP, generated outputs\n",
      "2018-08-10 05:47:28,012 INFO Task completed: {{atomate.vasp.firetasks.run_calc.RunVaspFake}} \n",
      "2018-08-10 05:47:28,017 INFO Task started: {{atomate.common.firetasks.glue_tasks.PassCalcLocs}}.\n",
      "2018-08-10 05:47:28,019 INFO Task completed: {{atomate.common.firetasks.glue_tasks.PassCalcLocs}} \n",
      "2018-08-10 05:47:28,023 INFO Task started: {{atomate.vasp.firetasks.parse_outputs.VaspToDb}}.\n",
      "2018-08-10 05:47:28,024 INFO atomate.vasp.firetasks.parse_outputs PARSING DIRECTORY: /home/jovyan/work/workshop-2018/lessons/atomate/temp/launcher_2018-08-10-05-47-27-784616\n",
      "2018-08-10 05:47:28,025 INFO atomate.vasp.drones Getting task doc for base dir :/home/jovyan/work/workshop-2018/lessons/atomate/temp/launcher_2018-08-10-05-47-27-784616\n",
      "2018-08-10 05:47:29,461 INFO atomate.vasp.drones Post-processing dir:/home/jovyan/work/workshop-2018/lessons/atomate/temp/launcher_2018-08-10-05-47-27-784616\n",
      "2018-08-10 05:47:29,463 WARNING atomate.vasp.drones Cannot parse ICSD from transformations file.\n",
      "2018-08-10 05:47:29,480 INFO atomate.vasp.drones Post-processed /home/jovyan/work/workshop-2018/lessons/atomate/temp/launcher_2018-08-10-05-47-27-784616\n",
      "2018-08-10 05:47:29,484 INFO Task completed: {{atomate.vasp.firetasks.parse_outputs.VaspToDb}} \n",
      "2018-08-10 05:47:29,496 INFO Task started: {{atomate.common.firetasks.glue_tasks.PassResult}}.\n",
      "2018-08-10 05:47:29,771 INFO Task completed: {{atomate.common.firetasks.glue_tasks.PassResult}} \n",
      "2018-08-10 05:47:29,824 INFO Rocket finished\n",
      "2018-08-10 05:47:29,832 INFO Created new dir /home/jovyan/work/workshop-2018/lessons/atomate/temp/launcher_2018-08-10-05-47-29-832001\n",
      "2018-08-10 05:47:29,832 INFO Launching Rocket\n",
      "2018-08-10 05:47:29,866 INFO RUNNING fw_id: 2 in directory: /home/jovyan/work/workshop-2018/lessons/atomate/temp/launcher_2018-08-10-05-47-29-832001\n",
      "2018-08-10 05:47:29,879 INFO Task started: FileWriteTask.\n",
      "2018-08-10 05:47:29,880 INFO Task completed: FileWriteTask \n",
      "2018-08-10 05:47:29,883 INFO Task started: {{atomate.vasp.firetasks.write_inputs.WriteTransmutedStructureIOSet}}.\n",
      "2018-08-10 05:47:29,898 INFO Task completed: {{atomate.vasp.firetasks.write_inputs.WriteTransmutedStructureIOSet}} \n",
      "2018-08-10 05:47:29,900 INFO Task started: {{atomate.vasp.firetasks.run_calc.RunVaspFake}}.\n",
      "2018-08-10 05:47:29,919 INFO atomate.vasp.firetasks.run_calc RunVaspFake: verified inputs successfully\n",
      "2018-08-10 05:47:29,934 INFO atomate.vasp.firetasks.run_calc RunVaspFake: ran fake VASP, generated outputs\n",
      "2018-08-10 05:47:29,935 INFO Task completed: {{atomate.vasp.firetasks.run_calc.RunVaspFake}} \n",
      "2018-08-10 05:47:29,937 INFO Task started: {{atomate.common.firetasks.glue_tasks.PassCalcLocs}}.\n",
      "2018-08-10 05:47:29,938 INFO Task completed: {{atomate.common.firetasks.glue_tasks.PassCalcLocs}} \n",
      "2018-08-10 05:47:29,940 INFO Task started: {{atomate.vasp.firetasks.parse_outputs.VaspToDb}}.\n",
      "2018-08-10 05:47:29,941 INFO atomate.vasp.firetasks.parse_outputs PARSING DIRECTORY: /home/jovyan/work/workshop-2018/lessons/atomate/temp/launcher_2018-08-10-05-47-29-832001\n",
      "2018-08-10 05:47:29,941 INFO atomate.vasp.drones Getting task doc for base dir :/home/jovyan/work/workshop-2018/lessons/atomate/temp/launcher_2018-08-10-05-47-29-832001\n",
      "2018-08-10 05:47:30,990 INFO atomate.vasp.drones Post-processing dir:/home/jovyan/work/workshop-2018/lessons/atomate/temp/launcher_2018-08-10-05-47-29-832001\n",
      "2018-08-10 05:47:30,991 WARNING atomate.vasp.drones Cannot parse ICSD from transformations file.\n",
      "2018-08-10 05:47:31,015 INFO atomate.vasp.drones Post-processed /home/jovyan/work/workshop-2018/lessons/atomate/temp/launcher_2018-08-10-05-47-29-832001\n",
      "2018-08-10 05:47:31,018 INFO Task completed: {{atomate.vasp.firetasks.parse_outputs.VaspToDb}} \n",
      "2018-08-10 05:47:31,021 INFO Task started: {{atomate.common.firetasks.glue_tasks.PassResult}}.\n",
      "2018-08-10 05:47:31,155 INFO Task completed: {{atomate.common.firetasks.glue_tasks.PassResult}} \n",
      "2018-08-10 05:47:31,299 INFO Rocket finished\n",
      "2018-08-10 05:47:31,306 INFO Created new dir /home/jovyan/work/workshop-2018/lessons/atomate/temp/launcher_2018-08-10-05-47-31-306298\n",
      "2018-08-10 05:47:31,307 INFO Launching Rocket\n",
      "2018-08-10 05:47:31,335 INFO RUNNING fw_id: 1 in directory: /home/jovyan/work/workshop-2018/lessons/atomate/temp/launcher_2018-08-10-05-47-31-306298\n",
      "2018-08-10 05:47:31,351 INFO Task started: FileWriteTask.\n",
      "2018-08-10 05:47:31,352 INFO Task completed: FileWriteTask \n",
      "2018-08-10 05:47:31,355 INFO Task started: {{atomate.vasp.firetasks.parse_outputs.ElasticTensorToDb}}.\n",
      "2018-08-10 05:47:31,390 INFO atomate.vasp.firetasks.parse_outputs Analyzing stress/strain data\n"
     ]
    },
    {
     "name": "stderr",
     "output_type": "stream",
     "text": [
      "/opt/conda/lib/python3.5/site-packages/pymatgen/analysis/elasticity/elastic.py:916: UserWarning: No eq state found, returning zero voigt stress\n",
      "  warnings.warn(\"No eq state found, returning zero voigt stress\")\n"
     ]
    },
    {
     "name": "stdout",
     "output_type": "stream",
     "text": [
      "2018-08-10 05:47:32,135 INFO Rocket finished\n"
     ]
    },
    {
     "name": "stderr",
     "output_type": "stream",
     "text": [
      "Traceback (most recent call last):\n",
      "  File \"/home/jovyan/src/fireworks/fireworks/core/rocket.py\", line 262, in run\n",
      "    m_action = t.run_task(my_spec)\n",
      "  File \"/opt/conda/lib/python3.5/site-packages/atomate/vasp/firetasks/parse_outputs.py\", line 363, in run_task\n",
      "    d.update({\"derived_properties\": ieee.get_structure_property_dict(ref_struct)})\n",
      "  File \"/opt/conda/lib/python3.5/site-packages/pymatgen/analysis/elasticity/elastic.py\", line 440, in get_structure_property_dict\n",
      "    sp_dict = {prop: getattr(self, prop)(structure) for prop in s_props}\n",
      "  File \"/opt/conda/lib/python3.5/site-packages/pymatgen/analysis/elasticity/elastic.py\", line 440, in <dictcomp>\n",
      "    sp_dict = {prop: getattr(self, prop)(structure) for prop in s_props}\n",
      "  File \"/opt/conda/lib/python3.5/site-packages/pymatgen/analysis/elasticity/elastic.py\", line 106, in wrapper\n",
      "    raise ValueError(\"Bulk or shear modulus is negative, property \"\n",
      "ValueError: Bulk or shear modulus is negative, property cannot be determined\n"
     ]
    }
   ],
   "source": [
    "os.mkdir(\"temp\", exist_ok=True))\n",
    "os.chdir(\"temp\")\n",
    "rapidfire(lpad)"
   ]
  },
  {
   "cell_type": "markdown",
   "metadata": {},
   "source": [
    "## Powerups"
   ]
  },
  {
   "cell_type": "markdown",
   "metadata": {},
   "source": [
    "Atomate contains a number of tools for modifying workflows, known as \"powerups\" which are functions which will modify the workflows in commonly desired ways.  For example, if you want to modify the parameters of a VASP calculation, you can use the add_modify_incar powerup to change these for every firework in the workflow."
   ]
  },
  {
   "cell_type": "markdown",
   "metadata": {},
   "source": [
    "### add_modify_incar"
   ]
  },
  {
   "cell_type": "code",
   "execution_count": 21,
   "metadata": {
    "collapsed": true
   },
   "outputs": [],
   "source": [
    "from atomate.vasp.powerups import add_modify_incar"
   ]
  },
  {
   "cell_type": "code",
   "execution_count": 22,
   "metadata": {
    "collapsed": true
   },
   "outputs": [],
   "source": [
    "wf = get_wf(structure, \"bandstructure.yaml\")"
   ]
  },
  {
   "cell_type": "code",
   "execution_count": 23,
   "metadata": {},
   "outputs": [
    {
     "data": {
      "image/svg+xml": [
       "<?xml version=\"1.0\" encoding=\"UTF-8\" standalone=\"no\"?>\n",
       "<!DOCTYPE svg PUBLIC \"-//W3C//DTD SVG 1.1//EN\"\n",
       " \"http://www.w3.org/Graphics/SVG/1.1/DTD/svg11.dtd\">\n",
       "<!-- Generated by graphviz version 2.38.0 (20140413.2041)\n",
       " -->\n",
       "<!-- Title: %3 Pages: 1 -->\n",
       "<svg width=\"722pt\" height=\"44pt\"\n",
       " viewBox=\"0.00 0.00 722.00 44.00\" xmlns=\"http://www.w3.org/2000/svg\" xmlns:xlink=\"http://www.w3.org/1999/xlink\">\n",
       "<g id=\"graph0\" class=\"graph\" transform=\"scale(1 1) rotate(0) translate(4 40)\">\n",
       "<title>%3</title>\n",
       "<polygon fill=\"white\" stroke=\"none\" points=\"-4,4 -4,-40 718,-40 718,4 -4,4\"/>\n",
       "<!-- 0 -->\n",
       "<g id=\"node1\" class=\"node\"><title>0</title>\n",
       "<polygon fill=\"none\" stroke=\"black\" points=\"116,-36 7.10543e-15,-36 7.10543e-15,-0 116,-0 116,-36\"/>\n",
       "<text text-anchor=\"middle\" x=\"58\" y=\"-14.3\" font-family=\"Times,serif\" font-size=\"14.00\">CopyVaspOutputs</text>\n",
       "</g>\n",
       "<!-- 1 -->\n",
       "<g id=\"node2\" class=\"node\"><title>1</title>\n",
       "<polygon fill=\"none\" stroke=\"black\" points=\"316,-36 152,-36 152,-0 316,-0 316,-36\"/>\n",
       "<text text-anchor=\"middle\" x=\"234\" y=\"-14.3\" font-family=\"Times,serif\" font-size=\"14.00\">WriteVaspNSCFFromPrev</text>\n",
       "</g>\n",
       "<!-- 0&#45;&gt;1 -->\n",
       "<g id=\"edge1\" class=\"edge\"><title>0&#45;&gt;1</title>\n",
       "<path fill=\"none\" stroke=\"black\" d=\"M116.456,-18C124.638,-18 133.216,-18 141.848,-18\"/>\n",
       "<polygon fill=\"black\" stroke=\"black\" points=\"141.987,-21.5001 151.987,-18 141.986,-14.5001 141.987,-21.5001\"/>\n",
       "</g>\n",
       "<!-- 2 -->\n",
       "<g id=\"node3\" class=\"node\"><title>2</title>\n",
       "<polygon fill=\"none\" stroke=\"black\" points=\"474,-36 352,-36 352,-0 474,-0 474,-36\"/>\n",
       "<text text-anchor=\"middle\" x=\"413\" y=\"-14.3\" font-family=\"Times,serif\" font-size=\"14.00\">RunVaspCustodian</text>\n",
       "</g>\n",
       "<!-- 1&#45;&gt;2 -->\n",
       "<g id=\"edge2\" class=\"edge\"><title>1&#45;&gt;2</title>\n",
       "<path fill=\"none\" stroke=\"black\" d=\"M316.247,-18C324.776,-18 333.395,-18 341.785,-18\"/>\n",
       "<polygon fill=\"black\" stroke=\"black\" points=\"341.883,-21.5001 351.883,-18 341.883,-14.5001 341.883,-21.5001\"/>\n",
       "</g>\n",
       "<!-- 3 -->\n",
       "<g id=\"node4\" class=\"node\"><title>3</title>\n",
       "<polygon fill=\"none\" stroke=\"black\" points=\"602,-36 510,-36 510,-0 602,-0 602,-36\"/>\n",
       "<text text-anchor=\"middle\" x=\"556\" y=\"-14.3\" font-family=\"Times,serif\" font-size=\"14.00\">PassCalcLocs</text>\n",
       "</g>\n",
       "<!-- 2&#45;&gt;3 -->\n",
       "<g id=\"edge3\" class=\"edge\"><title>2&#45;&gt;3</title>\n",
       "<path fill=\"none\" stroke=\"black\" d=\"M474.206,-18C482.72,-18 491.439,-18 499.851,-18\"/>\n",
       "<polygon fill=\"black\" stroke=\"black\" points=\"499.926,-21.5001 509.926,-18 499.926,-14.5001 499.926,-21.5001\"/>\n",
       "</g>\n",
       "<!-- 4 -->\n",
       "<g id=\"node5\" class=\"node\"><title>4</title>\n",
       "<polygon fill=\"none\" stroke=\"black\" points=\"714,-36 638,-36 638,-0 714,-0 714,-36\"/>\n",
       "<text text-anchor=\"middle\" x=\"676\" y=\"-14.3\" font-family=\"Times,serif\" font-size=\"14.00\">VaspToDb</text>\n",
       "</g>\n",
       "<!-- 3&#45;&gt;4 -->\n",
       "<g id=\"edge4\" class=\"edge\"><title>3&#45;&gt;4</title>\n",
       "<path fill=\"none\" stroke=\"black\" d=\"M602.284,-18C610.602,-18 619.304,-18 627.679,-18\"/>\n",
       "<polygon fill=\"black\" stroke=\"black\" points=\"627.684,-21.5001 637.684,-18 627.684,-14.5001 627.684,-21.5001\"/>\n",
       "</g>\n",
       "</g>\n",
       "</svg>\n"
      ],
      "text/plain": [
       "<graphviz.dot.Digraph at 0x7f5617f2f9e8>"
      ]
     },
     "execution_count": 23,
     "metadata": {},
     "output_type": "execute_result"
    }
   ],
   "source": [
    "wf_to_graph(wf.fws[0])"
   ]
  },
  {
   "cell_type": "code",
   "execution_count": 24,
   "metadata": {
    "collapsed": true
   },
   "outputs": [],
   "source": [
    "modified = add_modify_incar(wf, {\"incar_update\": {\"ENCUT\": 700}})"
   ]
  },
  {
   "cell_type": "code",
   "execution_count": 25,
   "metadata": {},
   "outputs": [
    {
     "data": {
      "image/svg+xml": [
       "<?xml version=\"1.0\" encoding=\"UTF-8\" standalone=\"no\"?>\n",
       "<!DOCTYPE svg PUBLIC \"-//W3C//DTD SVG 1.1//EN\"\n",
       " \"http://www.w3.org/Graphics/SVG/1.1/DTD/svg11.dtd\">\n",
       "<!-- Generated by graphviz version 2.38.0 (20140413.2041)\n",
       " -->\n",
       "<!-- Title: %3 Pages: 1 -->\n",
       "<svg width=\"844pt\" height=\"44pt\"\n",
       " viewBox=\"0.00 0.00 844.00 44.00\" xmlns=\"http://www.w3.org/2000/svg\" xmlns:xlink=\"http://www.w3.org/1999/xlink\">\n",
       "<g id=\"graph0\" class=\"graph\" transform=\"scale(1 1) rotate(0) translate(4 40)\">\n",
       "<title>%3</title>\n",
       "<polygon fill=\"white\" stroke=\"none\" points=\"-4,4 -4,-40 840,-40 840,4 -4,4\"/>\n",
       "<!-- 0 -->\n",
       "<g id=\"node1\" class=\"node\"><title>0</title>\n",
       "<polygon fill=\"none\" stroke=\"black\" points=\"116,-36 7.10543e-15,-36 7.10543e-15,-0 116,-0 116,-36\"/>\n",
       "<text text-anchor=\"middle\" x=\"58\" y=\"-14.3\" font-family=\"Times,serif\" font-size=\"14.00\">CopyVaspOutputs</text>\n",
       "</g>\n",
       "<!-- 1 -->\n",
       "<g id=\"node2\" class=\"node\"><title>1</title>\n",
       "<polygon fill=\"none\" stroke=\"black\" points=\"316,-36 152,-36 152,-0 316,-0 316,-36\"/>\n",
       "<text text-anchor=\"middle\" x=\"234\" y=\"-14.3\" font-family=\"Times,serif\" font-size=\"14.00\">WriteVaspNSCFFromPrev</text>\n",
       "</g>\n",
       "<!-- 0&#45;&gt;1 -->\n",
       "<g id=\"edge1\" class=\"edge\"><title>0&#45;&gt;1</title>\n",
       "<path fill=\"none\" stroke=\"black\" d=\"M116.456,-18C124.638,-18 133.216,-18 141.848,-18\"/>\n",
       "<polygon fill=\"black\" stroke=\"black\" points=\"141.987,-21.5001 151.987,-18 141.986,-14.5001 141.987,-21.5001\"/>\n",
       "</g>\n",
       "<!-- 2 -->\n",
       "<g id=\"node3\" class=\"node\"><title>2</title>\n",
       "<polygon fill=\"none\" stroke=\"black\" points=\"438,-36 352,-36 352,-0 438,-0 438,-36\"/>\n",
       "<text text-anchor=\"middle\" x=\"395\" y=\"-14.3\" font-family=\"Times,serif\" font-size=\"14.00\">ModifyIncar</text>\n",
       "</g>\n",
       "<!-- 1&#45;&gt;2 -->\n",
       "<g id=\"edge2\" class=\"edge\"><title>1&#45;&gt;2</title>\n",
       "<path fill=\"none\" stroke=\"black\" d=\"M316.363,-18C324.959,-18 333.525,-18 341.66,-18\"/>\n",
       "<polygon fill=\"black\" stroke=\"black\" points=\"341.704,-21.5001 351.704,-18 341.704,-14.5001 341.704,-21.5001\"/>\n",
       "</g>\n",
       "<!-- 3 -->\n",
       "<g id=\"node4\" class=\"node\"><title>3</title>\n",
       "<polygon fill=\"none\" stroke=\"black\" points=\"596,-36 474,-36 474,-0 596,-0 596,-36\"/>\n",
       "<text text-anchor=\"middle\" x=\"535\" y=\"-14.3\" font-family=\"Times,serif\" font-size=\"14.00\">RunVaspCustodian</text>\n",
       "</g>\n",
       "<!-- 2&#45;&gt;3 -->\n",
       "<g id=\"edge3\" class=\"edge\"><title>2&#45;&gt;3</title>\n",
       "<path fill=\"none\" stroke=\"black\" d=\"M438.154,-18C446.244,-18 454.918,-18 463.62,-18\"/>\n",
       "<polygon fill=\"black\" stroke=\"black\" points=\"463.816,-21.5001 473.816,-18 463.816,-14.5001 463.816,-21.5001\"/>\n",
       "</g>\n",
       "<!-- 4 -->\n",
       "<g id=\"node5\" class=\"node\"><title>4</title>\n",
       "<polygon fill=\"none\" stroke=\"black\" points=\"724,-36 632,-36 632,-0 724,-0 724,-36\"/>\n",
       "<text text-anchor=\"middle\" x=\"678\" y=\"-14.3\" font-family=\"Times,serif\" font-size=\"14.00\">PassCalcLocs</text>\n",
       "</g>\n",
       "<!-- 3&#45;&gt;4 -->\n",
       "<g id=\"edge4\" class=\"edge\"><title>3&#45;&gt;4</title>\n",
       "<path fill=\"none\" stroke=\"black\" d=\"M596.206,-18C604.72,-18 613.439,-18 621.851,-18\"/>\n",
       "<polygon fill=\"black\" stroke=\"black\" points=\"621.926,-21.5001 631.926,-18 621.926,-14.5001 621.926,-21.5001\"/>\n",
       "</g>\n",
       "<!-- 5 -->\n",
       "<g id=\"node6\" class=\"node\"><title>5</title>\n",
       "<polygon fill=\"none\" stroke=\"black\" points=\"836,-36 760,-36 760,-0 836,-0 836,-36\"/>\n",
       "<text text-anchor=\"middle\" x=\"798\" y=\"-14.3\" font-family=\"Times,serif\" font-size=\"14.00\">VaspToDb</text>\n",
       "</g>\n",
       "<!-- 4&#45;&gt;5 -->\n",
       "<g id=\"edge5\" class=\"edge\"><title>4&#45;&gt;5</title>\n",
       "<path fill=\"none\" stroke=\"black\" d=\"M724.284,-18C732.602,-18 741.304,-18 749.679,-18\"/>\n",
       "<polygon fill=\"black\" stroke=\"black\" points=\"749.684,-21.5001 759.684,-18 749.684,-14.5001 749.684,-21.5001\"/>\n",
       "</g>\n",
       "</g>\n",
       "</svg>\n"
      ],
      "text/plain": [
       "<graphviz.dot.Digraph at 0x7f5617f2f4e0>"
      ]
     },
     "execution_count": 25,
     "metadata": {},
     "output_type": "execute_result"
    }
   ],
   "source": [
    "wf_to_graph(modified.fws[0])"
   ]
  },
  {
   "cell_type": "markdown",
   "metadata": {},
   "source": [
    "Prior to the execution of the VASP calculation, a ModifyIncar firetask is inserted which will read the incar and modify the ENCUT parameter such that it matches our powerup specification."
   ]
  },
  {
   "cell_type": "markdown",
   "metadata": {},
   "source": [
    "### add_tags, add_structure_metadata"
   ]
  },
  {
   "cell_type": "code",
   "execution_count": 26,
   "metadata": {
    "collapsed": true
   },
   "outputs": [],
   "source": [
    "from atomate.vasp.powerups import add_tags"
   ]
  },
  {
   "cell_type": "code",
   "execution_count": 27,
   "metadata": {},
   "outputs": [
    {
     "name": "stdout",
     "output_type": "stream",
     "text": [
      "WF metadata:  {}\n",
      "Last task:  <{{atomate.vasp.firetasks.parse_outputs.VaspToDb}}>:{'additional_fields': {'task_label': 'nscf uniform'}, 'parse_dos': True, 'bandstructure_mode': 'uniform', 'db_file': None}\n"
     ]
    }
   ],
   "source": [
    "print(\"WF metadata: \", wf.metadata)\n",
    "print(\"Last task: \", wf.fws[0].tasks[-1])"
   ]
  },
  {
   "cell_type": "code",
   "execution_count": 28,
   "metadata": {
    "collapsed": true
   },
   "outputs": [],
   "source": [
    "wf = add_tags(wf, [\"photocathodes\"])"
   ]
  },
  {
   "cell_type": "code",
   "execution_count": 29,
   "metadata": {},
   "outputs": [
    {
     "name": "stdout",
     "output_type": "stream",
     "text": [
      "WF metadata:  {'tags': ['photocathodes']}\n",
      "Last task:  <{{atomate.vasp.firetasks.parse_outputs.VaspToDb}}>:{'additional_fields': {'task_label': 'nscf uniform', 'tags': ['photocathodes']}, 'parse_dos': True, 'bandstructure_mode': 'uniform', 'db_file': None}\n"
     ]
    }
   ],
   "source": [
    "print(\"WF metadata: \", wf.metadata)\n",
    "print(\"Last task: \", wf.fws[0].tasks[-1])"
   ]
  },
  {
   "cell_type": "markdown",
   "metadata": {},
   "source": [
    "## A few other \"complex\" workflows."
   ]
  },
  {
   "cell_type": "markdown",
   "metadata": {},
   "source": [
    "Atomate contains a few workflows that will do more complicating things like calculations on surfaces.  Let's say I want to calculate the determine the hydrogen adsorption energy on every low-index facet of Pt."
   ]
  },
  {
   "cell_type": "code",
   "execution_count": 30,
   "metadata": {
    "collapsed": true
   },
   "outputs": [],
   "source": [
    "from atomate.vasp.workflows.base.adsorption import get_wf_surface_all_slabs\n",
    "from pymatgen import MPRester, Molecule"
   ]
  },
  {
   "cell_type": "code",
   "execution_count": 31,
   "metadata": {
    "collapsed": true,
    "scrolled": true
   },
   "outputs": [],
   "source": [
    "pt = mpr.get_structure_by_material_id(\"Pt\", conventional_unit_cell=True)\n",
    "adsorbate = Molecule(\"H\", [[0, 0, 0]])"
   ]
  },
  {
   "cell_type": "code",
   "execution_count": 32,
   "metadata": {
    "collapsed": true
   },
   "outputs": [],
   "source": [
    "wf = get_wf_surface_all_slabs(pt, [adsorbate])"
   ]
  },
  {
   "cell_type": "code",
   "execution_count": 33,
   "metadata": {},
   "outputs": [
    {
     "data": {
      "image/svg+xml": [
       "<?xml version=\"1.0\" encoding=\"UTF-8\" standalone=\"no\"?>\n",
       "<!DOCTYPE svg PUBLIC \"-//W3C//DTD SVG 1.1//EN\"\n",
       " \"http://www.w3.org/Graphics/SVG/1.1/DTD/svg11.dtd\">\n",
       "<!-- Generated by graphviz version 2.38.0 (20140413.2041)\n",
       " -->\n",
       "<!-- Title: %3 Pages: 1 -->\n",
       "<svg width=\"450pt\" height=\"746pt\"\n",
       " viewBox=\"0.00 0.00 450.00 746.00\" xmlns=\"http://www.w3.org/2000/svg\" xmlns:xlink=\"http://www.w3.org/1999/xlink\">\n",
       "<g id=\"graph0\" class=\"graph\" transform=\"scale(1 1) rotate(0) translate(4 742)\">\n",
       "<title>%3</title>\n",
       "<polygon fill=\"white\" stroke=\"none\" points=\"-4,4 -4,-742 446,-742 446,4 -4,4\"/>\n",
       "<!-- &#45;1176 -->\n",
       "<g id=\"node1\" class=\"node\"><title>&#45;1176</title>\n",
       "<polygon fill=\"none\" stroke=\"#1f62a2\" points=\"442,-738 188,-738 188,-702 442,-702 442,-738\"/>\n",
       "<text text-anchor=\"middle\" x=\"315\" y=\"-716.3\" font-family=\"Times,serif\" font-size=\"14.00\">Pt&#45;H1&#45;Pt_(1, 0, 0) adsorbate optimization 2</text>\n",
       "</g>\n",
       "<!-- &#45;1175 -->\n",
       "<g id=\"node2\" class=\"node\"><title>&#45;1175</title>\n",
       "<polygon fill=\"none\" stroke=\"#1f62a2\" points=\"442,-684 188,-684 188,-648 442,-648 442,-684\"/>\n",
       "<text text-anchor=\"middle\" x=\"315\" y=\"-662.3\" font-family=\"Times,serif\" font-size=\"14.00\">Pt&#45;H1&#45;Pt_(1, 0, 0) adsorbate optimization 1</text>\n",
       "</g>\n",
       "<!-- &#45;1174 -->\n",
       "<g id=\"node3\" class=\"node\"><title>&#45;1174</title>\n",
       "<polygon fill=\"none\" stroke=\"#1f62a2\" points=\"442,-630 188,-630 188,-594 442,-594 442,-630\"/>\n",
       "<text text-anchor=\"middle\" x=\"315\" y=\"-608.3\" font-family=\"Times,serif\" font-size=\"14.00\">Pt&#45;H1&#45;Pt_(1, 0, 0) adsorbate optimization 0</text>\n",
       "</g>\n",
       "<!-- &#45;1173 -->\n",
       "<g id=\"node4\" class=\"node\"><title>&#45;1173</title>\n",
       "<polygon fill=\"none\" stroke=\"#1f62a2\" points=\"411.5,-576 218.5,-576 218.5,-540 411.5,-540 411.5,-576\"/>\n",
       "<text text-anchor=\"middle\" x=\"315\" y=\"-554.3\" font-family=\"Times,serif\" font-size=\"14.00\">Pt&#45;Pt_(1, 0, 0) slab optimization</text>\n",
       "</g>\n",
       "<!-- &#45;1172 -->\n",
       "<g id=\"node5\" class=\"node\"><title>&#45;1172</title>\n",
       "<polygon fill=\"none\" stroke=\"#1f62a2\" points=\"442,-522 188,-522 188,-486 442,-486 442,-522\"/>\n",
       "<text text-anchor=\"middle\" x=\"315\" y=\"-500.3\" font-family=\"Times,serif\" font-size=\"14.00\">Pt&#45;H1&#45;Pt_(1, 1, 0) adsorbate optimization 3</text>\n",
       "</g>\n",
       "<!-- &#45;1171 -->\n",
       "<g id=\"node6\" class=\"node\"><title>&#45;1171</title>\n",
       "<polygon fill=\"none\" stroke=\"#1f62a2\" points=\"442,-468 188,-468 188,-432 442,-432 442,-468\"/>\n",
       "<text text-anchor=\"middle\" x=\"315\" y=\"-446.3\" font-family=\"Times,serif\" font-size=\"14.00\">Pt&#45;H1&#45;Pt_(1, 1, 0) adsorbate optimization 2</text>\n",
       "</g>\n",
       "<!-- &#45;1170 -->\n",
       "<g id=\"node7\" class=\"node\"><title>&#45;1170</title>\n",
       "<polygon fill=\"none\" stroke=\"#1f62a2\" points=\"442,-414 188,-414 188,-378 442,-378 442,-414\"/>\n",
       "<text text-anchor=\"middle\" x=\"315\" y=\"-392.3\" font-family=\"Times,serif\" font-size=\"14.00\">Pt&#45;H1&#45;Pt_(1, 1, 0) adsorbate optimization 1</text>\n",
       "</g>\n",
       "<!-- &#45;1169 -->\n",
       "<g id=\"node8\" class=\"node\"><title>&#45;1169</title>\n",
       "<polygon fill=\"none\" stroke=\"#1f62a2\" points=\"442,-360 188,-360 188,-324 442,-324 442,-360\"/>\n",
       "<text text-anchor=\"middle\" x=\"315\" y=\"-338.3\" font-family=\"Times,serif\" font-size=\"14.00\">Pt&#45;H1&#45;Pt_(1, 1, 0) adsorbate optimization 0</text>\n",
       "</g>\n",
       "<!-- &#45;1168 -->\n",
       "<g id=\"node9\" class=\"node\"><title>&#45;1168</title>\n",
       "<polygon fill=\"none\" stroke=\"#1f62a2\" points=\"411.5,-306 218.5,-306 218.5,-270 411.5,-270 411.5,-306\"/>\n",
       "<text text-anchor=\"middle\" x=\"315\" y=\"-284.3\" font-family=\"Times,serif\" font-size=\"14.00\">Pt&#45;Pt_(1, 1, 0) slab optimization</text>\n",
       "</g>\n",
       "<!-- &#45;1167 -->\n",
       "<g id=\"node10\" class=\"node\"><title>&#45;1167</title>\n",
       "<polygon fill=\"none\" stroke=\"#1f62a2\" points=\"442,-252 188,-252 188,-216 442,-216 442,-252\"/>\n",
       "<text text-anchor=\"middle\" x=\"315\" y=\"-230.3\" font-family=\"Times,serif\" font-size=\"14.00\">Pt&#45;H1&#45;Pt_(1, 1, 1) adsorbate optimization 3</text>\n",
       "</g>\n",
       "<!-- &#45;1166 -->\n",
       "<g id=\"node11\" class=\"node\"><title>&#45;1166</title>\n",
       "<polygon fill=\"none\" stroke=\"#1f62a2\" points=\"442,-198 188,-198 188,-162 442,-162 442,-198\"/>\n",
       "<text text-anchor=\"middle\" x=\"315\" y=\"-176.3\" font-family=\"Times,serif\" font-size=\"14.00\">Pt&#45;H1&#45;Pt_(1, 1, 1) adsorbate optimization 2</text>\n",
       "</g>\n",
       "<!-- &#45;1165 -->\n",
       "<g id=\"node12\" class=\"node\"><title>&#45;1165</title>\n",
       "<polygon fill=\"none\" stroke=\"#1f62a2\" points=\"442,-144 188,-144 188,-108 442,-108 442,-144\"/>\n",
       "<text text-anchor=\"middle\" x=\"315\" y=\"-122.3\" font-family=\"Times,serif\" font-size=\"14.00\">Pt&#45;H1&#45;Pt_(1, 1, 1) adsorbate optimization 1</text>\n",
       "</g>\n",
       "<!-- &#45;1164 -->\n",
       "<g id=\"node13\" class=\"node\"><title>&#45;1164</title>\n",
       "<polygon fill=\"none\" stroke=\"#1f62a2\" points=\"442,-90 188,-90 188,-54 442,-54 442,-90\"/>\n",
       "<text text-anchor=\"middle\" x=\"315\" y=\"-68.3\" font-family=\"Times,serif\" font-size=\"14.00\">Pt&#45;H1&#45;Pt_(1, 1, 1) adsorbate optimization 0</text>\n",
       "</g>\n",
       "<!-- &#45;1163 -->\n",
       "<g id=\"node14\" class=\"node\"><title>&#45;1163</title>\n",
       "<polygon fill=\"none\" stroke=\"#1f62a2\" points=\"411.5,-36 218.5,-36 218.5,-0 411.5,-0 411.5,-36\"/>\n",
       "<text text-anchor=\"middle\" x=\"315\" y=\"-14.3\" font-family=\"Times,serif\" font-size=\"14.00\">Pt&#45;Pt_(1, 1, 1) slab optimization</text>\n",
       "</g>\n",
       "<!-- &#45;1162 -->\n",
       "<g id=\"node15\" class=\"node\"><title>&#45;1162</title>\n",
       "<polygon fill=\"none\" stroke=\"#1f62a2\" points=\"152,-387 0,-387 0,-351 152,-351 152,-387\"/>\n",
       "<text text-anchor=\"middle\" x=\"76\" y=\"-365.3\" font-family=\"Times,serif\" font-size=\"14.00\">Pt&#45;structure optimization</text>\n",
       "</g>\n",
       "<!-- &#45;1162&#45;&gt;&#45;1176 -->\n",
       "<g id=\"edge14\" class=\"edge\"><title>&#45;1162&#45;&gt;&#45;1176</title>\n",
       "<path fill=\"none\" stroke=\"black\" d=\"M77.3551,-387.008C79.4702,-442.04 93.7251,-609.323 188,-693 189.176,-694.044 190.383,-695.051 191.618,-696.023\"/>\n",
       "<polygon fill=\"black\" stroke=\"black\" points=\"189.931,-699.112 200.145,-701.929 193.917,-693.357 189.931,-699.112\"/>\n",
       "</g>\n",
       "<!-- &#45;1162&#45;&gt;&#45;1175 -->\n",
       "<g id=\"edge13\" class=\"edge\"><title>&#45;1162&#45;&gt;&#45;1175</title>\n",
       "<path fill=\"none\" stroke=\"black\" d=\"M78.752,-387.141C84.493,-436.068 107.29,-571.58 188,-639 189.387,-640.159 190.812,-641.271 192.271,-642.339\"/>\n",
       "<polygon fill=\"black\" stroke=\"black\" points=\"190.679,-645.478 200.974,-647.981 194.487,-639.604 190.679,-645.478\"/>\n",
       "</g>\n",
       "<!-- &#45;1162&#45;&gt;&#45;1174 -->\n",
       "<g id=\"edge12\" class=\"edge\"><title>&#45;1162&#45;&gt;&#45;1174</title>\n",
       "<path fill=\"none\" stroke=\"black\" d=\"M80.7798,-387.177C90.5134,-429.184 120.553,-533.343 188,-585 189.632,-586.25 191.309,-587.445 193.025,-588.587\"/>\n",
       "<polygon fill=\"black\" stroke=\"black\" points=\"191.532,-591.771 201.916,-593.871 195.108,-585.753 191.532,-591.771\"/>\n",
       "</g>\n",
       "<!-- &#45;1162&#45;&gt;&#45;1173 -->\n",
       "<g id=\"edge11\" class=\"edge\"><title>&#45;1162&#45;&gt;&#45;1173</title>\n",
       "<path fill=\"none\" stroke=\"black\" d=\"M84.0383,-387.212C98.1931,-421.269 133.487,-494.454 188,-531 194.467,-535.336 201.505,-538.992 208.839,-542.073\"/>\n",
       "<polygon fill=\"black\" stroke=\"black\" points=\"207.675,-545.375 218.266,-545.675 210.174,-538.836 207.675,-545.375\"/>\n",
       "</g>\n",
       "<!-- &#45;1162&#45;&gt;&#45;1172 -->\n",
       "<g id=\"edge10\" class=\"edge\"><title>&#45;1162&#45;&gt;&#45;1172</title>\n",
       "<path fill=\"none\" stroke=\"black\" d=\"M90.2002,-387.091C109.04,-411.512 146.041,-454.544 188,-477 191.353,-478.795 194.817,-480.47 198.361,-482.034\"/>\n",
       "<polygon fill=\"black\" stroke=\"black\" points=\"197.33,-485.393 207.912,-485.919 199.968,-478.909 197.33,-485.393\"/>\n",
       "</g>\n",
       "<!-- &#45;1162&#45;&gt;&#45;1171 -->\n",
       "<g id=\"edge9\" class=\"edge\"><title>&#45;1162&#45;&gt;&#45;1171</title>\n",
       "<path fill=\"none\" stroke=\"black\" d=\"M109.14,-387.211C130.841,-398.856 160.446,-413.502 188,-423 194.466,-425.229 201.184,-427.31 208.002,-429.248\"/>\n",
       "<polygon fill=\"black\" stroke=\"black\" points=\"207.477,-432.732 218.046,-431.984 209.317,-425.978 207.477,-432.732\"/>\n",
       "</g>\n",
       "<!-- &#45;1162&#45;&gt;&#45;1170 -->\n",
       "<g id=\"edge8\" class=\"edge\"><title>&#45;1162&#45;&gt;&#45;1170</title>\n",
       "<path fill=\"none\" stroke=\"black\" d=\"M152.314,-377.58C160.497,-378.512 168.999,-379.481 177.63,-380.464\"/>\n",
       "<polygon fill=\"black\" stroke=\"black\" points=\"177.478,-383.969 187.81,-381.624 178.271,-377.014 177.478,-383.969\"/>\n",
       "</g>\n",
       "<!-- &#45;1162&#45;&gt;&#45;1169 -->\n",
       "<g id=\"edge7\" class=\"edge\"><title>&#45;1162&#45;&gt;&#45;1169</title>\n",
       "<path fill=\"none\" stroke=\"black\" d=\"M152.314,-360.42C160.497,-359.488 168.999,-358.519 177.63,-357.536\"/>\n",
       "<polygon fill=\"black\" stroke=\"black\" points=\"178.271,-360.986 187.81,-356.376 177.478,-354.031 178.271,-360.986\"/>\n",
       "</g>\n",
       "<!-- &#45;1162&#45;&gt;&#45;1168 -->\n",
       "<g id=\"edge6\" class=\"edge\"><title>&#45;1162&#45;&gt;&#45;1168</title>\n",
       "<path fill=\"none\" stroke=\"black\" d=\"M109.14,-350.789C130.841,-339.144 160.446,-324.498 188,-315 194.689,-312.694 201.648,-310.546 208.708,-308.552\"/>\n",
       "<polygon fill=\"black\" stroke=\"black\" points=\"209.648,-311.924 218.383,-305.928 207.816,-305.168 209.648,-311.924\"/>\n",
       "</g>\n",
       "<!-- &#45;1162&#45;&gt;&#45;1167 -->\n",
       "<g id=\"edge5\" class=\"edge\"><title>&#45;1162&#45;&gt;&#45;1167</title>\n",
       "<path fill=\"none\" stroke=\"black\" d=\"M90.2002,-350.909C109.04,-326.488 146.041,-283.456 188,-261 191.353,-259.205 194.817,-257.53 198.361,-255.966\"/>\n",
       "<polygon fill=\"black\" stroke=\"black\" points=\"199.968,-259.091 207.912,-252.081 197.33,-252.607 199.968,-259.091\"/>\n",
       "</g>\n",
       "<!-- &#45;1162&#45;&gt;&#45;1166 -->\n",
       "<g id=\"edge4\" class=\"edge\"><title>&#45;1162&#45;&gt;&#45;1166</title>\n",
       "<path fill=\"none\" stroke=\"black\" d=\"M84.0383,-350.788C98.1931,-316.731 133.487,-243.546 188,-207 190.195,-205.528 192.456,-204.135 194.771,-202.816\"/>\n",
       "<polygon fill=\"black\" stroke=\"black\" points=\"196.665,-205.778 203.953,-198.088 193.46,-199.555 196.665,-205.778\"/>\n",
       "</g>\n",
       "<!-- &#45;1162&#45;&gt;&#45;1165 -->\n",
       "<g id=\"edge3\" class=\"edge\"><title>&#45;1162&#45;&gt;&#45;1165</title>\n",
       "<path fill=\"none\" stroke=\"black\" d=\"M80.7798,-350.823C90.5134,-308.816 120.553,-204.657 188,-153 189.632,-151.75 191.309,-150.555 193.025,-149.413\"/>\n",
       "<polygon fill=\"black\" stroke=\"black\" points=\"195.108,-152.247 201.916,-144.129 191.532,-146.229 195.108,-152.247\"/>\n",
       "</g>\n",
       "<!-- &#45;1162&#45;&gt;&#45;1164 -->\n",
       "<g id=\"edge2\" class=\"edge\"><title>&#45;1162&#45;&gt;&#45;1164</title>\n",
       "<path fill=\"none\" stroke=\"black\" d=\"M78.752,-350.859C84.493,-301.932 107.29,-166.42 188,-99 189.387,-97.8414 190.812,-96.7291 192.271,-95.6612\"/>\n",
       "<polygon fill=\"black\" stroke=\"black\" points=\"194.487,-98.3956 200.974,-90.0191 190.679,-92.5218 194.487,-98.3956\"/>\n",
       "</g>\n",
       "<!-- &#45;1162&#45;&gt;&#45;1163 -->\n",
       "<g id=\"edge1\" class=\"edge\"><title>&#45;1162&#45;&gt;&#45;1163</title>\n",
       "<path fill=\"none\" stroke=\"black\" d=\"M77.3551,-350.992C79.4702,-295.96 93.7251,-128.677 188,-45 194.176,-39.518 201.191,-35.0556 208.675,-31.4327\"/>\n",
       "<polygon fill=\"black\" stroke=\"black\" points=\"210.561,-34.4325 218.376,-27.2791 207.806,-27.9974 210.561,-34.4325\"/>\n",
       "</g>\n",
       "</g>\n",
       "</svg>\n"
      ],
      "text/plain": [
       "<graphviz.dot.Digraph at 0x7f5617dd1b70>"
      ]
     },
     "execution_count": 33,
     "metadata": {},
     "output_type": "execute_result"
    }
   ],
   "source": [
    "wf_to_graph(wf)"
   ]
  },
  {
   "cell_type": "markdown",
   "metadata": {},
   "source": [
    "This is how you can do the requisite calculation to find the band-gap from an HSE calculation after the PBE bandstructure."
   ]
  },
  {
   "cell_type": "code",
   "execution_count": 34,
   "metadata": {
    "collapsed": true
   },
   "outputs": [],
   "source": [
    "from atomate.vasp.workflows.presets.core import wf_bandstructure_plus_hse"
   ]
  },
  {
   "cell_type": "code",
   "execution_count": 35,
   "metadata": {
    "collapsed": true
   },
   "outputs": [],
   "source": [
    "wf = wf_bandstructure_plus_hse(structure)"
   ]
  },
  {
   "cell_type": "code",
   "execution_count": 36,
   "metadata": {},
   "outputs": [
    {
     "data": {
      "image/svg+xml": [
       "<?xml version=\"1.0\" encoding=\"UTF-8\" standalone=\"no\"?>\n",
       "<!DOCTYPE svg PUBLIC \"-//W3C//DTD SVG 1.1//EN\"\n",
       " \"http://www.w3.org/Graphics/SVG/1.1/DTD/svg11.dtd\">\n",
       "<!-- Generated by graphviz version 2.38.0 (20140413.2041)\n",
       " -->\n",
       "<!-- Title: %3 Pages: 1 -->\n",
       "<svg width=\"506pt\" height=\"98pt\"\n",
       " viewBox=\"0.00 0.00 506.00 98.00\" xmlns=\"http://www.w3.org/2000/svg\" xmlns:xlink=\"http://www.w3.org/1999/xlink\">\n",
       "<g id=\"graph0\" class=\"graph\" transform=\"scale(1 1) rotate(0) translate(4 94)\">\n",
       "<title>%3</title>\n",
       "<polygon fill=\"white\" stroke=\"none\" points=\"-4,4 -4,-94 502,-94 502,4 -4,4\"/>\n",
       "<!-- &#45;1181 -->\n",
       "<g id=\"node1\" class=\"node\"><title>&#45;1181</title>\n",
       "<polygon fill=\"none\" stroke=\"#1f62a2\" points=\"498,-90 424,-90 424,-54 498,-54 498,-90\"/>\n",
       "<text text-anchor=\"middle\" x=\"461\" y=\"-68.3\" font-family=\"Times,serif\" font-size=\"14.00\">Si&#45;hse gap</text>\n",
       "</g>\n",
       "<!-- &#45;1180 -->\n",
       "<g id=\"node2\" class=\"node\"><title>&#45;1180</title>\n",
       "<polygon fill=\"none\" stroke=\"#1f62a2\" points=\"376,-90 297,-90 297,-54 376,-54 376,-90\"/>\n",
       "<text text-anchor=\"middle\" x=\"336.5\" y=\"-68.3\" font-family=\"Times,serif\" font-size=\"14.00\">Si&#45;nscf line</text>\n",
       "</g>\n",
       "<!-- &#45;1180&#45;&gt;&#45;1181 -->\n",
       "<g id=\"edge1\" class=\"edge\"><title>&#45;1180&#45;&gt;&#45;1181</title>\n",
       "<path fill=\"none\" stroke=\"black\" d=\"M376.26,-72C388.198,-72 401.46,-72 413.843,-72\"/>\n",
       "<polygon fill=\"black\" stroke=\"black\" points=\"413.991,-75.5001 423.991,-72 413.991,-68.5001 413.991,-75.5001\"/>\n",
       "</g>\n",
       "<!-- &#45;1179 -->\n",
       "<g id=\"node3\" class=\"node\"><title>&#45;1179</title>\n",
       "<polygon fill=\"none\" stroke=\"#1f62a2\" points=\"388,-36 285,-36 285,-0 388,-0 388,-36\"/>\n",
       "<text text-anchor=\"middle\" x=\"336.5\" y=\"-14.3\" font-family=\"Times,serif\" font-size=\"14.00\">Si&#45;nscf uniform</text>\n",
       "</g>\n",
       "<!-- &#45;1178 -->\n",
       "<g id=\"node4\" class=\"node\"><title>&#45;1178</title>\n",
       "<polygon fill=\"none\" stroke=\"#1f62a2\" points=\"249,-63 188,-63 188,-27 249,-27 249,-63\"/>\n",
       "<text text-anchor=\"middle\" x=\"218.5\" y=\"-41.3\" font-family=\"Times,serif\" font-size=\"14.00\">Si&#45;static</text>\n",
       "</g>\n",
       "<!-- &#45;1178&#45;&gt;&#45;1180 -->\n",
       "<g id=\"edge3\" class=\"edge\"><title>&#45;1178&#45;&gt;&#45;1180</title>\n",
       "<path fill=\"none\" stroke=\"black\" d=\"M249.072,-51.8831C260.512,-54.546 273.914,-57.6652 286.702,-60.6419\"/>\n",
       "<polygon fill=\"black\" stroke=\"black\" points=\"286.245,-64.1289 296.778,-62.9871 287.832,-57.3112 286.245,-64.1289\"/>\n",
       "</g>\n",
       "<!-- &#45;1178&#45;&gt;&#45;1179 -->\n",
       "<g id=\"edge2\" class=\"edge\"><title>&#45;1178&#45;&gt;&#45;1179</title>\n",
       "<path fill=\"none\" stroke=\"black\" d=\"M249.072,-38.1169C257.058,-36.2581 265.999,-34.1771 275.02,-32.0773\"/>\n",
       "<polygon fill=\"black\" stroke=\"black\" points=\"275.853,-35.4771 284.799,-29.8012 274.266,-28.6594 275.853,-35.4771\"/>\n",
       "</g>\n",
       "<!-- &#45;1177 -->\n",
       "<g id=\"node5\" class=\"node\"><title>&#45;1177</title>\n",
       "<polygon fill=\"none\" stroke=\"#1f62a2\" points=\"152,-63 0,-63 0,-27 152,-27 152,-63\"/>\n",
       "<text text-anchor=\"middle\" x=\"76\" y=\"-41.3\" font-family=\"Times,serif\" font-size=\"14.00\">Si&#45;structure optimization</text>\n",
       "</g>\n",
       "<!-- &#45;1177&#45;&gt;&#45;1178 -->\n",
       "<g id=\"edge4\" class=\"edge\"><title>&#45;1177&#45;&gt;&#45;1178</title>\n",
       "<path fill=\"none\" stroke=\"black\" d=\"M152.186,-45C160.987,-45 169.684,-45 177.721,-45\"/>\n",
       "<polygon fill=\"black\" stroke=\"black\" points=\"177.859,-48.5001 187.859,-45 177.859,-41.5001 177.859,-48.5001\"/>\n",
       "</g>\n",
       "</g>\n",
       "</svg>\n"
      ],
      "text/plain": [
       "<graphviz.dot.Digraph at 0x7f561c20d6a0>"
      ]
     },
     "execution_count": 36,
     "metadata": {},
     "output_type": "execute_result"
    }
   ],
   "source": [
    "wf_to_graph(wf)"
   ]
  },
  {
   "cell_type": "markdown",
   "metadata": {},
   "source": [
    "There's also support for workflows in FEFF and QChem."
   ]
  },
  {
   "cell_type": "code",
   "execution_count": 37,
   "metadata": {
    "collapsed": true
   },
   "outputs": [],
   "source": [
    "from atomate.feff.workflows.core import get_wf_xas"
   ]
  },
  {
   "cell_type": "code",
   "execution_count": 38,
   "metadata": {},
   "outputs": [
    {
     "data": {
      "image/svg+xml": [
       "<?xml version=\"1.0\" encoding=\"UTF-8\" standalone=\"no\"?>\n",
       "<!DOCTYPE svg PUBLIC \"-//W3C//DTD SVG 1.1//EN\"\n",
       " \"http://www.w3.org/Graphics/SVG/1.1/DTD/svg11.dtd\">\n",
       "<!-- Generated by graphviz version 2.38.0 (20140413.2041)\n",
       " -->\n",
       "<!-- Title: %3 Pages: 1 -->\n",
       "<svg width=\"111pt\" height=\"44pt\"\n",
       " viewBox=\"0.00 0.00 111.00 44.00\" xmlns=\"http://www.w3.org/2000/svg\" xmlns:xlink=\"http://www.w3.org/1999/xlink\">\n",
       "<g id=\"graph0\" class=\"graph\" transform=\"scale(1 1) rotate(0) translate(4 40)\">\n",
       "<title>%3</title>\n",
       "<polygon fill=\"white\" stroke=\"none\" points=\"-4,4 -4,-40 107,-40 107,4 -4,4\"/>\n",
       "<!-- &#45;1182 -->\n",
       "<g id=\"node1\" class=\"node\"><title>&#45;1182</title>\n",
       "<polygon fill=\"none\" stroke=\"#1f62a2\" points=\"103,-36 0,-36 0,-0 103,-0 103,-36\"/>\n",
       "<text text-anchor=\"middle\" x=\"51.5\" y=\"-14.3\" font-family=\"Times,serif\" font-size=\"14.00\">Si&#45;XANES&#45;K&#45;0</text>\n",
       "</g>\n",
       "</g>\n",
       "</svg>\n"
      ],
      "text/plain": [
       "<graphviz.dot.Digraph at 0x7f5661473b38>"
      ]
     },
     "execution_count": 38,
     "metadata": {},
     "output_type": "execute_result"
    }
   ],
   "source": [
    "wf = get_wf_xas(\"Si\", structure)\n",
    "wf_to_graph(wf)"
   ]
  },
  {
   "cell_type": "code",
   "execution_count": 39,
   "metadata": {},
   "outputs": [
    {
     "data": {
      "image/svg+xml": [
       "<?xml version=\"1.0\" encoding=\"UTF-8\" standalone=\"no\"?>\n",
       "<!DOCTYPE svg PUBLIC \"-//W3C//DTD SVG 1.1//EN\"\n",
       " \"http://www.w3.org/Graphics/SVG/1.1/DTD/svg11.dtd\">\n",
       "<!-- Generated by graphviz version 2.38.0 (20140413.2041)\n",
       " -->\n",
       "<!-- Title: %3 Pages: 1 -->\n",
       "<svg width=\"562pt\" height=\"44pt\"\n",
       " viewBox=\"0.00 0.00 562.00 44.00\" xmlns=\"http://www.w3.org/2000/svg\" xmlns:xlink=\"http://www.w3.org/1999/xlink\">\n",
       "<g id=\"graph0\" class=\"graph\" transform=\"scale(1 1) rotate(0) translate(4 40)\">\n",
       "<title>%3</title>\n",
       "<polygon fill=\"white\" stroke=\"none\" points=\"-4,4 -4,-40 558,-40 558,4 -4,4\"/>\n",
       "<!-- 0 -->\n",
       "<g id=\"node1\" class=\"node\"><title>0</title>\n",
       "<polygon fill=\"none\" stroke=\"black\" points=\"132,-36 0,-36 0,-0 132,-0 132,-36\"/>\n",
       "<text text-anchor=\"middle\" x=\"66\" y=\"-14.3\" font-family=\"Times,serif\" font-size=\"14.00\">WriteFeffFromIOSet</text>\n",
       "</g>\n",
       "<!-- 1 -->\n",
       "<g id=\"node2\" class=\"node\"><title>1</title>\n",
       "<polygon fill=\"none\" stroke=\"black\" points=\"263,-36 168,-36 168,-0 263,-0 263,-36\"/>\n",
       "<text text-anchor=\"middle\" x=\"215.5\" y=\"-14.3\" font-family=\"Times,serif\" font-size=\"14.00\">RunFeffDirect</text>\n",
       "</g>\n",
       "<!-- 0&#45;&gt;1 -->\n",
       "<g id=\"edge1\" class=\"edge\"><title>0&#45;&gt;1</title>\n",
       "<path fill=\"none\" stroke=\"black\" d=\"M132.125,-18C140.684,-18 149.4,-18 157.804,-18\"/>\n",
       "<polygon fill=\"black\" stroke=\"black\" points=\"157.868,-21.5001 167.868,-18 157.868,-14.5001 157.868,-21.5001\"/>\n",
       "</g>\n",
       "<!-- 2 -->\n",
       "<g id=\"node3\" class=\"node\"><title>2</title>\n",
       "<polygon fill=\"none\" stroke=\"black\" points=\"391,-36 299,-36 299,-0 391,-0 391,-36\"/>\n",
       "<text text-anchor=\"middle\" x=\"345\" y=\"-14.3\" font-family=\"Times,serif\" font-size=\"14.00\">PassCalcLocs</text>\n",
       "</g>\n",
       "<!-- 1&#45;&gt;2 -->\n",
       "<g id=\"edge2\" class=\"edge\"><title>1&#45;&gt;2</title>\n",
       "<path fill=\"none\" stroke=\"black\" d=\"M263.252,-18C271.539,-18 280.239,-18 288.734,-18\"/>\n",
       "<polygon fill=\"black\" stroke=\"black\" points=\"288.953,-21.5001 298.953,-18 288.953,-14.5001 288.953,-21.5001\"/>\n",
       "</g>\n",
       "<!-- 3 -->\n",
       "<g id=\"node4\" class=\"node\"><title>3</title>\n",
       "<polygon fill=\"none\" stroke=\"black\" points=\"554,-36 427,-36 427,-0 554,-0 554,-36\"/>\n",
       "<text text-anchor=\"middle\" x=\"490.5\" y=\"-14.3\" font-family=\"Times,serif\" font-size=\"14.00\">SpectrumToDbTask</text>\n",
       "</g>\n",
       "<!-- 2&#45;&gt;3 -->\n",
       "<g id=\"edge3\" class=\"edge\"><title>2&#45;&gt;3</title>\n",
       "<path fill=\"none\" stroke=\"black\" d=\"M391.011,-18C399.163,-18 407.854,-18 416.567,-18\"/>\n",
       "<polygon fill=\"black\" stroke=\"black\" points=\"416.776,-21.5001 426.776,-18 416.776,-14.5001 416.776,-21.5001\"/>\n",
       "</g>\n",
       "</g>\n",
       "</svg>\n"
      ],
      "text/plain": [
       "<graphviz.dot.Digraph at 0x7f5617f2f6d8>"
      ]
     },
     "execution_count": 39,
     "metadata": {},
     "output_type": "execute_result"
    }
   ],
   "source": [
    "wf_to_graph(wf.fws[0])"
   ]
  },
  {
   "cell_type": "code",
   "execution_count": 40,
   "metadata": {},
   "outputs": [],
   "source": [
    "#from atomate.qchem.workflows.base.double_FF_opt import get_wf_double_FF_opt\n",
    "#from pymatgen import Molecule\n",
    "#molecule = Molecule(\"CO\", [[0, 0, 0], [0, 0, 1.23]])\n",
    "#wf = get_wf_double_FF_opt(molecule, 0.5)\n",
    "#wf_to_graph(wf)\n",
    "#wf_to_graph(wf.fws[0])"
   ]
  },
  {
   "cell_type": "markdown",
   "metadata": {},
   "source": [
    "## Analyzing workflow results"
   ]
  },
  {
   "cell_type": "markdown",
   "metadata": {},
   "source": [
    "Our final example for atomate will take a set of tasks from our database and construct a phase diagram."
   ]
  },
  {
   "cell_type": "code",
   "execution_count": 41,
   "metadata": {},
   "outputs": [
    {
     "name": "stdout",
     "output_type": "stream",
     "text": [
      "2018-08-10 05:47:35,290 INFO Added a workflow. id_map: {-1184: 6, -1183: 7, -1186: 4, -1185: 5}\n",
      "2018-08-10 05:47:35,308 INFO Added a workflow. id_map: {-1190: 8, -1189: 9, -1188: 10, -1187: 11}\n",
      "2018-08-10 05:47:35,323 INFO Added a workflow. id_map: {-1192: 14, -1191: 15, -1194: 12, -1193: 13}\n",
      "2018-08-10 05:47:35,348 INFO Added a workflow. id_map: {-1198: 16, -1197: 17, -1196: 18, -1195: 19}\n",
      "2018-08-10 05:47:35,355 INFO Added a workflow. id_map: {-1200: 22, -1199: 23, -1202: 20, -1201: 21}\n",
      "2018-08-10 05:47:35,363 INFO Added a workflow. id_map: {-1206: 24, -1205: 25, -1204: 26, -1203: 27}\n",
      "2018-08-10 05:47:35,370 INFO Added a workflow. id_map: {-1208: 30, -1207: 31, -1210: 28, -1209: 29}\n",
      "2018-08-10 05:47:35,378 INFO Added a workflow. id_map: {-1214: 32, -1213: 33, -1212: 34, -1211: 35}\n",
      "2018-08-10 05:47:35,385 INFO Added a workflow. id_map: {-1216: 38, -1215: 39, -1218: 36, -1217: 37}\n",
      "2018-08-10 05:47:35,392 INFO Added a workflow. id_map: {-1222: 40, -1221: 41, -1220: 42, -1219: 43}\n",
      "2018-08-10 05:47:35,400 INFO Added a workflow. id_map: {-1224: 46, -1223: 47, -1226: 44, -1225: 45}\n",
      "2018-08-10 05:47:35,412 INFO Added a workflow. id_map: {-1230: 48, -1229: 49, -1228: 50, -1227: 51}\n"
     ]
    }
   ],
   "source": [
    "structures = mpr.get_structures(\"Al-Cr\")\n",
    "structures += mpr.get_structures(\"Al\")\n",
    "structures += mpr.get_structures(\"Cr\")\n",
    "for structure in structures:\n",
    "    wf = get_wf(structure, \"bandstructure.yaml\")\n",
    "    lpad.add_wf(wf)"
   ]
  },
  {
   "cell_type": "code",
   "execution_count": 42,
   "metadata": {
    "collapsed": true
   },
   "outputs": [],
   "source": [
    "from maggma.stores import MongoStore"
   ]
  },
  {
   "cell_type": "code",
   "execution_count": 43,
   "metadata": {
    "collapsed": true
   },
   "outputs": [],
   "source": [
    "tasks = MongoStore(database=\"vasp_db\", collection_name=\"tasks\")"
   ]
  },
  {
   "cell_type": "code",
   "execution_count": 44,
   "metadata": {
    "collapsed": true
   },
   "outputs": [],
   "source": [
    "tasks.connect()"
   ]
  },
  {
   "cell_type": "code",
   "execution_count": 45,
   "metadata": {
    "collapsed": true
   },
   "outputs": [],
   "source": [
    "doc = tasks.query_one(criteria={\"chemsys\": \"Al\"})"
   ]
  },
  {
   "cell_type": "code",
   "execution_count": 46,
   "metadata": {},
   "outputs": [
    {
     "data": {
      "text/plain": [
       "dict_keys(['custodian', 'calcs_reversed', 'formula_reduced_abc', 'composition_unit_cell', 'task_label', 'dir_name', 'task_id', 'analysis', 'output', 'formula_anonymous', 'transformations', 'task_type', 'elements', 'orig_inputs', 'last_updated', 'completed_at', 'composition_reduced', 'schema', 'nsites', 'chemsys', 'state', '_id', 'formula_pretty', 'run_stats', 'nelements', 'input'])"
      ]
     },
     "execution_count": 46,
     "metadata": {},
     "output_type": "execute_result"
    }
   ],
   "source": [
    "doc.keys()"
   ]
  },
  {
   "cell_type": "code",
   "execution_count": 47,
   "metadata": {},
   "outputs": [
    {
     "data": {
      "text/plain": [
       "'Al'"
      ]
     },
     "execution_count": 47,
     "metadata": {},
     "output_type": "execute_result"
    }
   ],
   "source": [
    "doc['chemsys']"
   ]
  },
  {
   "cell_type": "code",
   "execution_count": 48,
   "metadata": {
    "collapsed": true
   },
   "outputs": [],
   "source": [
    "doc = tasks.query_one(criteria={\"chemsys\": \"Al\"}, properties=['output'])"
   ]
  },
  {
   "cell_type": "code",
   "execution_count": 49,
   "metadata": {},
   "outputs": [
    {
     "data": {
      "text/plain": [
       "<pymongo.cursor.Cursor at 0x7f561c2342e8>"
      ]
     },
     "execution_count": 49,
     "metadata": {},
     "output_type": "execute_result"
    }
   ],
   "source": [
    "docs = tasks.query(criteria={\"chemsys\": \"Al-Cr\", \n",
    "                             \"task_label\": \"structure optimization\"},\n",
    "                   properties=['output', 'formula_pretty'])\n",
    "docs"
   ]
  },
  {
   "cell_type": "code",
   "execution_count": 50,
   "metadata": {
    "collapsed": true
   },
   "outputs": [],
   "source": [
    "docs = list(docs)"
   ]
  },
  {
   "cell_type": "code",
   "execution_count": 51,
   "metadata": {},
   "outputs": [
    {
     "data": {
      "text/plain": [
       "['AlCr2', 'Al8Cr5', 'Al45Cr7', 'Al3Cr']"
      ]
     },
     "execution_count": 51,
     "metadata": {},
     "output_type": "execute_result"
    }
   ],
   "source": [
    "[d['formula_pretty'] for d in docs]"
   ]
  },
  {
   "cell_type": "code",
   "execution_count": 52,
   "metadata": {
    "collapsed": true
   },
   "outputs": [],
   "source": [
    "fe_cr_tasks = []\n",
    "for chemsys in ['Al', 'Cr', 'Al-Cr']:\n",
    "    task_list = tasks.query(criteria={\"chemsys\": chemsys,\n",
    "                                      \"task_label\": \"structure optimization\"},\n",
    "                            properties=[\"output\", \"composition_unit_cell\"])\n",
    "    fe_cr_tasks.extend(list(task_list))"
   ]
  },
  {
   "cell_type": "code",
   "execution_count": 53,
   "metadata": {},
   "outputs": [
    {
     "data": {
      "text/plain": [
       "16"
      ]
     },
     "execution_count": 53,
     "metadata": {},
     "output_type": "execute_result"
    }
   ],
   "source": [
    "len(fe_cr_tasks)"
   ]
  },
  {
   "cell_type": "code",
   "execution_count": 54,
   "metadata": {
    "collapsed": true
   },
   "outputs": [],
   "source": [
    "from pymatgen.entries.computed_entries import ComputedEntry\n",
    "from pymatgen import Composition"
   ]
  },
  {
   "cell_type": "code",
   "execution_count": 55,
   "metadata": {
    "collapsed": true
   },
   "outputs": [],
   "source": [
    "entries = []\n",
    "for task in fe_cr_tasks:\n",
    "    energy = task['output']['energy']\n",
    "    composition = Composition.from_dict(task['composition_unit_cell'])\n",
    "    entry = ComputedEntry(composition, energy)\n",
    "    entries.append(entry)"
   ]
  },
  {
   "cell_type": "code",
   "execution_count": 56,
   "metadata": {
    "collapsed": true
   },
   "outputs": [],
   "source": [
    "from pymatgen.analysis.phase_diagram import PhaseDiagram, PDPlotter"
   ]
  },
  {
   "cell_type": "code",
   "execution_count": 57,
   "metadata": {
    "collapsed": true
   },
   "outputs": [],
   "source": [
    "pd = PhaseDiagram(entries)"
   ]
  },
  {
   "cell_type": "code",
   "execution_count": 58,
   "metadata": {
    "collapsed": true
   },
   "outputs": [],
   "source": [
    "plotter = PDPlotter(pd)"
   ]
  },
  {
   "cell_type": "code",
   "execution_count": 59,
   "metadata": {},
   "outputs": [
    {
     "data": {
      "image/png": "[encoded data removed]",
      "text/plain": [
       "<Figure size 576x432 with 1 Axes>"
      ]
     },
     "metadata": {},
     "output_type": "display_data"
    }
   ],
   "source": [
    "plotter.show()"
   ]
  },
  {
   "cell_type": "code",
   "execution_count": 60,
   "metadata": {},
   "outputs": [
    {
     "data": {
      "image/png": "[encoded data removed]",
      "text/plain": [
       "<Figure size 576x432 with 1 Axes>"
      ]
     },
     "metadata": {},
     "output_type": "display_data"
    }
   ],
   "source": [
    "plotter.show_unstable = True\n",
    "plotter.show()"
   ]
  }
 ],
 "metadata": {
  "kernelspec": {
   "display_name": "Python 2",
   "language": "python",
   "name": "python2"
  },
  "language_info": {
   "codemirror_mode": {
    "name": "ipython",
    "version": 3
   },
   "file_extension": ".py",
   "mimetype": "text/x-python",
   "name": "python",
   "nbconvert_exporter": "python",
   "pygments_lexer": "ipython3",
   "version": "3.7.3"
  },
  "widgets": {
   "state": {
    "7c4d41ed58bb4e4cb1dd9d4bc5e0a15d": {
     "views": [
      {
       "cell_index": 5
      }
     ]
    }
   },
   "version": "1.2.0"
  }
 },
 "nbformat": 4,
 "nbformat_minor": 2
}
