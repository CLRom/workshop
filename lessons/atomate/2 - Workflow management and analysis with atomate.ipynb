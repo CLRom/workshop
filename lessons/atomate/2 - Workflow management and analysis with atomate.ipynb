{
 "cells": [
  {
   "cell_type": "markdown",
   "metadata": {},
   "source": [
    "# 2 - Workflow management with atomate"
   ]
  },
  {
   "cell_type": "markdown",
   "metadata": {},
   "source": [
    "In this lesson we cover a few more advanced features of the atomate software package.  More specifically we'll go over an example that includes parents and children, talk more about where you can find preset workflows, and cover a basic example of analyzing workflow-generated materials data."
   ]
  },
  {
   "cell_type": "markdown",
   "metadata": {},
   "source": [
    "## The elastic tensor: A multi-step preset workflow"
   ]
  },
  {
   "cell_type": "code",
   "execution_count": 19,
   "metadata": {},
   "outputs": [],
   "source": [
    "from atomate.vasp.workflows.presets.core import wf_elastic_constant\n",
    "from pymatgen import MPRester"
   ]
  },
  {
   "cell_type": "code",
   "execution_count": 20,
   "metadata": {},
   "outputs": [],
   "source": [
    "mpr = MPRester()"
   ]
  },
  {
   "cell_type": "code",
   "execution_count": 21,
   "metadata": {},
   "outputs": [
    {
     "data": {
      "text/plain": [
       "Structure Summary\n",
       "Lattice\n",
       "    abc : 5.468727957193058 5.468727957193058 5.468727957193058\n",
       " angles : 90.0 90.0 90.0\n",
       " volume : 163.55316755397953\n",
       "      A : 5.468727957193058 0.0 3.348630094092061e-16\n",
       "      B : -3.348630094092061e-16 5.468727957193058 3.348630094092061e-16\n",
       "      C : 0.0 0.0 5.468727957193058\n",
       "PeriodicSite: Si (4.1015, 4.1015, 4.1015) [0.7500, 0.7500, 0.7500]\n",
       "PeriodicSite: Si (2.7344, 0.0000, 0.0000) [0.5000, 0.0000, 0.0000]\n",
       "PeriodicSite: Si (4.1015, 1.3672, 1.3672) [0.7500, 0.2500, 0.2500]\n",
       "PeriodicSite: Si (2.7344, 2.7344, 2.7344) [0.5000, 0.5000, 0.5000]\n",
       "PeriodicSite: Si (1.3672, 4.1015, 1.3672) [0.2500, 0.7500, 0.2500]\n",
       "PeriodicSite: Si (0.0000, 0.0000, 2.7344) [0.0000, 0.0000, 0.5000]\n",
       "PeriodicSite: Si (1.3672, 1.3672, 4.1015) [0.2500, 0.2500, 0.7500]\n",
       "PeriodicSite: Si (-0.0000, 2.7344, 0.0000) [0.0000, 0.5000, 0.0000]"
      ]
     },
     "execution_count": 21,
     "metadata": {},
     "output_type": "execute_result"
    }
   ],
   "source": [
    "structure = mpr.get_structure_by_material_id(\"mp-149\", conventional_unit_cell=True)\n",
    "# TODO: viewer here?\n",
    "structure"
   ]
  },
  {
   "cell_type": "code",
   "execution_count": 24,
   "metadata": {},
   "outputs": [],
   "source": [
    "wf = wf_elastic_constant(structure)"
   ]
  },
  {
   "cell_type": "code",
   "execution_count": 26,
   "metadata": {},
   "outputs": [
    {
     "data": {
      "text/plain": [
       "['Si-elastic structure optimization',\n",
       " 'Si-elastic deformation 0',\n",
       " 'Si-elastic deformation 1',\n",
       " 'Si-elastic deformation 2',\n",
       " 'Si-elastic deformation 3',\n",
       " 'Si-elastic deformation 4',\n",
       " 'Si-elastic deformation 5',\n",
       " 'Si-elastic deformation 6',\n",
       " 'Si-elastic deformation 7',\n",
       " 'Si-elastic deformation 8',\n",
       " 'Si-elastic deformation 9',\n",
       " 'Si-elastic deformation 10',\n",
       " 'Si-elastic deformation 11',\n",
       " 'Si-elastic deformation 12',\n",
       " 'Si-elastic deformation 13',\n",
       " 'Si-elastic deformation 14',\n",
       " 'Si-elastic deformation 15',\n",
       " 'Si-elastic deformation 16',\n",
       " 'Si-elastic deformation 17',\n",
       " 'Si-elastic deformation 18',\n",
       " 'Si-elastic deformation 19',\n",
       " 'Si-elastic deformation 20',\n",
       " 'Si-elastic deformation 21',\n",
       " 'Si-elastic deformation 22',\n",
       " 'Si-elastic deformation 23',\n",
       " 'Analyze Elastic Data']"
      ]
     },
     "execution_count": 26,
     "metadata": {},
     "output_type": "execute_result"
    }
   ],
   "source": [
    "# TODO: plotter?\n",
    "[fw.name for fw in wf.fws]"
   ]
  },
  {
   "cell_type": "markdown",
   "metadata": {},
   "source": [
    "From our exploration of the workflow, we can see that the workflow has a \"root\" firework, which is the structure optimization firework, and a single \"leaf\" firework, which is the analysis task.  In between, we have several fireworks which have \"elastic deformation\" in their titles, each of which represents a calculation which will transform the output of the optimization firework by applying a unique strain.\n",
    "\n",
    "In the analysis step, the stresses from those deformations and the strains are aggregated and used to fit an elastic tensor."
   ]
  },
  {
   "cell_type": "markdown",
   "metadata": {},
   "source": [
    "To run the workflow, we import our launchpad and rocket launcher tools.  Since we can't use VASP in the workflow, we're also going to \"fake\" vasp by copying files rather than running the binary."
   ]
  },
  {
   "cell_type": "code",
   "execution_count": 97,
   "metadata": {},
   "outputs": [],
   "source": [
    "from fireworks import LaunchPad\n",
    "from atomate.vasp.powerups import use_fake_vasp"
   ]
  },
  {
   "cell_type": "code",
   "execution_count": 99,
   "metadata": {},
   "outputs": [
    {
     "ename": "AttributeError",
     "evalue": "'str' object has no attribute 'keys'",
     "output_type": "error",
     "traceback": [
      "\u001b[0;31m---------------------------------------------------------------------------\u001b[0m",
      "\u001b[0;31mAttributeError\u001b[0m                            Traceback (most recent call last)",
      "\u001b[0;32m<ipython-input-99-e20ac0d2cbfc>\u001b[0m in \u001b[0;36m<module>\u001b[0;34m()\u001b[0m\n\u001b[1;32m      1\u001b[0m \u001b[0;31m# TODO: get this working\u001b[0m\u001b[0;34m\u001b[0m\u001b[0;34m\u001b[0m\u001b[0m\n\u001b[0;32m----> 2\u001b[0;31m \u001b[0mwf\u001b[0m \u001b[0;34m=\u001b[0m \u001b[0muse_fake_vasp\u001b[0m\u001b[0;34m(\u001b[0m\u001b[0mwf\u001b[0m\u001b[0;34m,\u001b[0m \u001b[0mref_dirs\u001b[0m\u001b[0;34m=\u001b[0m\u001b[0;34m\"PUT_REF_DIRS_HERE\"\u001b[0m\u001b[0;34m)\u001b[0m\u001b[0;34m\u001b[0m\u001b[0m\n\u001b[0m\u001b[1;32m      3\u001b[0m \u001b[0mlpad\u001b[0m \u001b[0;34m=\u001b[0m \u001b[0mLaunchPad\u001b[0m\u001b[0;34m(\u001b[0m\u001b[0;34m)\u001b[0m\u001b[0;34m\u001b[0m\u001b[0m\n\u001b[1;32m      4\u001b[0m \u001b[0mlpad\u001b[0m\u001b[0;34m.\u001b[0m\u001b[0mreset\u001b[0m\u001b[0;34m(\u001b[0m\u001b[0;34m''\u001b[0m\u001b[0;34m,\u001b[0m \u001b[0mrequire_password\u001b[0m\u001b[0;34m=\u001b[0m\u001b[0;32mFalse\u001b[0m\u001b[0;34m)\u001b[0m\u001b[0;34m\u001b[0m\u001b[0m\n\u001b[1;32m      5\u001b[0m \u001b[0mlpad\u001b[0m\u001b[0;34m.\u001b[0m\u001b[0madd_wf\u001b[0m\u001b[0;34m(\u001b[0m\u001b[0mwf\u001b[0m\u001b[0;34m)\u001b[0m\u001b[0;34m\u001b[0m\u001b[0m\n",
      "\u001b[0;32m~/PycharmProjects/atomate/atomate/vasp/powerups.py\u001b[0m in \u001b[0;36muse_fake_vasp\u001b[0;34m(original_wf, ref_dirs, params_to_check)\u001b[0m\n\u001b[1;32m    133\u001b[0m                            \"NBANDS\", \"LMAXMIX\"]\n\u001b[1;32m    134\u001b[0m     \u001b[0;32mfor\u001b[0m \u001b[0midx_fw\u001b[0m\u001b[0;34m,\u001b[0m \u001b[0mfw\u001b[0m \u001b[0;32min\u001b[0m \u001b[0menumerate\u001b[0m\u001b[0;34m(\u001b[0m\u001b[0moriginal_wf\u001b[0m\u001b[0;34m.\u001b[0m\u001b[0mfws\u001b[0m\u001b[0;34m)\u001b[0m\u001b[0;34m:\u001b[0m\u001b[0;34m\u001b[0m\u001b[0m\n\u001b[0;32m--> 135\u001b[0;31m         \u001b[0;32mfor\u001b[0m \u001b[0mjob_type\u001b[0m \u001b[0;32min\u001b[0m \u001b[0mref_dirs\u001b[0m\u001b[0;34m.\u001b[0m\u001b[0mkeys\u001b[0m\u001b[0;34m(\u001b[0m\u001b[0;34m)\u001b[0m\u001b[0;34m:\u001b[0m\u001b[0;34m\u001b[0m\u001b[0m\n\u001b[0m\u001b[1;32m    136\u001b[0m             \u001b[0;32mif\u001b[0m \u001b[0mjob_type\u001b[0m \u001b[0;32min\u001b[0m \u001b[0mfw\u001b[0m\u001b[0;34m.\u001b[0m\u001b[0mname\u001b[0m\u001b[0;34m:\u001b[0m\u001b[0;34m\u001b[0m\u001b[0m\n\u001b[1;32m    137\u001b[0m                 \u001b[0;32mfor\u001b[0m \u001b[0midx_t\u001b[0m\u001b[0;34m,\u001b[0m \u001b[0mt\u001b[0m \u001b[0;32min\u001b[0m \u001b[0menumerate\u001b[0m\u001b[0;34m(\u001b[0m\u001b[0mfw\u001b[0m\u001b[0;34m.\u001b[0m\u001b[0mtasks\u001b[0m\u001b[0;34m)\u001b[0m\u001b[0;34m:\u001b[0m\u001b[0;34m\u001b[0m\u001b[0m\n",
      "\u001b[0;31mAttributeError\u001b[0m: 'str' object has no attribute 'keys'"
     ]
    }
   ],
   "source": [
    "# TODO: get this working\n",
    "wf = use_fake_vasp(wf, ref_dirs=\"PUT_REF_DIRS_HERE\")\n",
    "lpad = LaunchPad()\n",
    "lpad.reset('', require_password=False)\n",
    "lpad.add_wf(wf)"
   ]
  },
  {
   "cell_type": "code",
   "execution_count": 94,
   "metadata": {},
   "outputs": [],
   "source": [
    "from fireworks.core.rocket_launcher import launch_rocket, rapidfire"
   ]
  },
  {
   "cell_type": "code",
   "execution_count": null,
   "metadata": {},
   "outputs": [],
   "source": [
    "launch_rocket()"
   ]
  },
  {
   "cell_type": "markdown",
   "metadata": {},
   "source": [
    "## Powerups"
   ]
  },
  {
   "cell_type": "markdown",
   "metadata": {},
   "source": [
    "**TODO: I'm not sure this is all that useful, so it might go on the choppping block first**\n",
    "\n",
    "Atomate contains a number of tools for modifying workflows, known as \"powerups\" which are functions which will modify the workflows in commonly desired ways.  For example, if you want to modify the parameters of a VASP calculation, you can use the add_modify_incar powerup to change these for every firework in the workflow."
   ]
  },
  {
   "cell_type": "code",
   "execution_count": 27,
   "metadata": {},
   "outputs": [],
   "source": [
    "from atomate.vasp.powerups import add_modify_incar"
   ]
  },
  {
   "cell_type": "code",
   "execution_count": 35,
   "metadata": {},
   "outputs": [
    {
     "data": {
      "text/plain": [
       "[FileWriteTask(None,\n",
       "               {'files_to_write': [{'contents': '',\n",
       "                  'filename': 'FW--Si-elastic_structure_optimization'}]}),\n",
       " WriteVaspFromIOSet(None, {'structure': Structure Summary\n",
       "                     Lattice\n",
       "                         abc : 5.468727957193058 5.468727957193058 5.468727957193058\n",
       "                      angles : 90.0 90.0 90.0\n",
       "                      volume : 163.55316755397953\n",
       "                           A : 5.468727957193058 0.0 3.348630094092061e-16\n",
       "                           B : -3.348630094092061e-16 5.468727957193058 3.348630094092061e-16\n",
       "                           C : 0.0 0.0 5.468727957193058\n",
       "                     PeriodicSite: Si (4.1015, 4.1015, 4.1015) [0.7500, 0.7500, 0.7500]\n",
       "                     PeriodicSite: Si (2.7344, 0.0000, 0.0000) [0.5000, 0.0000, 0.0000]\n",
       "                     PeriodicSite: Si (4.1015, 1.3672, 1.3672) [0.7500, 0.2500, 0.2500]\n",
       "                     PeriodicSite: Si (2.7344, 2.7344, 2.7344) [0.5000, 0.5000, 0.5000]\n",
       "                     PeriodicSite: Si (1.3672, 4.1015, 1.3672) [0.2500, 0.7500, 0.2500]\n",
       "                     PeriodicSite: Si (0.0000, 0.0000, 2.7344) [0.0000, 0.0000, 0.5000]\n",
       "                     PeriodicSite: Si (1.3672, 1.3672, 4.1015) [0.2500, 0.2500, 0.7500]\n",
       "                     PeriodicSite: Si (-0.0000, 2.7344, 0.0000) [0.0000, 0.5000, 0.0000],\n",
       "                     'vasp_input_set': MPRelaxSet}),\n",
       " RunVaspCustodian(None,\n",
       "                  {'auto_npar': '>>auto_npar<<',\n",
       "                   'ediffg': None,\n",
       "                   'gamma_vasp_cmd': '>>gamma_vasp_cmd<<',\n",
       "                   'half_kpts_first_relax': False,\n",
       "                   'job_type': 'double_relaxation_run',\n",
       "                   'max_force_threshold': 0.25,\n",
       "                   'scratch_dir': '>>scratch_dir<<',\n",
       "                   'vasp_cmd': '>>vasp_cmd<<'}),\n",
       " PassCalcLocs(None, {'name': 'elastic structure optimization'}),\n",
       " VaspToDb(None,\n",
       "          {'additional_fields': {'task_label': 'elastic structure optimization'},\n",
       "           'db_file': '>>db_file<<'})]"
      ]
     },
     "execution_count": 35,
     "metadata": {},
     "output_type": "execute_result"
    }
   ],
   "source": [
    "[task for task in wf.fws[0].tasks]"
   ]
  },
  {
   "cell_type": "code",
   "execution_count": 36,
   "metadata": {},
   "outputs": [],
   "source": [
    "modified = add_modify_incar(wf, {\"incar_update\": {\"ENCUT\": 700}})"
   ]
  },
  {
   "cell_type": "code",
   "execution_count": 38,
   "metadata": {},
   "outputs": [
    {
     "data": {
      "text/plain": [
       "[FileWriteTask(None,\n",
       "               {'files_to_write': [{'contents': '',\n",
       "                  'filename': 'FW--Si-elastic_structure_optimization'}]}),\n",
       " WriteVaspFromIOSet(None, {'structure': Structure Summary\n",
       "                     Lattice\n",
       "                         abc : 5.468727957193058 5.468727957193058 5.468727957193058\n",
       "                      angles : 90.0 90.0 90.0\n",
       "                      volume : 163.55316755397953\n",
       "                           A : 5.468727957193058 0.0 3.348630094092061e-16\n",
       "                           B : -3.348630094092061e-16 5.468727957193058 3.348630094092061e-16\n",
       "                           C : 0.0 0.0 5.468727957193058\n",
       "                     PeriodicSite: Si (4.1015, 4.1015, 4.1015) [0.7500, 0.7500, 0.7500]\n",
       "                     PeriodicSite: Si (2.7344, 0.0000, 0.0000) [0.5000, 0.0000, 0.0000]\n",
       "                     PeriodicSite: Si (4.1015, 1.3672, 1.3672) [0.7500, 0.2500, 0.2500]\n",
       "                     PeriodicSite: Si (2.7344, 2.7344, 2.7344) [0.5000, 0.5000, 0.5000]\n",
       "                     PeriodicSite: Si (1.3672, 4.1015, 1.3672) [0.2500, 0.7500, 0.2500]\n",
       "                     PeriodicSite: Si (0.0000, 0.0000, 2.7344) [0.0000, 0.0000, 0.5000]\n",
       "                     PeriodicSite: Si (1.3672, 1.3672, 4.1015) [0.2500, 0.2500, 0.7500]\n",
       "                     PeriodicSite: Si (-0.0000, 2.7344, 0.0000) [0.0000, 0.5000, 0.0000],\n",
       "                     'vasp_input_set': MPRelaxSet}),\n",
       " ModifyIncar(None, {'incar_update': {'ENCUT': 700}}),\n",
       " RunVaspCustodian(None,\n",
       "                  {'auto_npar': '>>auto_npar<<',\n",
       "                   'ediffg': None,\n",
       "                   'gamma_vasp_cmd': '>>gamma_vasp_cmd<<',\n",
       "                   'half_kpts_first_relax': False,\n",
       "                   'job_type': 'double_relaxation_run',\n",
       "                   'max_force_threshold': 0.25,\n",
       "                   'scratch_dir': '>>scratch_dir<<',\n",
       "                   'vasp_cmd': '>>vasp_cmd<<'}),\n",
       " PassCalcLocs(None, {'name': 'elastic structure optimization'}),\n",
       " VaspToDb(None,\n",
       "          {'additional_fields': {'task_label': 'elastic structure optimization'},\n",
       "           'db_file': '>>db_file<<'})]"
      ]
     },
     "execution_count": 38,
     "metadata": {},
     "output_type": "execute_result"
    }
   ],
   "source": [
    "modified.fws[0].tasks"
   ]
  },
  {
   "cell_type": "markdown",
   "metadata": {},
   "source": [
    "Prior to the execution of the VASP calculation, a ModifyIncar firetask is inserted which will read the incar and modify the ENCUT parameter such that it matches our powerup specification."
   ]
  },
  {
   "cell_type": "markdown",
   "metadata": {},
   "source": [
    "## A few other \"complex\" workflows."
   ]
  },
  {
   "cell_type": "markdown",
   "metadata": {},
   "source": [
    "Atomate contains a few workflows that will do more complicating things like calculations on surfaces.  Let's say I want to calculate the determine the hydrogen adsorption energy on every low-index facet of Pt."
   ]
  },
  {
   "cell_type": "code",
   "execution_count": 44,
   "metadata": {},
   "outputs": [],
   "source": [
    "from atomate.vasp.workflows.base.adsorption import get_wf_surface_all_slabs\n",
    "from pymatgen import MPRester, Molecule"
   ]
  },
  {
   "cell_type": "code",
   "execution_count": 45,
   "metadata": {
    "scrolled": true
   },
   "outputs": [],
   "source": [
    "pt = mpr.get_structure_by_material_id(\"Pt\", conventional_unit_cell=True)\n",
    "adsorbate = Molecule(\"H\", [[0, 0, 0]])"
   ]
  },
  {
   "cell_type": "code",
   "execution_count": 47,
   "metadata": {},
   "outputs": [],
   "source": [
    "wf = get_wf_surface_all_slabs(pt, [adsorbate])"
   ]
  },
  {
   "cell_type": "code",
   "execution_count": 50,
   "metadata": {},
   "outputs": [
    {
     "data": {
      "text/plain": [
       "['Pt-structure optimization',\n",
       " 'Pt-Pt_(1, 1, 1) slab optimization',\n",
       " 'Pt-H1-Pt_(1, 1, 1) adsorbate optimization 0',\n",
       " 'Pt-H1-Pt_(1, 1, 1) adsorbate optimization 1',\n",
       " 'Pt-H1-Pt_(1, 1, 1) adsorbate optimization 2',\n",
       " 'Pt-H1-Pt_(1, 1, 1) adsorbate optimization 3',\n",
       " 'Pt-Pt_(1, 1, 0) slab optimization',\n",
       " 'Pt-H1-Pt_(1, 1, 0) adsorbate optimization 0',\n",
       " 'Pt-H1-Pt_(1, 1, 0) adsorbate optimization 1',\n",
       " 'Pt-H1-Pt_(1, 1, 0) adsorbate optimization 2',\n",
       " 'Pt-H1-Pt_(1, 1, 0) adsorbate optimization 3',\n",
       " 'Pt-Pt_(1, 0, 0) slab optimization',\n",
       " 'Pt-H1-Pt_(1, 0, 0) adsorbate optimization 0',\n",
       " 'Pt-H1-Pt_(1, 0, 0) adsorbate optimization 1',\n",
       " 'Pt-H1-Pt_(1, 0, 0) adsorbate optimization 2']"
      ]
     },
     "execution_count": 50,
     "metadata": {},
     "output_type": "execute_result"
    }
   ],
   "source": [
    "[fw.name for fw in wf.fws]"
   ]
  },
  {
   "cell_type": "markdown",
   "metadata": {},
   "source": [
    "This is how you can do the requisite calculation to find the band-gap from an HSE calculation after the PBE bandstructure."
   ]
  },
  {
   "cell_type": "code",
   "execution_count": 63,
   "metadata": {},
   "outputs": [],
   "source": [
    "from atomate.vasp.workflows.presets.core import wf_bandstructure_plus_hse"
   ]
  },
  {
   "cell_type": "code",
   "execution_count": 66,
   "metadata": {},
   "outputs": [],
   "source": [
    "wf = wf_bandstructure_plus_hse(structure)"
   ]
  },
  {
   "cell_type": "code",
   "execution_count": 67,
   "metadata": {},
   "outputs": [
    {
     "data": {
      "text/plain": [
       "['Si-structure optimization',\n",
       " 'Si-static',\n",
       " 'Si-nscf uniform',\n",
       " 'Si-nscf line',\n",
       " 'Si-hse gap']"
      ]
     },
     "execution_count": 67,
     "metadata": {},
     "output_type": "execute_result"
    }
   ],
   "source": [
    "[fw.name for fw in wf.fws]"
   ]
  },
  {
   "cell_type": "markdown",
   "metadata": {},
   "source": [
    "There's also support for workflows in FEFF and QChem."
   ]
  },
  {
   "cell_type": "code",
   "execution_count": 72,
   "metadata": {},
   "outputs": [],
   "source": [
    "from atomate.feff.workflows.core import get_wf_xas"
   ]
  },
  {
   "cell_type": "code",
   "execution_count": 78,
   "metadata": {},
   "outputs": [
    {
     "data": {
      "text/plain": [
       "['Si-XANES-K-0']"
      ]
     },
     "execution_count": 78,
     "metadata": {},
     "output_type": "execute_result"
    }
   ],
   "source": [
    "wf = get_wf_xas(\"Si\", structure)\n",
    "[fw.name for fw in wf.fws]"
   ]
  },
  {
   "cell_type": "code",
   "execution_count": 80,
   "metadata": {},
   "outputs": [
    {
     "ename": "ModuleNotFoundError",
     "evalue": "No module named 'pymatgen.io.qchem_io'",
     "output_type": "error",
     "traceback": [
      "\u001b[0;31m---------------------------------------------------------------------------\u001b[0m",
      "\u001b[0;31mModuleNotFoundError\u001b[0m                       Traceback (most recent call last)",
      "\u001b[0;32m<ipython-input-80-36aff0161bc0>\u001b[0m in \u001b[0;36m<module>\u001b[0;34m()\u001b[0m\n\u001b[1;32m      1\u001b[0m \u001b[0;31m# TODO: double check that this will actually work\u001b[0m\u001b[0;34m\u001b[0m\u001b[0;34m\u001b[0m\u001b[0m\n\u001b[0;32m----> 2\u001b[0;31m \u001b[0;32mfrom\u001b[0m \u001b[0matomate\u001b[0m\u001b[0;34m.\u001b[0m\u001b[0mqchem\u001b[0m\u001b[0;34m.\u001b[0m\u001b[0mworkflows\u001b[0m\u001b[0;34m.\u001b[0m\u001b[0mbase\u001b[0m \u001b[0;32mimport\u001b[0m \u001b[0mdouble_FF_opt\u001b[0m\u001b[0;34m\u001b[0m\u001b[0m\n\u001b[0m",
      "\u001b[0;32m~/PycharmProjects/atomate/atomate/qchem/workflows/base/double_FF_opt.py\u001b[0m in \u001b[0;36m<module>\u001b[0;34m()\u001b[0m\n\u001b[1;32m      8\u001b[0m \u001b[0;34m\u001b[0m\u001b[0m\n\u001b[1;32m      9\u001b[0m \u001b[0;32mfrom\u001b[0m \u001b[0mfireworks\u001b[0m \u001b[0;32mimport\u001b[0m \u001b[0mWorkflow\u001b[0m\u001b[0;34m\u001b[0m\u001b[0m\n\u001b[0;32m---> 10\u001b[0;31m \u001b[0;32mfrom\u001b[0m \u001b[0matomate\u001b[0m\u001b[0;34m.\u001b[0m\u001b[0mqchem\u001b[0m\u001b[0;34m.\u001b[0m\u001b[0mfireworks\u001b[0m\u001b[0;34m.\u001b[0m\u001b[0mcore\u001b[0m \u001b[0;32mimport\u001b[0m \u001b[0mFrequencyFlatteningOptimizeFW\u001b[0m\u001b[0;34m\u001b[0m\u001b[0m\n\u001b[0m\u001b[1;32m     11\u001b[0m \u001b[0;32mfrom\u001b[0m \u001b[0matomate\u001b[0m\u001b[0;34m.\u001b[0m\u001b[0mutils\u001b[0m\u001b[0;34m.\u001b[0m\u001b[0mutils\u001b[0m \u001b[0;32mimport\u001b[0m \u001b[0mget_logger\u001b[0m\u001b[0;34m\u001b[0m\u001b[0m\n\u001b[1;32m     12\u001b[0m \u001b[0;34m\u001b[0m\u001b[0m\n",
      "\u001b[0;32m~/PycharmProjects/atomate/atomate/qchem/fireworks/core.py\u001b[0m in \u001b[0;36m<module>\u001b[0;34m()\u001b[0m\n\u001b[1;32m     11\u001b[0m \u001b[0;32mfrom\u001b[0m \u001b[0mfireworks\u001b[0m \u001b[0;32mimport\u001b[0m \u001b[0mFirework\u001b[0m\u001b[0;34m\u001b[0m\u001b[0m\n\u001b[1;32m     12\u001b[0m \u001b[0;34m\u001b[0m\u001b[0m\n\u001b[0;32m---> 13\u001b[0;31m \u001b[0;32mfrom\u001b[0m \u001b[0matomate\u001b[0m\u001b[0;34m.\u001b[0m\u001b[0mqchem\u001b[0m\u001b[0;34m.\u001b[0m\u001b[0mfiretasks\u001b[0m\u001b[0;34m.\u001b[0m\u001b[0mparse_outputs\u001b[0m \u001b[0;32mimport\u001b[0m \u001b[0;34m*\u001b[0m\u001b[0;34m\u001b[0m\u001b[0m\n\u001b[0m\u001b[1;32m     14\u001b[0m \u001b[0;32mfrom\u001b[0m \u001b[0matomate\u001b[0m\u001b[0;34m.\u001b[0m\u001b[0mqchem\u001b[0m\u001b[0;34m.\u001b[0m\u001b[0mfiretasks\u001b[0m\u001b[0;34m.\u001b[0m\u001b[0mrun_calc\u001b[0m \u001b[0;32mimport\u001b[0m \u001b[0;34m*\u001b[0m\u001b[0;34m\u001b[0m\u001b[0m\n\u001b[1;32m     15\u001b[0m \u001b[0;32mfrom\u001b[0m \u001b[0matomate\u001b[0m\u001b[0;34m.\u001b[0m\u001b[0mqchem\u001b[0m\u001b[0;34m.\u001b[0m\u001b[0mfiretasks\u001b[0m\u001b[0;34m.\u001b[0m\u001b[0mwrite_inputs\u001b[0m \u001b[0;32mimport\u001b[0m \u001b[0;34m*\u001b[0m\u001b[0;34m\u001b[0m\u001b[0m\n",
      "\u001b[0;32m~/PycharmProjects/atomate/atomate/qchem/firetasks/parse_outputs.py\u001b[0m in \u001b[0;36m<module>\u001b[0;34m()\u001b[0m\n\u001b[1;32m     13\u001b[0m \u001b[0;32mfrom\u001b[0m \u001b[0matomate\u001b[0m\u001b[0;34m.\u001b[0m\u001b[0mutils\u001b[0m\u001b[0;34m.\u001b[0m\u001b[0mutils\u001b[0m \u001b[0;32mimport\u001b[0m \u001b[0menv_chk\u001b[0m\u001b[0;34m\u001b[0m\u001b[0m\n\u001b[1;32m     14\u001b[0m \u001b[0;32mfrom\u001b[0m \u001b[0matomate\u001b[0m\u001b[0;34m.\u001b[0m\u001b[0mutils\u001b[0m\u001b[0;34m.\u001b[0m\u001b[0mutils\u001b[0m \u001b[0;32mimport\u001b[0m \u001b[0mget_logger\u001b[0m\u001b[0;34m\u001b[0m\u001b[0m\n\u001b[0;32m---> 15\u001b[0;31m \u001b[0;32mfrom\u001b[0m \u001b[0matomate\u001b[0m\u001b[0;34m.\u001b[0m\u001b[0mqchem\u001b[0m\u001b[0;34m.\u001b[0m\u001b[0mdrones\u001b[0m \u001b[0;32mimport\u001b[0m \u001b[0mQChemDrone\u001b[0m\u001b[0;34m\u001b[0m\u001b[0m\n\u001b[0m\u001b[1;32m     16\u001b[0m \u001b[0;34m\u001b[0m\u001b[0m\n\u001b[1;32m     17\u001b[0m \u001b[0m__author__\u001b[0m \u001b[0;34m=\u001b[0m \u001b[0;34m\"Samuel Blau\"\u001b[0m\u001b[0;34m\u001b[0m\u001b[0m\n",
      "\u001b[0;32m~/PycharmProjects/atomate/atomate/qchem/drones.py\u001b[0m in \u001b[0;36m<module>\u001b[0;34m()\u001b[0m\n\u001b[1;32m     14\u001b[0m \u001b[0;32mfrom\u001b[0m \u001b[0mmonty\u001b[0m\u001b[0;34m.\u001b[0m\u001b[0mio\u001b[0m \u001b[0;32mimport\u001b[0m \u001b[0mzopen\u001b[0m\u001b[0;34m\u001b[0m\u001b[0m\n\u001b[1;32m     15\u001b[0m \u001b[0;32mfrom\u001b[0m \u001b[0mmonty\u001b[0m\u001b[0;34m.\u001b[0m\u001b[0mjson\u001b[0m \u001b[0;32mimport\u001b[0m \u001b[0mjsanitize\u001b[0m\u001b[0;34m\u001b[0m\u001b[0m\n\u001b[0;32m---> 16\u001b[0;31m \u001b[0;32mfrom\u001b[0m \u001b[0mpymatgen\u001b[0m\u001b[0;34m.\u001b[0m\u001b[0mio\u001b[0m\u001b[0;34m.\u001b[0m\u001b[0mqchem_io\u001b[0m\u001b[0;34m.\u001b[0m\u001b[0moutputs\u001b[0m \u001b[0;32mimport\u001b[0m \u001b[0mQCOutput\u001b[0m\u001b[0;34m\u001b[0m\u001b[0m\n\u001b[0m\u001b[1;32m     17\u001b[0m \u001b[0;32mfrom\u001b[0m \u001b[0mpymatgen\u001b[0m\u001b[0;34m.\u001b[0m\u001b[0mio\u001b[0m\u001b[0;34m.\u001b[0m\u001b[0mqchem_io\u001b[0m\u001b[0;34m.\u001b[0m\u001b[0minputs\u001b[0m \u001b[0;32mimport\u001b[0m \u001b[0mQCInput\u001b[0m\u001b[0;34m\u001b[0m\u001b[0m\n\u001b[1;32m     18\u001b[0m \u001b[0;32mfrom\u001b[0m \u001b[0mpymatgen\u001b[0m\u001b[0;34m.\u001b[0m\u001b[0mapps\u001b[0m\u001b[0;34m.\u001b[0m\u001b[0mborg\u001b[0m\u001b[0;34m.\u001b[0m\u001b[0mhive\u001b[0m \u001b[0;32mimport\u001b[0m \u001b[0mAbstractDrone\u001b[0m\u001b[0;34m\u001b[0m\u001b[0m\n",
      "\u001b[0;31mModuleNotFoundError\u001b[0m: No module named 'pymatgen.io.qchem_io'"
     ]
    }
   ],
   "source": [
    "# TODO: double check that this will actually work\n",
    "from atomate.qchem.workflows.base import double_FF_opt"
   ]
  },
  {
   "cell_type": "markdown",
   "metadata": {},
   "source": [
    "## Analyzing workflow results"
   ]
  },
  {
   "cell_type": "markdown",
   "metadata": {},
   "source": [
    "**TODO: flesh out description**, use stores?\n",
    "\n",
    "Our final example for atomate will take a set of tasks from our database and construct a phase diagram"
   ]
  },
  {
   "cell_type": "code",
   "execution_count": null,
   "metadata": {},
   "outputs": [],
   "source": [
    "chemsys = [\"Li\", \"Fe\", \"P\", \"O\"]\n",
    "\n"
   ]
  }
 ],
 "metadata": {
  "kernelspec": {
   "display_name": "Python [conda env:untitled1]",
   "language": "python",
   "name": "conda-env-untitled1-py"
  },
  "language_info": {
   "codemirror_mode": {
    "name": "ipython",
    "version": 3
   },
   "file_extension": ".py",
   "mimetype": "text/x-python",
   "name": "python",
   "nbconvert_exporter": "python",
   "pygments_lexer": "ipython3",
   "version": "3.6.3"
  }
 },
 "nbformat": 4,
 "nbformat_minor": 2
}
