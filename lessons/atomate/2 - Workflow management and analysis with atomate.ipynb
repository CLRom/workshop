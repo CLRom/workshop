{
 "cells": [
  {
   "cell_type": "markdown",
   "metadata": {},
   "source": [
    "# 2 - Workflow management with atomate"
   ]
  },
  {
   "cell_type": "markdown",
   "metadata": {},
   "source": [
    "In this lesson we cover a few more advanced features of the atomate software package.  More specifically we'll go over an example that includes parents and children, talk more about where you can find preset workflows, and cover a basic example of analyzing workflow-generated materials data."
   ]
  },
  {
   "cell_type": "code",
   "execution_count": 1,
   "metadata": {},
   "outputs": [
    {
     "name": "stdout",
     "output_type": "stream",
     "text": [
      "Echo Test: MP Workshop\n"
     ]
    }
   ],
   "source": [
    "from mp_workshop.atomate import wf_to_graph, use_fake_vasp_workshop\n",
    "from tqdm import tqdm_notebook\n"
   ]
  },
  {
   "cell_type": "markdown",
   "metadata": {},
   "source": [
    "## Why use atomate?"
   ]
  },
  {
   "cell_type": "markdown",
   "metadata": {},
   "source": [
    "Just to motivate this lesson a bit more, I'd like to share an example that illustrates the value of atomate.  Let's say you wanted to calculate the bandstructure of every polymorph of SiO$_2$.  Normally, you'd need to get all of the cifs from MP or the ICSD, construct the POSCARs by hand, or use some of your own infrastructure to convert them, run the calculations and manage the directory structure, and aggregate the results in a way that allowed you to analyze them together.  In atomate, this is achieved in a simple, five line snippet:"
   ]
  },
  {
   "cell_type": "code",
   "execution_count": 27,
   "metadata": {
    "scrolled": true
   },
   "outputs": [
    {
     "name": "stdout",
     "output_type": "stream",
     "text": [
      "2019-07-17 18:14:47,676 INFO Performing db tune-up\n",
      "2019-07-17 18:14:47,738 INFO LaunchPad was RESET.\n"
     ]
    },
    {
     "data": {
      "application/vnd.jupyter.widget-view+json": {
       "model_id": "d7cfeae80b3b49a0ab7fdad2d4fb3e0a",
       "version_major": 2,
       "version_minor": 0
      },
      "text/plain": [
       "HBox(children=(IntProgress(value=0, max=296), HTML(value='')))"
      ]
     },
     "metadata": {},
     "output_type": "display_data"
    },
    {
     "name": "stdout",
     "output_type": "stream",
     "text": [
      "2019-07-17 18:14:51,565 INFO Added a workflow. id_map: {-1217: 1, -1216: 2, -1215: 3, -1214: 4}\n",
      "2019-07-17 18:14:51,584 INFO Added a workflow. id_map: {-1221: 5, -1220: 6, -1219: 7, -1218: 8}\n",
      "2019-07-17 18:14:51,607 INFO Added a workflow. id_map: {-1225: 9, -1224: 10, -1223: 11, -1222: 12}\n",
      "2019-07-17 18:14:51,620 INFO Added a workflow. id_map: {-1229: 13, -1228: 14, -1227: 15, -1226: 16}\n",
      "2019-07-17 18:14:51,653 INFO Added a workflow. id_map: {-1233: 17, -1232: 18, -1231: 19, -1230: 20}\n",
      "2019-07-17 18:14:51,712 INFO Added a workflow. id_map: {-1237: 21, -1236: 22, -1235: 23, -1234: 24}\n",
      "2019-07-17 18:14:51,728 INFO Added a workflow. id_map: {-1241: 25, -1240: 26, -1239: 27, -1238: 28}\n",
      "2019-07-17 18:14:51,788 INFO Added a workflow. id_map: {-1245: 29, -1244: 30, -1243: 31, -1242: 32}\n",
      "2019-07-17 18:14:51,821 INFO Added a workflow. id_map: {-1249: 33, -1248: 34, -1247: 35, -1246: 36}\n",
      "2019-07-17 18:14:51,888 INFO Added a workflow. id_map: {-1253: 37, -1252: 38, -1251: 39, -1250: 40}\n",
      "2019-07-17 18:14:51,918 INFO Added a workflow. id_map: {-1257: 41, -1256: 42, -1255: 43, -1254: 44}\n",
      "2019-07-17 18:14:51,942 INFO Added a workflow. id_map: {-1261: 45, -1260: 46, -1259: 47, -1258: 48}\n",
      "2019-07-17 18:14:52,003 INFO Added a workflow. id_map: {-1265: 49, -1264: 50, -1263: 51, -1262: 52}\n",
      "2019-07-17 18:14:52,060 INFO Added a workflow. id_map: {-1269: 53, -1268: 54, -1267: 55, -1266: 56}\n",
      "2019-07-17 18:14:52,142 INFO Added a workflow. id_map: {-1273: 57, -1272: 58, -1271: 59, -1270: 60}\n",
      "2019-07-17 18:14:52,186 INFO Added a workflow. id_map: {-1277: 61, -1276: 62, -1275: 63, -1274: 64}\n",
      "2019-07-17 18:14:52,228 INFO Added a workflow. id_map: {-1281: 65, -1280: 66, -1279: 67, -1278: 68}\n",
      "2019-07-17 18:14:52,292 INFO Added a workflow. id_map: {-1285: 69, -1284: 70, -1283: 71, -1282: 72}\n",
      "2019-07-17 18:14:52,354 INFO Added a workflow. id_map: {-1289: 73, -1288: 74, -1287: 75, -1286: 76}\n",
      "2019-07-17 18:14:52,433 INFO Added a workflow. id_map: {-1293: 77, -1292: 78, -1291: 79, -1290: 80}\n",
      "2019-07-17 18:14:52,491 INFO Added a workflow. id_map: {-1297: 81, -1296: 82, -1295: 83, -1294: 84}\n",
      "2019-07-17 18:14:52,534 INFO Added a workflow. id_map: {-1301: 85, -1300: 86, -1299: 87, -1298: 88}\n",
      "2019-07-17 18:14:52,594 INFO Added a workflow. id_map: {-1305: 89, -1304: 90, -1303: 91, -1302: 92}\n",
      "2019-07-17 18:14:52,613 INFO Added a workflow. id_map: {-1309: 93, -1308: 94, -1307: 95, -1306: 96}\n",
      "2019-07-17 18:14:52,667 INFO Added a workflow. id_map: {-1313: 97, -1312: 98, -1311: 99, -1310: 100}\n",
      "2019-07-17 18:14:52,723 INFO Added a workflow. id_map: {-1317: 101, -1316: 102, -1315: 103, -1314: 104}\n",
      "2019-07-17 18:14:52,749 INFO Added a workflow. id_map: {-1321: 105, -1320: 106, -1319: 107, -1318: 108}\n",
      "2019-07-17 18:14:52,785 INFO Added a workflow. id_map: {-1325: 109, -1324: 110, -1323: 111, -1322: 112}\n",
      "2019-07-17 18:14:52,829 INFO Added a workflow. id_map: {-1329: 113, -1328: 114, -1327: 115, -1326: 116}\n",
      "2019-07-17 18:14:52,858 INFO Added a workflow. id_map: {-1333: 117, -1332: 118, -1331: 119, -1330: 120}\n",
      "2019-07-17 18:14:52,913 INFO Added a workflow. id_map: {-1337: 121, -1336: 122, -1335: 123, -1334: 124}\n",
      "2019-07-17 18:14:52,931 INFO Added a workflow. id_map: {-1341: 125, -1340: 126, -1339: 127, -1338: 128}\n",
      "2019-07-17 18:14:52,991 INFO Added a workflow. id_map: {-1345: 129, -1344: 130, -1343: 131, -1342: 132}\n",
      "2019-07-17 18:14:53,033 INFO Added a workflow. id_map: {-1349: 133, -1348: 134, -1347: 135, -1346: 136}\n",
      "2019-07-17 18:14:53,120 INFO Added a workflow. id_map: {-1353: 137, -1352: 138, -1351: 139, -1350: 140}\n",
      "2019-07-17 18:14:53,142 INFO Added a workflow. id_map: {-1357: 141, -1356: 142, -1355: 143, -1354: 144}\n",
      "2019-07-17 18:14:53,189 INFO Added a workflow. id_map: {-1361: 145, -1360: 146, -1359: 147, -1358: 148}\n",
      "2019-07-17 18:14:53,263 INFO Added a workflow. id_map: {-1365: 149, -1364: 150, -1363: 151, -1362: 152}\n",
      "2019-07-17 18:14:53,328 INFO Added a workflow. id_map: {-1369: 153, -1368: 154, -1367: 155, -1366: 156}\n",
      "2019-07-17 18:14:53,396 INFO Added a workflow. id_map: {-1373: 157, -1372: 158, -1371: 159, -1370: 160}\n",
      "2019-07-17 18:14:53,446 INFO Added a workflow. id_map: {-1377: 161, -1376: 162, -1375: 163, -1374: 164}\n",
      "2019-07-17 18:14:53,525 INFO Added a workflow. id_map: {-1381: 165, -1380: 166, -1379: 167, -1378: 168}\n",
      "2019-07-17 18:14:53,592 INFO Added a workflow. id_map: {-1385: 169, -1384: 170, -1383: 171, -1382: 172}\n",
      "2019-07-17 18:14:53,671 INFO Added a workflow. id_map: {-1389: 173, -1388: 174, -1387: 175, -1386: 176}\n",
      "2019-07-17 18:14:53,747 INFO Added a workflow. id_map: {-1393: 177, -1392: 178, -1391: 179, -1390: 180}\n",
      "2019-07-17 18:14:53,795 INFO Added a workflow. id_map: {-1397: 181, -1396: 182, -1395: 183, -1394: 184}\n",
      "2019-07-17 18:14:53,874 INFO Added a workflow. id_map: {-1401: 185, -1400: 186, -1399: 187, -1398: 188}\n",
      "2019-07-17 18:14:53,955 INFO Added a workflow. id_map: {-1405: 189, -1404: 190, -1403: 191, -1402: 192}\n",
      "2019-07-17 18:14:54,037 INFO Added a workflow. id_map: {-1409: 193, -1408: 194, -1407: 195, -1406: 196}\n",
      "2019-07-17 18:14:54,078 INFO Added a workflow. id_map: {-1413: 197, -1412: 198, -1411: 199, -1410: 200}\n",
      "2019-07-17 18:14:54,166 INFO Added a workflow. id_map: {-1417: 201, -1416: 202, -1415: 203, -1414: 204}\n",
      "2019-07-17 18:14:54,241 INFO Added a workflow. id_map: {-1421: 205, -1420: 206, -1419: 207, -1418: 208}\n",
      "2019-07-17 18:14:54,279 INFO Added a workflow. id_map: {-1425: 209, -1424: 210, -1423: 211, -1422: 212}\n",
      "2019-07-17 18:14:54,307 INFO Added a workflow. id_map: {-1429: 213, -1428: 214, -1427: 215, -1426: 216}\n",
      "2019-07-17 18:14:54,353 INFO Added a workflow. id_map: {-1433: 217, -1432: 218, -1431: 219, -1430: 220}\n",
      "2019-07-17 18:14:54,376 INFO Added a workflow. id_map: {-1437: 221, -1436: 222, -1435: 223, -1434: 224}\n",
      "2019-07-17 18:14:54,411 INFO Added a workflow. id_map: {-1441: 225, -1440: 226, -1439: 227, -1438: 228}\n",
      "2019-07-17 18:14:54,433 INFO Added a workflow. id_map: {-1445: 229, -1444: 230, -1443: 231, -1442: 232}\n",
      "2019-07-17 18:14:54,467 INFO Added a workflow. id_map: {-1449: 233, -1448: 234, -1447: 235, -1446: 236}\n",
      "2019-07-17 18:14:54,509 INFO Added a workflow. id_map: {-1453: 237, -1452: 238, -1451: 239, -1450: 240}\n",
      "2019-07-17 18:14:54,526 INFO Added a workflow. id_map: {-1457: 241, -1456: 242, -1455: 243, -1454: 244}\n",
      "2019-07-17 18:14:54,574 INFO Added a workflow. id_map: {-1461: 245, -1460: 246, -1459: 247, -1458: 248}\n",
      "2019-07-17 18:14:54,762 INFO Added a workflow. id_map: {-1465: 249, -1464: 250, -1463: 251, -1462: 252}\n",
      "2019-07-17 18:14:54,832 INFO Added a workflow. id_map: {-1469: 253, -1468: 254, -1467: 255, -1466: 256}\n",
      "2019-07-17 18:14:54,845 INFO Added a workflow. id_map: {-1473: 257, -1472: 258, -1471: 259, -1470: 260}\n",
      "2019-07-17 18:14:54,894 INFO Added a workflow. id_map: {-1477: 261, -1476: 262, -1475: 263, -1474: 264}\n",
      "2019-07-17 18:14:54,967 INFO Added a workflow. id_map: {-1481: 265, -1480: 266, -1479: 267, -1478: 268}\n",
      "2019-07-17 18:14:55,038 INFO Added a workflow. id_map: {-1485: 269, -1484: 270, -1483: 271, -1482: 272}\n",
      "2019-07-17 18:14:55,080 INFO Added a workflow. id_map: {-1489: 273, -1488: 274, -1487: 275, -1486: 276}\n",
      "2019-07-17 18:14:55,105 INFO Added a workflow. id_map: {-1493: 277, -1492: 278, -1491: 279, -1490: 280}\n",
      "2019-07-17 18:14:55,123 INFO Added a workflow. id_map: {-1497: 281, -1496: 282, -1495: 283, -1494: 284}\n",
      "2019-07-17 18:14:55,139 INFO Added a workflow. id_map: {-1501: 285, -1500: 286, -1499: 287, -1498: 288}\n",
      "2019-07-17 18:14:55,161 INFO Added a workflow. id_map: {-1505: 289, -1504: 290, -1503: 291, -1502: 292}\n",
      "2019-07-17 18:14:55,186 INFO Added a workflow. id_map: {-1509: 293, -1508: 294, -1507: 295, -1506: 296}\n",
      "2019-07-17 18:14:55,204 INFO Added a workflow. id_map: {-1513: 297, -1512: 298, -1511: 299, -1510: 300}\n",
      "2019-07-17 18:14:55,226 INFO Added a workflow. id_map: {-1517: 301, -1516: 302, -1515: 303, -1514: 304}\n",
      "2019-07-17 18:14:55,245 INFO Added a workflow. id_map: {-1521: 305, -1520: 306, -1519: 307, -1518: 308}\n",
      "2019-07-17 18:14:55,274 INFO Added a workflow. id_map: {-1525: 309, -1524: 310, -1523: 311, -1522: 312}\n",
      "2019-07-17 18:14:55,311 INFO Added a workflow. id_map: {-1529: 313, -1528: 314, -1527: 315, -1526: 316}\n",
      "2019-07-17 18:14:55,330 INFO Added a workflow. id_map: {-1533: 317, -1532: 318, -1531: 319, -1530: 320}\n",
      "2019-07-17 18:14:55,367 INFO Added a workflow. id_map: {-1537: 321, -1536: 322, -1535: 323, -1534: 324}\n",
      "2019-07-17 18:14:55,383 INFO Added a workflow. id_map: {-1541: 325, -1540: 326, -1539: 327, -1538: 328}\n",
      "2019-07-17 18:14:55,419 INFO Added a workflow. id_map: {-1545: 329, -1544: 330, -1543: 331, -1542: 332}\n",
      "2019-07-17 18:14:55,452 INFO Added a workflow. id_map: {-1549: 333, -1548: 334, -1547: 335, -1546: 336}\n",
      "2019-07-17 18:14:55,520 INFO Added a workflow. id_map: {-1553: 337, -1552: 338, -1551: 339, -1550: 340}\n",
      "2019-07-17 18:14:55,570 INFO Added a workflow. id_map: {-1557: 341, -1556: 342, -1555: 343, -1554: 344}\n",
      "2019-07-17 18:14:55,605 INFO Added a workflow. id_map: {-1561: 345, -1560: 346, -1559: 347, -1558: 348}\n",
      "2019-07-17 18:14:55,627 INFO Added a workflow. id_map: {-1565: 349, -1564: 350, -1563: 351, -1562: 352}\n",
      "2019-07-17 18:14:55,669 INFO Added a workflow. id_map: {-1569: 353, -1568: 354, -1567: 355, -1566: 356}\n",
      "2019-07-17 18:14:55,705 INFO Added a workflow. id_map: {-1573: 357, -1572: 358, -1571: 359, -1570: 360}\n",
      "2019-07-17 18:14:55,788 INFO Added a workflow. id_map: {-1577: 361, -1576: 362, -1575: 363, -1574: 364}\n",
      "2019-07-17 18:14:55,830 INFO Added a workflow. id_map: {-1581: 365, -1580: 366, -1579: 367, -1578: 368}\n",
      "2019-07-17 18:14:55,876 INFO Added a workflow. id_map: {-1585: 369, -1584: 370, -1583: 371, -1582: 372}\n",
      "2019-07-17 18:14:55,943 INFO Added a workflow. id_map: {-1589: 373, -1588: 374, -1587: 375, -1586: 376}\n",
      "2019-07-17 18:14:55,982 INFO Added a workflow. id_map: {-1593: 377, -1592: 378, -1591: 379, -1590: 380}\n",
      "2019-07-17 18:14:56,026 INFO Added a workflow. id_map: {-1597: 381, -1596: 382, -1595: 383, -1594: 384}\n",
      "2019-07-17 18:14:56,065 INFO Added a workflow. id_map: {-1601: 385, -1600: 386, -1599: 387, -1598: 388}\n",
      "2019-07-17 18:14:56,103 INFO Added a workflow. id_map: {-1605: 389, -1604: 390, -1603: 391, -1602: 392}\n",
      "2019-07-17 18:14:56,157 INFO Added a workflow. id_map: {-1609: 393, -1608: 394, -1607: 395, -1606: 396}\n",
      "2019-07-17 18:14:56,222 INFO Added a workflow. id_map: {-1613: 397, -1612: 398, -1611: 399, -1610: 400}\n",
      "2019-07-17 18:14:56,256 INFO Added a workflow. id_map: {-1617: 401, -1616: 402, -1615: 403, -1614: 404}\n",
      "2019-07-17 18:14:56,314 INFO Added a workflow. id_map: {-1621: 405, -1620: 406, -1619: 407, -1618: 408}\n",
      "2019-07-17 18:14:56,377 INFO Added a workflow. id_map: {-1625: 409, -1624: 410, -1623: 411, -1622: 412}\n",
      "2019-07-17 18:14:56,437 INFO Added a workflow. id_map: {-1629: 413, -1628: 414, -1627: 415, -1626: 416}\n",
      "2019-07-17 18:14:56,481 INFO Added a workflow. id_map: {-1633: 417, -1632: 418, -1631: 419, -1630: 420}\n",
      "2019-07-17 18:14:56,527 INFO Added a workflow. id_map: {-1637: 421, -1636: 422, -1635: 423, -1634: 424}\n",
      "2019-07-17 18:14:56,563 INFO Added a workflow. id_map: {-1641: 425, -1640: 426, -1639: 427, -1638: 428}\n",
      "2019-07-17 18:14:56,612 INFO Added a workflow. id_map: {-1645: 429, -1644: 430, -1643: 431, -1642: 432}\n",
      "2019-07-17 18:14:56,646 INFO Added a workflow. id_map: {-1649: 433, -1648: 434, -1647: 435, -1646: 436}\n",
      "2019-07-17 18:14:56,715 INFO Added a workflow. id_map: {-1653: 437, -1652: 438, -1651: 439, -1650: 440}\n",
      "2019-07-17 18:14:56,784 INFO Added a workflow. id_map: {-1657: 441, -1656: 442, -1655: 443, -1654: 444}\n",
      "2019-07-17 18:14:56,858 INFO Added a workflow. id_map: {-1661: 445, -1660: 446, -1659: 447, -1658: 448}\n",
      "2019-07-17 18:14:56,885 INFO Added a workflow. id_map: {-1665: 449, -1664: 450, -1663: 451, -1662: 452}\n",
      "2019-07-17 18:14:56,909 INFO Added a workflow. id_map: {-1669: 453, -1668: 454, -1667: 455, -1666: 456}\n",
      "2019-07-17 18:14:56,933 INFO Added a workflow. id_map: {-1673: 457, -1672: 458, -1671: 459, -1670: 460}\n",
      "2019-07-17 18:14:56,987 INFO Added a workflow. id_map: {-1677: 461, -1676: 462, -1675: 463, -1674: 464}\n",
      "2019-07-17 18:14:57,002 INFO Added a workflow. id_map: {-1681: 465, -1680: 466, -1679: 467, -1678: 468}\n",
      "2019-07-17 18:14:57,023 INFO Added a workflow. id_map: {-1685: 469, -1684: 470, -1683: 471, -1682: 472}\n",
      "2019-07-17 18:14:57,035 INFO Added a workflow. id_map: {-1689: 473, -1688: 474, -1687: 475, -1686: 476}\n",
      "2019-07-17 18:14:57,053 INFO Added a workflow. id_map: {-1693: 477, -1692: 478, -1691: 479, -1690: 480}\n",
      "2019-07-17 18:14:57,067 INFO Added a workflow. id_map: {-1697: 481, -1696: 482, -1695: 483, -1694: 484}\n",
      "2019-07-17 18:14:57,077 INFO Added a workflow. id_map: {-1701: 485, -1700: 486, -1699: 487, -1698: 488}\n",
      "2019-07-17 18:14:57,089 INFO Added a workflow. id_map: {-1705: 489, -1704: 490, -1703: 491, -1702: 492}\n",
      "2019-07-17 18:14:57,114 INFO Added a workflow. id_map: {-1709: 493, -1708: 494, -1707: 495, -1706: 496}\n",
      "2019-07-17 18:14:57,128 INFO Added a workflow. id_map: {-1713: 497, -1712: 498, -1711: 499, -1710: 500}\n",
      "2019-07-17 18:14:57,152 INFO Added a workflow. id_map: {-1717: 501, -1716: 502, -1715: 503, -1714: 504}\n",
      "2019-07-17 18:14:57,177 INFO Added a workflow. id_map: {-1721: 505, -1720: 506, -1719: 507, -1718: 508}\n",
      "2019-07-17 18:14:57,199 INFO Added a workflow. id_map: {-1725: 509, -1724: 510, -1723: 511, -1722: 512}\n",
      "2019-07-17 18:14:57,219 INFO Added a workflow. id_map: {-1729: 513, -1728: 514, -1727: 515, -1726: 516}\n",
      "2019-07-17 18:14:57,260 INFO Added a workflow. id_map: {-1733: 517, -1732: 518, -1731: 519, -1730: 520}\n",
      "2019-07-17 18:14:57,294 INFO Added a workflow. id_map: {-1737: 521, -1736: 522, -1735: 523, -1734: 524}\n",
      "2019-07-17 18:14:57,313 INFO Added a workflow. id_map: {-1741: 525, -1740: 526, -1739: 527, -1738: 528}\n",
      "2019-07-17 18:14:57,329 INFO Added a workflow. id_map: {-1745: 529, -1744: 530, -1743: 531, -1742: 532}\n",
      "2019-07-17 18:14:57,360 INFO Added a workflow. id_map: {-1749: 533, -1748: 534, -1747: 535, -1746: 536}\n",
      "2019-07-17 18:14:57,383 INFO Added a workflow. id_map: {-1753: 537, -1752: 538, -1751: 539, -1750: 540}\n",
      "2019-07-17 18:14:57,396 INFO Added a workflow. id_map: {-1757: 541, -1756: 542, -1755: 543, -1754: 544}\n",
      "2019-07-17 18:14:57,408 INFO Added a workflow. id_map: {-1761: 545, -1760: 546, -1759: 547, -1758: 548}\n",
      "2019-07-17 18:14:57,424 INFO Added a workflow. id_map: {-1765: 549, -1764: 550, -1763: 551, -1762: 552}\n",
      "2019-07-17 18:14:57,445 INFO Added a workflow. id_map: {-1769: 553, -1768: 554, -1767: 555, -1766: 556}\n",
      "2019-07-17 18:14:57,474 INFO Added a workflow. id_map: {-1773: 557, -1772: 558, -1771: 559, -1770: 560}\n",
      "2019-07-17 18:14:57,546 INFO Added a workflow. id_map: {-1777: 561, -1776: 562, -1775: 563, -1774: 564}\n",
      "2019-07-17 18:14:57,572 INFO Added a workflow. id_map: {-1781: 565, -1780: 566, -1779: 567, -1778: 568}\n",
      "2019-07-17 18:14:57,585 INFO Added a workflow. id_map: {-1785: 569, -1784: 570, -1783: 571, -1782: 572}\n",
      "2019-07-17 18:14:57,615 INFO Added a workflow. id_map: {-1789: 573, -1788: 574, -1787: 575, -1786: 576}\n",
      "2019-07-17 18:14:57,634 INFO Added a workflow. id_map: {-1793: 577, -1792: 578, -1791: 579, -1790: 580}\n",
      "2019-07-17 18:14:57,697 INFO Added a workflow. id_map: {-1797: 581, -1796: 582, -1795: 583, -1794: 584}\n",
      "2019-07-17 18:14:57,730 INFO Added a workflow. id_map: {-1801: 585, -1800: 586, -1799: 587, -1798: 588}\n",
      "2019-07-17 18:14:57,776 INFO Added a workflow. id_map: {-1805: 589, -1804: 590, -1803: 591, -1802: 592}\n",
      "2019-07-17 18:14:57,793 INFO Added a workflow. id_map: {-1809: 593, -1808: 594, -1807: 595, -1806: 596}\n",
      "2019-07-17 18:14:57,816 INFO Added a workflow. id_map: {-1813: 597, -1812: 598, -1811: 599, -1810: 600}\n",
      "2019-07-17 18:14:57,867 INFO Added a workflow. id_map: {-1817: 601, -1816: 602, -1815: 603, -1814: 604}\n",
      "2019-07-17 18:14:57,894 INFO Added a workflow. id_map: {-1821: 605, -1820: 606, -1819: 607, -1818: 608}\n",
      "2019-07-17 18:14:57,910 INFO Added a workflow. id_map: {-1825: 609, -1824: 610, -1823: 611, -1822: 612}\n",
      "2019-07-17 18:14:57,925 INFO Added a workflow. id_map: {-1829: 613, -1828: 614, -1827: 615, -1826: 616}\n",
      "2019-07-17 18:14:57,965 INFO Added a workflow. id_map: {-1833: 617, -1832: 618, -1831: 619, -1830: 620}\n",
      "2019-07-17 18:14:58,009 INFO Added a workflow. id_map: {-1837: 621, -1836: 622, -1835: 623, -1834: 624}\n",
      "2019-07-17 18:14:58,050 INFO Added a workflow. id_map: {-1841: 625, -1840: 626, -1839: 627, -1838: 628}\n",
      "2019-07-17 18:14:58,070 INFO Added a workflow. id_map: {-1845: 629, -1844: 630, -1843: 631, -1842: 632}\n",
      "2019-07-17 18:14:58,110 INFO Added a workflow. id_map: {-1849: 633, -1848: 634, -1847: 635, -1846: 636}\n",
      "2019-07-17 18:14:58,150 INFO Added a workflow. id_map: {-1853: 637, -1852: 638, -1851: 639, -1850: 640}\n",
      "2019-07-17 18:14:58,183 INFO Added a workflow. id_map: {-1857: 641, -1856: 642, -1855: 643, -1854: 644}\n",
      "2019-07-17 18:14:58,213 INFO Added a workflow. id_map: {-1861: 645, -1860: 646, -1859: 647, -1858: 648}\n",
      "2019-07-17 18:14:58,229 INFO Added a workflow. id_map: {-1865: 649, -1864: 650, -1863: 651, -1862: 652}\n",
      "2019-07-17 18:14:58,244 INFO Added a workflow. id_map: {-1869: 653, -1868: 654, -1867: 655, -1866: 656}\n",
      "2019-07-17 18:14:58,273 INFO Added a workflow. id_map: {-1873: 657, -1872: 658, -1871: 659, -1870: 660}\n",
      "2019-07-17 18:14:58,303 INFO Added a workflow. id_map: {-1877: 661, -1876: 662, -1875: 663, -1874: 664}\n",
      "2019-07-17 18:14:58,330 INFO Added a workflow. id_map: {-1881: 665, -1880: 666, -1879: 667, -1878: 668}\n",
      "2019-07-17 18:14:58,394 INFO Added a workflow. id_map: {-1885: 669, -1884: 670, -1883: 671, -1882: 672}\n",
      "2019-07-17 18:14:58,409 INFO Added a workflow. id_map: {-1889: 673, -1888: 674, -1887: 675, -1886: 676}\n",
      "2019-07-17 18:14:58,426 INFO Added a workflow. id_map: {-1893: 677, -1892: 678, -1891: 679, -1890: 680}\n",
      "2019-07-17 18:14:58,448 INFO Added a workflow. id_map: {-1897: 681, -1896: 682, -1895: 683, -1894: 684}\n",
      "2019-07-17 18:14:58,466 INFO Added a workflow. id_map: {-1901: 685, -1900: 686, -1899: 687, -1898: 688}\n",
      "2019-07-17 18:14:58,509 INFO Added a workflow. id_map: {-1905: 689, -1904: 690, -1903: 691, -1902: 692}\n",
      "2019-07-17 18:14:58,568 INFO Added a workflow. id_map: {-1909: 693, -1908: 694, -1907: 695, -1906: 696}\n",
      "2019-07-17 18:14:58,601 INFO Added a workflow. id_map: {-1913: 697, -1912: 698, -1911: 699, -1910: 700}\n",
      "2019-07-17 18:14:58,636 INFO Added a workflow. id_map: {-1917: 701, -1916: 702, -1915: 703, -1914: 704}\n",
      "2019-07-17 18:14:58,681 INFO Added a workflow. id_map: {-1921: 705, -1920: 706, -1919: 707, -1918: 708}\n",
      "2019-07-17 18:14:58,726 INFO Added a workflow. id_map: {-1925: 709, -1924: 710, -1923: 711, -1922: 712}\n",
      "2019-07-17 18:14:58,761 INFO Added a workflow. id_map: {-1929: 713, -1928: 714, -1927: 715, -1926: 716}\n",
      "2019-07-17 18:14:58,815 INFO Added a workflow. id_map: {-1933: 717, -1932: 718, -1931: 719, -1930: 720}\n",
      "2019-07-17 18:14:58,836 INFO Added a workflow. id_map: {-1937: 721, -1936: 722, -1935: 723, -1934: 724}\n",
      "2019-07-17 18:14:58,848 INFO Added a workflow. id_map: {-1941: 725, -1940: 726, -1939: 727, -1938: 728}\n",
      "2019-07-17 18:14:58,900 INFO Added a workflow. id_map: {-1945: 729, -1944: 730, -1943: 731, -1942: 732}\n",
      "2019-07-17 18:14:58,927 INFO Added a workflow. id_map: {-1949: 733, -1948: 734, -1947: 735, -1946: 736}\n",
      "2019-07-17 18:14:58,980 INFO Added a workflow. id_map: {-1953: 737, -1952: 738, -1951: 739, -1950: 740}\n",
      "2019-07-17 18:14:59,009 INFO Added a workflow. id_map: {-1957: 741, -1956: 742, -1955: 743, -1954: 744}\n",
      "2019-07-17 18:14:59,029 INFO Added a workflow. id_map: {-1961: 745, -1960: 746, -1959: 747, -1958: 748}\n",
      "2019-07-17 18:14:59,070 INFO Added a workflow. id_map: {-1965: 749, -1964: 750, -1963: 751, -1962: 752}\n",
      "2019-07-17 18:14:59,092 INFO Added a workflow. id_map: {-1969: 753, -1968: 754, -1967: 755, -1966: 756}\n",
      "2019-07-17 18:14:59,129 INFO Added a workflow. id_map: {-1973: 757, -1972: 758, -1971: 759, -1970: 760}\n",
      "2019-07-17 18:14:59,155 INFO Added a workflow. id_map: {-1977: 761, -1976: 762, -1975: 763, -1974: 764}\n",
      "2019-07-17 18:14:59,172 INFO Added a workflow. id_map: {-1981: 765, -1980: 766, -1979: 767, -1978: 768}\n",
      "2019-07-17 18:14:59,187 INFO Added a workflow. id_map: {-1985: 769, -1984: 770, -1983: 771, -1982: 772}\n",
      "2019-07-17 18:14:59,229 INFO Added a workflow. id_map: {-1989: 773, -1988: 774, -1987: 775, -1986: 776}\n",
      "2019-07-17 18:14:59,243 INFO Added a workflow. id_map: {-1993: 777, -1992: 778, -1991: 779, -1990: 780}\n",
      "2019-07-17 18:14:59,264 INFO Added a workflow. id_map: {-1997: 781, -1996: 782, -1995: 783, -1994: 784}\n",
      "2019-07-17 18:14:59,292 INFO Added a workflow. id_map: {-2001: 785, -2000: 786, -1999: 787, -1998: 788}\n",
      "2019-07-17 18:14:59,307 INFO Added a workflow. id_map: {-2005: 789, -2004: 790, -2003: 791, -2002: 792}\n",
      "2019-07-17 18:14:59,363 INFO Added a workflow. id_map: {-2009: 793, -2008: 794, -2007: 795, -2006: 796}\n",
      "2019-07-17 18:14:59,381 INFO Added a workflow. id_map: {-2013: 797, -2012: 798, -2011: 799, -2010: 800}\n",
      "2019-07-17 18:14:59,405 INFO Added a workflow. id_map: {-2017: 801, -2016: 802, -2015: 803, -2014: 804}\n",
      "2019-07-17 18:14:59,437 INFO Added a workflow. id_map: {-2021: 805, -2020: 806, -2019: 807, -2018: 808}\n",
      "2019-07-17 18:14:59,464 INFO Added a workflow. id_map: {-2025: 809, -2024: 810, -2023: 811, -2022: 812}\n",
      "2019-07-17 18:14:59,512 INFO Added a workflow. id_map: {-2029: 813, -2028: 814, -2027: 815, -2026: 816}\n",
      "2019-07-17 18:14:59,531 INFO Added a workflow. id_map: {-2033: 817, -2032: 818, -2031: 819, -2030: 820}\n",
      "2019-07-17 18:14:59,556 INFO Added a workflow. id_map: {-2037: 821, -2036: 822, -2035: 823, -2034: 824}\n",
      "2019-07-17 18:14:59,585 INFO Added a workflow. id_map: {-2041: 825, -2040: 826, -2039: 827, -2038: 828}\n",
      "2019-07-17 18:14:59,629 INFO Added a workflow. id_map: {-2045: 829, -2044: 830, -2043: 831, -2042: 832}\n",
      "2019-07-17 18:14:59,659 INFO Added a workflow. id_map: {-2049: 833, -2048: 834, -2047: 835, -2046: 836}\n",
      "2019-07-17 18:14:59,699 INFO Added a workflow. id_map: {-2053: 837, -2052: 838, -2051: 839, -2050: 840}\n",
      "2019-07-17 18:14:59,713 INFO Added a workflow. id_map: {-2057: 841, -2056: 842, -2055: 843, -2054: 844}\n",
      "2019-07-17 18:14:59,758 INFO Added a workflow. id_map: {-2061: 845, -2060: 846, -2059: 847, -2058: 848}\n",
      "2019-07-17 18:14:59,801 INFO Added a workflow. id_map: {-2065: 849, -2064: 850, -2063: 851, -2062: 852}\n",
      "2019-07-17 18:14:59,825 INFO Added a workflow. id_map: {-2069: 853, -2068: 854, -2067: 855, -2066: 856}\n",
      "2019-07-17 18:14:59,848 INFO Added a workflow. id_map: {-2073: 857, -2072: 858, -2071: 859, -2070: 860}\n",
      "2019-07-17 18:14:59,878 INFO Added a workflow. id_map: {-2077: 861, -2076: 862, -2075: 863, -2074: 864}\n",
      "2019-07-17 18:14:59,914 INFO Added a workflow. id_map: {-2081: 865, -2080: 866, -2079: 867, -2078: 868}\n",
      "2019-07-17 18:14:59,938 INFO Added a workflow. id_map: {-2085: 869, -2084: 870, -2083: 871, -2082: 872}\n",
      "2019-07-17 18:14:59,957 INFO Added a workflow. id_map: {-2089: 873, -2088: 874, -2087: 875, -2086: 876}\n",
      "2019-07-17 18:15:00,015 INFO Added a workflow. id_map: {-2093: 877, -2092: 878, -2091: 879, -2090: 880}\n",
      "2019-07-17 18:15:00,050 INFO Added a workflow. id_map: {-2097: 881, -2096: 882, -2095: 883, -2094: 884}\n",
      "2019-07-17 18:15:00,077 INFO Added a workflow. id_map: {-2101: 885, -2100: 886, -2099: 887, -2098: 888}\n",
      "2019-07-17 18:15:00,094 INFO Added a workflow. id_map: {-2105: 889, -2104: 890, -2103: 891, -2102: 892}\n",
      "2019-07-17 18:15:00,129 INFO Added a workflow. id_map: {-2109: 893, -2108: 894, -2107: 895, -2106: 896}\n",
      "2019-07-17 18:15:00,170 INFO Added a workflow. id_map: {-2113: 897, -2112: 898, -2111: 899, -2110: 900}\n",
      "2019-07-17 18:15:00,209 INFO Added a workflow. id_map: {-2117: 901, -2116: 902, -2115: 903, -2114: 904}\n",
      "2019-07-17 18:15:00,227 INFO Added a workflow. id_map: {-2121: 905, -2120: 906, -2119: 907, -2118: 908}\n",
      "2019-07-17 18:15:00,268 INFO Added a workflow. id_map: {-2125: 909, -2124: 910, -2123: 911, -2122: 912}\n",
      "2019-07-17 18:15:00,295 INFO Added a workflow. id_map: {-2129: 913, -2128: 914, -2127: 915, -2126: 916}\n",
      "2019-07-17 18:15:00,305 INFO Added a workflow. id_map: {-2133: 917, -2132: 918, -2131: 919, -2130: 920}\n",
      "2019-07-17 18:15:00,316 INFO Added a workflow. id_map: {-2137: 921, -2136: 922, -2135: 923, -2134: 924}\n",
      "2019-07-17 18:15:00,332 INFO Added a workflow. id_map: {-2141: 925, -2140: 926, -2139: 927, -2138: 928}\n",
      "2019-07-17 18:15:00,358 INFO Added a workflow. id_map: {-2145: 929, -2144: 930, -2143: 931, -2142: 932}\n",
      "2019-07-17 18:15:00,427 INFO Added a workflow. id_map: {-2149: 933, -2148: 934, -2147: 935, -2146: 936}\n",
      "2019-07-17 18:15:00,440 INFO Added a workflow. id_map: {-2153: 937, -2152: 938, -2151: 939, -2150: 940}\n",
      "2019-07-17 18:15:00,454 INFO Added a workflow. id_map: {-2157: 941, -2156: 942, -2155: 943, -2154: 944}\n",
      "2019-07-17 18:15:00,507 INFO Added a workflow. id_map: {-2161: 945, -2160: 946, -2159: 947, -2158: 948}\n",
      "2019-07-17 18:15:00,536 INFO Added a workflow. id_map: {-2165: 949, -2164: 950, -2163: 951, -2162: 952}\n",
      "2019-07-17 18:15:00,580 INFO Added a workflow. id_map: {-2169: 953, -2168: 954, -2167: 955, -2166: 956}\n",
      "2019-07-17 18:15:00,592 INFO Added a workflow. id_map: {-2173: 957, -2172: 958, -2171: 959, -2170: 960}\n",
      "2019-07-17 18:15:00,617 INFO Added a workflow. id_map: {-2177: 961, -2176: 962, -2175: 963, -2174: 964}\n",
      "2019-07-17 18:15:00,630 INFO Added a workflow. id_map: {-2181: 965, -2180: 966, -2179: 967, -2178: 968}\n",
      "2019-07-17 18:15:00,652 INFO Added a workflow. id_map: {-2185: 969, -2184: 970, -2183: 971, -2182: 972}\n",
      "2019-07-17 18:15:00,665 INFO Added a workflow. id_map: {-2189: 973, -2188: 974, -2187: 975, -2186: 976}\n",
      "2019-07-17 18:15:00,676 INFO Added a workflow. id_map: {-2193: 977, -2192: 978, -2191: 979, -2190: 980}\n",
      "2019-07-17 18:15:00,696 INFO Added a workflow. id_map: {-2197: 981, -2196: 982, -2195: 983, -2194: 984}\n",
      "2019-07-17 18:15:00,710 INFO Added a workflow. id_map: {-2201: 985, -2200: 986, -2199: 987, -2198: 988}\n",
      "2019-07-17 18:15:00,737 INFO Added a workflow. id_map: {-2205: 989, -2204: 990, -2203: 991, -2202: 992}\n",
      "2019-07-17 18:15:00,762 INFO Added a workflow. id_map: {-2209: 993, -2208: 994, -2207: 995, -2206: 996}\n",
      "2019-07-17 18:15:00,779 INFO Added a workflow. id_map: {-2213: 997, -2212: 998, -2211: 999, -2210: 1000}\n",
      "2019-07-17 18:15:00,798 INFO Added a workflow. id_map: {-2217: 1001, -2216: 1002, -2215: 1003, -2214: 1004}\n",
      "2019-07-17 18:15:00,817 INFO Added a workflow. id_map: {-2221: 1005, -2220: 1006, -2219: 1007, -2218: 1008}\n",
      "2019-07-17 18:15:00,839 INFO Added a workflow. id_map: {-2225: 1009, -2224: 1010, -2223: 1011, -2222: 1012}\n",
      "2019-07-17 18:15:00,856 INFO Added a workflow. id_map: {-2229: 1013, -2228: 1014, -2227: 1015, -2226: 1016}\n",
      "2019-07-17 18:15:00,916 INFO Added a workflow. id_map: {-2233: 1017, -2232: 1018, -2231: 1019, -2230: 1020}\n",
      "2019-07-17 18:15:00,984 INFO Added a workflow. id_map: {-2237: 1021, -2236: 1022, -2235: 1023, -2234: 1024}\n",
      "2019-07-17 18:15:01,057 INFO Added a workflow. id_map: {-2241: 1025, -2240: 1026, -2239: 1027, -2238: 1028}\n",
      "2019-07-17 18:15:01,086 INFO Added a workflow. id_map: {-2245: 1029, -2244: 1030, -2243: 1031, -2242: 1032}\n",
      "2019-07-17 18:15:01,102 INFO Added a workflow. id_map: {-2249: 1033, -2248: 1034, -2247: 1035, -2246: 1036}\n",
      "2019-07-17 18:15:01,162 INFO Added a workflow. id_map: {-2253: 1037, -2252: 1038, -2251: 1039, -2250: 1040}\n",
      "2019-07-17 18:15:01,195 INFO Added a workflow. id_map: {-2257: 1041, -2256: 1042, -2255: 1043, -2254: 1044}\n",
      "2019-07-17 18:15:01,251 INFO Added a workflow. id_map: {-2261: 1045, -2260: 1046, -2259: 1047, -2258: 1048}\n",
      "2019-07-17 18:15:01,272 INFO Added a workflow. id_map: {-2265: 1049, -2264: 1050, -2263: 1051, -2262: 1052}\n",
      "2019-07-17 18:15:01,324 INFO Added a workflow. id_map: {-2269: 1053, -2268: 1054, -2267: 1055, -2266: 1056}\n",
      "2019-07-17 18:15:01,384 INFO Added a workflow. id_map: {-2273: 1057, -2272: 1058, -2271: 1059, -2270: 1060}\n",
      "2019-07-17 18:15:01,436 INFO Added a workflow. id_map: {-2277: 1061, -2276: 1062, -2275: 1063, -2274: 1064}\n",
      "2019-07-17 18:15:01,456 INFO Added a workflow. id_map: {-2281: 1065, -2280: 1066, -2279: 1067, -2278: 1068}\n",
      "2019-07-17 18:15:01,486 INFO Added a workflow. id_map: {-2285: 1069, -2284: 1070, -2283: 1071, -2282: 1072}\n",
      "2019-07-17 18:15:01,561 INFO Added a workflow. id_map: {-2289: 1073, -2288: 1074, -2287: 1075, -2286: 1076}\n",
      "2019-07-17 18:15:01,576 INFO Added a workflow. id_map: {-2293: 1077, -2292: 1078, -2291: 1079, -2290: 1080}\n",
      "2019-07-17 18:15:01,630 INFO Added a workflow. id_map: {-2297: 1081, -2296: 1082, -2295: 1083, -2294: 1084}\n",
      "2019-07-17 18:15:01,693 INFO Added a workflow. id_map: {-2301: 1085, -2300: 1086, -2299: 1087, -2298: 1088}\n",
      "2019-07-17 18:15:01,749 INFO Added a workflow. id_map: {-2305: 1089, -2304: 1090, -2303: 1091, -2302: 1092}\n",
      "2019-07-17 18:15:01,806 INFO Added a workflow. id_map: {-2309: 1093, -2308: 1094, -2307: 1095, -2306: 1096}\n",
      "2019-07-17 18:15:01,830 INFO Added a workflow. id_map: {-2313: 1097, -2312: 1098, -2311: 1099, -2310: 1100}\n",
      "2019-07-17 18:15:01,889 INFO Added a workflow. id_map: {-2317: 1101, -2316: 1102, -2315: 1103, -2314: 1104}\n",
      "2019-07-17 18:15:01,919 INFO Added a workflow. id_map: {-2321: 1105, -2320: 1106, -2319: 1107, -2318: 1108}\n",
      "2019-07-17 18:15:01,942 INFO Added a workflow. id_map: {-2325: 1109, -2324: 1110, -2323: 1111, -2322: 1112}\n",
      "2019-07-17 18:15:01,952 INFO Added a workflow. id_map: {-2329: 1113, -2328: 1114, -2327: 1115, -2326: 1116}\n",
      "2019-07-17 18:15:01,964 INFO Added a workflow. id_map: {-2333: 1117, -2332: 1118, -2331: 1119, -2330: 1120}\n",
      "2019-07-17 18:15:01,977 INFO Added a workflow. id_map: {-2337: 1121, -2336: 1122, -2335: 1123, -2334: 1124}\n",
      "2019-07-17 18:15:01,990 INFO Added a workflow. id_map: {-2341: 1125, -2340: 1126, -2339: 1127, -2338: 1128}\n",
      "2019-07-17 18:15:02,020 INFO Added a workflow. id_map: {-2345: 1129, -2344: 1130, -2343: 1131, -2342: 1132}\n",
      "2019-07-17 18:15:02,106 INFO Added a workflow. id_map: {-2349: 1133, -2348: 1134, -2347: 1135, -2346: 1136}\n",
      "2019-07-17 18:15:02,237 INFO Added a workflow. id_map: {-2353: 1137, -2352: 1138, -2351: 1139, -2350: 1140}\n",
      "2019-07-17 18:15:02,291 INFO Added a workflow. id_map: {-2357: 1141, -2356: 1142, -2355: 1143, -2354: 1144}\n",
      "2019-07-17 18:15:02,313 INFO Added a workflow. id_map: {-2361: 1145, -2360: 1146, -2359: 1147, -2358: 1148}\n",
      "2019-07-17 18:15:02,354 INFO Added a workflow. id_map: {-2365: 1149, -2364: 1150, -2363: 1151, -2362: 1152}\n",
      "2019-07-17 18:15:02,458 INFO Added a workflow. id_map: {-2369: 1153, -2368: 1154, -2367: 1155, -2366: 1156}\n",
      "2019-07-17 18:15:02,498 INFO Added a workflow. id_map: {-2373: 1157, -2372: 1158, -2371: 1159, -2370: 1160}\n",
      "2019-07-17 18:15:02,551 INFO Added a workflow. id_map: {-2377: 1161, -2376: 1162, -2375: 1163, -2374: 1164}\n",
      "2019-07-17 18:15:02,624 INFO Added a workflow. id_map: {-2381: 1165, -2380: 1166, -2379: 1167, -2378: 1168}\n",
      "2019-07-17 18:15:02,648 INFO Added a workflow. id_map: {-2385: 1169, -2384: 1170, -2383: 1171, -2382: 1172}\n",
      "2019-07-17 18:15:02,665 INFO Added a workflow. id_map: {-2389: 1173, -2388: 1174, -2387: 1175, -2386: 1176}\n",
      "2019-07-17 18:15:02,679 INFO Added a workflow. id_map: {-2393: 1177, -2392: 1178, -2391: 1179, -2390: 1180}\n",
      "2019-07-17 18:15:02,702 INFO Added a workflow. id_map: {-2397: 1181, -2396: 1182, -2395: 1183, -2394: 1184}\n",
      "\n"
     ]
    }
   ],
   "source": [
    "from atomate.vasp.workflows.presets.core import get_wf\n",
    "from fireworks import LaunchPad\n",
    "\n",
    "lpad = LaunchPad.auto_load()\n",
    "lpad.reset(\"\", require_password=False)\n",
    "\n",
    "from pymatgen import MPRester\n",
    "mpr = MPRester('4LXfB3yznN0MWq7D')\n",
    "\n",
    "structures = mpr.get_structures(\"SiO2\")\n",
    "for structure in tqdm_notebook(structures):\n",
    "    wf = get_wf(structure, \"bandstructure.yaml\")\n",
    "    lpad.add_wf(wf)"
   ]
  },
  {
   "cell_type": "markdown",
   "metadata": {},
   "source": [
    "This snippet attests to the so-called \"high-throughput\" approach, which has value both because it enables you to aggregate a lot of data quickly in a way that is only possible in computational materials science and because it enables you to examine trends in a large dataset much more quickly, which is typically the most valuable way to use DFT-based simulation."
   ]
  },
  {
   "cell_type": "markdown",
   "metadata": {},
   "source": [
    "Before we move on, let's reset the workflow database."
   ]
  },
  {
   "cell_type": "code",
   "execution_count": 28,
   "metadata": {},
   "outputs": [
    {
     "name": "stdout",
     "output_type": "stream",
     "text": [
      "2019-07-17 18:15:02,764 INFO Performing db tune-up\n",
      "2019-07-17 18:15:02,822 INFO LaunchPad was RESET.\n"
     ]
    }
   ],
   "source": [
    "lpad.reset(password=\"\", require_password=False, max_reset_wo_password=10000)"
   ]
  },
  {
   "cell_type": "markdown",
   "metadata": {},
   "source": [
    "## The elastic tensor: A multi-step preset workflow"
   ]
  },
  {
   "cell_type": "markdown",
   "metadata": {},
   "source": [
    "In addition to enabling \"high-throughput\" functionality, atomate allows you to execute a relatively complex set of instructions using very simple constructions.  Our canonical example of this functionality is contained in the elastic workflow."
   ]
  },
  {
   "cell_type": "code",
   "execution_count": 32,
   "metadata": {},
   "outputs": [
    {
     "data": {
      "text/plain": [
       "Structure Summary\n",
       "Lattice\n",
       "    abc : 5.468727957193058 5.468727957193058 5.468727957193058\n",
       " angles : 90.0 90.0 90.0\n",
       " volume : 163.55316755397953\n",
       "      A : 5.468727957193058 0.0 3.348630094092061e-16\n",
       "      B : 8.794385292882e-16 5.468727957193058 3.348630094092061e-16\n",
       "      C : 0.0 0.0 5.468727957193058\n",
       "PeriodicSite: Si (1.3672, 1.3672, 1.3672) [0.2500, 0.2500, 0.2500]\n",
       "PeriodicSite: Si (2.7344, 2.7344, 0.0000) [0.5000, 0.5000, 0.0000]\n",
       "PeriodicSite: Si (1.3672, 4.1015, 4.1015) [0.2500, 0.7500, 0.7500]\n",
       "PeriodicSite: Si (2.7344, 0.0000, 2.7344) [0.5000, 0.0000, 0.5000]\n",
       "PeriodicSite: Si (4.1015, 1.3672, 4.1015) [0.7500, 0.2500, 0.7500]\n",
       "PeriodicSite: Si (0.0000, 2.7344, 2.7344) [0.0000, 0.5000, 0.5000]\n",
       "PeriodicSite: Si (4.1015, 4.1015, 1.3672) [0.7500, 0.7500, 0.2500]\n",
       "PeriodicSite: Si (0.0000, 0.0000, 0.0000) [0.0000, 0.0000, 0.0000]"
      ]
     },
     "execution_count": 32,
     "metadata": {},
     "output_type": "execute_result"
    }
   ],
   "source": [
    "structure = mpr.get_structure_by_material_id(\n",
    "    \"mp-149\", conventional_unit_cell=True)\n",
    "structure"
   ]
  },
  {
   "cell_type": "code",
   "execution_count": 33,
   "metadata": {},
   "outputs": [],
   "source": [
    "from mp_workshop import display_struct"
   ]
  },
  {
   "cell_type": "code",
   "execution_count": 34,
   "metadata": {},
   "outputs": [
    {
     "data": {
      "application/vnd.jupyter.widget-view+json": {
       "model_id": "172c09f1f22a49718383e36c6b2d32c8",
       "version_major": 2,
       "version_minor": 0
      },
      "text/plain": [
       "Renderer(camera=OrthographicCamera(bottom=-9.472114674630733, far=4000.0, left=-9.472114674630733, near=-4000.…"
      ]
     },
     "metadata": {},
     "output_type": "display_data"
    }
   ],
   "source": [
    "display_struct(structure)"
   ]
  },
  {
   "cell_type": "code",
   "execution_count": 35,
   "metadata": {},
   "outputs": [],
   "source": [
    "from atomate.vasp.workflows.presets.core import wf_elastic_constant, wf_elastic_constant_minimal"
   ]
  },
  {
   "cell_type": "code",
   "execution_count": 36,
   "metadata": {},
   "outputs": [],
   "source": [
    "wf = wf_elastic_constant(structure)"
   ]
  },
  {
   "cell_type": "markdown",
   "metadata": {},
   "source": [
    "Here's a rendering of the control flow associated with the firework, which you can see both here and in the fireworks dashboard."
   ]
  },
  {
   "cell_type": "code",
   "execution_count": 37,
   "metadata": {},
   "outputs": [
    {
     "data": {
      "image/svg+xml": [
       "<?xml version=\"1.0\" encoding=\"UTF-8\" standalone=\"no\"?>\n",
       "<!DOCTYPE svg PUBLIC \"-//W3C//DTD SVG 1.1//EN\"\n",
       " \"http://www.w3.org/Graphics/SVG/1.1/DTD/svg11.dtd\">\n",
       "<!-- Generated by graphviz version 2.40.1 (20161225.0304)\n",
       " -->\n",
       "<!-- Title: %3 Pages: 1 -->\n",
       "<svg width=\"557pt\" height=\"1286pt\"\n",
       " viewBox=\"0.00 0.00 557.00 1286.00\" xmlns=\"http://www.w3.org/2000/svg\" xmlns:xlink=\"http://www.w3.org/1999/xlink\">\n",
       "<g id=\"graph0\" class=\"graph\" transform=\"scale(1 1) rotate(0) translate(4 1282)\">\n",
       "<title>%3</title>\n",
       "<polygon fill=\"#ffffff\" stroke=\"transparent\" points=\"-4,4 -4,-1282 553,-1282 553,4 -4,4\"/>\n",
       "<!-- &#45;2398 -->\n",
       "<g id=\"node1\" class=\"node\">\n",
       "<title>&#45;2398</title>\n",
       "<polygon fill=\"none\" stroke=\"#1f62a2\" points=\"191,-657 0,-657 0,-621 191,-621 191,-657\"/>\n",
       "<text text-anchor=\"middle\" x=\"95.5\" y=\"-635.3\" font-family=\"Times,serif\" font-size=\"14.00\" fill=\"#000000\">Si&#45;elastic structure optimization</text>\n",
       "</g>\n",
       "<!-- &#45;2399 -->\n",
       "<g id=\"node2\" class=\"node\">\n",
       "<title>&#45;2399</title>\n",
       "<polygon fill=\"none\" stroke=\"#1f62a2\" points=\"378.5,-1278 230.5,-1278 230.5,-1242 378.5,-1242 378.5,-1278\"/>\n",
       "<text text-anchor=\"middle\" x=\"304.5\" y=\"-1256.3\" font-family=\"Times,serif\" font-size=\"14.00\" fill=\"#000000\">Si&#45;elastic deformation 0</text>\n",
       "</g>\n",
       "<!-- &#45;2398&#45;&gt;&#45;2399 -->\n",
       "<g id=\"edge24\" class=\"edge\">\n",
       "<title>&#45;2398&#45;&gt;&#45;2399</title>\n",
       "<path fill=\"none\" stroke=\"#000000\" d=\"M97.1701,-657.2839C105.7439,-747.4075 147.5247,-1143.603 227,-1233 227.7573,-1233.8519 228.543,-1234.6769 229.3545,-1235.4758\"/>\n",
       "<polygon fill=\"#000000\" stroke=\"#000000\" points=\"227.3375,-1238.3483 237.288,-1241.9868 231.7783,-1232.9372 227.3375,-1238.3483\"/>\n",
       "</g>\n",
       "<!-- &#45;2400 -->\n",
       "<g id=\"node3\" class=\"node\">\n",
       "<title>&#45;2400</title>\n",
       "<polygon fill=\"none\" stroke=\"#1f62a2\" points=\"378.5,-1224 230.5,-1224 230.5,-1188 378.5,-1188 378.5,-1224\"/>\n",
       "<text text-anchor=\"middle\" x=\"304.5\" y=\"-1202.3\" font-family=\"Times,serif\" font-size=\"14.00\" fill=\"#000000\">Si&#45;elastic deformation 1</text>\n",
       "</g>\n",
       "<!-- &#45;2398&#45;&gt;&#45;2400 -->\n",
       "<g id=\"edge23\" class=\"edge\">\n",
       "<title>&#45;2398&#45;&gt;&#45;2400</title>\n",
       "<path fill=\"none\" stroke=\"#000000\" d=\"M97.5741,-657.0195C107.6439,-741.6075 153.9479,-1098.5457 227,-1179 227.7662,-1179.8439 228.5603,-1180.6614 229.3796,-1181.4533\"/>\n",
       "<polygon fill=\"#000000\" stroke=\"#000000\" points=\"227.3929,-1184.3479 237.3698,-1187.9133 231.7939,-1178.9044 227.3929,-1184.3479\"/>\n",
       "</g>\n",
       "<!-- &#45;2401 -->\n",
       "<g id=\"node4\" class=\"node\">\n",
       "<title>&#45;2401</title>\n",
       "<polygon fill=\"none\" stroke=\"#1f62a2\" points=\"378.5,-1170 230.5,-1170 230.5,-1134 378.5,-1134 378.5,-1170\"/>\n",
       "<text text-anchor=\"middle\" x=\"304.5\" y=\"-1148.3\" font-family=\"Times,serif\" font-size=\"14.00\" fill=\"#000000\">Si&#45;elastic deformation 2</text>\n",
       "</g>\n",
       "<!-- &#45;2398&#45;&gt;&#45;2401 -->\n",
       "<g id=\"edge22\" class=\"edge\">\n",
       "<title>&#45;2398&#45;&gt;&#45;2401</title>\n",
       "<path fill=\"none\" stroke=\"#000000\" d=\"M98.1011,-657.0539C109.8654,-736.4169 160.4247,-1053.5225 227,-1125 227.7769,-1125.8341 228.5809,-1126.6424 229.4096,-1127.4258\"/>\n",
       "<polygon fill=\"#000000\" stroke=\"#000000\" points=\"227.4595,-1130.3465 237.4677,-1133.8233 231.8121,-1124.8642 227.4595,-1130.3465\"/>\n",
       "</g>\n",
       "<!-- &#45;2402 -->\n",
       "<g id=\"node5\" class=\"node\">\n",
       "<title>&#45;2402</title>\n",
       "<polygon fill=\"none\" stroke=\"#1f62a2\" points=\"378.5,-1116 230.5,-1116 230.5,-1080 378.5,-1080 378.5,-1116\"/>\n",
       "<text text-anchor=\"middle\" x=\"304.5\" y=\"-1094.3\" font-family=\"Times,serif\" font-size=\"14.00\" fill=\"#000000\">Si&#45;elastic deformation 3</text>\n",
       "</g>\n",
       "<!-- &#45;2398&#45;&gt;&#45;2402 -->\n",
       "<g id=\"edge21\" class=\"edge\">\n",
       "<title>&#45;2398&#45;&gt;&#45;2402</title>\n",
       "<path fill=\"none\" stroke=\"#000000\" d=\"M98.7431,-657.012C112.3394,-730.7182 166.8374,-1008.3971 227,-1071 227.9163,-1071.9535 228.868,-1072.8733 229.8514,-1073.7607\"/>\n",
       "<polygon fill=\"#000000\" stroke=\"#000000\" points=\"227.8771,-1076.6568 237.9479,-1079.9476 232.1273,-1071.0948 227.8771,-1076.6568\"/>\n",
       "</g>\n",
       "<!-- &#45;2403 -->\n",
       "<g id=\"node6\" class=\"node\">\n",
       "<title>&#45;2403</title>\n",
       "<polygon fill=\"none\" stroke=\"#1f62a2\" points=\"378.5,-1062 230.5,-1062 230.5,-1026 378.5,-1026 378.5,-1062\"/>\n",
       "<text text-anchor=\"middle\" x=\"304.5\" y=\"-1040.3\" font-family=\"Times,serif\" font-size=\"14.00\" fill=\"#000000\">Si&#45;elastic deformation 4</text>\n",
       "</g>\n",
       "<!-- &#45;2398&#45;&gt;&#45;2403 -->\n",
       "<g id=\"edge20\" class=\"edge\">\n",
       "<title>&#45;2398&#45;&gt;&#45;2403</title>\n",
       "<path fill=\"none\" stroke=\"#000000\" d=\"M96.4401,-657.2698C100.5181,-717.4448 121.6362,-911.5889 227,-1017 227.9349,-1017.9353 228.9038,-1018.8382 229.9031,-1019.71\"/>\n",
       "<polygon fill=\"#000000\" stroke=\"#000000\" points=\"227.9842,-1022.6446 238.0981,-1025.8004 232.1597,-1017.0262 227.9842,-1022.6446\"/>\n",
       "</g>\n",
       "<!-- &#45;2404 -->\n",
       "<g id=\"node7\" class=\"node\">\n",
       "<title>&#45;2404</title>\n",
       "<polygon fill=\"none\" stroke=\"#1f62a2\" points=\"378.5,-1008 230.5,-1008 230.5,-972 378.5,-972 378.5,-1008\"/>\n",
       "<text text-anchor=\"middle\" x=\"304.5\" y=\"-986.3\" font-family=\"Times,serif\" font-size=\"14.00\" fill=\"#000000\">Si&#45;elastic deformation 5</text>\n",
       "</g>\n",
       "<!-- &#45;2398&#45;&gt;&#45;2404 -->\n",
       "<g id=\"edge19\" class=\"edge\">\n",
       "<title>&#45;2398&#45;&gt;&#45;2404</title>\n",
       "<path fill=\"none\" stroke=\"#000000\" d=\"M97.6567,-657.3322C105.034,-711.8637 134.1767,-874.7334 227,-963 228.097,-964.0432 229.2365,-965.0463 230.413,-966.0108\"/>\n",
       "<polygon fill=\"#000000\" stroke=\"#000000\" points=\"228.4704,-968.9237 238.6579,-971.8334 232.5085,-963.2058 228.4704,-968.9237\"/>\n",
       "</g>\n",
       "<!-- &#45;2405 -->\n",
       "<g id=\"node8\" class=\"node\">\n",
       "<title>&#45;2405</title>\n",
       "<polygon fill=\"none\" stroke=\"#1f62a2\" points=\"378.5,-954 230.5,-954 230.5,-918 378.5,-918 378.5,-954\"/>\n",
       "<text text-anchor=\"middle\" x=\"304.5\" y=\"-932.3\" font-family=\"Times,serif\" font-size=\"14.00\" fill=\"#000000\">Si&#45;elastic deformation 6</text>\n",
       "</g>\n",
       "<!-- &#45;2398&#45;&gt;&#45;2405 -->\n",
       "<g id=\"edge18\" class=\"edge\">\n",
       "<title>&#45;2398&#45;&gt;&#45;2405</title>\n",
       "<path fill=\"none\" stroke=\"#000000\" d=\"M99.241,-657.01C110.1357,-705.026 146.3169,-837.316 227,-909 228.3181,-910.1711 229.6899,-911.292 231.107,-912.365\"/>\n",
       "<polygon fill=\"#000000\" stroke=\"#000000\" points=\"229.3858,-915.4222 239.6623,-917.9997 233.2361,-909.5762 229.3858,-915.4222\"/>\n",
       "</g>\n",
       "<!-- &#45;2406 -->\n",
       "<g id=\"node9\" class=\"node\">\n",
       "<title>&#45;2406</title>\n",
       "<polygon fill=\"none\" stroke=\"#1f62a2\" points=\"378.5,-900 230.5,-900 230.5,-864 378.5,-864 378.5,-900\"/>\n",
       "<text text-anchor=\"middle\" x=\"304.5\" y=\"-878.3\" font-family=\"Times,serif\" font-size=\"14.00\" fill=\"#000000\">Si&#45;elastic deformation 7</text>\n",
       "</g>\n",
       "<!-- &#45;2398&#45;&gt;&#45;2406 -->\n",
       "<g id=\"edge17\" class=\"edge\">\n",
       "<title>&#45;2398&#45;&gt;&#45;2406</title>\n",
       "<path fill=\"none\" stroke=\"#000000\" d=\"M101.7077,-657.2542C116.6493,-698.5171 158.5312,-799.6788 227,-855 228.5377,-856.2424 230.1364,-857.4295 231.7849,-858.5636\"/>\n",
       "<polygon fill=\"#000000\" stroke=\"#000000\" points=\"230.0298,-861.5926 240.3915,-863.803 233.6697,-855.6134 230.0298,-861.5926\"/>\n",
       "</g>\n",
       "<!-- &#45;2407 -->\n",
       "<g id=\"node10\" class=\"node\">\n",
       "<title>&#45;2407</title>\n",
       "<polygon fill=\"none\" stroke=\"#1f62a2\" points=\"378.5,-846 230.5,-846 230.5,-810 378.5,-810 378.5,-846\"/>\n",
       "<text text-anchor=\"middle\" x=\"304.5\" y=\"-824.3\" font-family=\"Times,serif\" font-size=\"14.00\" fill=\"#000000\">Si&#45;elastic deformation 8</text>\n",
       "</g>\n",
       "<!-- &#45;2398&#45;&gt;&#45;2407 -->\n",
       "<g id=\"edge16\" class=\"edge\">\n",
       "<title>&#45;2398&#45;&gt;&#45;2407</title>\n",
       "<path fill=\"none\" stroke=\"#000000\" d=\"M105.5241,-657.0787C124.8063,-690.264 170.2242,-761.1414 227,-801 229.0917,-802.4685 231.2708,-803.8637 233.5148,-805.1888\"/>\n",
       "<polygon fill=\"#000000\" stroke=\"#000000\" points=\"231.9742,-808.3339 242.4438,-809.9583 235.2723,-802.1595 231.9742,-808.3339\"/>\n",
       "</g>\n",
       "<!-- &#45;2408 -->\n",
       "<g id=\"node11\" class=\"node\">\n",
       "<title>&#45;2408</title>\n",
       "<polygon fill=\"none\" stroke=\"#1f62a2\" points=\"378.5,-792 230.5,-792 230.5,-756 378.5,-756 378.5,-792\"/>\n",
       "<text text-anchor=\"middle\" x=\"304.5\" y=\"-770.3\" font-family=\"Times,serif\" font-size=\"14.00\" fill=\"#000000\">Si&#45;elastic deformation 9</text>\n",
       "</g>\n",
       "<!-- &#45;2398&#45;&gt;&#45;2408 -->\n",
       "<g id=\"edge15\" class=\"edge\">\n",
       "<title>&#45;2398&#45;&gt;&#45;2408</title>\n",
       "<path fill=\"none\" stroke=\"#000000\" d=\"M113.5347,-657.4002C137.5329,-680.99 182.1729,-721.8423 227,-747 230.0111,-748.6899 233.1467,-750.3018 236.3561,-751.8353\"/>\n",
       "<polygon fill=\"#000000\" stroke=\"#000000\" points=\"234.997,-755.0615 245.5546,-755.9494 237.855,-748.6715 234.997,-755.0615\"/>\n",
       "</g>\n",
       "<!-- &#45;2409 -->\n",
       "<g id=\"node12\" class=\"node\">\n",
       "<title>&#45;2409</title>\n",
       "<polygon fill=\"none\" stroke=\"#1f62a2\" points=\"382,-738 227,-738 227,-702 382,-702 382,-738\"/>\n",
       "<text text-anchor=\"middle\" x=\"304.5\" y=\"-716.3\" font-family=\"Times,serif\" font-size=\"14.00\" fill=\"#000000\">Si&#45;elastic deformation 10</text>\n",
       "</g>\n",
       "<!-- &#45;2398&#45;&gt;&#45;2409 -->\n",
       "<g id=\"edge14\" class=\"edge\">\n",
       "<title>&#45;2398&#45;&gt;&#45;2409</title>\n",
       "<path fill=\"none\" stroke=\"#000000\" d=\"M137.9072,-657.1001C163.559,-667.8769 197.0006,-681.6244 227,-693 231.7898,-694.8163 236.7628,-696.6549 241.7732,-698.4739\"/>\n",
       "<polygon fill=\"#000000\" stroke=\"#000000\" points=\"240.8214,-701.8509 251.4159,-701.9364 243.1871,-695.2627 240.8214,-701.8509\"/>\n",
       "</g>\n",
       "<!-- &#45;2410 -->\n",
       "<g id=\"node13\" class=\"node\">\n",
       "<title>&#45;2410</title>\n",
       "<polygon fill=\"none\" stroke=\"#1f62a2\" points=\"382,-684 227,-684 227,-648 382,-648 382,-684\"/>\n",
       "<text text-anchor=\"middle\" x=\"304.5\" y=\"-662.3\" font-family=\"Times,serif\" font-size=\"14.00\" fill=\"#000000\">Si&#45;elastic deformation 11</text>\n",
       "</g>\n",
       "<!-- &#45;2398&#45;&gt;&#45;2410 -->\n",
       "<g id=\"edge13\" class=\"edge\">\n",
       "<title>&#45;2398&#45;&gt;&#45;2410</title>\n",
       "<path fill=\"none\" stroke=\"#000000\" d=\"M191.1311,-651.3543C199.6132,-652.45 208.1737,-653.5559 216.5871,-654.6428\"/>\n",
       "<polygon fill=\"#000000\" stroke=\"#000000\" points=\"216.3954,-658.1471 226.7614,-655.9572 217.2923,-651.2048 216.3954,-658.1471\"/>\n",
       "</g>\n",
       "<!-- &#45;2411 -->\n",
       "<g id=\"node14\" class=\"node\">\n",
       "<title>&#45;2411</title>\n",
       "<polygon fill=\"none\" stroke=\"#1f62a2\" points=\"382,-630 227,-630 227,-594 382,-594 382,-630\"/>\n",
       "<text text-anchor=\"middle\" x=\"304.5\" y=\"-608.3\" font-family=\"Times,serif\" font-size=\"14.00\" fill=\"#000000\">Si&#45;elastic deformation 12</text>\n",
       "</g>\n",
       "<!-- &#45;2398&#45;&gt;&#45;2411 -->\n",
       "<g id=\"edge12\" class=\"edge\">\n",
       "<title>&#45;2398&#45;&gt;&#45;2411</title>\n",
       "<path fill=\"none\" stroke=\"#000000\" d=\"M191.1311,-626.6457C199.6132,-625.55 208.1737,-624.4441 216.5871,-623.3572\"/>\n",
       "<polygon fill=\"#000000\" stroke=\"#000000\" points=\"217.2923,-626.7952 226.7614,-622.0428 216.3954,-619.8529 217.2923,-626.7952\"/>\n",
       "</g>\n",
       "<!-- &#45;2412 -->\n",
       "<g id=\"node15\" class=\"node\">\n",
       "<title>&#45;2412</title>\n",
       "<polygon fill=\"none\" stroke=\"#1f62a2\" points=\"382,-576 227,-576 227,-540 382,-540 382,-576\"/>\n",
       "<text text-anchor=\"middle\" x=\"304.5\" y=\"-554.3\" font-family=\"Times,serif\" font-size=\"14.00\" fill=\"#000000\">Si&#45;elastic deformation 13</text>\n",
       "</g>\n",
       "<!-- &#45;2398&#45;&gt;&#45;2412 -->\n",
       "<g id=\"edge11\" class=\"edge\">\n",
       "<title>&#45;2398&#45;&gt;&#45;2412</title>\n",
       "<path fill=\"none\" stroke=\"#000000\" d=\"M137.9072,-620.8999C163.559,-610.1231 197.0006,-596.3756 227,-585 231.7898,-583.1837 236.7628,-581.3451 241.7732,-579.5261\"/>\n",
       "<polygon fill=\"#000000\" stroke=\"#000000\" points=\"243.1871,-582.7373 251.4159,-576.0636 240.8214,-576.1491 243.1871,-582.7373\"/>\n",
       "</g>\n",
       "<!-- &#45;2413 -->\n",
       "<g id=\"node16\" class=\"node\">\n",
       "<title>&#45;2413</title>\n",
       "<polygon fill=\"none\" stroke=\"#1f62a2\" points=\"382,-522 227,-522 227,-486 382,-486 382,-522\"/>\n",
       "<text text-anchor=\"middle\" x=\"304.5\" y=\"-500.3\" font-family=\"Times,serif\" font-size=\"14.00\" fill=\"#000000\">Si&#45;elastic deformation 14</text>\n",
       "</g>\n",
       "<!-- &#45;2398&#45;&gt;&#45;2413 -->\n",
       "<g id=\"edge10\" class=\"edge\">\n",
       "<title>&#45;2398&#45;&gt;&#45;2413</title>\n",
       "<path fill=\"none\" stroke=\"#000000\" d=\"M113.5347,-620.5998C137.5329,-597.01 182.1729,-556.1577 227,-531 230.0111,-529.3101 233.1467,-527.6982 236.3561,-526.1647\"/>\n",
       "<polygon fill=\"#000000\" stroke=\"#000000\" points=\"237.855,-529.3285 245.5546,-522.0506 234.997,-522.9385 237.855,-529.3285\"/>\n",
       "</g>\n",
       "<!-- &#45;2414 -->\n",
       "<g id=\"node17\" class=\"node\">\n",
       "<title>&#45;2414</title>\n",
       "<polygon fill=\"none\" stroke=\"#1f62a2\" points=\"382,-468 227,-468 227,-432 382,-432 382,-468\"/>\n",
       "<text text-anchor=\"middle\" x=\"304.5\" y=\"-446.3\" font-family=\"Times,serif\" font-size=\"14.00\" fill=\"#000000\">Si&#45;elastic deformation 15</text>\n",
       "</g>\n",
       "<!-- &#45;2398&#45;&gt;&#45;2414 -->\n",
       "<g id=\"edge9\" class=\"edge\">\n",
       "<title>&#45;2398&#45;&gt;&#45;2414</title>\n",
       "<path fill=\"none\" stroke=\"#000000\" d=\"M105.5241,-620.9213C124.8063,-587.736 170.2242,-516.8586 227,-477 229.0917,-475.5315 231.2708,-474.1363 233.5148,-472.8112\"/>\n",
       "<polygon fill=\"#000000\" stroke=\"#000000\" points=\"235.2723,-475.8405 242.4438,-468.0417 231.9742,-469.6661 235.2723,-475.8405\"/>\n",
       "</g>\n",
       "<!-- &#45;2415 -->\n",
       "<g id=\"node18\" class=\"node\">\n",
       "<title>&#45;2415</title>\n",
       "<polygon fill=\"none\" stroke=\"#1f62a2\" points=\"382,-414 227,-414 227,-378 382,-378 382,-414\"/>\n",
       "<text text-anchor=\"middle\" x=\"304.5\" y=\"-392.3\" font-family=\"Times,serif\" font-size=\"14.00\" fill=\"#000000\">Si&#45;elastic deformation 16</text>\n",
       "</g>\n",
       "<!-- &#45;2398&#45;&gt;&#45;2415 -->\n",
       "<g id=\"edge8\" class=\"edge\">\n",
       "<title>&#45;2398&#45;&gt;&#45;2415</title>\n",
       "<path fill=\"none\" stroke=\"#000000\" d=\"M101.7077,-620.7458C116.6493,-579.4829 158.5312,-478.3212 227,-423 228.5377,-421.7576 230.1364,-420.5705 231.7849,-419.4364\"/>\n",
       "<polygon fill=\"#000000\" stroke=\"#000000\" points=\"233.6697,-422.3866 240.3915,-414.197 230.0298,-416.4074 233.6697,-422.3866\"/>\n",
       "</g>\n",
       "<!-- &#45;2416 -->\n",
       "<g id=\"node19\" class=\"node\">\n",
       "<title>&#45;2416</title>\n",
       "<polygon fill=\"none\" stroke=\"#1f62a2\" points=\"382,-360 227,-360 227,-324 382,-324 382,-360\"/>\n",
       "<text text-anchor=\"middle\" x=\"304.5\" y=\"-338.3\" font-family=\"Times,serif\" font-size=\"14.00\" fill=\"#000000\">Si&#45;elastic deformation 17</text>\n",
       "</g>\n",
       "<!-- &#45;2398&#45;&gt;&#45;2416 -->\n",
       "<g id=\"edge7\" class=\"edge\">\n",
       "<title>&#45;2398&#45;&gt;&#45;2416</title>\n",
       "<path fill=\"none\" stroke=\"#000000\" d=\"M99.241,-620.99C110.1357,-572.974 146.3169,-440.684 227,-369 228.3181,-367.8289 229.6899,-366.708 231.107,-365.635\"/>\n",
       "<polygon fill=\"#000000\" stroke=\"#000000\" points=\"233.2361,-368.4238 239.6623,-360.0003 229.3858,-362.5778 233.2361,-368.4238\"/>\n",
       "</g>\n",
       "<!-- &#45;2417 -->\n",
       "<g id=\"node20\" class=\"node\">\n",
       "<title>&#45;2417</title>\n",
       "<polygon fill=\"none\" stroke=\"#1f62a2\" points=\"382,-306 227,-306 227,-270 382,-270 382,-306\"/>\n",
       "<text text-anchor=\"middle\" x=\"304.5\" y=\"-284.3\" font-family=\"Times,serif\" font-size=\"14.00\" fill=\"#000000\">Si&#45;elastic deformation 18</text>\n",
       "</g>\n",
       "<!-- &#45;2398&#45;&gt;&#45;2417 -->\n",
       "<g id=\"edge6\" class=\"edge\">\n",
       "<title>&#45;2398&#45;&gt;&#45;2417</title>\n",
       "<path fill=\"none\" stroke=\"#000000\" d=\"M97.6567,-620.6678C105.034,-566.1363 134.1767,-403.2666 227,-315 228.097,-313.9568 229.2365,-312.9537 230.413,-311.9892\"/>\n",
       "<polygon fill=\"#000000\" stroke=\"#000000\" points=\"232.5085,-314.7942 238.6579,-306.1666 228.4704,-309.0763 232.5085,-314.7942\"/>\n",
       "</g>\n",
       "<!-- &#45;2418 -->\n",
       "<g id=\"node21\" class=\"node\">\n",
       "<title>&#45;2418</title>\n",
       "<polygon fill=\"none\" stroke=\"#1f62a2\" points=\"382,-252 227,-252 227,-216 382,-216 382,-252\"/>\n",
       "<text text-anchor=\"middle\" x=\"304.5\" y=\"-230.3\" font-family=\"Times,serif\" font-size=\"14.00\" fill=\"#000000\">Si&#45;elastic deformation 19</text>\n",
       "</g>\n",
       "<!-- &#45;2398&#45;&gt;&#45;2418 -->\n",
       "<g id=\"edge5\" class=\"edge\">\n",
       "<title>&#45;2398&#45;&gt;&#45;2418</title>\n",
       "<path fill=\"none\" stroke=\"#000000\" d=\"M96.4401,-620.7302C100.5181,-560.5552 121.6362,-366.4111 227,-261 227.9349,-260.0647 228.9038,-259.1618 229.9031,-258.29\"/>\n",
       "<polygon fill=\"#000000\" stroke=\"#000000\" points=\"232.1597,-260.9738 238.0981,-252.1996 227.9842,-255.3554 232.1597,-260.9738\"/>\n",
       "</g>\n",
       "<!-- &#45;2419 -->\n",
       "<g id=\"node22\" class=\"node\">\n",
       "<title>&#45;2419</title>\n",
       "<polygon fill=\"none\" stroke=\"#1f62a2\" points=\"382,-198 227,-198 227,-162 382,-162 382,-198\"/>\n",
       "<text text-anchor=\"middle\" x=\"304.5\" y=\"-176.3\" font-family=\"Times,serif\" font-size=\"14.00\" fill=\"#000000\">Si&#45;elastic deformation 20</text>\n",
       "</g>\n",
       "<!-- &#45;2398&#45;&gt;&#45;2419 -->\n",
       "<g id=\"edge4\" class=\"edge\">\n",
       "<title>&#45;2398&#45;&gt;&#45;2419</title>\n",
       "<path fill=\"none\" stroke=\"#000000\" d=\"M98.7431,-620.988C112.3394,-547.2818 166.8374,-269.6029 227,-207 227.9163,-206.0465 228.868,-205.1267 229.8514,-204.2393\"/>\n",
       "<polygon fill=\"#000000\" stroke=\"#000000\" points=\"232.1273,-206.9052 237.9479,-198.0524 227.8771,-201.3432 232.1273,-206.9052\"/>\n",
       "</g>\n",
       "<!-- &#45;2420 -->\n",
       "<g id=\"node23\" class=\"node\">\n",
       "<title>&#45;2420</title>\n",
       "<polygon fill=\"none\" stroke=\"#1f62a2\" points=\"382,-144 227,-144 227,-108 382,-108 382,-144\"/>\n",
       "<text text-anchor=\"middle\" x=\"304.5\" y=\"-122.3\" font-family=\"Times,serif\" font-size=\"14.00\" fill=\"#000000\">Si&#45;elastic deformation 21</text>\n",
       "</g>\n",
       "<!-- &#45;2398&#45;&gt;&#45;2420 -->\n",
       "<g id=\"edge3\" class=\"edge\">\n",
       "<title>&#45;2398&#45;&gt;&#45;2420</title>\n",
       "<path fill=\"none\" stroke=\"#000000\" d=\"M98.1011,-620.9461C109.8654,-541.5831 160.4247,-224.4775 227,-153 227.7769,-152.1659 228.5809,-151.3576 229.4096,-150.5742\"/>\n",
       "<polygon fill=\"#000000\" stroke=\"#000000\" points=\"231.8121,-153.1358 237.4677,-144.1767 227.4595,-147.6535 231.8121,-153.1358\"/>\n",
       "</g>\n",
       "<!-- &#45;2421 -->\n",
       "<g id=\"node24\" class=\"node\">\n",
       "<title>&#45;2421</title>\n",
       "<polygon fill=\"none\" stroke=\"#1f62a2\" points=\"382,-90 227,-90 227,-54 382,-54 382,-90\"/>\n",
       "<text text-anchor=\"middle\" x=\"304.5\" y=\"-68.3\" font-family=\"Times,serif\" font-size=\"14.00\" fill=\"#000000\">Si&#45;elastic deformation 22</text>\n",
       "</g>\n",
       "<!-- &#45;2398&#45;&gt;&#45;2421 -->\n",
       "<g id=\"edge2\" class=\"edge\">\n",
       "<title>&#45;2398&#45;&gt;&#45;2421</title>\n",
       "<path fill=\"none\" stroke=\"#000000\" d=\"M97.5741,-620.9805C107.6439,-536.3925 153.9479,-179.4543 227,-99 227.7662,-98.1561 228.5603,-97.3386 229.3796,-96.5467\"/>\n",
       "<polygon fill=\"#000000\" stroke=\"#000000\" points=\"231.7939,-99.0956 237.3698,-90.0867 227.3929,-93.6521 231.7939,-99.0956\"/>\n",
       "</g>\n",
       "<!-- &#45;2422 -->\n",
       "<g id=\"node25\" class=\"node\">\n",
       "<title>&#45;2422</title>\n",
       "<polygon fill=\"none\" stroke=\"#1f62a2\" points=\"382,-36 227,-36 227,0 382,0 382,-36\"/>\n",
       "<text text-anchor=\"middle\" x=\"304.5\" y=\"-14.3\" font-family=\"Times,serif\" font-size=\"14.00\" fill=\"#000000\">Si&#45;elastic deformation 23</text>\n",
       "</g>\n",
       "<!-- &#45;2398&#45;&gt;&#45;2422 -->\n",
       "<g id=\"edge1\" class=\"edge\">\n",
       "<title>&#45;2398&#45;&gt;&#45;2422</title>\n",
       "<path fill=\"none\" stroke=\"#000000\" d=\"M97.1701,-620.7161C105.7439,-530.5925 147.5247,-134.397 227,-45 227.7573,-44.1481 228.543,-43.3231 229.3545,-42.5242\"/>\n",
       "<polygon fill=\"#000000\" stroke=\"#000000\" points=\"231.7783,-45.0628 237.288,-36.0132 227.3375,-39.6517 231.7783,-45.0628\"/>\n",
       "</g>\n",
       "<!-- &#45;2423 -->\n",
       "<g id=\"node26\" class=\"node\">\n",
       "<title>&#45;2423</title>\n",
       "<polygon fill=\"none\" stroke=\"#1f62a2\" points=\"549,-657 418,-657 418,-621 549,-621 549,-657\"/>\n",
       "<text text-anchor=\"middle\" x=\"483.5\" y=\"-635.3\" font-family=\"Times,serif\" font-size=\"14.00\" fill=\"#000000\">Analyze Elastic Data</text>\n",
       "</g>\n",
       "<!-- &#45;2399&#45;&gt;&#45;2423 -->\n",
       "<g id=\"edge25\" class=\"edge\">\n",
       "<title>&#45;2399&#45;&gt;&#45;2423</title>\n",
       "<path fill=\"none\" stroke=\"#000000\" d=\"M372.2531,-1241.9048C375.8476,-1239.3222 379.1465,-1236.3714 382,-1233 455.9291,-1145.6546 477.6263,-773.8407 482.3745,-667.5096\"/>\n",
       "<polygon fill=\"#000000\" stroke=\"#000000\" points=\"485.8831,-667.3838 482.8165,-657.2425 478.8896,-667.0827 485.8831,-667.3838\"/>\n",
       "</g>\n",
       "<!-- &#45;2400&#45;&gt;&#45;2423 -->\n",
       "<g id=\"edge26\" class=\"edge\">\n",
       "<title>&#45;2400&#45;&gt;&#45;2423</title>\n",
       "<path fill=\"none\" stroke=\"#000000\" d=\"M372.1886,-1187.8498C375.7987,-1185.2805 379.1187,-1182.3476 382,-1179 449.4775,-1100.6022 475.4706,-767.4965 481.8403,-667.4971\"/>\n",
       "<polygon fill=\"#000000\" stroke=\"#000000\" points=\"485.3494,-667.4568 482.4751,-657.2594 478.3628,-667.0236 485.3494,-667.4568\"/>\n",
       "</g>\n",
       "<!-- &#45;2401&#45;&gt;&#45;2423 -->\n",
       "<g id=\"edge27\" class=\"edge\">\n",
       "<title>&#45;2401&#45;&gt;&#45;2423</title>\n",
       "<path fill=\"none\" stroke=\"#000000\" d=\"M372.111,-1133.7823C375.7398,-1131.2293 379.0852,-1128.3185 382,-1125 443.1456,-1055.3858 473.1752,-759.9399 481.2275,-667.0634\"/>\n",
       "<polygon fill=\"#000000\" stroke=\"#000000\" points=\"484.7224,-667.271 482.0812,-657.0107 477.7475,-666.6786 484.7224,-667.271\"/>\n",
       "</g>\n",
       "<!-- &#45;2402&#45;&gt;&#45;2423 -->\n",
       "<g id=\"edge28\" class=\"edge\">\n",
       "<title>&#45;2402&#45;&gt;&#45;2423</title>\n",
       "<path fill=\"none\" stroke=\"#000000\" d=\"M371.6616,-1079.9417C375.4494,-1077.3507 378.9488,-1074.3879 382,-1071 436.6972,-1010.2679 470.4502,-753.4546 480.4036,-667.3066\"/>\n",
       "<polygon fill=\"#000000\" stroke=\"#000000\" points=\"483.8985,-667.5495 481.5499,-657.2183 476.9432,-666.7592 483.8985,-667.5495\"/>\n",
       "</g>\n",
       "<!-- &#45;2403&#45;&gt;&#45;2423 -->\n",
       "<g id=\"edge29\" class=\"edge\">\n",
       "<title>&#45;2403&#45;&gt;&#45;2423</title>\n",
       "<path fill=\"none\" stroke=\"#000000\" d=\"M371.5397,-1025.8301C375.3565,-1023.2657 378.8957,-1020.3393 382,-1017 430.2736,-965.0721 467.2921,-746.6204 479.327,-667.6433\"/>\n",
       "<polygon fill=\"#000000\" stroke=\"#000000\" points=\"482.8327,-667.8659 480.8579,-657.4568 475.9105,-666.8255 482.8327,-667.8659\"/>\n",
       "</g>\n",
       "<!-- &#45;2404&#45;&gt;&#45;2423 -->\n",
       "<g id=\"edge30\" class=\"edge\">\n",
       "<title>&#45;2404&#45;&gt;&#45;2423</title>\n",
       "<path fill=\"none\" stroke=\"#000000\" d=\"M371.0209,-971.9175C375.0123,-969.3318 378.7283,-966.3769 382,-963 424.0368,-919.6112 463.8291,-737.985 478.021,-667.31\"/>\n",
       "<polygon fill=\"#000000\" stroke=\"#000000\" points=\"481.4866,-667.8267 480.001,-657.3366 474.6206,-666.4635 481.4866,-667.8267\"/>\n",
       "</g>\n",
       "<!-- &#45;2405&#45;&gt;&#45;2423 -->\n",
       "<g id=\"edge31\" class=\"edge\">\n",
       "<title>&#45;2405&#45;&gt;&#45;2423</title>\n",
       "<path fill=\"none\" stroke=\"#000000\" d=\"M370.4405,-917.9356C374.6201,-915.3445 378.5331,-912.3835 382,-909 451.3816,-841.2873 473.8724,-721.5799 480.7148,-667.2406\"/>\n",
       "<polygon fill=\"#000000\" stroke=\"#000000\" points=\"484.1943,-667.6189 481.8838,-657.2791 477.242,-666.803 484.1943,-667.6189\"/>\n",
       "</g>\n",
       "<!-- &#45;2406&#45;&gt;&#45;2423 -->\n",
       "<g id=\"edge32\" class=\"edge\">\n",
       "<title>&#45;2406&#45;&gt;&#45;2423</title>\n",
       "<path fill=\"none\" stroke=\"#000000\" d=\"M369.7672,-863.8392C374.1548,-861.2681 378.2952,-858.3381 382,-855 439.258,-803.4099 466.8955,-712.7529 477.7277,-667.0386\"/>\n",
       "<polygon fill=\"#000000\" stroke=\"#000000\" points=\"481.1573,-667.7405 479.9591,-657.2137 474.3312,-666.1901 481.1573,-667.7405\"/>\n",
       "</g>\n",
       "<!-- &#45;2407&#45;&gt;&#45;2423 -->\n",
       "<g id=\"edge33\" class=\"edge\">\n",
       "<title>&#45;2407&#45;&gt;&#45;2423</title>\n",
       "<path fill=\"none\" stroke=\"#000000\" d=\"M368.175,-809.9516C373.0828,-807.3439 377.7669,-804.3756 382,-801 427.4223,-764.7796 458.1828,-702.3516 473.0956,-666.4896\"/>\n",
       "<polygon fill=\"#000000\" stroke=\"#000000\" points=\"476.379,-667.706 476.8806,-657.123 469.8889,-665.0833 476.379,-667.706\"/>\n",
       "</g>\n",
       "<!-- &#45;2408&#45;&gt;&#45;2423 -->\n",
       "<g id=\"edge34\" class=\"edge\">\n",
       "<title>&#45;2408&#45;&gt;&#45;2423</title>\n",
       "<path fill=\"none\" stroke=\"#000000\" d=\"M365.5027,-755.958C371.2624,-753.3133 376.8613,-750.3361 382,-747 415.7845,-725.0664 446.2045,-689.5733 464.7417,-665.3054\"/>\n",
       "<polygon fill=\"#000000\" stroke=\"#000000\" points=\"467.5962,-667.3326 470.7891,-657.2303 461.9932,-663.1366 467.5962,-667.3326\"/>\n",
       "</g>\n",
       "<!-- &#45;2409&#45;&gt;&#45;2423 -->\n",
       "<g id=\"edge35\" class=\"edge\">\n",
       "<title>&#45;2409&#45;&gt;&#45;2423</title>\n",
       "<path fill=\"none\" stroke=\"#000000\" d=\"M359.9416,-701.8532C367.4261,-699.0645 374.9501,-696.0816 382,-693 402.809,-683.9041 425.1705,-672.2268 443.594,-662.0594\"/>\n",
       "<polygon fill=\"#000000\" stroke=\"#000000\" points=\"445.5389,-664.9823 452.5682,-657.0551 442.1297,-658.8686 445.5389,-664.9823\"/>\n",
       "</g>\n",
       "<!-- &#45;2410&#45;&gt;&#45;2423 -->\n",
       "<g id=\"edge36\" class=\"edge\">\n",
       "<title>&#45;2410&#45;&gt;&#45;2423</title>\n",
       "<path fill=\"none\" stroke=\"#000000\" d=\"M382.2311,-654.2752C390.7756,-652.9864 399.4658,-651.6756 407.9828,-650.3909\"/>\n",
       "<polygon fill=\"#000000\" stroke=\"#000000\" points=\"408.5162,-653.8501 417.8823,-648.8976 407.4721,-646.9284 408.5162,-653.8501\"/>\n",
       "</g>\n",
       "<!-- &#45;2411&#45;&gt;&#45;2423 -->\n",
       "<g id=\"edge37\" class=\"edge\">\n",
       "<title>&#45;2411&#45;&gt;&#45;2423</title>\n",
       "<path fill=\"none\" stroke=\"#000000\" d=\"M382.2311,-623.7248C390.7756,-625.0136 399.4658,-626.3244 407.9828,-627.6091\"/>\n",
       "<polygon fill=\"#000000\" stroke=\"#000000\" points=\"407.4721,-631.0716 417.8823,-629.1024 408.5162,-624.1499 407.4721,-631.0716\"/>\n",
       "</g>\n",
       "<!-- &#45;2412&#45;&gt;&#45;2423 -->\n",
       "<g id=\"edge38\" class=\"edge\">\n",
       "<title>&#45;2412&#45;&gt;&#45;2423</title>\n",
       "<path fill=\"none\" stroke=\"#000000\" d=\"M359.9416,-576.1468C367.4261,-578.9355 374.9501,-581.9184 382,-585 402.809,-594.0959 425.1705,-605.7732 443.594,-615.9406\"/>\n",
       "<polygon fill=\"#000000\" stroke=\"#000000\" points=\"442.1297,-619.1314 452.5682,-620.9449 445.5389,-613.0177 442.1297,-619.1314\"/>\n",
       "</g>\n",
       "<!-- &#45;2413&#45;&gt;&#45;2423 -->\n",
       "<g id=\"edge39\" class=\"edge\">\n",
       "<title>&#45;2413&#45;&gt;&#45;2423</title>\n",
       "<path fill=\"none\" stroke=\"#000000\" d=\"M365.5027,-522.042C371.2624,-524.6867 376.8613,-527.6639 382,-531 415.7845,-552.9336 446.2045,-588.4267 464.7417,-612.6946\"/>\n",
       "<polygon fill=\"#000000\" stroke=\"#000000\" points=\"461.9932,-614.8634 470.7891,-620.7697 467.5962,-610.6674 461.9932,-614.8634\"/>\n",
       "</g>\n",
       "<!-- &#45;2414&#45;&gt;&#45;2423 -->\n",
       "<g id=\"edge40\" class=\"edge\">\n",
       "<title>&#45;2414&#45;&gt;&#45;2423</title>\n",
       "<path fill=\"none\" stroke=\"#000000\" d=\"M368.175,-468.0484C373.0828,-470.6561 377.7669,-473.6244 382,-477 427.4223,-513.2204 458.1828,-575.6484 473.0956,-611.5104\"/>\n",
       "<polygon fill=\"#000000\" stroke=\"#000000\" points=\"469.8889,-612.9167 476.8806,-620.877 476.379,-610.294 469.8889,-612.9167\"/>\n",
       "</g>\n",
       "<!-- &#45;2415&#45;&gt;&#45;2423 -->\n",
       "<g id=\"edge41\" class=\"edge\">\n",
       "<title>&#45;2415&#45;&gt;&#45;2423</title>\n",
       "<path fill=\"none\" stroke=\"#000000\" d=\"M369.7672,-414.1608C374.1548,-416.7319 378.2952,-419.6619 382,-423 439.258,-474.5901 466.8955,-565.2471 477.7277,-610.9614\"/>\n",
       "<polygon fill=\"#000000\" stroke=\"#000000\" points=\"474.3312,-611.8099 479.9591,-620.7863 481.1573,-610.2595 474.3312,-611.8099\"/>\n",
       "</g>\n",
       "<!-- &#45;2416&#45;&gt;&#45;2423 -->\n",
       "<g id=\"edge42\" class=\"edge\">\n",
       "<title>&#45;2416&#45;&gt;&#45;2423</title>\n",
       "<path fill=\"none\" stroke=\"#000000\" d=\"M370.4405,-360.0644C374.6201,-362.6555 378.5331,-365.6165 382,-369 451.3816,-436.7127 473.8724,-556.4201 480.7148,-610.7594\"/>\n",
       "<polygon fill=\"#000000\" stroke=\"#000000\" points=\"477.242,-611.197 481.8838,-620.7209 484.1943,-610.3811 477.242,-611.197\"/>\n",
       "</g>\n",
       "<!-- &#45;2417&#45;&gt;&#45;2423 -->\n",
       "<g id=\"edge43\" class=\"edge\">\n",
       "<title>&#45;2417&#45;&gt;&#45;2423</title>\n",
       "<path fill=\"none\" stroke=\"#000000\" d=\"M371.0209,-306.0825C375.0123,-308.6682 378.7283,-311.6231 382,-315 424.0368,-358.3888 463.8291,-540.015 478.021,-610.69\"/>\n",
       "<polygon fill=\"#000000\" stroke=\"#000000\" points=\"474.6206,-611.5365 480.001,-620.6634 481.4866,-610.1733 474.6206,-611.5365\"/>\n",
       "</g>\n",
       "<!-- &#45;2418&#45;&gt;&#45;2423 -->\n",
       "<g id=\"edge44\" class=\"edge\">\n",
       "<title>&#45;2418&#45;&gt;&#45;2423</title>\n",
       "<path fill=\"none\" stroke=\"#000000\" d=\"M371.5397,-252.1699C375.3565,-254.7343 378.8957,-257.6607 382,-261 430.2736,-312.9279 467.2921,-531.3796 479.327,-610.3567\"/>\n",
       "<polygon fill=\"#000000\" stroke=\"#000000\" points=\"475.9105,-611.1745 480.8579,-620.5432 482.8327,-610.1341 475.9105,-611.1745\"/>\n",
       "</g>\n",
       "<!-- &#45;2419&#45;&gt;&#45;2423 -->\n",
       "<g id=\"edge45\" class=\"edge\">\n",
       "<title>&#45;2419&#45;&gt;&#45;2423</title>\n",
       "<path fill=\"none\" stroke=\"#000000\" d=\"M371.6616,-198.0583C375.4494,-200.6493 378.9488,-203.6121 382,-207 436.6972,-267.7321 470.4502,-524.5454 480.4036,-610.6934\"/>\n",
       "<polygon fill=\"#000000\" stroke=\"#000000\" points=\"476.9432,-611.2408 481.5499,-620.7817 483.8985,-610.4505 476.9432,-611.2408\"/>\n",
       "</g>\n",
       "<!-- &#45;2420&#45;&gt;&#45;2423 -->\n",
       "<g id=\"edge46\" class=\"edge\">\n",
       "<title>&#45;2420&#45;&gt;&#45;2423</title>\n",
       "<path fill=\"none\" stroke=\"#000000\" d=\"M372.111,-144.2177C375.7398,-146.7707 379.0852,-149.6815 382,-153 443.1456,-222.6142 473.1752,-518.0601 481.2275,-610.9366\"/>\n",
       "<polygon fill=\"#000000\" stroke=\"#000000\" points=\"477.7475,-611.3214 482.0812,-620.9893 484.7224,-610.729 477.7475,-611.3214\"/>\n",
       "</g>\n",
       "<!-- &#45;2421&#45;&gt;&#45;2423 -->\n",
       "<g id=\"edge47\" class=\"edge\">\n",
       "<title>&#45;2421&#45;&gt;&#45;2423</title>\n",
       "<path fill=\"none\" stroke=\"#000000\" d=\"M372.1886,-90.1502C375.7987,-92.7195 379.1187,-95.6524 382,-99 449.4775,-177.3978 475.4706,-510.5035 481.8403,-610.5029\"/>\n",
       "<polygon fill=\"#000000\" stroke=\"#000000\" points=\"478.3628,-610.9764 482.4751,-620.7406 485.3494,-610.5432 478.3628,-610.9764\"/>\n",
       "</g>\n",
       "<!-- &#45;2422&#45;&gt;&#45;2423 -->\n",
       "<g id=\"edge48\" class=\"edge\">\n",
       "<title>&#45;2422&#45;&gt;&#45;2423</title>\n",
       "<path fill=\"none\" stroke=\"#000000\" d=\"M372.2531,-36.0952C375.8476,-38.6778 379.1465,-41.6286 382,-45 455.9291,-132.3454 477.6263,-504.1593 482.3745,-610.4904\"/>\n",
       "<polygon fill=\"#000000\" stroke=\"#000000\" points=\"478.8896,-610.9173 482.8165,-620.7575 485.8831,-610.6162 478.8896,-610.9173\"/>\n",
       "</g>\n",
       "</g>\n",
       "</svg>\n"
      ],
      "text/plain": [
       "<graphviz.dot.Digraph at 0x7f16534fd400>"
      ]
     },
     "execution_count": 37,
     "metadata": {},
     "output_type": "execute_result"
    }
   ],
   "source": [
    "from mp_workshop.atomate import wf_to_graph\n",
    "wf_to_graph(wf)"
   ]
  },
  {
   "cell_type": "markdown",
   "metadata": {},
   "source": [
    "From our exploration of the workflow, we can see that the workflow has a \"root\" firework, which is the structure optimization firework, and a single \"leaf\" firework, which is the analysis task.  In between, we have several fireworks which have \"elastic deformation\" in their titles, each of which represents a calculation which will transform the output of the optimization firework by applying a unique strain.\n",
    "\n",
    "In the analysis step, the stresses from those deformations and the strains are aggregated and used to fit an elastic tensor.  Let's examine the different types of fireworks using the graph tool."
   ]
  },
  {
   "cell_type": "code",
   "execution_count": 38,
   "metadata": {},
   "outputs": [
    {
     "name": "stdout",
     "output_type": "stream",
     "text": [
      "Si-elastic structure optimization\n"
     ]
    },
    {
     "data": {
      "image/svg+xml": [
       "<?xml version=\"1.0\" encoding=\"UTF-8\" standalone=\"no\"?>\n",
       "<!DOCTYPE svg PUBLIC \"-//W3C//DTD SVG 1.1//EN\"\n",
       " \"http://www.w3.org/Graphics/SVG/1.1/DTD/svg11.dtd\">\n",
       "<!-- Generated by graphviz version 2.40.1 (20161225.0304)\n",
       " -->\n",
       "<!-- Title: %3 Pages: 1 -->\n",
       "<svg width=\"674pt\" height=\"44pt\"\n",
       " viewBox=\"0.00 0.00 674.00 44.00\" xmlns=\"http://www.w3.org/2000/svg\" xmlns:xlink=\"http://www.w3.org/1999/xlink\">\n",
       "<g id=\"graph0\" class=\"graph\" transform=\"scale(1 1) rotate(0) translate(4 40)\">\n",
       "<title>%3</title>\n",
       "<polygon fill=\"#ffffff\" stroke=\"transparent\" points=\"-4,4 -4,-40 670,-40 670,4 -4,4\"/>\n",
       "<!-- 0 -->\n",
       "<g id=\"node1\" class=\"node\">\n",
       "<title>0</title>\n",
       "<polygon fill=\"none\" stroke=\"#000000\" points=\"95,-36 0,-36 0,0 95,0 95,-36\"/>\n",
       "<text text-anchor=\"middle\" x=\"47.5\" y=\"-14.3\" font-family=\"Times,serif\" font-size=\"14.00\" fill=\"#000000\">FileWriteTask</text>\n",
       "</g>\n",
       "<!-- 1 -->\n",
       "<g id=\"node2\" class=\"node\">\n",
       "<title>1</title>\n",
       "<polygon fill=\"none\" stroke=\"#000000\" points=\"268,-36 131,-36 131,0 268,0 268,-36\"/>\n",
       "<text text-anchor=\"middle\" x=\"199.5\" y=\"-14.3\" font-family=\"Times,serif\" font-size=\"14.00\" fill=\"#000000\">WriteVaspFromIOSet</text>\n",
       "</g>\n",
       "<!-- 0&#45;&gt;1 -->\n",
       "<g id=\"edge1\" class=\"edge\">\n",
       "<title>0&#45;&gt;1</title>\n",
       "<path fill=\"none\" stroke=\"#000000\" d=\"M95.1767,-18C103.3117,-18 111.952,-18 120.6421,-18\"/>\n",
       "<polygon fill=\"#000000\" stroke=\"#000000\" points=\"120.8392,-21.5001 130.8392,-18 120.8392,-14.5001 120.8392,-21.5001\"/>\n",
       "</g>\n",
       "<!-- 2 -->\n",
       "<g id=\"node3\" class=\"node\">\n",
       "<title>2</title>\n",
       "<polygon fill=\"none\" stroke=\"#000000\" points=\"426,-36 304,-36 304,0 426,0 426,-36\"/>\n",
       "<text text-anchor=\"middle\" x=\"365\" y=\"-14.3\" font-family=\"Times,serif\" font-size=\"14.00\" fill=\"#000000\">RunVaspCustodian</text>\n",
       "</g>\n",
       "<!-- 1&#45;&gt;2 -->\n",
       "<g id=\"edge2\" class=\"edge\">\n",
       "<title>1&#45;&gt;2</title>\n",
       "<path fill=\"none\" stroke=\"#000000\" d=\"M268.2491,-18C276.6465,-18 285.2421,-18 293.6762,-18\"/>\n",
       "<polygon fill=\"#000000\" stroke=\"#000000\" points=\"293.8598,-21.5001 303.8597,-18 293.8597,-14.5001 293.8598,-21.5001\"/>\n",
       "</g>\n",
       "<!-- 3 -->\n",
       "<g id=\"node4\" class=\"node\">\n",
       "<title>3</title>\n",
       "<polygon fill=\"none\" stroke=\"#000000\" points=\"554,-36 462,-36 462,0 554,0 554,-36\"/>\n",
       "<text text-anchor=\"middle\" x=\"508\" y=\"-14.3\" font-family=\"Times,serif\" font-size=\"14.00\" fill=\"#000000\">PassCalcLocs</text>\n",
       "</g>\n",
       "<!-- 2&#45;&gt;3 -->\n",
       "<g id=\"edge3\" class=\"edge\">\n",
       "<title>2&#45;&gt;3</title>\n",
       "<path fill=\"none\" stroke=\"#000000\" d=\"M426.0597,-18C434.5867,-18 443.3162,-18 451.749,-18\"/>\n",
       "<polygon fill=\"#000000\" stroke=\"#000000\" points=\"451.8543,-21.5001 461.8543,-18 451.8542,-14.5001 451.8543,-21.5001\"/>\n",
       "</g>\n",
       "<!-- 4 -->\n",
       "<g id=\"node5\" class=\"node\">\n",
       "<title>4</title>\n",
       "<polygon fill=\"none\" stroke=\"#000000\" points=\"666,-36 590,-36 590,0 666,0 666,-36\"/>\n",
       "<text text-anchor=\"middle\" x=\"628\" y=\"-14.3\" font-family=\"Times,serif\" font-size=\"14.00\" fill=\"#000000\">VaspToDb</text>\n",
       "</g>\n",
       "<!-- 3&#45;&gt;4 -->\n",
       "<g id=\"edge4\" class=\"edge\">\n",
       "<title>3&#45;&gt;4</title>\n",
       "<path fill=\"none\" stroke=\"#000000\" d=\"M554.0519,-18C562.4161,-18 571.163,-18 579.5926,-18\"/>\n",
       "<polygon fill=\"#000000\" stroke=\"#000000\" points=\"579.6704,-21.5001 589.6704,-18 579.6703,-14.5001 579.6704,-21.5001\"/>\n",
       "</g>\n",
       "</g>\n",
       "</svg>\n"
      ],
      "text/plain": [
       "<graphviz.dot.Digraph at 0x7f16534e87b8>"
      ]
     },
     "execution_count": 38,
     "metadata": {},
     "output_type": "execute_result"
    }
   ],
   "source": [
    "print(wf.fws[0].name)\n",
    "wf_to_graph(wf.fws[0])"
   ]
  },
  {
   "cell_type": "code",
   "execution_count": 39,
   "metadata": {},
   "outputs": [
    {
     "name": "stdout",
     "output_type": "stream",
     "text": [
      "Si-elastic deformation 0\n"
     ]
    },
    {
     "data": {
      "image/svg+xml": [
       "<?xml version=\"1.0\" encoding=\"UTF-8\" standalone=\"no\"?>\n",
       "<!DOCTYPE svg PUBLIC \"-//W3C//DTD SVG 1.1//EN\"\n",
       " \"http://www.w3.org/Graphics/SVG/1.1/DTD/svg11.dtd\">\n",
       "<!-- Generated by graphviz version 2.40.1 (20161225.0304)\n",
       " -->\n",
       "<!-- Title: %3 Pages: 1 -->\n",
       "<svg width=\"994pt\" height=\"44pt\"\n",
       " viewBox=\"0.00 0.00 994.00 44.00\" xmlns=\"http://www.w3.org/2000/svg\" xmlns:xlink=\"http://www.w3.org/1999/xlink\">\n",
       "<g id=\"graph0\" class=\"graph\" transform=\"scale(1 1) rotate(0) translate(4 40)\">\n",
       "<title>%3</title>\n",
       "<polygon fill=\"#ffffff\" stroke=\"transparent\" points=\"-4,4 -4,-40 990,-40 990,4 -4,4\"/>\n",
       "<!-- 0 -->\n",
       "<g id=\"node1\" class=\"node\">\n",
       "<title>0</title>\n",
       "<polygon fill=\"none\" stroke=\"#000000\" points=\"95,-36 0,-36 0,0 95,0 95,-36\"/>\n",
       "<text text-anchor=\"middle\" x=\"47.5\" y=\"-14.3\" font-family=\"Times,serif\" font-size=\"14.00\" fill=\"#000000\">FileWriteTask</text>\n",
       "</g>\n",
       "<!-- 1 -->\n",
       "<g id=\"node2\" class=\"node\">\n",
       "<title>1</title>\n",
       "<polygon fill=\"none\" stroke=\"#000000\" points=\"247,-36 131,-36 131,0 247,0 247,-36\"/>\n",
       "<text text-anchor=\"middle\" x=\"189\" y=\"-14.3\" font-family=\"Times,serif\" font-size=\"14.00\" fill=\"#000000\">CopyVaspOutputs</text>\n",
       "</g>\n",
       "<!-- 0&#45;&gt;1 -->\n",
       "<g id=\"edge1\" class=\"edge\">\n",
       "<title>0&#45;&gt;1</title>\n",
       "<path fill=\"none\" stroke=\"#000000\" d=\"M95.0111,-18C103.2631,-18 111.9897,-18 120.6677,-18\"/>\n",
       "<polygon fill=\"#000000\" stroke=\"#000000\" points=\"120.8013,-21.5001 130.8012,-18 120.8012,-14.5001 120.8013,-21.5001\"/>\n",
       "</g>\n",
       "<!-- 2 -->\n",
       "<g id=\"node3\" class=\"node\">\n",
       "<title>2</title>\n",
       "<polygon fill=\"none\" stroke=\"#000000\" points=\"477,-36 283,-36 283,0 477,0 477,-36\"/>\n",
       "<text text-anchor=\"middle\" x=\"380\" y=\"-14.3\" font-family=\"Times,serif\" font-size=\"14.00\" fill=\"#000000\">WriteTransmutedStructureIOSet</text>\n",
       "</g>\n",
       "<!-- 1&#45;&gt;2 -->\n",
       "<g id=\"edge2\" class=\"edge\">\n",
       "<title>1&#45;&gt;2</title>\n",
       "<path fill=\"none\" stroke=\"#000000\" d=\"M247.0842,-18C255.2093,-18 263.7637,-18 272.4532,-18\"/>\n",
       "<polygon fill=\"#000000\" stroke=\"#000000\" points=\"272.6985,-21.5001 282.6984,-18 272.6984,-14.5001 272.6985,-21.5001\"/>\n",
       "</g>\n",
       "<!-- 3 -->\n",
       "<g id=\"node4\" class=\"node\">\n",
       "<title>3</title>\n",
       "<polygon fill=\"none\" stroke=\"#000000\" points=\"635,-36 513,-36 513,0 635,0 635,-36\"/>\n",
       "<text text-anchor=\"middle\" x=\"574\" y=\"-14.3\" font-family=\"Times,serif\" font-size=\"14.00\" fill=\"#000000\">RunVaspCustodian</text>\n",
       "</g>\n",
       "<!-- 2&#45;&gt;3 -->\n",
       "<g id=\"edge3\" class=\"edge\">\n",
       "<title>2&#45;&gt;3</title>\n",
       "<path fill=\"none\" stroke=\"#000000\" d=\"M477,-18C485.6875,-18 494.3749,-18 502.7836,-18\"/>\n",
       "<polygon fill=\"#000000\" stroke=\"#000000\" points=\"502.8835,-21.5001 512.8835,-18 502.8834,-14.5001 502.8835,-21.5001\"/>\n",
       "</g>\n",
       "<!-- 4 -->\n",
       "<g id=\"node5\" class=\"node\">\n",
       "<title>4</title>\n",
       "<polygon fill=\"none\" stroke=\"#000000\" points=\"763,-36 671,-36 671,0 763,0 763,-36\"/>\n",
       "<text text-anchor=\"middle\" x=\"717\" y=\"-14.3\" font-family=\"Times,serif\" font-size=\"14.00\" fill=\"#000000\">PassCalcLocs</text>\n",
       "</g>\n",
       "<!-- 3&#45;&gt;4 -->\n",
       "<g id=\"edge4\" class=\"edge\">\n",
       "<title>3&#45;&gt;4</title>\n",
       "<path fill=\"none\" stroke=\"#000000\" d=\"M635.0597,-18C643.5867,-18 652.3162,-18 660.749,-18\"/>\n",
       "<polygon fill=\"#000000\" stroke=\"#000000\" points=\"660.8543,-21.5001 670.8543,-18 660.8542,-14.5001 660.8543,-21.5001\"/>\n",
       "</g>\n",
       "<!-- 5 -->\n",
       "<g id=\"node6\" class=\"node\">\n",
       "<title>5</title>\n",
       "<polygon fill=\"none\" stroke=\"#000000\" points=\"875,-36 799,-36 799,0 875,0 875,-36\"/>\n",
       "<text text-anchor=\"middle\" x=\"837\" y=\"-14.3\" font-family=\"Times,serif\" font-size=\"14.00\" fill=\"#000000\">VaspToDb</text>\n",
       "</g>\n",
       "<!-- 4&#45;&gt;5 -->\n",
       "<g id=\"edge5\" class=\"edge\">\n",
       "<title>4&#45;&gt;5</title>\n",
       "<path fill=\"none\" stroke=\"#000000\" d=\"M763.0519,-18C771.4161,-18 780.163,-18 788.5926,-18\"/>\n",
       "<polygon fill=\"#000000\" stroke=\"#000000\" points=\"788.6704,-21.5001 798.6704,-18 788.6703,-14.5001 788.6704,-21.5001\"/>\n",
       "</g>\n",
       "<!-- 6 -->\n",
       "<g id=\"node7\" class=\"node\">\n",
       "<title>6</title>\n",
       "<polygon fill=\"none\" stroke=\"#000000\" points=\"986,-36 911,-36 911,0 986,0 986,-36\"/>\n",
       "<text text-anchor=\"middle\" x=\"948.5\" y=\"-14.3\" font-family=\"Times,serif\" font-size=\"14.00\" fill=\"#000000\">PassResult</text>\n",
       "</g>\n",
       "<!-- 5&#45;&gt;6 -->\n",
       "<g id=\"edge6\" class=\"edge\">\n",
       "<title>5&#45;&gt;6</title>\n",
       "<path fill=\"none\" stroke=\"#000000\" d=\"M875.0601,-18C883.3127,-18 892.1423,-18 900.7153,-18\"/>\n",
       "<polygon fill=\"#000000\" stroke=\"#000000\" points=\"900.9892,-21.5001 910.9892,-18 900.9891,-14.5001 900.9892,-21.5001\"/>\n",
       "</g>\n",
       "</g>\n",
       "</svg>\n"
      ],
      "text/plain": [
       "<graphviz.dot.Digraph at 0x7f16534e81d0>"
      ]
     },
     "execution_count": 39,
     "metadata": {},
     "output_type": "execute_result"
    }
   ],
   "source": [
    "print(wf.fws[1].name)\n",
    "wf_to_graph(wf.fws[1])"
   ]
  },
  {
   "cell_type": "code",
   "execution_count": 40,
   "metadata": {},
   "outputs": [
    {
     "name": "stdout",
     "output_type": "stream",
     "text": [
      "Analyze Elastic Data\n"
     ]
    },
    {
     "data": {
      "image/svg+xml": [
       "<?xml version=\"1.0\" encoding=\"UTF-8\" standalone=\"no\"?>\n",
       "<!DOCTYPE svg PUBLIC \"-//W3C//DTD SVG 1.1//EN\"\n",
       " \"http://www.w3.org/Graphics/SVG/1.1/DTD/svg11.dtd\">\n",
       "<!-- Generated by graphviz version 2.40.1 (20161225.0304)\n",
       " -->\n",
       "<!-- Title: %3 Pages: 1 -->\n",
       "<svg width=\"261pt\" height=\"44pt\"\n",
       " viewBox=\"0.00 0.00 261.00 44.00\" xmlns=\"http://www.w3.org/2000/svg\" xmlns:xlink=\"http://www.w3.org/1999/xlink\">\n",
       "<g id=\"graph0\" class=\"graph\" transform=\"scale(1 1) rotate(0) translate(4 40)\">\n",
       "<title>%3</title>\n",
       "<polygon fill=\"#ffffff\" stroke=\"transparent\" points=\"-4,4 -4,-40 257,-40 257,4 -4,4\"/>\n",
       "<!-- 0 -->\n",
       "<g id=\"node1\" class=\"node\">\n",
       "<title>0</title>\n",
       "<polygon fill=\"none\" stroke=\"#000000\" points=\"95,-36 0,-36 0,0 95,0 95,-36\"/>\n",
       "<text text-anchor=\"middle\" x=\"47.5\" y=\"-14.3\" font-family=\"Times,serif\" font-size=\"14.00\" fill=\"#000000\">FileWriteTask</text>\n",
       "</g>\n",
       "<!-- 1 -->\n",
       "<g id=\"node2\" class=\"node\">\n",
       "<title>1</title>\n",
       "<polygon fill=\"none\" stroke=\"#000000\" points=\"253,-36 131,-36 131,0 253,0 253,-36\"/>\n",
       "<text text-anchor=\"middle\" x=\"192\" y=\"-14.3\" font-family=\"Times,serif\" font-size=\"14.00\" fill=\"#000000\">ElasticTensorToDb</text>\n",
       "</g>\n",
       "<!-- 0&#45;&gt;1 -->\n",
       "<g id=\"edge1\" class=\"edge\">\n",
       "<title>0&#45;&gt;1</title>\n",
       "<path fill=\"none\" stroke=\"#000000\" d=\"M95.2152,-18C103.4281,-18 112.121,-18 120.7938,-18\"/>\n",
       "<polygon fill=\"#000000\" stroke=\"#000000\" points=\"120.9358,-21.5001 130.9358,-18 120.9358,-14.5001 120.9358,-21.5001\"/>\n",
       "</g>\n",
       "</g>\n",
       "</svg>\n"
      ],
      "text/plain": [
       "<graphviz.dot.Digraph at 0x7f166058d1d0>"
      ]
     },
     "execution_count": 40,
     "metadata": {},
     "output_type": "execute_result"
    }
   ],
   "source": [
    "print(wf.fws[-1].name)\n",
    "wf_to_graph(wf.fws[-1])"
   ]
  },
  {
   "cell_type": "markdown",
   "metadata": {},
   "source": [
    "Note that the standard preset workflow for the elastic tensor uses many calculations in excess of what is required to determine the elastic tensor, which yields a higher-quality tensor in which some of the numerical noise is washed out over the duplicity of calculations.  Note that you can also generate a \"minimal\" elastic workflow which uses neither the more expensive DFT parameters nor the extended calculations.  Tensors generated using this workflow are typically not as accurate, but often work for simple semiconductors with a lot of symmetry.  Let's try it with bulk silicon."
   ]
  },
  {
   "cell_type": "code",
   "execution_count": 58,
   "metadata": {},
   "outputs": [],
   "source": [
    "wf = wf_elastic_constant_minimal(structure)"
   ]
  },
  {
   "cell_type": "code",
   "execution_count": 59,
   "metadata": {},
   "outputs": [
    {
     "data": {
      "image/svg+xml": [
       "<?xml version=\"1.0\" encoding=\"UTF-8\" standalone=\"no\"?>\n",
       "<!DOCTYPE svg PUBLIC \"-//W3C//DTD SVG 1.1//EN\"\n",
       " \"http://www.w3.org/Graphics/SVG/1.1/DTD/svg11.dtd\">\n",
       "<!-- Generated by graphviz version 2.40.1 (20161225.0304)\n",
       " -->\n",
       "<!-- Title: %3 Pages: 1 -->\n",
       "<svg width=\"323pt\" height=\"98pt\"\n",
       " viewBox=\"0.00 0.00 323.00 98.00\" xmlns=\"http://www.w3.org/2000/svg\" xmlns:xlink=\"http://www.w3.org/1999/xlink\">\n",
       "<g id=\"graph0\" class=\"graph\" transform=\"scale(1 1) rotate(0) translate(4 94)\">\n",
       "<title>%3</title>\n",
       "<polygon fill=\"#ffffff\" stroke=\"transparent\" points=\"-4,4 -4,-94 319,-94 319,4 -4,4\"/>\n",
       "<!-- &#45;2430 -->\n",
       "<g id=\"node1\" class=\"node\">\n",
       "<title>&#45;2430</title>\n",
       "<polygon fill=\"none\" stroke=\"#1f62a2\" points=\"148,-90 0,-90 0,-54 148,-54 148,-90\"/>\n",
       "<text text-anchor=\"middle\" x=\"74\" y=\"-68.3\" font-family=\"Times,serif\" font-size=\"14.00\" fill=\"#000000\">Si&#45;elastic deformation 0</text>\n",
       "</g>\n",
       "<!-- &#45;2432 -->\n",
       "<g id=\"node3\" class=\"node\">\n",
       "<title>&#45;2432</title>\n",
       "<polygon fill=\"none\" stroke=\"#1f62a2\" points=\"315,-63 184,-63 184,-27 315,-27 315,-63\"/>\n",
       "<text text-anchor=\"middle\" x=\"249.5\" y=\"-41.3\" font-family=\"Times,serif\" font-size=\"14.00\" fill=\"#000000\">Analyze Elastic Data</text>\n",
       "</g>\n",
       "<!-- &#45;2430&#45;&gt;&#45;2432 -->\n",
       "<g id=\"edge1\" class=\"edge\">\n",
       "<title>&#45;2430&#45;&gt;&#45;2432</title>\n",
       "<path fill=\"none\" stroke=\"#000000\" d=\"M148.1734,-60.5887C156.7128,-59.2749 165.4281,-57.9341 173.985,-56.6177\"/>\n",
       "<polygon fill=\"#000000\" stroke=\"#000000\" points=\"174.5858,-60.0665 183.9373,-55.0866 173.5213,-53.1479 174.5858,-60.0665\"/>\n",
       "</g>\n",
       "<!-- &#45;2431 -->\n",
       "<g id=\"node2\" class=\"node\">\n",
       "<title>&#45;2431</title>\n",
       "<polygon fill=\"none\" stroke=\"#1f62a2\" points=\"148,-36 0,-36 0,0 148,0 148,-36\"/>\n",
       "<text text-anchor=\"middle\" x=\"74\" y=\"-14.3\" font-family=\"Times,serif\" font-size=\"14.00\" fill=\"#000000\">Si&#45;elastic deformation 1</text>\n",
       "</g>\n",
       "<!-- &#45;2431&#45;&gt;&#45;2432 -->\n",
       "<g id=\"edge2\" class=\"edge\">\n",
       "<title>&#45;2431&#45;&gt;&#45;2432</title>\n",
       "<path fill=\"none\" stroke=\"#000000\" d=\"M148.1734,-29.4113C156.7128,-30.7251 165.4281,-32.0659 173.985,-33.3823\"/>\n",
       "<polygon fill=\"#000000\" stroke=\"#000000\" points=\"173.5213,-36.8521 183.9373,-34.9134 174.5858,-29.9335 173.5213,-36.8521\"/>\n",
       "</g>\n",
       "</g>\n",
       "</svg>\n"
      ],
      "text/plain": [
       "<graphviz.dot.Digraph at 0x7f16534fff60>"
      ]
     },
     "execution_count": 59,
     "metadata": {},
     "output_type": "execute_result"
    }
   ],
   "source": [
    "wf_to_graph(wf)"
   ]
  },
  {
   "cell_type": "markdown",
   "metadata": {},
   "source": [
    "Note that for silicon, the two deformation tasks are a single normal deformation along the x axis (which are equivalent to those along the y- and z-axis), and a single shear deformation (equivalent to the two others normally included).  Since this is considerably simpler, we'll run this as our example."
   ]
  },
  {
   "cell_type": "markdown",
   "metadata": {},
   "source": [
    "To run the workflow, we import our launchpad and rocket launcher tools.  Since we can't use VASP in the workflow, we're also going to \"fake\" vasp by copying files rather than running the binary."
   ]
  },
  {
   "cell_type": "code",
   "execution_count": 60,
   "metadata": {},
   "outputs": [],
   "source": [
    "from fireworks import LaunchPad\n",
    "from mp_workshop.atomate import use_fake_vasp_workshop"
   ]
  },
  {
   "cell_type": "code",
   "execution_count": 61,
   "metadata": {},
   "outputs": [
    {
     "data": {
      "text/plain": [
       "'Si:elastic constants'"
      ]
     },
     "execution_count": 61,
     "metadata": {},
     "output_type": "execute_result"
    }
   ],
   "source": [
    "wf.name"
   ]
  },
  {
   "cell_type": "code",
   "execution_count": 62,
   "metadata": {},
   "outputs": [
    {
     "name": "stdout",
     "output_type": "stream",
     "text": [
      "2019-07-17 18:17:20,564 INFO Added a workflow. id_map: {-2432: 1, -2431: 2, -2430: 3}\n"
     ]
    },
    {
     "data": {
      "text/plain": [
       "{-2432: 1, -2431: 2, -2430: 3}"
      ]
     },
     "execution_count": 62,
     "metadata": {},
     "output_type": "execute_result"
    }
   ],
   "source": [
    "wf = use_fake_vasp_workshop(wf)\n",
    "lpad.add_wf(wf)"
   ]
  },
  {
   "cell_type": "markdown",
   "metadata": {},
   "source": [
    "Now we can run the workflow either in the notebook using the pythonic fireworks rocket launcher or using `qlaunch` from the linux command line."
   ]
  },
  {
   "cell_type": "code",
   "execution_count": 63,
   "metadata": {},
   "outputs": [],
   "source": [
    "from fireworks.core.rocket_launcher import rapidfire"
   ]
  },
  {
   "cell_type": "code",
   "execution_count": 64,
   "metadata": {},
   "outputs": [],
   "source": [
    "import os"
   ]
  },
  {
   "cell_type": "code",
   "execution_count": 65,
   "metadata": {},
   "outputs": [
    {
     "name": "stdout",
     "output_type": "stream",
     "text": [
      "2019-07-17 18:17:26,965 INFO Created new dir /home/jovyan/work/lessons/atomate/temp/temp/temp/launcher_2019-07-17-18-17-26-964974\n",
      "2019-07-17 18:17:26,966 INFO Launching Rocket\n",
      "2019-07-17 18:17:27,037 INFO RUNNING fw_id: 3 in directory: /home/jovyan/work/lessons/atomate/temp/temp/temp/launcher_2019-07-17-18-17-26-964974\n",
      "2019-07-17 18:17:27,051 INFO Task started: FileWriteTask.\n",
      "2019-07-17 18:17:27,052 INFO Task completed: FileWriteTask \n",
      "2019-07-17 18:17:27,066 INFO Task started: {{atomate.vasp.firetasks.write_inputs.WriteTransmutedStructureIOSet}}.\n",
      "2019-07-17 18:17:27,082 INFO Task completed: {{atomate.vasp.firetasks.write_inputs.WriteTransmutedStructureIOSet}} \n",
      "2019-07-17 18:17:27,087 INFO Task started: {{atomate.vasp.firetasks.run_calc.RunVaspFake}}.\n",
      "2019-07-17 18:17:27,108 INFO atomate.vasp.firetasks.run_calc RunVaspFake: verified inputs successfully\n",
      "2019-07-17 18:17:27,131 INFO atomate.vasp.firetasks.run_calc RunVaspFake: ran fake VASP, generated outputs\n",
      "2019-07-17 18:17:27,133 INFO Task completed: {{atomate.vasp.firetasks.run_calc.RunVaspFake}} \n",
      "2019-07-17 18:17:27,144 INFO Task started: {{atomate.common.firetasks.glue_tasks.PassCalcLocs}}.\n",
      "2019-07-17 18:17:27,146 INFO Task completed: {{atomate.common.firetasks.glue_tasks.PassCalcLocs}} \n",
      "2019-07-17 18:17:27,154 INFO Task started: {{atomate.vasp.firetasks.parse_outputs.VaspToDb}}.\n",
      "2019-07-17 18:17:27,158 INFO atomate.vasp.firetasks.parse_outputs PARSING DIRECTORY: /home/jovyan/work/lessons/atomate/temp/temp/temp/launcher_2019-07-17-18-17-26-964974\n",
      "2019-07-17 18:17:27,159 INFO atomate.vasp.drones Getting task doc for base dir :/home/jovyan/work/lessons/atomate/temp/temp/temp/launcher_2019-07-17-18-17-26-964974\n",
      "2019-07-17 18:17:27,520 INFO atomate.vasp.drones Post-processing dir:/home/jovyan/work/lessons/atomate/temp/temp/temp/launcher_2019-07-17-18-17-26-964974\n",
      "2019-07-17 18:17:27,522 WARNING atomate.vasp.drones Cannot parse ICSD from transformations file.\n",
      "2019-07-17 18:17:27,534 INFO atomate.vasp.drones Post-processed /home/jovyan/work/lessons/atomate/temp/temp/temp/launcher_2019-07-17-18-17-26-964974\n",
      "2019-07-17 18:17:27,548 INFO Task completed: {{atomate.vasp.firetasks.parse_outputs.VaspToDb}} \n",
      "2019-07-17 18:17:27,553 INFO Task started: {{atomate.common.firetasks.glue_tasks.PassResult}}.\n",
      "2019-07-17 18:17:27,627 INFO Task completed: {{atomate.common.firetasks.glue_tasks.PassResult}} \n",
      "2019-07-17 18:17:27,669 INFO Rocket finished\n",
      "2019-07-17 18:17:27,677 INFO Created new dir /home/jovyan/work/lessons/atomate/temp/temp/temp/launcher_2019-07-17-18-17-27-677527\n",
      "2019-07-17 18:17:27,678 INFO Launching Rocket\n",
      "2019-07-17 18:17:27,731 INFO RUNNING fw_id: 2 in directory: /home/jovyan/work/lessons/atomate/temp/temp/temp/launcher_2019-07-17-18-17-27-677527\n",
      "2019-07-17 18:17:27,741 INFO Task started: FileWriteTask.\n",
      "2019-07-17 18:17:27,744 INFO Task completed: FileWriteTask \n",
      "2019-07-17 18:17:27,750 INFO Task started: {{atomate.vasp.firetasks.write_inputs.WriteTransmutedStructureIOSet}}.\n",
      "2019-07-17 18:17:27,782 INFO Task completed: {{atomate.vasp.firetasks.write_inputs.WriteTransmutedStructureIOSet}} \n",
      "2019-07-17 18:17:27,787 INFO Task started: {{atomate.vasp.firetasks.run_calc.RunVaspFake}}.\n",
      "2019-07-17 18:17:27,801 INFO atomate.vasp.firetasks.run_calc RunVaspFake: verified inputs successfully\n",
      "2019-07-17 18:17:27,820 INFO atomate.vasp.firetasks.run_calc RunVaspFake: ran fake VASP, generated outputs\n",
      "2019-07-17 18:17:27,830 INFO Task completed: {{atomate.vasp.firetasks.run_calc.RunVaspFake}} \n",
      "2019-07-17 18:17:27,835 INFO Task started: {{atomate.common.firetasks.glue_tasks.PassCalcLocs}}.\n",
      "2019-07-17 18:17:27,837 INFO Task completed: {{atomate.common.firetasks.glue_tasks.PassCalcLocs}} \n",
      "2019-07-17 18:17:27,840 INFO Task started: {{atomate.vasp.firetasks.parse_outputs.VaspToDb}}.\n",
      "2019-07-17 18:17:27,842 INFO atomate.vasp.firetasks.parse_outputs PARSING DIRECTORY: /home/jovyan/work/lessons/atomate/temp/temp/temp/launcher_2019-07-17-18-17-27-677527\n",
      "2019-07-17 18:17:27,843 INFO atomate.vasp.drones Getting task doc for base dir :/home/jovyan/work/lessons/atomate/temp/temp/temp/launcher_2019-07-17-18-17-27-677527\n",
      "2019-07-17 18:17:28,431 INFO atomate.vasp.drones Post-processing dir:/home/jovyan/work/lessons/atomate/temp/temp/temp/launcher_2019-07-17-18-17-27-677527\n",
      "2019-07-17 18:17:28,432 WARNING atomate.vasp.drones Cannot parse ICSD from transformations file.\n",
      "2019-07-17 18:17:28,445 INFO atomate.vasp.drones Post-processed /home/jovyan/work/lessons/atomate/temp/temp/temp/launcher_2019-07-17-18-17-27-677527\n",
      "2019-07-17 18:17:28,448 INFO Task completed: {{atomate.vasp.firetasks.parse_outputs.VaspToDb}} \n",
      "2019-07-17 18:17:28,453 INFO Task started: {{atomate.common.firetasks.glue_tasks.PassResult}}.\n",
      "2019-07-17 18:17:28,546 INFO Task completed: {{atomate.common.firetasks.glue_tasks.PassResult}} \n",
      "2019-07-17 18:17:28,597 INFO Rocket finished\n",
      "2019-07-17 18:17:28,604 INFO Created new dir /home/jovyan/work/lessons/atomate/temp/temp/temp/launcher_2019-07-17-18-17-28-604693\n",
      "2019-07-17 18:17:28,605 INFO Launching Rocket\n",
      "2019-07-17 18:17:28,645 INFO RUNNING fw_id: 1 in directory: /home/jovyan/work/lessons/atomate/temp/temp/temp/launcher_2019-07-17-18-17-28-604693\n",
      "2019-07-17 18:17:28,657 INFO Task started: FileWriteTask.\n",
      "2019-07-17 18:17:28,663 INFO Task completed: FileWriteTask \n",
      "2019-07-17 18:17:28,667 INFO Task started: {{atomate.vasp.firetasks.parse_outputs.ElasticTensorToDb}}.\n",
      "2019-07-17 18:17:28,673 INFO atomate.vasp.firetasks.parse_outputs Analyzing stress/strain data\n"
     ]
    },
    {
     "name": "stderr",
     "output_type": "stream",
     "text": [
      "/opt/conda/lib/python3.7/site-packages/pymatgen/analysis/elasticity/elastic.py:911: UserWarning:\n",
      "\n",
      "No eq state found, returning zero voigt stress\n",
      "\n"
     ]
    },
    {
     "name": "stdout",
     "output_type": "stream",
     "text": [
      "2019-07-17 18:17:29,098 INFO Task completed: {{atomate.vasp.firetasks.parse_outputs.ElasticTensorToDb}} \n",
      "2019-07-17 18:17:29,150 INFO Rocket finished\n"
     ]
    }
   ],
   "source": [
    "if not os.path.exists('temp'):\n",
    "    os.makedirs('temp')\n",
    "    os.chdir(\"temp\")\n",
    "rapidfire(lpad)"
   ]
  },
  {
   "cell_type": "markdown",
   "metadata": {},
   "source": [
    "## Powerups"
   ]
  },
  {
   "cell_type": "markdown",
   "metadata": {},
   "source": [
    "Atomate contains a number of tools for modifying workflows, known as \"powerups\" which are functions which will modify the workflows in commonly desired ways.  For example, if you want to modify the parameters of a VASP calculation, you can use the add_modify_incar powerup to change these for every firework in the workflow."
   ]
  },
  {
   "cell_type": "markdown",
   "metadata": {},
   "source": [
    "### add_modify_incar"
   ]
  },
  {
   "cell_type": "code",
   "execution_count": 66,
   "metadata": {},
   "outputs": [],
   "source": [
    "from atomate.vasp.powerups import add_modify_incar"
   ]
  },
  {
   "cell_type": "code",
   "execution_count": 67,
   "metadata": {},
   "outputs": [],
   "source": [
    "wf = get_wf(structure, \"bandstructure.yaml\")"
   ]
  },
  {
   "cell_type": "code",
   "execution_count": 84,
   "metadata": {},
   "outputs": [
    {
     "ename": "AttributeError",
     "evalue": "'list' object has no attribute 'fws'",
     "output_type": "error",
     "traceback": [
      "\u001b[0;31m---------------------------------------------------------------------------\u001b[0m",
      "\u001b[0;31mAttributeError\u001b[0m                            Traceback (most recent call last)",
      "\u001b[0;32m<ipython-input-84-67ba658c291a>\u001b[0m in \u001b[0;36m<module>\u001b[0;34m\u001b[0m\n\u001b[0;32m----> 1\u001b[0;31m \u001b[0mwf_to_graph\u001b[0m\u001b[0;34m(\u001b[0m\u001b[0mwf\u001b[0m\u001b[0;34m.\u001b[0m\u001b[0mfws\u001b[0m\u001b[0;34m[\u001b[0m\u001b[0;36m0\u001b[0m\u001b[0;34m]\u001b[0m\u001b[0;34m)\u001b[0m\u001b[0;34m\u001b[0m\u001b[0;34m\u001b[0m\u001b[0m\n\u001b[0m",
      "\u001b[0;31mAttributeError\u001b[0m: 'list' object has no attribute 'fws'"
     ]
    }
   ],
   "source": [
    "wf_to_graph(wf.fws[0])"
   ]
  },
  {
   "cell_type": "code",
   "execution_count": 69,
   "metadata": {},
   "outputs": [],
   "source": [
    "modified = add_modify_incar(wf, {\"incar_update\": {\"ENCUT\": 700}})"
   ]
  },
  {
   "cell_type": "code",
   "execution_count": 70,
   "metadata": {},
   "outputs": [
    {
     "data": {
      "image/svg+xml": [
       "<?xml version=\"1.0\" encoding=\"UTF-8\" standalone=\"no\"?>\n",
       "<!DOCTYPE svg PUBLIC \"-//W3C//DTD SVG 1.1//EN\"\n",
       " \"http://www.w3.org/Graphics/SVG/1.1/DTD/svg11.dtd\">\n",
       "<!-- Generated by graphviz version 2.40.1 (20161225.0304)\n",
       " -->\n",
       "<!-- Title: %3 Pages: 1 -->\n",
       "<svg width=\"665pt\" height=\"44pt\"\n",
       " viewBox=\"0.00 0.00 665.00 44.00\" xmlns=\"http://www.w3.org/2000/svg\" xmlns:xlink=\"http://www.w3.org/1999/xlink\">\n",
       "<g id=\"graph0\" class=\"graph\" transform=\"scale(1 1) rotate(0) translate(4 40)\">\n",
       "<title>%3</title>\n",
       "<polygon fill=\"#ffffff\" stroke=\"transparent\" points=\"-4,4 -4,-40 661,-40 661,4 -4,4\"/>\n",
       "<!-- 0 -->\n",
       "<g id=\"node1\" class=\"node\">\n",
       "<title>0</title>\n",
       "<polygon fill=\"none\" stroke=\"#000000\" points=\"137,-36 0,-36 0,0 137,0 137,-36\"/>\n",
       "<text text-anchor=\"middle\" x=\"68.5\" y=\"-14.3\" font-family=\"Times,serif\" font-size=\"14.00\" fill=\"#000000\">WriteVaspFromIOSet</text>\n",
       "</g>\n",
       "<!-- 1 -->\n",
       "<g id=\"node2\" class=\"node\">\n",
       "<title>1</title>\n",
       "<polygon fill=\"none\" stroke=\"#000000\" points=\"259,-36 173,-36 173,0 259,0 259,-36\"/>\n",
       "<text text-anchor=\"middle\" x=\"216\" y=\"-14.3\" font-family=\"Times,serif\" font-size=\"14.00\" fill=\"#000000\">ModifyIncar</text>\n",
       "</g>\n",
       "<!-- 0&#45;&gt;1 -->\n",
       "<g id=\"edge1\" class=\"edge\">\n",
       "<title>0&#45;&gt;1</title>\n",
       "<path fill=\"none\" stroke=\"#000000\" d=\"M137.0683,-18C145.6376,-18 154.3008,-18 162.5918,-18\"/>\n",
       "<polygon fill=\"#000000\" stroke=\"#000000\" points=\"162.8598,-21.5001 172.8597,-18 162.8597,-14.5001 162.8598,-21.5001\"/>\n",
       "</g>\n",
       "<!-- 2 -->\n",
       "<g id=\"node3\" class=\"node\">\n",
       "<title>2</title>\n",
       "<polygon fill=\"none\" stroke=\"#000000\" points=\"417,-36 295,-36 295,0 417,0 417,-36\"/>\n",
       "<text text-anchor=\"middle\" x=\"356\" y=\"-14.3\" font-family=\"Times,serif\" font-size=\"14.00\" fill=\"#000000\">RunVaspCustodian</text>\n",
       "</g>\n",
       "<!-- 1&#45;&gt;2 -->\n",
       "<g id=\"edge2\" class=\"edge\">\n",
       "<title>1&#45;&gt;2</title>\n",
       "<path fill=\"none\" stroke=\"#000000\" d=\"M259.147,-18C267.2892,-18 276.0027,-18 284.7424,-18\"/>\n",
       "<polygon fill=\"#000000\" stroke=\"#000000\" points=\"284.9814,-21.5001 294.9813,-18 284.9813,-14.5001 284.9814,-21.5001\"/>\n",
       "</g>\n",
       "<!-- 3 -->\n",
       "<g id=\"node4\" class=\"node\">\n",
       "<title>3</title>\n",
       "<polygon fill=\"none\" stroke=\"#000000\" points=\"545,-36 453,-36 453,0 545,0 545,-36\"/>\n",
       "<text text-anchor=\"middle\" x=\"499\" y=\"-14.3\" font-family=\"Times,serif\" font-size=\"14.00\" fill=\"#000000\">PassCalcLocs</text>\n",
       "</g>\n",
       "<!-- 2&#45;&gt;3 -->\n",
       "<g id=\"edge3\" class=\"edge\">\n",
       "<title>2&#45;&gt;3</title>\n",
       "<path fill=\"none\" stroke=\"#000000\" d=\"M417.0597,-18C425.5867,-18 434.3162,-18 442.749,-18\"/>\n",
       "<polygon fill=\"#000000\" stroke=\"#000000\" points=\"442.8543,-21.5001 452.8543,-18 442.8542,-14.5001 442.8543,-21.5001\"/>\n",
       "</g>\n",
       "<!-- 4 -->\n",
       "<g id=\"node5\" class=\"node\">\n",
       "<title>4</title>\n",
       "<polygon fill=\"none\" stroke=\"#000000\" points=\"657,-36 581,-36 581,0 657,0 657,-36\"/>\n",
       "<text text-anchor=\"middle\" x=\"619\" y=\"-14.3\" font-family=\"Times,serif\" font-size=\"14.00\" fill=\"#000000\">VaspToDb</text>\n",
       "</g>\n",
       "<!-- 3&#45;&gt;4 -->\n",
       "<g id=\"edge4\" class=\"edge\">\n",
       "<title>3&#45;&gt;4</title>\n",
       "<path fill=\"none\" stroke=\"#000000\" d=\"M545.0519,-18C553.4161,-18 562.163,-18 570.5926,-18\"/>\n",
       "<polygon fill=\"#000000\" stroke=\"#000000\" points=\"570.6704,-21.5001 580.6704,-18 570.6703,-14.5001 570.6704,-21.5001\"/>\n",
       "</g>\n",
       "</g>\n",
       "</svg>\n"
      ],
      "text/plain": [
       "<graphviz.dot.Digraph at 0x7f1660a04be0>"
      ]
     },
     "execution_count": 70,
     "metadata": {},
     "output_type": "execute_result"
    }
   ],
   "source": [
    "wf_to_graph(modified.fws[0])"
   ]
  },
  {
   "cell_type": "markdown",
   "metadata": {},
   "source": [
    "Prior to the execution of the VASP calculation, a ModifyIncar firetask is inserted which will read the incar and modify the ENCUT parameter such that it matches our powerup specification."
   ]
  },
  {
   "cell_type": "markdown",
   "metadata": {},
   "source": [
    "### add_tags, add_structure_metadata"
   ]
  },
  {
   "cell_type": "code",
   "execution_count": 71,
   "metadata": {},
   "outputs": [],
   "source": [
    "from atomate.vasp.powerups import add_tags"
   ]
  },
  {
   "cell_type": "code",
   "execution_count": 72,
   "metadata": {},
   "outputs": [
    {
     "name": "stdout",
     "output_type": "stream",
     "text": [
      "WF metadata:  {}\n",
      "Last task:  <{{atomate.vasp.firetasks.parse_outputs.VaspToDb}}>:{'db_file': '>>db_file<<', 'additional_fields': {'task_label': 'structure optimization'}}\n"
     ]
    }
   ],
   "source": [
    "print(\"WF metadata: \", wf.metadata)\n",
    "print(\"Last task: \", wf.fws[0].tasks[-1])"
   ]
  },
  {
   "cell_type": "code",
   "execution_count": 73,
   "metadata": {},
   "outputs": [],
   "source": [
    "wf = add_tags(wf, [\"photocathodes\"])"
   ]
  },
  {
   "cell_type": "code",
   "execution_count": 74,
   "metadata": {},
   "outputs": [
    {
     "name": "stdout",
     "output_type": "stream",
     "text": [
      "WF metadata:  {'tags': ['photocathodes']}\n",
      "Last task:  <{{atomate.vasp.firetasks.parse_outputs.VaspToDb}}>:{'db_file': '>>db_file<<', 'additional_fields': {'task_label': 'structure optimization', 'tags': ['photocathodes']}}\n"
     ]
    }
   ],
   "source": [
    "print(\"WF metadata: \", wf.metadata)\n",
    "print(\"Last task: \", wf.fws[0].tasks[-1])"
   ]
  },
  {
   "cell_type": "markdown",
   "metadata": {},
   "source": [
    "## A few other \"complex\" workflows."
   ]
  },
  {
   "cell_type": "markdown",
   "metadata": {},
   "source": [
    "Atomate contains a few workflows that will do more complicating things like calculations on surfaces.  Let's say I want to calculate the determine the hydrogen adsorption energy on every low-index facet of Pt."
   ]
  },
  {
   "cell_type": "code",
   "execution_count": 76,
   "metadata": {},
   "outputs": [],
   "source": [
    "from atomate.vasp.workflows.base.adsorption import get_wfs_all_slabs\n",
    "from pymatgen import MPRester, Molecule"
   ]
  },
  {
   "cell_type": "code",
   "execution_count": 77,
   "metadata": {
    "scrolled": true
   },
   "outputs": [],
   "source": [
    "pt = mpr.get_structure_by_material_id(\"Pt\", conventional_unit_cell=True)\n",
    "adsorbate = Molecule(\"H\", [[0, 0, 0]])"
   ]
  },
  {
   "cell_type": "code",
   "execution_count": 86,
   "metadata": {},
   "outputs": [
    {
     "name": "stderr",
     "output_type": "stream",
     "text": [
      "/opt/conda/lib/python3.7/site-packages/pymatgen/core/structure.py:638: UserWarning:\n",
      "\n",
      "Not all sites have property bulk_wyckoff. Missing values are set to None.\n",
      "\n",
      "/opt/conda/lib/python3.7/site-packages/pymatgen/core/structure.py:638: UserWarning:\n",
      "\n",
      "Not all sites have property bulk_equivalent. Missing values are set to None.\n",
      "\n"
     ]
    }
   ],
   "source": [
    "wf = get_wfs_all_slabs(pt, adsorbates = [adsorbate])"
   ]
  },
  {
   "cell_type": "code",
   "execution_count": 102,
   "metadata": {},
   "outputs": [
    {
     "data": {
      "text/plain": [
       "'WF 0 ============================='"
      ]
     },
     "metadata": {},
     "output_type": "display_data"
    },
    {
     "data": {
      "image/svg+xml": [
       "<?xml version=\"1.0\" encoding=\"UTF-8\" standalone=\"no\"?>\n",
       "<!DOCTYPE svg PUBLIC \"-//W3C//DTD SVG 1.1//EN\"\n",
       " \"http://www.w3.org/Graphics/SVG/1.1/DTD/svg11.dtd\">\n",
       "<!-- Generated by graphviz version 2.40.1 (20161225.0304)\n",
       " -->\n",
       "<!-- Title: %3 Pages: 1 -->\n",
       "<svg width=\"286pt\" height=\"260pt\"\n",
       " viewBox=\"0.00 0.00 286.00 260.00\" xmlns=\"http://www.w3.org/2000/svg\" xmlns:xlink=\"http://www.w3.org/1999/xlink\">\n",
       "<g id=\"graph0\" class=\"graph\" transform=\"scale(1 1) rotate(0) translate(4 256)\">\n",
       "<title>%3</title>\n",
       "<polygon fill=\"#ffffff\" stroke=\"transparent\" points=\"-4,4 -4,-256 282,-256 282,4 -4,4\"/>\n",
       "<!-- &#45;2451 -->\n",
       "<g id=\"node1\" class=\"node\">\n",
       "<title>&#45;2451</title>\n",
       "<polygon fill=\"none\" stroke=\"#1f62a2\" points=\"235.5,-36 42.5,-36 42.5,0 235.5,0 235.5,-36\"/>\n",
       "<text text-anchor=\"middle\" x=\"139\" y=\"-14.3\" font-family=\"Times,serif\" font-size=\"14.00\" fill=\"#000000\">Pt&#45;Pt_(1, 1, 1) slab optimization</text>\n",
       "</g>\n",
       "<!-- &#45;2452 -->\n",
       "<g id=\"node2\" class=\"node\">\n",
       "<title>&#45;2452</title>\n",
       "<polygon fill=\"none\" stroke=\"#1f62a2\" points=\"278,-90 0,-90 0,-54 278,-54 278,-90\"/>\n",
       "<text text-anchor=\"middle\" x=\"139\" y=\"-68.3\" font-family=\"Times,serif\" font-size=\"14.00\" fill=\"#000000\">HPt16&#45;H1&#45;Pt_(1, 1, 1) adsorbate optimization 0</text>\n",
       "</g>\n",
       "<!-- &#45;2453 -->\n",
       "<g id=\"node3\" class=\"node\">\n",
       "<title>&#45;2453</title>\n",
       "<polygon fill=\"none\" stroke=\"#1f62a2\" points=\"278,-144 0,-144 0,-108 278,-108 278,-144\"/>\n",
       "<text text-anchor=\"middle\" x=\"139\" y=\"-122.3\" font-family=\"Times,serif\" font-size=\"14.00\" fill=\"#000000\">HPt16&#45;H1&#45;Pt_(1, 1, 1) adsorbate optimization 1</text>\n",
       "</g>\n",
       "<!-- &#45;2454 -->\n",
       "<g id=\"node4\" class=\"node\">\n",
       "<title>&#45;2454</title>\n",
       "<polygon fill=\"none\" stroke=\"#1f62a2\" points=\"278,-198 0,-198 0,-162 278,-162 278,-198\"/>\n",
       "<text text-anchor=\"middle\" x=\"139\" y=\"-176.3\" font-family=\"Times,serif\" font-size=\"14.00\" fill=\"#000000\">HPt16&#45;H1&#45;Pt_(1, 1, 1) adsorbate optimization 2</text>\n",
       "</g>\n",
       "<!-- &#45;2455 -->\n",
       "<g id=\"node5\" class=\"node\">\n",
       "<title>&#45;2455</title>\n",
       "<polygon fill=\"none\" stroke=\"#1f62a2\" points=\"278,-252 0,-252 0,-216 278,-216 278,-252\"/>\n",
       "<text text-anchor=\"middle\" x=\"139\" y=\"-230.3\" font-family=\"Times,serif\" font-size=\"14.00\" fill=\"#000000\">HPt16&#45;H1&#45;Pt_(1, 1, 1) adsorbate optimization 3</text>\n",
       "</g>\n",
       "</g>\n",
       "</svg>\n"
      ],
      "text/plain": [
       "<graphviz.dot.Digraph at 0x7f1652dadba8>"
      ]
     },
     "metadata": {},
     "output_type": "display_data"
    },
    {
     "data": {
      "text/plain": [
       "'WF 1 ============================='"
      ]
     },
     "metadata": {},
     "output_type": "display_data"
    },
    {
     "data": {
      "image/svg+xml": [
       "<?xml version=\"1.0\" encoding=\"UTF-8\" standalone=\"no\"?>\n",
       "<!DOCTYPE svg PUBLIC \"-//W3C//DTD SVG 1.1//EN\"\n",
       " \"http://www.w3.org/Graphics/SVG/1.1/DTD/svg11.dtd\">\n",
       "<!-- Generated by graphviz version 2.40.1 (20161225.0304)\n",
       " -->\n",
       "<!-- Title: %3 Pages: 1 -->\n",
       "<svg width=\"286pt\" height=\"260pt\"\n",
       " viewBox=\"0.00 0.00 286.00 260.00\" xmlns=\"http://www.w3.org/2000/svg\" xmlns:xlink=\"http://www.w3.org/1999/xlink\">\n",
       "<g id=\"graph0\" class=\"graph\" transform=\"scale(1 1) rotate(0) translate(4 256)\">\n",
       "<title>%3</title>\n",
       "<polygon fill=\"#ffffff\" stroke=\"transparent\" points=\"-4,4 -4,-256 282,-256 282,4 -4,4\"/>\n",
       "<!-- &#45;2456 -->\n",
       "<g id=\"node1\" class=\"node\">\n",
       "<title>&#45;2456</title>\n",
       "<polygon fill=\"none\" stroke=\"#1f62a2\" points=\"235.5,-36 42.5,-36 42.5,0 235.5,0 235.5,-36\"/>\n",
       "<text text-anchor=\"middle\" x=\"139\" y=\"-14.3\" font-family=\"Times,serif\" font-size=\"14.00\" fill=\"#000000\">Pt&#45;Pt_(1, 1, 0) slab optimization</text>\n",
       "</g>\n",
       "<!-- &#45;2457 -->\n",
       "<g id=\"node2\" class=\"node\">\n",
       "<title>&#45;2457</title>\n",
       "<polygon fill=\"none\" stroke=\"#1f62a2\" points=\"278,-90 0,-90 0,-54 278,-54 278,-90\"/>\n",
       "<text text-anchor=\"middle\" x=\"139\" y=\"-68.3\" font-family=\"Times,serif\" font-size=\"14.00\" fill=\"#000000\">HPt24&#45;H1&#45;Pt_(1, 1, 0) adsorbate optimization 0</text>\n",
       "</g>\n",
       "<!-- &#45;2458 -->\n",
       "<g id=\"node3\" class=\"node\">\n",
       "<title>&#45;2458</title>\n",
       "<polygon fill=\"none\" stroke=\"#1f62a2\" points=\"278,-144 0,-144 0,-108 278,-108 278,-144\"/>\n",
       "<text text-anchor=\"middle\" x=\"139\" y=\"-122.3\" font-family=\"Times,serif\" font-size=\"14.00\" fill=\"#000000\">HPt24&#45;H1&#45;Pt_(1, 1, 0) adsorbate optimization 1</text>\n",
       "</g>\n",
       "<!-- &#45;2459 -->\n",
       "<g id=\"node4\" class=\"node\">\n",
       "<title>&#45;2459</title>\n",
       "<polygon fill=\"none\" stroke=\"#1f62a2\" points=\"278,-198 0,-198 0,-162 278,-162 278,-198\"/>\n",
       "<text text-anchor=\"middle\" x=\"139\" y=\"-176.3\" font-family=\"Times,serif\" font-size=\"14.00\" fill=\"#000000\">HPt24&#45;H1&#45;Pt_(1, 1, 0) adsorbate optimization 2</text>\n",
       "</g>\n",
       "<!-- &#45;2460 -->\n",
       "<g id=\"node5\" class=\"node\">\n",
       "<title>&#45;2460</title>\n",
       "<polygon fill=\"none\" stroke=\"#1f62a2\" points=\"278,-252 0,-252 0,-216 278,-216 278,-252\"/>\n",
       "<text text-anchor=\"middle\" x=\"139\" y=\"-230.3\" font-family=\"Times,serif\" font-size=\"14.00\" fill=\"#000000\">HPt24&#45;H1&#45;Pt_(1, 1, 0) adsorbate optimization 3</text>\n",
       "</g>\n",
       "</g>\n",
       "</svg>\n"
      ],
      "text/plain": [
       "<graphviz.dot.Digraph at 0x7f1652dadba8>"
      ]
     },
     "metadata": {},
     "output_type": "display_data"
    },
    {
     "data": {
      "text/plain": [
       "'WF 2 ============================='"
      ]
     },
     "metadata": {},
     "output_type": "display_data"
    },
    {
     "data": {
      "image/svg+xml": [
       "<?xml version=\"1.0\" encoding=\"UTF-8\" standalone=\"no\"?>\n",
       "<!DOCTYPE svg PUBLIC \"-//W3C//DTD SVG 1.1//EN\"\n",
       " \"http://www.w3.org/Graphics/SVG/1.1/DTD/svg11.dtd\">\n",
       "<!-- Generated by graphviz version 2.40.1 (20161225.0304)\n",
       " -->\n",
       "<!-- Title: %3 Pages: 1 -->\n",
       "<svg width=\"286pt\" height=\"206pt\"\n",
       " viewBox=\"0.00 0.00 286.00 206.00\" xmlns=\"http://www.w3.org/2000/svg\" xmlns:xlink=\"http://www.w3.org/1999/xlink\">\n",
       "<g id=\"graph0\" class=\"graph\" transform=\"scale(1 1) rotate(0) translate(4 202)\">\n",
       "<title>%3</title>\n",
       "<polygon fill=\"#ffffff\" stroke=\"transparent\" points=\"-4,4 -4,-202 282,-202 282,4 -4,4\"/>\n",
       "<!-- &#45;2461 -->\n",
       "<g id=\"node1\" class=\"node\">\n",
       "<title>&#45;2461</title>\n",
       "<polygon fill=\"none\" stroke=\"#1f62a2\" points=\"235.5,-36 42.5,-36 42.5,0 235.5,0 235.5,-36\"/>\n",
       "<text text-anchor=\"middle\" x=\"139\" y=\"-14.3\" font-family=\"Times,serif\" font-size=\"14.00\" fill=\"#000000\">Pt&#45;Pt_(1, 0, 0) slab optimization</text>\n",
       "</g>\n",
       "<!-- &#45;2462 -->\n",
       "<g id=\"node2\" class=\"node\">\n",
       "<title>&#45;2462</title>\n",
       "<polygon fill=\"none\" stroke=\"#1f62a2\" points=\"278,-90 0,-90 0,-54 278,-54 278,-90\"/>\n",
       "<text text-anchor=\"middle\" x=\"139\" y=\"-68.3\" font-family=\"Times,serif\" font-size=\"14.00\" fill=\"#000000\">HPt16&#45;H1&#45;Pt_(1, 0, 0) adsorbate optimization 0</text>\n",
       "</g>\n",
       "<!-- &#45;2463 -->\n",
       "<g id=\"node3\" class=\"node\">\n",
       "<title>&#45;2463</title>\n",
       "<polygon fill=\"none\" stroke=\"#1f62a2\" points=\"278,-144 0,-144 0,-108 278,-108 278,-144\"/>\n",
       "<text text-anchor=\"middle\" x=\"139\" y=\"-122.3\" font-family=\"Times,serif\" font-size=\"14.00\" fill=\"#000000\">HPt16&#45;H1&#45;Pt_(1, 0, 0) adsorbate optimization 1</text>\n",
       "</g>\n",
       "<!-- &#45;2464 -->\n",
       "<g id=\"node4\" class=\"node\">\n",
       "<title>&#45;2464</title>\n",
       "<polygon fill=\"none\" stroke=\"#1f62a2\" points=\"278,-198 0,-198 0,-162 278,-162 278,-198\"/>\n",
       "<text text-anchor=\"middle\" x=\"139\" y=\"-176.3\" font-family=\"Times,serif\" font-size=\"14.00\" fill=\"#000000\">HPt16&#45;H1&#45;Pt_(1, 0, 0) adsorbate optimization 2</text>\n",
       "</g>\n",
       "</g>\n",
       "</svg>\n"
      ],
      "text/plain": [
       "<graphviz.dot.Digraph at 0x7f1652dadba8>"
      ]
     },
     "metadata": {},
     "output_type": "display_data"
    }
   ],
   "source": [
    "from IPython.display import display\n",
    "display(\"WF 0 =============================\")\n",
    "display(wf_to_graph(wf[0]))\n",
    "display(\"WF 1 =============================\")\n",
    "display(wf_to_graph(wf[1]))\n",
    "display(\"WF 2 =============================\")\n",
    "display(wf_to_graph(wf[2]))"
   ]
  },
  {
   "cell_type": "markdown",
   "metadata": {},
   "source": [
    "This is how you can do the requisite calculation to find the band-gap from an HSE calculation after the PBE bandstructure."
   ]
  },
  {
   "cell_type": "code",
   "execution_count": 103,
   "metadata": {},
   "outputs": [],
   "source": [
    "from atomate.vasp.workflows.presets.core import wf_bandstructure_plus_hse"
   ]
  },
  {
   "cell_type": "code",
   "execution_count": 104,
   "metadata": {},
   "outputs": [],
   "source": [
    "wf = wf_bandstructure_plus_hse(structure)"
   ]
  },
  {
   "cell_type": "code",
   "execution_count": 105,
   "metadata": {},
   "outputs": [
    {
     "data": {
      "image/svg+xml": [
       "<?xml version=\"1.0\" encoding=\"UTF-8\" standalone=\"no\"?>\n",
       "<!DOCTYPE svg PUBLIC \"-//W3C//DTD SVG 1.1//EN\"\n",
       " \"http://www.w3.org/Graphics/SVG/1.1/DTD/svg11.dtd\">\n",
       "<!-- Generated by graphviz version 2.40.1 (20161225.0304)\n",
       " -->\n",
       "<!-- Title: %3 Pages: 1 -->\n",
       "<svg width=\"506pt\" height=\"98pt\"\n",
       " viewBox=\"0.00 0.00 506.00 98.00\" xmlns=\"http://www.w3.org/2000/svg\" xmlns:xlink=\"http://www.w3.org/1999/xlink\">\n",
       "<g id=\"graph0\" class=\"graph\" transform=\"scale(1 1) rotate(0) translate(4 94)\">\n",
       "<title>%3</title>\n",
       "<polygon fill=\"#ffffff\" stroke=\"transparent\" points=\"-4,4 -4,-94 502,-94 502,4 -4,4\"/>\n",
       "<!-- &#45;2465 -->\n",
       "<g id=\"node1\" class=\"node\">\n",
       "<title>&#45;2465</title>\n",
       "<polygon fill=\"none\" stroke=\"#1f62a2\" points=\"152,-63 0,-63 0,-27 152,-27 152,-63\"/>\n",
       "<text text-anchor=\"middle\" x=\"76\" y=\"-41.3\" font-family=\"Times,serif\" font-size=\"14.00\" fill=\"#000000\">Si&#45;structure optimization</text>\n",
       "</g>\n",
       "<!-- &#45;2466 -->\n",
       "<g id=\"node2\" class=\"node\">\n",
       "<title>&#45;2466</title>\n",
       "<polygon fill=\"none\" stroke=\"#1f62a2\" points=\"249,-63 188,-63 188,-27 249,-27 249,-63\"/>\n",
       "<text text-anchor=\"middle\" x=\"218.5\" y=\"-41.3\" font-family=\"Times,serif\" font-size=\"14.00\" fill=\"#000000\">Si&#45;static</text>\n",
       "</g>\n",
       "<!-- &#45;2465&#45;&gt;&#45;2466 -->\n",
       "<g id=\"edge1\" class=\"edge\">\n",
       "<title>&#45;2465&#45;&gt;&#45;2466</title>\n",
       "<path fill=\"none\" stroke=\"#000000\" d=\"M152.2561,-45C160.9981,-45 169.6392,-45 177.6493,-45\"/>\n",
       "<polygon fill=\"#000000\" stroke=\"#000000\" points=\"177.7715,-48.5001 187.7715,-45 177.7715,-41.5001 177.7715,-48.5001\"/>\n",
       "</g>\n",
       "<!-- &#45;2467 -->\n",
       "<g id=\"node3\" class=\"node\">\n",
       "<title>&#45;2467</title>\n",
       "<polygon fill=\"none\" stroke=\"#1f62a2\" points=\"388,-90 285,-90 285,-54 388,-54 388,-90\"/>\n",
       "<text text-anchor=\"middle\" x=\"336.5\" y=\"-68.3\" font-family=\"Times,serif\" font-size=\"14.00\" fill=\"#000000\">Si&#45;nscf uniform</text>\n",
       "</g>\n",
       "<!-- &#45;2466&#45;&gt;&#45;2467 -->\n",
       "<g id=\"edge2\" class=\"edge\">\n",
       "<title>&#45;2466&#45;&gt;&#45;2467</title>\n",
       "<path fill=\"none\" stroke=\"#000000\" d=\"M249.1951,-52.0234C257.2188,-53.8594 266.1578,-55.9047 275.1694,-57.9667\"/>\n",
       "<polygon fill=\"#000000\" stroke=\"#000000\" points=\"274.4078,-61.3829 284.9366,-60.2016 275.9692,-54.5592 274.4078,-61.3829\"/>\n",
       "</g>\n",
       "<!-- &#45;2468 -->\n",
       "<g id=\"node4\" class=\"node\">\n",
       "<title>&#45;2468</title>\n",
       "<polygon fill=\"none\" stroke=\"#1f62a2\" points=\"376,-36 297,-36 297,0 376,0 376,-36\"/>\n",
       "<text text-anchor=\"middle\" x=\"336.5\" y=\"-14.3\" font-family=\"Times,serif\" font-size=\"14.00\" fill=\"#000000\">Si&#45;nscf line</text>\n",
       "</g>\n",
       "<!-- &#45;2466&#45;&gt;&#45;2468 -->\n",
       "<g id=\"edge3\" class=\"edge\">\n",
       "<title>&#45;2466&#45;&gt;&#45;2468</title>\n",
       "<path fill=\"none\" stroke=\"#000000\" d=\"M249.1951,-37.9766C260.6182,-35.3628 273.8965,-32.3245 286.5983,-29.4182\"/>\n",
       "<polygon fill=\"#000000\" stroke=\"#000000\" points=\"287.6475,-32.7687 296.6149,-27.1263 286.0861,-25.945 287.6475,-32.7687\"/>\n",
       "</g>\n",
       "<!-- &#45;2469 -->\n",
       "<g id=\"node5\" class=\"node\">\n",
       "<title>&#45;2469</title>\n",
       "<polygon fill=\"none\" stroke=\"#1f62a2\" points=\"498,-36 424,-36 424,0 498,0 498,-36\"/>\n",
       "<text text-anchor=\"middle\" x=\"461\" y=\"-14.3\" font-family=\"Times,serif\" font-size=\"14.00\" fill=\"#000000\">Si&#45;hse gap</text>\n",
       "</g>\n",
       "<!-- &#45;2468&#45;&gt;&#45;2469 -->\n",
       "<g id=\"edge4\" class=\"edge\">\n",
       "<title>&#45;2468&#45;&gt;&#45;2469</title>\n",
       "<path fill=\"none\" stroke=\"#000000\" d=\"M376.2349,-18C388.1326,-18 401.2984,-18 413.6356,-18\"/>\n",
       "<polygon fill=\"#000000\" stroke=\"#000000\" points=\"413.7579,-21.5001 423.7579,-18 413.7579,-14.5001 413.7579,-21.5001\"/>\n",
       "</g>\n",
       "</g>\n",
       "</svg>\n"
      ],
      "text/plain": [
       "<graphviz.dot.Digraph at 0x7f1652dada90>"
      ]
     },
     "execution_count": 105,
     "metadata": {},
     "output_type": "execute_result"
    }
   ],
   "source": [
    "wf_to_graph(wf)"
   ]
  },
  {
   "cell_type": "markdown",
   "metadata": {},
   "source": [
    "There's also support for workflows in FEFF and QChem."
   ]
  },
  {
   "cell_type": "code",
   "execution_count": 106,
   "metadata": {},
   "outputs": [],
   "source": [
    "from atomate.feff.workflows.core import get_wf_xas"
   ]
  },
  {
   "cell_type": "code",
   "execution_count": 107,
   "metadata": {},
   "outputs": [
    {
     "data": {
      "image/svg+xml": [
       "<?xml version=\"1.0\" encoding=\"UTF-8\" standalone=\"no\"?>\n",
       "<!DOCTYPE svg PUBLIC \"-//W3C//DTD SVG 1.1//EN\"\n",
       " \"http://www.w3.org/Graphics/SVG/1.1/DTD/svg11.dtd\">\n",
       "<!-- Generated by graphviz version 2.40.1 (20161225.0304)\n",
       " -->\n",
       "<!-- Title: %3 Pages: 1 -->\n",
       "<svg width=\"111pt\" height=\"44pt\"\n",
       " viewBox=\"0.00 0.00 111.00 44.00\" xmlns=\"http://www.w3.org/2000/svg\" xmlns:xlink=\"http://www.w3.org/1999/xlink\">\n",
       "<g id=\"graph0\" class=\"graph\" transform=\"scale(1 1) rotate(0) translate(4 40)\">\n",
       "<title>%3</title>\n",
       "<polygon fill=\"#ffffff\" stroke=\"transparent\" points=\"-4,4 -4,-40 107,-40 107,4 -4,4\"/>\n",
       "<!-- &#45;2470 -->\n",
       "<g id=\"node1\" class=\"node\">\n",
       "<title>&#45;2470</title>\n",
       "<polygon fill=\"none\" stroke=\"#1f62a2\" points=\"103,-36 0,-36 0,0 103,0 103,-36\"/>\n",
       "<text text-anchor=\"middle\" x=\"51.5\" y=\"-14.3\" font-family=\"Times,serif\" font-size=\"14.00\" fill=\"#000000\">Si&#45;XANES&#45;K&#45;0</text>\n",
       "</g>\n",
       "</g>\n",
       "</svg>\n"
      ],
      "text/plain": [
       "<graphviz.dot.Digraph at 0x7f1652525320>"
      ]
     },
     "execution_count": 107,
     "metadata": {},
     "output_type": "execute_result"
    }
   ],
   "source": [
    "wf = get_wf_xas(\"Si\", structure)\n",
    "wf_to_graph(wf)"
   ]
  },
  {
   "cell_type": "code",
   "execution_count": 108,
   "metadata": {},
   "outputs": [
    {
     "data": {
      "image/svg+xml": [
       "<?xml version=\"1.0\" encoding=\"UTF-8\" standalone=\"no\"?>\n",
       "<!DOCTYPE svg PUBLIC \"-//W3C//DTD SVG 1.1//EN\"\n",
       " \"http://www.w3.org/Graphics/SVG/1.1/DTD/svg11.dtd\">\n",
       "<!-- Generated by graphviz version 2.40.1 (20161225.0304)\n",
       " -->\n",
       "<!-- Title: %3 Pages: 1 -->\n",
       "<svg width=\"562pt\" height=\"44pt\"\n",
       " viewBox=\"0.00 0.00 562.00 44.00\" xmlns=\"http://www.w3.org/2000/svg\" xmlns:xlink=\"http://www.w3.org/1999/xlink\">\n",
       "<g id=\"graph0\" class=\"graph\" transform=\"scale(1 1) rotate(0) translate(4 40)\">\n",
       "<title>%3</title>\n",
       "<polygon fill=\"#ffffff\" stroke=\"transparent\" points=\"-4,4 -4,-40 558,-40 558,4 -4,4\"/>\n",
       "<!-- 0 -->\n",
       "<g id=\"node1\" class=\"node\">\n",
       "<title>0</title>\n",
       "<polygon fill=\"none\" stroke=\"#000000\" points=\"132,-36 0,-36 0,0 132,0 132,-36\"/>\n",
       "<text text-anchor=\"middle\" x=\"66\" y=\"-14.3\" font-family=\"Times,serif\" font-size=\"14.00\" fill=\"#000000\">WriteFeffFromIOSet</text>\n",
       "</g>\n",
       "<!-- 1 -->\n",
       "<g id=\"node2\" class=\"node\">\n",
       "<title>1</title>\n",
       "<polygon fill=\"none\" stroke=\"#000000\" points=\"263,-36 168,-36 168,0 263,0 263,-36\"/>\n",
       "<text text-anchor=\"middle\" x=\"215.5\" y=\"-14.3\" font-family=\"Times,serif\" font-size=\"14.00\" fill=\"#000000\">RunFeffDirect</text>\n",
       "</g>\n",
       "<!-- 0&#45;&gt;1 -->\n",
       "<g id=\"edge1\" class=\"edge\">\n",
       "<title>0&#45;&gt;1</title>\n",
       "<path fill=\"none\" stroke=\"#000000\" d=\"M132.0081,-18C140.572,-18 149.2911,-18 157.7075,-18\"/>\n",
       "<polygon fill=\"#000000\" stroke=\"#000000\" points=\"157.7927,-21.5001 167.7927,-18 157.7926,-14.5001 157.7927,-21.5001\"/>\n",
       "</g>\n",
       "<!-- 2 -->\n",
       "<g id=\"node3\" class=\"node\">\n",
       "<title>2</title>\n",
       "<polygon fill=\"none\" stroke=\"#000000\" points=\"391,-36 299,-36 299,0 391,0 391,-36\"/>\n",
       "<text text-anchor=\"middle\" x=\"345\" y=\"-14.3\" font-family=\"Times,serif\" font-size=\"14.00\" fill=\"#000000\">PassCalcLocs</text>\n",
       "</g>\n",
       "<!-- 1&#45;&gt;2 -->\n",
       "<g id=\"edge2\" class=\"edge\">\n",
       "<title>1&#45;&gt;2</title>\n",
       "<path fill=\"none\" stroke=\"#000000\" d=\"M263.3531,-18C271.5488,-18 280.1328,-18 288.5281,-18\"/>\n",
       "<polygon fill=\"#000000\" stroke=\"#000000\" points=\"288.6362,-21.5001 298.6361,-18 288.6361,-14.5001 288.6362,-21.5001\"/>\n",
       "</g>\n",
       "<!-- 3 -->\n",
       "<g id=\"node4\" class=\"node\">\n",
       "<title>3</title>\n",
       "<polygon fill=\"none\" stroke=\"#000000\" points=\"554,-36 427,-36 427,0 554,0 554,-36\"/>\n",
       "<text text-anchor=\"middle\" x=\"490.5\" y=\"-14.3\" font-family=\"Times,serif\" font-size=\"14.00\" fill=\"#000000\">SpectrumToDbTask</text>\n",
       "</g>\n",
       "<!-- 2&#45;&gt;3 -->\n",
       "<g id=\"edge3\" class=\"edge\">\n",
       "<title>2&#45;&gt;3</title>\n",
       "<path fill=\"none\" stroke=\"#000000\" d=\"M391.0371,-18C399.2352,-18 407.9588,-18 416.7027,-18\"/>\n",
       "<polygon fill=\"#000000\" stroke=\"#000000\" points=\"416.9462,-21.5001 426.9462,-18 416.9461,-14.5001 416.9462,-21.5001\"/>\n",
       "</g>\n",
       "</g>\n",
       "</svg>\n"
      ],
      "text/plain": [
       "<graphviz.dot.Digraph at 0x7f1652dbc278>"
      ]
     },
     "execution_count": 108,
     "metadata": {},
     "output_type": "execute_result"
    }
   ],
   "source": [
    "wf_to_graph(wf.fws[0])"
   ]
  },
  {
   "cell_type": "code",
   "execution_count": 109,
   "metadata": {},
   "outputs": [],
   "source": [
    "#from atomate.qchem.workflows.base.double_FF_opt import get_wf_double_FF_opt\n",
    "#from pymatgen import Molecule\n",
    "#molecule = Molecule(\"CO\", [[0, 0, 0], [0, 0, 1.23]])\n",
    "#wf = get_wf_double_FF_opt(molecule, 0.5)\n",
    "#wf_to_graph(wf)\n",
    "#wf_to_graph(wf.fws[0])"
   ]
  },
  {
   "cell_type": "markdown",
   "metadata": {},
   "source": [
    "## Analyzing workflow results"
   ]
  },
  {
   "cell_type": "markdown",
   "metadata": {},
   "source": [
    "Our final example for atomate will take a set of tasks from our database and construct a phase diagram."
   ]
  },
  {
   "cell_type": "code",
   "execution_count": 110,
   "metadata": {},
   "outputs": [
    {
     "name": "stdout",
     "output_type": "stream",
     "text": [
      "2019-07-17 18:27:17,469 INFO Added a workflow. id_map: {-2474: 4, -2473: 5, -2472: 6, -2471: 7}\n",
      "2019-07-17 18:27:17,486 INFO Added a workflow. id_map: {-2478: 8, -2477: 9, -2476: 10, -2475: 11}\n",
      "2019-07-17 18:27:17,533 INFO Added a workflow. id_map: {-2482: 12, -2481: 13, -2480: 14, -2479: 15}\n",
      "2019-07-17 18:27:17,549 INFO Added a workflow. id_map: {-2486: 16, -2485: 17, -2484: 18, -2483: 19}\n",
      "2019-07-17 18:27:17,572 INFO Added a workflow. id_map: {-2490: 20, -2489: 21, -2488: 22, -2487: 23}\n",
      "2019-07-17 18:27:17,584 INFO Added a workflow. id_map: {-2494: 24, -2493: 25, -2492: 26, -2491: 27}\n",
      "2019-07-17 18:27:17,595 INFO Added a workflow. id_map: {-2498: 28, -2497: 29, -2496: 30, -2495: 31}\n",
      "2019-07-17 18:27:17,605 INFO Added a workflow. id_map: {-2502: 32, -2501: 33, -2500: 34, -2499: 35}\n",
      "2019-07-17 18:27:17,615 INFO Added a workflow. id_map: {-2506: 36, -2505: 37, -2504: 38, -2503: 39}\n",
      "2019-07-17 18:27:17,625 INFO Added a workflow. id_map: {-2510: 40, -2509: 41, -2508: 42, -2507: 43}\n",
      "2019-07-17 18:27:17,636 INFO Added a workflow. id_map: {-2514: 44, -2513: 45, -2512: 46, -2511: 47}\n",
      "2019-07-17 18:27:17,645 INFO Added a workflow. id_map: {-2518: 48, -2517: 49, -2516: 50, -2515: 51}\n"
     ]
    }
   ],
   "source": [
    "structures = mpr.get_structures(\"Al-Cr\")\n",
    "structures += mpr.get_structures(\"Al\")\n",
    "structures += mpr.get_structures(\"Cr\")\n",
    "for structure in structures:\n",
    "    wf = get_wf(structure, \"bandstructure.yaml\")\n",
    "    lpad.add_wf(wf)"
   ]
  },
  {
   "cell_type": "code",
   "execution_count": 111,
   "metadata": {},
   "outputs": [],
   "source": [
    "from maggma.stores import MongoStore"
   ]
  },
  {
   "cell_type": "code",
   "execution_count": null,
   "metadata": {},
   "outputs": [],
   "source": [
    "lpad."
   ]
  },
  {
   "cell_type": "code",
   "execution_count": 122,
   "metadata": {},
   "outputs": [],
   "source": [
    "tasks = MongoStore(database=\"mp_workshop\", collection_name=\"tasks\")"
   ]
  },
  {
   "cell_type": "code",
   "execution_count": 123,
   "metadata": {},
   "outputs": [],
   "source": [
    "tasks.connect()"
   ]
  },
  {
   "cell_type": "code",
   "execution_count": 124,
   "metadata": {},
   "outputs": [],
   "source": [
    "doc = tasks.query_one()"
   ]
  },
  {
   "cell_type": "code",
   "execution_count": 125,
   "metadata": {},
   "outputs": [
    {
     "ename": "AttributeError",
     "evalue": "'NoneType' object has no attribute 'keys'",
     "output_type": "error",
     "traceback": [
      "\u001b[0;31m---------------------------------------------------------------------------\u001b[0m",
      "\u001b[0;31mAttributeError\u001b[0m                            Traceback (most recent call last)",
      "\u001b[0;32m<ipython-input-125-9c88b38c95e1>\u001b[0m in \u001b[0;36m<module>\u001b[0;34m\u001b[0m\n\u001b[0;32m----> 1\u001b[0;31m \u001b[0mdoc\u001b[0m\u001b[0;34m.\u001b[0m\u001b[0mkeys\u001b[0m\u001b[0;34m(\u001b[0m\u001b[0;34m)\u001b[0m\u001b[0;34m\u001b[0m\u001b[0;34m\u001b[0m\u001b[0m\n\u001b[0m",
      "\u001b[0;31mAttributeError\u001b[0m: 'NoneType' object has no attribute 'keys'"
     ]
    }
   ],
   "source": [
    "doc.keys()"
   ]
  },
  {
   "cell_type": "code",
   "execution_count": 47,
   "metadata": {},
   "outputs": [
    {
     "data": {
      "text/plain": [
       "'Al'"
      ]
     },
     "execution_count": 47,
     "metadata": {},
     "output_type": "execute_result"
    }
   ],
   "source": [
    "doc['chemsys']"
   ]
  },
  {
   "cell_type": "code",
   "execution_count": 48,
   "metadata": {
    "collapsed": true
   },
   "outputs": [],
   "source": [
    "doc = tasks.query_one(criteria={\"chemsys\": \"Al\"}, properties=['output'])"
   ]
  },
  {
   "cell_type": "code",
   "execution_count": 49,
   "metadata": {},
   "outputs": [
    {
     "data": {
      "text/plain": [
       "<pymongo.cursor.Cursor at 0x7f561c2342e8>"
      ]
     },
     "execution_count": 49,
     "metadata": {},
     "output_type": "execute_result"
    }
   ],
   "source": [
    "docs = tasks.query(criteria={\"chemsys\": \"Al-Cr\", \n",
    "                             \"task_label\": \"structure optimization\"},\n",
    "                   properties=['output', 'formula_pretty'])\n",
    "docs"
   ]
  },
  {
   "cell_type": "code",
   "execution_count": 50,
   "metadata": {
    "collapsed": true
   },
   "outputs": [],
   "source": [
    "docs = list(docs)"
   ]
  },
  {
   "cell_type": "code",
   "execution_count": 51,
   "metadata": {},
   "outputs": [
    {
     "data": {
      "text/plain": [
       "['AlCr2', 'Al8Cr5', 'Al45Cr7', 'Al3Cr']"
      ]
     },
     "execution_count": 51,
     "metadata": {},
     "output_type": "execute_result"
    }
   ],
   "source": [
    "[d['formula_pretty'] for d in docs]"
   ]
  },
  {
   "cell_type": "code",
   "execution_count": 52,
   "metadata": {
    "collapsed": true
   },
   "outputs": [],
   "source": [
    "fe_cr_tasks = []\n",
    "for chemsys in ['Al', 'Cr', 'Al-Cr']:\n",
    "    task_list = tasks.query(criteria={\"chemsys\": chemsys,\n",
    "                                      \"task_label\": \"structure optimization\"},\n",
    "                            properties=[\"output\", \"composition_unit_cell\"])\n",
    "    fe_cr_tasks.extend(list(task_list))"
   ]
  },
  {
   "cell_type": "code",
   "execution_count": 53,
   "metadata": {},
   "outputs": [
    {
     "data": {
      "text/plain": [
       "16"
      ]
     },
     "execution_count": 53,
     "metadata": {},
     "output_type": "execute_result"
    }
   ],
   "source": [
    "len(fe_cr_tasks)"
   ]
  },
  {
   "cell_type": "code",
   "execution_count": 54,
   "metadata": {
    "collapsed": true
   },
   "outputs": [],
   "source": [
    "from pymatgen.entries.computed_entries import ComputedEntry\n",
    "from pymatgen import Composition"
   ]
  },
  {
   "cell_type": "code",
   "execution_count": 55,
   "metadata": {
    "collapsed": true
   },
   "outputs": [],
   "source": [
    "entries = []\n",
    "for task in fe_cr_tasks:\n",
    "    energy = task['output']['energy']\n",
    "    composition = Composition.from_dict(task['composition_unit_cell'])\n",
    "    entry = ComputedEntry(composition, energy)\n",
    "    entries.append(entry)"
   ]
  },
  {
   "cell_type": "code",
   "execution_count": 56,
   "metadata": {
    "collapsed": true
   },
   "outputs": [],
   "source": [
    "from pymatgen.analysis.phase_diagram import PhaseDiagram, PDPlotter"
   ]
  },
  {
   "cell_type": "code",
   "execution_count": 57,
   "metadata": {
    "collapsed": true
   },
   "outputs": [],
   "source": [
    "pd = PhaseDiagram(entries)"
   ]
  },
  {
   "cell_type": "code",
   "execution_count": 58,
   "metadata": {
    "collapsed": true
   },
   "outputs": [],
   "source": [
    "plotter = PDPlotter(pd)"
   ]
  },
  {
   "cell_type": "code",
   "execution_count": 59,
   "metadata": {},
   "outputs": [
    {
     "data": {
      "image/png": "[encoded data removed]",
      "text/plain": [
       "<Figure size 576x432 with 1 Axes>"
      ]
     },
     "metadata": {},
     "output_type": "display_data"
    }
   ],
   "source": [
    "plotter.show()"
   ]
  },
  {
   "cell_type": "code",
   "execution_count": 60,
   "metadata": {},
   "outputs": [
    {
     "data": {
      "image/png": "[encoded data removed]",
      "text/plain": [
       "<Figure size 576x432 with 1 Axes>"
      ]
     },
     "metadata": {},
     "output_type": "display_data"
    }
   ],
   "source": [
    "plotter.show_unstable = True\n",
    "plotter.show()"
   ]
  }
 ],
 "metadata": {
  "kernelspec": {
   "display_name": "Python 3",
   "language": "python",
   "name": "python3"
  },
  "language_info": {
   "codemirror_mode": {
    "name": "ipython",
    "version": 3
   },
   "file_extension": ".py",
   "mimetype": "text/x-python",
   "name": "python",
   "nbconvert_exporter": "python",
   "pygments_lexer": "ipython3",
   "version": "3.7.3"
  },
  "widgets": {
   "state": {
    "7c4d41ed58bb4e4cb1dd9d4bc5e0a15d": {
     "views": [
      {
       "cell_index": 5
      }
     ]
    }
   },
   "version": "1.2.0"
  }
 },
 "nbformat": 4,
 "nbformat_minor": 2
}
