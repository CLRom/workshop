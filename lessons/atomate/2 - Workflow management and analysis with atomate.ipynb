{
 "cells": [
  {
   "cell_type": "markdown",
   "metadata": {},
   "source": [
    "# 2 - Workflow management with atomate"
   ]
  },
  {
   "cell_type": "markdown",
   "metadata": {},
   "source": [
    "In this lesson we cover a few more advanced features of the atomate software package.  More specifically we'll go over an example that includes parents and children, talk more about where you can find preset workflows, and cover a basic example of analyzing workflow-generated materials data."
   ]
  },
  {
   "cell_type": "code",
   "execution_count": 1,
   "metadata": {
    "collapsed": false
   },
   "outputs": [
    {
     "name": "stdout",
     "output_type": "stream",
     "text": [
      "Echo Test: MP Workshop\n"
     ]
    }
   ],
   "source": [
    "from mp_workshop.atomate import wf_to_graph, use_fake_vasp_workshop\n",
    "from tqdm import tqdm_notebook"
   ]
  },
  {
   "cell_type": "markdown",
   "metadata": {},
   "source": [
    "## Why use atomate?"
   ]
  },
  {
   "cell_type": "markdown",
   "metadata": {},
   "source": [
    "Just to motivate this lesson a bit more, I'd like to share an example that illustrates the value of atomate.  Let's say you wanted to calculate the bandstructure of every polymorph of SiO$_2$.  Normally, you'd need to get all of the cifs from MP or the ICSD, construct the POSCARs by hand, or use some of your own infrastructure to convert them, run the calculations and manage the directory structure, and aggregate the results in a way that allowed you to analyze them together.  In atomate, this is achieved in a simple, five line snippet:"
   ]
  },
  {
   "cell_type": "code",
   "execution_count": 2,
   "metadata": {
    "collapsed": false
   },
   "outputs": [
    {
     "name": "stdout",
     "output_type": "stream",
     "text": [
      "2018-08-10 05:47:03,269 INFO Performing db tune-up\n",
      "2018-08-10 05:47:03,277 INFO LaunchPad was RESET.\n",
      "2018-08-10 05:47:06,553 INFO Added a workflow. id_map: {-1: 4, -4: 1, -3: 2, -2: 3}\n",
      "2018-08-10 05:47:06,569 INFO Added a workflow. id_map: {-8: 5, -7: 6, -6: 7, -5: 8}\n",
      "2018-08-10 05:47:06,578 INFO Added a workflow. id_map: {-12: 9, -11: 10, -10: 11, -9: 12}\n",
      "2018-08-10 05:47:06,595 INFO Added a workflow. id_map: {-16: 13, -15: 14, -14: 15, -13: 16}\n",
      "2018-08-10 05:47:06,661 INFO Added a workflow. id_map: {-20: 17, -19: 18, -18: 19, -17: 20}\n",
      "2018-08-10 05:47:06,702 INFO Added a workflow. id_map: {-24: 21, -23: 22, -22: 23, -21: 24}\n",
      "2018-08-10 05:47:06,716 INFO Added a workflow. id_map: {-28: 25, -27: 26, -26: 27, -25: 28}\n",
      "2018-08-10 05:47:06,804 INFO Added a workflow. id_map: {-32: 29, -31: 30, -30: 31, -29: 32}\n",
      "2018-08-10 05:47:06,904 INFO Added a workflow. id_map: {-36: 33, -35: 34, -34: 35, -33: 36}\n",
      "2018-08-10 05:47:06,953 INFO Added a workflow. id_map: {-40: 37, -39: 38, -38: 39, -37: 40}\n",
      "2018-08-10 05:47:07,024 INFO Added a workflow. id_map: {-44: 41, -43: 42, -42: 43, -41: 44}\n",
      "2018-08-10 05:47:07,126 INFO Added a workflow. id_map: {-48: 45, -47: 46, -46: 47, -45: 48}\n",
      "2018-08-10 05:47:07,198 INFO Added a workflow. id_map: {-52: 49, -51: 50, -50: 51, -49: 52}\n",
      "2018-08-10 05:47:07,260 INFO Added a workflow. id_map: {-56: 53, -55: 54, -54: 55, -53: 56}\n",
      "2018-08-10 05:47:07,299 INFO Added a workflow. id_map: {-60: 57, -59: 58, -58: 59, -57: 60}\n",
      "2018-08-10 05:47:07,322 INFO Added a workflow. id_map: {-64: 61, -63: 62, -62: 63, -61: 64}\n",
      "2018-08-10 05:47:07,431 INFO Added a workflow. id_map: {-68: 65, -67: 66, -66: 67, -65: 68}\n",
      "2018-08-10 05:47:07,554 INFO Added a workflow. id_map: {-72: 69, -71: 70, -70: 71, -69: 72}\n",
      "2018-08-10 05:47:07,691 INFO Added a workflow. id_map: {-76: 73, -75: 74, -74: 75, -73: 76}\n",
      "2018-08-10 05:47:07,757 INFO Added a workflow. id_map: {-80: 77, -79: 78, -78: 79, -77: 80}\n",
      "2018-08-10 05:47:07,835 INFO Added a workflow. id_map: {-84: 81, -83: 82, -82: 83, -81: 84}\n",
      "2018-08-10 05:47:07,969 INFO Added a workflow. id_map: {-88: 85, -87: 86, -86: 87, -85: 88}\n",
      "2018-08-10 05:47:08,064 INFO Added a workflow. id_map: {-92: 89, -91: 90, -90: 91, -89: 92}\n",
      "2018-08-10 05:47:08,090 INFO Added a workflow. id_map: {-96: 93, -95: 94, -94: 95, -93: 96}\n",
      "2018-08-10 05:47:08,132 INFO Added a workflow. id_map: {-100: 97, -99: 98, -98: 99, -97: 100}\n",
      "2018-08-10 05:47:08,151 INFO Added a workflow. id_map: {-104: 101, -103: 102, -102: 103, -101: 104}\n",
      "2018-08-10 05:47:08,171 INFO Added a workflow. id_map: {-108: 105, -107: 106, -106: 107, -105: 108}\n",
      "2018-08-10 05:47:08,266 INFO Added a workflow. id_map: {-112: 109, -111: 110, -110: 111, -109: 112}\n",
      "2018-08-10 05:47:08,419 INFO Added a workflow. id_map: {-116: 113, -115: 114, -114: 115, -113: 116}\n",
      "2018-08-10 05:47:08,460 INFO Added a workflow. id_map: {-120: 117, -119: 118, -118: 119, -117: 120}\n",
      "2018-08-10 05:47:08,561 INFO Added a workflow. id_map: {-124: 121, -123: 122, -122: 123, -121: 124}\n",
      "2018-08-10 05:47:08,671 INFO Added a workflow. id_map: {-128: 125, -127: 126, -126: 127, -125: 128}\n",
      "2018-08-10 05:47:08,757 INFO Added a workflow. id_map: {-132: 129, -131: 130, -130: 131, -129: 132}\n",
      "2018-08-10 05:47:08,860 INFO Added a workflow. id_map: {-136: 133, -135: 134, -134: 135, -133: 136}\n",
      "2018-08-10 05:47:08,963 INFO Added a workflow. id_map: {-140: 137, -139: 138, -138: 139, -137: 140}\n",
      "2018-08-10 05:47:09,128 INFO Added a workflow. id_map: {-144: 141, -143: 142, -142: 143, -141: 144}\n",
      "2018-08-10 05:47:09,451 INFO Added a workflow. id_map: {-148: 145, -147: 146, -146: 147, -145: 148}\n",
      "2018-08-10 05:47:09,599 INFO Added a workflow. id_map: {-152: 149, -151: 150, -150: 151, -149: 152}\n",
      "2018-08-10 05:47:09,670 INFO Added a workflow. id_map: {-156: 153, -155: 154, -154: 155, -153: 156}\n",
      "2018-08-10 05:47:09,854 INFO Added a workflow. id_map: {-160: 157, -159: 158, -158: 159, -157: 160}\n",
      "2018-08-10 05:47:09,923 INFO Added a workflow. id_map: {-164: 161, -163: 162, -162: 163, -161: 164}\n",
      "2018-08-10 05:47:09,950 INFO Added a workflow. id_map: {-168: 165, -167: 166, -166: 167, -165: 168}\n",
      "2018-08-10 05:47:10,125 INFO Added a workflow. id_map: {-172: 169, -171: 170, -170: 171, -169: 172}\n",
      "2018-08-10 05:47:10,300 INFO Added a workflow. id_map: {-176: 173, -175: 174, -174: 175, -173: 176}\n",
      "2018-08-10 05:47:10,462 INFO Added a workflow. id_map: {-180: 177, -179: 178, -178: 179, -177: 180}\n",
      "2018-08-10 05:47:10,594 INFO Added a workflow. id_map: {-184: 181, -183: 182, -182: 183, -181: 184}\n",
      "2018-08-10 05:47:10,721 INFO Added a workflow. id_map: {-188: 185, -187: 186, -186: 187, -185: 188}\n",
      "2018-08-10 05:47:10,882 INFO Added a workflow. id_map: {-192: 189, -191: 190, -190: 191, -189: 192}\n",
      "2018-08-10 05:47:11,052 INFO Added a workflow. id_map: {-196: 193, -195: 194, -194: 195, -193: 196}\n",
      "2018-08-10 05:47:11,221 INFO Added a workflow. id_map: {-200: 197, -199: 198, -198: 199, -197: 200}\n",
      "2018-08-10 05:47:11,323 INFO Added a workflow. id_map: {-204: 201, -203: 202, -202: 203, -201: 204}\n",
      "2018-08-10 05:47:11,354 INFO Added a workflow. id_map: {-208: 205, -207: 206, -206: 207, -205: 208}\n",
      "2018-08-10 05:47:11,386 INFO Added a workflow. id_map: {-212: 209, -211: 210, -210: 211, -209: 212}\n",
      "2018-08-10 05:47:11,409 INFO Added a workflow. id_map: {-216: 213, -215: 214, -214: 215, -213: 216}\n",
      "2018-08-10 05:47:11,433 INFO Added a workflow. id_map: {-220: 217, -219: 218, -218: 219, -217: 220}\n",
      "2018-08-10 05:47:11,484 INFO Added a workflow. id_map: {-224: 221, -223: 222, -222: 223, -221: 224}\n",
      "2018-08-10 05:47:11,553 INFO Added a workflow. id_map: {-228: 225, -227: 226, -226: 227, -225: 228}\n",
      "2018-08-10 05:47:11,589 INFO Added a workflow. id_map: {-232: 229, -231: 230, -230: 231, -229: 232}\n",
      "2018-08-10 05:47:11,636 INFO Added a workflow. id_map: {-236: 233, -235: 234, -234: 235, -233: 236}\n",
      "2018-08-10 05:47:11,684 INFO Added a workflow. id_map: {-240: 237, -239: 238, -238: 239, -237: 240}\n",
      "2018-08-10 05:47:11,724 INFO Added a workflow. id_map: {-244: 241, -243: 242, -242: 243, -241: 244}\n",
      "2018-08-10 05:47:11,740 INFO Added a workflow. id_map: {-248: 245, -247: 246, -246: 247, -245: 248}\n",
      "2018-08-10 05:47:11,800 INFO Added a workflow. id_map: {-252: 249, -251: 250, -250: 251, -249: 252}\n",
      "2018-08-10 05:47:11,926 INFO Added a workflow. id_map: {-256: 253, -255: 254, -254: 255, -253: 256}\n",
      "2018-08-10 05:47:11,974 INFO Added a workflow. id_map: {-260: 257, -259: 258, -258: 259, -257: 260}\n",
      "2018-08-10 05:47:12,015 INFO Added a workflow. id_map: {-264: 261, -263: 262, -262: 263, -261: 264}\n",
      "2018-08-10 05:47:12,040 INFO Added a workflow. id_map: {-268: 265, -267: 266, -266: 267, -265: 268}\n",
      "2018-08-10 05:47:12,055 INFO Added a workflow. id_map: {-272: 269, -271: 270, -270: 271, -269: 272}\n",
      "2018-08-10 05:47:12,077 INFO Added a workflow. id_map: {-276: 273, -275: 274, -274: 275, -273: 276}\n",
      "2018-08-10 05:47:12,116 INFO Added a workflow. id_map: {-280: 277, -279: 278, -278: 279, -277: 280}\n",
      "2018-08-10 05:47:12,192 INFO Added a workflow. id_map: {-284: 281, -283: 282, -282: 283, -281: 284}\n",
      "2018-08-10 05:47:12,206 INFO Added a workflow. id_map: {-288: 285, -287: 286, -286: 287, -285: 288}\n",
      "2018-08-10 05:47:12,219 INFO Added a workflow. id_map: {-292: 289, -291: 290, -290: 291, -289: 292}\n",
      "2018-08-10 05:47:12,288 INFO Added a workflow. id_map: {-296: 293, -295: 294, -294: 295, -293: 296}\n",
      "2018-08-10 05:47:12,429 INFO Added a workflow. id_map: {-300: 297, -299: 298, -298: 299, -297: 300}\n",
      "2018-08-10 05:47:12,453 INFO Added a workflow. id_map: {-304: 301, -303: 302, -302: 303, -301: 304}\n",
      "2018-08-10 05:47:12,588 INFO Added a workflow. id_map: {-308: 305, -307: 306, -306: 307, -305: 308}\n",
      "2018-08-10 05:47:12,629 INFO Added a workflow. id_map: {-312: 309, -311: 310, -310: 311, -309: 312}\n",
      "2018-08-10 05:47:12,659 INFO Added a workflow. id_map: {-316: 313, -315: 314, -314: 315, -313: 316}\n",
      "2018-08-10 05:47:12,682 INFO Added a workflow. id_map: {-320: 317, -319: 318, -318: 319, -317: 320}\n",
      "2018-08-10 05:47:12,705 INFO Added a workflow. id_map: {-324: 321, -323: 322, -322: 323, -321: 324}\n",
      "2018-08-10 05:47:12,757 INFO Added a workflow. id_map: {-328: 325, -327: 326, -326: 327, -325: 328}\n",
      "2018-08-10 05:47:12,873 INFO Added a workflow. id_map: {-332: 329, -331: 330, -330: 331, -329: 332}\n",
      "2018-08-10 05:47:12,958 INFO Added a workflow. id_map: {-336: 333, -335: 334, -334: 335, -333: 336}\n",
      "2018-08-10 05:47:13,221 INFO Added a workflow. id_map: {-340: 337, -339: 338, -338: 339, -337: 340}\n",
      "2018-08-10 05:47:13,345 INFO Added a workflow. id_map: {-344: 341, -343: 342, -342: 343, -341: 344}\n",
      "2018-08-10 05:47:13,397 INFO Added a workflow. id_map: {-348: 345, -347: 346, -346: 347, -345: 348}\n",
      "2018-08-10 05:47:13,414 INFO Added a workflow. id_map: {-352: 349, -351: 350, -350: 351, -349: 352}\n",
      "2018-08-10 05:47:13,454 INFO Added a workflow. id_map: {-356: 353, -355: 354, -354: 355, -353: 356}\n",
      "2018-08-10 05:47:13,469 INFO Added a workflow. id_map: {-360: 357, -359: 358, -358: 359, -357: 360}\n",
      "2018-08-10 05:47:13,573 INFO Added a workflow. id_map: {-364: 361, -363: 362, -362: 363, -361: 364}\n",
      "2018-08-10 05:47:13,631 INFO Added a workflow. id_map: {-368: 365, -367: 366, -366: 367, -365: 368}\n",
      "2018-08-10 05:47:13,644 INFO Added a workflow. id_map: {-372: 369, -371: 370, -370: 371, -369: 372}\n",
      "2018-08-10 05:47:13,701 INFO Added a workflow. id_map: {-376: 373, -375: 374, -374: 375, -373: 376}\n",
      "2018-08-10 05:47:13,725 INFO Added a workflow. id_map: {-380: 377, -379: 378, -378: 379, -377: 380}\n",
      "2018-08-10 05:47:13,757 INFO Added a workflow. id_map: {-384: 381, -383: 382, -382: 383, -381: 384}\n",
      "2018-08-10 05:47:13,772 INFO Added a workflow. id_map: {-388: 385, -387: 386, -386: 387, -385: 388}\n",
      "2018-08-10 05:47:13,787 INFO Added a workflow. id_map: {-392: 389, -391: 390, -390: 391, -389: 392}\n",
      "2018-08-10 05:47:13,858 INFO Added a workflow. id_map: {-396: 393, -395: 394, -394: 395, -393: 396}\n",
      "2018-08-10 05:47:13,914 INFO Added a workflow. id_map: {-400: 397, -399: 398, -398: 399, -397: 400}\n",
      "2018-08-10 05:47:13,942 INFO Added a workflow. id_map: {-404: 401, -403: 402, -402: 403, -401: 404}\n",
      "2018-08-10 05:47:14,012 INFO Added a workflow. id_map: {-408: 405, -407: 406, -406: 407, -405: 408}\n",
      "2018-08-10 05:47:14,091 INFO Added a workflow. id_map: {-412: 409, -411: 410, -410: 411, -409: 412}\n",
      "2018-08-10 05:47:14,214 INFO Added a workflow. id_map: {-416: 413, -415: 414, -414: 415, -413: 416}\n",
      "2018-08-10 05:47:14,243 INFO Added a workflow. id_map: {-420: 417, -419: 418, -418: 419, -417: 420}\n",
      "2018-08-10 05:47:14,307 INFO Added a workflow. id_map: {-424: 421, -423: 422, -422: 423, -421: 424}\n",
      "2018-08-10 05:47:14,343 INFO Added a workflow. id_map: {-428: 425, -427: 426, -426: 427, -425: 428}\n",
      "2018-08-10 05:47:14,421 INFO Added a workflow. id_map: {-432: 429, -431: 430, -430: 431, -429: 432}\n",
      "2018-08-10 05:47:14,460 INFO Added a workflow. id_map: {-436: 433, -435: 434, -434: 435, -433: 436}\n",
      "2018-08-10 05:47:14,493 INFO Added a workflow. id_map: {-440: 437, -439: 438, -438: 439, -437: 440}\n",
      "2018-08-10 05:47:14,598 INFO Added a workflow. id_map: {-444: 441, -443: 442, -442: 443, -441: 444}\n",
      "2018-08-10 05:47:14,615 INFO Added a workflow. id_map: {-448: 445, -447: 446, -446: 447, -445: 448}\n",
      "2018-08-10 05:47:14,630 INFO Added a workflow. id_map: {-452: 449, -451: 450, -450: 451, -449: 452}\n",
      "2018-08-10 05:47:14,670 INFO Added a workflow. id_map: {-456: 453, -455: 454, -454: 455, -453: 456}\n",
      "2018-08-10 05:47:14,685 INFO Added a workflow. id_map: {-460: 457, -459: 458, -458: 459, -457: 460}\n",
      "2018-08-10 05:47:14,704 INFO Added a workflow. id_map: {-464: 461, -463: 462, -462: 463, -461: 464}\n",
      "2018-08-10 05:47:14,724 INFO Added a workflow. id_map: {-468: 465, -467: 466, -466: 467, -465: 468}\n",
      "2018-08-10 05:47:14,763 INFO Added a workflow. id_map: {-472: 469, -471: 470, -470: 471, -469: 472}\n",
      "2018-08-10 05:47:14,802 INFO Added a workflow. id_map: {-476: 473, -475: 474, -474: 475, -473: 476}\n",
      "2018-08-10 05:47:14,817 INFO Added a workflow. id_map: {-480: 477, -479: 478, -478: 479, -477: 480}\n",
      "2018-08-10 05:47:14,842 INFO Added a workflow. id_map: {-484: 481, -483: 482, -482: 483, -481: 484}\n",
      "2018-08-10 05:47:14,880 INFO Added a workflow. id_map: {-488: 485, -487: 486, -486: 487, -485: 488}\n",
      "2018-08-10 05:47:14,904 INFO Added a workflow. id_map: {-492: 489, -491: 490, -490: 491, -489: 492}\n",
      "2018-08-10 05:47:15,081 INFO Added a workflow. id_map: {-496: 493, -495: 494, -494: 495, -493: 496}\n",
      "2018-08-10 05:47:15,110 INFO Added a workflow. id_map: {-500: 497, -499: 498, -498: 499, -497: 500}\n",
      "2018-08-10 05:47:15,138 INFO Added a workflow. id_map: {-504: 501, -503: 502, -502: 503, -501: 504}\n",
      "2018-08-10 05:47:15,191 INFO Added a workflow. id_map: {-508: 505, -507: 506, -506: 507, -505: 508}\n",
      "2018-08-10 05:47:15,216 INFO Added a workflow. id_map: {-512: 509, -511: 510, -510: 511, -509: 512}\n",
      "2018-08-10 05:47:15,336 INFO Added a workflow. id_map: {-516: 513, -515: 514, -514: 515, -513: 516}\n",
      "2018-08-10 05:47:15,465 INFO Added a workflow. id_map: {-520: 517, -519: 518, -518: 519, -517: 520}\n",
      "2018-08-10 05:47:15,514 INFO Added a workflow. id_map: {-524: 521, -523: 522, -522: 523, -521: 524}\n",
      "2018-08-10 05:47:15,546 INFO Added a workflow. id_map: {-528: 525, -527: 526, -526: 527, -525: 528}\n",
      "2018-08-10 05:47:15,643 INFO Added a workflow. id_map: {-532: 529, -531: 530, -530: 531, -529: 532}\n",
      "2018-08-10 05:47:15,743 INFO Added a workflow. id_map: {-536: 533, -535: 534, -534: 535, -533: 536}\n",
      "2018-08-10 05:47:15,823 INFO Added a workflow. id_map: {-540: 537, -539: 538, -538: 539, -537: 540}\n",
      "2018-08-10 05:47:15,864 INFO Added a workflow. id_map: {-544: 541, -543: 542, -542: 543, -541: 544}\n",
      "2018-08-10 05:47:15,951 INFO Added a workflow. id_map: {-548: 545, -547: 546, -546: 547, -545: 548}\n",
      "2018-08-10 05:47:15,992 INFO Added a workflow. id_map: {-552: 549, -551: 550, -550: 551, -549: 552}\n",
      "2018-08-10 05:47:16,011 INFO Added a workflow. id_map: {-556: 553, -555: 554, -554: 555, -553: 556}\n",
      "2018-08-10 05:47:16,035 INFO Added a workflow. id_map: {-560: 557, -559: 558, -558: 559, -557: 560}\n",
      "2018-08-10 05:47:16,107 INFO Added a workflow. id_map: {-564: 561, -563: 562, -562: 563, -561: 564}\n",
      "2018-08-10 05:47:16,148 INFO Added a workflow. id_map: {-568: 565, -567: 566, -566: 567, -565: 568}\n",
      "2018-08-10 05:47:16,294 INFO Added a workflow. id_map: {-572: 569, -571: 570, -570: 571, -569: 572}\n",
      "2018-08-10 05:47:16,330 INFO Added a workflow. id_map: {-576: 573, -575: 574, -574: 575, -573: 576}\n",
      "2018-08-10 05:47:16,346 INFO Added a workflow. id_map: {-580: 577, -579: 578, -578: 579, -577: 580}\n",
      "2018-08-10 05:47:16,448 INFO Added a workflow. id_map: {-584: 581, -583: 582, -582: 583, -581: 584}\n",
      "2018-08-10 05:47:16,479 INFO Added a workflow. id_map: {-588: 585, -587: 586, -586: 587, -585: 588}\n",
      "2018-08-10 05:47:16,565 INFO Added a workflow. id_map: {-592: 589, -591: 590, -590: 591, -589: 592}\n",
      "2018-08-10 05:47:16,620 INFO Added a workflow. id_map: {-596: 593, -595: 594, -594: 595, -593: 596}\n",
      "2018-08-10 05:47:16,673 INFO Added a workflow. id_map: {-600: 597, -599: 598, -598: 599, -597: 600}\n",
      "2018-08-10 05:47:16,703 INFO Added a workflow. id_map: {-604: 601, -603: 602, -602: 603, -601: 604}\n",
      "2018-08-10 05:47:16,788 INFO Added a workflow. id_map: {-608: 605, -607: 606, -606: 607, -605: 608}\n",
      "2018-08-10 05:47:16,808 INFO Added a workflow. id_map: {-612: 609, -611: 610, -610: 611, -609: 612}\n",
      "2018-08-10 05:47:16,831 INFO Added a workflow. id_map: {-616: 613, -615: 614, -614: 615, -613: 616}\n",
      "2018-08-10 05:47:16,869 INFO Added a workflow. id_map: {-620: 617, -619: 618, -618: 619, -617: 620}\n",
      "2018-08-10 05:47:16,888 INFO Added a workflow. id_map: {-624: 621, -623: 622, -622: 623, -621: 624}\n",
      "2018-08-10 05:47:16,920 INFO Added a workflow. id_map: {-628: 625, -627: 626, -626: 627, -625: 628}\n",
      "2018-08-10 05:47:16,953 INFO Added a workflow. id_map: {-632: 629, -631: 630, -630: 631, -629: 632}\n",
      "2018-08-10 05:47:17,021 INFO Added a workflow. id_map: {-636: 633, -635: 634, -634: 635, -633: 636}\n",
      "2018-08-10 05:47:17,179 INFO Added a workflow. id_map: {-640: 637, -639: 638, -638: 639, -637: 640}\n",
      "2018-08-10 05:47:17,234 INFO Added a workflow. id_map: {-644: 641, -643: 642, -642: 643, -641: 644}\n",
      "2018-08-10 05:47:17,273 INFO Added a workflow. id_map: {-648: 645, -647: 646, -646: 647, -645: 648}\n",
      "2018-08-10 05:47:17,426 INFO Added a workflow. id_map: {-652: 649, -651: 650, -650: 651, -649: 652}\n",
      "2018-08-10 05:47:17,484 INFO Added a workflow. id_map: {-656: 653, -655: 654, -654: 655, -653: 656}\n",
      "2018-08-10 05:47:17,525 INFO Added a workflow. id_map: {-660: 657, -659: 658, -658: 659, -657: 660}\n",
      "2018-08-10 05:47:17,570 INFO Added a workflow. id_map: {-664: 661, -663: 662, -662: 663, -661: 664}\n",
      "2018-08-10 05:47:17,590 INFO Added a workflow. id_map: {-668: 665, -667: 666, -666: 667, -665: 668}\n",
      "2018-08-10 05:47:17,605 INFO Added a workflow. id_map: {-672: 669, -671: 670, -670: 671, -669: 672}\n",
      "2018-08-10 05:47:17,637 INFO Added a workflow. id_map: {-676: 673, -675: 674, -674: 675, -673: 676}\n",
      "2018-08-10 05:47:17,679 INFO Added a workflow. id_map: {-680: 677, -679: 678, -678: 679, -677: 680}\n",
      "2018-08-10 05:47:17,710 INFO Added a workflow. id_map: {-684: 681, -683: 682, -682: 683, -681: 684}\n",
      "2018-08-10 05:47:17,740 INFO Added a workflow. id_map: {-688: 685, -687: 686, -686: 687, -685: 688}\n",
      "2018-08-10 05:47:17,862 INFO Added a workflow. id_map: {-692: 689, -691: 690, -690: 691, -689: 692}\n",
      "2018-08-10 05:47:17,902 INFO Added a workflow. id_map: {-696: 693, -695: 694, -694: 695, -693: 696}\n",
      "2018-08-10 05:47:18,034 INFO Added a workflow. id_map: {-700: 697, -699: 698, -698: 699, -697: 700}\n",
      "2018-08-10 05:47:18,058 INFO Added a workflow. id_map: {-704: 701, -703: 702, -702: 703, -701: 704}\n",
      "2018-08-10 05:47:18,130 INFO Added a workflow. id_map: {-708: 705, -707: 706, -706: 707, -705: 708}\n",
      "2018-08-10 05:47:18,147 INFO Added a workflow. id_map: {-712: 709, -711: 710, -710: 711, -709: 712}\n",
      "2018-08-10 05:47:18,220 INFO Added a workflow. id_map: {-716: 713, -715: 714, -714: 715, -713: 716}\n",
      "2018-08-10 05:47:18,261 INFO Added a workflow. id_map: {-720: 717, -719: 718, -718: 719, -717: 720}\n",
      "2018-08-10 05:47:18,300 INFO Added a workflow. id_map: {-724: 721, -723: 722, -722: 723, -721: 724}\n",
      "2018-08-10 05:47:18,333 INFO Added a workflow. id_map: {-728: 725, -727: 726, -726: 727, -725: 728}\n",
      "2018-08-10 05:47:18,365 INFO Added a workflow. id_map: {-732: 729, -731: 730, -730: 731, -729: 732}\n",
      "2018-08-10 05:47:18,440 INFO Added a workflow. id_map: {-736: 733, -735: 734, -734: 735, -733: 736}\n",
      "2018-08-10 05:47:18,507 INFO Added a workflow. id_map: {-740: 737, -739: 738, -738: 739, -737: 740}\n",
      "2018-08-10 05:47:18,546 INFO Added a workflow. id_map: {-744: 741, -743: 742, -742: 743, -741: 744}\n",
      "2018-08-10 05:47:18,671 INFO Added a workflow. id_map: {-748: 745, -747: 746, -746: 747, -745: 748}\n",
      "2018-08-10 05:47:18,777 INFO Added a workflow. id_map: {-752: 749, -751: 750, -750: 751, -749: 752}\n",
      "2018-08-10 05:47:18,842 INFO Added a workflow. id_map: {-756: 753, -755: 754, -754: 755, -753: 756}\n",
      "2018-08-10 05:47:18,871 INFO Added a workflow. id_map: {-760: 757, -759: 758, -758: 759, -757: 760}\n",
      "2018-08-10 05:47:18,912 INFO Added a workflow. id_map: {-764: 761, -763: 762, -762: 763, -761: 764}\n",
      "2018-08-10 05:47:18,927 INFO Added a workflow. id_map: {-768: 765, -767: 766, -766: 767, -765: 768}\n",
      "2018-08-10 05:47:18,950 INFO Added a workflow. id_map: {-772: 769, -771: 770, -770: 771, -769: 772}\n",
      "2018-08-10 05:47:18,967 INFO Added a workflow. id_map: {-776: 773, -775: 774, -774: 775, -773: 776}\n",
      "2018-08-10 05:47:19,015 INFO Added a workflow. id_map: {-780: 777, -779: 778, -778: 779, -777: 780}\n",
      "2018-08-10 05:47:19,138 INFO Added a workflow. id_map: {-784: 781, -783: 782, -782: 783, -781: 784}\n",
      "2018-08-10 05:47:19,222 INFO Added a workflow. id_map: {-788: 785, -787: 786, -786: 787, -785: 788}\n",
      "2018-08-10 05:47:19,246 INFO Added a workflow. id_map: {-792: 789, -791: 790, -790: 791, -789: 792}\n",
      "2018-08-10 05:47:19,301 INFO Added a workflow. id_map: {-796: 793, -795: 794, -794: 795, -793: 796}\n",
      "2018-08-10 05:47:19,324 INFO Added a workflow. id_map: {-800: 797, -799: 798, -798: 799, -797: 800}\n",
      "2018-08-10 05:47:19,404 INFO Added a workflow. id_map: {-804: 801, -803: 802, -802: 803, -801: 804}\n",
      "2018-08-10 05:47:19,420 INFO Added a workflow. id_map: {-808: 805, -807: 806, -806: 807, -805: 808}\n",
      "2018-08-10 05:47:19,437 INFO Added a workflow. id_map: {-812: 809, -811: 810, -810: 811, -809: 812}\n",
      "2018-08-10 05:47:19,476 INFO Added a workflow. id_map: {-816: 813, -815: 814, -814: 815, -813: 816}\n",
      "2018-08-10 05:47:19,727 INFO Added a workflow. id_map: {-820: 817, -819: 818, -818: 819, -817: 820}\n",
      "2018-08-10 05:47:19,819 INFO Added a workflow. id_map: {-824: 821, -823: 822, -822: 823, -821: 824}\n",
      "2018-08-10 05:47:19,868 INFO Added a workflow. id_map: {-828: 825, -827: 826, -826: 827, -825: 828}\n",
      "2018-08-10 05:47:20,022 INFO Added a workflow. id_map: {-832: 829, -831: 830, -830: 831, -829: 832}\n",
      "2018-08-10 05:47:20,057 INFO Added a workflow. id_map: {-836: 833, -835: 834, -834: 835, -833: 836}\n",
      "2018-08-10 05:47:20,090 INFO Added a workflow. id_map: {-840: 837, -839: 838, -838: 839, -837: 840}\n",
      "2018-08-10 05:47:20,176 INFO Added a workflow. id_map: {-844: 841, -843: 842, -842: 843, -841: 844}\n",
      "2018-08-10 05:47:20,257 INFO Added a workflow. id_map: {-848: 845, -847: 846, -846: 847, -845: 848}\n",
      "2018-08-10 05:47:20,383 INFO Added a workflow. id_map: {-852: 849, -851: 850, -850: 851, -849: 852}\n",
      "2018-08-10 05:47:20,527 INFO Added a workflow. id_map: {-856: 853, -855: 854, -854: 855, -853: 856}\n",
      "2018-08-10 05:47:20,582 INFO Added a workflow. id_map: {-860: 857, -859: 858, -858: 859, -857: 860}\n",
      "2018-08-10 05:47:20,670 INFO Added a workflow. id_map: {-864: 861, -863: 862, -862: 863, -861: 864}\n",
      "2018-08-10 05:47:20,725 INFO Added a workflow. id_map: {-868: 865, -867: 866, -866: 867, -865: 868}\n",
      "2018-08-10 05:47:20,801 INFO Added a workflow. id_map: {-872: 869, -871: 870, -870: 871, -869: 872}\n",
      "2018-08-10 05:47:20,948 INFO Added a workflow. id_map: {-876: 873, -875: 874, -874: 875, -873: 876}\n",
      "2018-08-10 05:47:21,083 INFO Added a workflow. id_map: {-880: 877, -879: 878, -878: 879, -877: 880}\n",
      "2018-08-10 05:47:21,185 INFO Added a workflow. id_map: {-884: 881, -883: 882, -882: 883, -881: 884}\n",
      "2018-08-10 05:47:21,286 INFO Added a workflow. id_map: {-888: 885, -887: 886, -886: 887, -885: 888}\n",
      "2018-08-10 05:47:21,397 INFO Added a workflow. id_map: {-892: 889, -891: 890, -890: 891, -889: 892}\n",
      "2018-08-10 05:47:21,454 INFO Added a workflow. id_map: {-896: 893, -895: 894, -894: 895, -893: 896}\n",
      "2018-08-10 05:47:21,510 INFO Added a workflow. id_map: {-900: 897, -899: 898, -898: 899, -897: 900}\n",
      "2018-08-10 05:47:21,566 INFO Added a workflow. id_map: {-904: 901, -903: 902, -902: 903, -901: 904}\n",
      "2018-08-10 05:47:21,598 INFO Added a workflow. id_map: {-908: 905, -907: 906, -906: 907, -905: 908}\n",
      "2018-08-10 05:47:21,669 INFO Added a workflow. id_map: {-912: 909, -911: 910, -910: 911, -909: 912}\n",
      "2018-08-10 05:47:21,795 INFO Added a workflow. id_map: {-916: 913, -915: 914, -914: 915, -913: 916}\n",
      "2018-08-10 05:47:21,867 INFO Added a workflow. id_map: {-920: 917, -919: 918, -918: 919, -917: 920}\n",
      "2018-08-10 05:47:21,959 INFO Added a workflow. id_map: {-924: 921, -923: 922, -922: 923, -921: 924}\n",
      "2018-08-10 05:47:22,114 INFO Added a workflow. id_map: {-928: 925, -927: 926, -926: 927, -925: 928}\n",
      "2018-08-10 05:47:22,254 INFO Added a workflow. id_map: {-932: 929, -931: 930, -930: 931, -929: 932}\n",
      "2018-08-10 05:47:22,420 INFO Added a workflow. id_map: {-936: 933, -935: 934, -934: 935, -933: 936}\n",
      "2018-08-10 05:47:22,505 INFO Added a workflow. id_map: {-940: 937, -939: 938, -938: 939, -937: 940}\n",
      "2018-08-10 05:47:22,568 INFO Added a workflow. id_map: {-944: 941, -943: 942, -942: 943, -941: 944}\n",
      "2018-08-10 05:47:22,613 INFO Added a workflow. id_map: {-948: 945, -947: 946, -946: 947, -945: 948}\n",
      "2018-08-10 05:47:22,732 INFO Added a workflow. id_map: {-952: 949, -951: 950, -950: 951, -949: 952}\n",
      "2018-08-10 05:47:22,766 INFO Added a workflow. id_map: {-956: 953, -955: 954, -954: 955, -953: 956}\n",
      "2018-08-10 05:47:22,778 INFO Added a workflow. id_map: {-960: 957, -959: 958, -958: 959, -957: 960}\n",
      "2018-08-10 05:47:22,794 INFO Added a workflow. id_map: {-964: 961, -963: 962, -962: 963, -961: 964}\n",
      "2018-08-10 05:47:22,817 INFO Added a workflow. id_map: {-968: 965, -967: 966, -966: 967, -965: 968}\n",
      "2018-08-10 05:47:22,830 INFO Added a workflow. id_map: {-972: 969, -971: 970, -970: 971, -969: 972}\n",
      "2018-08-10 05:47:22,849 INFO Added a workflow. id_map: {-976: 973, -975: 974, -974: 975, -973: 976}\n",
      "2018-08-10 05:47:22,923 INFO Added a workflow. id_map: {-980: 977, -979: 978, -978: 979, -977: 980}\n",
      "2018-08-10 05:47:22,934 INFO Added a workflow. id_map: {-984: 981, -983: 982, -982: 983, -981: 984}\n",
      "2018-08-10 05:47:22,953 INFO Added a workflow. id_map: {-988: 985, -987: 986, -986: 987, -985: 988}\n",
      "2018-08-10 05:47:22,967 INFO Added a workflow. id_map: {-992: 989, -991: 990, -990: 991, -989: 992}\n",
      "2018-08-10 05:47:23,016 INFO Added a workflow. id_map: {-996: 993, -995: 994, -994: 995, -993: 996}\n",
      "2018-08-10 05:47:23,061 INFO Added a workflow. id_map: {-1000: 997, -999: 998, -998: 999, -997: 1000}\n",
      "2018-08-10 05:47:23,092 INFO Added a workflow. id_map: {-1004: 1001, -1003: 1002, -1002: 1003, -1001: 1004}\n",
      "2018-08-10 05:47:23,120 INFO Added a workflow. id_map: {-1008: 1005, -1007: 1006, -1006: 1007, -1005: 1008}\n",
      "2018-08-10 05:47:23,145 INFO Added a workflow. id_map: {-1012: 1009, -1011: 1010, -1010: 1011, -1009: 1012}\n",
      "2018-08-10 05:47:23,226 INFO Added a workflow. id_map: {-1016: 1013, -1015: 1014, -1014: 1015, -1013: 1016}\n",
      "2018-08-10 05:47:23,276 INFO Added a workflow. id_map: {-1020: 1017, -1019: 1018, -1018: 1019, -1017: 1020}\n",
      "2018-08-10 05:47:23,307 INFO Added a workflow. id_map: {-1024: 1021, -1023: 1022, -1022: 1023, -1021: 1024}\n",
      "2018-08-10 05:47:23,331 INFO Added a workflow. id_map: {-1028: 1025, -1027: 1026, -1026: 1027, -1025: 1028}\n",
      "2018-08-10 05:47:23,533 INFO Added a workflow. id_map: {-1032: 1029, -1031: 1030, -1030: 1031, -1029: 1032}\n",
      "2018-08-10 05:47:23,658 INFO Added a workflow. id_map: {-1036: 1033, -1035: 1034, -1034: 1035, -1033: 1036}\n",
      "2018-08-10 05:47:23,807 INFO Added a workflow. id_map: {-1040: 1037, -1039: 1038, -1038: 1039, -1037: 1040}\n",
      "2018-08-10 05:47:23,863 INFO Added a workflow. id_map: {-1044: 1041, -1043: 1042, -1042: 1043, -1041: 1044}\n",
      "2018-08-10 05:47:23,894 INFO Added a workflow. id_map: {-1048: 1045, -1047: 1046, -1046: 1047, -1045: 1048}\n",
      "2018-08-10 05:47:23,917 INFO Added a workflow. id_map: {-1052: 1049, -1051: 1050, -1050: 1051, -1049: 1052}\n",
      "2018-08-10 05:47:24,081 INFO Added a workflow. id_map: {-1056: 1053, -1055: 1054, -1054: 1055, -1053: 1056}\n",
      "2018-08-10 05:47:24,162 INFO Added a workflow. id_map: {-1060: 1057, -1059: 1058, -1058: 1059, -1057: 1060}\n",
      "2018-08-10 05:47:24,378 INFO Added a workflow. id_map: {-1064: 1061, -1063: 1062, -1062: 1063, -1061: 1064}\n",
      "2018-08-10 05:47:24,446 INFO Added a workflow. id_map: {-1068: 1065, -1067: 1066, -1066: 1067, -1065: 1068}\n",
      "2018-08-10 05:47:24,605 INFO Added a workflow. id_map: {-1072: 1069, -1071: 1070, -1070: 1071, -1069: 1072}\n",
      "2018-08-10 05:47:24,792 INFO Added a workflow. id_map: {-1076: 1073, -1075: 1074, -1074: 1075, -1073: 1076}\n",
      "2018-08-10 05:47:24,895 INFO Added a workflow. id_map: {-1080: 1077, -1079: 1078, -1078: 1079, -1077: 1080}\n",
      "2018-08-10 05:47:24,929 INFO Added a workflow. id_map: {-1084: 1081, -1083: 1082, -1082: 1083, -1081: 1084}\n",
      "2018-08-10 05:47:24,985 INFO Added a workflow. id_map: {-1088: 1085, -1087: 1086, -1086: 1087, -1085: 1088}\n",
      "2018-08-10 05:47:25,101 INFO Added a workflow. id_map: {-1092: 1089, -1091: 1090, -1090: 1091, -1089: 1092}\n",
      "2018-08-10 05:47:25,126 INFO Added a workflow. id_map: {-1096: 1093, -1095: 1094, -1094: 1095, -1093: 1096}\n",
      "2018-08-10 05:47:25,227 INFO Added a workflow. id_map: {-1100: 1097, -1099: 1098, -1098: 1099, -1097: 1100}\n",
      "2018-08-10 05:47:25,440 INFO Added a workflow. id_map: {-1104: 1101, -1103: 1102, -1102: 1103, -1101: 1104}\n",
      "2018-08-10 05:47:25,657 INFO Added a workflow. id_map: {-1108: 1105, -1107: 1106, -1106: 1107, -1105: 1108}\n",
      "2018-08-10 05:47:25,756 INFO Added a workflow. id_map: {-1112: 1109, -1111: 1110, -1110: 1111, -1109: 1112}\n",
      "2018-08-10 05:47:25,789 INFO Added a workflow. id_map: {-1116: 1113, -1115: 1114, -1114: 1115, -1113: 1116}\n",
      "2018-08-10 05:47:25,915 INFO Added a workflow. id_map: {-1120: 1117, -1119: 1118, -1118: 1119, -1117: 1120}\n",
      "2018-08-10 05:47:25,962 INFO Added a workflow. id_map: {-1124: 1121, -1123: 1122, -1122: 1123, -1121: 1124}\n",
      "2018-08-10 05:47:25,995 INFO Added a workflow. id_map: {-1128: 1125, -1127: 1126, -1126: 1127, -1125: 1128}\n",
      "\n"
     ]
    }
   ],
   "source": [
    "from atomate.vasp.workflows.presets.core import get_wf\n",
    "from fireworks import LaunchPad\n",
    "\n",
    "lpad = LaunchPad.auto_load()\n",
    "lpad.reset(\"\", require_password=False)\n",
    "\n",
    "from pymatgen import MPRester\n",
    "mpr = MPRester()\n",
    "\n",
    "structures = mpr.get_structures(\"SiO2\")\n",
    "for structure in tqdm_notebook(structures):\n",
    "    wf = get_wf(structure, \"bandstructure.yaml\")\n",
    "    lpad.add_wf(wf)"
   ]
  },
  {
   "cell_type": "markdown",
   "metadata": {},
   "source": [
    "This snippet attests to the so-called \"high-throughput\" approach, which has value both because it enables you to aggregate a lot of data quickly in a way that is only possible in computational materials science and because it enables you to examine trends in a large dataset much more quickly, which is typically the most valuable way to use DFT-based simulation."
   ]
  },
  {
   "cell_type": "markdown",
   "metadata": {},
   "source": [
    "Before we move on, let's reset the workflow database."
   ]
  },
  {
   "cell_type": "code",
   "execution_count": 3,
   "metadata": {
    "collapsed": false
   },
   "outputs": [
    {
     "name": "stdout",
     "output_type": "stream",
     "text": [
      "2018-08-10 05:47:26,087 INFO Performing db tune-up\n",
      "2018-08-10 05:47:26,095 INFO LaunchPad was RESET.\n"
     ]
    }
   ],
   "source": [
    "lpad.reset(password=\"\", require_password=False, max_reset_wo_password=10000)"
   ]
  },
  {
   "cell_type": "markdown",
   "metadata": {},
   "source": [
    "## The elastic tensor: A multi-step preset workflow"
   ]
  },
  {
   "cell_type": "markdown",
   "metadata": {},
   "source": [
    "In addition to enabling \"high-throughput\" functionality, atomate allows you to execute a relatively complex set of instructions using very simple constructions.  Our canonical example of this functionality is contained in the elastic workflow."
   ]
  },
  {
   "cell_type": "code",
   "execution_count": 4,
   "metadata": {
    "collapsed": false
   },
   "outputs": [
    {
     "data": {
      "text/plain": [
       "Structure Summary\n",
       "Lattice\n",
       "    abc : 5.468727957193058 5.468727957193058 5.468727957193058\n",
       " angles : 90.0 90.0 90.0\n",
       " volume : 163.55316755397953\n",
       "      A : 5.468727957193058 0.0 3.348630094092061e-16\n",
       "      B : 8.794385292882e-16 5.468727957193058 3.348630094092061e-16\n",
       "      C : 0.0 0.0 5.468727957193058\n",
       "PeriodicSite: Si (4.1015, 4.1015, 4.1015) [0.7500, 0.7500, 0.7500]\n",
       "PeriodicSite: Si (2.7344, 0.0000, 0.0000) [0.5000, 0.0000, 0.0000]\n",
       "PeriodicSite: Si (4.1015, 1.3672, 1.3672) [0.7500, 0.2500, 0.2500]\n",
       "PeriodicSite: Si (2.7344, 2.7344, 2.7344) [0.5000, 0.5000, 0.5000]\n",
       "PeriodicSite: Si (1.3672, 4.1015, 1.3672) [0.2500, 0.7500, 0.2500]\n",
       "PeriodicSite: Si (0.0000, 0.0000, 2.7344) [0.0000, 0.0000, 0.5000]\n",
       "PeriodicSite: Si (1.3672, 1.3672, 4.1015) [0.2500, 0.2500, 0.7500]\n",
       "PeriodicSite: Si (0.0000, 2.7344, 0.0000) [0.0000, 0.5000, 0.0000]"
      ]
     },
     "execution_count": 4,
     "metadata": {},
     "output_type": "execute_result"
    }
   ],
   "source": [
    "structure = mpr.get_structure_by_material_id(\n",
    "    \"mp-149\", conventional_unit_cell=True)\n",
    "structure"
   ]
  },
  {
   "cell_type": "code",
   "execution_count": 5,
   "metadata": {
    "collapsed": true
   },
   "outputs": [],
   "source": [
    "from mp_workshop import get_viewer_link"
   ]
  },
  {
   "cell_type": "code",
   "execution_count": 6,
   "metadata": {
    "collapsed": false
   },
   "outputs": [
    {
     "data": {
      "text/html": [
       "<a href='https://viewer.materialsproject.org?structure=eJytlctOwzAQRX8l8jpYfoxfrPoPLCsWbrBKJKet8kBA1X9npg1QkYBKYTOqx5ObO6djZ89y7Pu6Suy22LNV6iP-CIKLsmBN7Nv6GdfLpeFgvVMuGCeDFsaXxbFGcw3eaiECiKCElelG2vuyWHruAmhvVFDeK8qWxYzIt88f1Y9h8tQ97rMKbc3osXVsmrMWYt49ni2ftnloqFVpNTdGS-swBlTQVPyN5mouf8CNRZVj1-Euu-vboeqHNjHy9hjbNb1lM-SM667uE1Ut9yyuyDh25wy19x6po26Xqvq9LuXUpE1_lK5Jc1tVA_k-UOnzyyuVAZdCGjDBOh8AeZfF15SepoAUclylPKpjJ2fGzIgdw3WuFHcatEWqHt-JAzAKSm4daGkEOAFWaAHjf_2DmRMfNcb_oaTJirZOehl8UMErCzCT8xdwOoV_4qTKYobdtOxnX-pssK5F9pWFmR2s3xITH5N1pa1PiQmUS5ioPx22Sbd2fo4moC6AYv5w3IAjBRnIEIA8XbQzY3Th6aPEotk-DJnuL7Z7wW_AOm14tW0T7z4uucMbl8KJiw==' target='_blank'>Click to view structure.</a>"
      ],
      "text/plain": [
       "<IPython.core.display.HTML object>"
      ]
     },
     "metadata": {},
     "output_type": "display_data"
    }
   ],
   "source": [
    "get_viewer_link(structure)"
   ]
  },
  {
   "cell_type": "code",
   "execution_count": 7,
   "metadata": {
    "collapsed": true
   },
   "outputs": [],
   "source": [
    "from atomate.vasp.workflows.presets.core import wf_elastic_constant, wf_elastic_constant_minimal"
   ]
  },
  {
   "cell_type": "code",
   "execution_count": 8,
   "metadata": {
    "collapsed": false
   },
   "outputs": [],
   "source": [
    "wf = wf_elastic_constant(structure)"
   ]
  },
  {
   "cell_type": "markdown",
   "metadata": {},
   "source": [
    "Here's a rendering of the control flow associated with the firework, which you can see both here and in the fireworks dashboard."
   ]
  },
  {
   "cell_type": "code",
   "execution_count": 9,
   "metadata": {
    "collapsed": false
   },
   "outputs": [
    {
     "data": {
      "image/svg+xml": [
       "<?xml version=\"1.0\" encoding=\"UTF-8\" standalone=\"no\"?>\n",
       "<!DOCTYPE svg PUBLIC \"-//W3C//DTD SVG 1.1//EN\"\n",
       " \"http://www.w3.org/Graphics/SVG/1.1/DTD/svg11.dtd\">\n",
       "<!-- Generated by graphviz version 2.38.0 (20140413.2041)\n",
       " -->\n",
       "<!-- Title: %3 Pages: 1 -->\n",
       "<svg width=\"557pt\" height=\"1286pt\"\n",
       " viewBox=\"0.00 0.00 557.00 1286.00\" xmlns=\"http://www.w3.org/2000/svg\" xmlns:xlink=\"http://www.w3.org/1999/xlink\">\n",
       "<g id=\"graph0\" class=\"graph\" transform=\"scale(1 1) rotate(0) translate(4 1282)\">\n",
       "<title>%3</title>\n",
       "<polygon fill=\"white\" stroke=\"none\" points=\"-4,4 -4,-1282 553,-1282 553,4 -4,4\"/>\n",
       "<!-- &#45;1152 -->\n",
       "<g id=\"node1\" class=\"node\"><title>&#45;1152</title>\n",
       "<polygon fill=\"none\" stroke=\"#1f62a2\" points=\"382,-1278 227,-1278 227,-1242 382,-1242 382,-1278\"/>\n",
       "<text text-anchor=\"middle\" x=\"304.5\" y=\"-1256.3\" font-family=\"Times,serif\" font-size=\"14.00\">Si&#45;elastic deformation 22</text>\n",
       "</g>\n",
       "<!-- &#45;1154 -->\n",
       "<g id=\"node25\" class=\"node\"><title>&#45;1154</title>\n",
       "<polygon fill=\"none\" stroke=\"#1f62a2\" points=\"549,-657 418,-657 418,-621 549,-621 549,-657\"/>\n",
       "<text text-anchor=\"middle\" x=\"483.5\" y=\"-635.3\" font-family=\"Times,serif\" font-size=\"14.00\">Analyze Elastic Data</text>\n",
       "</g>\n",
       "<!-- &#45;1152&#45;&gt;&#45;1154 -->\n",
       "<g id=\"edge1\" class=\"edge\"><title>&#45;1152&#45;&gt;&#45;1154</title>\n",
       "<path fill=\"none\" stroke=\"black\" d=\"M372.392,-1241.83C375.937,-1239.27 379.189,-1236.34 382,-1233 455.66,-1145.47 476.818,-773.787 481.415,-667.498\"/>\n",
       "<polygon fill=\"black\" stroke=\"black\" points=\"484.923,-667.372 481.842,-657.235 477.929,-667.081 484.923,-667.372\"/>\n",
       "</g>\n",
       "<!-- &#45;1151 -->\n",
       "<g id=\"node2\" class=\"node\"><title>&#45;1151</title>\n",
       "<polygon fill=\"none\" stroke=\"#1f62a2\" points=\"382,-1224 227,-1224 227,-1188 382,-1188 382,-1224\"/>\n",
       "<text text-anchor=\"middle\" x=\"304.5\" y=\"-1202.3\" font-family=\"Times,serif\" font-size=\"14.00\">Si&#45;elastic deformation 21</text>\n",
       "</g>\n",
       "<!-- &#45;1151&#45;&gt;&#45;1154 -->\n",
       "<g id=\"edge2\" class=\"edge\"><title>&#45;1151&#45;&gt;&#45;1154</title>\n",
       "<path fill=\"none\" stroke=\"black\" d=\"M372.328,-1187.78C375.889,-1185.23 379.161,-1182.32 382,-1179 449.226,-1100.43 474.676,-767.444 480.886,-667.485\"/>\n",
       "<polygon fill=\"black\" stroke=\"black\" points=\"484.394,-667.445 481.504,-657.252 477.407,-667.022 484.394,-667.445\"/>\n",
       "</g>\n",
       "<!-- &#45;1150 -->\n",
       "<g id=\"node3\" class=\"node\"><title>&#45;1150</title>\n",
       "<polygon fill=\"none\" stroke=\"#1f62a2\" points=\"382,-1170 227,-1170 227,-1134 382,-1134 382,-1170\"/>\n",
       "<text text-anchor=\"middle\" x=\"304.5\" y=\"-1148.3\" font-family=\"Times,serif\" font-size=\"14.00\">Si&#45;elastic deformation 20</text>\n",
       "</g>\n",
       "<!-- &#45;1150&#45;&gt;&#45;1154 -->\n",
       "<g id=\"edge3\" class=\"edge\"><title>&#45;1150&#45;&gt;&#45;1154</title>\n",
       "<path fill=\"none\" stroke=\"black\" d=\"M371.905,-1133.96C375.618,-1131.36 379.036,-1128.4 382,-1125 442.911,-1055.23 472.395,-759.89 480.278,-667.051\"/>\n",
       "<polygon fill=\"black\" stroke=\"black\" points=\"483.773,-667.259 481.114,-657.003 476.797,-666.678 483.773,-667.259\"/>\n",
       "</g>\n",
       "<!-- &#45;1149 -->\n",
       "<g id=\"node4\" class=\"node\"><title>&#45;1149</title>\n",
       "<polygon fill=\"none\" stroke=\"#1f62a2\" points=\"382,-1116 227,-1116 227,-1080 382,-1080 382,-1116\"/>\n",
       "<text text-anchor=\"middle\" x=\"304.5\" y=\"-1094.3\" font-family=\"Times,serif\" font-size=\"14.00\">Si&#45;elastic deformation 19</text>\n",
       "</g>\n",
       "<!-- &#45;1149&#45;&gt;&#45;1154 -->\n",
       "<g id=\"edge4\" class=\"edge\"><title>&#45;1149&#45;&gt;&#45;1154</title>\n",
       "<path fill=\"none\" stroke=\"black\" d=\"M371.809,-1079.87C375.545,-1077.3 378.994,-1074.36 382,-1071 436.479,-1010.13 469.689,-753.407 479.462,-667.294\"/>\n",
       "<polygon fill=\"black\" stroke=\"black\" points=\"482.957,-667.537 480.588,-657.21 476,-666.76 482.957,-667.537\"/>\n",
       "</g>\n",
       "<!-- &#45;1148 -->\n",
       "<g id=\"node5\" class=\"node\"><title>&#45;1148</title>\n",
       "<polygon fill=\"none\" stroke=\"#1f62a2\" points=\"382,-1062 227,-1062 227,-1026 382,-1026 382,-1062\"/>\n",
       "<text text-anchor=\"middle\" x=\"304.5\" y=\"-1040.3\" font-family=\"Times,serif\" font-size=\"14.00\">Si&#45;elastic deformation 18</text>\n",
       "</g>\n",
       "<!-- &#45;1148&#45;&gt;&#45;1154 -->\n",
       "<g id=\"edge5\" class=\"edge\"><title>&#45;1148&#45;&gt;&#45;1154</title>\n",
       "<path fill=\"none\" stroke=\"black\" d=\"M371.689,-1025.76C375.453,-1023.22 378.942,-1020.31 382,-1017 475.805,-915.431 483.969,-736.315 483.382,-667.255\"/>\n",
       "<polygon fill=\"black\" stroke=\"black\" points=\"486.88,-667.089 483.224,-657.144 479.881,-667.198 486.88,-667.089\"/>\n",
       "</g>\n",
       "<!-- &#45;1147 -->\n",
       "<g id=\"node6\" class=\"node\"><title>&#45;1147</title>\n",
       "<polygon fill=\"none\" stroke=\"#1f62a2\" points=\"382,-1008 227,-1008 227,-972 382,-972 382,-1008\"/>\n",
       "<text text-anchor=\"middle\" x=\"304.5\" y=\"-986.3\" font-family=\"Times,serif\" font-size=\"14.00\">Si&#45;elastic deformation 17</text>\n",
       "</g>\n",
       "<!-- &#45;1147&#45;&gt;&#45;1154 -->\n",
       "<g id=\"edge6\" class=\"edge\"><title>&#45;1147&#45;&gt;&#45;1154</title>\n",
       "<path fill=\"none\" stroke=\"black\" d=\"M371.178,-971.854C375.114,-969.284 378.777,-966.349 382,-963 463.281,-878.527 478.923,-729.538 481.859,-667.429\"/>\n",
       "<polygon fill=\"black\" stroke=\"black\" points=\"485.365,-667.344 482.263,-657.214 478.371,-667.068 485.365,-667.344\"/>\n",
       "</g>\n",
       "<!-- &#45;1146 -->\n",
       "<g id=\"node7\" class=\"node\"><title>&#45;1146</title>\n",
       "<polygon fill=\"none\" stroke=\"#1f62a2\" points=\"382,-954 227,-954 227,-918 382,-918 382,-954\"/>\n",
       "<text text-anchor=\"middle\" x=\"304.5\" y=\"-932.3\" font-family=\"Times,serif\" font-size=\"14.00\">Si&#45;elastic deformation 16</text>\n",
       "</g>\n",
       "<!-- &#45;1146&#45;&gt;&#45;1154 -->\n",
       "<g id=\"edge7\" class=\"edge\"><title>&#45;1146&#45;&gt;&#45;1154</title>\n",
       "<path fill=\"none\" stroke=\"black\" d=\"M370.606,-917.876C374.728,-915.299 378.585,-912.357 382,-909 451.05,-841.117 473.139,-721.497 479.805,-667.21\"/>\n",
       "<polygon fill=\"black\" stroke=\"black\" points=\"483.284,-667.591 480.942,-657.259 476.329,-666.797 483.284,-667.591\"/>\n",
       "</g>\n",
       "<!-- &#45;1145 -->\n",
       "<g id=\"node8\" class=\"node\"><title>&#45;1145</title>\n",
       "<polygon fill=\"none\" stroke=\"#1f62a2\" points=\"382,-900 227,-900 227,-864 382,-864 382,-900\"/>\n",
       "<text text-anchor=\"middle\" x=\"304.5\" y=\"-878.3\" font-family=\"Times,serif\" font-size=\"14.00\">Si&#45;elastic deformation 15</text>\n",
       "</g>\n",
       "<!-- &#45;1145&#45;&gt;&#45;1154 -->\n",
       "<g id=\"edge8\" class=\"edge\"><title>&#45;1145&#45;&gt;&#45;1154</title>\n",
       "<path fill=\"none\" stroke=\"black\" d=\"M369.942,-863.785C374.269,-861.227 378.351,-858.314 382,-855 438.954,-803.277 466.201,-712.68 476.843,-667.009\"/>\n",
       "<polygon fill=\"black\" stroke=\"black\" points=\"480.271,-667.716 479.034,-657.194 473.439,-666.191 480.271,-667.716\"/>\n",
       "</g>\n",
       "<!-- &#45;1144 -->\n",
       "<g id=\"node9\" class=\"node\"><title>&#45;1144</title>\n",
       "<polygon fill=\"none\" stroke=\"#1f62a2\" points=\"382,-846 227,-846 227,-810 382,-810 382,-846\"/>\n",
       "<text text-anchor=\"middle\" x=\"304.5\" y=\"-824.3\" font-family=\"Times,serif\" font-size=\"14.00\">Si&#45;elastic deformation 14</text>\n",
       "</g>\n",
       "<!-- &#45;1144&#45;&gt;&#45;1154 -->\n",
       "<g id=\"edge9\" class=\"edge\"><title>&#45;1144&#45;&gt;&#45;1154</title>\n",
       "<path fill=\"none\" stroke=\"black\" d=\"M368.371,-809.906C373.212,-807.308 377.83,-804.355 382,-801 427.143,-764.688 457.538,-702.293 472.249,-666.462\"/>\n",
       "<polygon fill=\"black\" stroke=\"black\" points=\"475.527,-667.689 475.981,-657.104 469.025,-665.096 475.527,-667.689\"/>\n",
       "</g>\n",
       "<!-- &#45;1143 -->\n",
       "<g id=\"node10\" class=\"node\"><title>&#45;1143</title>\n",
       "<polygon fill=\"none\" stroke=\"#1f62a2\" points=\"382,-792 227,-792 227,-756 382,-756 382,-792\"/>\n",
       "<text text-anchor=\"middle\" x=\"304.5\" y=\"-770.3\" font-family=\"Times,serif\" font-size=\"14.00\">Si&#45;elastic deformation 13</text>\n",
       "</g>\n",
       "<!-- &#45;1143&#45;&gt;&#45;1154 -->\n",
       "<g id=\"edge10\" class=\"edge\"><title>&#45;1143&#45;&gt;&#45;1154</title>\n",
       "<path fill=\"none\" stroke=\"black\" d=\"M365.732,-755.926C371.414,-753.287 376.935,-750.321 382,-747 415.53,-725.017 445.633,-689.534 463.962,-665.283\"/>\n",
       "<polygon fill=\"black\" stroke=\"black\" points=\"466.8,-667.332 469.941,-657.214 461.175,-663.165 466.8,-667.332\"/>\n",
       "</g>\n",
       "<!-- &#45;1142 -->\n",
       "<g id=\"node11\" class=\"node\"><title>&#45;1142</title>\n",
       "<polygon fill=\"none\" stroke=\"#1f62a2\" points=\"382,-738 227,-738 227,-702 382,-702 382,-738\"/>\n",
       "<text text-anchor=\"middle\" x=\"304.5\" y=\"-716.3\" font-family=\"Times,serif\" font-size=\"14.00\">Si&#45;elastic deformation 12</text>\n",
       "</g>\n",
       "<!-- &#45;1142&#45;&gt;&#45;1154 -->\n",
       "<g id=\"edge11\" class=\"edge\"><title>&#45;1142&#45;&gt;&#45;1154</title>\n",
       "<path fill=\"none\" stroke=\"black\" d=\"M359.821,-701.995C367.343,-699.164 374.915,-696.132 382,-693 402.518,-683.931 424.552,-672.317 442.745,-662.185\"/>\n",
       "<polygon fill=\"black\" stroke=\"black\" points=\"444.882,-664.999 451.88,-657.043 441.449,-658.899 444.882,-664.999\"/>\n",
       "</g>\n",
       "<!-- &#45;1141 -->\n",
       "<g id=\"node12\" class=\"node\"><title>&#45;1141</title>\n",
       "<polygon fill=\"none\" stroke=\"#1f62a2\" points=\"382,-684 227,-684 227,-648 382,-648 382,-684\"/>\n",
       "<text text-anchor=\"middle\" x=\"304.5\" y=\"-662.3\" font-family=\"Times,serif\" font-size=\"14.00\">Si&#45;elastic deformation 11</text>\n",
       "</g>\n",
       "<!-- &#45;1141&#45;&gt;&#45;1154 -->\n",
       "<g id=\"edge12\" class=\"edge\"><title>&#45;1141&#45;&gt;&#45;1154</title>\n",
       "<path fill=\"none\" stroke=\"black\" d=\"M382.105,-654.314C390.701,-653.003 399.449,-651.669 408.017,-650.362\"/>\n",
       "<polygon fill=\"black\" stroke=\"black\" points=\"408.615,-653.811 417.973,-648.843 407.559,-646.891 408.615,-653.811\"/>\n",
       "</g>\n",
       "<!-- &#45;1140 -->\n",
       "<g id=\"node13\" class=\"node\"><title>&#45;1140</title>\n",
       "<polygon fill=\"none\" stroke=\"#1f62a2\" points=\"382,-630 227,-630 227,-594 382,-594 382,-630\"/>\n",
       "<text text-anchor=\"middle\" x=\"304.5\" y=\"-608.3\" font-family=\"Times,serif\" font-size=\"14.00\">Si&#45;elastic deformation 10</text>\n",
       "</g>\n",
       "<!-- &#45;1140&#45;&gt;&#45;1154 -->\n",
       "<g id=\"edge13\" class=\"edge\"><title>&#45;1140&#45;&gt;&#45;1154</title>\n",
       "<path fill=\"none\" stroke=\"black\" d=\"M382.105,-623.686C390.701,-624.997 399.449,-626.331 408.017,-627.638\"/>\n",
       "<polygon fill=\"black\" stroke=\"black\" points=\"407.559,-631.109 417.973,-629.157 408.615,-624.189 407.559,-631.109\"/>\n",
       "</g>\n",
       "<!-- &#45;1139 -->\n",
       "<g id=\"node14\" class=\"node\"><title>&#45;1139</title>\n",
       "<polygon fill=\"none\" stroke=\"#1f62a2\" points=\"378.5,-576 230.5,-576 230.5,-540 378.5,-540 378.5,-576\"/>\n",
       "<text text-anchor=\"middle\" x=\"304.5\" y=\"-554.3\" font-family=\"Times,serif\" font-size=\"14.00\">Si&#45;elastic deformation 9</text>\n",
       "</g>\n",
       "<!-- &#45;1139&#45;&gt;&#45;1154 -->\n",
       "<g id=\"edge14\" class=\"edge\"><title>&#45;1139&#45;&gt;&#45;1154</title>\n",
       "<path fill=\"none\" stroke=\"black\" d=\"M359.821,-576.005C367.343,-578.836 374.915,-581.868 382,-585 402.518,-594.069 424.552,-605.683 442.745,-615.815\"/>\n",
       "<polygon fill=\"black\" stroke=\"black\" points=\"441.449,-619.101 451.88,-620.957 444.882,-613.001 441.449,-619.101\"/>\n",
       "</g>\n",
       "<!-- &#45;1138 -->\n",
       "<g id=\"node15\" class=\"node\"><title>&#45;1138</title>\n",
       "<polygon fill=\"none\" stroke=\"#1f62a2\" points=\"378.5,-522 230.5,-522 230.5,-486 378.5,-486 378.5,-522\"/>\n",
       "<text text-anchor=\"middle\" x=\"304.5\" y=\"-500.3\" font-family=\"Times,serif\" font-size=\"14.00\">Si&#45;elastic deformation 8</text>\n",
       "</g>\n",
       "<!-- &#45;1138&#45;&gt;&#45;1154 -->\n",
       "<g id=\"edge15\" class=\"edge\"><title>&#45;1138&#45;&gt;&#45;1154</title>\n",
       "<path fill=\"none\" stroke=\"black\" d=\"M365.732,-522.074C371.414,-524.713 376.935,-527.679 382,-531 415.53,-552.983 445.633,-588.466 463.962,-612.717\"/>\n",
       "<polygon fill=\"black\" stroke=\"black\" points=\"461.175,-614.835 469.941,-620.786 466.8,-610.668 461.175,-614.835\"/>\n",
       "</g>\n",
       "<!-- &#45;1137 -->\n",
       "<g id=\"node16\" class=\"node\"><title>&#45;1137</title>\n",
       "<polygon fill=\"none\" stroke=\"#1f62a2\" points=\"378.5,-468 230.5,-468 230.5,-432 378.5,-432 378.5,-468\"/>\n",
       "<text text-anchor=\"middle\" x=\"304.5\" y=\"-446.3\" font-family=\"Times,serif\" font-size=\"14.00\">Si&#45;elastic deformation 7</text>\n",
       "</g>\n",
       "<!-- &#45;1137&#45;&gt;&#45;1154 -->\n",
       "<g id=\"edge16\" class=\"edge\"><title>&#45;1137&#45;&gt;&#45;1154</title>\n",
       "<path fill=\"none\" stroke=\"black\" d=\"M368.371,-468.094C373.212,-470.692 377.83,-473.645 382,-477 427.143,-513.312 457.538,-575.707 472.249,-611.538\"/>\n",
       "<polygon fill=\"black\" stroke=\"black\" points=\"469.025,-612.904 475.981,-620.896 475.527,-610.311 469.025,-612.904\"/>\n",
       "</g>\n",
       "<!-- &#45;1136 -->\n",
       "<g id=\"node17\" class=\"node\"><title>&#45;1136</title>\n",
       "<polygon fill=\"none\" stroke=\"#1f62a2\" points=\"378.5,-414 230.5,-414 230.5,-378 378.5,-378 378.5,-414\"/>\n",
       "<text text-anchor=\"middle\" x=\"304.5\" y=\"-392.3\" font-family=\"Times,serif\" font-size=\"14.00\">Si&#45;elastic deformation 6</text>\n",
       "</g>\n",
       "<!-- &#45;1136&#45;&gt;&#45;1154 -->\n",
       "<g id=\"edge17\" class=\"edge\"><title>&#45;1136&#45;&gt;&#45;1154</title>\n",
       "<path fill=\"none\" stroke=\"black\" d=\"M369.942,-414.215C374.269,-416.773 378.351,-419.686 382,-423 438.954,-474.723 466.201,-565.32 476.843,-610.991\"/>\n",
       "<polygon fill=\"black\" stroke=\"black\" points=\"473.439,-611.809 479.034,-620.806 480.271,-610.284 473.439,-611.809\"/>\n",
       "</g>\n",
       "<!-- &#45;1135 -->\n",
       "<g id=\"node18\" class=\"node\"><title>&#45;1135</title>\n",
       "<polygon fill=\"none\" stroke=\"#1f62a2\" points=\"378.5,-360 230.5,-360 230.5,-324 378.5,-324 378.5,-360\"/>\n",
       "<text text-anchor=\"middle\" x=\"304.5\" y=\"-338.3\" font-family=\"Times,serif\" font-size=\"14.00\">Si&#45;elastic deformation 5</text>\n",
       "</g>\n",
       "<!-- &#45;1135&#45;&gt;&#45;1154 -->\n",
       "<g id=\"edge18\" class=\"edge\"><title>&#45;1135&#45;&gt;&#45;1154</title>\n",
       "<path fill=\"none\" stroke=\"black\" d=\"M370.606,-360.124C374.728,-362.701 378.585,-365.643 382,-369 451.05,-436.883 473.139,-556.503 479.805,-610.79\"/>\n",
       "<polygon fill=\"black\" stroke=\"black\" points=\"476.329,-611.203 480.942,-620.741 483.284,-610.409 476.329,-611.203\"/>\n",
       "</g>\n",
       "<!-- &#45;1134 -->\n",
       "<g id=\"node19\" class=\"node\"><title>&#45;1134</title>\n",
       "<polygon fill=\"none\" stroke=\"#1f62a2\" points=\"378.5,-306 230.5,-306 230.5,-270 378.5,-270 378.5,-306\"/>\n",
       "<text text-anchor=\"middle\" x=\"304.5\" y=\"-284.3\" font-family=\"Times,serif\" font-size=\"14.00\">Si&#45;elastic deformation 4</text>\n",
       "</g>\n",
       "<!-- &#45;1134&#45;&gt;&#45;1154 -->\n",
       "<g id=\"edge19\" class=\"edge\"><title>&#45;1134&#45;&gt;&#45;1154</title>\n",
       "<path fill=\"none\" stroke=\"black\" d=\"M371.178,-306.146C375.114,-308.716 378.777,-311.651 382,-315 463.281,-399.473 478.923,-548.462 481.859,-610.571\"/>\n",
       "<polygon fill=\"black\" stroke=\"black\" points=\"478.371,-610.932 482.263,-620.786 485.365,-610.656 478.371,-610.932\"/>\n",
       "</g>\n",
       "<!-- &#45;1133 -->\n",
       "<g id=\"node20\" class=\"node\"><title>&#45;1133</title>\n",
       "<polygon fill=\"none\" stroke=\"#1f62a2\" points=\"378.5,-252 230.5,-252 230.5,-216 378.5,-216 378.5,-252\"/>\n",
       "<text text-anchor=\"middle\" x=\"304.5\" y=\"-230.3\" font-family=\"Times,serif\" font-size=\"14.00\">Si&#45;elastic deformation 3</text>\n",
       "</g>\n",
       "<!-- &#45;1133&#45;&gt;&#45;1154 -->\n",
       "<g id=\"edge20\" class=\"edge\"><title>&#45;1133&#45;&gt;&#45;1154</title>\n",
       "<path fill=\"none\" stroke=\"black\" d=\"M371.689,-252.235C375.453,-254.784 378.942,-257.689 382,-261 475.805,-362.569 483.969,-541.685 483.382,-610.745\"/>\n",
       "<polygon fill=\"black\" stroke=\"black\" points=\"479.881,-610.802 483.224,-620.856 486.88,-610.911 479.881,-610.802\"/>\n",
       "</g>\n",
       "<!-- &#45;1132 -->\n",
       "<g id=\"node21\" class=\"node\"><title>&#45;1132</title>\n",
       "<polygon fill=\"none\" stroke=\"#1f62a2\" points=\"378.5,-198 230.5,-198 230.5,-162 378.5,-162 378.5,-198\"/>\n",
       "<text text-anchor=\"middle\" x=\"304.5\" y=\"-176.3\" font-family=\"Times,serif\" font-size=\"14.00\">Si&#45;elastic deformation 2</text>\n",
       "</g>\n",
       "<!-- &#45;1132&#45;&gt;&#45;1154 -->\n",
       "<g id=\"edge21\" class=\"edge\"><title>&#45;1132&#45;&gt;&#45;1154</title>\n",
       "<path fill=\"none\" stroke=\"black\" d=\"M371.809,-198.126C375.545,-200.701 378.994,-203.642 382,-207 436.479,-267.872 469.689,-524.593 479.462,-610.706\"/>\n",
       "<polygon fill=\"black\" stroke=\"black\" points=\"476,-611.24 480.588,-620.79 482.957,-610.463 476,-611.24\"/>\n",
       "</g>\n",
       "<!-- &#45;1131 -->\n",
       "<g id=\"node22\" class=\"node\"><title>&#45;1131</title>\n",
       "<polygon fill=\"none\" stroke=\"#1f62a2\" points=\"378.5,-144 230.5,-144 230.5,-108 378.5,-108 378.5,-144\"/>\n",
       "<text text-anchor=\"middle\" x=\"304.5\" y=\"-122.3\" font-family=\"Times,serif\" font-size=\"14.00\">Si&#45;elastic deformation 1</text>\n",
       "</g>\n",
       "<!-- &#45;1131&#45;&gt;&#45;1154 -->\n",
       "<g id=\"edge22\" class=\"edge\"><title>&#45;1131&#45;&gt;&#45;1154</title>\n",
       "<path fill=\"none\" stroke=\"black\" d=\"M371.905,-144.042C375.618,-146.637 379.036,-149.605 382,-153 442.911,-222.77 472.395,-518.11 480.278,-610.949\"/>\n",
       "<polygon fill=\"black\" stroke=\"black\" points=\"476.797,-611.322 481.114,-620.997 483.773,-610.741 476.797,-611.322\"/>\n",
       "</g>\n",
       "<!-- &#45;1130 -->\n",
       "<g id=\"node23\" class=\"node\"><title>&#45;1130</title>\n",
       "<polygon fill=\"none\" stroke=\"#1f62a2\" points=\"378.5,-90 230.5,-90 230.5,-54 378.5,-54 378.5,-90\"/>\n",
       "<text text-anchor=\"middle\" x=\"304.5\" y=\"-68.3\" font-family=\"Times,serif\" font-size=\"14.00\">Si&#45;elastic deformation 0</text>\n",
       "</g>\n",
       "<!-- &#45;1130&#45;&gt;&#45;1154 -->\n",
       "<g id=\"edge23\" class=\"edge\"><title>&#45;1130&#45;&gt;&#45;1154</title>\n",
       "<path fill=\"none\" stroke=\"black\" d=\"M372.328,-90.2201C375.889,-92.7726 379.161,-95.6825 382,-99 449.226,-177.568 474.676,-510.556 480.886,-610.515\"/>\n",
       "<polygon fill=\"black\" stroke=\"black\" points=\"477.407,-610.978 481.504,-620.748 484.394,-610.555 477.407,-610.978\"/>\n",
       "</g>\n",
       "<!-- &#45;1129 -->\n",
       "<g id=\"node24\" class=\"node\"><title>&#45;1129</title>\n",
       "<polygon fill=\"none\" stroke=\"#1f62a2\" points=\"191,-657 0,-657 0,-621 191,-621 191,-657\"/>\n",
       "<text text-anchor=\"middle\" x=\"95.5\" y=\"-635.3\" font-family=\"Times,serif\" font-size=\"14.00\">Si&#45;elastic structure optimization</text>\n",
       "</g>\n",
       "<!-- &#45;1129&#45;&gt;&#45;1152 -->\n",
       "<g id=\"edge24\" class=\"edge\"><title>&#45;1129&#45;&gt;&#45;1152</title>\n",
       "<path fill=\"none\" stroke=\"black\" d=\"M98.1445,-657.276C106.592,-747.363 147.806,-1143.41 227,-1233 227.746,-1233.84 228.521,-1234.66 229.32,-1235.45\"/>\n",
       "<polygon fill=\"black\" stroke=\"black\" points=\"227.204,-1238.25 237.143,-1241.92 231.662,-1232.85 227.204,-1238.25\"/>\n",
       "</g>\n",
       "<!-- &#45;1129&#45;&gt;&#45;1151 -->\n",
       "<g id=\"edge25\" class=\"edge\"><title>&#45;1129&#45;&gt;&#45;1151</title>\n",
       "<path fill=\"none\" stroke=\"black\" d=\"M98.5457,-657.012C108.482,-741.565 154.213,-1098.37 227,-1179 227.755,-1179.84 228.538,-1180.65 229.345,-1181.43\"/>\n",
       "<polygon fill=\"black\" stroke=\"black\" points=\"227.258,-1184.25 237.224,-1187.84 231.677,-1178.82 227.258,-1184.25\"/>\n",
       "</g>\n",
       "<!-- &#45;1129&#45;&gt;&#45;1150 -->\n",
       "<g id=\"edge26\" class=\"edge\"><title>&#45;1129&#45;&gt;&#45;1150</title>\n",
       "<path fill=\"none\" stroke=\"black\" d=\"M99.0688,-657.046C110.691,-736.376 160.673,-1053.36 227,-1125 227.888,-1125.96 228.812,-1126.88 229.769,-1127.78\"/>\n",
       "<polygon fill=\"black\" stroke=\"black\" points=\"227.65,-1130.56 237.674,-1133.99 231.977,-1125.06 227.65,-1130.56\"/>\n",
       "</g>\n",
       "<!-- &#45;1129&#45;&gt;&#45;1149 -->\n",
       "<g id=\"edge27\" class=\"edge\"><title>&#45;1129&#45;&gt;&#45;1149</title>\n",
       "<path fill=\"none\" stroke=\"black\" d=\"M96.481,-657.012C97.3995,-722.102 109.304,-947.77 227,-1071 227.903,-1071.95 228.841,-1072.86 229.81,-1073.74\"/>\n",
       "<polygon fill=\"black\" stroke=\"black\" points=\"227.734,-1076.56 237.793,-1079.88 232.003,-1071.01 227.734,-1076.56\"/>\n",
       "</g>\n",
       "<!-- &#45;1129&#45;&gt;&#45;1148 -->\n",
       "<g id=\"edge28\" class=\"edge\"><title>&#45;1129&#45;&gt;&#45;1148</title>\n",
       "<path fill=\"none\" stroke=\"black\" d=\"M97.4033,-657.25C101.358,-717.363 122.061,-911.338 227,-1017 227.949,-1017.96 228.934,-1018.88 229.951,-1019.77\"/>\n",
       "<polygon fill=\"black\" stroke=\"black\" points=\"228.187,-1022.82 238.303,-1025.97 232.36,-1017.2 228.187,-1022.82\"/>\n",
       "</g>\n",
       "<!-- &#45;1129&#45;&gt;&#45;1147 -->\n",
       "<g id=\"edge29\" class=\"edge\"><title>&#45;1129&#45;&gt;&#45;1147</title>\n",
       "<path fill=\"none\" stroke=\"black\" d=\"M98.6116,-657.312C105.853,-711.788 134.572,-874.517 227,-963 228.113,-964.065 229.27,-965.089 230.466,-966.072\"/>\n",
       "<polygon fill=\"black\" stroke=\"black\" points=\"228.672,-969.09 238.86,-971.997 232.709,-963.371 228.672,-969.09\"/>\n",
       "</g>\n",
       "<!-- &#45;1129&#45;&gt;&#45;1146 -->\n",
       "<g id=\"edge30\" class=\"edge\"><title>&#45;1129&#45;&gt;&#45;1146</title>\n",
       "<path fill=\"none\" stroke=\"black\" d=\"M100.264,-657.339C111.104,-705.595 146.881,-837.31 227,-909 228.299,-910.162 229.651,-911.275 231.048,-912.341\"/>\n",
       "<polygon fill=\"black\" stroke=\"black\" points=\"229.218,-915.327 239.485,-917.942 233.09,-909.495 229.218,-915.327\"/>\n",
       "</g>\n",
       "<!-- &#45;1129&#45;&gt;&#45;1145 -->\n",
       "<g id=\"edge31\" class=\"edge\"><title>&#45;1129&#45;&gt;&#45;1145</title>\n",
       "<path fill=\"none\" stroke=\"black\" d=\"M102.636,-657.234C117.413,-698.456 158.877,-799.538 227,-855 228.556,-856.267 230.177,-857.477 231.849,-858.632\"/>\n",
       "<polygon fill=\"black\" stroke=\"black\" points=\"230.225,-861.741 240.585,-863.959 233.87,-855.765 230.225,-861.741\"/>\n",
       "</g>\n",
       "<!-- &#45;1129&#45;&gt;&#45;1144 -->\n",
       "<g id=\"edge32\" class=\"edge\"><title>&#45;1129&#45;&gt;&#45;1144</title>\n",
       "<path fill=\"none\" stroke=\"black\" d=\"M106.428,-657.06C125.53,-690.214 170.55,-761.041 227,-801 229.062,-802.46 231.211,-803.847 233.424,-805.166\"/>\n",
       "<polygon fill=\"black\" stroke=\"black\" points=\"231.768,-808.25 242.231,-809.915 235.091,-802.088 231.768,-808.25\"/>\n",
       "</g>\n",
       "<!-- &#45;1129&#45;&gt;&#45;1143 -->\n",
       "<g id=\"edge33\" class=\"edge\"><title>&#45;1129&#45;&gt;&#45;1143</title>\n",
       "<path fill=\"none\" stroke=\"black\" d=\"M114.385,-657.382C138.188,-680.952 182.474,-721.782 227,-747 229.88,-748.631 232.876,-750.19 235.942,-751.677\"/>\n",
       "<polygon fill=\"black\" stroke=\"black\" points=\"234.753,-754.981 245.306,-755.919 237.642,-748.604 234.753,-754.981\"/>\n",
       "</g>\n",
       "<!-- &#45;1129&#45;&gt;&#45;1142 -->\n",
       "<g id=\"edge34\" class=\"edge\"><title>&#45;1129&#45;&gt;&#45;1142</title>\n",
       "<path fill=\"none\" stroke=\"black\" d=\"M138.589,-657.081C164.047,-667.851 197.234,-681.598 227,-693 231.729,-694.811 236.638,-696.646 241.584,-698.463\"/>\n",
       "<polygon fill=\"black\" stroke=\"black\" points=\"240.509,-701.796 251.103,-701.922 242.9,-695.217 240.509,-701.796\"/>\n",
       "</g>\n",
       "<!-- &#45;1129&#45;&gt;&#45;1141 -->\n",
       "<g id=\"edge35\" class=\"edge\"><title>&#45;1129&#45;&gt;&#45;1141</title>\n",
       "<path fill=\"none\" stroke=\"black\" d=\"M191.216,-651.354C199.693,-652.46 208.248,-653.576 216.654,-654.672\"/>\n",
       "<polygon fill=\"black\" stroke=\"black\" points=\"216.447,-658.175 226.816,-655.998 217.353,-651.234 216.447,-658.175\"/>\n",
       "</g>\n",
       "<!-- &#45;1129&#45;&gt;&#45;1140 -->\n",
       "<g id=\"edge36\" class=\"edge\"><title>&#45;1129&#45;&gt;&#45;1140</title>\n",
       "<path fill=\"none\" stroke=\"black\" d=\"M191.216,-626.646C199.693,-625.54 208.248,-624.424 216.654,-623.328\"/>\n",
       "<polygon fill=\"black\" stroke=\"black\" points=\"217.353,-626.766 226.816,-622.002 216.447,-619.825 217.353,-626.766\"/>\n",
       "</g>\n",
       "<!-- &#45;1129&#45;&gt;&#45;1139 -->\n",
       "<g id=\"edge37\" class=\"edge\"><title>&#45;1129&#45;&gt;&#45;1139</title>\n",
       "<path fill=\"none\" stroke=\"black\" d=\"M138.589,-620.919C164.047,-610.149 197.234,-596.402 227,-585 231.729,-583.189 236.638,-581.354 241.584,-579.537\"/>\n",
       "<polygon fill=\"black\" stroke=\"black\" points=\"242.9,-582.783 251.103,-576.078 240.509,-576.204 242.9,-582.783\"/>\n",
       "</g>\n",
       "<!-- &#45;1129&#45;&gt;&#45;1138 -->\n",
       "<g id=\"edge38\" class=\"edge\"><title>&#45;1129&#45;&gt;&#45;1138</title>\n",
       "<path fill=\"none\" stroke=\"black\" d=\"M114.385,-620.618C138.188,-597.048 182.474,-556.218 227,-531 229.88,-529.369 232.876,-527.81 235.942,-526.323\"/>\n",
       "<polygon fill=\"black\" stroke=\"black\" points=\"237.642,-529.396 245.306,-522.081 234.753,-523.019 237.642,-529.396\"/>\n",
       "</g>\n",
       "<!-- &#45;1129&#45;&gt;&#45;1137 -->\n",
       "<g id=\"edge39\" class=\"edge\"><title>&#45;1129&#45;&gt;&#45;1137</title>\n",
       "<path fill=\"none\" stroke=\"black\" d=\"M106.428,-620.94C125.53,-587.786 170.55,-516.959 227,-477 229.062,-475.54 231.211,-474.153 233.424,-472.834\"/>\n",
       "<polygon fill=\"black\" stroke=\"black\" points=\"235.091,-475.912 242.231,-468.085 231.768,-469.75 235.091,-475.912\"/>\n",
       "</g>\n",
       "<!-- &#45;1129&#45;&gt;&#45;1136 -->\n",
       "<g id=\"edge40\" class=\"edge\"><title>&#45;1129&#45;&gt;&#45;1136</title>\n",
       "<path fill=\"none\" stroke=\"black\" d=\"M102.636,-620.766C117.413,-579.544 158.877,-478.462 227,-423 228.556,-421.733 230.177,-420.523 231.849,-419.368\"/>\n",
       "<polygon fill=\"black\" stroke=\"black\" points=\"233.87,-422.235 240.585,-414.041 230.225,-416.259 233.87,-422.235\"/>\n",
       "</g>\n",
       "<!-- &#45;1129&#45;&gt;&#45;1135 -->\n",
       "<g id=\"edge41\" class=\"edge\"><title>&#45;1129&#45;&gt;&#45;1135</title>\n",
       "<path fill=\"none\" stroke=\"black\" d=\"M100.264,-620.661C111.104,-572.405 146.881,-440.69 227,-369 228.299,-367.838 229.651,-366.725 231.048,-365.659\"/>\n",
       "<polygon fill=\"black\" stroke=\"black\" points=\"233.09,-368.505 239.485,-360.058 229.218,-362.673 233.09,-368.505\"/>\n",
       "</g>\n",
       "<!-- &#45;1129&#45;&gt;&#45;1134 -->\n",
       "<g id=\"edge42\" class=\"edge\"><title>&#45;1129&#45;&gt;&#45;1134</title>\n",
       "<path fill=\"none\" stroke=\"black\" d=\"M98.6116,-620.688C105.853,-566.212 134.572,-403.483 227,-315 228.113,-313.935 229.27,-312.911 230.466,-311.928\"/>\n",
       "<polygon fill=\"black\" stroke=\"black\" points=\"232.709,-314.629 238.86,-306.003 228.672,-308.91 232.709,-314.629\"/>\n",
       "</g>\n",
       "<!-- &#45;1129&#45;&gt;&#45;1133 -->\n",
       "<g id=\"edge43\" class=\"edge\"><title>&#45;1129&#45;&gt;&#45;1133</title>\n",
       "<path fill=\"none\" stroke=\"black\" d=\"M97.4033,-620.75C101.358,-560.637 122.061,-366.662 227,-261 227.949,-260.044 228.934,-259.123 229.951,-258.233\"/>\n",
       "<polygon fill=\"black\" stroke=\"black\" points=\"232.36,-260.804 238.303,-252.032 228.187,-255.183 232.36,-260.804\"/>\n",
       "</g>\n",
       "<!-- &#45;1129&#45;&gt;&#45;1132 -->\n",
       "<g id=\"edge44\" class=\"edge\"><title>&#45;1129&#45;&gt;&#45;1132</title>\n",
       "<path fill=\"none\" stroke=\"black\" d=\"M96.481,-620.988C97.3995,-555.898 109.304,-330.23 227,-207 227.903,-206.055 228.841,-205.142 229.81,-204.262\"/>\n",
       "<polygon fill=\"black\" stroke=\"black\" points=\"232.003,-206.991 237.793,-198.119 227.734,-201.443 232.003,-206.991\"/>\n",
       "</g>\n",
       "<!-- &#45;1129&#45;&gt;&#45;1131 -->\n",
       "<g id=\"edge45\" class=\"edge\"><title>&#45;1129&#45;&gt;&#45;1131</title>\n",
       "<path fill=\"none\" stroke=\"black\" d=\"M99.0688,-620.954C110.691,-541.624 160.673,-224.639 227,-153 227.888,-152.041 228.812,-151.116 229.769,-150.223\"/>\n",
       "<polygon fill=\"black\" stroke=\"black\" points=\"231.977,-152.939 237.674,-144.006 227.65,-147.437 231.977,-152.939\"/>\n",
       "</g>\n",
       "<!-- &#45;1129&#45;&gt;&#45;1130 -->\n",
       "<g id=\"edge46\" class=\"edge\"><title>&#45;1129&#45;&gt;&#45;1130</title>\n",
       "<path fill=\"none\" stroke=\"black\" d=\"M98.5457,-620.988C108.482,-536.435 154.213,-179.632 227,-99 227.755,-98.1636 228.538,-97.3532 229.345,-96.5678\"/>\n",
       "<polygon fill=\"black\" stroke=\"black\" points=\"231.677,-99.1827 237.224,-90.1557 227.258,-93.7535 231.677,-99.1827\"/>\n",
       "</g>\n",
       "<!-- &#45;1153 -->\n",
       "<g id=\"node26\" class=\"node\"><title>&#45;1153</title>\n",
       "<polygon fill=\"none\" stroke=\"#1f62a2\" points=\"382,-36 227,-36 227,-0 382,-0 382,-36\"/>\n",
       "<text text-anchor=\"middle\" x=\"304.5\" y=\"-14.3\" font-family=\"Times,serif\" font-size=\"14.00\">Si&#45;elastic deformation 23</text>\n",
       "</g>\n",
       "<!-- &#45;1129&#45;&gt;&#45;1153 -->\n",
       "<g id=\"edge47\" class=\"edge\"><title>&#45;1129&#45;&gt;&#45;1153</title>\n",
       "<path fill=\"none\" stroke=\"black\" d=\"M98.1445,-620.724C106.592,-530.637 147.806,-134.59 227,-45 227.746,-44.1558 228.521,-43.338 229.32,-42.5458\"/>\n",
       "<polygon fill=\"black\" stroke=\"black\" points=\"231.662,-45.1509 237.143,-36.0838 227.204,-39.7541 231.662,-45.1509\"/>\n",
       "</g>\n",
       "<!-- &#45;1153&#45;&gt;&#45;1154 -->\n",
       "<g id=\"edge48\" class=\"edge\"><title>&#45;1153&#45;&gt;&#45;1154</title>\n",
       "<path fill=\"none\" stroke=\"black\" d=\"M372.392,-36.1665C375.937,-38.7319 379.189,-41.6594 382,-45 455.66,-132.531 476.818,-504.213 481.415,-610.502\"/>\n",
       "<polygon fill=\"black\" stroke=\"black\" points=\"477.929,-610.919 481.842,-620.765 484.923,-610.628 477.929,-610.919\"/>\n",
       "</g>\n",
       "</g>\n",
       "</svg>\n"
      ],
      "text/plain": [
       "<graphviz.dot.Digraph at 0x7f5621c0f710>"
      ]
     },
     "execution_count": 9,
     "metadata": {},
     "output_type": "execute_result"
    }
   ],
   "source": [
    "from mp_workshop.atomate import wf_to_graph\n",
    "wf_to_graph(wf)"
   ]
  },
  {
   "cell_type": "markdown",
   "metadata": {},
   "source": [
    "From our exploration of the workflow, we can see that the workflow has a \"root\" firework, which is the structure optimization firework, and a single \"leaf\" firework, which is the analysis task.  In between, we have several fireworks which have \"elastic deformation\" in their titles, each of which represents a calculation which will transform the output of the optimization firework by applying a unique strain.\n",
    "\n",
    "In the analysis step, the stresses from those deformations and the strains are aggregated and used to fit an elastic tensor.  Let's examine the different types of fireworks using the graph tool."
   ]
  },
  {
   "cell_type": "code",
   "execution_count": 10,
   "metadata": {
    "collapsed": false
   },
   "outputs": [
    {
     "name": "stdout",
     "output_type": "stream",
     "text": [
      "Si-elastic deformation 22\n"
     ]
    },
    {
     "data": {
      "image/svg+xml": [
       "<?xml version=\"1.0\" encoding=\"UTF-8\" standalone=\"no\"?>\n",
       "<!DOCTYPE svg PUBLIC \"-//W3C//DTD SVG 1.1//EN\"\n",
       " \"http://www.w3.org/Graphics/SVG/1.1/DTD/svg11.dtd\">\n",
       "<!-- Generated by graphviz version 2.38.0 (20140413.2041)\n",
       " -->\n",
       "<!-- Title: %3 Pages: 1 -->\n",
       "<svg width=\"994pt\" height=\"44pt\"\n",
       " viewBox=\"0.00 0.00 994.00 44.00\" xmlns=\"http://www.w3.org/2000/svg\" xmlns:xlink=\"http://www.w3.org/1999/xlink\">\n",
       "<g id=\"graph0\" class=\"graph\" transform=\"scale(1 1) rotate(0) translate(4 40)\">\n",
       "<title>%3</title>\n",
       "<polygon fill=\"white\" stroke=\"none\" points=\"-4,4 -4,-40 990,-40 990,4 -4,4\"/>\n",
       "<!-- 0 -->\n",
       "<g id=\"node1\" class=\"node\"><title>0</title>\n",
       "<polygon fill=\"none\" stroke=\"black\" points=\"95,-36 0,-36 0,-0 95,-0 95,-36\"/>\n",
       "<text text-anchor=\"middle\" x=\"47.5\" y=\"-14.3\" font-family=\"Times,serif\" font-size=\"14.00\">FileWriteTask</text>\n",
       "</g>\n",
       "<!-- 1 -->\n",
       "<g id=\"node2\" class=\"node\"><title>1</title>\n",
       "<polygon fill=\"none\" stroke=\"black\" points=\"247,-36 131,-36 131,-0 247,-0 247,-36\"/>\n",
       "<text text-anchor=\"middle\" x=\"189\" y=\"-14.3\" font-family=\"Times,serif\" font-size=\"14.00\">CopyVaspOutputs</text>\n",
       "</g>\n",
       "<!-- 0&#45;&gt;1 -->\n",
       "<g id=\"edge1\" class=\"edge\"><title>0&#45;&gt;1</title>\n",
       "<path fill=\"none\" stroke=\"black\" d=\"M95.3396,-18C103.532,-18 112.199,-18 120.813,-18\"/>\n",
       "<polygon fill=\"black\" stroke=\"black\" points=\"120.87,-21.5001 130.87,-18 120.87,-14.5001 120.87,-21.5001\"/>\n",
       "</g>\n",
       "<!-- 2 -->\n",
       "<g id=\"node3\" class=\"node\"><title>2</title>\n",
       "<polygon fill=\"none\" stroke=\"black\" points=\"477,-36 283,-36 283,-0 477,-0 477,-36\"/>\n",
       "<text text-anchor=\"middle\" x=\"380\" y=\"-14.3\" font-family=\"Times,serif\" font-size=\"14.00\">WriteTransmutedStructureIOSet</text>\n",
       "</g>\n",
       "<!-- 1&#45;&gt;2 -->\n",
       "<g id=\"edge2\" class=\"edge\"><title>1&#45;&gt;2</title>\n",
       "<path fill=\"none\" stroke=\"black\" d=\"M247.219,-18C255.341,-18 263.899,-18 272.595,-18\"/>\n",
       "<polygon fill=\"black\" stroke=\"black\" points=\"272.848,-21.5001 282.848,-18 272.848,-14.5001 272.848,-21.5001\"/>\n",
       "</g>\n",
       "<!-- 3 -->\n",
       "<g id=\"node4\" class=\"node\"><title>3</title>\n",
       "<polygon fill=\"none\" stroke=\"black\" points=\"635,-36 513,-36 513,-0 635,-0 635,-36\"/>\n",
       "<text text-anchor=\"middle\" x=\"574\" y=\"-14.3\" font-family=\"Times,serif\" font-size=\"14.00\">RunVaspCustodian</text>\n",
       "</g>\n",
       "<!-- 2&#45;&gt;3 -->\n",
       "<g id=\"edge3\" class=\"edge\"><title>2&#45;&gt;3</title>\n",
       "<path fill=\"none\" stroke=\"black\" d=\"M477,-18C485.665,-18 494.329,-18 502.711,-18\"/>\n",
       "<polygon fill=\"black\" stroke=\"black\" points=\"502.777,-21.5001 512.777,-18 502.777,-14.5001 502.777,-21.5001\"/>\n",
       "</g>\n",
       "<!-- 4 -->\n",
       "<g id=\"node5\" class=\"node\"><title>4</title>\n",
       "<polygon fill=\"none\" stroke=\"black\" points=\"763,-36 671,-36 671,-0 763,-0 763,-36\"/>\n",
       "<text text-anchor=\"middle\" x=\"717\" y=\"-14.3\" font-family=\"Times,serif\" font-size=\"14.00\">PassCalcLocs</text>\n",
       "</g>\n",
       "<!-- 3&#45;&gt;4 -->\n",
       "<g id=\"edge4\" class=\"edge\"><title>3&#45;&gt;4</title>\n",
       "<path fill=\"none\" stroke=\"black\" d=\"M635.206,-18C643.72,-18 652.439,-18 660.851,-18\"/>\n",
       "<polygon fill=\"black\" stroke=\"black\" points=\"660.926,-21.5001 670.926,-18 660.926,-14.5001 660.926,-21.5001\"/>\n",
       "</g>\n",
       "<!-- 5 -->\n",
       "<g id=\"node6\" class=\"node\"><title>5</title>\n",
       "<polygon fill=\"none\" stroke=\"black\" points=\"875,-36 799,-36 799,-0 875,-0 875,-36\"/>\n",
       "<text text-anchor=\"middle\" x=\"837\" y=\"-14.3\" font-family=\"Times,serif\" font-size=\"14.00\">VaspToDb</text>\n",
       "</g>\n",
       "<!-- 4&#45;&gt;5 -->\n",
       "<g id=\"edge5\" class=\"edge\"><title>4&#45;&gt;5</title>\n",
       "<path fill=\"none\" stroke=\"black\" d=\"M763.284,-18C771.602,-18 780.304,-18 788.679,-18\"/>\n",
       "<polygon fill=\"black\" stroke=\"black\" points=\"788.684,-21.5001 798.684,-18 788.684,-14.5001 788.684,-21.5001\"/>\n",
       "</g>\n",
       "<!-- 6 -->\n",
       "<g id=\"node7\" class=\"node\"><title>6</title>\n",
       "<polygon fill=\"none\" stroke=\"black\" points=\"986,-36 911,-36 911,-0 986,-0 986,-36\"/>\n",
       "<text text-anchor=\"middle\" x=\"948.5\" y=\"-14.3\" font-family=\"Times,serif\" font-size=\"14.00\">PassResult</text>\n",
       "</g>\n",
       "<!-- 5&#45;&gt;6 -->\n",
       "<g id=\"edge6\" class=\"edge\"><title>5&#45;&gt;6</title>\n",
       "<path fill=\"none\" stroke=\"black\" d=\"M875.072,-18C883.276,-18 892.074,-18 900.611,-18\"/>\n",
       "<polygon fill=\"black\" stroke=\"black\" points=\"900.838,-21.5001 910.838,-18 900.838,-14.5001 900.838,-21.5001\"/>\n",
       "</g>\n",
       "</g>\n",
       "</svg>\n"
      ],
      "text/plain": [
       "<graphviz.dot.Digraph at 0x7f561c1bf828>"
      ]
     },
     "execution_count": 10,
     "metadata": {},
     "output_type": "execute_result"
    }
   ],
   "source": [
    "print(wf.fws[0].name)\n",
    "wf_to_graph(wf.fws[0])"
   ]
  },
  {
   "cell_type": "code",
   "execution_count": 11,
   "metadata": {
    "collapsed": false
   },
   "outputs": [
    {
     "name": "stdout",
     "output_type": "stream",
     "text": [
      "Si-elastic deformation 21\n"
     ]
    },
    {
     "data": {
      "image/svg+xml": [
       "<?xml version=\"1.0\" encoding=\"UTF-8\" standalone=\"no\"?>\n",
       "<!DOCTYPE svg PUBLIC \"-//W3C//DTD SVG 1.1//EN\"\n",
       " \"http://www.w3.org/Graphics/SVG/1.1/DTD/svg11.dtd\">\n",
       "<!-- Generated by graphviz version 2.38.0 (20140413.2041)\n",
       " -->\n",
       "<!-- Title: %3 Pages: 1 -->\n",
       "<svg width=\"994pt\" height=\"44pt\"\n",
       " viewBox=\"0.00 0.00 994.00 44.00\" xmlns=\"http://www.w3.org/2000/svg\" xmlns:xlink=\"http://www.w3.org/1999/xlink\">\n",
       "<g id=\"graph0\" class=\"graph\" transform=\"scale(1 1) rotate(0) translate(4 40)\">\n",
       "<title>%3</title>\n",
       "<polygon fill=\"white\" stroke=\"none\" points=\"-4,4 -4,-40 990,-40 990,4 -4,4\"/>\n",
       "<!-- 0 -->\n",
       "<g id=\"node1\" class=\"node\"><title>0</title>\n",
       "<polygon fill=\"none\" stroke=\"black\" points=\"95,-36 0,-36 0,-0 95,-0 95,-36\"/>\n",
       "<text text-anchor=\"middle\" x=\"47.5\" y=\"-14.3\" font-family=\"Times,serif\" font-size=\"14.00\">FileWriteTask</text>\n",
       "</g>\n",
       "<!-- 1 -->\n",
       "<g id=\"node2\" class=\"node\"><title>1</title>\n",
       "<polygon fill=\"none\" stroke=\"black\" points=\"247,-36 131,-36 131,-0 247,-0 247,-36\"/>\n",
       "<text text-anchor=\"middle\" x=\"189\" y=\"-14.3\" font-family=\"Times,serif\" font-size=\"14.00\">CopyVaspOutputs</text>\n",
       "</g>\n",
       "<!-- 0&#45;&gt;1 -->\n",
       "<g id=\"edge1\" class=\"edge\"><title>0&#45;&gt;1</title>\n",
       "<path fill=\"none\" stroke=\"black\" d=\"M95.3396,-18C103.532,-18 112.199,-18 120.813,-18\"/>\n",
       "<polygon fill=\"black\" stroke=\"black\" points=\"120.87,-21.5001 130.87,-18 120.87,-14.5001 120.87,-21.5001\"/>\n",
       "</g>\n",
       "<!-- 2 -->\n",
       "<g id=\"node3\" class=\"node\"><title>2</title>\n",
       "<polygon fill=\"none\" stroke=\"black\" points=\"477,-36 283,-36 283,-0 477,-0 477,-36\"/>\n",
       "<text text-anchor=\"middle\" x=\"380\" y=\"-14.3\" font-family=\"Times,serif\" font-size=\"14.00\">WriteTransmutedStructureIOSet</text>\n",
       "</g>\n",
       "<!-- 1&#45;&gt;2 -->\n",
       "<g id=\"edge2\" class=\"edge\"><title>1&#45;&gt;2</title>\n",
       "<path fill=\"none\" stroke=\"black\" d=\"M247.219,-18C255.341,-18 263.899,-18 272.595,-18\"/>\n",
       "<polygon fill=\"black\" stroke=\"black\" points=\"272.848,-21.5001 282.848,-18 272.848,-14.5001 272.848,-21.5001\"/>\n",
       "</g>\n",
       "<!-- 3 -->\n",
       "<g id=\"node4\" class=\"node\"><title>3</title>\n",
       "<polygon fill=\"none\" stroke=\"black\" points=\"635,-36 513,-36 513,-0 635,-0 635,-36\"/>\n",
       "<text text-anchor=\"middle\" x=\"574\" y=\"-14.3\" font-family=\"Times,serif\" font-size=\"14.00\">RunVaspCustodian</text>\n",
       "</g>\n",
       "<!-- 2&#45;&gt;3 -->\n",
       "<g id=\"edge3\" class=\"edge\"><title>2&#45;&gt;3</title>\n",
       "<path fill=\"none\" stroke=\"black\" d=\"M477,-18C485.665,-18 494.329,-18 502.711,-18\"/>\n",
       "<polygon fill=\"black\" stroke=\"black\" points=\"502.777,-21.5001 512.777,-18 502.777,-14.5001 502.777,-21.5001\"/>\n",
       "</g>\n",
       "<!-- 4 -->\n",
       "<g id=\"node5\" class=\"node\"><title>4</title>\n",
       "<polygon fill=\"none\" stroke=\"black\" points=\"763,-36 671,-36 671,-0 763,-0 763,-36\"/>\n",
       "<text text-anchor=\"middle\" x=\"717\" y=\"-14.3\" font-family=\"Times,serif\" font-size=\"14.00\">PassCalcLocs</text>\n",
       "</g>\n",
       "<!-- 3&#45;&gt;4 -->\n",
       "<g id=\"edge4\" class=\"edge\"><title>3&#45;&gt;4</title>\n",
       "<path fill=\"none\" stroke=\"black\" d=\"M635.206,-18C643.72,-18 652.439,-18 660.851,-18\"/>\n",
       "<polygon fill=\"black\" stroke=\"black\" points=\"660.926,-21.5001 670.926,-18 660.926,-14.5001 660.926,-21.5001\"/>\n",
       "</g>\n",
       "<!-- 5 -->\n",
       "<g id=\"node6\" class=\"node\"><title>5</title>\n",
       "<polygon fill=\"none\" stroke=\"black\" points=\"875,-36 799,-36 799,-0 875,-0 875,-36\"/>\n",
       "<text text-anchor=\"middle\" x=\"837\" y=\"-14.3\" font-family=\"Times,serif\" font-size=\"14.00\">VaspToDb</text>\n",
       "</g>\n",
       "<!-- 4&#45;&gt;5 -->\n",
       "<g id=\"edge5\" class=\"edge\"><title>4&#45;&gt;5</title>\n",
       "<path fill=\"none\" stroke=\"black\" d=\"M763.284,-18C771.602,-18 780.304,-18 788.679,-18\"/>\n",
       "<polygon fill=\"black\" stroke=\"black\" points=\"788.684,-21.5001 798.684,-18 788.684,-14.5001 788.684,-21.5001\"/>\n",
       "</g>\n",
       "<!-- 6 -->\n",
       "<g id=\"node7\" class=\"node\"><title>6</title>\n",
       "<polygon fill=\"none\" stroke=\"black\" points=\"986,-36 911,-36 911,-0 986,-0 986,-36\"/>\n",
       "<text text-anchor=\"middle\" x=\"948.5\" y=\"-14.3\" font-family=\"Times,serif\" font-size=\"14.00\">PassResult</text>\n",
       "</g>\n",
       "<!-- 5&#45;&gt;6 -->\n",
       "<g id=\"edge6\" class=\"edge\"><title>5&#45;&gt;6</title>\n",
       "<path fill=\"none\" stroke=\"black\" d=\"M875.072,-18C883.276,-18 892.074,-18 900.611,-18\"/>\n",
       "<polygon fill=\"black\" stroke=\"black\" points=\"900.838,-21.5001 910.838,-18 900.838,-14.5001 900.838,-21.5001\"/>\n",
       "</g>\n",
       "</g>\n",
       "</svg>\n"
      ],
      "text/plain": [
       "<graphviz.dot.Digraph at 0x7f5673fa9f28>"
      ]
     },
     "execution_count": 11,
     "metadata": {},
     "output_type": "execute_result"
    }
   ],
   "source": [
    "print(wf.fws[1].name)\n",
    "wf_to_graph(wf.fws[1])"
   ]
  },
  {
   "cell_type": "code",
   "execution_count": 12,
   "metadata": {
    "collapsed": false
   },
   "outputs": [
    {
     "name": "stdout",
     "output_type": "stream",
     "text": [
      "Si-elastic deformation 23\n"
     ]
    },
    {
     "data": {
      "image/svg+xml": [
       "<?xml version=\"1.0\" encoding=\"UTF-8\" standalone=\"no\"?>\n",
       "<!DOCTYPE svg PUBLIC \"-//W3C//DTD SVG 1.1//EN\"\n",
       " \"http://www.w3.org/Graphics/SVG/1.1/DTD/svg11.dtd\">\n",
       "<!-- Generated by graphviz version 2.38.0 (20140413.2041)\n",
       " -->\n",
       "<!-- Title: %3 Pages: 1 -->\n",
       "<svg width=\"994pt\" height=\"44pt\"\n",
       " viewBox=\"0.00 0.00 994.00 44.00\" xmlns=\"http://www.w3.org/2000/svg\" xmlns:xlink=\"http://www.w3.org/1999/xlink\">\n",
       "<g id=\"graph0\" class=\"graph\" transform=\"scale(1 1) rotate(0) translate(4 40)\">\n",
       "<title>%3</title>\n",
       "<polygon fill=\"white\" stroke=\"none\" points=\"-4,4 -4,-40 990,-40 990,4 -4,4\"/>\n",
       "<!-- 0 -->\n",
       "<g id=\"node1\" class=\"node\"><title>0</title>\n",
       "<polygon fill=\"none\" stroke=\"black\" points=\"95,-36 0,-36 0,-0 95,-0 95,-36\"/>\n",
       "<text text-anchor=\"middle\" x=\"47.5\" y=\"-14.3\" font-family=\"Times,serif\" font-size=\"14.00\">FileWriteTask</text>\n",
       "</g>\n",
       "<!-- 1 -->\n",
       "<g id=\"node2\" class=\"node\"><title>1</title>\n",
       "<polygon fill=\"none\" stroke=\"black\" points=\"247,-36 131,-36 131,-0 247,-0 247,-36\"/>\n",
       "<text text-anchor=\"middle\" x=\"189\" y=\"-14.3\" font-family=\"Times,serif\" font-size=\"14.00\">CopyVaspOutputs</text>\n",
       "</g>\n",
       "<!-- 0&#45;&gt;1 -->\n",
       "<g id=\"edge1\" class=\"edge\"><title>0&#45;&gt;1</title>\n",
       "<path fill=\"none\" stroke=\"black\" d=\"M95.3396,-18C103.532,-18 112.199,-18 120.813,-18\"/>\n",
       "<polygon fill=\"black\" stroke=\"black\" points=\"120.87,-21.5001 130.87,-18 120.87,-14.5001 120.87,-21.5001\"/>\n",
       "</g>\n",
       "<!-- 2 -->\n",
       "<g id=\"node3\" class=\"node\"><title>2</title>\n",
       "<polygon fill=\"none\" stroke=\"black\" points=\"477,-36 283,-36 283,-0 477,-0 477,-36\"/>\n",
       "<text text-anchor=\"middle\" x=\"380\" y=\"-14.3\" font-family=\"Times,serif\" font-size=\"14.00\">WriteTransmutedStructureIOSet</text>\n",
       "</g>\n",
       "<!-- 1&#45;&gt;2 -->\n",
       "<g id=\"edge2\" class=\"edge\"><title>1&#45;&gt;2</title>\n",
       "<path fill=\"none\" stroke=\"black\" d=\"M247.219,-18C255.341,-18 263.899,-18 272.595,-18\"/>\n",
       "<polygon fill=\"black\" stroke=\"black\" points=\"272.848,-21.5001 282.848,-18 272.848,-14.5001 272.848,-21.5001\"/>\n",
       "</g>\n",
       "<!-- 3 -->\n",
       "<g id=\"node4\" class=\"node\"><title>3</title>\n",
       "<polygon fill=\"none\" stroke=\"black\" points=\"635,-36 513,-36 513,-0 635,-0 635,-36\"/>\n",
       "<text text-anchor=\"middle\" x=\"574\" y=\"-14.3\" font-family=\"Times,serif\" font-size=\"14.00\">RunVaspCustodian</text>\n",
       "</g>\n",
       "<!-- 2&#45;&gt;3 -->\n",
       "<g id=\"edge3\" class=\"edge\"><title>2&#45;&gt;3</title>\n",
       "<path fill=\"none\" stroke=\"black\" d=\"M477,-18C485.665,-18 494.329,-18 502.711,-18\"/>\n",
       "<polygon fill=\"black\" stroke=\"black\" points=\"502.777,-21.5001 512.777,-18 502.777,-14.5001 502.777,-21.5001\"/>\n",
       "</g>\n",
       "<!-- 4 -->\n",
       "<g id=\"node5\" class=\"node\"><title>4</title>\n",
       "<polygon fill=\"none\" stroke=\"black\" points=\"763,-36 671,-36 671,-0 763,-0 763,-36\"/>\n",
       "<text text-anchor=\"middle\" x=\"717\" y=\"-14.3\" font-family=\"Times,serif\" font-size=\"14.00\">PassCalcLocs</text>\n",
       "</g>\n",
       "<!-- 3&#45;&gt;4 -->\n",
       "<g id=\"edge4\" class=\"edge\"><title>3&#45;&gt;4</title>\n",
       "<path fill=\"none\" stroke=\"black\" d=\"M635.206,-18C643.72,-18 652.439,-18 660.851,-18\"/>\n",
       "<polygon fill=\"black\" stroke=\"black\" points=\"660.926,-21.5001 670.926,-18 660.926,-14.5001 660.926,-21.5001\"/>\n",
       "</g>\n",
       "<!-- 5 -->\n",
       "<g id=\"node6\" class=\"node\"><title>5</title>\n",
       "<polygon fill=\"none\" stroke=\"black\" points=\"875,-36 799,-36 799,-0 875,-0 875,-36\"/>\n",
       "<text text-anchor=\"middle\" x=\"837\" y=\"-14.3\" font-family=\"Times,serif\" font-size=\"14.00\">VaspToDb</text>\n",
       "</g>\n",
       "<!-- 4&#45;&gt;5 -->\n",
       "<g id=\"edge5\" class=\"edge\"><title>4&#45;&gt;5</title>\n",
       "<path fill=\"none\" stroke=\"black\" d=\"M763.284,-18C771.602,-18 780.304,-18 788.679,-18\"/>\n",
       "<polygon fill=\"black\" stroke=\"black\" points=\"788.684,-21.5001 798.684,-18 788.684,-14.5001 788.684,-21.5001\"/>\n",
       "</g>\n",
       "<!-- 6 -->\n",
       "<g id=\"node7\" class=\"node\"><title>6</title>\n",
       "<polygon fill=\"none\" stroke=\"black\" points=\"986,-36 911,-36 911,-0 986,-0 986,-36\"/>\n",
       "<text text-anchor=\"middle\" x=\"948.5\" y=\"-14.3\" font-family=\"Times,serif\" font-size=\"14.00\">PassResult</text>\n",
       "</g>\n",
       "<!-- 5&#45;&gt;6 -->\n",
       "<g id=\"edge6\" class=\"edge\"><title>5&#45;&gt;6</title>\n",
       "<path fill=\"none\" stroke=\"black\" d=\"M875.072,-18C883.276,-18 892.074,-18 900.611,-18\"/>\n",
       "<polygon fill=\"black\" stroke=\"black\" points=\"900.838,-21.5001 910.838,-18 900.838,-14.5001 900.838,-21.5001\"/>\n",
       "</g>\n",
       "</g>\n",
       "</svg>\n"
      ],
      "text/plain": [
       "<graphviz.dot.Digraph at 0x7f5617dd1630>"
      ]
     },
     "execution_count": 12,
     "metadata": {},
     "output_type": "execute_result"
    }
   ],
   "source": [
    "print(wf.fws[-1].name)\n",
    "wf_to_graph(wf.fws[-1])"
   ]
  },
  {
   "cell_type": "markdown",
   "metadata": {},
   "source": [
    "Note that the standard preset workflow for the elastic tensor uses many calculations in excess of what is required to determine the elastic tensor, which yields a higher-quality tensor in which some of the numerical noise is washed out over the duplicity of calculations.  Note that you can also generate a \"minimal\" elastic workflow which uses neither the more expensive DFT parameters nor the extended calculations.  Tensors generated using this workflow are typically not as accurate, but often work for simple semiconductors with a lot of symmetry.  Let's try it with bulk silicon."
   ]
  },
  {
   "cell_type": "code",
   "execution_count": 13,
   "metadata": {
    "collapsed": true
   },
   "outputs": [],
   "source": [
    "wf = wf_elastic_constant_minimal(structure)"
   ]
  },
  {
   "cell_type": "code",
   "execution_count": 14,
   "metadata": {
    "collapsed": false
   },
   "outputs": [
    {
     "data": {
      "image/svg+xml": [
       "<?xml version=\"1.0\" encoding=\"UTF-8\" standalone=\"no\"?>\n",
       "<!DOCTYPE svg PUBLIC \"-//W3C//DTD SVG 1.1//EN\"\n",
       " \"http://www.w3.org/Graphics/SVG/1.1/DTD/svg11.dtd\">\n",
       "<!-- Generated by graphviz version 2.38.0 (20140413.2041)\n",
       " -->\n",
       "<!-- Title: %3 Pages: 1 -->\n",
       "<svg width=\"323pt\" height=\"98pt\"\n",
       " viewBox=\"0.00 0.00 323.00 98.00\" xmlns=\"http://www.w3.org/2000/svg\" xmlns:xlink=\"http://www.w3.org/1999/xlink\">\n",
       "<g id=\"graph0\" class=\"graph\" transform=\"scale(1 1) rotate(0) translate(4 94)\">\n",
       "<title>%3</title>\n",
       "<polygon fill=\"white\" stroke=\"none\" points=\"-4,4 -4,-94 319,-94 319,4 -4,4\"/>\n",
       "<!-- &#45;1157 -->\n",
       "<g id=\"node1\" class=\"node\"><title>&#45;1157</title>\n",
       "<polygon fill=\"none\" stroke=\"#1f62a2\" points=\"315,-63 184,-63 184,-27 315,-27 315,-63\"/>\n",
       "<text text-anchor=\"middle\" x=\"249.5\" y=\"-41.3\" font-family=\"Times,serif\" font-size=\"14.00\">Analyze Elastic Data</text>\n",
       "</g>\n",
       "<!-- &#45;1156 -->\n",
       "<g id=\"node2\" class=\"node\"><title>&#45;1156</title>\n",
       "<polygon fill=\"none\" stroke=\"#1f62a2\" points=\"148,-90 0,-90 0,-54 148,-54 148,-90\"/>\n",
       "<text text-anchor=\"middle\" x=\"74\" y=\"-68.3\" font-family=\"Times,serif\" font-size=\"14.00\">Si&#45;elastic deformation 1</text>\n",
       "</g>\n",
       "<!-- &#45;1156&#45;&gt;&#45;1157 -->\n",
       "<g id=\"edge1\" class=\"edge\"><title>&#45;1156&#45;&gt;&#45;1157</title>\n",
       "<path fill=\"none\" stroke=\"black\" d=\"M148.077,-60.6278C156.597,-59.3019 165.298,-57.9479 173.839,-56.6188\"/>\n",
       "<polygon fill=\"black\" stroke=\"black\" points=\"174.429,-60.0691 183.772,-55.073 173.352,-53.1524 174.429,-60.0691\"/>\n",
       "</g>\n",
       "<!-- &#45;1155 -->\n",
       "<g id=\"node3\" class=\"node\"><title>&#45;1155</title>\n",
       "<polygon fill=\"none\" stroke=\"#1f62a2\" points=\"148,-36 0,-36 0,-0 148,-0 148,-36\"/>\n",
       "<text text-anchor=\"middle\" x=\"74\" y=\"-14.3\" font-family=\"Times,serif\" font-size=\"14.00\">Si&#45;elastic deformation 0</text>\n",
       "</g>\n",
       "<!-- &#45;1155&#45;&gt;&#45;1157 -->\n",
       "<g id=\"edge2\" class=\"edge\"><title>&#45;1155&#45;&gt;&#45;1157</title>\n",
       "<path fill=\"none\" stroke=\"black\" d=\"M148.077,-29.3722C156.597,-30.6981 165.298,-32.0521 173.839,-33.3812\"/>\n",
       "<polygon fill=\"black\" stroke=\"black\" points=\"173.352,-36.8476 183.772,-34.927 174.429,-29.9309 173.352,-36.8476\"/>\n",
       "</g>\n",
       "</g>\n",
       "</svg>\n"
      ],
      "text/plain": [
       "<graphviz.dot.Digraph at 0x7f5617f2f710>"
      ]
     },
     "execution_count": 14,
     "metadata": {},
     "output_type": "execute_result"
    }
   ],
   "source": [
    "wf_to_graph(wf)"
   ]
  },
  {
   "cell_type": "markdown",
   "metadata": {},
   "source": [
    "Note that for silicon, the two deformation tasks are a single normal deformation along the x axis (which are equivalent to those along the y- and z-axis), and a single shear deformation (equivalent to the two others normally included).  Since this is considerably simpler, we'll run this as our example."
   ]
  },
  {
   "cell_type": "markdown",
   "metadata": {},
   "source": [
    "To run the workflow, we import our launchpad and rocket launcher tools.  Since we can't use VASP in the workflow, we're also going to \"fake\" vasp by copying files rather than running the binary."
   ]
  },
  {
   "cell_type": "code",
   "execution_count": 15,
   "metadata": {
    "collapsed": true
   },
   "outputs": [],
   "source": [
    "from fireworks import LaunchPad\n",
    "from mp_workshop.atomate import use_fake_vasp_workshop"
   ]
  },
  {
   "cell_type": "code",
   "execution_count": 16,
   "metadata": {
    "collapsed": false
   },
   "outputs": [
    {
     "data": {
      "text/plain": [
       "'Si:elastic constants'"
      ]
     },
     "execution_count": 16,
     "metadata": {},
     "output_type": "execute_result"
    }
   ],
   "source": [
    "wf.name"
   ]
  },
  {
   "cell_type": "code",
   "execution_count": 17,
   "metadata": {
    "collapsed": false
   },
   "outputs": [
    {
     "name": "stdout",
     "output_type": "stream",
     "text": [
      "2018-08-10 05:47:27,561 INFO Added a workflow. id_map: {-1157: 1, -1156: 2, -1155: 3}\n"
     ]
    },
    {
     "data": {
      "text/plain": [
       "{-1157: 1, -1156: 2, -1155: 3}"
      ]
     },
     "execution_count": 17,
     "metadata": {},
     "output_type": "execute_result"
    }
   ],
   "source": [
    "wf = use_fake_vasp_workshop(wf)\n",
    "lpad.add_wf(wf)"
   ]
  },
  {
   "cell_type": "markdown",
   "metadata": {},
   "source": [
    "Now we can run the workflow either in the notebook using the pythonic fireworks rocket launcher or using `qlaunch` from the linux command line."
   ]
  },
  {
   "cell_type": "code",
   "execution_count": 18,
   "metadata": {
    "collapsed": true
   },
   "outputs": [],
   "source": [
    "from fireworks.core.rocket_launcher import rapidfire"
   ]
  },
  {
   "cell_type": "code",
   "execution_count": 19,
   "metadata": {
    "collapsed": true
   },
   "outputs": [],
   "source": [
    "import os"
   ]
  },
  {
   "cell_type": "code",
   "execution_count": 20,
   "metadata": {
    "collapsed": false
   },
   "outputs": [
    {
     "name": "stdout",
     "output_type": "stream",
     "text": [
      "2018-08-10 05:47:27,784 INFO Created new dir /home/jovyan/work/workshop-2018/lessons/atomate/temp/launcher_2018-08-10-05-47-27-784616\n",
      "2018-08-10 05:47:27,785 INFO Launching Rocket\n",
      "2018-08-10 05:47:27,847 INFO RUNNING fw_id: 3 in directory: /home/jovyan/work/workshop-2018/lessons/atomate/temp/launcher_2018-08-10-05-47-27-784616\n",
      "2018-08-10 05:47:27,878 INFO Task started: FileWriteTask.\n",
      "2018-08-10 05:47:27,879 INFO Task completed: FileWriteTask \n",
      "2018-08-10 05:47:27,884 INFO Task started: {{atomate.vasp.firetasks.write_inputs.WriteTransmutedStructureIOSet}}.\n",
      "2018-08-10 05:47:27,933 INFO Task completed: {{atomate.vasp.firetasks.write_inputs.WriteTransmutedStructureIOSet}} \n",
      "2018-08-10 05:47:27,939 INFO Task started: {{atomate.vasp.firetasks.run_calc.RunVaspFake}}.\n",
      "2018-08-10 05:47:27,975 INFO atomate.vasp.firetasks.run_calc RunVaspFake: verified inputs successfully\n",
      "2018-08-10 05:47:28,011 INFO atomate.vasp.firetasks.run_calc RunVaspFake: ran fake VASP, generated outputs\n",
      "2018-08-10 05:47:28,012 INFO Task completed: {{atomate.vasp.firetasks.run_calc.RunVaspFake}} \n",
      "2018-08-10 05:47:28,017 INFO Task started: {{atomate.common.firetasks.glue_tasks.PassCalcLocs}}.\n",
      "2018-08-10 05:47:28,019 INFO Task completed: {{atomate.common.firetasks.glue_tasks.PassCalcLocs}} \n",
      "2018-08-10 05:47:28,023 INFO Task started: {{atomate.vasp.firetasks.parse_outputs.VaspToDb}}.\n",
      "2018-08-10 05:47:28,024 INFO atomate.vasp.firetasks.parse_outputs PARSING DIRECTORY: /home/jovyan/work/workshop-2018/lessons/atomate/temp/launcher_2018-08-10-05-47-27-784616\n",
      "2018-08-10 05:47:28,025 INFO atomate.vasp.drones Getting task doc for base dir :/home/jovyan/work/workshop-2018/lessons/atomate/temp/launcher_2018-08-10-05-47-27-784616\n",
      "2018-08-10 05:47:29,461 INFO atomate.vasp.drones Post-processing dir:/home/jovyan/work/workshop-2018/lessons/atomate/temp/launcher_2018-08-10-05-47-27-784616\n",
      "2018-08-10 05:47:29,463 WARNING atomate.vasp.drones Cannot parse ICSD from transformations file.\n",
      "2018-08-10 05:47:29,480 INFO atomate.vasp.drones Post-processed /home/jovyan/work/workshop-2018/lessons/atomate/temp/launcher_2018-08-10-05-47-27-784616\n",
      "2018-08-10 05:47:29,484 INFO Task completed: {{atomate.vasp.firetasks.parse_outputs.VaspToDb}} \n",
      "2018-08-10 05:47:29,496 INFO Task started: {{atomate.common.firetasks.glue_tasks.PassResult}}.\n",
      "2018-08-10 05:47:29,771 INFO Task completed: {{atomate.common.firetasks.glue_tasks.PassResult}} \n",
      "2018-08-10 05:47:29,824 INFO Rocket finished\n",
      "2018-08-10 05:47:29,832 INFO Created new dir /home/jovyan/work/workshop-2018/lessons/atomate/temp/launcher_2018-08-10-05-47-29-832001\n",
      "2018-08-10 05:47:29,832 INFO Launching Rocket\n",
      "2018-08-10 05:47:29,866 INFO RUNNING fw_id: 2 in directory: /home/jovyan/work/workshop-2018/lessons/atomate/temp/launcher_2018-08-10-05-47-29-832001\n",
      "2018-08-10 05:47:29,879 INFO Task started: FileWriteTask.\n",
      "2018-08-10 05:47:29,880 INFO Task completed: FileWriteTask \n",
      "2018-08-10 05:47:29,883 INFO Task started: {{atomate.vasp.firetasks.write_inputs.WriteTransmutedStructureIOSet}}.\n",
      "2018-08-10 05:47:29,898 INFO Task completed: {{atomate.vasp.firetasks.write_inputs.WriteTransmutedStructureIOSet}} \n",
      "2018-08-10 05:47:29,900 INFO Task started: {{atomate.vasp.firetasks.run_calc.RunVaspFake}}.\n",
      "2018-08-10 05:47:29,919 INFO atomate.vasp.firetasks.run_calc RunVaspFake: verified inputs successfully\n",
      "2018-08-10 05:47:29,934 INFO atomate.vasp.firetasks.run_calc RunVaspFake: ran fake VASP, generated outputs\n",
      "2018-08-10 05:47:29,935 INFO Task completed: {{atomate.vasp.firetasks.run_calc.RunVaspFake}} \n",
      "2018-08-10 05:47:29,937 INFO Task started: {{atomate.common.firetasks.glue_tasks.PassCalcLocs}}.\n",
      "2018-08-10 05:47:29,938 INFO Task completed: {{atomate.common.firetasks.glue_tasks.PassCalcLocs}} \n",
      "2018-08-10 05:47:29,940 INFO Task started: {{atomate.vasp.firetasks.parse_outputs.VaspToDb}}.\n",
      "2018-08-10 05:47:29,941 INFO atomate.vasp.firetasks.parse_outputs PARSING DIRECTORY: /home/jovyan/work/workshop-2018/lessons/atomate/temp/launcher_2018-08-10-05-47-29-832001\n",
      "2018-08-10 05:47:29,941 INFO atomate.vasp.drones Getting task doc for base dir :/home/jovyan/work/workshop-2018/lessons/atomate/temp/launcher_2018-08-10-05-47-29-832001\n",
      "2018-08-10 05:47:30,990 INFO atomate.vasp.drones Post-processing dir:/home/jovyan/work/workshop-2018/lessons/atomate/temp/launcher_2018-08-10-05-47-29-832001\n",
      "2018-08-10 05:47:30,991 WARNING atomate.vasp.drones Cannot parse ICSD from transformations file.\n",
      "2018-08-10 05:47:31,015 INFO atomate.vasp.drones Post-processed /home/jovyan/work/workshop-2018/lessons/atomate/temp/launcher_2018-08-10-05-47-29-832001\n",
      "2018-08-10 05:47:31,018 INFO Task completed: {{atomate.vasp.firetasks.parse_outputs.VaspToDb}} \n",
      "2018-08-10 05:47:31,021 INFO Task started: {{atomate.common.firetasks.glue_tasks.PassResult}}.\n",
      "2018-08-10 05:47:31,155 INFO Task completed: {{atomate.common.firetasks.glue_tasks.PassResult}} \n",
      "2018-08-10 05:47:31,299 INFO Rocket finished\n",
      "2018-08-10 05:47:31,306 INFO Created new dir /home/jovyan/work/workshop-2018/lessons/atomate/temp/launcher_2018-08-10-05-47-31-306298\n",
      "2018-08-10 05:47:31,307 INFO Launching Rocket\n",
      "2018-08-10 05:47:31,335 INFO RUNNING fw_id: 1 in directory: /home/jovyan/work/workshop-2018/lessons/atomate/temp/launcher_2018-08-10-05-47-31-306298\n",
      "2018-08-10 05:47:31,351 INFO Task started: FileWriteTask.\n",
      "2018-08-10 05:47:31,352 INFO Task completed: FileWriteTask \n",
      "2018-08-10 05:47:31,355 INFO Task started: {{atomate.vasp.firetasks.parse_outputs.ElasticTensorToDb}}.\n",
      "2018-08-10 05:47:31,390 INFO atomate.vasp.firetasks.parse_outputs Analyzing stress/strain data\n"
     ]
    },
    {
     "name": "stderr",
     "output_type": "stream",
     "text": [
      "/opt/conda/lib/python3.5/site-packages/pymatgen/analysis/elasticity/elastic.py:916: UserWarning: No eq state found, returning zero voigt stress\n",
      "  warnings.warn(\"No eq state found, returning zero voigt stress\")\n"
     ]
    },
    {
     "name": "stdout",
     "output_type": "stream",
     "text": [
      "2018-08-10 05:47:32,135 INFO Rocket finished\n"
     ]
    },
    {
     "name": "stderr",
     "output_type": "stream",
     "text": [
      "Traceback (most recent call last):\n",
      "  File \"/home/jovyan/src/fireworks/fireworks/core/rocket.py\", line 262, in run\n",
      "    m_action = t.run_task(my_spec)\n",
      "  File \"/opt/conda/lib/python3.5/site-packages/atomate/vasp/firetasks/parse_outputs.py\", line 363, in run_task\n",
      "    d.update({\"derived_properties\": ieee.get_structure_property_dict(ref_struct)})\n",
      "  File \"/opt/conda/lib/python3.5/site-packages/pymatgen/analysis/elasticity/elastic.py\", line 440, in get_structure_property_dict\n",
      "    sp_dict = {prop: getattr(self, prop)(structure) for prop in s_props}\n",
      "  File \"/opt/conda/lib/python3.5/site-packages/pymatgen/analysis/elasticity/elastic.py\", line 440, in <dictcomp>\n",
      "    sp_dict = {prop: getattr(self, prop)(structure) for prop in s_props}\n",
      "  File \"/opt/conda/lib/python3.5/site-packages/pymatgen/analysis/elasticity/elastic.py\", line 106, in wrapper\n",
      "    raise ValueError(\"Bulk or shear modulus is negative, property \"\n",
      "ValueError: Bulk or shear modulus is negative, property cannot be determined\n"
     ]
    }
   ],
   "source": [
    "os.chdir(\"temp\")\n",
    "rapidfire(lpad)"
   ]
  },
  {
   "cell_type": "markdown",
   "metadata": {},
   "source": [
    "## Powerups"
   ]
  },
  {
   "cell_type": "markdown",
   "metadata": {},
   "source": [
    "Atomate contains a number of tools for modifying workflows, known as \"powerups\" which are functions which will modify the workflows in commonly desired ways.  For example, if you want to modify the parameters of a VASP calculation, you can use the add_modify_incar powerup to change these for every firework in the workflow."
   ]
  },
  {
   "cell_type": "markdown",
   "metadata": {},
   "source": [
    "### add_modify_incar"
   ]
  },
  {
   "cell_type": "code",
   "execution_count": 21,
   "metadata": {
    "collapsed": true
   },
   "outputs": [],
   "source": [
    "from atomate.vasp.powerups import add_modify_incar"
   ]
  },
  {
   "cell_type": "code",
   "execution_count": 22,
   "metadata": {
    "collapsed": true
   },
   "outputs": [],
   "source": [
    "wf = get_wf(structure, \"bandstructure.yaml\")"
   ]
  },
  {
   "cell_type": "code",
   "execution_count": 23,
   "metadata": {
    "collapsed": false
   },
   "outputs": [
    {
     "data": {
      "image/svg+xml": [
       "<?xml version=\"1.0\" encoding=\"UTF-8\" standalone=\"no\"?>\n",
       "<!DOCTYPE svg PUBLIC \"-//W3C//DTD SVG 1.1//EN\"\n",
       " \"http://www.w3.org/Graphics/SVG/1.1/DTD/svg11.dtd\">\n",
       "<!-- Generated by graphviz version 2.38.0 (20140413.2041)\n",
       " -->\n",
       "<!-- Title: %3 Pages: 1 -->\n",
       "<svg width=\"722pt\" height=\"44pt\"\n",
       " viewBox=\"0.00 0.00 722.00 44.00\" xmlns=\"http://www.w3.org/2000/svg\" xmlns:xlink=\"http://www.w3.org/1999/xlink\">\n",
       "<g id=\"graph0\" class=\"graph\" transform=\"scale(1 1) rotate(0) translate(4 40)\">\n",
       "<title>%3</title>\n",
       "<polygon fill=\"white\" stroke=\"none\" points=\"-4,4 -4,-40 718,-40 718,4 -4,4\"/>\n",
       "<!-- 0 -->\n",
       "<g id=\"node1\" class=\"node\"><title>0</title>\n",
       "<polygon fill=\"none\" stroke=\"black\" points=\"116,-36 7.10543e-15,-36 7.10543e-15,-0 116,-0 116,-36\"/>\n",
       "<text text-anchor=\"middle\" x=\"58\" y=\"-14.3\" font-family=\"Times,serif\" font-size=\"14.00\">CopyVaspOutputs</text>\n",
       "</g>\n",
       "<!-- 1 -->\n",
       "<g id=\"node2\" class=\"node\"><title>1</title>\n",
       "<polygon fill=\"none\" stroke=\"black\" points=\"316,-36 152,-36 152,-0 316,-0 316,-36\"/>\n",
       "<text text-anchor=\"middle\" x=\"234\" y=\"-14.3\" font-family=\"Times,serif\" font-size=\"14.00\">WriteVaspNSCFFromPrev</text>\n",
       "</g>\n",
       "<!-- 0&#45;&gt;1 -->\n",
       "<g id=\"edge1\" class=\"edge\"><title>0&#45;&gt;1</title>\n",
       "<path fill=\"none\" stroke=\"black\" d=\"M116.456,-18C124.638,-18 133.216,-18 141.848,-18\"/>\n",
       "<polygon fill=\"black\" stroke=\"black\" points=\"141.987,-21.5001 151.987,-18 141.986,-14.5001 141.987,-21.5001\"/>\n",
       "</g>\n",
       "<!-- 2 -->\n",
       "<g id=\"node3\" class=\"node\"><title>2</title>\n",
       "<polygon fill=\"none\" stroke=\"black\" points=\"474,-36 352,-36 352,-0 474,-0 474,-36\"/>\n",
       "<text text-anchor=\"middle\" x=\"413\" y=\"-14.3\" font-family=\"Times,serif\" font-size=\"14.00\">RunVaspCustodian</text>\n",
       "</g>\n",
       "<!-- 1&#45;&gt;2 -->\n",
       "<g id=\"edge2\" class=\"edge\"><title>1&#45;&gt;2</title>\n",
       "<path fill=\"none\" stroke=\"black\" d=\"M316.247,-18C324.776,-18 333.395,-18 341.785,-18\"/>\n",
       "<polygon fill=\"black\" stroke=\"black\" points=\"341.883,-21.5001 351.883,-18 341.883,-14.5001 341.883,-21.5001\"/>\n",
       "</g>\n",
       "<!-- 3 -->\n",
       "<g id=\"node4\" class=\"node\"><title>3</title>\n",
       "<polygon fill=\"none\" stroke=\"black\" points=\"602,-36 510,-36 510,-0 602,-0 602,-36\"/>\n",
       "<text text-anchor=\"middle\" x=\"556\" y=\"-14.3\" font-family=\"Times,serif\" font-size=\"14.00\">PassCalcLocs</text>\n",
       "</g>\n",
       "<!-- 2&#45;&gt;3 -->\n",
       "<g id=\"edge3\" class=\"edge\"><title>2&#45;&gt;3</title>\n",
       "<path fill=\"none\" stroke=\"black\" d=\"M474.206,-18C482.72,-18 491.439,-18 499.851,-18\"/>\n",
       "<polygon fill=\"black\" stroke=\"black\" points=\"499.926,-21.5001 509.926,-18 499.926,-14.5001 499.926,-21.5001\"/>\n",
       "</g>\n",
       "<!-- 4 -->\n",
       "<g id=\"node5\" class=\"node\"><title>4</title>\n",
       "<polygon fill=\"none\" stroke=\"black\" points=\"714,-36 638,-36 638,-0 714,-0 714,-36\"/>\n",
       "<text text-anchor=\"middle\" x=\"676\" y=\"-14.3\" font-family=\"Times,serif\" font-size=\"14.00\">VaspToDb</text>\n",
       "</g>\n",
       "<!-- 3&#45;&gt;4 -->\n",
       "<g id=\"edge4\" class=\"edge\"><title>3&#45;&gt;4</title>\n",
       "<path fill=\"none\" stroke=\"black\" d=\"M602.284,-18C610.602,-18 619.304,-18 627.679,-18\"/>\n",
       "<polygon fill=\"black\" stroke=\"black\" points=\"627.684,-21.5001 637.684,-18 627.684,-14.5001 627.684,-21.5001\"/>\n",
       "</g>\n",
       "</g>\n",
       "</svg>\n"
      ],
      "text/plain": [
       "<graphviz.dot.Digraph at 0x7f5617f2f9e8>"
      ]
     },
     "execution_count": 23,
     "metadata": {},
     "output_type": "execute_result"
    }
   ],
   "source": [
    "wf_to_graph(wf.fws[0])"
   ]
  },
  {
   "cell_type": "code",
   "execution_count": 24,
   "metadata": {
    "collapsed": true
   },
   "outputs": [],
   "source": [
    "modified = add_modify_incar(wf, {\"incar_update\": {\"ENCUT\": 700}})"
   ]
  },
  {
   "cell_type": "code",
   "execution_count": 25,
   "metadata": {
    "collapsed": false
   },
   "outputs": [
    {
     "data": {
      "image/svg+xml": [
       "<?xml version=\"1.0\" encoding=\"UTF-8\" standalone=\"no\"?>\n",
       "<!DOCTYPE svg PUBLIC \"-//W3C//DTD SVG 1.1//EN\"\n",
       " \"http://www.w3.org/Graphics/SVG/1.1/DTD/svg11.dtd\">\n",
       "<!-- Generated by graphviz version 2.38.0 (20140413.2041)\n",
       " -->\n",
       "<!-- Title: %3 Pages: 1 -->\n",
       "<svg width=\"844pt\" height=\"44pt\"\n",
       " viewBox=\"0.00 0.00 844.00 44.00\" xmlns=\"http://www.w3.org/2000/svg\" xmlns:xlink=\"http://www.w3.org/1999/xlink\">\n",
       "<g id=\"graph0\" class=\"graph\" transform=\"scale(1 1) rotate(0) translate(4 40)\">\n",
       "<title>%3</title>\n",
       "<polygon fill=\"white\" stroke=\"none\" points=\"-4,4 -4,-40 840,-40 840,4 -4,4\"/>\n",
       "<!-- 0 -->\n",
       "<g id=\"node1\" class=\"node\"><title>0</title>\n",
       "<polygon fill=\"none\" stroke=\"black\" points=\"116,-36 7.10543e-15,-36 7.10543e-15,-0 116,-0 116,-36\"/>\n",
       "<text text-anchor=\"middle\" x=\"58\" y=\"-14.3\" font-family=\"Times,serif\" font-size=\"14.00\">CopyVaspOutputs</text>\n",
       "</g>\n",
       "<!-- 1 -->\n",
       "<g id=\"node2\" class=\"node\"><title>1</title>\n",
       "<polygon fill=\"none\" stroke=\"black\" points=\"316,-36 152,-36 152,-0 316,-0 316,-36\"/>\n",
       "<text text-anchor=\"middle\" x=\"234\" y=\"-14.3\" font-family=\"Times,serif\" font-size=\"14.00\">WriteVaspNSCFFromPrev</text>\n",
       "</g>\n",
       "<!-- 0&#45;&gt;1 -->\n",
       "<g id=\"edge1\" class=\"edge\"><title>0&#45;&gt;1</title>\n",
       "<path fill=\"none\" stroke=\"black\" d=\"M116.456,-18C124.638,-18 133.216,-18 141.848,-18\"/>\n",
       "<polygon fill=\"black\" stroke=\"black\" points=\"141.987,-21.5001 151.987,-18 141.986,-14.5001 141.987,-21.5001\"/>\n",
       "</g>\n",
       "<!-- 2 -->\n",
       "<g id=\"node3\" class=\"node\"><title>2</title>\n",
       "<polygon fill=\"none\" stroke=\"black\" points=\"438,-36 352,-36 352,-0 438,-0 438,-36\"/>\n",
       "<text text-anchor=\"middle\" x=\"395\" y=\"-14.3\" font-family=\"Times,serif\" font-size=\"14.00\">ModifyIncar</text>\n",
       "</g>\n",
       "<!-- 1&#45;&gt;2 -->\n",
       "<g id=\"edge2\" class=\"edge\"><title>1&#45;&gt;2</title>\n",
       "<path fill=\"none\" stroke=\"black\" d=\"M316.363,-18C324.959,-18 333.525,-18 341.66,-18\"/>\n",
       "<polygon fill=\"black\" stroke=\"black\" points=\"341.704,-21.5001 351.704,-18 341.704,-14.5001 341.704,-21.5001\"/>\n",
       "</g>\n",
       "<!-- 3 -->\n",
       "<g id=\"node4\" class=\"node\"><title>3</title>\n",
       "<polygon fill=\"none\" stroke=\"black\" points=\"596,-36 474,-36 474,-0 596,-0 596,-36\"/>\n",
       "<text text-anchor=\"middle\" x=\"535\" y=\"-14.3\" font-family=\"Times,serif\" font-size=\"14.00\">RunVaspCustodian</text>\n",
       "</g>\n",
       "<!-- 2&#45;&gt;3 -->\n",
       "<g id=\"edge3\" class=\"edge\"><title>2&#45;&gt;3</title>\n",
       "<path fill=\"none\" stroke=\"black\" d=\"M438.154,-18C446.244,-18 454.918,-18 463.62,-18\"/>\n",
       "<polygon fill=\"black\" stroke=\"black\" points=\"463.816,-21.5001 473.816,-18 463.816,-14.5001 463.816,-21.5001\"/>\n",
       "</g>\n",
       "<!-- 4 -->\n",
       "<g id=\"node5\" class=\"node\"><title>4</title>\n",
       "<polygon fill=\"none\" stroke=\"black\" points=\"724,-36 632,-36 632,-0 724,-0 724,-36\"/>\n",
       "<text text-anchor=\"middle\" x=\"678\" y=\"-14.3\" font-family=\"Times,serif\" font-size=\"14.00\">PassCalcLocs</text>\n",
       "</g>\n",
       "<!-- 3&#45;&gt;4 -->\n",
       "<g id=\"edge4\" class=\"edge\"><title>3&#45;&gt;4</title>\n",
       "<path fill=\"none\" stroke=\"black\" d=\"M596.206,-18C604.72,-18 613.439,-18 621.851,-18\"/>\n",
       "<polygon fill=\"black\" stroke=\"black\" points=\"621.926,-21.5001 631.926,-18 621.926,-14.5001 621.926,-21.5001\"/>\n",
       "</g>\n",
       "<!-- 5 -->\n",
       "<g id=\"node6\" class=\"node\"><title>5</title>\n",
       "<polygon fill=\"none\" stroke=\"black\" points=\"836,-36 760,-36 760,-0 836,-0 836,-36\"/>\n",
       "<text text-anchor=\"middle\" x=\"798\" y=\"-14.3\" font-family=\"Times,serif\" font-size=\"14.00\">VaspToDb</text>\n",
       "</g>\n",
       "<!-- 4&#45;&gt;5 -->\n",
       "<g id=\"edge5\" class=\"edge\"><title>4&#45;&gt;5</title>\n",
       "<path fill=\"none\" stroke=\"black\" d=\"M724.284,-18C732.602,-18 741.304,-18 749.679,-18\"/>\n",
       "<polygon fill=\"black\" stroke=\"black\" points=\"749.684,-21.5001 759.684,-18 749.684,-14.5001 749.684,-21.5001\"/>\n",
       "</g>\n",
       "</g>\n",
       "</svg>\n"
      ],
      "text/plain": [
       "<graphviz.dot.Digraph at 0x7f5617f2f4e0>"
      ]
     },
     "execution_count": 25,
     "metadata": {},
     "output_type": "execute_result"
    }
   ],
   "source": [
    "wf_to_graph(modified.fws[0])"
   ]
  },
  {
   "cell_type": "markdown",
   "metadata": {},
   "source": [
    "Prior to the execution of the VASP calculation, a ModifyIncar firetask is inserted which will read the incar and modify the ENCUT parameter such that it matches our powerup specification."
   ]
  },
  {
   "cell_type": "markdown",
   "metadata": {},
   "source": [
    "### add_tags, add_structure_metadata"
   ]
  },
  {
   "cell_type": "code",
   "execution_count": 26,
   "metadata": {
    "collapsed": true
   },
   "outputs": [],
   "source": [
    "from atomate.vasp.powerups import add_tags"
   ]
  },
  {
   "cell_type": "code",
   "execution_count": 27,
   "metadata": {
    "collapsed": false
   },
   "outputs": [
    {
     "name": "stdout",
     "output_type": "stream",
     "text": [
      "WF metadata:  {}\n",
      "Last task:  <{{atomate.vasp.firetasks.parse_outputs.VaspToDb}}>:{'additional_fields': {'task_label': 'nscf uniform'}, 'parse_dos': True, 'bandstructure_mode': 'uniform', 'db_file': None}\n"
     ]
    }
   ],
   "source": [
    "print(\"WF metadata: \", wf.metadata)\n",
    "print(\"Last task: \", wf.fws[0].tasks[-1])"
   ]
  },
  {
   "cell_type": "code",
   "execution_count": 28,
   "metadata": {
    "collapsed": true
   },
   "outputs": [],
   "source": [
    "wf = add_tags(wf, [\"photocathodes\"])"
   ]
  },
  {
   "cell_type": "code",
   "execution_count": 29,
   "metadata": {
    "collapsed": false
   },
   "outputs": [
    {
     "name": "stdout",
     "output_type": "stream",
     "text": [
      "WF metadata:  {'tags': ['photocathodes']}\n",
      "Last task:  <{{atomate.vasp.firetasks.parse_outputs.VaspToDb}}>:{'additional_fields': {'task_label': 'nscf uniform', 'tags': ['photocathodes']}, 'parse_dos': True, 'bandstructure_mode': 'uniform', 'db_file': None}\n"
     ]
    }
   ],
   "source": [
    "print(\"WF metadata: \", wf.metadata)\n",
    "print(\"Last task: \", wf.fws[0].tasks[-1])"
   ]
  },
  {
   "cell_type": "markdown",
   "metadata": {},
   "source": [
    "## A few other \"complex\" workflows."
   ]
  },
  {
   "cell_type": "markdown",
   "metadata": {},
   "source": [
    "Atomate contains a few workflows that will do more complicating things like calculations on surfaces.  Let's say I want to calculate the determine the hydrogen adsorption energy on every low-index facet of Pt."
   ]
  },
  {
   "cell_type": "code",
   "execution_count": 30,
   "metadata": {
    "collapsed": true
   },
   "outputs": [],
   "source": [
    "from atomate.vasp.workflows.base.adsorption import get_wf_surface_all_slabs\n",
    "from pymatgen import MPRester, Molecule"
   ]
  },
  {
   "cell_type": "code",
   "execution_count": 31,
   "metadata": {
    "collapsed": true,
    "scrolled": true
   },
   "outputs": [],
   "source": [
    "pt = mpr.get_structure_by_material_id(\"Pt\", conventional_unit_cell=True)\n",
    "adsorbate = Molecule(\"H\", [[0, 0, 0]])"
   ]
  },
  {
   "cell_type": "code",
   "execution_count": 32,
   "metadata": {
    "collapsed": true
   },
   "outputs": [],
   "source": [
    "wf = get_wf_surface_all_slabs(pt, [adsorbate])"
   ]
  },
  {
   "cell_type": "code",
   "execution_count": 33,
   "metadata": {
    "collapsed": false
   },
   "outputs": [
    {
     "data": {
      "image/svg+xml": [
       "<?xml version=\"1.0\" encoding=\"UTF-8\" standalone=\"no\"?>\n",
       "<!DOCTYPE svg PUBLIC \"-//W3C//DTD SVG 1.1//EN\"\n",
       " \"http://www.w3.org/Graphics/SVG/1.1/DTD/svg11.dtd\">\n",
       "<!-- Generated by graphviz version 2.38.0 (20140413.2041)\n",
       " -->\n",
       "<!-- Title: %3 Pages: 1 -->\n",
       "<svg width=\"450pt\" height=\"746pt\"\n",
       " viewBox=\"0.00 0.00 450.00 746.00\" xmlns=\"http://www.w3.org/2000/svg\" xmlns:xlink=\"http://www.w3.org/1999/xlink\">\n",
       "<g id=\"graph0\" class=\"graph\" transform=\"scale(1 1) rotate(0) translate(4 742)\">\n",
       "<title>%3</title>\n",
       "<polygon fill=\"white\" stroke=\"none\" points=\"-4,4 -4,-742 446,-742 446,4 -4,4\"/>\n",
       "<!-- &#45;1176 -->\n",
       "<g id=\"node1\" class=\"node\"><title>&#45;1176</title>\n",
       "<polygon fill=\"none\" stroke=\"#1f62a2\" points=\"442,-738 188,-738 188,-702 442,-702 442,-738\"/>\n",
       "<text text-anchor=\"middle\" x=\"315\" y=\"-716.3\" font-family=\"Times,serif\" font-size=\"14.00\">Pt&#45;H1&#45;Pt_(1, 0, 0) adsorbate optimization 2</text>\n",
       "</g>\n",
       "<!-- &#45;1175 -->\n",
       "<g id=\"node2\" class=\"node\"><title>&#45;1175</title>\n",
       "<polygon fill=\"none\" stroke=\"#1f62a2\" points=\"442,-684 188,-684 188,-648 442,-648 442,-684\"/>\n",
       "<text text-anchor=\"middle\" x=\"315\" y=\"-662.3\" font-family=\"Times,serif\" font-size=\"14.00\">Pt&#45;H1&#45;Pt_(1, 0, 0) adsorbate optimization 1</text>\n",
       "</g>\n",
       "<!-- &#45;1174 -->\n",
       "<g id=\"node3\" class=\"node\"><title>&#45;1174</title>\n",
       "<polygon fill=\"none\" stroke=\"#1f62a2\" points=\"442,-630 188,-630 188,-594 442,-594 442,-630\"/>\n",
       "<text text-anchor=\"middle\" x=\"315\" y=\"-608.3\" font-family=\"Times,serif\" font-size=\"14.00\">Pt&#45;H1&#45;Pt_(1, 0, 0) adsorbate optimization 0</text>\n",
       "</g>\n",
       "<!-- &#45;1173 -->\n",
       "<g id=\"node4\" class=\"node\"><title>&#45;1173</title>\n",
       "<polygon fill=\"none\" stroke=\"#1f62a2\" points=\"411.5,-576 218.5,-576 218.5,-540 411.5,-540 411.5,-576\"/>\n",
       "<text text-anchor=\"middle\" x=\"315\" y=\"-554.3\" font-family=\"Times,serif\" font-size=\"14.00\">Pt&#45;Pt_(1, 0, 0) slab optimization</text>\n",
       "</g>\n",
       "<!-- &#45;1172 -->\n",
       "<g id=\"node5\" class=\"node\"><title>&#45;1172</title>\n",
       "<polygon fill=\"none\" stroke=\"#1f62a2\" points=\"442,-522 188,-522 188,-486 442,-486 442,-522\"/>\n",
       "<text text-anchor=\"middle\" x=\"315\" y=\"-500.3\" font-family=\"Times,serif\" font-size=\"14.00\">Pt&#45;H1&#45;Pt_(1, 1, 0) adsorbate optimization 3</text>\n",
       "</g>\n",
       "<!-- &#45;1171 -->\n",
       "<g id=\"node6\" class=\"node\"><title>&#45;1171</title>\n",
       "<polygon fill=\"none\" stroke=\"#1f62a2\" points=\"442,-468 188,-468 188,-432 442,-432 442,-468\"/>\n",
       "<text text-anchor=\"middle\" x=\"315\" y=\"-446.3\" font-family=\"Times,serif\" font-size=\"14.00\">Pt&#45;H1&#45;Pt_(1, 1, 0) adsorbate optimization 2</text>\n",
       "</g>\n",
       "<!-- &#45;1170 -->\n",
       "<g id=\"node7\" class=\"node\"><title>&#45;1170</title>\n",
       "<polygon fill=\"none\" stroke=\"#1f62a2\" points=\"442,-414 188,-414 188,-378 442,-378 442,-414\"/>\n",
       "<text text-anchor=\"middle\" x=\"315\" y=\"-392.3\" font-family=\"Times,serif\" font-size=\"14.00\">Pt&#45;H1&#45;Pt_(1, 1, 0) adsorbate optimization 1</text>\n",
       "</g>\n",
       "<!-- &#45;1169 -->\n",
       "<g id=\"node8\" class=\"node\"><title>&#45;1169</title>\n",
       "<polygon fill=\"none\" stroke=\"#1f62a2\" points=\"442,-360 188,-360 188,-324 442,-324 442,-360\"/>\n",
       "<text text-anchor=\"middle\" x=\"315\" y=\"-338.3\" font-family=\"Times,serif\" font-size=\"14.00\">Pt&#45;H1&#45;Pt_(1, 1, 0) adsorbate optimization 0</text>\n",
       "</g>\n",
       "<!-- &#45;1168 -->\n",
       "<g id=\"node9\" class=\"node\"><title>&#45;1168</title>\n",
       "<polygon fill=\"none\" stroke=\"#1f62a2\" points=\"411.5,-306 218.5,-306 218.5,-270 411.5,-270 411.5,-306\"/>\n",
       "<text text-anchor=\"middle\" x=\"315\" y=\"-284.3\" font-family=\"Times,serif\" font-size=\"14.00\">Pt&#45;Pt_(1, 1, 0) slab optimization</text>\n",
       "</g>\n",
       "<!-- &#45;1167 -->\n",
       "<g id=\"node10\" class=\"node\"><title>&#45;1167</title>\n",
       "<polygon fill=\"none\" stroke=\"#1f62a2\" points=\"442,-252 188,-252 188,-216 442,-216 442,-252\"/>\n",
       "<text text-anchor=\"middle\" x=\"315\" y=\"-230.3\" font-family=\"Times,serif\" font-size=\"14.00\">Pt&#45;H1&#45;Pt_(1, 1, 1) adsorbate optimization 3</text>\n",
       "</g>\n",
       "<!-- &#45;1166 -->\n",
       "<g id=\"node11\" class=\"node\"><title>&#45;1166</title>\n",
       "<polygon fill=\"none\" stroke=\"#1f62a2\" points=\"442,-198 188,-198 188,-162 442,-162 442,-198\"/>\n",
       "<text text-anchor=\"middle\" x=\"315\" y=\"-176.3\" font-family=\"Times,serif\" font-size=\"14.00\">Pt&#45;H1&#45;Pt_(1, 1, 1) adsorbate optimization 2</text>\n",
       "</g>\n",
       "<!-- &#45;1165 -->\n",
       "<g id=\"node12\" class=\"node\"><title>&#45;1165</title>\n",
       "<polygon fill=\"none\" stroke=\"#1f62a2\" points=\"442,-144 188,-144 188,-108 442,-108 442,-144\"/>\n",
       "<text text-anchor=\"middle\" x=\"315\" y=\"-122.3\" font-family=\"Times,serif\" font-size=\"14.00\">Pt&#45;H1&#45;Pt_(1, 1, 1) adsorbate optimization 1</text>\n",
       "</g>\n",
       "<!-- &#45;1164 -->\n",
       "<g id=\"node13\" class=\"node\"><title>&#45;1164</title>\n",
       "<polygon fill=\"none\" stroke=\"#1f62a2\" points=\"442,-90 188,-90 188,-54 442,-54 442,-90\"/>\n",
       "<text text-anchor=\"middle\" x=\"315\" y=\"-68.3\" font-family=\"Times,serif\" font-size=\"14.00\">Pt&#45;H1&#45;Pt_(1, 1, 1) adsorbate optimization 0</text>\n",
       "</g>\n",
       "<!-- &#45;1163 -->\n",
       "<g id=\"node14\" class=\"node\"><title>&#45;1163</title>\n",
       "<polygon fill=\"none\" stroke=\"#1f62a2\" points=\"411.5,-36 218.5,-36 218.5,-0 411.5,-0 411.5,-36\"/>\n",
       "<text text-anchor=\"middle\" x=\"315\" y=\"-14.3\" font-family=\"Times,serif\" font-size=\"14.00\">Pt&#45;Pt_(1, 1, 1) slab optimization</text>\n",
       "</g>\n",
       "<!-- &#45;1162 -->\n",
       "<g id=\"node15\" class=\"node\"><title>&#45;1162</title>\n",
       "<polygon fill=\"none\" stroke=\"#1f62a2\" points=\"152,-387 0,-387 0,-351 152,-351 152,-387\"/>\n",
       "<text text-anchor=\"middle\" x=\"76\" y=\"-365.3\" font-family=\"Times,serif\" font-size=\"14.00\">Pt&#45;structure optimization</text>\n",
       "</g>\n",
       "<!-- &#45;1162&#45;&gt;&#45;1176 -->\n",
       "<g id=\"edge14\" class=\"edge\"><title>&#45;1162&#45;&gt;&#45;1176</title>\n",
       "<path fill=\"none\" stroke=\"black\" d=\"M77.3551,-387.008C79.4702,-442.04 93.7251,-609.323 188,-693 189.176,-694.044 190.383,-695.051 191.618,-696.023\"/>\n",
       "<polygon fill=\"black\" stroke=\"black\" points=\"189.931,-699.112 200.145,-701.929 193.917,-693.357 189.931,-699.112\"/>\n",
       "</g>\n",
       "<!-- &#45;1162&#45;&gt;&#45;1175 -->\n",
       "<g id=\"edge13\" class=\"edge\"><title>&#45;1162&#45;&gt;&#45;1175</title>\n",
       "<path fill=\"none\" stroke=\"black\" d=\"M78.752,-387.141C84.493,-436.068 107.29,-571.58 188,-639 189.387,-640.159 190.812,-641.271 192.271,-642.339\"/>\n",
       "<polygon fill=\"black\" stroke=\"black\" points=\"190.679,-645.478 200.974,-647.981 194.487,-639.604 190.679,-645.478\"/>\n",
       "</g>\n",
       "<!-- &#45;1162&#45;&gt;&#45;1174 -->\n",
       "<g id=\"edge12\" class=\"edge\"><title>&#45;1162&#45;&gt;&#45;1174</title>\n",
       "<path fill=\"none\" stroke=\"black\" d=\"M80.7798,-387.177C90.5134,-429.184 120.553,-533.343 188,-585 189.632,-586.25 191.309,-587.445 193.025,-588.587\"/>\n",
       "<polygon fill=\"black\" stroke=\"black\" points=\"191.532,-591.771 201.916,-593.871 195.108,-585.753 191.532,-591.771\"/>\n",
       "</g>\n",
       "<!-- &#45;1162&#45;&gt;&#45;1173 -->\n",
       "<g id=\"edge11\" class=\"edge\"><title>&#45;1162&#45;&gt;&#45;1173</title>\n",
       "<path fill=\"none\" stroke=\"black\" d=\"M84.0383,-387.212C98.1931,-421.269 133.487,-494.454 188,-531 194.467,-535.336 201.505,-538.992 208.839,-542.073\"/>\n",
       "<polygon fill=\"black\" stroke=\"black\" points=\"207.675,-545.375 218.266,-545.675 210.174,-538.836 207.675,-545.375\"/>\n",
       "</g>\n",
       "<!-- &#45;1162&#45;&gt;&#45;1172 -->\n",
       "<g id=\"edge10\" class=\"edge\"><title>&#45;1162&#45;&gt;&#45;1172</title>\n",
       "<path fill=\"none\" stroke=\"black\" d=\"M90.2002,-387.091C109.04,-411.512 146.041,-454.544 188,-477 191.353,-478.795 194.817,-480.47 198.361,-482.034\"/>\n",
       "<polygon fill=\"black\" stroke=\"black\" points=\"197.33,-485.393 207.912,-485.919 199.968,-478.909 197.33,-485.393\"/>\n",
       "</g>\n",
       "<!-- &#45;1162&#45;&gt;&#45;1171 -->\n",
       "<g id=\"edge9\" class=\"edge\"><title>&#45;1162&#45;&gt;&#45;1171</title>\n",
       "<path fill=\"none\" stroke=\"black\" d=\"M109.14,-387.211C130.841,-398.856 160.446,-413.502 188,-423 194.466,-425.229 201.184,-427.31 208.002,-429.248\"/>\n",
       "<polygon fill=\"black\" stroke=\"black\" points=\"207.477,-432.732 218.046,-431.984 209.317,-425.978 207.477,-432.732\"/>\n",
       "</g>\n",
       "<!-- &#45;1162&#45;&gt;&#45;1170 -->\n",
       "<g id=\"edge8\" class=\"edge\"><title>&#45;1162&#45;&gt;&#45;1170</title>\n",
       "<path fill=\"none\" stroke=\"black\" d=\"M152.314,-377.58C160.497,-378.512 168.999,-379.481 177.63,-380.464\"/>\n",
       "<polygon fill=\"black\" stroke=\"black\" points=\"177.478,-383.969 187.81,-381.624 178.271,-377.014 177.478,-383.969\"/>\n",
       "</g>\n",
       "<!-- &#45;1162&#45;&gt;&#45;1169 -->\n",
       "<g id=\"edge7\" class=\"edge\"><title>&#45;1162&#45;&gt;&#45;1169</title>\n",
       "<path fill=\"none\" stroke=\"black\" d=\"M152.314,-360.42C160.497,-359.488 168.999,-358.519 177.63,-357.536\"/>\n",
       "<polygon fill=\"black\" stroke=\"black\" points=\"178.271,-360.986 187.81,-356.376 177.478,-354.031 178.271,-360.986\"/>\n",
       "</g>\n",
       "<!-- &#45;1162&#45;&gt;&#45;1168 -->\n",
       "<g id=\"edge6\" class=\"edge\"><title>&#45;1162&#45;&gt;&#45;1168</title>\n",
       "<path fill=\"none\" stroke=\"black\" d=\"M109.14,-350.789C130.841,-339.144 160.446,-324.498 188,-315 194.689,-312.694 201.648,-310.546 208.708,-308.552\"/>\n",
       "<polygon fill=\"black\" stroke=\"black\" points=\"209.648,-311.924 218.383,-305.928 207.816,-305.168 209.648,-311.924\"/>\n",
       "</g>\n",
       "<!-- &#45;1162&#45;&gt;&#45;1167 -->\n",
       "<g id=\"edge5\" class=\"edge\"><title>&#45;1162&#45;&gt;&#45;1167</title>\n",
       "<path fill=\"none\" stroke=\"black\" d=\"M90.2002,-350.909C109.04,-326.488 146.041,-283.456 188,-261 191.353,-259.205 194.817,-257.53 198.361,-255.966\"/>\n",
       "<polygon fill=\"black\" stroke=\"black\" points=\"199.968,-259.091 207.912,-252.081 197.33,-252.607 199.968,-259.091\"/>\n",
       "</g>\n",
       "<!-- &#45;1162&#45;&gt;&#45;1166 -->\n",
       "<g id=\"edge4\" class=\"edge\"><title>&#45;1162&#45;&gt;&#45;1166</title>\n",
       "<path fill=\"none\" stroke=\"black\" d=\"M84.0383,-350.788C98.1931,-316.731 133.487,-243.546 188,-207 190.195,-205.528 192.456,-204.135 194.771,-202.816\"/>\n",
       "<polygon fill=\"black\" stroke=\"black\" points=\"196.665,-205.778 203.953,-198.088 193.46,-199.555 196.665,-205.778\"/>\n",
       "</g>\n",
       "<!-- &#45;1162&#45;&gt;&#45;1165 -->\n",
       "<g id=\"edge3\" class=\"edge\"><title>&#45;1162&#45;&gt;&#45;1165</title>\n",
       "<path fill=\"none\" stroke=\"black\" d=\"M80.7798,-350.823C90.5134,-308.816 120.553,-204.657 188,-153 189.632,-151.75 191.309,-150.555 193.025,-149.413\"/>\n",
       "<polygon fill=\"black\" stroke=\"black\" points=\"195.108,-152.247 201.916,-144.129 191.532,-146.229 195.108,-152.247\"/>\n",
       "</g>\n",
       "<!-- &#45;1162&#45;&gt;&#45;1164 -->\n",
       "<g id=\"edge2\" class=\"edge\"><title>&#45;1162&#45;&gt;&#45;1164</title>\n",
       "<path fill=\"none\" stroke=\"black\" d=\"M78.752,-350.859C84.493,-301.932 107.29,-166.42 188,-99 189.387,-97.8414 190.812,-96.7291 192.271,-95.6612\"/>\n",
       "<polygon fill=\"black\" stroke=\"black\" points=\"194.487,-98.3956 200.974,-90.0191 190.679,-92.5218 194.487,-98.3956\"/>\n",
       "</g>\n",
       "<!-- &#45;1162&#45;&gt;&#45;1163 -->\n",
       "<g id=\"edge1\" class=\"edge\"><title>&#45;1162&#45;&gt;&#45;1163</title>\n",
       "<path fill=\"none\" stroke=\"black\" d=\"M77.3551,-350.992C79.4702,-295.96 93.7251,-128.677 188,-45 194.176,-39.518 201.191,-35.0556 208.675,-31.4327\"/>\n",
       "<polygon fill=\"black\" stroke=\"black\" points=\"210.561,-34.4325 218.376,-27.2791 207.806,-27.9974 210.561,-34.4325\"/>\n",
       "</g>\n",
       "</g>\n",
       "</svg>\n"
      ],
      "text/plain": [
       "<graphviz.dot.Digraph at 0x7f5617dd1b70>"
      ]
     },
     "execution_count": 33,
     "metadata": {},
     "output_type": "execute_result"
    }
   ],
   "source": [
    "wf_to_graph(wf)"
   ]
  },
  {
   "cell_type": "markdown",
   "metadata": {},
   "source": [
    "This is how you can do the requisite calculation to find the band-gap from an HSE calculation after the PBE bandstructure."
   ]
  },
  {
   "cell_type": "code",
   "execution_count": 34,
   "metadata": {
    "collapsed": true
   },
   "outputs": [],
   "source": [
    "from atomate.vasp.workflows.presets.core import wf_bandstructure_plus_hse"
   ]
  },
  {
   "cell_type": "code",
   "execution_count": 35,
   "metadata": {
    "collapsed": true
   },
   "outputs": [],
   "source": [
    "wf = wf_bandstructure_plus_hse(structure)"
   ]
  },
  {
   "cell_type": "code",
   "execution_count": 36,
   "metadata": {
    "collapsed": false
   },
   "outputs": [
    {
     "data": {
      "image/svg+xml": [
       "<?xml version=\"1.0\" encoding=\"UTF-8\" standalone=\"no\"?>\n",
       "<!DOCTYPE svg PUBLIC \"-//W3C//DTD SVG 1.1//EN\"\n",
       " \"http://www.w3.org/Graphics/SVG/1.1/DTD/svg11.dtd\">\n",
       "<!-- Generated by graphviz version 2.38.0 (20140413.2041)\n",
       " -->\n",
       "<!-- Title: %3 Pages: 1 -->\n",
       "<svg width=\"506pt\" height=\"98pt\"\n",
       " viewBox=\"0.00 0.00 506.00 98.00\" xmlns=\"http://www.w3.org/2000/svg\" xmlns:xlink=\"http://www.w3.org/1999/xlink\">\n",
       "<g id=\"graph0\" class=\"graph\" transform=\"scale(1 1) rotate(0) translate(4 94)\">\n",
       "<title>%3</title>\n",
       "<polygon fill=\"white\" stroke=\"none\" points=\"-4,4 -4,-94 502,-94 502,4 -4,4\"/>\n",
       "<!-- &#45;1181 -->\n",
       "<g id=\"node1\" class=\"node\"><title>&#45;1181</title>\n",
       "<polygon fill=\"none\" stroke=\"#1f62a2\" points=\"498,-90 424,-90 424,-54 498,-54 498,-90\"/>\n",
       "<text text-anchor=\"middle\" x=\"461\" y=\"-68.3\" font-family=\"Times,serif\" font-size=\"14.00\">Si&#45;hse gap</text>\n",
       "</g>\n",
       "<!-- &#45;1180 -->\n",
       "<g id=\"node2\" class=\"node\"><title>&#45;1180</title>\n",
       "<polygon fill=\"none\" stroke=\"#1f62a2\" points=\"376,-90 297,-90 297,-54 376,-54 376,-90\"/>\n",
       "<text text-anchor=\"middle\" x=\"336.5\" y=\"-68.3\" font-family=\"Times,serif\" font-size=\"14.00\">Si&#45;nscf line</text>\n",
       "</g>\n",
       "<!-- &#45;1180&#45;&gt;&#45;1181 -->\n",
       "<g id=\"edge1\" class=\"edge\"><title>&#45;1180&#45;&gt;&#45;1181</title>\n",
       "<path fill=\"none\" stroke=\"black\" d=\"M376.26,-72C388.198,-72 401.46,-72 413.843,-72\"/>\n",
       "<polygon fill=\"black\" stroke=\"black\" points=\"413.991,-75.5001 423.991,-72 413.991,-68.5001 413.991,-75.5001\"/>\n",
       "</g>\n",
       "<!-- &#45;1179 -->\n",
       "<g id=\"node3\" class=\"node\"><title>&#45;1179</title>\n",
       "<polygon fill=\"none\" stroke=\"#1f62a2\" points=\"388,-36 285,-36 285,-0 388,-0 388,-36\"/>\n",
       "<text text-anchor=\"middle\" x=\"336.5\" y=\"-14.3\" font-family=\"Times,serif\" font-size=\"14.00\">Si&#45;nscf uniform</text>\n",
       "</g>\n",
       "<!-- &#45;1178 -->\n",
       "<g id=\"node4\" class=\"node\"><title>&#45;1178</title>\n",
       "<polygon fill=\"none\" stroke=\"#1f62a2\" points=\"249,-63 188,-63 188,-27 249,-27 249,-63\"/>\n",
       "<text text-anchor=\"middle\" x=\"218.5\" y=\"-41.3\" font-family=\"Times,serif\" font-size=\"14.00\">Si&#45;static</text>\n",
       "</g>\n",
       "<!-- &#45;1178&#45;&gt;&#45;1180 -->\n",
       "<g id=\"edge3\" class=\"edge\"><title>&#45;1178&#45;&gt;&#45;1180</title>\n",
       "<path fill=\"none\" stroke=\"black\" d=\"M249.072,-51.8831C260.512,-54.546 273.914,-57.6652 286.702,-60.6419\"/>\n",
       "<polygon fill=\"black\" stroke=\"black\" points=\"286.245,-64.1289 296.778,-62.9871 287.832,-57.3112 286.245,-64.1289\"/>\n",
       "</g>\n",
       "<!-- &#45;1178&#45;&gt;&#45;1179 -->\n",
       "<g id=\"edge2\" class=\"edge\"><title>&#45;1178&#45;&gt;&#45;1179</title>\n",
       "<path fill=\"none\" stroke=\"black\" d=\"M249.072,-38.1169C257.058,-36.2581 265.999,-34.1771 275.02,-32.0773\"/>\n",
       "<polygon fill=\"black\" stroke=\"black\" points=\"275.853,-35.4771 284.799,-29.8012 274.266,-28.6594 275.853,-35.4771\"/>\n",
       "</g>\n",
       "<!-- &#45;1177 -->\n",
       "<g id=\"node5\" class=\"node\"><title>&#45;1177</title>\n",
       "<polygon fill=\"none\" stroke=\"#1f62a2\" points=\"152,-63 0,-63 0,-27 152,-27 152,-63\"/>\n",
       "<text text-anchor=\"middle\" x=\"76\" y=\"-41.3\" font-family=\"Times,serif\" font-size=\"14.00\">Si&#45;structure optimization</text>\n",
       "</g>\n",
       "<!-- &#45;1177&#45;&gt;&#45;1178 -->\n",
       "<g id=\"edge4\" class=\"edge\"><title>&#45;1177&#45;&gt;&#45;1178</title>\n",
       "<path fill=\"none\" stroke=\"black\" d=\"M152.186,-45C160.987,-45 169.684,-45 177.721,-45\"/>\n",
       "<polygon fill=\"black\" stroke=\"black\" points=\"177.859,-48.5001 187.859,-45 177.859,-41.5001 177.859,-48.5001\"/>\n",
       "</g>\n",
       "</g>\n",
       "</svg>\n"
      ],
      "text/plain": [
       "<graphviz.dot.Digraph at 0x7f561c20d6a0>"
      ]
     },
     "execution_count": 36,
     "metadata": {},
     "output_type": "execute_result"
    }
   ],
   "source": [
    "wf_to_graph(wf)"
   ]
  },
  {
   "cell_type": "markdown",
   "metadata": {},
   "source": [
    "There's also support for workflows in FEFF and QChem."
   ]
  },
  {
   "cell_type": "code",
   "execution_count": 37,
   "metadata": {
    "collapsed": true
   },
   "outputs": [],
   "source": [
    "from atomate.feff.workflows.core import get_wf_xas"
   ]
  },
  {
   "cell_type": "code",
   "execution_count": 38,
   "metadata": {
    "collapsed": false
   },
   "outputs": [
    {
     "data": {
      "image/svg+xml": [
       "<?xml version=\"1.0\" encoding=\"UTF-8\" standalone=\"no\"?>\n",
       "<!DOCTYPE svg PUBLIC \"-//W3C//DTD SVG 1.1//EN\"\n",
       " \"http://www.w3.org/Graphics/SVG/1.1/DTD/svg11.dtd\">\n",
       "<!-- Generated by graphviz version 2.38.0 (20140413.2041)\n",
       " -->\n",
       "<!-- Title: %3 Pages: 1 -->\n",
       "<svg width=\"111pt\" height=\"44pt\"\n",
       " viewBox=\"0.00 0.00 111.00 44.00\" xmlns=\"http://www.w3.org/2000/svg\" xmlns:xlink=\"http://www.w3.org/1999/xlink\">\n",
       "<g id=\"graph0\" class=\"graph\" transform=\"scale(1 1) rotate(0) translate(4 40)\">\n",
       "<title>%3</title>\n",
       "<polygon fill=\"white\" stroke=\"none\" points=\"-4,4 -4,-40 107,-40 107,4 -4,4\"/>\n",
       "<!-- &#45;1182 -->\n",
       "<g id=\"node1\" class=\"node\"><title>&#45;1182</title>\n",
       "<polygon fill=\"none\" stroke=\"#1f62a2\" points=\"103,-36 0,-36 0,-0 103,-0 103,-36\"/>\n",
       "<text text-anchor=\"middle\" x=\"51.5\" y=\"-14.3\" font-family=\"Times,serif\" font-size=\"14.00\">Si&#45;XANES&#45;K&#45;0</text>\n",
       "</g>\n",
       "</g>\n",
       "</svg>\n"
      ],
      "text/plain": [
       "<graphviz.dot.Digraph at 0x7f5661473b38>"
      ]
     },
     "execution_count": 38,
     "metadata": {},
     "output_type": "execute_result"
    }
   ],
   "source": [
    "wf = get_wf_xas(\"Si\", structure)\n",
    "wf_to_graph(wf)"
   ]
  },
  {
   "cell_type": "code",
   "execution_count": 39,
   "metadata": {
    "collapsed": false
   },
   "outputs": [
    {
     "data": {
      "image/svg+xml": [
       "<?xml version=\"1.0\" encoding=\"UTF-8\" standalone=\"no\"?>\n",
       "<!DOCTYPE svg PUBLIC \"-//W3C//DTD SVG 1.1//EN\"\n",
       " \"http://www.w3.org/Graphics/SVG/1.1/DTD/svg11.dtd\">\n",
       "<!-- Generated by graphviz version 2.38.0 (20140413.2041)\n",
       " -->\n",
       "<!-- Title: %3 Pages: 1 -->\n",
       "<svg width=\"562pt\" height=\"44pt\"\n",
       " viewBox=\"0.00 0.00 562.00 44.00\" xmlns=\"http://www.w3.org/2000/svg\" xmlns:xlink=\"http://www.w3.org/1999/xlink\">\n",
       "<g id=\"graph0\" class=\"graph\" transform=\"scale(1 1) rotate(0) translate(4 40)\">\n",
       "<title>%3</title>\n",
       "<polygon fill=\"white\" stroke=\"none\" points=\"-4,4 -4,-40 558,-40 558,4 -4,4\"/>\n",
       "<!-- 0 -->\n",
       "<g id=\"node1\" class=\"node\"><title>0</title>\n",
       "<polygon fill=\"none\" stroke=\"black\" points=\"132,-36 0,-36 0,-0 132,-0 132,-36\"/>\n",
       "<text text-anchor=\"middle\" x=\"66\" y=\"-14.3\" font-family=\"Times,serif\" font-size=\"14.00\">WriteFeffFromIOSet</text>\n",
       "</g>\n",
       "<!-- 1 -->\n",
       "<g id=\"node2\" class=\"node\"><title>1</title>\n",
       "<polygon fill=\"none\" stroke=\"black\" points=\"263,-36 168,-36 168,-0 263,-0 263,-36\"/>\n",
       "<text text-anchor=\"middle\" x=\"215.5\" y=\"-14.3\" font-family=\"Times,serif\" font-size=\"14.00\">RunFeffDirect</text>\n",
       "</g>\n",
       "<!-- 0&#45;&gt;1 -->\n",
       "<g id=\"edge1\" class=\"edge\"><title>0&#45;&gt;1</title>\n",
       "<path fill=\"none\" stroke=\"black\" d=\"M132.125,-18C140.684,-18 149.4,-18 157.804,-18\"/>\n",
       "<polygon fill=\"black\" stroke=\"black\" points=\"157.868,-21.5001 167.868,-18 157.868,-14.5001 157.868,-21.5001\"/>\n",
       "</g>\n",
       "<!-- 2 -->\n",
       "<g id=\"node3\" class=\"node\"><title>2</title>\n",
       "<polygon fill=\"none\" stroke=\"black\" points=\"391,-36 299,-36 299,-0 391,-0 391,-36\"/>\n",
       "<text text-anchor=\"middle\" x=\"345\" y=\"-14.3\" font-family=\"Times,serif\" font-size=\"14.00\">PassCalcLocs</text>\n",
       "</g>\n",
       "<!-- 1&#45;&gt;2 -->\n",
       "<g id=\"edge2\" class=\"edge\"><title>1&#45;&gt;2</title>\n",
       "<path fill=\"none\" stroke=\"black\" d=\"M263.252,-18C271.539,-18 280.239,-18 288.734,-18\"/>\n",
       "<polygon fill=\"black\" stroke=\"black\" points=\"288.953,-21.5001 298.953,-18 288.953,-14.5001 288.953,-21.5001\"/>\n",
       "</g>\n",
       "<!-- 3 -->\n",
       "<g id=\"node4\" class=\"node\"><title>3</title>\n",
       "<polygon fill=\"none\" stroke=\"black\" points=\"554,-36 427,-36 427,-0 554,-0 554,-36\"/>\n",
       "<text text-anchor=\"middle\" x=\"490.5\" y=\"-14.3\" font-family=\"Times,serif\" font-size=\"14.00\">SpectrumToDbTask</text>\n",
       "</g>\n",
       "<!-- 2&#45;&gt;3 -->\n",
       "<g id=\"edge3\" class=\"edge\"><title>2&#45;&gt;3</title>\n",
       "<path fill=\"none\" stroke=\"black\" d=\"M391.011,-18C399.163,-18 407.854,-18 416.567,-18\"/>\n",
       "<polygon fill=\"black\" stroke=\"black\" points=\"416.776,-21.5001 426.776,-18 416.776,-14.5001 416.776,-21.5001\"/>\n",
       "</g>\n",
       "</g>\n",
       "</svg>\n"
      ],
      "text/plain": [
       "<graphviz.dot.Digraph at 0x7f5617f2f6d8>"
      ]
     },
     "execution_count": 39,
     "metadata": {},
     "output_type": "execute_result"
    }
   ],
   "source": [
    "wf_to_graph(wf.fws[0])"
   ]
  },
  {
   "cell_type": "code",
   "execution_count": 40,
   "metadata": {
    "collapsed": false
   },
   "outputs": [],
   "source": [
    "#from atomate.qchem.workflows.base.double_FF_opt import get_wf_double_FF_opt\n",
    "#from pymatgen import Molecule\n",
    "#molecule = Molecule(\"CO\", [[0, 0, 0], [0, 0, 1.23]])\n",
    "#wf = get_wf_double_FF_opt(molecule, 0.5)\n",
    "#wf_to_graph(wf)\n",
    "#wf_to_graph(wf.fws[0])"
   ]
  },
  {
   "cell_type": "markdown",
   "metadata": {},
   "source": [
    "## Analyzing workflow results"
   ]
  },
  {
   "cell_type": "markdown",
   "metadata": {},
   "source": [
    "Our final example for atomate will take a set of tasks from our database and construct a phase diagram."
   ]
  },
  {
   "cell_type": "code",
   "execution_count": 41,
   "metadata": {
    "collapsed": false
   },
   "outputs": [
    {
     "name": "stdout",
     "output_type": "stream",
     "text": [
      "2018-08-10 05:47:35,290 INFO Added a workflow. id_map: {-1184: 6, -1183: 7, -1186: 4, -1185: 5}\n",
      "2018-08-10 05:47:35,308 INFO Added a workflow. id_map: {-1190: 8, -1189: 9, -1188: 10, -1187: 11}\n",
      "2018-08-10 05:47:35,323 INFO Added a workflow. id_map: {-1192: 14, -1191: 15, -1194: 12, -1193: 13}\n",
      "2018-08-10 05:47:35,348 INFO Added a workflow. id_map: {-1198: 16, -1197: 17, -1196: 18, -1195: 19}\n",
      "2018-08-10 05:47:35,355 INFO Added a workflow. id_map: {-1200: 22, -1199: 23, -1202: 20, -1201: 21}\n",
      "2018-08-10 05:47:35,363 INFO Added a workflow. id_map: {-1206: 24, -1205: 25, -1204: 26, -1203: 27}\n",
      "2018-08-10 05:47:35,370 INFO Added a workflow. id_map: {-1208: 30, -1207: 31, -1210: 28, -1209: 29}\n",
      "2018-08-10 05:47:35,378 INFO Added a workflow. id_map: {-1214: 32, -1213: 33, -1212: 34, -1211: 35}\n",
      "2018-08-10 05:47:35,385 INFO Added a workflow. id_map: {-1216: 38, -1215: 39, -1218: 36, -1217: 37}\n",
      "2018-08-10 05:47:35,392 INFO Added a workflow. id_map: {-1222: 40, -1221: 41, -1220: 42, -1219: 43}\n",
      "2018-08-10 05:47:35,400 INFO Added a workflow. id_map: {-1224: 46, -1223: 47, -1226: 44, -1225: 45}\n",
      "2018-08-10 05:47:35,412 INFO Added a workflow. id_map: {-1230: 48, -1229: 49, -1228: 50, -1227: 51}\n"
     ]
    }
   ],
   "source": [
    "structures = mpr.get_structures(\"Al-Cr\")\n",
    "structures += mpr.get_structures(\"Al\")\n",
    "structures += mpr.get_structures(\"Cr\")\n",
    "for structure in structures:\n",
    "    wf = get_wf(structure, \"bandstructure.yaml\")\n",
    "    lpad.add_wf(wf)"
   ]
  },
  {
   "cell_type": "code",
   "execution_count": 42,
   "metadata": {
    "collapsed": true
   },
   "outputs": [],
   "source": [
    "from maggma.stores import MongoStore"
   ]
  },
  {
   "cell_type": "code",
   "execution_count": 43,
   "metadata": {
    "collapsed": true
   },
   "outputs": [],
   "source": [
    "tasks = MongoStore(database=\"vasp_db\", collection_name=\"tasks\")"
   ]
  },
  {
   "cell_type": "code",
   "execution_count": 44,
   "metadata": {
    "collapsed": true
   },
   "outputs": [],
   "source": [
    "tasks.connect()"
   ]
  },
  {
   "cell_type": "code",
   "execution_count": 45,
   "metadata": {
    "collapsed": true
   },
   "outputs": [],
   "source": [
    "doc = tasks.query_one(criteria={\"chemsys\": \"Al\"})"
   ]
  },
  {
   "cell_type": "code",
   "execution_count": 46,
   "metadata": {
    "collapsed": false
   },
   "outputs": [
    {
     "data": {
      "text/plain": [
       "dict_keys(['custodian', 'calcs_reversed', 'formula_reduced_abc', 'composition_unit_cell', 'task_label', 'dir_name', 'task_id', 'analysis', 'output', 'formula_anonymous', 'transformations', 'task_type', 'elements', 'orig_inputs', 'last_updated', 'completed_at', 'composition_reduced', 'schema', 'nsites', 'chemsys', 'state', '_id', 'formula_pretty', 'run_stats', 'nelements', 'input'])"
      ]
     },
     "execution_count": 46,
     "metadata": {},
     "output_type": "execute_result"
    }
   ],
   "source": [
    "doc.keys()"
   ]
  },
  {
   "cell_type": "code",
   "execution_count": 47,
   "metadata": {
    "collapsed": false
   },
   "outputs": [
    {
     "data": {
      "text/plain": [
       "'Al'"
      ]
     },
     "execution_count": 47,
     "metadata": {},
     "output_type": "execute_result"
    }
   ],
   "source": [
    "doc['chemsys']"
   ]
  },
  {
   "cell_type": "code",
   "execution_count": 48,
   "metadata": {
    "collapsed": true
   },
   "outputs": [],
   "source": [
    "doc = tasks.query_one(criteria={\"chemsys\": \"Al\"}, properties=['output'])"
   ]
  },
  {
   "cell_type": "code",
   "execution_count": 49,
   "metadata": {
    "collapsed": false
   },
   "outputs": [
    {
     "data": {
      "text/plain": [
       "<pymongo.cursor.Cursor at 0x7f561c2342e8>"
      ]
     },
     "execution_count": 49,
     "metadata": {},
     "output_type": "execute_result"
    }
   ],
   "source": [
    "docs = tasks.query(criteria={\"chemsys\": \"Al-Cr\", \n",
    "                             \"task_label\": \"structure optimization\"},\n",
    "                   properties=['output', 'formula_pretty'])\n",
    "docs"
   ]
  },
  {
   "cell_type": "code",
   "execution_count": 50,
   "metadata": {
    "collapsed": true
   },
   "outputs": [],
   "source": [
    "docs = list(docs)"
   ]
  },
  {
   "cell_type": "code",
   "execution_count": 51,
   "metadata": {
    "collapsed": false
   },
   "outputs": [
    {
     "data": {
      "text/plain": [
       "['AlCr2', 'Al8Cr5', 'Al45Cr7', 'Al3Cr']"
      ]
     },
     "execution_count": 51,
     "metadata": {},
     "output_type": "execute_result"
    }
   ],
   "source": [
    "[d['formula_pretty'] for d in docs]"
   ]
  },
  {
   "cell_type": "code",
   "execution_count": 52,
   "metadata": {
    "collapsed": true
   },
   "outputs": [],
   "source": [
    "fe_cr_tasks = []\n",
    "for chemsys in ['Al', 'Cr', 'Al-Cr']:\n",
    "    task_list = tasks.query(criteria={\"chemsys\": chemsys,\n",
    "                                      \"task_label\": \"structure optimization\"},\n",
    "                            properties=[\"output\", \"composition_unit_cell\"])\n",
    "    fe_cr_tasks.extend(list(task_list))"
   ]
  },
  {
   "cell_type": "code",
   "execution_count": 53,
   "metadata": {
    "collapsed": false
   },
   "outputs": [
    {
     "data": {
      "text/plain": [
       "16"
      ]
     },
     "execution_count": 53,
     "metadata": {},
     "output_type": "execute_result"
    }
   ],
   "source": [
    "len(fe_cr_tasks)"
   ]
  },
  {
   "cell_type": "code",
   "execution_count": 54,
   "metadata": {
    "collapsed": true
   },
   "outputs": [],
   "source": [
    "from pymatgen.entries.computed_entries import ComputedEntry\n",
    "from pymatgen import Composition"
   ]
  },
  {
   "cell_type": "code",
   "execution_count": 55,
   "metadata": {
    "collapsed": true
   },
   "outputs": [],
   "source": [
    "entries = []\n",
    "for task in fe_cr_tasks:\n",
    "    energy = task['output']['energy']\n",
    "    composition = Composition.from_dict(task['composition_unit_cell'])\n",
    "    entry = ComputedEntry(composition, energy)\n",
    "    entries.append(entry)"
   ]
  },
  {
   "cell_type": "code",
   "execution_count": 56,
   "metadata": {
    "collapsed": true
   },
   "outputs": [],
   "source": [
    "from pymatgen.analysis.phase_diagram import PhaseDiagram, PDPlotter"
   ]
  },
  {
   "cell_type": "code",
   "execution_count": 57,
   "metadata": {
    "collapsed": true
   },
   "outputs": [],
   "source": [
    "pd = PhaseDiagram(entries)"
   ]
  },
  {
   "cell_type": "code",
   "execution_count": 58,
   "metadata": {
    "collapsed": true
   },
   "outputs": [],
   "source": [
    "plotter = PDPlotter(pd)"
   ]
  },
  {
   "cell_type": "code",
   "execution_count": 59,
   "metadata": {
    "collapsed": false
   },
   "outputs": [
    {
     "data": {
      "image/png": "[encoded data removed]",
      "text/plain": [
       "<Figure size 576x432 with 1 Axes>"
      ]
     },
     "metadata": {},
     "output_type": "display_data"
    }
   ],
   "source": [
    "plotter.show()"
   ]
  },
  {
   "cell_type": "code",
   "execution_count": 60,
   "metadata": {
    "collapsed": false
   },
   "outputs": [
    {
     "data": {
      "image/png": "[encoded data removed]",
      "text/plain": [
       "<Figure size 576x432 with 1 Axes>"
      ]
     },
     "metadata": {},
     "output_type": "display_data"
    }
   ],
   "source": [
    "plotter.show_unstable = True\n",
    "plotter.show()"
   ]
  }
 ],
 "metadata": {
  "kernelspec": {
   "display_name": "Python 3",
   "language": "python",
   "name": "python3"
  },
  "language_info": {
   "codemirror_mode": {
    "name": "ipython",
    "version": 3
   },
   "file_extension": ".py",
   "mimetype": "text/x-python",
   "name": "python",
   "nbconvert_exporter": "python",
   "pygments_lexer": "ipython3",
   "version": "3.5.2"
  },
  "widgets": {
   "state": {
    "7c4d41ed58bb4e4cb1dd9d4bc5e0a15d": {
     "views": [
      {
       "cell_index": 5
      }
     ]
    }
   },
   "version": "1.2.0"
  }
 },
 "nbformat": 4,
 "nbformat_minor": 2
}
