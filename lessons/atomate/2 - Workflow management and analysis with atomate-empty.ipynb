{
 "cells": [
  {
   "cell_type": "markdown",
   "metadata": {},
   "source": [
    "# 2 - Workflow management with atomate"
   ]
  },
  {
   "cell_type": "markdown",
   "metadata": {},
   "source": [
    "In this lesson we cover a few more advanced features of the atomate software package.  More specifically we'll go over an example that includes parents and children, talk more about where you can find preset workflows, and cover a basic example of analyzing workflow-generated materials data."
   ]
  },
  {
   "cell_type": "code",
   "execution_count": null,
   "metadata": {},
   "outputs": [],
   "source": [
    "!pmg config --add PMG_MAPI_KEY <MAPI_KEY>\n",
    "from mp_workshop.atomate import wf_to_graph, use_fake_vasp_workshop\n",
    "from tqdm import tqdm_notebook\n"
   ]
  },
  {
   "cell_type": "markdown",
   "metadata": {},
   "source": [
    "## Why use atomate?"
   ]
  },
  {
   "cell_type": "markdown",
   "metadata": {},
   "source": [
    "Just to motivate this lesson a bit more, I'd like to share an example that illustrates the value of atomate.  Let's say you wanted to calculate the bandstructure of every polymorph of SiO$_2$.  Normally, you'd need to get all of the cifs from MP or the ICSD, construct the POSCARs by hand, or use some of your own infrastructure to convert them, run the calculations and manage the directory structure, and aggregate the results in a way that allowed you to analyze them together.  In atomate, this is achieved in a simple, five line snippet:"
   ]
  },
  {
   "cell_type": "code",
   "execution_count": null,
   "metadata": {
    "scrolled": true
   },
   "outputs": [],
   "source": [
    "from atomate.vasp.workflows.presets.core import get_wf\n",
    "from fireworks import LaunchPad\n",
    "\n",
    "lpad = LaunchPad.auto_load()\n",
    "lpad.reset(\"\", require_password=False)\n",
    "\n",
    "from pymatgen import MPRester\n",
    "mpr = MPRester('')\n"
   ]
  },
  {
   "cell_type": "code",
   "execution_count": null,
   "metadata": {},
   "outputs": [],
   "source": [
    "## Submit all the different polymorphs of SiO2\n"
   ]
  },
  {
   "cell_type": "markdown",
   "metadata": {},
   "source": [
    "This snippet attests to the so-called \"high-throughput\" approach, which has value both because it enables you to aggregate a lot of data quickly in a way that is only possible in computational materials science and because it enables you to examine trends in a large dataset much more quickly, which is typically the most valuable way to use DFT-based simulation.\n",
    "\n",
    "It also allows us to keep the provanonce of the various calculations we performed so they are more reproducible."
   ]
  },
  {
   "cell_type": "markdown",
   "metadata": {},
   "source": [
    "Before we move on, let's reset the workflow database."
   ]
  },
  {
   "cell_type": "code",
   "execution_count": null,
   "metadata": {},
   "outputs": [],
   "source": [
    "lpad.reset(password=\"\", require_password=False, max_reset_wo_password=10000)  ### NEVER DO THIS IN PRODUCTION"
   ]
  },
  {
   "cell_type": "markdown",
   "metadata": {},
   "source": [
    "## The elastic tensor: A multi-step preset workflow"
   ]
  },
  {
   "cell_type": "markdown",
   "metadata": {},
   "source": [
    "In addition to enabling \"high-throughput\" functionality, atomate allows you to execute a relatively complex set of instructions using very simple constructions.  Our canonical example of this functionality is contained in the elastic workflow."
   ]
  },
  {
   "cell_type": "code",
   "execution_count": null,
   "metadata": {},
   "outputs": [],
   "source": [
    "# Get the structure of Si from the MPRester (\"mp-149\") using the conventional cubic cell\n"
   ]
  },
  {
   "cell_type": "markdown",
   "metadata": {},
   "source": [
    "We can view the structure"
   ]
  },
  {
   "cell_type": "code",
   "execution_count": null,
   "metadata": {},
   "outputs": [],
   "source": [
    "# View structure\n",
    "from mp_workshop import view\n"
   ]
  },
  {
   "cell_type": "code",
   "execution_count": null,
   "metadata": {},
   "outputs": [],
   "source": [
    "from atomate.vasp.workflows.presets.core import wf_elastic_constant, wf_elastic_constant_minimal"
   ]
  },
  {
   "cell_type": "code",
   "execution_count": null,
   "metadata": {},
   "outputs": [],
   "source": [
    "# create an elasctic constant workflow\n"
   ]
  },
  {
   "cell_type": "markdown",
   "metadata": {},
   "source": [
    "Here's a rendering of the control flow associated with the firework, which you can see both here and in the fireworks dashboard."
   ]
  },
  {
   "cell_type": "code",
   "execution_count": null,
   "metadata": {},
   "outputs": [],
   "source": [
    "from mp_workshop.atomate import wf_to_graph\n",
    "wf_to_graph(wf)"
   ]
  },
  {
   "cell_type": "markdown",
   "metadata": {},
   "source": [
    "From our exploration of the workflow, we can see that the workflow has a \"root\" firework, which is the structure optimization firework, and a single \"leaf\" firework, which is the analysis task.  In between, we have several fireworks which have \"elastic deformation\" in their titles, each of which represents a calculation which will transform the output of the optimization firework by applying a unique strain.\n",
    "\n",
    "In the analysis step, the stresses from those deformations and the strains are aggregated and used to fit an elastic tensor.  Let's examine the different types of fireworks using the graph tool."
   ]
  },
  {
   "cell_type": "markdown",
   "metadata": {},
   "source": [
    "## Explore the data\n",
    "\n",
    "We can explore the workflow further.  Since each workflow is composed of fireworks we can examine what each fireworks look like.\n",
    "\n",
    "Remember we can use `dir` to exlore a python object"
   ]
  },
  {
   "cell_type": "code",
   "execution_count": null,
   "metadata": {},
   "outputs": [],
   "source": []
  },
  {
   "cell_type": "code",
   "execution_count": null,
   "metadata": {},
   "outputs": [],
   "source": [
    "# print the name and and graph of the first firework \n"
   ]
  },
  {
   "cell_type": "code",
   "execution_count": null,
   "metadata": {},
   "outputs": [],
   "source": [
    "# print the name and and graph of the next firework \n"
   ]
  },
  {
   "cell_type": "code",
   "execution_count": null,
   "metadata": {},
   "outputs": [],
   "source": [
    "# print the name and and graph of the last firework \n"
   ]
  },
  {
   "cell_type": "markdown",
   "metadata": {},
   "source": [
    "Note that the standard preset workflow for the elastic tensor uses many calculations in excess of what is required to determine the elastic tensor, which yields a higher-quality tensor in which some of the numerical noise is washed out over the duplicity of calculations.  Note that you can also generate a \"minimal\" elastic workflow which uses neither the more expensive DFT parameters nor the extended calculations.  Tensors generated using this workflow are typically not as accurate, but often work for simple semiconductors with a lot of symmetry.  Let's try it with bulk silicon."
   ]
  },
  {
   "cell_type": "code",
   "execution_count": null,
   "metadata": {},
   "outputs": [],
   "source": [
    "wf = wf_elastic_constant_minimal(structure)"
   ]
  },
  {
   "cell_type": "code",
   "execution_count": null,
   "metadata": {},
   "outputs": [],
   "source": [
    "# Display the graph for this workflow\n"
   ]
  },
  {
   "cell_type": "markdown",
   "metadata": {},
   "source": [
    "Note that for silicon, the two deformation tasks are a single normal deformation along the x axis (which are equivalent to those along the y- and z-axis), and a single shear deformation (equivalent to the two others normally included).  Since this is considerably simpler, we'll run this as our example."
   ]
  },
  {
   "cell_type": "markdown",
   "metadata": {},
   "source": [
    "To run the workflow, we import our launchpad and rocket launcher tools.  Since we can't use VASP in the workflow, we're also going to \"fake\" vasp by copying files rather than running the binary."
   ]
  },
  {
   "cell_type": "code",
   "execution_count": null,
   "metadata": {},
   "outputs": [],
   "source": [
    "from fireworks import LaunchPad\n",
    "from mp_workshop.atomate import use_fake_vasp_workshop"
   ]
  },
  {
   "cell_type": "code",
   "execution_count": null,
   "metadata": {},
   "outputs": [],
   "source": [
    "wf.name"
   ]
  },
  {
   "cell_type": "markdown",
   "metadata": {},
   "source": [
    "The atomate queue is called the `LaunchPad`"
   ]
  },
  {
   "cell_type": "code",
   "execution_count": null,
   "metadata": {},
   "outputs": [],
   "source": [
    "# Add the workflow to the LaunchPad using use_fake_vasp_workshop\n",
    "wf = use_fake_vasp_workshop(wf)\n",
    "lpad.add_wf(wf)"
   ]
  },
  {
   "cell_type": "markdown",
   "metadata": {},
   "source": [
    "Now we can run the workflow either in the notebook using the pythonic fireworks rocket launcher or using `qlaunch` from the linux command line."
   ]
  },
  {
   "cell_type": "code",
   "execution_count": null,
   "metadata": {},
   "outputs": [],
   "source": [
    "from fireworks.core.rocket_launcher import rapidfire\n",
    "import os\n",
    "nb_dir = os.path.abspath('.')\n",
    "calc_dir = os.path.join(os.path.expanduser(\"~\"), 'mp_workshop', 'fake_vasp', 'temp')\n",
    "if not os.path.exists(calc_dir):\n",
    "    os.makedirs(calc_dir)\n",
    "os.chdir(calc_dir)\n",
    "rapidfire(lpad)\n",
    "os.chdir(nb_dir)"
   ]
  },
  {
   "cell_type": "markdown",
   "metadata": {},
   "source": [
    "## Powerups"
   ]
  },
  {
   "cell_type": "markdown",
   "metadata": {},
   "source": [
    "Atomate contains a number of tools for modifying workflows, known as \"powerups\" which are functions which will modify the workflows in commonly desired ways.  For example, if you want to modify the parameters of a VASP calculation, you can use the add_modify_incar powerup to change these for every firework in the workflow."
   ]
  },
  {
   "cell_type": "markdown",
   "metadata": {},
   "source": [
    "### add_modify_incar"
   ]
  },
  {
   "cell_type": "code",
   "execution_count": null,
   "metadata": {},
   "outputs": [],
   "source": [
    "from atomate.vasp.powerups import add_modify_incar\n",
    "wf = get_wf(structure, \"bandstructure.yaml\")\n",
    "wf_to_graph(wf.fws[0])\n",
    "modified = add_modify_incar(wf, {\"incar_update\": {\"ENCUT\": 700}})\n",
    "wf_to_graph(modified.fws[0])"
   ]
  },
  {
   "cell_type": "code",
   "execution_count": 1,
   "metadata": {},
   "outputs": [],
   "source": [
    "# Explore the modified workflows and find where the part of the workflow that shows the incar_update\n"
   ]
  },
  {
   "cell_type": "markdown",
   "metadata": {},
   "source": [
    "Prior to the execution of the VASP calculation, a ModifyIncar firetask is inserted which will read the incar and modify the ENCUT parameter such that it matches our powerup specification."
   ]
  },
  {
   "cell_type": "markdown",
   "metadata": {},
   "source": [
    "### add_tags, add_structure_metadata\n",
    "\n",
    "One of the things that you will encount as you start running simulations and explore your database:\n",
    "- You need to organize that calculations\n",
    "- This is achieved through tagging of the tasks"
   ]
  },
  {
   "cell_type": "code",
   "execution_count": null,
   "metadata": {},
   "outputs": [],
   "source": [
    "from atomate.vasp.powerups import add_tags"
   ]
  },
  {
   "cell_type": "code",
   "execution_count": null,
   "metadata": {},
   "outputs": [],
   "source": [
    "print(\"WF metadata: \", wf.metadata)\n",
    "print(\"Last task: \", wf.fws[0].tasks[-1])"
   ]
  },
  {
   "cell_type": "code",
   "execution_count": null,
   "metadata": {},
   "outputs": [],
   "source": [
    "# use add_tags to insert a tag to the current workflow\n"
   ]
  },
  {
   "cell_type": "code",
   "execution_count": null,
   "metadata": {},
   "outputs": [],
   "source": [
    "print(\"WF metadata: \", wf.metadata)\n",
    "print(\"Last task: \", wf.fws[0].tasks[-1])"
   ]
  },
  {
   "cell_type": "markdown",
   "metadata": {},
   "source": [
    "## A few other \"complex\" workflows."
   ]
  },
  {
   "cell_type": "markdown",
   "metadata": {},
   "source": [
    "Atomate contains a few workflows that will do more complicating things like calculations on surfaces.  Let's say I want to do a caculation to determine the hydrogen adsorption energy on every low-index facet of Pt."
   ]
  },
  {
   "cell_type": "code",
   "execution_count": 2,
   "metadata": {},
   "outputs": [
    {
     "name": "stdout",
     "output_type": "stream",
     "text": [
      "Loading configurations for atomate for submitting Jimmy's jobs\n"
     ]
    }
   ],
   "source": [
    "from atomate.vasp.workflows.base.adsorption import get_wfs_all_slabs\n",
    "from pymatgen import MPRester, Molecule"
   ]
  },
  {
   "cell_type": "code",
   "execution_count": null,
   "metadata": {},
   "outputs": [],
   "source": [
    "# Get the unit cell of Pt and H2 molecule\n"
   ]
  },
  {
   "cell_type": "code",
   "execution_count": null,
   "metadata": {},
   "outputs": [],
   "source": [
    "# Create the adsorption slab workflow using those objects\n"
   ]
  },
  {
   "cell_type": "code",
   "execution_count": null,
   "metadata": {},
   "outputs": [],
   "source": [
    "## Using the `IPython.display.display`, we can show what the different workflows for each terminating surface looks like\n",
    "from IPython.display import display\n",
    "display(\"WF 0 =============================\")\n",
    "display(wf_to_graph(wf[0]))\n",
    "display(\"WF 1 =============================\")\n",
    "display(wf_to_graph(wf[1]))\n",
    "display(\"WF 2 =============================\")\n",
    "display(wf_to_graph(wf[2]))"
   ]
  },
  {
   "cell_type": "code",
   "execution_count": null,
   "metadata": {},
   "outputs": [],
   "source": [
    "# explore the wf and plot what the structure looks like for the [111] surface.\n",
    "from pymatgen import Structure\n",
    "fw_dict = wf[0].fws[2].tasks[0].to_dict()\n",
    "ss = Structure.from_dict(fw_dict['structure'])\n",
    "view(ss)"
   ]
  },
  {
   "cell_type": "code",
   "execution_count": null,
   "metadata": {},
   "outputs": [],
   "source": [
    "# explore the wf and plot what the structure looks like for the [110] surface.\n",
    "fw_dict = wf[1].fws[2].tasks[0].to_dict()\n",
    "ss = Structure.from_dict(fw_dict['structure'])\n",
    "ss.translate_sites(list(range(len(ss))), [0,0,0.7]) # shift the slab\n",
    "view(ss)"
   ]
  },
  {
   "cell_type": "markdown",
   "metadata": {},
   "source": [
    "This is how you can do the requisite calculation to find the band-gap from an HSE calculation after the PBE bandstructure."
   ]
  },
  {
   "cell_type": "code",
   "execution_count": null,
   "metadata": {},
   "outputs": [],
   "source": [
    "from atomate.vasp.workflows.presets.core import wf_bandstructure_plus_hse"
   ]
  },
  {
   "cell_type": "code",
   "execution_count": null,
   "metadata": {},
   "outputs": [],
   "source": [
    "wf = wf_bandstructure_plus_hse(structure)"
   ]
  },
  {
   "cell_type": "code",
   "execution_count": null,
   "metadata": {},
   "outputs": [],
   "source": [
    "wf_to_graph(wf)"
   ]
  },
  {
   "cell_type": "markdown",
   "metadata": {},
   "source": [
    "There's also support for workflows in FEFF (Computational Spectroscopy) and QChem(Localized-basis quantum chemistry).\n",
    "\n",
    "FEFF\n",
    "\n",
    "Dr. Kiran Mathew\n",
    "<img src=\"https://perssongroup.lbl.gov/img/kmathew.jpg\">  \n",
    "\n",
    "\n",
    "QChem\n",
    "\n",
    "Dr. Samuel Blau\n",
    "<img src=\"https://perssongroup.lbl.gov/img/smblau.jpg\">"
   ]
  },
  {
   "cell_type": "code",
   "execution_count": null,
   "metadata": {},
   "outputs": [],
   "source": [
    "from atomate.feff.workflows.core import get_wf_xas"
   ]
  },
  {
   "cell_type": "code",
   "execution_count": null,
   "metadata": {},
   "outputs": [],
   "source": [
    "wf = get_wf_xas(\"Si\", structure)\n",
    "wf_to_graph(wf)"
   ]
  },
  {
   "cell_type": "code",
   "execution_count": null,
   "metadata": {},
   "outputs": [],
   "source": [
    "wf_to_graph(wf.fws[0])"
   ]
  },
  {
   "cell_type": "code",
   "execution_count": null,
   "metadata": {},
   "outputs": [],
   "source": [
    "from atomate.qchem.workflows.base.double_FF_opt import get_wf_double_FF_opt\n",
    "from pymatgen import Molecule\n",
    "molecule = Molecule(\"CO\", [[0, 0, 0], [0, 0, 1.23]])\n",
    "wf = get_wf_double_FF_opt(molecule, 0.5)\n",
    "wf_to_graph(wf)\n",
    "wf_to_graph(wf.fws[0])"
   ]
  },
  {
   "cell_type": "markdown",
   "metadata": {},
   "source": [
    "## Create workflows from YAML files\n",
    "\n",
    "So pymatgen has a robust set of parameters for running VASP but they can't cover all usage senarios.\n",
    "So you will often need to pass slightly different parameter modifications to a VASP calculation.\n",
    "Or string together a few basic VASP calculations to give a material \n",
    "\n",
    "we will first submit a series of structure optimizations using the `get_wf_from_spec_dict` utility which allows us to reuse the same calculation settings.\n",
    "\n",
    "This is essentially like the `bandstructure.yaml` file we used for the band structure calculations earlier in:\n",
    "\n",
    "```python\n",
    "wf = get_wf(structure, \"bandstructure.yaml\")\n",
    "```\n",
    "\n",
    "Which just reads the following file\n",
    "\n",
    "```yml\n",
    "# A typical band structure\n",
    "# Author: Anubhav Jain (ajain@lbl.gov)\n",
    "fireworks:\n",
    "- fw: atomate.vasp.fireworks.core.OptimizeFW\n",
    "- fw: atomate.vasp.fireworks.core.StaticFW\n",
    "  params:\n",
    "    parents: 0\n",
    "- fw: atomate.vasp.fireworks.core.NonSCFFW\n",
    "  params:\n",
    "    parents: 1\n",
    "    mode: uniform\n",
    "- fw: atomate.vasp.fireworks.core.NonSCFFW\n",
    "  params:\n",
    "    parents: 1\n",
    "    mode: line\n",
    "```"
   ]
  },
  {
   "cell_type": "code",
   "execution_count": 3,
   "metadata": {},
   "outputs": [],
   "source": [
    "## Write a function that reads a YAML file and creates a workflow\n",
    "import json\n",
    "from monty.serialization import loadfn\n",
    "from atomate.utils.utils import get_wf_from_spec_dict\n"
   ]
  },
  {
   "cell_type": "markdown",
   "metadata": {},
   "source": [
    "Assuming we want to override a basic VASP flag"
   ]
  },
  {
   "cell_type": "code",
   "execution_count": null,
   "metadata": {},
   "outputs": [],
   "source": [
    "%%file opti.yaml  \n",
    "fireworks:\n",
    "# Relaxation for\n",
    "- fw: atomate.vasp.fireworks.core.OptimizeFW\n",
    "  override_default_vasp_params:\n",
    "    user_incar_settings:\n",
    "        ISPIN: 2\n"
   ]
  },
  {
   "cell_type": "markdown",
   "metadata": {},
   "source": [
    "## Analyzing workflow results"
   ]
  },
  {
   "cell_type": "markdown",
   "metadata": {},
   "source": [
    "Our final example for atomate will take a set of tasks from our database and construct a phase diagram.\n",
    "\n",
    "We can run this workflow on for materials in the Al-Cr system\n"
   ]
  },
  {
   "cell_type": "code",
   "execution_count": null,
   "metadata": {},
   "outputs": [],
   "source": [
    "# get the structures in the Al-Cr system\n",
    "# create workflows using those structures and add them to the LaunchPad\n",
    "# remember to modify the workflows using use_fake_vasp_workshop \n"
   ]
  },
  {
   "cell_type": "markdown",
   "metadata": {},
   "source": [
    "Now we can run these workflows on a computing cluster.\n",
    "\n",
    "Here, we will just run the fake version for the workshop in a `temp` directory."
   ]
  },
  {
   "cell_type": "code",
   "execution_count": null,
   "metadata": {},
   "outputs": [],
   "source": [
    "from fireworks.core.rocket_launcher import rapidfire\n",
    "from mp_workshop.atomate import use_fake_vasp_workshop\n",
    "import os\n",
    "\n",
    "nb_dir = os.path.abspath('.')\n",
    "calc_dir = os.path.join(os.path.expanduser(\"~\"), 'mp_workshop', 'fake_vasp', 'temp')\n",
    "if not os.path.exists(calc_dir):\n",
    "    os.makedirs(calc_dir)\n",
    "os.chdir(calc_dir)\n",
    "rapidfire(lpad)\n",
    "os.chdir(nb_dir)"
   ]
  },
  {
   "cell_type": "markdown",
   "metadata": {},
   "source": [
    "### Rerunning fireworks\n",
    "\n",
    "When you are doing thousands of DFT calculations a small percentage of calculations are going to fail.\n",
    "Sometime is can be fixed by simply rerunning the calculation. \n"
   ]
  },
  {
   "cell_type": "code",
   "execution_count": null,
   "metadata": {},
   "outputs": [],
   "source": [
    "# look through the documentation and find a way to rerun the FIZZLED firework\n",
    "lpad.rerun_fw(21)"
   ]
  },
  {
   "cell_type": "markdown",
   "metadata": {},
   "source": [
    "## The calculations have finished\n",
    "\n",
    "When atomates runs a VASP calculation, the output is stored in a collection defined by the db.json file.\n",
    "\n",
    "IMPORTANT: The location of this file will be different depending on how you setup your system, and this db.json file must be access on the computing cluster where your simulation are running.\n"
   ]
  },
  {
   "cell_type": "code",
   "execution_count": null,
   "metadata": {},
   "outputs": [],
   "source": [
    "!cat $HOME/mp_workshop/fireworks_config/db.json"
   ]
  },
  {
   "cell_type": "markdown",
   "metadata": {},
   "source": [
    "The data from our fake vasp calculations are used to populate the `tasks` collection on `localhost:mp_workshop`. \n",
    "\n",
    "To access these results we can use `pymongo` or our wrapper for `pymongo` --- (`maggma`) "
   ]
  },
  {
   "cell_type": "code",
   "execution_count": null,
   "metadata": {},
   "outputs": [],
   "source": [
    "# We can look at these results by querying database\n",
    "from maggma.stores import MongoStore\n",
    "tasks = MongoStore(database=\"mp_workshop\", collection_name=\"tasks\")\n"
   ]
  },
  {
   "cell_type": "markdown",
   "metadata": {},
   "source": [
    "This is way too much infomation so we can view things in a different way."
   ]
  },
  {
   "cell_type": "code",
   "execution_count": null,
   "metadata": {},
   "outputs": [],
   "source": []
  },
  {
   "cell_type": "markdown",
   "metadata": {},
   "source": [
    "This allows us to explore the data slowly"
   ]
  },
  {
   "cell_type": "code",
   "execution_count": null,
   "metadata": {},
   "outputs": [],
   "source": []
  },
  {
   "cell_type": "markdown",
   "metadata": {},
   "source": [
    "## Create a phase diagram using the data we have just computed\n",
    "\n",
    "We can use the query functionality of MongoStores (which is just like `find` in Pymongo)\n",
    "\n",
    "If we are only interested in the outputs we can use the `properties` to reduce the amount of data we have to send back and forth. "
   ]
  },
  {
   "cell_type": "code",
   "execution_count": null,
   "metadata": {},
   "outputs": [],
   "source": [
    "doc = tasks.query_one(criteria={\"chemsys\": \"Al\"}, properties=['output'])"
   ]
  },
  {
   "cell_type": "code",
   "execution_count": 4,
   "metadata": {},
   "outputs": [],
   "source": [
    "# Query all of the \"output\" data in a given chemical system\n"
   ]
  },
  {
   "cell_type": "markdown",
   "metadata": {},
   "source": [
    "Note that this returns a pymongo cursor, without actually querying the database.\n",
    "We can get the full set of data using the `list` command"
   ]
  },
  {
   "cell_type": "code",
   "execution_count": null,
   "metadata": {},
   "outputs": [],
   "source": [
    "docs = list(docs)"
   ]
  },
  {
   "cell_type": "code",
   "execution_count": null,
   "metadata": {},
   "outputs": [],
   "source": [
    "# Print the formula for each entry\n",
    "[d['formula_pretty'] for d in docs]"
   ]
  },
  {
   "cell_type": "code",
   "execution_count": null,
   "metadata": {},
   "outputs": [],
   "source": [
    "# get the all the tasks for 'Al' 'Cr' and 'Al-Cr' Chemical systems\n"
   ]
  },
  {
   "cell_type": "code",
   "execution_count": null,
   "metadata": {},
   "outputs": [],
   "source": [
    "len(al_cr_tasks)"
   ]
  },
  {
   "cell_type": "markdown",
   "metadata": {},
   "source": [
    "`ComputedEntry` is the obeject in Pymatgen that tracks energy and chemical composition."
   ]
  },
  {
   "cell_type": "code",
   "execution_count": null,
   "metadata": {},
   "outputs": [],
   "source": [
    "from pymatgen.entries.computed_entries import ComputedEntry\n",
    "from pymatgen import Composition\n",
    "\n",
    "task = al_cr_tasks[0]\n",
    "energy = task['output']['energy']\n",
    "composition = Composition.from_dict(task['composition_unit_cell'])\n",
    "entry = ComputedEntry(composition, energy)\n",
    "entry"
   ]
  },
  {
   "cell_type": "code",
   "execution_count": null,
   "metadata": {},
   "outputs": [],
   "source": [
    "# Use the tasks to populate a list of ComputedEntry\n"
   ]
  },
  {
   "cell_type": "markdown",
   "metadata": {},
   "source": [
    "## Plot the phase diagram"
   ]
  },
  {
   "cell_type": "code",
   "execution_count": null,
   "metadata": {},
   "outputs": [],
   "source": [
    "from pymatgen.analysis.phase_diagram import PhaseDiagram, PDPlotter"
   ]
  },
  {
   "cell_type": "code",
   "execution_count": null,
   "metadata": {},
   "outputs": [],
   "source": [
    "pd = PhaseDiagram(entries)"
   ]
  },
  {
   "cell_type": "code",
   "execution_count": null,
   "metadata": {},
   "outputs": [],
   "source": [
    "plotter = PDPlotter(pd)"
   ]
  },
  {
   "cell_type": "code",
   "execution_count": null,
   "metadata": {},
   "outputs": [],
   "source": [
    "plotter.show()"
   ]
  },
  {
   "cell_type": "code",
   "execution_count": null,
   "metadata": {},
   "outputs": [],
   "source": [
    "plotter.show_unstable = True\n",
    "plotter.show()"
   ]
  },
  {
   "cell_type": "code",
   "execution_count": null,
   "metadata": {},
   "outputs": [],
   "source": []
  },
  {
   "cell_type": "code",
   "execution_count": null,
   "metadata": {},
   "outputs": [],
   "source": []
  },
  {
   "cell_type": "code",
   "execution_count": null,
   "metadata": {},
   "outputs": [],
   "source": []
  }
 ],
 "metadata": {
  "kernelspec": {
   "display_name": "Python 3",
   "language": "python",
   "name": "python3"
  },
  "language_info": {
   "codemirror_mode": {
    "name": "ipython",
    "version": 3
   },
   "file_extension": ".py",
   "mimetype": "text/x-python",
   "name": "python",
   "nbconvert_exporter": "python",
   "pygments_lexer": "ipython3",
   "version": "3.7.3"
  },
  "widgets": {
   "state": {
    "7c4d41ed58bb4e4cb1dd9d4bc5e0a15d": {
     "views": [
      {
       "cell_index": 5
      }
     ]
    }
   },
   "version": "1.2.0"
  }
 },
 "nbformat": 4,
 "nbformat_minor": 4
}
