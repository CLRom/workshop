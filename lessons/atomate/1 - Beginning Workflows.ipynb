{
 "cells": [
  {
   "cell_type": "markdown",
   "metadata": {},
   "source": [
    "# 1 - Beginning Workflows\n",
    "\n",
    "In this lesson, we'll cover the basics of using atomate to run calculations. This will be a hands-on lesson where we dive into running a full workflows and break that down into components to understand how the various moving parts give us the ability to scale from 1 calculation to 10's of thousands."
   ]
  },
  {
   "cell_type": "markdown",
   "metadata": {},
   "source": [
    "# Building a workflow\n",
    "\n",
    "To begin, we'll start by grabbing a structure from materials project using pymatgen and the MPRester interface we learned about in a previous course"
   ]
  },
  {
   "cell_type": "code",
   "execution_count": 1,
   "metadata": {},
   "outputs": [
    {
     "name": "stdout",
     "output_type": "stream",
     "text": [
      "Full Formula (Si1)\n",
      "Reduced Formula: Si\n",
      "abc   :   2.736139   2.736139   2.736139\n",
      "angles:  60.000000  60.000000  60.000000\n",
      "Sites (1)\n",
      "  #  SP      a    b    c\n",
      "---  ----  ---  ---  ---\n",
      "  0  Si      0    0    0\n"
     ]
    }
   ],
   "source": [
    "from pymatgen import MPRester\n",
    "\n",
    "mpr = MPRester()\n",
    "\n",
    "struc = mpr.get_structure_by_material_id(\"mp-27\")\n",
    "print(struc)"
   ]
  },
  {
   "cell_type": "markdown",
   "metadata": {},
   "source": [
    "Now, let's construct a workflow using atomate to optimize this structure in DFT"
   ]
  },
  {
   "cell_type": "code",
   "execution_count": 2,
   "metadata": {
    "collapsed": true
   },
   "outputs": [],
   "source": [
    "from atomate.vasp.workflows.presets.core import wf_structure_optimization"
   ]
  },
  {
   "cell_type": "code",
   "execution_count": 3,
   "metadata": {},
   "outputs": [
    {
     "name": "stdout",
     "output_type": "stream",
     "text": [
      "Workflow object: (fw_ids: dict_keys([-1]) , name: Si)\n"
     ]
    }
   ],
   "source": [
    "wf = wf_structure_optimization(struc,{\"DB_FILE\": None})\n",
    "print(wf)"
   ]
  },
  {
   "cell_type": "markdown",
   "metadata": {},
   "source": [
    "Get some more information on the workflow"
   ]
  },
  {
   "cell_type": "code",
   "execution_count": 4,
   "metadata": {},
   "outputs": [
    {
     "data": {
      "text/plain": [
       "{'created_on': datetime.datetime(2018, 8, 7, 16, 46, 46, 293787),\n",
       " 'fws': [{'created_on': '2018-08-07T16:46:46.293548',\n",
       "   'fw_id': -1,\n",
       "   'name': 'Si-structure optimization',\n",
       "   'spec': {'_tasks': [{'_fw_name': 'FileWriteTask',\n",
       "      'files_to_write': [{'contents': '',\n",
       "        'filename': 'FW--Si-structure_optimization'}]},\n",
       "     {'_fw_name': '{{atomate.vasp.firetasks.write_inputs.WriteVaspFromIOSet}}',\n",
       "      'structure': {'@class': 'Structure',\n",
       "       '@module': 'pymatgen.core.structure',\n",
       "       'charge': None,\n",
       "       'lattice': {'a': 2.7361386705337156,\n",
       "        'alpha': 60.00000010462969,\n",
       "        'b': 2.7361386686542817,\n",
       "        'beta': 60.000000127351925,\n",
       "        'c': 2.73613867,\n",
       "        'gamma': 60.000000062179055,\n",
       "        'matrix': [[2.3695656, 0.0, 1.36806933],\n",
       "         [0.7898552, 2.23404787, 1.36806933],\n",
       "         [0.0, 0.0, 2.73613867]],\n",
       "        'volume': 14.484360157964268},\n",
       "       'sites': [{'abc': [0.0, 0.0, 0.0],\n",
       "         'label': 'Si',\n",
       "         'species': [{'element': 'Si', 'occu': 1}],\n",
       "         'xyz': [0.0, 0.0, 0.0]}]},\n",
       "      'vasp_input_set': {'@class': 'MPRelaxSet',\n",
       "       '@module': 'pymatgen.io.vasp.sets',\n",
       "       'force_gamma': True,\n",
       "       'structure': {'@class': 'Structure',\n",
       "        '@module': 'pymatgen.core.structure',\n",
       "        'charge': None,\n",
       "        'lattice': {'a': 2.7361386705337156,\n",
       "         'alpha': 60.00000010462969,\n",
       "         'b': 2.7361386686542817,\n",
       "         'beta': 60.000000127351925,\n",
       "         'c': 2.73613867,\n",
       "         'gamma': 60.000000062179055,\n",
       "         'matrix': [[2.3695656, 0.0, 1.36806933],\n",
       "          [0.7898552, 2.23404787, 1.36806933],\n",
       "          [0.0, 0.0, 2.73613867]],\n",
       "         'volume': 14.484360157964268},\n",
       "        'sites': [{'abc': [0.0, 0.0, 0.0],\n",
       "          'label': 'Si',\n",
       "          'species': [{'element': 'Si', 'occu': 1}],\n",
       "          'xyz': [0.0, 0.0, 0.0]}]},\n",
       "       'user_incar_settings': None}},\n",
       "     {'_fw_name': '{{atomate.vasp.firetasks.run_calc.RunVaspCustodian}}',\n",
       "      'auto_npar': '>>auto_npar<<',\n",
       "      'ediffg': None,\n",
       "      'gamma_vasp_cmd': '>>gamma_vasp_cmd<<',\n",
       "      'half_kpts_first_relax': False,\n",
       "      'job_type': 'double_relaxation_run',\n",
       "      'max_force_threshold': 0.25,\n",
       "      'scratch_dir': '>>scratch_dir<<',\n",
       "      'vasp_cmd': '>>vasp_cmd<<'},\n",
       "     {'_fw_name': '{{atomate.common.firetasks.glue_tasks.PassCalcLocs}}',\n",
       "      'name': 'structure optimization'},\n",
       "     {'_fw_name': '{{atomate.vasp.firetasks.parse_outputs.VaspToDb}}',\n",
       "      'additional_fields': {'task_label': 'structure optimization'},\n",
       "      'db_file': None}]},\n",
       "   'updated_on': '2018-08-07T16:46:46.293551'}],\n",
       " 'links': {'-1': []},\n",
       " 'metadata': {'chemsys': 'Si',\n",
       "  'elements': ['Si'],\n",
       "  'formula': 'Si1',\n",
       "  'formula_anonymous': 'A',\n",
       "  'formula_pretty': 'Si',\n",
       "  'formula_reduced_abc': 'Si1',\n",
       "  'is_ordered': True,\n",
       "  'is_valid': True,\n",
       "  'nelements': 1,\n",
       "  'nsites': 1,\n",
       "  'structure': {'@class': 'Structure',\n",
       "   '@module': 'pymatgen.core.structure',\n",
       "   'charge': None,\n",
       "   'lattice': {'a': 2.7361386705337156,\n",
       "    'alpha': 60.00000010462969,\n",
       "    'b': 2.7361386686542817,\n",
       "    'beta': 60.000000127351925,\n",
       "    'c': 2.73613867,\n",
       "    'gamma': 60.000000062179055,\n",
       "    'matrix': [[2.3695656, 0.0, 1.36806933],\n",
       "     [0.7898552, 2.23404787, 1.36806933],\n",
       "     [0.0, 0.0, 2.73613867]],\n",
       "    'volume': 14.484360157964268},\n",
       "   'sites': [{'abc': [0.0, 0.0, 0.0],\n",
       "     'label': 'Si',\n",
       "     'species': [{'element': 'Si', 'occu': 1}],\n",
       "     'xyz': [0.0, 0.0, 0.0]}]}},\n",
       " 'name': 'Si',\n",
       " 'updated_on': datetime.datetime(2018, 8, 7, 16, 46, 46, 293789)}"
      ]
     },
     "execution_count": 4,
     "metadata": {},
     "output_type": "execute_result"
    }
   ],
   "source": [
    "wf.as_dict()"
   ]
  },
  {
   "cell_type": "markdown",
   "metadata": {},
   "source": [
    "# Running with Fake VASP to simulate a DFT calculation\n",
    "\n",
    "Due to a combination of licensing issues and just not being able to run this quickly on the jupyter server, we're going to simulate VASP running with a magic function. You will later learn about powerups, which let you modify a workflow. For this exercise we're going to use a powerup that will replace the normal VASP running functionality with something that just copies files we've prepared for you"
   ]
  },
  {
   "cell_type": "code",
   "execution_count": 5,
   "metadata": {
    "collapsed": true
   },
   "outputs": [],
   "source": [
    "from atomate.vasp.powerups import use_fake_vasp"
   ]
  },
  {
   "cell_type": "markdown",
   "metadata": {},
   "source": [
    "## Lets do some work to get the path to fake VASP files"
   ]
  },
  {
   "cell_type": "code",
   "execution_count": 6,
   "metadata": {},
   "outputs": [
    {
     "name": "stdout",
     "output_type": "stream",
     "text": [
      "/Users/shyamd/Dropbox/Projects/2018 - MP Workshop/workshop-2018/mp_workshop/fake_vasp/Si_structure_opt\n"
     ]
    }
   ],
   "source": [
    "import os\n",
    "\n",
    "currrent_path = os.path.curdir\n",
    "relative_path = os.path.join(currrent_path, \"../../mp_workshop/fake_vasp/Si_structure_opt\")\n",
    "absolute_path = os.path.abspath(relative_path)\n",
    "print(absolute_path)"
   ]
  },
  {
   "cell_type": "code",
   "execution_count": 7,
   "metadata": {},
   "outputs": [
    {
     "data": {
      "text/plain": [
       "{'created_on': datetime.datetime(2018, 8, 7, 16, 46, 46, 293787),\n",
       " 'fws': [{'created_on': '2018-08-07T16:46:46.293548',\n",
       "   'fw_id': -1,\n",
       "   'name': 'Si-structure optimization',\n",
       "   'spec': {'_tasks': [{'_fw_name': 'FileWriteTask',\n",
       "      'files_to_write': [{'contents': '',\n",
       "        'filename': 'FW--Si-structure_optimization'}]},\n",
       "     {'_fw_name': '{{atomate.vasp.firetasks.write_inputs.WriteVaspFromIOSet}}',\n",
       "      'structure': {'@class': 'Structure',\n",
       "       '@module': 'pymatgen.core.structure',\n",
       "       'charge': None,\n",
       "       'lattice': {'a': 2.7361386705337156,\n",
       "        'alpha': 60.00000010462969,\n",
       "        'b': 2.7361386686542817,\n",
       "        'beta': 60.000000127351925,\n",
       "        'c': 2.73613867,\n",
       "        'gamma': 60.000000062179055,\n",
       "        'matrix': [[2.3695656, 0.0, 1.36806933],\n",
       "         [0.7898552, 2.23404787, 1.36806933],\n",
       "         [0.0, 0.0, 2.73613867]],\n",
       "        'volume': 14.484360157964268},\n",
       "       'sites': [{'abc': [0.0, 0.0, 0.0],\n",
       "         'label': 'Si',\n",
       "         'species': [{'element': 'Si', 'occu': 1}],\n",
       "         'xyz': [0.0, 0.0, 0.0]}]},\n",
       "      'vasp_input_set': {'@class': 'MPRelaxSet',\n",
       "       '@module': 'pymatgen.io.vasp.sets',\n",
       "       'force_gamma': True,\n",
       "       'structure': {'@class': 'Structure',\n",
       "        '@module': 'pymatgen.core.structure',\n",
       "        'charge': None,\n",
       "        'lattice': {'a': 2.7361386705337156,\n",
       "         'alpha': 60.00000010462969,\n",
       "         'b': 2.7361386686542817,\n",
       "         'beta': 60.000000127351925,\n",
       "         'c': 2.73613867,\n",
       "         'gamma': 60.000000062179055,\n",
       "         'matrix': [[2.3695656, 0.0, 1.36806933],\n",
       "          [0.7898552, 2.23404787, 1.36806933],\n",
       "          [0.0, 0.0, 2.73613867]],\n",
       "         'volume': 14.484360157964268},\n",
       "        'sites': [{'abc': [0.0, 0.0, 0.0],\n",
       "          'label': 'Si',\n",
       "          'species': [{'element': 'Si', 'occu': 1}],\n",
       "          'xyz': [0.0, 0.0, 0.0]}]},\n",
       "       'user_incar_settings': None}},\n",
       "     {'_fw_name': '{{atomate.vasp.firetasks.run_calc.RunVaspFake}}',\n",
       "      'params_to_check': ['ISPIN',\n",
       "       'ENCUT',\n",
       "       'ISMEAR',\n",
       "       'SIGMA',\n",
       "       'IBRION',\n",
       "       'LORBIT',\n",
       "       'NBANDS',\n",
       "       'LMAXMIX'],\n",
       "      'ref_dir': '/Users/shyamd/Dropbox/Projects/2018 - MP Workshop/workshop-2018/mp_workshop/fake_vasp/Si_structure_opt'},\n",
       "     {'_fw_name': '{{atomate.common.firetasks.glue_tasks.PassCalcLocs}}',\n",
       "      'name': 'structure optimization'},\n",
       "     {'_fw_name': '{{atomate.vasp.firetasks.parse_outputs.VaspToDb}}',\n",
       "      'additional_fields': {'task_label': 'structure optimization'},\n",
       "      'db_file': None}]},\n",
       "   'updated_on': '2018-08-07T16:46:46.293551'}],\n",
       " 'links': {'-1': []},\n",
       " 'metadata': {'chemsys': 'Si',\n",
       "  'elements': ['Si'],\n",
       "  'formula': 'Si1',\n",
       "  'formula_anonymous': 'A',\n",
       "  'formula_pretty': 'Si',\n",
       "  'formula_reduced_abc': 'Si1',\n",
       "  'is_ordered': True,\n",
       "  'is_valid': True,\n",
       "  'nelements': 1,\n",
       "  'nsites': 1,\n",
       "  'structure': {'@class': 'Structure',\n",
       "   '@module': 'pymatgen.core.structure',\n",
       "   'charge': None,\n",
       "   'lattice': {'a': 2.7361386705337156,\n",
       "    'alpha': 60.00000010462969,\n",
       "    'b': 2.7361386686542817,\n",
       "    'beta': 60.000000127351925,\n",
       "    'c': 2.73613867,\n",
       "    'gamma': 60.000000062179055,\n",
       "    'matrix': [[2.3695656, 0.0, 1.36806933],\n",
       "     [0.7898552, 2.23404787, 1.36806933],\n",
       "     [0.0, 0.0, 2.73613867]],\n",
       "    'volume': 14.484360157964268},\n",
       "   'sites': [{'abc': [0.0, 0.0, 0.0],\n",
       "     'label': 'Si',\n",
       "     'species': [{'element': 'Si', 'occu': 1}],\n",
       "     'xyz': [0.0, 0.0, 0.0]}]}},\n",
       " 'name': 'Si',\n",
       " 'updated_on': datetime.datetime(2018, 8, 7, 16, 46, 46, 293789)}"
      ]
     },
     "execution_count": 7,
     "metadata": {},
     "output_type": "execute_result"
    }
   ],
   "source": [
    "wf = use_fake_vasp(wf, ref_dirs={\"Si-structure optimization\": absolute_path})\n",
    "wf.as_dict()"
   ]
  },
  {
   "cell_type": "markdown",
   "metadata": {},
   "source": [
    "## Now we have to get ourself a LaunchPad so that we can submit this workflow to our database\n",
    "\n",
    "\n",
    "Atomate uses Fireworks as its workflow engine. Fireworks hides the database with an object called a LaunchPad. This allows you to submit and query workflows from anywhere you have database access. We need to get ourselves a LaunchPad object so we can submit our workflow"
   ]
  },
  {
   "cell_type": "code",
   "execution_count": 8,
   "metadata": {
    "collapsed": true
   },
   "outputs": [],
   "source": [
    "from fireworks.core.launchpad import LaunchPad\n",
    "\n",
    "lp = LaunchPad()"
   ]
  },
  {
   "cell_type": "markdown",
   "metadata": {},
   "source": [
    "We can use the launchpad to add a workkflow to our database:"
   ]
  },
  {
   "cell_type": "code",
   "execution_count": 9,
   "metadata": {},
   "outputs": [
    {
     "name": "stdout",
     "output_type": "stream",
     "text": [
      "2018-08-07 09:46:46,382 INFO Added a workflow. id_map: {-1: 1}\n"
     ]
    },
    {
     "data": {
      "text/plain": [
       "{-1: 1}"
      ]
     },
     "execution_count": 9,
     "metadata": {},
     "output_type": "execute_result"
    }
   ],
   "source": [
    "lp.add_wf(wf)"
   ]
  },
  {
   "cell_type": "markdown",
   "metadata": {},
   "source": [
    "# Monitoring Workflows\n",
    "\n",
    "Fireworks lets you monitor the status of workflows and fireworks using both python and the command line. Let's start off by looking at the status of our workflow. For each bit of python code, i'll include a cell with a command line command using jupyter-notebook's '!' functionality. In practice, we use the command line tools quite a bit and will be emphasized in this notebook.\n",
    "\n",
    "**Command Line Access in Jupyter**: Jupyter lets you running command line commands by prefacing them with the exclamation mark:"
   ]
  },
  {
   "cell_type": "code",
   "execution_count": 11,
   "metadata": {},
   "outputs": [
    {
     "name": "stdout",
     "output_type": "stream",
     "text": [
      "state :  READY\n",
      "name :  Si\n",
      "created_on :  2018-08-07 16:46:46.293000\n",
      "updated_on :  2018-08-07 16:46:46.293000\n",
      "states :  OrderedDict([('Si-structure optimization--1', 'READY')])\n",
      "launch_dirs :  OrderedDict([('Si-structure optimization--1', [])])\n",
      "\n",
      "\n"
     ]
    }
   ],
   "source": [
    "# Lets get workflows\n",
    "\n",
    "def get_wflows():\n",
    "    for wf_id in lp.get_wf_ids():\n",
    "        for key,value in lp.get_wf_summary_dict(wf_id).items():\n",
    "            print(key, \": \",value)\n",
    "        print(\"\\n\")\n",
    "\n",
    "get_wflows()"
   ]
  },
  {
   "cell_type": "markdown",
   "metadata": {},
   "source": [
    "This is how you get workflow information on the command line"
   ]
  },
  {
   "cell_type": "code",
   "execution_count": 12,
   "metadata": {},
   "outputs": [
    {
     "name": "stdout",
     "output_type": "stream",
     "text": [
      "{\r\n",
      "    \"state\": \"READY\",\r\n",
      "    \"name\": \"Si--1\",\r\n",
      "    \"created_on\": \"2018-08-07T16:46:46.293000\",\r\n",
      "    \"states_list\": \"REA\"\r\n",
      "}\r\n"
     ]
    }
   ],
   "source": [
    "!lpad get_wflows"
   ]
  },
  {
   "cell_type": "code",
   "execution_count": 13,
   "metadata": {
    "scrolled": true
   },
   "outputs": [
    {
     "name": "stdout",
     "output_type": "stream",
     "text": [
      "fw_id :  1\n",
      "updated_on :  2018-08-07T16:46:46.351026\n",
      "state :  READY\n",
      "name :  Si-structure optimization\n",
      "\n",
      "\n"
     ]
    }
   ],
   "source": [
    "def get_fws():\n",
    "    for fw_id in lp.get_fw_ids():\n",
    "        fw = lp.get_fw_dict_by_id(fw_id)\n",
    "        for prop in [\"fw_id\",\"updated_on\",\"state\",\"name\"]:\n",
    "            print(prop, \": \",fw[prop])\n",
    "\n",
    "        print(\"\\n\")\n",
    "        \n",
    "get_fws()"
   ]
  },
  {
   "cell_type": "markdown",
   "metadata": {},
   "source": [
    "This command line gets you the same information"
   ]
  },
  {
   "cell_type": "code",
   "execution_count": 14,
   "metadata": {
    "scrolled": false
   },
   "outputs": [
    {
     "name": "stdout",
     "output_type": "stream",
     "text": [
      "{\r\n",
      "    \"fw_id\": 1,\r\n",
      "    \"created_on\": \"2018-08-07T16:46:46.293548\",\r\n",
      "    \"updated_on\": \"2018-08-07T16:46:46.351026\",\r\n",
      "    \"state\": \"READY\",\r\n",
      "    \"name\": \"Si-structure optimization\"\r\n",
      "}\r\n"
     ]
    }
   ],
   "source": [
    "!lpad get_fws"
   ]
  },
  {
   "cell_type": "code",
   "execution_count": 15,
   "metadata": {},
   "outputs": [
    {
     "name": "stdout",
     "output_type": "stream",
     "text": [
      "usage: lpad [-h] [-o {json,yaml}] [-l LAUNCHPAD_FILE] [-c CONFIG_DIR]\r\n",
      "            [--logdir LOGDIR] [--loglvl LOGLVL] [-s]\r\n",
      "            {version,init,reset,add,check_wflow,get_launchdir,append_wflow,dump_wflow,add_scripts,get_fws,track_fws,rerun_fws,defuse_fws,pause_fws,reignite_fws,resume_fws,update_fws,get_wflows,defuse_wflows,pause_wflows,reignite_wflows,archive_wflows,delete_wflows,get_qids,cancel_qid,detect_unreserved,detect_lostruns,set_priority,webgui,recover_offline,forget_offline,admin,report,introspect}\r\n",
      "            ...\r\n",
      "\r\n",
      "A command line interface to FireWorks. For more help on a specific command,\r\n",
      "type \"lpad <command> -h\".\r\n",
      "\r\n",
      "positional arguments:\r\n",
      "  {version,init,reset,add,check_wflow,get_launchdir,append_wflow,dump_wflow,add_scripts,get_fws,track_fws,rerun_fws,defuse_fws,pause_fws,reignite_fws,resume_fws,update_fws,get_wflows,defuse_wflows,pause_wflows,reignite_wflows,archive_wflows,delete_wflows,get_qids,cancel_qid,detect_unreserved,detect_lostruns,set_priority,webgui,recover_offline,forget_offline,admin,report,introspect}\r\n",
      "                        command\r\n",
      "    version             Print the version and location of FireWorks\r\n",
      "    init                Initialize a Fireworks launchpad YAML file.\r\n",
      "    reset               reset and re-initialize the FireWorks database\r\n",
      "    add                 insert a Workflow from file\r\n",
      "    check_wflow         validate and graph a workflow from launchpad\r\n",
      "    get_launchdir       get the directory of the most recent launch of the\r\n",
      "                        given fw_id. A common usage is \"cd `get_launchdir\r\n",
      "                        <FW_ID>`\" to change the working directory that of the\r\n",
      "                        FW launch\r\n",
      "    append_wflow        append a workflow from file to a workflow on launchpad\r\n",
      "    dump_wflow          dump a workflow from launchpad to a file\r\n",
      "    add_scripts         quickly add a script (or several scripts) to run in\r\n",
      "                        sequence\r\n",
      "    get_fws             get information about FireWorks\r\n",
      "    track_fws           Track FireWorks\r\n",
      "    rerun_fws           re-run Firework(s)\r\n",
      "    defuse_fws          cancel (de-fuse) a single Firework\r\n",
      "    pause_fws           pause a single Firework\r\n",
      "    reignite_fws        reignite (un-cancel) a set of Fireworks\r\n",
      "    resume_fws          resume (un-pause) a set of Fireworks\r\n",
      "    update_fws          Update a Firework spec.\r\n",
      "    get_wflows          get information about Workflows\r\n",
      "    defuse_wflows       cancel (de-fuse) an entire Workflow\r\n",
      "    pause_wflows        pause an entire Workflow\r\n",
      "    reignite_wflows     reignite (un-cancel) an entire Workflow\r\n",
      "    archive_wflows      archive an entire Workflow (irreversible)\r\n",
      "    delete_wflows       Delete workflows (permanently). Use \"archive_wflows\"\r\n",
      "                        instead if you want to \"soft-remove\"\r\n",
      "    get_qids            get the queue id of a Firework\r\n",
      "    cancel_qid          cancel a reservation\r\n",
      "    detect_unreserved   Find launches with stale reservations\r\n",
      "    detect_lostruns     Find launches that have FIZZLED\r\n",
      "    set_priority        modify the priority of one or more FireWorks\r\n",
      "    webgui              launch the web GUI\r\n",
      "    recover_offline     recover offline workflows\r\n",
      "    forget_offline      forget offline workflows\r\n",
      "    admin               Various db admin commands, type \"lpad admin -h\" for\r\n",
      "                        more.\r\n",
      "    report              Compile a report of runtime stats, type \"lpad report\r\n",
      "                        -h\" for more options.\r\n",
      "    introspect          Introspect recent runs to pin down errors\r\n",
      "\r\n",
      "optional arguments:\r\n",
      "  -h, --help            show this help message and exit\r\n",
      "  -o {json,yaml}, --output {json,yaml}\r\n",
      "                        Set output display format to either json or YAML. YAML\r\n",
      "                        is easier to read for long documents. JSON is the\r\n",
      "                        default.\r\n",
      "  -l LAUNCHPAD_FILE, --launchpad_file LAUNCHPAD_FILE\r\n",
      "                        path to LaunchPad file containing central DB\r\n",
      "                        connection info\r\n",
      "  -c CONFIG_DIR, --config_dir CONFIG_DIR\r\n",
      "                        path to a directory containing the LaunchPad file\r\n",
      "                        (used if -l unspecified)\r\n",
      "  --logdir LOGDIR       path to a directory for logging\r\n",
      "  --loglvl LOGLVL       level to print log messages\r\n",
      "  -s, --silencer        shortcut to mute log messages\r\n"
     ]
    }
   ],
   "source": [
    "!lpad --help"
   ]
  },
  {
   "cell_type": "code",
   "execution_count": 16,
   "metadata": {},
   "outputs": [
    {
     "name": "stdout",
     "output_type": "stream",
     "text": [
      "usage: lpad get_fws [-h] [-i FW_ID [FW_ID ...]] [-n NAME]\r\n",
      "                    [-s {ARCHIVED,FIZZLED,DEFUSED,PAUSED,WAITING,READY,RESERVED,RUNNING,COMPLETED}]\r\n",
      "                    [-q QUERY] [-lm] [--qid QID]\r\n",
      "                    [-d {all,more,less,ids,count,reservations}] [-m MAX]\r\n",
      "                    [--sort {created_on,updated_on}]\r\n",
      "                    [--rsort {created_on,updated_on}]\r\n",
      "\r\n",
      "optional arguments:\r\n",
      "  -h, --help            show this help message and exit\r\n",
      "  -i FW_ID [FW_ID ...], --fw_id FW_ID [FW_ID ...]\r\n",
      "                        fw_id\r\n",
      "  -n NAME, --name NAME  get FWs with this name\r\n",
      "  -s {ARCHIVED,FIZZLED,DEFUSED,PAUSED,WAITING,READY,RESERVED,RUNNING,COMPLETED}, --state {ARCHIVED,FIZZLED,DEFUSED,PAUSED,WAITING,READY,RESERVED,RUNNING,COMPLETED}\r\n",
      "                        Select by state.\r\n",
      "  -q QUERY, --query QUERY\r\n",
      "                        Query (enclose pymongo-style dict in single-quotes,\r\n",
      "                        e.g. '{\"state\":\"COMPLETED\"}')\r\n",
      "  -lm, --launches_mode  Query the launches collection (enclose pymongo-style\r\n",
      "                        dict in single-quotes, e.g. '{\"launch_id\": 1}')\r\n",
      "  --qid QID             Query by reservation id of job in queue\r\n",
      "  -d {all,more,less,ids,count,reservations}, --display_format {all,more,less,ids,count,reservations}\r\n",
      "                        Display format.\r\n",
      "  -m MAX, --max MAX     limit results\r\n",
      "  --sort {created_on,updated_on}\r\n",
      "                        Sort results\r\n",
      "  --rsort {created_on,updated_on}\r\n",
      "                        Reverse sort results\r\n"
     ]
    }
   ],
   "source": [
    "# Let's look at what this command can do:\n",
    "!lpad get_fws --help"
   ]
  },
  {
   "cell_type": "markdown",
   "metadata": {},
   "source": [
    "# Now lets run this workflow\n",
    "\n",
    "\n",
    "There are a few different ways to run a workflow. The first is to just run it within this notebook directly."
   ]
  },
  {
   "cell_type": "code",
   "execution_count": 17,
   "metadata": {
    "collapsed": true
   },
   "outputs": [],
   "source": [
    "from fireworks.core.rocket_launcher import launch_rocket"
   ]
  },
  {
   "cell_type": "code",
   "execution_count": 18,
   "metadata": {
    "collapsed": true
   },
   "outputs": [],
   "source": [
    "# Lets move into a temporary working directory\n",
    "import os\n",
    "\n",
    "os.mkdir(\"temp\")\n",
    "os.chdir(\"temp\")"
   ]
  },
  {
   "cell_type": "code",
   "execution_count": 19,
   "metadata": {},
   "outputs": [
    {
     "name": "stdout",
     "output_type": "stream",
     "text": [
      "2018-08-07 09:49:02,660 INFO Launching Rocket\n",
      "2018-08-07 09:49:02,737 INFO RUNNING fw_id: 1 in directory: /Users/shyamd/Dropbox/Projects/2018 - MP Workshop/workshop-2018/lessons/atomate/temp\n",
      "2018-08-07 09:49:02,745 INFO Task started: FileWriteTask.\n",
      "2018-08-07 09:49:02,747 INFO Task completed: FileWriteTask \n",
      "2018-08-07 09:49:02,750 INFO Task started: {{atomate.vasp.firetasks.write_inputs.WriteVaspFromIOSet}}.\n",
      "2018-08-07 09:49:02,764 INFO Task completed: {{atomate.vasp.firetasks.write_inputs.WriteVaspFromIOSet}} \n",
      "2018-08-07 09:49:02,767 INFO Task started: {{atomate.vasp.firetasks.run_calc.RunVaspFake}}.\n",
      "2018-08-07 09:49:02,790 INFO atomate.vasp.firetasks.run_calc RunVaspFake: verified inputs successfully\n",
      "2018-08-07 09:49:02,821 INFO atomate.vasp.firetasks.run_calc RunVaspFake: ran fake VASP, generated outputs\n",
      "2018-08-07 09:49:02,822 INFO Task completed: {{atomate.vasp.firetasks.run_calc.RunVaspFake}} \n",
      "2018-08-07 09:49:02,826 INFO Task started: {{atomate.common.firetasks.glue_tasks.PassCalcLocs}}.\n",
      "2018-08-07 09:49:02,827 INFO Task completed: {{atomate.common.firetasks.glue_tasks.PassCalcLocs}} \n",
      "2018-08-07 09:49:02,832 INFO Task started: {{atomate.vasp.firetasks.parse_outputs.VaspToDb}}.\n",
      "2018-08-07 09:49:02,832 INFO atomate.vasp.firetasks.parse_outputs PARSING DIRECTORY: /Users/shyamd/Dropbox/Projects/2018 - MP Workshop/workshop-2018/lessons/atomate/temp\n",
      "2018-08-07 09:49:02,833 INFO atomate.vasp.drones Getting task doc for base dir :/Users/shyamd/Dropbox/Projects/2018 - MP Workshop/workshop-2018/lessons/atomate/temp\n"
     ]
    },
    {
     "name": "stderr",
     "output_type": "stream",
     "text": [
      "/Users/shyamd/codes/pymatgen/pymatgen/command_line/bader_caller.py:392: UserWarning: Could not find AECCAR0, interpret Bader results with caution.\n",
      "  warnings.warn(warning)\n",
      "/Users/shyamd/codes/pymatgen/pymatgen/command_line/bader_caller.py:392: UserWarning: Could not find AECCAR2, interpret Bader results with caution.\n",
      "  warnings.warn(warning)\n"
     ]
    },
    {
     "name": "stdout",
     "output_type": "stream",
     "text": [
      "2018-08-07 09:49:07,367 INFO atomate.vasp.drones Post-processing dir:/Users/shyamd/Dropbox/Projects/2018 - MP Workshop/workshop-2018/lessons/atomate/temp\n",
      "2018-08-07 09:49:07,370 WARNING atomate.vasp.drones Transformations file does not exist.\n",
      "2018-08-07 09:49:07,373 INFO atomate.vasp.drones Post-processed /Users/shyamd/Dropbox/Projects/2018 - MP Workshop/workshop-2018/lessons/atomate/temp\n",
      "2018-08-07 09:49:07,376 INFO Task completed: {{atomate.vasp.firetasks.parse_outputs.VaspToDb}} \n",
      "2018-08-07 09:49:07,396 INFO Rocket finished\n"
     ]
    },
    {
     "data": {
      "text/plain": [
       "True"
      ]
     },
     "execution_count": 19,
     "metadata": {},
     "output_type": "execute_result"
    }
   ],
   "source": [
    "launch_rocket(lp)"
   ]
  },
  {
   "cell_type": "markdown",
   "metadata": {},
   "source": [
    "Now, lets see how that changed our fireworks"
   ]
  },
  {
   "cell_type": "code",
   "execution_count": 20,
   "metadata": {
    "scrolled": true
   },
   "outputs": [
    {
     "name": "stdout",
     "output_type": "stream",
     "text": [
      "{\r\n",
      "    \"fw_id\": 1,\r\n",
      "    \"created_on\": \"2018-08-07T16:46:46.293548\",\r\n",
      "    \"updated_on\": \"2018-08-07T16:49:07.390173\",\r\n",
      "    \"state\": \"COMPLETED\",\r\n",
      "    \"name\": \"Si-structure optimization\"\r\n",
      "}\r\n"
     ]
    }
   ],
   "source": [
    "!lpad get_fws"
   ]
  },
  {
   "cell_type": "markdown",
   "metadata": {},
   "source": [
    "This let me run a single firework in the notebook. What if I wanted to run multiple fireworks? First lets reset the old firework and add some more workflows to our database"
   ]
  },
  {
   "cell_type": "code",
   "execution_count": 21,
   "metadata": {
    "collapsed": true
   },
   "outputs": [],
   "source": [
    "# Let's use the python to rerun those fireworks\n",
    "for fw_id in lp.get_fw_ids():\n",
    "    lp.rerun_fw(fw_id)\n",
    "    "
   ]
  },
  {
   "cell_type": "code",
   "execution_count": 22,
   "metadata": {},
   "outputs": [
    {
     "name": "stdout",
     "output_type": "stream",
     "text": [
      "2018-08-07 09:50:06,391 INFO Finished setting 1 FWs to rerun\r\n"
     ]
    }
   ],
   "source": [
    "# We can do the same thing using the command line:\n",
    "!lpad rerun_fws "
   ]
  },
  {
   "cell_type": "code",
   "execution_count": 23,
   "metadata": {},
   "outputs": [
    {
     "name": "stdout",
     "output_type": "stream",
     "text": [
      "{\r\n",
      "    \"fw_id\": 1,\r\n",
      "    \"created_on\": \"2018-08-07T16:46:46.293548\",\r\n",
      "    \"updated_on\": \"2018-08-07T16:50:06.387406\",\r\n",
      "    \"state\": \"READY\",\r\n",
      "    \"name\": \"Si-structure optimization\"\r\n",
      "}\r\n"
     ]
    }
   ],
   "source": [
    "!lpad get_fws"
   ]
  },
  {
   "cell_type": "code",
   "execution_count": 24,
   "metadata": {},
   "outputs": [
    {
     "name": "stdout",
     "output_type": "stream",
     "text": [
      "2018-08-07 09:50:19,780 INFO Added a workflow. id_map: {1: 2}\n",
      "2018-08-07 09:50:19,784 INFO Added a workflow. id_map: {2: 3}\n"
     ]
    },
    {
     "data": {
      "text/plain": [
       "{2: 3}"
      ]
     },
     "execution_count": 24,
     "metadata": {},
     "output_type": "execute_result"
    }
   ],
   "source": [
    "# Let's add the workflow a few more times to have multiple fireworks in database\n",
    "lp.add_wf(wf)\n",
    "lp.add_wf(wf)"
   ]
  },
  {
   "cell_type": "markdown",
   "metadata": {},
   "source": [
    "We can run all of the available fireworks using a 2 lines of python and a single command:"
   ]
  },
  {
   "cell_type": "code",
   "execution_count": 25,
   "metadata": {},
   "outputs": [
    {
     "name": "stdout",
     "output_type": "stream",
     "text": [
      "2018-08-07 09:50:35,046 INFO Created new dir /Users/shyamd/Dropbox/Projects/2018 - MP Workshop/workshop-2018/lessons/atomate/temp/launcher_2018-08-07-16-50-35-046060\n",
      "2018-08-07 09:50:35,046 INFO Launching Rocket\n",
      "2018-08-07 09:50:35,069 INFO RUNNING fw_id: 1 in directory: /Users/shyamd/Dropbox/Projects/2018 - MP Workshop/workshop-2018/lessons/atomate/temp/launcher_2018-08-07-16-50-35-046060\n",
      "2018-08-07 09:50:35,079 INFO Task started: FileWriteTask.\n",
      "2018-08-07 09:50:35,081 INFO Task completed: FileWriteTask \n",
      "2018-08-07 09:50:35,084 INFO Task started: {{atomate.vasp.firetasks.write_inputs.WriteVaspFromIOSet}}.\n",
      "2018-08-07 09:50:35,094 INFO Task completed: {{atomate.vasp.firetasks.write_inputs.WriteVaspFromIOSet}} \n",
      "2018-08-07 09:50:35,098 INFO Task started: {{atomate.vasp.firetasks.run_calc.RunVaspFake}}.\n",
      "2018-08-07 09:50:35,120 INFO atomate.vasp.firetasks.run_calc RunVaspFake: verified inputs successfully\n",
      "2018-08-07 09:50:35,142 INFO atomate.vasp.firetasks.run_calc RunVaspFake: ran fake VASP, generated outputs\n",
      "2018-08-07 09:50:35,144 INFO Task completed: {{atomate.vasp.firetasks.run_calc.RunVaspFake}} \n",
      "2018-08-07 09:50:35,148 INFO Task started: {{atomate.common.firetasks.glue_tasks.PassCalcLocs}}.\n",
      "2018-08-07 09:50:35,150 INFO Task completed: {{atomate.common.firetasks.glue_tasks.PassCalcLocs}} \n",
      "2018-08-07 09:50:35,156 INFO Task started: {{atomate.vasp.firetasks.parse_outputs.VaspToDb}}.\n",
      "2018-08-07 09:50:35,158 INFO atomate.vasp.firetasks.parse_outputs PARSING DIRECTORY: /Users/shyamd/Dropbox/Projects/2018 - MP Workshop/workshop-2018/lessons/atomate/temp/launcher_2018-08-07-16-50-35-046060\n",
      "2018-08-07 09:50:35,159 INFO atomate.vasp.drones Getting task doc for base dir :/Users/shyamd/Dropbox/Projects/2018 - MP Workshop/workshop-2018/lessons/atomate/temp/launcher_2018-08-07-16-50-35-046060\n"
     ]
    },
    {
     "name": "stderr",
     "output_type": "stream",
     "text": [
      "/Users/shyamd/codes/pymatgen/pymatgen/command_line/bader_caller.py:392: UserWarning: Could not find AECCAR0, interpret Bader results with caution.\n",
      "  warnings.warn(warning)\n",
      "/Users/shyamd/codes/pymatgen/pymatgen/command_line/bader_caller.py:392: UserWarning: Could not find AECCAR2, interpret Bader results with caution.\n",
      "  warnings.warn(warning)\n"
     ]
    },
    {
     "name": "stdout",
     "output_type": "stream",
     "text": [
      "2018-08-07 09:50:39,643 INFO atomate.vasp.drones Post-processing dir:/Users/shyamd/Dropbox/Projects/2018 - MP Workshop/workshop-2018/lessons/atomate/temp/launcher_2018-08-07-16-50-35-046060\n",
      "2018-08-07 09:50:39,645 WARNING atomate.vasp.drones Transformations file does not exist.\n",
      "2018-08-07 09:50:39,649 INFO atomate.vasp.drones Post-processed /Users/shyamd/Dropbox/Projects/2018 - MP Workshop/workshop-2018/lessons/atomate/temp/launcher_2018-08-07-16-50-35-046060\n",
      "2018-08-07 09:50:39,653 INFO Task completed: {{atomate.vasp.firetasks.parse_outputs.VaspToDb}} \n",
      "2018-08-07 09:50:39,674 INFO Rocket finished\n",
      "2018-08-07 09:50:39,680 INFO Created new dir /Users/shyamd/Dropbox/Projects/2018 - MP Workshop/workshop-2018/lessons/atomate/temp/launcher_2018-08-07-16-50-39-679976\n",
      "2018-08-07 09:50:39,680 INFO Launching Rocket\n",
      "2018-08-07 09:50:39,699 INFO RUNNING fw_id: 2 in directory: /Users/shyamd/Dropbox/Projects/2018 - MP Workshop/workshop-2018/lessons/atomate/temp/launcher_2018-08-07-16-50-39-679976\n",
      "2018-08-07 09:50:39,705 INFO Task started: FileWriteTask.\n",
      "2018-08-07 09:50:39,706 INFO Task completed: FileWriteTask \n",
      "2018-08-07 09:50:39,709 INFO Task started: {{atomate.vasp.firetasks.write_inputs.WriteVaspFromIOSet}}.\n",
      "2018-08-07 09:50:39,716 INFO Task completed: {{atomate.vasp.firetasks.write_inputs.WriteVaspFromIOSet}} \n",
      "2018-08-07 09:50:39,720 INFO Task started: {{atomate.vasp.firetasks.run_calc.RunVaspFake}}.\n",
      "2018-08-07 09:50:39,738 INFO atomate.vasp.firetasks.run_calc RunVaspFake: verified inputs successfully\n",
      "2018-08-07 09:50:39,762 INFO atomate.vasp.firetasks.run_calc RunVaspFake: ran fake VASP, generated outputs\n",
      "2018-08-07 09:50:39,763 INFO Task completed: {{atomate.vasp.firetasks.run_calc.RunVaspFake}} \n",
      "2018-08-07 09:50:39,768 INFO Task started: {{atomate.common.firetasks.glue_tasks.PassCalcLocs}}.\n",
      "2018-08-07 09:50:39,770 INFO Task completed: {{atomate.common.firetasks.glue_tasks.PassCalcLocs}} \n",
      "2018-08-07 09:50:39,774 INFO Task started: {{atomate.vasp.firetasks.parse_outputs.VaspToDb}}.\n",
      "2018-08-07 09:50:39,776 INFO atomate.vasp.firetasks.parse_outputs PARSING DIRECTORY: /Users/shyamd/Dropbox/Projects/2018 - MP Workshop/workshop-2018/lessons/atomate/temp/launcher_2018-08-07-16-50-39-679976\n",
      "2018-08-07 09:50:39,777 INFO atomate.vasp.drones Getting task doc for base dir :/Users/shyamd/Dropbox/Projects/2018 - MP Workshop/workshop-2018/lessons/atomate/temp/launcher_2018-08-07-16-50-39-679976\n",
      "2018-08-07 09:50:44,201 INFO atomate.vasp.drones Post-processing dir:/Users/shyamd/Dropbox/Projects/2018 - MP Workshop/workshop-2018/lessons/atomate/temp/launcher_2018-08-07-16-50-39-679976\n",
      "2018-08-07 09:50:44,203 WARNING atomate.vasp.drones Transformations file does not exist.\n",
      "2018-08-07 09:50:44,206 INFO atomate.vasp.drones Post-processed /Users/shyamd/Dropbox/Projects/2018 - MP Workshop/workshop-2018/lessons/atomate/temp/launcher_2018-08-07-16-50-39-679976\n",
      "2018-08-07 09:50:44,210 INFO Task completed: {{atomate.vasp.firetasks.parse_outputs.VaspToDb}} \n",
      "2018-08-07 09:50:44,231 INFO Rocket finished\n",
      "2018-08-07 09:50:44,236 INFO Created new dir /Users/shyamd/Dropbox/Projects/2018 - MP Workshop/workshop-2018/lessons/atomate/temp/launcher_2018-08-07-16-50-44-236786\n",
      "2018-08-07 09:50:44,237 INFO Launching Rocket\n",
      "2018-08-07 09:50:44,256 INFO RUNNING fw_id: 3 in directory: /Users/shyamd/Dropbox/Projects/2018 - MP Workshop/workshop-2018/lessons/atomate/temp/launcher_2018-08-07-16-50-44-236786\n",
      "2018-08-07 09:50:44,263 INFO Task started: FileWriteTask.\n",
      "2018-08-07 09:50:44,264 INFO Task completed: FileWriteTask \n",
      "2018-08-07 09:50:44,267 INFO Task started: {{atomate.vasp.firetasks.write_inputs.WriteVaspFromIOSet}}.\n",
      "2018-08-07 09:50:44,274 INFO Task completed: {{atomate.vasp.firetasks.write_inputs.WriteVaspFromIOSet}} \n",
      "2018-08-07 09:50:44,277 INFO Task started: {{atomate.vasp.firetasks.run_calc.RunVaspFake}}.\n",
      "2018-08-07 09:50:44,293 INFO atomate.vasp.firetasks.run_calc RunVaspFake: verified inputs successfully\n",
      "2018-08-07 09:50:44,316 INFO atomate.vasp.firetasks.run_calc RunVaspFake: ran fake VASP, generated outputs\n",
      "2018-08-07 09:50:44,317 INFO Task completed: {{atomate.vasp.firetasks.run_calc.RunVaspFake}} \n",
      "2018-08-07 09:50:44,322 INFO Task started: {{atomate.common.firetasks.glue_tasks.PassCalcLocs}}.\n",
      "2018-08-07 09:50:44,323 INFO Task completed: {{atomate.common.firetasks.glue_tasks.PassCalcLocs}} \n",
      "2018-08-07 09:50:44,328 INFO Task started: {{atomate.vasp.firetasks.parse_outputs.VaspToDb}}.\n",
      "2018-08-07 09:50:44,329 INFO atomate.vasp.firetasks.parse_outputs PARSING DIRECTORY: /Users/shyamd/Dropbox/Projects/2018 - MP Workshop/workshop-2018/lessons/atomate/temp/launcher_2018-08-07-16-50-44-236786\n",
      "2018-08-07 09:50:44,331 INFO atomate.vasp.drones Getting task doc for base dir :/Users/shyamd/Dropbox/Projects/2018 - MP Workshop/workshop-2018/lessons/atomate/temp/launcher_2018-08-07-16-50-44-236786\n",
      "2018-08-07 09:50:48,844 INFO atomate.vasp.drones Post-processing dir:/Users/shyamd/Dropbox/Projects/2018 - MP Workshop/workshop-2018/lessons/atomate/temp/launcher_2018-08-07-16-50-44-236786\n",
      "2018-08-07 09:50:48,846 WARNING atomate.vasp.drones Transformations file does not exist.\n",
      "2018-08-07 09:50:48,848 INFO atomate.vasp.drones Post-processed /Users/shyamd/Dropbox/Projects/2018 - MP Workshop/workshop-2018/lessons/atomate/temp/launcher_2018-08-07-16-50-44-236786\n",
      "2018-08-07 09:50:48,852 INFO Task completed: {{atomate.vasp.firetasks.parse_outputs.VaspToDb}} \n",
      "2018-08-07 09:50:48,873 INFO Rocket finished\n"
     ]
    }
   ],
   "source": [
    "from fireworks.core.rocket_launcher import rapidfire\n",
    "rapidfire(lp)"
   ]
  },
  {
   "cell_type": "markdown",
   "metadata": {},
   "source": [
    "This let us run fireworks until we no longer had any to run. But we're still running fireworks in our jupyter notebook. If I want to run on this on another machine I need to do something else. Normally, we would want to launch these jobs to our supercomputing queue and let that run them as resources become available. "
   ]
  },
  {
   "cell_type": "markdown",
   "metadata": {},
   "source": [
    "### Using the queue launcher:\n",
    "\n",
    "Setting up the queue launcher unfortunately takes some work. There are configuration files to tell atomate how to submit jobs, where the database is and what special parameters to use for this supercomputer. \n",
    "\n",
    "This has all been setup for you in this workshop. Once setup, to use the queue, we simply launch the fireworks to the queue."
   ]
  },
  {
   "cell_type": "code",
   "execution_count": 26,
   "metadata": {
    "collapsed": true
   },
   "outputs": [],
   "source": [
    "#TODO: Setting up Fireworks for launching queue"
   ]
  },
  {
   "cell_type": "code",
   "execution_count": null,
   "metadata": {
    "collapsed": true
   },
   "outputs": [],
   "source": [
    "!qlaunch rapidfire"
   ]
  },
  {
   "cell_type": "markdown",
   "metadata": {},
   "source": [
    "Now, the supercomputer will take care of running the jobs and eventually we can test to see that they are working"
   ]
  },
  {
   "cell_type": "code",
   "execution_count": null,
   "metadata": {
    "collapsed": true
   },
   "outputs": [],
   "source": [
    "!lpad get_fws"
   ]
  }
 ],
 "metadata": {
  "kernelspec": {
   "display_name": "Python 3",
   "language": "python",
   "name": "python3"
  },
  "language_info": {
   "codemirror_mode": {
    "name": "ipython",
    "version": 3
   },
   "file_extension": ".py",
   "mimetype": "text/x-python",
   "name": "python",
   "nbconvert_exporter": "python",
   "pygments_lexer": "ipython3",
   "version": "3.6.1"
  }
 },
 "nbformat": 4,
 "nbformat_minor": 2
}
