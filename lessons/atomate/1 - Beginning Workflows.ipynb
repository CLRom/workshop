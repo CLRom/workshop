{
 "cells": [
  {
   "cell_type": "markdown",
   "metadata": {},
   "source": [
    "# 1 - Beginning Workflows\n",
    "\n",
    "In this lesson, we'll cover the basics of using atomate to run calculations. This will be a hands-on lesson where we dive into running a full workflows and break that down into components to understand how the various moving parts give us the ability to scale from 1 calculation to 10's of thousands."
   ]
  },
  {
   "cell_type": "code",
   "execution_count": 1,
   "metadata": {
    "collapsed": false
   },
   "outputs": [
    {
     "name": "stdout",
     "output_type": "stream",
     "text": [
      "Echo Test: MP Workshop\n"
     ]
    }
   ],
   "source": [
    "import mp_workshop.atomate"
   ]
  },
  {
   "cell_type": "markdown",
   "metadata": {},
   "source": [
    "# Building a workflow\n",
    "\n",
    "To begin, we'll start by grabbing a structure from materials project using pymatgen and the MPRester interface we learned about in a previous course"
   ]
  },
  {
   "cell_type": "code",
   "execution_count": 2,
   "metadata": {
    "collapsed": false
   },
   "outputs": [
    {
     "name": "stdout",
     "output_type": "stream",
     "text": [
      "Full Formula (Si1)\n",
      "Reduced Formula: Si\n",
      "abc   :   2.736139   2.736139   2.736139\n",
      "angles:  60.000000  60.000000  60.000000\n",
      "Sites (1)\n",
      "  #  SP      a    b    c\n",
      "---  ----  ---  ---  ---\n",
      "  0  Si      0    0    0\n"
     ]
    }
   ],
   "source": [
    "from pymatgen import MPRester\n",
    "\n",
    "mpr = MPRester()\n",
    "\n",
    "struc = mpr.get_structure_by_material_id(\"mp-27\")\n",
    "print(struc)"
   ]
  },
  {
   "cell_type": "markdown",
   "metadata": {},
   "source": [
    "Now, let's construct a workflow using atomate to optimize this structure in DFT"
   ]
  },
  {
   "cell_type": "code",
   "execution_count": 3,
   "metadata": {
    "collapsed": true
   },
   "outputs": [],
   "source": [
    "from atomate.vasp.workflows.presets.core import wf_structure_optimization"
   ]
  },
  {
   "cell_type": "code",
   "execution_count": 4,
   "metadata": {
    "collapsed": false
   },
   "outputs": [
    {
     "name": "stdout",
     "output_type": "stream",
     "text": [
      "Workflow object: (fw_ids: dict_keys([-1]) , name: Si)\n"
     ]
    }
   ],
   "source": [
    "wf = wf_structure_optimization(struc,{\"DB_FILE\": None})\n",
    "print(wf)"
   ]
  },
  {
   "cell_type": "markdown",
   "metadata": {},
   "source": [
    "Get some more information on the workflow"
   ]
  },
  {
   "cell_type": "code",
   "execution_count": 5,
   "metadata": {
    "collapsed": false
   },
   "outputs": [
    {
     "data": {
      "text/plain": [
       "{'created_on': datetime.datetime(2018, 8, 10, 4, 38, 41, 14015),\n",
       " 'fws': [{'created_on': '2018-08-10T04:38:41.013482',\n",
       "   'fw_id': -1,\n",
       "   'name': 'Si-structure optimization',\n",
       "   'spec': {'_tasks': [{'_fw_name': 'FileWriteTask',\n",
       "      'files_to_write': [{'contents': '',\n",
       "        'filename': 'FW--Si-structure_optimization'}]},\n",
       "     {'_fw_name': '{{atomate.vasp.firetasks.write_inputs.WriteVaspFromIOSet}}',\n",
       "      'structure': {'@class': 'Structure',\n",
       "       '@module': 'pymatgen.core.structure',\n",
       "       'charge': None,\n",
       "       'lattice': {'a': 2.7361386705337156,\n",
       "        'alpha': 60.00000010462969,\n",
       "        'b': 2.7361386686542817,\n",
       "        'beta': 60.000000127351925,\n",
       "        'c': 2.73613867,\n",
       "        'gamma': 60.000000062179055,\n",
       "        'matrix': [[2.3695656, 0.0, 1.36806933],\n",
       "         [0.7898552, 2.23404787, 1.36806933],\n",
       "         [0.0, 0.0, 2.73613867]],\n",
       "        'volume': 14.484360157964268},\n",
       "       'sites': [{'abc': [0.0, 0.0, 0.0],\n",
       "         'label': 'Si',\n",
       "         'species': [{'element': 'Si', 'occu': 1}],\n",
       "         'xyz': [0.0, 0.0, 0.0]}]},\n",
       "      'vasp_input_set': {'@class': 'MPRelaxSet',\n",
       "       '@module': 'pymatgen.io.vasp.sets',\n",
       "       'force_gamma': True,\n",
       "       'structure': {'@class': 'Structure',\n",
       "        '@module': 'pymatgen.core.structure',\n",
       "        'charge': None,\n",
       "        'lattice': {'a': 2.7361386705337156,\n",
       "         'alpha': 60.00000010462969,\n",
       "         'b': 2.7361386686542817,\n",
       "         'beta': 60.000000127351925,\n",
       "         'c': 2.73613867,\n",
       "         'gamma': 60.000000062179055,\n",
       "         'matrix': [[2.3695656, 0.0, 1.36806933],\n",
       "          [0.7898552, 2.23404787, 1.36806933],\n",
       "          [0.0, 0.0, 2.73613867]],\n",
       "         'volume': 14.484360157964268},\n",
       "        'sites': [{'abc': [0.0, 0.0, 0.0],\n",
       "          'label': 'Si',\n",
       "          'species': [{'element': 'Si', 'occu': 1}],\n",
       "          'xyz': [0.0, 0.0, 0.0]}]},\n",
       "       'user_incar_settings': None}},\n",
       "     {'_fw_name': '{{atomate.vasp.firetasks.run_calc.RunVaspCustodian}}',\n",
       "      'auto_npar': '>>auto_npar<<',\n",
       "      'ediffg': None,\n",
       "      'gamma_vasp_cmd': '>>gamma_vasp_cmd<<',\n",
       "      'half_kpts_first_relax': False,\n",
       "      'job_type': 'double_relaxation_run',\n",
       "      'max_force_threshold': 0.25,\n",
       "      'scratch_dir': '>>scratch_dir<<',\n",
       "      'vasp_cmd': '>>vasp_cmd<<'},\n",
       "     {'_fw_name': '{{atomate.common.firetasks.glue_tasks.PassCalcLocs}}',\n",
       "      'name': 'structure optimization'},\n",
       "     {'_fw_name': '{{atomate.vasp.firetasks.parse_outputs.VaspToDb}}',\n",
       "      'additional_fields': {'task_label': 'structure optimization'},\n",
       "      'db_file': None}]},\n",
       "   'updated_on': '2018-08-10T04:38:41.013490'}],\n",
       " 'links': {'-1': []},\n",
       " 'metadata': {'chemsys': 'Si',\n",
       "  'elements': ['Si'],\n",
       "  'formula': 'Si1',\n",
       "  'formula_anonymous': 'A',\n",
       "  'formula_pretty': 'Si',\n",
       "  'formula_reduced_abc': 'Si1',\n",
       "  'is_ordered': True,\n",
       "  'is_valid': True,\n",
       "  'nelements': 1,\n",
       "  'nsites': 1,\n",
       "  'structure': {'@class': 'Structure',\n",
       "   '@module': 'pymatgen.core.structure',\n",
       "   'charge': None,\n",
       "   'lattice': {'a': 2.7361386705337156,\n",
       "    'alpha': 60.00000010462969,\n",
       "    'b': 2.7361386686542817,\n",
       "    'beta': 60.000000127351925,\n",
       "    'c': 2.73613867,\n",
       "    'gamma': 60.000000062179055,\n",
       "    'matrix': [[2.3695656, 0.0, 1.36806933],\n",
       "     [0.7898552, 2.23404787, 1.36806933],\n",
       "     [0.0, 0.0, 2.73613867]],\n",
       "    'volume': 14.484360157964268},\n",
       "   'sites': [{'abc': [0.0, 0.0, 0.0],\n",
       "     'label': 'Si',\n",
       "     'species': [{'element': 'Si', 'occu': 1}],\n",
       "     'xyz': [0.0, 0.0, 0.0]}]}},\n",
       " 'name': 'Si',\n",
       " 'updated_on': datetime.datetime(2018, 8, 10, 4, 38, 41, 14019)}"
      ]
     },
     "execution_count": 5,
     "metadata": {},
     "output_type": "execute_result"
    }
   ],
   "source": [
    "wf.as_dict()"
   ]
  },
  {
   "cell_type": "markdown",
   "metadata": {},
   "source": [
    "# Running with Fake VASP to simulate a DFT calculation\n",
    "\n",
    "Due to a combination of licensing issues and just not being able to run this quickly on the jupyter server, we're going to simulate VASP running with a magic function. You will later learn about powerups, which let you modify a workflow. For this exercise we're going to use a powerup that will replace the normal VASP running functionality with something that just copies files we've prepared for you"
   ]
  },
  {
   "cell_type": "code",
   "execution_count": 6,
   "metadata": {
    "collapsed": true
   },
   "outputs": [],
   "source": [
    "from atomate.vasp.powerups import use_fake_vasp"
   ]
  },
  {
   "cell_type": "markdown",
   "metadata": {},
   "source": [
    "## Lets do some work to get the path to fake VASP files"
   ]
  },
  {
   "cell_type": "code",
   "execution_count": 7,
   "metadata": {
    "collapsed": false
   },
   "outputs": [
    {
     "name": "stdout",
     "output_type": "stream",
     "text": [
      "/home/jovyan/work/workshop-2018/mp_workshop/fake_vasp/Si_structure_opt\n"
     ]
    }
   ],
   "source": [
    "from mp_workshop.atomate import si_struct_opt_path\n",
    "\n",
    "print(si_struct_opt_path)"
   ]
  },
  {
   "cell_type": "code",
   "execution_count": 8,
   "metadata": {
    "collapsed": false
   },
   "outputs": [
    {
     "data": {
      "text/plain": [
       "{'created_on': datetime.datetime(2018, 8, 10, 4, 38, 41, 14015),\n",
       " 'fws': [{'created_on': '2018-08-10T04:38:41.013482',\n",
       "   'fw_id': -1,\n",
       "   'name': 'Si-structure optimization',\n",
       "   'spec': {'_tasks': [{'_fw_name': 'FileWriteTask',\n",
       "      'files_to_write': [{'contents': '',\n",
       "        'filename': 'FW--Si-structure_optimization'}]},\n",
       "     {'_fw_name': '{{atomate.vasp.firetasks.write_inputs.WriteVaspFromIOSet}}',\n",
       "      'structure': {'@class': 'Structure',\n",
       "       '@module': 'pymatgen.core.structure',\n",
       "       'charge': None,\n",
       "       'lattice': {'a': 2.7361386705337156,\n",
       "        'alpha': 60.00000010462969,\n",
       "        'b': 2.7361386686542817,\n",
       "        'beta': 60.000000127351925,\n",
       "        'c': 2.73613867,\n",
       "        'gamma': 60.000000062179055,\n",
       "        'matrix': [[2.3695656, 0.0, 1.36806933],\n",
       "         [0.7898552, 2.23404787, 1.36806933],\n",
       "         [0.0, 0.0, 2.73613867]],\n",
       "        'volume': 14.484360157964268},\n",
       "       'sites': [{'abc': [0.0, 0.0, 0.0],\n",
       "         'label': 'Si',\n",
       "         'species': [{'element': 'Si', 'occu': 1}],\n",
       "         'xyz': [0.0, 0.0, 0.0]}]},\n",
       "      'vasp_input_set': {'@class': 'MPRelaxSet',\n",
       "       '@module': 'pymatgen.io.vasp.sets',\n",
       "       'force_gamma': True,\n",
       "       'structure': {'@class': 'Structure',\n",
       "        '@module': 'pymatgen.core.structure',\n",
       "        'charge': None,\n",
       "        'lattice': {'a': 2.7361386705337156,\n",
       "         'alpha': 60.00000010462969,\n",
       "         'b': 2.7361386686542817,\n",
       "         'beta': 60.000000127351925,\n",
       "         'c': 2.73613867,\n",
       "         'gamma': 60.000000062179055,\n",
       "         'matrix': [[2.3695656, 0.0, 1.36806933],\n",
       "          [0.7898552, 2.23404787, 1.36806933],\n",
       "          [0.0, 0.0, 2.73613867]],\n",
       "         'volume': 14.484360157964268},\n",
       "        'sites': [{'abc': [0.0, 0.0, 0.0],\n",
       "          'label': 'Si',\n",
       "          'species': [{'element': 'Si', 'occu': 1}],\n",
       "          'xyz': [0.0, 0.0, 0.0]}]},\n",
       "       'user_incar_settings': None}},\n",
       "     {'_fw_name': '{{atomate.vasp.firetasks.run_calc.RunVaspFake}}',\n",
       "      'params_to_check': ['ISPIN',\n",
       "       'ENCUT',\n",
       "       'ISMEAR',\n",
       "       'SIGMA',\n",
       "       'IBRION',\n",
       "       'LORBIT',\n",
       "       'NBANDS',\n",
       "       'LMAXMIX'],\n",
       "      'ref_dir': '/home/jovyan/work/workshop-2018/mp_workshop/fake_vasp/Si_structure_opt'},\n",
       "     {'_fw_name': '{{atomate.common.firetasks.glue_tasks.PassCalcLocs}}',\n",
       "      'name': 'structure optimization'},\n",
       "     {'_fw_name': '{{atomate.vasp.firetasks.parse_outputs.VaspToDb}}',\n",
       "      'additional_fields': {'task_label': 'structure optimization'},\n",
       "      'db_file': None}]},\n",
       "   'updated_on': '2018-08-10T04:38:41.013490'}],\n",
       " 'links': {'-1': []},\n",
       " 'metadata': {'chemsys': 'Si',\n",
       "  'elements': ['Si'],\n",
       "  'formula': 'Si1',\n",
       "  'formula_anonymous': 'A',\n",
       "  'formula_pretty': 'Si',\n",
       "  'formula_reduced_abc': 'Si1',\n",
       "  'is_ordered': True,\n",
       "  'is_valid': True,\n",
       "  'nelements': 1,\n",
       "  'nsites': 1,\n",
       "  'structure': {'@class': 'Structure',\n",
       "   '@module': 'pymatgen.core.structure',\n",
       "   'charge': None,\n",
       "   'lattice': {'a': 2.7361386705337156,\n",
       "    'alpha': 60.00000010462969,\n",
       "    'b': 2.7361386686542817,\n",
       "    'beta': 60.000000127351925,\n",
       "    'c': 2.73613867,\n",
       "    'gamma': 60.000000062179055,\n",
       "    'matrix': [[2.3695656, 0.0, 1.36806933],\n",
       "     [0.7898552, 2.23404787, 1.36806933],\n",
       "     [0.0, 0.0, 2.73613867]],\n",
       "    'volume': 14.484360157964268},\n",
       "   'sites': [{'abc': [0.0, 0.0, 0.0],\n",
       "     'label': 'Si',\n",
       "     'species': [{'element': 'Si', 'occu': 1}],\n",
       "     'xyz': [0.0, 0.0, 0.0]}]}},\n",
       " 'name': 'Si',\n",
       " 'updated_on': datetime.datetime(2018, 8, 10, 4, 38, 41, 14019)}"
      ]
     },
     "execution_count": 8,
     "metadata": {},
     "output_type": "execute_result"
    }
   ],
   "source": [
    "wf = use_fake_vasp(wf, ref_dirs={\"Si-structure optimization\": si_struct_opt_path})\n",
    "wf.as_dict()"
   ]
  },
  {
   "cell_type": "markdown",
   "metadata": {},
   "source": [
    "## Now we have to get ourself a LaunchPad so that we can submit this workflow to our database\n",
    "\n",
    "\n",
    "Atomate uses Fireworks as its workflow engine. Fireworks hides the database with an object called a LaunchPad. This allows you to submit and query workflows from anywhere you have database access. We need to get ourselves a LaunchPad object so we can submit our workflow"
   ]
  },
  {
   "cell_type": "code",
   "execution_count": 9,
   "metadata": {
    "collapsed": true
   },
   "outputs": [],
   "source": [
    "from fireworks.core.launchpad import LaunchPad\n",
    "\n",
    "lp = LaunchPad.auto_load()"
   ]
  },
  {
   "cell_type": "markdown",
   "metadata": {},
   "source": [
    "For this one time, we have to initialize the database. In everyday use, we'll only do this once. For this lesson, we'll use it a few times:"
   ]
  },
  {
   "cell_type": "code",
   "execution_count": 10,
   "metadata": {
    "collapsed": false
   },
   "outputs": [
    {
     "name": "stdout",
     "output_type": "stream",
     "text": [
      "2018-08-10 04:38:44,090 INFO Performing db tune-up\n",
      "2018-08-10 04:38:44,099 INFO LaunchPad was RESET.\n"
     ]
    }
   ],
   "source": [
    "lp.reset(None,require_password=False)"
   ]
  },
  {
   "cell_type": "markdown",
   "metadata": {},
   "source": [
    "We can use the launchpad to add a workkflow to our database:"
   ]
  },
  {
   "cell_type": "code",
   "execution_count": 11,
   "metadata": {
    "collapsed": false
   },
   "outputs": [
    {
     "name": "stdout",
     "output_type": "stream",
     "text": [
      "2018-08-10 04:38:44,547 INFO Added a workflow. id_map: {-1: 1}\n"
     ]
    },
    {
     "data": {
      "text/plain": [
       "{-1: 1}"
      ]
     },
     "execution_count": 11,
     "metadata": {},
     "output_type": "execute_result"
    }
   ],
   "source": [
    "lp.add_wf(wf)"
   ]
  },
  {
   "cell_type": "markdown",
   "metadata": {},
   "source": [
    "# Monitoring Workflows\n",
    "\n",
    "Fireworks lets you monitor the status of workflows and fireworks using both python and the command line. Let's start off by looking at the status of our workflow. For each bit of python code, i'll include a cell with a command line command using jupyter-notebook's '!' functionality. In practice, we use the command line tools quite a bit and will be emphasized in this notebook.\n",
    "\n",
    "**Command Line Access in Jupyter**: Jupyter lets you running command line commands by prefacing them with the exclamation mark:"
   ]
  },
  {
   "cell_type": "code",
   "execution_count": 12,
   "metadata": {
    "collapsed": false
   },
   "outputs": [
    {
     "name": "stdout",
     "output_type": "stream",
     "text": [
      "launch_dirs :  OrderedDict([('Si-structure optimization--1', [])])\n",
      "created_on :  2018-08-10 04:38:41.014000\n",
      "name :  Si\n",
      "state :  READY\n",
      "states :  OrderedDict([('Si-structure optimization--1', 'READY')])\n",
      "updated_on :  2018-08-10 04:38:41.014000\n",
      "\n",
      "\n"
     ]
    }
   ],
   "source": [
    "# Lets get workflows\n",
    "\n",
    "def get_wflows():\n",
    "    for wf_id in lp.get_wf_ids():\n",
    "        for key,value in lp.get_wf_summary_dict(wf_id).items():\n",
    "            print(key, \": \",value)\n",
    "        print(\"\\n\")\n",
    "\n",
    "get_wflows()"
   ]
  },
  {
   "cell_type": "markdown",
   "metadata": {},
   "source": [
    "This is how you get workflow information on the command line"
   ]
  },
  {
   "cell_type": "code",
   "execution_count": 13,
   "metadata": {
    "collapsed": false
   },
   "outputs": [
    {
     "name": "stdout",
     "output_type": "stream",
     "text": [
      "Echo Test: MP Workshop\n",
      "{\n",
      "    \"name\": \"Si--1\",\n",
      "    \"states_list\": \"REA\",\n",
      "    \"created_on\": \"2018-08-10T04:38:41.014000\",\n",
      "    \"state\": \"READY\"\n",
      "}\n"
     ]
    }
   ],
   "source": [
    "!lpad get_wflows"
   ]
  },
  {
   "cell_type": "code",
   "execution_count": 14,
   "metadata": {
    "collapsed": false,
    "scrolled": true
   },
   "outputs": [
    {
     "name": "stdout",
     "output_type": "stream",
     "text": [
      "fw_id :  1\n",
      "updated_on :  2018-08-10T04:38:44.538972\n",
      "state :  READY\n",
      "name :  Si-structure optimization\n",
      "\n",
      "\n"
     ]
    }
   ],
   "source": [
    "def get_fws():\n",
    "    for fw_id in lp.get_fw_ids():\n",
    "        fw = lp.get_fw_dict_by_id(fw_id)\n",
    "        for prop in [\"fw_id\",\"updated_on\",\"state\",\"name\"]:\n",
    "            print(prop, \": \",fw[prop])\n",
    "\n",
    "        print(\"\\n\")\n",
    "        \n",
    "get_fws()"
   ]
  },
  {
   "cell_type": "markdown",
   "metadata": {},
   "source": [
    "This command line gets you the same information"
   ]
  },
  {
   "cell_type": "code",
   "execution_count": 15,
   "metadata": {
    "collapsed": false,
    "scrolled": false
   },
   "outputs": [
    {
     "name": "stdout",
     "output_type": "stream",
     "text": [
      "Echo Test: MP Workshop\n",
      "{\n",
      "    \"created_on\": \"2018-08-10T04:38:41.013482\",\n",
      "    \"fw_id\": 1,\n",
      "    \"name\": \"Si-structure optimization\",\n",
      "    \"updated_on\": \"2018-08-10T04:38:44.538972\",\n",
      "    \"state\": \"READY\"\n",
      "}\n"
     ]
    }
   ],
   "source": [
    "!lpad get_fws"
   ]
  },
  {
   "cell_type": "code",
   "execution_count": 16,
   "metadata": {
    "collapsed": false
   },
   "outputs": [
    {
     "name": "stdout",
     "output_type": "stream",
     "text": [
      "Echo Test: MP Workshop\n",
      "usage: lpad [-h] [-o {json,yaml}] [-l LAUNCHPAD_FILE] [-c CONFIG_DIR]\n",
      "            [--logdir LOGDIR] [--loglvl LOGLVL] [-s]\n",
      "            {version,init,reset,add,check_wflow,get_launchdir,append_wflow,dump_wflow,add_scripts,get_fws,track_fws,rerun_fws,defuse_fws,pause_fws,reignite_fws,resume_fws,update_fws,get_wflows,defuse_wflows,pause_wflows,reignite_wflows,archive_wflows,delete_wflows,get_qids,cancel_qid,detect_unreserved,detect_lostruns,set_priority,webgui,recover_offline,forget_offline,admin,report,introspect}\n",
      "            ...\n",
      "\n",
      "A command line interface to FireWorks. For more help on a specific command,\n",
      "type \"lpad <command> -h\".\n",
      "\n",
      "positional arguments:\n",
      "  {version,init,reset,add,check_wflow,get_launchdir,append_wflow,dump_wflow,add_scripts,get_fws,track_fws,rerun_fws,defuse_fws,pause_fws,reignite_fws,resume_fws,update_fws,get_wflows,defuse_wflows,pause_wflows,reignite_wflows,archive_wflows,delete_wflows,get_qids,cancel_qid,detect_unreserved,detect_lostruns,set_priority,webgui,recover_offline,forget_offline,admin,report,introspect}\n",
      "                        command\n",
      "    version             Print the version and location of FireWorks\n",
      "    init                Initialize a Fireworks launchpad YAML file.\n",
      "    reset               reset and re-initialize the FireWorks database\n",
      "    add                 insert a Workflow from file\n",
      "    check_wflow         validate and graph a workflow from launchpad\n",
      "    get_launchdir       get the directory of the most recent launch of the\n",
      "                        given fw_id. A common usage is \"cd `get_launchdir\n",
      "                        <FW_ID>`\" to change the working directory that of the\n",
      "                        FW launch\n",
      "    append_wflow        append a workflow from file to a workflow on launchpad\n",
      "    dump_wflow          dump a workflow from launchpad to a file\n",
      "    add_scripts         quickly add a script (or several scripts) to run in\n",
      "                        sequence\n",
      "    get_fws             get information about FireWorks\n",
      "    track_fws           Track FireWorks\n",
      "    rerun_fws           re-run Firework(s)\n",
      "    defuse_fws          cancel (de-fuse) a single Firework\n",
      "    pause_fws           pause a single Firework\n",
      "    reignite_fws        reignite (un-cancel) a set of Fireworks\n",
      "    resume_fws          resume (un-pause) a set of Fireworks\n",
      "    update_fws          Update a Firework spec.\n",
      "    get_wflows          get information about Workflows\n",
      "    defuse_wflows       cancel (de-fuse) an entire Workflow\n",
      "    pause_wflows        pause an entire Workflow\n",
      "    reignite_wflows     reignite (un-cancel) an entire Workflow\n",
      "    archive_wflows      archive an entire Workflow (irreversible)\n",
      "    delete_wflows       Delete workflows (permanently). Use \"archive_wflows\"\n",
      "                        instead if you want to \"soft-remove\"\n",
      "    get_qids            get the queue id of a Firework\n",
      "    cancel_qid          cancel a reservation\n",
      "    detect_unreserved   Find launches with stale reservations\n",
      "    detect_lostruns     Find launches that have FIZZLED\n",
      "    set_priority        modify the priority of one or more FireWorks\n",
      "    webgui              launch the web GUI\n",
      "    recover_offline     recover offline workflows\n",
      "    forget_offline      forget offline workflows\n",
      "    admin               Various db admin commands, type \"lpad admin -h\" for\n",
      "                        more.\n",
      "    report              Compile a report of runtime stats, type \"lpad report\n",
      "                        -h\" for more options.\n",
      "    introspect          Introspect recent runs to pin down errors\n",
      "\n",
      "optional arguments:\n",
      "  -h, --help            show this help message and exit\n",
      "  -o {json,yaml}, --output {json,yaml}\n",
      "                        Set output display format to either json or YAML. YAML\n",
      "                        is easier to read for long documents. JSON is the\n",
      "                        default.\n",
      "  -l LAUNCHPAD_FILE, --launchpad_file LAUNCHPAD_FILE\n",
      "                        path to LaunchPad file containing central DB\n",
      "                        connection info\n",
      "  -c CONFIG_DIR, --config_dir CONFIG_DIR\n",
      "                        path to a directory containing the LaunchPad file\n",
      "                        (used if -l unspecified)\n",
      "  --logdir LOGDIR       path to a directory for logging\n",
      "  --loglvl LOGLVL       level to print log messages\n",
      "  -s, --silencer        shortcut to mute log messages\n"
     ]
    }
   ],
   "source": [
    "!lpad --help"
   ]
  },
  {
   "cell_type": "code",
   "execution_count": 17,
   "metadata": {
    "collapsed": false
   },
   "outputs": [
    {
     "name": "stdout",
     "output_type": "stream",
     "text": [
      "Echo Test: MP Workshop\n",
      "usage: lpad get_fws [-h] [-i FW_ID] [-n NAME]\n",
      "                    [-s {FIZZLED,RESERVED,PAUSED,WAITING,RUNNING,READY,ARCHIVED,COMPLETED,DEFUSED}]\n",
      "                    [-q QUERY] [-lm] [--qid QID]\n",
      "                    [-d {all,more,less,ids,count,reservations}] [-m MAX]\n",
      "                    [--sort {created_on,updated_on}]\n",
      "                    [--rsort {created_on,updated_on}]\n",
      "\n",
      "optional arguments:\n",
      "  -h, --help            show this help message and exit\n",
      "  -i FW_ID, --fw_id FW_ID\n",
      "                        fw_id\n",
      "  -n NAME, --name NAME  get FWs with this name\n",
      "  -s {FIZZLED,RESERVED,PAUSED,WAITING,RUNNING,READY,ARCHIVED,COMPLETED,DEFUSED}, --state {FIZZLED,RESERVED,PAUSED,WAITING,RUNNING,READY,ARCHIVED,COMPLETED,DEFUSED}\n",
      "                        Select by state.\n",
      "  -q QUERY, --query QUERY\n",
      "                        Query (enclose pymongo-style dict in single-quotes,\n",
      "                        e.g. '{\"state\":\"COMPLETED\"}')\n",
      "  -lm, --launches_mode  Query the launches collection (enclose pymongo-style\n",
      "                        dict in single-quotes, e.g. '{\"launch_id\": 1}')\n",
      "  --qid QID             Query by reservation id of job in queue\n",
      "  -d {all,more,less,ids,count,reservations}, --display_format {all,more,less,ids,count,reservations}\n",
      "                        Display format.\n",
      "  -m MAX, --max MAX     limit results\n",
      "  --sort {created_on,updated_on}\n",
      "                        Sort results\n",
      "  --rsort {created_on,updated_on}\n",
      "                        Reverse sort results\n"
     ]
    }
   ],
   "source": [
    "# Let's look at what this command can do:\n",
    "!lpad get_fws --help"
   ]
  },
  {
   "cell_type": "markdown",
   "metadata": {},
   "source": [
    "# Now lets run this workflow\n",
    "\n",
    "\n",
    "There are a few different ways to run a workflow. The first is to just run it within this notebook directly."
   ]
  },
  {
   "cell_type": "code",
   "execution_count": 18,
   "metadata": {
    "collapsed": true
   },
   "outputs": [],
   "source": [
    "from fireworks.core.rocket_launcher import launch_rocket"
   ]
  },
  {
   "cell_type": "code",
   "execution_count": 19,
   "metadata": {
    "collapsed": false
   },
   "outputs": [],
   "source": [
    "# Lets move into a temporary working directory\n",
    "import os\n",
    "\n",
    "os.mkdir(\"temp\")\n",
    "os.chdir(\"temp\")"
   ]
  },
  {
   "cell_type": "code",
   "execution_count": 20,
   "metadata": {
    "collapsed": false
   },
   "outputs": [
    {
     "name": "stdout",
     "output_type": "stream",
     "text": [
      "2018-08-10 04:38:53,174 INFO Launching Rocket\n",
      "2018-08-10 04:38:53,226 INFO RUNNING fw_id: 1 in directory: /home/jovyan/work/workshop-2018/lessons/atomate/temp\n",
      "2018-08-10 04:38:53,237 INFO Task started: FileWriteTask.\n",
      "2018-08-10 04:38:53,238 INFO Task completed: FileWriteTask \n",
      "2018-08-10 04:38:53,242 INFO Task started: {{atomate.vasp.firetasks.write_inputs.WriteVaspFromIOSet}}.\n",
      "2018-08-10 04:38:53,287 INFO Task completed: {{atomate.vasp.firetasks.write_inputs.WriteVaspFromIOSet}} \n",
      "2018-08-10 04:38:53,302 INFO Task started: {{atomate.vasp.firetasks.run_calc.RunVaspFake}}.\n",
      "2018-08-10 04:38:53,358 INFO atomate.vasp.firetasks.run_calc RunVaspFake: verified inputs successfully\n",
      "2018-08-10 04:38:53,381 INFO atomate.vasp.firetasks.run_calc RunVaspFake: ran fake VASP, generated outputs\n",
      "2018-08-10 04:38:53,382 INFO Task completed: {{atomate.vasp.firetasks.run_calc.RunVaspFake}} \n",
      "2018-08-10 04:38:53,386 INFO Task started: {{atomate.common.firetasks.glue_tasks.PassCalcLocs}}.\n",
      "2018-08-10 04:38:53,387 INFO Task completed: {{atomate.common.firetasks.glue_tasks.PassCalcLocs}} \n",
      "2018-08-10 04:38:53,390 INFO Task started: {{atomate.vasp.firetasks.parse_outputs.VaspToDb}}.\n",
      "2018-08-10 04:38:53,391 INFO atomate.vasp.firetasks.parse_outputs PARSING DIRECTORY: /home/jovyan/work/workshop-2018/lessons/atomate/temp\n",
      "2018-08-10 04:38:53,391 INFO atomate.vasp.drones Getting task doc for base dir :/home/jovyan/work/workshop-2018/lessons/atomate/temp\n",
      "2018-08-10 04:38:54,095 INFO atomate.vasp.drones Post-processing dir:/home/jovyan/work/workshop-2018/lessons/atomate/temp\n",
      "2018-08-10 04:38:54,096 WARNING atomate.vasp.drones Transformations file does not exist.\n",
      "2018-08-10 04:38:54,097 INFO atomate.vasp.drones Post-processed /home/jovyan/work/workshop-2018/lessons/atomate/temp\n",
      "2018-08-10 04:38:54,100 INFO Task completed: {{atomate.vasp.firetasks.parse_outputs.VaspToDb}} \n",
      "2018-08-10 04:38:54,120 INFO Rocket finished\n"
     ]
    },
    {
     "data": {
      "text/plain": [
       "True"
      ]
     },
     "execution_count": 20,
     "metadata": {},
     "output_type": "execute_result"
    }
   ],
   "source": [
    "launch_rocket(lp)"
   ]
  },
  {
   "cell_type": "markdown",
   "metadata": {},
   "source": [
    "Now, lets see how that changed our fireworks"
   ]
  },
  {
   "cell_type": "code",
   "execution_count": 21,
   "metadata": {
    "collapsed": false,
    "scrolled": true
   },
   "outputs": [
    {
     "name": "stdout",
     "output_type": "stream",
     "text": [
      "Echo Test: MP Workshop\n",
      "{\n",
      "    \"fw_id\": 1,\n",
      "    \"name\": \"Si-structure optimization\",\n",
      "    \"created_on\": \"2018-08-10T04:38:41.013482\",\n",
      "    \"updated_on\": \"2018-08-10T04:38:54.110877\",\n",
      "    \"state\": \"COMPLETED\"\n",
      "}\n"
     ]
    }
   ],
   "source": [
    "!lpad get_fws"
   ]
  },
  {
   "cell_type": "markdown",
   "metadata": {},
   "source": [
    "This let me run a single firework in the notebook. What if I wanted to run multiple fireworks? First lets reset the old firework and add some more workflows to our database"
   ]
  },
  {
   "cell_type": "code",
   "execution_count": 22,
   "metadata": {
    "collapsed": false
   },
   "outputs": [
    {
     "name": "stdout",
     "output_type": "stream",
     "text": [
      "Echo Test: MP Workshop\n",
      "2018-08-10 04:38:59,325 INFO Finished setting 1 FWs to rerun\n"
     ]
    }
   ],
   "source": [
    "# We can do the same thing using the command line:\n",
    "!lpad rerun_fws "
   ]
  },
  {
   "cell_type": "code",
   "execution_count": 23,
   "metadata": {
    "collapsed": false
   },
   "outputs": [
    {
     "name": "stdout",
     "output_type": "stream",
     "text": [
      "Echo Test: MP Workshop\n",
      "{\n",
      "    \"state\": \"READY\",\n",
      "    \"name\": \"Si-structure optimization\",\n",
      "    \"updated_on\": \"2018-08-10T04:38:59.316635\",\n",
      "    \"created_on\": \"2018-08-10T04:38:41.013482\",\n",
      "    \"fw_id\": 1\n",
      "}\n"
     ]
    }
   ],
   "source": [
    "!lpad get_fws"
   ]
  },
  {
   "cell_type": "code",
   "execution_count": 24,
   "metadata": {
    "collapsed": false
   },
   "outputs": [
    {
     "name": "stdout",
     "output_type": "stream",
     "text": [
      "2018-08-10 04:39:02,682 INFO Added a workflow. id_map: {1: 2}\n",
      "2018-08-10 04:39:02,692 INFO Added a workflow. id_map: {2: 3}\n"
     ]
    },
    {
     "data": {
      "text/plain": [
       "{2: 3}"
      ]
     },
     "execution_count": 24,
     "metadata": {},
     "output_type": "execute_result"
    }
   ],
   "source": [
    "# Let's add the workflow a few more times to have multiple fireworks in database\n",
    "lp.add_wf(wf)\n",
    "lp.add_wf(wf)"
   ]
  },
  {
   "cell_type": "markdown",
   "metadata": {},
   "source": [
    "We can run all of the available fireworks using a 2 lines of python and a single command:"
   ]
  },
  {
   "cell_type": "code",
   "execution_count": 25,
   "metadata": {
    "collapsed": false
   },
   "outputs": [
    {
     "name": "stdout",
     "output_type": "stream",
     "text": [
      "2018-08-10 04:39:02,785 INFO Created new dir /home/jovyan/work/workshop-2018/lessons/atomate/temp/launcher_2018-08-10-04-39-02-785216\n",
      "2018-08-10 04:39:02,786 INFO Launching Rocket\n",
      "2018-08-10 04:39:02,807 INFO RUNNING fw_id: 1 in directory: /home/jovyan/work/workshop-2018/lessons/atomate/temp/launcher_2018-08-10-04-39-02-785216\n",
      "2018-08-10 04:39:02,815 INFO Task started: FileWriteTask.\n",
      "2018-08-10 04:39:02,816 INFO Task completed: FileWriteTask \n",
      "2018-08-10 04:39:02,818 INFO Task started: {{atomate.vasp.firetasks.write_inputs.WriteVaspFromIOSet}}.\n",
      "2018-08-10 04:39:02,830 INFO Task completed: {{atomate.vasp.firetasks.write_inputs.WriteVaspFromIOSet}} \n",
      "2018-08-10 04:39:02,834 INFO Task started: {{atomate.vasp.firetasks.run_calc.RunVaspFake}}.\n",
      "2018-08-10 04:39:02,861 INFO atomate.vasp.firetasks.run_calc RunVaspFake: verified inputs successfully\n",
      "2018-08-10 04:39:02,883 INFO atomate.vasp.firetasks.run_calc RunVaspFake: ran fake VASP, generated outputs\n",
      "2018-08-10 04:39:02,884 INFO Task completed: {{atomate.vasp.firetasks.run_calc.RunVaspFake}} \n",
      "2018-08-10 04:39:02,888 INFO Task started: {{atomate.common.firetasks.glue_tasks.PassCalcLocs}}.\n",
      "2018-08-10 04:39:02,889 INFO Task completed: {{atomate.common.firetasks.glue_tasks.PassCalcLocs}} \n",
      "2018-08-10 04:39:02,893 INFO Task started: {{atomate.vasp.firetasks.parse_outputs.VaspToDb}}.\n",
      "2018-08-10 04:39:02,894 INFO atomate.vasp.firetasks.parse_outputs PARSING DIRECTORY: /home/jovyan/work/workshop-2018/lessons/atomate/temp/launcher_2018-08-10-04-39-02-785216\n",
      "2018-08-10 04:39:02,895 INFO atomate.vasp.drones Getting task doc for base dir :/home/jovyan/work/workshop-2018/lessons/atomate/temp/launcher_2018-08-10-04-39-02-785216\n",
      "2018-08-10 04:39:03,505 INFO atomate.vasp.drones Post-processing dir:/home/jovyan/work/workshop-2018/lessons/atomate/temp/launcher_2018-08-10-04-39-02-785216\n",
      "2018-08-10 04:39:03,506 WARNING atomate.vasp.drones Transformations file does not exist.\n",
      "2018-08-10 04:39:03,507 INFO atomate.vasp.drones Post-processed /home/jovyan/work/workshop-2018/lessons/atomate/temp/launcher_2018-08-10-04-39-02-785216\n",
      "2018-08-10 04:39:03,510 INFO Task completed: {{atomate.vasp.firetasks.parse_outputs.VaspToDb}} \n",
      "2018-08-10 04:39:03,528 INFO Rocket finished\n",
      "2018-08-10 04:39:03,532 INFO Created new dir /home/jovyan/work/workshop-2018/lessons/atomate/temp/launcher_2018-08-10-04-39-03-532413\n",
      "2018-08-10 04:39:03,533 INFO Launching Rocket\n",
      "2018-08-10 04:39:03,550 INFO RUNNING fw_id: 2 in directory: /home/jovyan/work/workshop-2018/lessons/atomate/temp/launcher_2018-08-10-04-39-03-532413\n",
      "2018-08-10 04:39:03,556 INFO Task started: FileWriteTask.\n",
      "2018-08-10 04:39:03,557 INFO Task completed: FileWriteTask \n",
      "2018-08-10 04:39:03,559 INFO Task started: {{atomate.vasp.firetasks.write_inputs.WriteVaspFromIOSet}}.\n",
      "2018-08-10 04:39:03,565 INFO Task completed: {{atomate.vasp.firetasks.write_inputs.WriteVaspFromIOSet}} \n",
      "2018-08-10 04:39:03,567 INFO Task started: {{atomate.vasp.firetasks.run_calc.RunVaspFake}}.\n",
      "2018-08-10 04:39:03,585 INFO atomate.vasp.firetasks.run_calc RunVaspFake: verified inputs successfully\n",
      "2018-08-10 04:39:03,626 INFO atomate.vasp.firetasks.run_calc RunVaspFake: ran fake VASP, generated outputs\n",
      "2018-08-10 04:39:03,627 INFO Task completed: {{atomate.vasp.firetasks.run_calc.RunVaspFake}} \n",
      "2018-08-10 04:39:03,632 INFO Task started: {{atomate.common.firetasks.glue_tasks.PassCalcLocs}}.\n",
      "2018-08-10 04:39:03,633 INFO Task completed: {{atomate.common.firetasks.glue_tasks.PassCalcLocs}} \n",
      "2018-08-10 04:39:03,637 INFO Task started: {{atomate.vasp.firetasks.parse_outputs.VaspToDb}}.\n",
      "2018-08-10 04:39:03,638 INFO atomate.vasp.firetasks.parse_outputs PARSING DIRECTORY: /home/jovyan/work/workshop-2018/lessons/atomate/temp/launcher_2018-08-10-04-39-03-532413\n",
      "2018-08-10 04:39:03,640 INFO atomate.vasp.drones Getting task doc for base dir :/home/jovyan/work/workshop-2018/lessons/atomate/temp/launcher_2018-08-10-04-39-03-532413\n",
      "2018-08-10 04:39:04,387 INFO atomate.vasp.drones Post-processing dir:/home/jovyan/work/workshop-2018/lessons/atomate/temp/launcher_2018-08-10-04-39-03-532413\n",
      "2018-08-10 04:39:04,389 WARNING atomate.vasp.drones Transformations file does not exist.\n",
      "2018-08-10 04:39:04,390 INFO atomate.vasp.drones Post-processed /home/jovyan/work/workshop-2018/lessons/atomate/temp/launcher_2018-08-10-04-39-03-532413\n",
      "2018-08-10 04:39:04,394 INFO Task completed: {{atomate.vasp.firetasks.parse_outputs.VaspToDb}} \n",
      "2018-08-10 04:39:04,418 INFO Rocket finished\n",
      "2018-08-10 04:39:04,424 INFO Created new dir /home/jovyan/work/workshop-2018/lessons/atomate/temp/launcher_2018-08-10-04-39-04-424768\n",
      "2018-08-10 04:39:04,425 INFO Launching Rocket\n",
      "2018-08-10 04:39:04,454 INFO RUNNING fw_id: 3 in directory: /home/jovyan/work/workshop-2018/lessons/atomate/temp/launcher_2018-08-10-04-39-04-424768\n",
      "2018-08-10 04:39:04,461 INFO Task started: FileWriteTask.\n",
      "2018-08-10 04:39:04,462 INFO Task completed: FileWriteTask \n",
      "2018-08-10 04:39:04,465 INFO Task started: {{atomate.vasp.firetasks.write_inputs.WriteVaspFromIOSet}}.\n",
      "2018-08-10 04:39:04,472 INFO Task completed: {{atomate.vasp.firetasks.write_inputs.WriteVaspFromIOSet}} \n",
      "2018-08-10 04:39:04,476 INFO Task started: {{atomate.vasp.firetasks.run_calc.RunVaspFake}}.\n",
      "2018-08-10 04:39:04,505 INFO atomate.vasp.firetasks.run_calc RunVaspFake: verified inputs successfully\n",
      "2018-08-10 04:39:04,538 INFO atomate.vasp.firetasks.run_calc RunVaspFake: ran fake VASP, generated outputs\n",
      "2018-08-10 04:39:04,539 INFO Task completed: {{atomate.vasp.firetasks.run_calc.RunVaspFake}} \n",
      "2018-08-10 04:39:04,547 INFO Task started: {{atomate.common.firetasks.glue_tasks.PassCalcLocs}}.\n",
      "2018-08-10 04:39:04,549 INFO Task completed: {{atomate.common.firetasks.glue_tasks.PassCalcLocs}} \n",
      "2018-08-10 04:39:04,553 INFO Task started: {{atomate.vasp.firetasks.parse_outputs.VaspToDb}}.\n",
      "2018-08-10 04:39:04,554 INFO atomate.vasp.firetasks.parse_outputs PARSING DIRECTORY: /home/jovyan/work/workshop-2018/lessons/atomate/temp/launcher_2018-08-10-04-39-04-424768\n",
      "2018-08-10 04:39:04,555 INFO atomate.vasp.drones Getting task doc for base dir :/home/jovyan/work/workshop-2018/lessons/atomate/temp/launcher_2018-08-10-04-39-04-424768\n",
      "2018-08-10 04:39:05,171 INFO atomate.vasp.drones Post-processing dir:/home/jovyan/work/workshop-2018/lessons/atomate/temp/launcher_2018-08-10-04-39-04-424768\n",
      "2018-08-10 04:39:05,172 WARNING atomate.vasp.drones Transformations file does not exist.\n",
      "2018-08-10 04:39:05,174 INFO atomate.vasp.drones Post-processed /home/jovyan/work/workshop-2018/lessons/atomate/temp/launcher_2018-08-10-04-39-04-424768\n",
      "2018-08-10 04:39:05,178 INFO Task completed: {{atomate.vasp.firetasks.parse_outputs.VaspToDb}} \n",
      "2018-08-10 04:39:05,208 INFO Rocket finished\n"
     ]
    }
   ],
   "source": [
    "from fireworks.core.rocket_launcher import rapidfire\n",
    "rapidfire(lp)"
   ]
  },
  {
   "cell_type": "markdown",
   "metadata": {},
   "source": [
    "This let us run fireworks until we no longer had any to run. But we're still running fireworks in our jupyter notebook. If I want to run on this on another machine I need to do something else. Normally, we would want to launch these jobs to our supercomputing queue and let that run them as resources become available. "
   ]
  },
  {
   "cell_type": "markdown",
   "metadata": {},
   "source": [
    "### Using the queue launcher:\n",
    "\n",
    "Setting up the queue launcher unfortunately takes some work. There are configuration files to tell atomate how to submit jobs, where the database is and what special parameters to use for this supercomputer. \n",
    "\n",
    "This has all been setup for you in this workshop. Once setup, to use the queue, we simply launch the fireworks to the queue."
   ]
  },
  {
   "cell_type": "markdown",
   "metadata": {
    "collapsed": true
   },
   "source": [
    "Lets start off by clearing the database of fireworks"
   ]
  },
  {
   "cell_type": "code",
   "execution_count": 26,
   "metadata": {
    "collapsed": false
   },
   "outputs": [
    {
     "name": "stdout",
     "output_type": "stream",
     "text": [
      "2018-08-10 04:39:05,374 INFO Performing db tune-up\n",
      "2018-08-10 04:39:05,382 INFO LaunchPad was RESET.\n"
     ]
    }
   ],
   "source": [
    "lp.reset(None,require_password=False)"
   ]
  },
  {
   "cell_type": "code",
   "execution_count": 27,
   "metadata": {
    "collapsed": false
   },
   "outputs": [
    {
     "data": {
      "text/plain": [
       "{'created_on': datetime.datetime(2018, 8, 10, 4, 39, 5, 426934),\n",
       " 'fws': [{'created_on': '2018-08-10T04:39:05.426807',\n",
       "   'fw_id': -5,\n",
       "   'name': 'Si-nscf line',\n",
       "   'spec': {'_tasks': [{'_fw_name': 'FileWriteTask',\n",
       "      'files_to_write': [{'contents': '', 'filename': 'FW--Si-nscf_line'}]},\n",
       "     {'_fw_name': '{{atomate.vasp.firetasks.glue_tasks.CopyVaspOutputs}}',\n",
       "      'additional_files': ['CHGCAR'],\n",
       "      'calc_loc': True},\n",
       "     {'_fw_name': '{{atomate.vasp.firetasks.write_inputs.WriteVaspNSCFFromPrev}}',\n",
       "      'mode': 'line',\n",
       "      'prev_calc_dir': '.',\n",
       "      'reciprocal_density': 20,\n",
       "      'small_gap_multiply': [0.5, 5]},\n",
       "     {'_fw_name': '{{atomate.vasp.firetasks.run_calc.RunVaspCustodian}}',\n",
       "      'auto_npar': '>>auto_npar<<',\n",
       "      'gamma_vasp_cmd': '>>gamma_vasp_cmd<<',\n",
       "      'scratch_dir': '>>scratch_dir<<',\n",
       "      'vasp_cmd': '>>vasp_cmd<<'},\n",
       "     {'_fw_name': '{{atomate.common.firetasks.glue_tasks.PassCalcLocs}}',\n",
       "      'name': 'nscf'},\n",
       "     {'_fw_name': '{{atomate.vasp.firetasks.parse_outputs.VaspToDb}}',\n",
       "      'additional_fields': {'task_label': 'nscf line'},\n",
       "      'bandstructure_mode': 'line',\n",
       "      'db_file': None,\n",
       "      'parse_dos': False}]},\n",
       "   'updated_on': '2018-08-10T04:39:05.426809'},\n",
       "  {'created_on': '2018-08-10T04:39:05.426668',\n",
       "   'fw_id': -4,\n",
       "   'name': 'Si-nscf uniform',\n",
       "   'spec': {'_tasks': [{'_fw_name': 'FileWriteTask',\n",
       "      'files_to_write': [{'contents': '', 'filename': 'FW--Si-nscf_uniform'}]},\n",
       "     {'_fw_name': '{{atomate.vasp.firetasks.glue_tasks.CopyVaspOutputs}}',\n",
       "      'additional_files': ['CHGCAR'],\n",
       "      'calc_loc': True},\n",
       "     {'_fw_name': '{{atomate.vasp.firetasks.write_inputs.WriteVaspNSCFFromPrev}}',\n",
       "      'mode': 'uniform',\n",
       "      'prev_calc_dir': '.',\n",
       "      'reciprocal_density': 1000,\n",
       "      'small_gap_multiply': [0.5, 5]},\n",
       "     {'_fw_name': '{{atomate.vasp.firetasks.run_calc.RunVaspCustodian}}',\n",
       "      'auto_npar': '>>auto_npar<<',\n",
       "      'gamma_vasp_cmd': '>>gamma_vasp_cmd<<',\n",
       "      'scratch_dir': '>>scratch_dir<<',\n",
       "      'vasp_cmd': '>>vasp_cmd<<'},\n",
       "     {'_fw_name': '{{atomate.common.firetasks.glue_tasks.PassCalcLocs}}',\n",
       "      'name': 'nscf'},\n",
       "     {'_fw_name': '{{atomate.vasp.firetasks.parse_outputs.VaspToDb}}',\n",
       "      'additional_fields': {'task_label': 'nscf uniform'},\n",
       "      'bandstructure_mode': 'uniform',\n",
       "      'db_file': None,\n",
       "      'parse_dos': True}]},\n",
       "   'updated_on': '2018-08-10T04:39:05.426671'},\n",
       "  {'created_on': '2018-08-10T04:39:05.426516',\n",
       "   'fw_id': -3,\n",
       "   'name': 'Si-static',\n",
       "   'spec': {'_tasks': [{'_fw_name': 'FileWriteTask',\n",
       "      'files_to_write': [{'contents': '', 'filename': 'FW--Si-static'}]},\n",
       "     {'_fw_name': '{{atomate.vasp.firetasks.glue_tasks.CopyVaspOutputs}}',\n",
       "      'calc_loc': True,\n",
       "      'contcar_to_poscar': True},\n",
       "     {'_fw_name': '{{atomate.vasp.firetasks.write_inputs.WriteVaspStaticFromPrev}}',\n",
       "      'other_params': {},\n",
       "      'small_gap_multiply': [0.5, 5]},\n",
       "     {'_fw_name': '{{atomate.vasp.firetasks.run_calc.RunVaspCustodian}}',\n",
       "      'auto_npar': '>>auto_npar<<',\n",
       "      'gamma_vasp_cmd': '>>gamma_vasp_cmd<<',\n",
       "      'scratch_dir': '>>scratch_dir<<',\n",
       "      'vasp_cmd': '>>vasp_cmd<<'},\n",
       "     {'_fw_name': '{{atomate.common.firetasks.glue_tasks.PassCalcLocs}}',\n",
       "      'name': 'static'},\n",
       "     {'_fw_name': '{{atomate.vasp.firetasks.parse_outputs.VaspToDb}}',\n",
       "      'additional_fields': {'task_label': 'static'},\n",
       "      'db_file': None}]},\n",
       "   'updated_on': '2018-08-10T04:39:05.426519'},\n",
       "  {'created_on': '2018-08-10T04:39:05.426367',\n",
       "   'fw_id': -2,\n",
       "   'name': 'Si-structure optimization',\n",
       "   'spec': {'_tasks': [{'_fw_name': 'FileWriteTask',\n",
       "      'files_to_write': [{'contents': '',\n",
       "        'filename': 'FW--Si-structure_optimization'}]},\n",
       "     {'_fw_name': '{{atomate.vasp.firetasks.write_inputs.WriteVaspFromIOSet}}',\n",
       "      'structure': {'@class': 'Structure',\n",
       "       '@module': 'pymatgen.core.structure',\n",
       "       'charge': None,\n",
       "       'lattice': {'a': 2.7361386705337156,\n",
       "        'alpha': 60.00000010462969,\n",
       "        'b': 2.7361386686542817,\n",
       "        'beta': 60.000000127351925,\n",
       "        'c': 2.73613867,\n",
       "        'gamma': 60.000000062179055,\n",
       "        'matrix': [[2.3695656, 0.0, 1.36806933],\n",
       "         [0.7898552, 2.23404787, 1.36806933],\n",
       "         [0.0, 0.0, 2.73613867]],\n",
       "        'volume': 14.484360157964268},\n",
       "       'sites': [{'abc': [0.0, 0.0, 0.0],\n",
       "         'label': 'Si',\n",
       "         'species': [{'element': 'Si', 'occu': 1}],\n",
       "         'xyz': [0.0, 0.0, 0.0]}]},\n",
       "      'vasp_input_set': {'@class': 'MPRelaxSet',\n",
       "       '@module': 'pymatgen.io.vasp.sets',\n",
       "       'force_gamma': True,\n",
       "       'structure': {'@class': 'Structure',\n",
       "        '@module': 'pymatgen.core.structure',\n",
       "        'charge': None,\n",
       "        'lattice': {'a': 2.7361386705337156,\n",
       "         'alpha': 60.00000010462969,\n",
       "         'b': 2.7361386686542817,\n",
       "         'beta': 60.000000127351925,\n",
       "         'c': 2.73613867,\n",
       "         'gamma': 60.000000062179055,\n",
       "         'matrix': [[2.3695656, 0.0, 1.36806933],\n",
       "          [0.7898552, 2.23404787, 1.36806933],\n",
       "          [0.0, 0.0, 2.73613867]],\n",
       "         'volume': 14.484360157964268},\n",
       "        'sites': [{'abc': [0.0, 0.0, 0.0],\n",
       "          'label': 'Si',\n",
       "          'species': [{'element': 'Si', 'occu': 1}],\n",
       "          'xyz': [0.0, 0.0, 0.0]}]}}},\n",
       "     {'_fw_name': '{{atomate.vasp.firetasks.run_calc.RunVaspCustodian}}',\n",
       "      'auto_npar': '>>auto_npar<<',\n",
       "      'ediffg': None,\n",
       "      'gamma_vasp_cmd': '>>gamma_vasp_cmd<<',\n",
       "      'half_kpts_first_relax': False,\n",
       "      'job_type': 'double_relaxation_run',\n",
       "      'max_force_threshold': 0.25,\n",
       "      'scratch_dir': '>>scratch_dir<<',\n",
       "      'vasp_cmd': '>>vasp_cmd<<'},\n",
       "     {'_fw_name': '{{atomate.common.firetasks.glue_tasks.PassCalcLocs}}',\n",
       "      'name': 'structure optimization'},\n",
       "     {'_fw_name': '{{atomate.vasp.firetasks.parse_outputs.VaspToDb}}',\n",
       "      'additional_fields': {'task_label': 'structure optimization'},\n",
       "      'db_file': None}]},\n",
       "   'updated_on': '2018-08-10T04:39:05.426373'}],\n",
       " 'links': {'-2': [-3], '-3': [-4, -5], '-4': [], '-5': []},\n",
       " 'metadata': {'chemsys': 'Si',\n",
       "  'elements': ['Si'],\n",
       "  'formula': 'Si1',\n",
       "  'formula_anonymous': 'A',\n",
       "  'formula_pretty': 'Si',\n",
       "  'formula_reduced_abc': 'Si1',\n",
       "  'is_ordered': True,\n",
       "  'is_valid': True,\n",
       "  'nelements': 1,\n",
       "  'nsites': 1,\n",
       "  'structure': {'@class': 'Structure',\n",
       "   '@module': 'pymatgen.core.structure',\n",
       "   'charge': None,\n",
       "   'lattice': {'a': 2.7361386705337156,\n",
       "    'alpha': 60.00000010462969,\n",
       "    'b': 2.7361386686542817,\n",
       "    'beta': 60.000000127351925,\n",
       "    'c': 2.73613867,\n",
       "    'gamma': 60.000000062179055,\n",
       "    'matrix': [[2.3695656, 0.0, 1.36806933],\n",
       "     [0.7898552, 2.23404787, 1.36806933],\n",
       "     [0.0, 0.0, 2.73613867]],\n",
       "    'volume': 14.484360157964268},\n",
       "   'sites': [{'abc': [0.0, 0.0, 0.0],\n",
       "     'label': 'Si',\n",
       "     'species': [{'element': 'Si', 'occu': 1}],\n",
       "     'xyz': [0.0, 0.0, 0.0]}]}},\n",
       " 'name': 'Si',\n",
       " 'updated_on': datetime.datetime(2018, 8, 10, 4, 39, 5, 426936)}"
      ]
     },
     "execution_count": 27,
     "metadata": {},
     "output_type": "execute_result"
    }
   ],
   "source": [
    "from atomate.vasp.workflows.presets.core import wf_bandstructure\n",
    "\n",
    "wf = wf_bandstructure(struc,{\"DB_FILE\": None})\n",
    "wf.as_dict()"
   ]
  },
  {
   "cell_type": "code",
   "execution_count": 28,
   "metadata": {
    "collapsed": false
   },
   "outputs": [
    {
     "name": "stdout",
     "output_type": "stream",
     "text": [
      "2018-08-10 04:39:05,528 INFO Added a workflow. id_map: {-5: 1, -4: 2, -3: 3, -2: 4}\n"
     ]
    },
    {
     "data": {
      "text/plain": [
       "{-5: 1, -4: 2, -3: 3, -2: 4}"
      ]
     },
     "execution_count": 28,
     "metadata": {},
     "output_type": "execute_result"
    }
   ],
   "source": [
    "from mp_workshop.atomate import si_static_path,si_nscf_line_path,si_nscf_uniform_path\n",
    "wf = use_fake_vasp(wf,{\"Si-structure optimization\":si_struct_opt_path,\n",
    "                       \"Si-static\": si_static_path,\n",
    "                       \"Si-nscf uniform\" : si_nscf_uniform_path,\n",
    "                       \"Si-nscf line\": si_nscf_line_path})\n",
    "\n",
    "lp.add_wf(wf)"
   ]
  },
  {
   "cell_type": "code",
   "execution_count": 29,
   "metadata": {
    "collapsed": false
   },
   "outputs": [
    {
     "name": "stdout",
     "output_type": "stream",
     "text": [
      "Echo Test: MP Workshop\n",
      "[\n",
      "    {\n",
      "        \"updated_on\": \"2018-08-10T04:39:05.426809\",\n",
      "        \"state\": \"WAITING\",\n",
      "        \"name\": \"Si-nscf line\",\n",
      "        \"created_on\": \"2018-08-10T04:39:05.426807\",\n",
      "        \"fw_id\": 1\n",
      "    },\n",
      "    {\n",
      "        \"updated_on\": \"2018-08-10T04:39:05.426671\",\n",
      "        \"state\": \"WAITING\",\n",
      "        \"name\": \"Si-nscf uniform\",\n",
      "        \"created_on\": \"2018-08-10T04:39:05.426668\",\n",
      "        \"fw_id\": 2\n",
      "    },\n",
      "    {\n",
      "        \"updated_on\": \"2018-08-10T04:39:05.426519\",\n",
      "        \"state\": \"WAITING\",\n",
      "        \"name\": \"Si-static\",\n",
      "        \"created_on\": \"2018-08-10T04:39:05.426516\",\n",
      "        \"fw_id\": 3\n",
      "    },\n",
      "    {\n",
      "        \"updated_on\": \"2018-08-10T04:39:05.522307\",\n",
      "        \"state\": \"READY\",\n",
      "        \"created_on\": \"2018-08-10T04:39:05.426367\",\n",
      "        \"name\": \"Si-structure optimization\",\n",
      "        \"fw_id\": 4\n",
      "    }\n",
      "]\n"
     ]
    }
   ],
   "source": [
    "!lpad get_fws"
   ]
  },
  {
   "cell_type": "markdown",
   "metadata": {},
   "source": [
    "Fireworks has a commmand line method to submit jobs to the SLURM queue:"
   ]
  },
  {
   "cell_type": "code",
   "execution_count": 30,
   "metadata": {
    "collapsed": false
   },
   "outputs": [
    {
     "name": "stdout",
     "output_type": "stream",
     "text": [
      "Echo Test: MP Workshop\n",
      "2018-08-10 04:39:10,592 INFO getting queue adapter\n",
      "2018-08-10 04:39:10,593 INFO Created new dir /home/jovyan/work/workshop-2018/lessons/atomate/temp/block_2018-08-10-04-39-10-593376\n",
      "2018-08-10 04:39:10,603 INFO The number of jobs currently in the queue is: 0\n",
      "2018-08-10 04:39:10,603 INFO 0 jobs in queue. Maximum allowed by user: 0\n",
      "2018-08-10 04:39:10,621 INFO Launching a rocket!\n",
      "2018-08-10 04:39:10,644 INFO reserved FW with fw_id: 4\n",
      "2018-08-10 04:39:10,644 INFO Created new dir /home/jovyan/work/workshop-2018/lessons/atomate/temp/block_2018-08-10-04-39-10-593376/launcher_2018-08-10-04-39-10-644473\n",
      "2018-08-10 04:39:10,647 INFO moving to launch_dir /home/jovyan/work/workshop-2018/lessons/atomate/temp/block_2018-08-10-04-39-10-593376/launcher_2018-08-10-04-39-10-644473\n",
      "2018-08-10 04:39:10,648 INFO submitting queue script\n",
      "2018-08-10 04:39:10,666 INFO Job submission was successful and job_id is 6\n",
      "2018-08-10 04:39:10,669 INFO Launched allowed number of jobs: 1\n"
     ]
    }
   ],
   "source": [
    "!qlaunch -r rapidfire --nlaunches 1"
   ]
  },
  {
   "cell_type": "markdown",
   "metadata": {},
   "source": [
    "Now, the supercomputer will take care of running the jobs and eventually we can test to see that they are working"
   ]
  },
  {
   "cell_type": "code",
   "execution_count": 31,
   "metadata": {
    "collapsed": false
   },
   "outputs": [
    {
     "name": "stdout",
     "output_type": "stream",
     "text": [
      "Echo Test: MP Workshop\n",
      "[\n",
      "    {\n",
      "        \"created_on\": \"2018-08-10T04:39:05.426807\",\n",
      "        \"fw_id\": 1,\n",
      "        \"name\": \"Si-nscf line\",\n",
      "        \"updated_on\": \"2018-08-10T04:39:05.426809\",\n",
      "        \"state\": \"WAITING\"\n",
      "    },\n",
      "    {\n",
      "        \"created_on\": \"2018-08-10T04:39:05.426668\",\n",
      "        \"fw_id\": 2,\n",
      "        \"name\": \"Si-nscf uniform\",\n",
      "        \"updated_on\": \"2018-08-10T04:39:05.426671\",\n",
      "        \"state\": \"WAITING\"\n",
      "    },\n",
      "    {\n",
      "        \"created_on\": \"2018-08-10T04:39:05.426516\",\n",
      "        \"name\": \"Si-static\",\n",
      "        \"updated_on\": \"2018-08-10T04:39:14.263505\",\n",
      "        \"fw_id\": 3,\n",
      "        \"state\": \"READY\"\n",
      "    },\n",
      "    {\n",
      "        \"created_on\": \"2018-08-10T04:39:05.426367\",\n",
      "        \"fw_id\": 4,\n",
      "        \"updated_on\": \"2018-08-10T04:39:14.262112\",\n",
      "        \"name\": \"Si-structure optimization\",\n",
      "        \"state\": \"COMPLETED\"\n",
      "    }\n",
      "]\n"
     ]
    }
   ],
   "source": [
    "!lpad get_fws"
   ]
  },
  {
   "cell_type": "markdown",
   "metadata": {},
   "source": [
    "Now lets have qlaunch submit fireworks until all are done."
   ]
  },
  {
   "cell_type": "code",
   "execution_count": 32,
   "metadata": {
    "collapsed": false
   },
   "outputs": [
    {
     "name": "stdout",
     "output_type": "stream",
     "text": [
      "Echo Test: MP Workshop\n",
      "2018-08-10 04:39:17,312 INFO getting queue adapter\n",
      "2018-08-10 04:39:17,313 INFO Found previous block, using /home/jovyan/work/workshop-2018/lessons/atomate/temp/block_2018-08-10-04-39-10-593376\n",
      "2018-08-10 04:39:17,323 INFO The number of jobs currently in the queue is: 0\n",
      "2018-08-10 04:39:17,323 INFO 0 jobs in queue. Maximum allowed by user: 0\n",
      "2018-08-10 04:39:17,343 INFO Launching a rocket!\n",
      "2018-08-10 04:39:17,359 INFO reserved FW with fw_id: 3\n",
      "2018-08-10 04:39:17,360 INFO Created new dir /home/jovyan/work/workshop-2018/lessons/atomate/temp/block_2018-08-10-04-39-10-593376/launcher_2018-08-10-04-39-17-359938\n",
      "2018-08-10 04:39:17,361 INFO moving to launch_dir /home/jovyan/work/workshop-2018/lessons/atomate/temp/block_2018-08-10-04-39-10-593376/launcher_2018-08-10-04-39-17-359938\n",
      "2018-08-10 04:39:17,362 INFO submitting queue script\n",
      "2018-08-10 04:39:17,370 INFO Job submission was successful and job_id is 7\n",
      "2018-08-10 04:39:17,374 INFO Sleeping for 5 seconds...zzz...\n",
      "2018-08-10 04:39:22,379 INFO Finished a round of launches, sleeping for 60 secs\n",
      "2018-08-10 04:40:22,412 INFO Checking for Rockets to run...\n",
      "2018-08-10 04:40:22,421 INFO The number of jobs currently in the queue is: 0\n",
      "2018-08-10 04:40:22,422 INFO 0 jobs in queue. Maximum allowed by user: 0\n",
      "2018-08-10 04:40:22,425 INFO Launching a rocket!\n",
      "2018-08-10 04:40:22,441 INFO reserved FW with fw_id: 2\n",
      "2018-08-10 04:40:22,442 INFO Created new dir /home/jovyan/work/workshop-2018/lessons/atomate/temp/block_2018-08-10-04-39-10-593376/launcher_2018-08-10-04-40-22-441928\n",
      "2018-08-10 04:40:22,443 INFO moving to launch_dir /home/jovyan/work/workshop-2018/lessons/atomate/temp/block_2018-08-10-04-39-10-593376/launcher_2018-08-10-04-40-22-441928\n",
      "2018-08-10 04:40:22,444 INFO submitting queue script\n",
      "2018-08-10 04:40:22,452 INFO Job submission was successful and job_id is 8\n",
      "2018-08-10 04:40:22,455 INFO Sleeping for 5 seconds...zzz...\n",
      "2018-08-10 04:40:27,463 INFO Launching a rocket!\n",
      "2018-08-10 04:40:27,479 INFO reserved FW with fw_id: 1\n",
      "2018-08-10 04:40:27,479 INFO Created new dir /home/jovyan/work/workshop-2018/lessons/atomate/temp/block_2018-08-10-04-39-10-593376/launcher_2018-08-10-04-40-27-479544\n",
      "2018-08-10 04:40:27,481 INFO moving to launch_dir /home/jovyan/work/workshop-2018/lessons/atomate/temp/block_2018-08-10-04-39-10-593376/launcher_2018-08-10-04-40-27-479544\n",
      "2018-08-10 04:40:27,482 INFO submitting queue script\n",
      "2018-08-10 04:40:27,490 INFO Job submission was successful and job_id is 9\n",
      "2018-08-10 04:40:27,493 INFO Sleeping for 5 seconds...zzz...\n"
     ]
    }
   ],
   "source": [
    "!qlaunch -r rapidfire"
   ]
  },
  {
   "cell_type": "code",
   "execution_count": 34,
   "metadata": {
    "collapsed": false
   },
   "outputs": [
    {
     "name": "stdout",
     "output_type": "stream",
     "text": [
      "Echo Test: MP Workshop\n",
      "[\n",
      "    {\n",
      "        \"created_on\": \"2018-08-10T04:39:05.426807\",\n",
      "        \"fw_id\": 1,\n",
      "        \"updated_on\": \"2018-08-10T04:40:35.163561\",\n",
      "        \"name\": \"Si-nscf line\",\n",
      "        \"state\": \"COMPLETED\"\n",
      "    },\n",
      "    {\n",
      "        \"created_on\": \"2018-08-10T04:39:05.426668\",\n",
      "        \"fw_id\": 2,\n",
      "        \"updated_on\": \"2018-08-10T04:40:28.771991\",\n",
      "        \"name\": \"Si-nscf uniform\",\n",
      "        \"state\": \"COMPLETED\"\n",
      "    },\n",
      "    {\n",
      "        \"created_on\": \"2018-08-10T04:39:05.426516\",\n",
      "        \"fw_id\": 3,\n",
      "        \"updated_on\": \"2018-08-10T04:39:23.034604\",\n",
      "        \"name\": \"Si-static\",\n",
      "        \"state\": \"COMPLETED\"\n",
      "    },\n",
      "    {\n",
      "        \"created_on\": \"2018-08-10T04:39:05.426367\",\n",
      "        \"fw_id\": 4,\n",
      "        \"updated_on\": \"2018-08-10T04:39:14.262112\",\n",
      "        \"name\": \"Si-structure optimization\",\n",
      "        \"state\": \"COMPLETED\"\n",
      "    }\n",
      "]\n"
     ]
    }
   ],
   "source": [
    "!lpad get_fws"
   ]
  },
  {
   "cell_type": "markdown",
   "metadata": {},
   "source": [
    "### Now, we have a completed workflow "
   ]
  }
 ],
 "metadata": {
  "kernelspec": {
   "display_name": "Python 3",
   "language": "python",
   "name": "python3"
  },
  "language_info": {
   "codemirror_mode": {
    "name": "ipython",
    "version": 3
   },
   "file_extension": ".py",
   "mimetype": "text/x-python",
   "name": "python",
   "nbconvert_exporter": "python",
   "pygments_lexer": "ipython3",
   "version": "3.5.2"
  }
 },
 "nbformat": 4,
 "nbformat_minor": 2
}
