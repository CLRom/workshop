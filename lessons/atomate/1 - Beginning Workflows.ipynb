{
 "cells": [
  {
   "cell_type": "markdown",
   "metadata": {},
   "source": [
    "# 1 - Beginning Workflows\n",
    "\n",
    "In this lesson, we'll cover the basics of using atomate to run calculations. This will be a hands-on lesson where we dive into running a full workflows and break that down into components to understand how the various moving parts give us the ability to scale from 1 calculation to 10's of thousands."
   ]
  },
  {
   "cell_type": "markdown",
   "metadata": {},
   "source": [
    "# Building a workflow\n",
    "\n",
    "To begin, we'll start by grabbing a structure from materials project using pymatgen and the MPRester interface we learned about in a previous course"
   ]
  },
  {
   "cell_type": "code",
   "execution_count": 37,
   "metadata": {},
   "outputs": [
    {
     "name": "stdout",
     "output_type": "stream",
     "text": [
      "Full Formula (Si1)\n",
      "Reduced Formula: Si\n",
      "abc   :   2.736139   2.736139   2.736139\n",
      "angles:  60.000000  60.000000  60.000000\n",
      "Sites (1)\n",
      "  #  SP      a    b    c\n",
      "---  ----  ---  ---  ---\n",
      "  0  Si      0    0    0\n"
     ]
    }
   ],
   "source": [
    "from pymatgen import MPRester\n",
    "\n",
    "mpr = MPRester()\n",
    "\n",
    "struc = mpr.get_structure_by_material_id(\"mp-27\")\n",
    "print(struc)"
   ]
  },
  {
   "cell_type": "markdown",
   "metadata": {},
   "source": [
    "Now, let's construct a workflow using atomate to optimize this structure in DFT"
   ]
  },
  {
   "cell_type": "code",
   "execution_count": 38,
   "metadata": {
    "collapsed": true
   },
   "outputs": [],
   "source": [
    "from atomate.vasp.workflows.presets.core import wf_structure_optimization"
   ]
  },
  {
   "cell_type": "code",
   "execution_count": 39,
   "metadata": {},
   "outputs": [
    {
     "name": "stdout",
     "output_type": "stream",
     "text": [
      "Workflow object: (fw_ids: dict_keys([-3]) , name: Si)\n"
     ]
    }
   ],
   "source": [
    "wf = wf_structure_optimization(struc,{\"DB_FILE\": None})\n",
    "print(wf)"
   ]
  },
  {
   "cell_type": "markdown",
   "metadata": {},
   "source": [
    "Get some more information on the workflow"
   ]
  },
  {
   "cell_type": "code",
   "execution_count": 40,
   "metadata": {},
   "outputs": [
    {
     "data": {
      "text/plain": [
       "{'created_on': datetime.datetime(2018, 8, 2, 20, 16, 46, 124454),\n",
       " 'fws': [{'created_on': '2018-08-02T20:16:46.124309',\n",
       "   'fw_id': -3,\n",
       "   'name': 'Si-structure optimization',\n",
       "   'spec': {'_tasks': [{'_fw_name': 'FileWriteTask',\n",
       "      'files_to_write': [{'contents': '',\n",
       "        'filename': 'FW--Si-structure_optimization'}]},\n",
       "     {'_fw_name': '{{atomate.vasp.firetasks.write_inputs.WriteVaspFromIOSet}}',\n",
       "      'structure': {'@class': 'Structure',\n",
       "       '@module': 'pymatgen.core.structure',\n",
       "       'charge': None,\n",
       "       'lattice': {'a': 2.7361386705337156,\n",
       "        'alpha': 60.00000010462969,\n",
       "        'b': 2.7361386686542817,\n",
       "        'beta': 60.000000127351925,\n",
       "        'c': 2.73613867,\n",
       "        'gamma': 60.000000062179055,\n",
       "        'matrix': [[2.3695656, 0.0, 1.36806933],\n",
       "         [0.7898552, 2.23404787, 1.36806933],\n",
       "         [0.0, 0.0, 2.73613867]],\n",
       "        'volume': 14.484360157964268},\n",
       "       'sites': [{'abc': [0.0, 0.0, 0.0],\n",
       "         'label': 'Si',\n",
       "         'species': [{'element': 'Si', 'occu': 1}],\n",
       "         'xyz': [0.0, 0.0, 0.0]}]},\n",
       "      'vasp_input_set': {'@class': 'MPRelaxSet',\n",
       "       '@module': 'pymatgen.io.vasp.sets',\n",
       "       'force_gamma': True,\n",
       "       'structure': {'@class': 'Structure',\n",
       "        '@module': 'pymatgen.core.structure',\n",
       "        'charge': None,\n",
       "        'lattice': {'a': 2.7361386705337156,\n",
       "         'alpha': 60.00000010462969,\n",
       "         'b': 2.7361386686542817,\n",
       "         'beta': 60.000000127351925,\n",
       "         'c': 2.73613867,\n",
       "         'gamma': 60.000000062179055,\n",
       "         'matrix': [[2.3695656, 0.0, 1.36806933],\n",
       "          [0.7898552, 2.23404787, 1.36806933],\n",
       "          [0.0, 0.0, 2.73613867]],\n",
       "         'volume': 14.484360157964268},\n",
       "        'sites': [{'abc': [0.0, 0.0, 0.0],\n",
       "          'label': 'Si',\n",
       "          'species': [{'element': 'Si', 'occu': 1}],\n",
       "          'xyz': [0.0, 0.0, 0.0]}]},\n",
       "       'user_incar_settings': None}},\n",
       "     {'_fw_name': '{{atomate.vasp.firetasks.run_calc.RunVaspCustodian}}',\n",
       "      'auto_npar': '>>auto_npar<<',\n",
       "      'ediffg': None,\n",
       "      'gamma_vasp_cmd': '>>gamma_vasp_cmd<<',\n",
       "      'half_kpts_first_relax': False,\n",
       "      'job_type': 'double_relaxation_run',\n",
       "      'max_force_threshold': 0.25,\n",
       "      'scratch_dir': '>>scratch_dir<<',\n",
       "      'vasp_cmd': '>>vasp_cmd<<'},\n",
       "     {'_fw_name': '{{atomate.common.firetasks.glue_tasks.PassCalcLocs}}',\n",
       "      'name': 'structure optimization'},\n",
       "     {'_fw_name': '{{atomate.vasp.firetasks.parse_outputs.VaspToDb}}',\n",
       "      'additional_fields': {'task_label': 'structure optimization'},\n",
       "      'db_file': None}]},\n",
       "   'updated_on': '2018-08-02T20:16:46.124312'}],\n",
       " 'links': {'-3': []},\n",
       " 'metadata': {'chemsys': 'Si',\n",
       "  'elements': ['Si'],\n",
       "  'formula': 'Si1',\n",
       "  'formula_anonymous': 'A',\n",
       "  'formula_pretty': 'Si',\n",
       "  'formula_reduced_abc': 'Si1',\n",
       "  'is_ordered': True,\n",
       "  'is_valid': True,\n",
       "  'nelements': 1,\n",
       "  'nsites': 1,\n",
       "  'structure': {'@class': 'Structure',\n",
       "   '@module': 'pymatgen.core.structure',\n",
       "   'charge': None,\n",
       "   'lattice': {'a': 2.7361386705337156,\n",
       "    'alpha': 60.00000010462969,\n",
       "    'b': 2.7361386686542817,\n",
       "    'beta': 60.000000127351925,\n",
       "    'c': 2.73613867,\n",
       "    'gamma': 60.000000062179055,\n",
       "    'matrix': [[2.3695656, 0.0, 1.36806933],\n",
       "     [0.7898552, 2.23404787, 1.36806933],\n",
       "     [0.0, 0.0, 2.73613867]],\n",
       "    'volume': 14.484360157964268},\n",
       "   'sites': [{'abc': [0.0, 0.0, 0.0],\n",
       "     'label': 'Si',\n",
       "     'species': [{'element': 'Si', 'occu': 1}],\n",
       "     'xyz': [0.0, 0.0, 0.0]}]}},\n",
       " 'name': 'Si',\n",
       " 'updated_on': datetime.datetime(2018, 8, 2, 20, 16, 46, 124457)}"
      ]
     },
     "execution_count": 40,
     "metadata": {},
     "output_type": "execute_result"
    }
   ],
   "source": [
    "wf.as_dict()"
   ]
  },
  {
   "cell_type": "markdown",
   "metadata": {},
   "source": [
    "# Running with Fake VASP to simulate a DFT calculation\n",
    "\n",
    "Due to a combination of licensing issues and just not being able to run this quickly on the jupyter server, we're going to simulate VASP running with a magic function. You will later learn about powerups, which let you modify a workflow. For this exercise we're going to use a powerup that will replace the normal VASP running functionality with something that just copies files we've prepared for you"
   ]
  },
  {
   "cell_type": "code",
   "execution_count": 41,
   "metadata": {
    "collapsed": true
   },
   "outputs": [],
   "source": [
    "from atomate.vasp.powerups import use_fake_vasp"
   ]
  },
  {
   "cell_type": "markdown",
   "metadata": {},
   "source": [
    "## Lets do some work to get the path to fake VASP files"
   ]
  },
  {
   "cell_type": "code",
   "execution_count": 42,
   "metadata": {},
   "outputs": [
    {
     "name": "stdout",
     "output_type": "stream",
     "text": [
      "/Users/shyamd/Dropbox/Projects/2018 - MP Workshop/workshop-2018/mp_workshop/fake_vasp/Si_structure_opt\n"
     ]
    }
   ],
   "source": [
    "import os\n",
    "\n",
    "currrent_path = os.path.curdir\n",
    "relative_path = os.path.join(currrent_path, \"../../mp_workshop/fake_vasp/Si_structure_opt\")\n",
    "absolute_path = os.path.abspath(relative_path)\n",
    "print(absolute_path)"
   ]
  },
  {
   "cell_type": "code",
   "execution_count": 43,
   "metadata": {},
   "outputs": [
    {
     "data": {
      "text/plain": [
       "{'created_on': datetime.datetime(2018, 8, 2, 20, 16, 46, 124454),\n",
       " 'fws': [{'created_on': '2018-08-02T20:16:46.124309',\n",
       "   'fw_id': -3,\n",
       "   'name': 'Si-structure optimization',\n",
       "   'spec': {'_tasks': [{'_fw_name': 'FileWriteTask',\n",
       "      'files_to_write': [{'contents': '',\n",
       "        'filename': 'FW--Si-structure_optimization'}]},\n",
       "     {'_fw_name': '{{atomate.vasp.firetasks.write_inputs.WriteVaspFromIOSet}}',\n",
       "      'structure': {'@class': 'Structure',\n",
       "       '@module': 'pymatgen.core.structure',\n",
       "       'charge': None,\n",
       "       'lattice': {'a': 2.7361386705337156,\n",
       "        'alpha': 60.00000010462969,\n",
       "        'b': 2.7361386686542817,\n",
       "        'beta': 60.000000127351925,\n",
       "        'c': 2.73613867,\n",
       "        'gamma': 60.000000062179055,\n",
       "        'matrix': [[2.3695656, 0.0, 1.36806933],\n",
       "         [0.7898552, 2.23404787, 1.36806933],\n",
       "         [0.0, 0.0, 2.73613867]],\n",
       "        'volume': 14.484360157964268},\n",
       "       'sites': [{'abc': [0.0, 0.0, 0.0],\n",
       "         'label': 'Si',\n",
       "         'species': [{'element': 'Si', 'occu': 1}],\n",
       "         'xyz': [0.0, 0.0, 0.0]}]},\n",
       "      'vasp_input_set': {'@class': 'MPRelaxSet',\n",
       "       '@module': 'pymatgen.io.vasp.sets',\n",
       "       'force_gamma': True,\n",
       "       'structure': {'@class': 'Structure',\n",
       "        '@module': 'pymatgen.core.structure',\n",
       "        'charge': None,\n",
       "        'lattice': {'a': 2.7361386705337156,\n",
       "         'alpha': 60.00000010462969,\n",
       "         'b': 2.7361386686542817,\n",
       "         'beta': 60.000000127351925,\n",
       "         'c': 2.73613867,\n",
       "         'gamma': 60.000000062179055,\n",
       "         'matrix': [[2.3695656, 0.0, 1.36806933],\n",
       "          [0.7898552, 2.23404787, 1.36806933],\n",
       "          [0.0, 0.0, 2.73613867]],\n",
       "         'volume': 14.484360157964268},\n",
       "        'sites': [{'abc': [0.0, 0.0, 0.0],\n",
       "          'label': 'Si',\n",
       "          'species': [{'element': 'Si', 'occu': 1}],\n",
       "          'xyz': [0.0, 0.0, 0.0]}]},\n",
       "       'user_incar_settings': None}},\n",
       "     {'_fw_name': '{{atomate.vasp.firetasks.run_calc.RunVaspFake}}',\n",
       "      'params_to_check': ['ISPIN',\n",
       "       'ENCUT',\n",
       "       'ISMEAR',\n",
       "       'SIGMA',\n",
       "       'IBRION',\n",
       "       'LORBIT',\n",
       "       'NBANDS',\n",
       "       'LMAXMIX'],\n",
       "      'ref_dir': '/Users/shyamd/Dropbox/Projects/2018 - MP Workshop/workshop-2018/mp_workshop/fake_vasp/Si_structure_opt'},\n",
       "     {'_fw_name': '{{atomate.common.firetasks.glue_tasks.PassCalcLocs}}',\n",
       "      'name': 'structure optimization'},\n",
       "     {'_fw_name': '{{atomate.vasp.firetasks.parse_outputs.VaspToDb}}',\n",
       "      'additional_fields': {'task_label': 'structure optimization'},\n",
       "      'db_file': None}]},\n",
       "   'updated_on': '2018-08-02T20:16:46.124312'}],\n",
       " 'links': {'-3': []},\n",
       " 'metadata': {'chemsys': 'Si',\n",
       "  'elements': ['Si'],\n",
       "  'formula': 'Si1',\n",
       "  'formula_anonymous': 'A',\n",
       "  'formula_pretty': 'Si',\n",
       "  'formula_reduced_abc': 'Si1',\n",
       "  'is_ordered': True,\n",
       "  'is_valid': True,\n",
       "  'nelements': 1,\n",
       "  'nsites': 1,\n",
       "  'structure': {'@class': 'Structure',\n",
       "   '@module': 'pymatgen.core.structure',\n",
       "   'charge': None,\n",
       "   'lattice': {'a': 2.7361386705337156,\n",
       "    'alpha': 60.00000010462969,\n",
       "    'b': 2.7361386686542817,\n",
       "    'beta': 60.000000127351925,\n",
       "    'c': 2.73613867,\n",
       "    'gamma': 60.000000062179055,\n",
       "    'matrix': [[2.3695656, 0.0, 1.36806933],\n",
       "     [0.7898552, 2.23404787, 1.36806933],\n",
       "     [0.0, 0.0, 2.73613867]],\n",
       "    'volume': 14.484360157964268},\n",
       "   'sites': [{'abc': [0.0, 0.0, 0.0],\n",
       "     'label': 'Si',\n",
       "     'species': [{'element': 'Si', 'occu': 1}],\n",
       "     'xyz': [0.0, 0.0, 0.0]}]}},\n",
       " 'name': 'Si',\n",
       " 'updated_on': datetime.datetime(2018, 8, 2, 20, 16, 46, 124457)}"
      ]
     },
     "execution_count": 43,
     "metadata": {},
     "output_type": "execute_result"
    }
   ],
   "source": [
    "wf = use_fake_vasp(wf, ref_dirs={\"Si-structure optimization\": absolute_path})\n",
    "wf.as_dict()"
   ]
  },
  {
   "cell_type": "markdown",
   "metadata": {},
   "source": [
    "## Now we have to get ourself a LaunchPad so that we can submit this workflow to our database\n",
    "\n",
    "\n",
    "Atomate uses Fireworks as its workflow engine. Fireworks hides the database with an object called a LaunchPad. This allows you to submit and query workflows from anywhere you have database access. We need to get ourselves a LaunchPad object so we can submit our workflow"
   ]
  },
  {
   "cell_type": "code",
   "execution_count": 44,
   "metadata": {
    "collapsed": true
   },
   "outputs": [],
   "source": [
    "from fireworks.core.launchpad import LaunchPad\n",
    "\n",
    "lp = LaunchPad()"
   ]
  },
  {
   "cell_type": "markdown",
   "metadata": {},
   "source": [
    "We can use the launchpad to add a workkflow to our database:"
   ]
  },
  {
   "cell_type": "code",
   "execution_count": 45,
   "metadata": {},
   "outputs": [
    {
     "name": "stdout",
     "output_type": "stream",
     "text": [
      "2018-08-02 13:16:51,885 INFO Added a workflow. id_map: {-3: 3}\n"
     ]
    },
    {
     "data": {
      "text/plain": [
       "{-3: 3}"
      ]
     },
     "execution_count": 45,
     "metadata": {},
     "output_type": "execute_result"
    }
   ],
   "source": [
    "lp.add_wf(wf)"
   ]
  },
  {
   "cell_type": "markdown",
   "metadata": {},
   "source": [
    "# Monitoring Workflows\n",
    "\n",
    "Fireworks lets you monitor the status of workflows and fireworks using both python and the command line. Let's start off by looking at the status of our workflow. For each bit of python code, i'll include a cell with a command line command using jupyter-notebook's '!' functionality. In practice, we use the command line tools quite a bit and will be emphasized in this notebook.\n",
    "\n",
    "**Command Line Access in Jupyter**: Jupyter lets you running command line commands by prefacing them with the exclamation mark:"
   ]
  },
  {
   "cell_type": "code",
   "execution_count": 46,
   "metadata": {},
   "outputs": [
    {
     "name": "stdout",
     "output_type": "stream",
     "text": [
      "state :  FIZZLED\n",
      "name :  Si\n",
      "created_on :  2018-08-02 18:33:07.796000\n",
      "updated_on :  2018-08-02 18:47:17.124000\n",
      "states :  OrderedDict([('Si-structure optimization--1', 'FIZZLED')])\n",
      "launch_dirs :  OrderedDict([('Si-structure optimization--1', ['/Users/shyamd/Dropbox/Projects/2018 - MP Workshop/workshop-2018/lessons/atomate'])])\n",
      "\n",
      "\n",
      "state :  COMPLETED\n",
      "name :  Si\n",
      "created_on :  2018-08-02 19:33:39.942000\n",
      "updated_on :  2018-08-02 19:34:10.120000\n",
      "states :  OrderedDict([('Si-structure optimization--2', 'COMPLETED')])\n",
      "launch_dirs :  OrderedDict([('Si-structure optimization--2', ['/Users/shyamd/Dropbox/Projects/2018 - MP Workshop/workshop-2018/lessons/atomate'])])\n",
      "\n",
      "\n",
      "state :  READY\n",
      "name :  Si\n",
      "created_on :  2018-08-02 20:16:46.124000\n",
      "updated_on :  2018-08-02 20:16:46.124000\n",
      "states :  OrderedDict([('Si-structure optimization--3', 'READY')])\n",
      "launch_dirs :  OrderedDict([('Si-structure optimization--3', [])])\n",
      "\n",
      "\n"
     ]
    }
   ],
   "source": [
    "# Lets get workflows\n",
    "\n",
    "def get_wflows(query = None):\n",
    "    \n",
    "    # Clever way to have default arguments in python\n",
    "    query = query if query else {}\n",
    "    \n",
    "    for wf_id in lp.get_wf_ids():\n",
    "        for k,v in lp.get_wf_summary_dict(wf_id).items():\n",
    "            print(k, \": \",v)\n",
    "        print(\"\\n\")\n",
    "\n",
    "get_wflows()"
   ]
  },
  {
   "cell_type": "markdown",
   "metadata": {},
   "source": [
    "This is how you get workflow information on the command line"
   ]
  },
  {
   "cell_type": "code",
   "execution_count": 47,
   "metadata": {},
   "outputs": [
    {
     "name": "stdout",
     "output_type": "stream",
     "text": [
      "[\r\n",
      "    {\r\n",
      "        \"state\": \"FIZZLED\",\r\n",
      "        \"name\": \"Si--1\",\r\n",
      "        \"created_on\": \"2018-08-02T18:33:07.796000\",\r\n",
      "        \"states_list\": \"F\"\r\n",
      "    },\r\n",
      "    {\r\n",
      "        \"state\": \"COMPLETED\",\r\n",
      "        \"name\": \"Si--2\",\r\n",
      "        \"created_on\": \"2018-08-02T19:33:39.942000\",\r\n",
      "        \"states_list\": \"C\"\r\n",
      "    },\r\n",
      "    {\r\n",
      "        \"state\": \"READY\",\r\n",
      "        \"name\": \"Si--3\",\r\n",
      "        \"created_on\": \"2018-08-02T20:16:46.124000\",\r\n",
      "        \"states_list\": \"REA\"\r\n",
      "    }\r\n",
      "]\r\n"
     ]
    }
   ],
   "source": [
    "!lpad get_wflows"
   ]
  },
  {
   "cell_type": "code",
   "execution_count": 48,
   "metadata": {
    "scrolled": true
   },
   "outputs": [
    {
     "name": "stdout",
     "output_type": "stream",
     "text": [
      "fw_id :  1\n",
      "updated_on :  2018-08-02T18:47:17.124985\n",
      "state :  FIZZLED\n",
      "name :  Si-structure optimization\n",
      "\n",
      "\n",
      "fw_id :  2\n",
      "updated_on :  2018-08-02T19:34:10.120443\n",
      "state :  COMPLETED\n",
      "name :  Si-structure optimization\n",
      "\n",
      "\n",
      "fw_id :  3\n",
      "updated_on :  2018-08-02T20:16:51.878206\n",
      "state :  READY\n",
      "name :  Si-structure optimization\n",
      "\n",
      "\n"
     ]
    }
   ],
   "source": [
    "def get_fws():\n",
    "    for fw_id in lp.get_fw_ids():\n",
    "        fw = lp.get_fw_dict_by_id(fw_id)\n",
    "        for prop in [\"fw_id\",\"updated_on\",\"state\",\"name\"]:\n",
    "            print(prop, \": \",fw[prop])\n",
    "\n",
    "        print(\"\\n\")\n",
    "        \n",
    "get_fws()"
   ]
  },
  {
   "cell_type": "markdown",
   "metadata": {},
   "source": [
    "This command line gets you the same information"
   ]
  },
  {
   "cell_type": "code",
   "execution_count": 49,
   "metadata": {
    "scrolled": false
   },
   "outputs": [
    {
     "name": "stdout",
     "output_type": "stream",
     "text": [
      "[\r\n",
      "    {\r\n",
      "        \"fw_id\": 1,\r\n",
      "        \"created_on\": \"2018-08-02T18:33:07.796299\",\r\n",
      "        \"updated_on\": \"2018-08-02T18:47:17.124985\",\r\n",
      "        \"state\": \"FIZZLED\",\r\n",
      "        \"name\": \"Si-structure optimization\"\r\n",
      "    },\r\n",
      "    {\r\n",
      "        \"fw_id\": 2,\r\n",
      "        \"created_on\": \"2018-08-02T19:33:39.942125\",\r\n",
      "        \"updated_on\": \"2018-08-02T19:34:10.120443\",\r\n",
      "        \"state\": \"COMPLETED\",\r\n",
      "        \"name\": \"Si-structure optimization\"\r\n",
      "    },\r\n",
      "    {\r\n",
      "        \"fw_id\": 3,\r\n",
      "        \"created_on\": \"2018-08-02T20:16:46.124309\",\r\n",
      "        \"updated_on\": \"2018-08-02T20:16:51.878206\",\r\n",
      "        \"state\": \"READY\",\r\n",
      "        \"name\": \"Si-structure optimization\"\r\n",
      "    }\r\n",
      "]\r\n"
     ]
    }
   ],
   "source": [
    "!lpad get_fws"
   ]
  },
  {
   "cell_type": "code",
   "execution_count": 50,
   "metadata": {},
   "outputs": [
    {
     "name": "stdout",
     "output_type": "stream",
     "text": [
      "usage: lpad get_fws [-h] [-i FW_ID [FW_ID ...]] [-n NAME]\r\n",
      "                    [-s {ARCHIVED,FIZZLED,DEFUSED,PAUSED,WAITING,READY,RESERVED,RUNNING,COMPLETED}]\r\n",
      "                    [-q QUERY] [-lm] [--qid QID]\r\n",
      "                    [-d {all,more,less,ids,count,reservations}] [-m MAX]\r\n",
      "                    [--sort {created_on,updated_on}]\r\n",
      "                    [--rsort {created_on,updated_on}]\r\n",
      "\r\n",
      "optional arguments:\r\n",
      "  -h, --help            show this help message and exit\r\n",
      "  -i FW_ID [FW_ID ...], --fw_id FW_ID [FW_ID ...]\r\n",
      "                        fw_id\r\n",
      "  -n NAME, --name NAME  get FWs with this name\r\n",
      "  -s {ARCHIVED,FIZZLED,DEFUSED,PAUSED,WAITING,READY,RESERVED,RUNNING,COMPLETED}, --state {ARCHIVED,FIZZLED,DEFUSED,PAUSED,WAITING,READY,RESERVED,RUNNING,COMPLETED}\r\n",
      "                        Select by state.\r\n",
      "  -q QUERY, --query QUERY\r\n",
      "                        Query (enclose pymongo-style dict in single-quotes,\r\n",
      "                        e.g. '{\"state\":\"COMPLETED\"}')\r\n",
      "  -lm, --launches_mode  Query the launches collection (enclose pymongo-style\r\n",
      "                        dict in single-quotes, e.g. '{\"launch_id\": 1}')\r\n",
      "  --qid QID             Query by reservation id of job in queue\r\n",
      "  -d {all,more,less,ids,count,reservations}, --display_format {all,more,less,ids,count,reservations}\r\n",
      "                        Display format.\r\n",
      "  -m MAX, --max MAX     limit results\r\n",
      "  --sort {created_on,updated_on}\r\n",
      "                        Sort results\r\n",
      "  --rsort {created_on,updated_on}\r\n",
      "                        Reverse sort results\r\n"
     ]
    }
   ],
   "source": [
    "# Let's look at what this command can do:\n",
    "!lpad get_fws --help"
   ]
  },
  {
   "cell_type": "markdown",
   "metadata": {},
   "source": [
    "# Now lets run this workflow\n",
    "\n",
    "\n",
    "There are a few different ways to run a workflow. The first is to just run it within this notebook directly."
   ]
  },
  {
   "cell_type": "code",
   "execution_count": 34,
   "metadata": {
    "collapsed": true
   },
   "outputs": [],
   "source": [
    "from fireworks.core.rocket_launcher import launch_rocket"
   ]
  },
  {
   "cell_type": "code",
   "execution_count": 57,
   "metadata": {},
   "outputs": [],
   "source": [
    "# Lets move into a temporary working directory\n",
    "import os\n",
    "\n",
    "os.mkdir(\"temp\")\n",
    "os.chdir(\"temp\")"
   ]
  },
  {
   "cell_type": "code",
   "execution_count": 58,
   "metadata": {},
   "outputs": [
    {
     "name": "stdout",
     "output_type": "stream",
     "text": [
      "2018-08-02 13:18:08,462 INFO Launching Rocket\n",
      "2018-08-02 13:18:08,485 INFO RUNNING fw_id: 3 in directory: /Users/shyamd/Dropbox/Projects/2018 - MP Workshop/workshop-2018/lessons/atomate/temp\n",
      "2018-08-02 13:18:08,494 INFO Task started: FileWriteTask.\n",
      "2018-08-02 13:18:08,496 INFO Task completed: FileWriteTask \n",
      "2018-08-02 13:18:08,499 INFO Task started: {{atomate.vasp.firetasks.write_inputs.WriteVaspFromIOSet}}.\n",
      "2018-08-02 13:18:08,509 INFO Task completed: {{atomate.vasp.firetasks.write_inputs.WriteVaspFromIOSet}} \n",
      "2018-08-02 13:18:08,513 INFO Task started: {{atomate.vasp.firetasks.run_calc.RunVaspFake}}.\n",
      "2018-08-02 13:18:08,533 INFO atomate.vasp.firetasks.run_calc RunVaspFake: verified inputs successfully\n",
      "2018-08-02 13:18:08,558 INFO atomate.vasp.firetasks.run_calc RunVaspFake: ran fake VASP, generated outputs\n",
      "2018-08-02 13:18:08,560 INFO Task completed: {{atomate.vasp.firetasks.run_calc.RunVaspFake}} \n",
      "2018-08-02 13:18:08,565 INFO Task started: {{atomate.common.firetasks.glue_tasks.PassCalcLocs}}.\n",
      "2018-08-02 13:18:08,567 INFO Task completed: {{atomate.common.firetasks.glue_tasks.PassCalcLocs}} \n",
      "2018-08-02 13:18:08,571 INFO Task started: {{atomate.vasp.firetasks.parse_outputs.VaspToDb}}.\n",
      "2018-08-02 13:18:08,572 INFO atomate.vasp.firetasks.parse_outputs PARSING DIRECTORY: /Users/shyamd/Dropbox/Projects/2018 - MP Workshop/workshop-2018/lessons/atomate/temp\n",
      "2018-08-02 13:18:08,574 INFO atomate.vasp.drones Getting task doc for base dir :/Users/shyamd/Dropbox/Projects/2018 - MP Workshop/workshop-2018/lessons/atomate/temp\n"
     ]
    },
    {
     "name": "stderr",
     "output_type": "stream",
     "text": [
      "/Users/shyamd/codes/pymatgen/pymatgen/command_line/bader_caller.py:392: UserWarning: Could not find AECCAR0, interpret Bader results with caution.\n",
      "  warnings.warn(warning)\n",
      "/Users/shyamd/codes/pymatgen/pymatgen/command_line/bader_caller.py:392: UserWarning: Could not find AECCAR2, interpret Bader results with caution.\n",
      "  warnings.warn(warning)\n"
     ]
    },
    {
     "name": "stdout",
     "output_type": "stream",
     "text": [
      "2018-08-02 13:18:13,123 INFO atomate.vasp.drones Post-processing dir:/Users/shyamd/Dropbox/Projects/2018 - MP Workshop/workshop-2018/lessons/atomate/temp\n",
      "2018-08-02 13:18:13,125 WARNING atomate.vasp.drones Transformations file does not exist.\n",
      "2018-08-02 13:18:13,128 INFO atomate.vasp.drones Post-processed /Users/shyamd/Dropbox/Projects/2018 - MP Workshop/workshop-2018/lessons/atomate/temp\n",
      "2018-08-02 13:18:13,132 INFO Task completed: {{atomate.vasp.firetasks.parse_outputs.VaspToDb}} \n",
      "2018-08-02 13:18:13,152 INFO Rocket finished\n"
     ]
    },
    {
     "data": {
      "text/plain": [
       "True"
      ]
     },
     "execution_count": 58,
     "metadata": {},
     "output_type": "execute_result"
    }
   ],
   "source": [
    "launch_rocket(lp)"
   ]
  },
  {
   "cell_type": "code",
   "execution_count": null,
   "metadata": {
    "collapsed": true
   },
   "outputs": [],
   "source": []
  },
  {
   "cell_type": "markdown",
   "metadata": {},
   "source": [
    "Now, lets see how that changed our fireworks"
   ]
  },
  {
   "cell_type": "code",
   "execution_count": null,
   "metadata": {
    "collapsed": true,
    "scrolled": true
   },
   "outputs": [],
   "source": [
    "!lpad get_fws"
   ]
  },
  {
   "cell_type": "markdown",
   "metadata": {},
   "source": [
    "This let me run a single firework in the notebook. What if I wanted to run multiple fireworks? First lets reset the old firework and add some more workflows to our database"
   ]
  },
  {
   "cell_type": "code",
   "execution_count": 17,
   "metadata": {
    "collapsed": true
   },
   "outputs": [],
   "source": [
    "# Let's use the python to rerun those fireworks\n",
    "for fw_id in lp.get_fw_ids():\n",
    "    lp.rerun_fw(fw_id)\n",
    "    "
   ]
  },
  {
   "cell_type": "code",
   "execution_count": null,
   "metadata": {
    "collapsed": true
   },
   "outputs": [],
   "source": [
    "# We can do the same thing using the command line:\n",
    "!lpad rerun_fws "
   ]
  },
  {
   "cell_type": "code",
   "execution_count": null,
   "metadata": {
    "collapsed": true
   },
   "outputs": [],
   "source": [
    "!lpad get_fws"
   ]
  },
  {
   "cell_type": "code",
   "execution_count": null,
   "metadata": {
    "collapsed": true
   },
   "outputs": [],
   "source": [
    "# Let's add the workflow a few more times to have multiple fireworks in database\n",
    "lp.add_wf(wf)\n",
    "lp.add_wf(wf)"
   ]
  },
  {
   "cell_type": "markdown",
   "metadata": {},
   "source": [
    "We can run all of the available fireworks using a 2 lines of python and a single command:"
   ]
  },
  {
   "cell_type": "code",
   "execution_count": null,
   "metadata": {
    "collapsed": true
   },
   "outputs": [],
   "source": [
    "from fireworks.core.rocket_launcher import rapidfire\n",
    "rapidfire(lp)"
   ]
  },
  {
   "cell_type": "markdown",
   "metadata": {},
   "source": [
    "This let us run fireworks until we no longer had any to run. But we're still running fireworks in our jupyter notebook. If I want to run on this on another machine I need to do something else. Normally, we would want to launch these jobs to our supercomputing queue and let that run them as resources become available. "
   ]
  },
  {
   "cell_type": "markdown",
   "metadata": {},
   "source": [
    "### Using the queue launcher:\n",
    "\n",
    "Setting up the queue launcher unfortunately takes some work. There are configuration files to tell atomate how to submit jobs, where the database is and what special parameters to use for this supercomputer. \n",
    "\n",
    "This has all been setup for you in this workshop. Once setup, to use the queue, we simply launch the fireworks to the queue."
   ]
  },
  {
   "cell_type": "code",
   "execution_count": null,
   "metadata": {
    "collapsed": true
   },
   "outputs": [],
   "source": [
    "!qlaunch rapidfire"
   ]
  },
  {
   "cell_type": "markdown",
   "metadata": {},
   "source": [
    "Now, the supercomputer will take care of running the jobs and eventually we can test to see that they are working"
   ]
  },
  {
   "cell_type": "code",
   "execution_count": null,
   "metadata": {
    "collapsed": true
   },
   "outputs": [],
   "source": [
    "!lpad get_fws"
   ]
  }
 ],
 "metadata": {
  "kernelspec": {
   "display_name": "Python 3",
   "language": "python",
   "name": "python3"
  },
  "language_info": {
   "codemirror_mode": {
    "name": "ipython",
    "version": 3
   },
   "file_extension": ".py",
   "mimetype": "text/x-python",
   "name": "python",
   "nbconvert_exporter": "python",
   "pygments_lexer": "ipython3",
   "version": "3.6.1"
  }
 },
 "nbformat": 4,
 "nbformat_minor": 2
}
