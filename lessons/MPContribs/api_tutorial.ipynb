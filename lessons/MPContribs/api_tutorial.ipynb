{
 "cells": [
  {
   "cell_type": "markdown",
   "metadata": {},
   "source": [
    "# MPContribs API Tutorial\n",
    "\n",
    "- documentation of API resources and operations at https://mpcontribs.org/api/\n",
    "- try JSON requests & responses in the browser at https://api.mpcontribs.org/\n",
    "    * demo API key authorization and simple projects request (API key from MPContribs Dashboard)\n",
    "    * simple contributions request (`content.data`)\n",
    "    * embeddable contribution cards\n",
    "\n",
    "## mpcontribs-client\n",
    "\n",
    "use [mpcontribs-client](https://pypi.org/project/mpcontribs-client/) library to retrieve data using `python`:"
   ]
  },
  {
   "cell_type": "code",
   "execution_count": null,
   "metadata": {},
   "outputs": [],
   "source": [
    "from mpcontribs.client import load_client\n",
    "api_key = 'your-api-key-here'\n",
    "client = load_client(api_key)"
   ]
  },
  {
   "cell_type": "markdown",
   "metadata": {},
   "source": [
    "explore available resources and operations:"
   ]
  },
  {
   "cell_type": "code",
   "execution_count": null,
   "metadata": {},
   "outputs": [],
   "source": [
    "dir(client)\n",
    "dir(client.projects)"
   ]
  },
  {
   "cell_type": "markdown",
   "metadata": {},
   "source": [
    "## project info"
   ]
  },
  {
   "cell_type": "code",
   "execution_count": null,
   "metadata": {},
   "outputs": [],
   "source": [
    "project = 'redox_thermo_csp'\n",
    "client.projects.get_entry(project=project)"
   ]
  }
 ],
 "metadata": {
  "kernelspec": {
   "display_name": "Python 3",
   "language": "python",
   "name": "python3"
  },
  "language_info": {
   "codemirror_mode": {
    "name": "ipython",
    "version": 3
   },
   "file_extension": ".py",
   "mimetype": "text/x-python",
   "name": "python",
   "nbconvert_exporter": "python",
   "pygments_lexer": "ipython3",
   "version": "3.7.3"
  }
 },
 "nbformat": 4,
 "nbformat_minor": 2
}
